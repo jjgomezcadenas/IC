{
 "cells": [
  {
   "cell_type": "markdown",
   "metadata": {},
   "source": [
    "# Errors in Calibration"
   ]
  },
  {
   "cell_type": "markdown",
   "metadata": {},
   "source": [
    "This notebook is meant to show the fit errors as an extra output"
   ]
  },
  {
   "cell_type": "code",
   "execution_count": 1,
   "metadata": {
    "collapsed": true
   },
   "outputs": [],
   "source": [
    "from __future__ import print_function"
   ]
  },
  {
   "cell_type": "markdown",
   "metadata": {},
   "source": [
    "### Revision"
   ]
  },
  {
   "cell_type": "code",
   "execution_count": 2,
   "metadata": {
    "collapsed": false
   },
   "outputs": [
    {
     "name": "stdout",
     "output_type": "stream",
     "text": [
      "07/11/2016   20:44:00\n"
     ]
    }
   ],
   "source": [
    "import time\n",
    "print(time.strftime(\"%d/%m/%Y\"),' ',time.strftime(\"%H:%M:%S\"))"
   ]
  },
  {
   "cell_type": "markdown",
   "metadata": {},
   "source": [
    "### Dependencies"
   ]
  },
  {
   "cell_type": "code",
   "execution_count": 3,
   "metadata": {
    "collapsed": false
   },
   "outputs": [],
   "source": [
    "%matplotlib inline\n",
    "%load_ext autoreload\n",
    "%autoreload 2"
   ]
  },
  {
   "cell_type": "code",
   "execution_count": 4,
   "metadata": {
    "collapsed": true
   },
   "outputs": [],
   "source": [
    "import numpy as np\n",
    "import tables\n",
    "import pandas as pd\n",
    "import time"
   ]
  },
  {
   "cell_type": "code",
   "execution_count": 5,
   "metadata": {
    "collapsed": true
   },
   "outputs": [],
   "source": [
    "import matplotlib\n",
    "import matplotlib.pyplot as plt\n",
    "from matplotlib.mlab import griddata\n",
    "matplotlib.style.use('ggplot')"
   ]
  },
  {
   "cell_type": "code",
   "execution_count": 6,
   "metadata": {
    "collapsed": false
   },
   "outputs": [
    {
     "name": "stdout",
     "output_type": "stream",
     "text": [
      "/home/brais/Documents/root/lib\n"
     ]
    }
   ],
   "source": [
    "pp = %env PYTHONPATH\n",
    "print(pp)\n",
    "#from Nh5 import *"
   ]
  },
  {
   "cell_type": "markdown",
   "metadata": {},
   "source": [
    "### DB  "
   ]
  },
  {
   "cell_type": "code",
   "execution_count": 7,
   "metadata": {
    "collapsed": false
   },
   "outputs": [],
   "source": [
    "icdat = './../../files/Kr/'\n",
    "ifdat = 'in0.h5'\n",
    "h5in =tables.open_file(icdat+ifdat,'a')"
   ]
  },
  {
   "cell_type": "code",
   "execution_count": 8,
   "metadata": {
    "collapsed": false
   },
   "outputs": [
    {
     "name": "stdout",
     "output_type": "stream",
     "text": [
      "number of events 100, number of sipms 1789, wf length 800\n",
      "DB for a SIPM index 0, (1000, 1, [-235.0, 45.0, -10000.0], 1.0, 15.5)\n",
      "h5index of sensor id [1000]=0\n",
      "position of sensor id 1000 = [  -235.     45. -10000.]\n"
     ]
    }
   ],
   "source": [
    "# the sipm raw data table (all events)\n",
    "sipmrd = h5in.root.sipmrd\n",
    "# number of events, sipms, and w.f.length\n",
    "nevts,nsipms,nshapes = sipmrd.shape[0],sipmrd.shape[1],sipmrd.shape[2]\n",
    "print('number of events {}, number of sipms {}, wf length {}'.format(nevts,nsipms,nshapes))\n",
    "\n",
    "# DB position of the (ordered) SiPMs \n",
    "sipmdb = h5in.root.Sensors.DataSiPM\n",
    "print('DB for a SIPM index {}, {}'.format(0,sipmdb[0]))\n",
    "h5index_of_sensorid = {sipmdb[i][0] : i for i in range(nsipms) }\n",
    "i0 = sipmdb[0][0]\n",
    "print('h5index of sensor id [{}]={}'.format(i0,h5index_of_sensorid[i0]))\n",
    "\n",
    "def sipm_position_of_sensorid(senid):\n",
    "    if (not h5index_of_sensorid.has_key(senid)): return [-200.,-200,0.]\n",
    "    h5index = h5index_of_sensorid[senid]\n",
    "    pos = sipmdb[h5index][2]\n",
    "    return pos\n",
    "\n",
    "senid=1000\n",
    "pos = sipm_position_of_sensorid(senid)\n",
    "print('position of sensor id {} = {}'.format(senid,pos))"
   ]
  },
  {
   "cell_type": "markdown",
   "metadata": {},
   "source": [
    "### SiPM calibration data"
   ]
  },
  {
   "cell_type": "code",
   "execution_count": 9,
   "metadata": {
    "collapsed": false
   },
   "outputs": [],
   "source": [
    "indir = './../../files/Calib/'\n",
    "irun='2105'\n",
    "infile = 'sipmCal_singlePulse_R'+irun"
   ]
  },
  {
   "cell_type": "code",
   "execution_count": 33,
   "metadata": {
    "collapsed": false
   },
   "outputs": [
    {
     "name": "stdout",
     "output_type": "stream",
     "text": [
      "loaded calibration data from file ./../../files/Calib/sipmCal_singlePulse_R2105_led.txt\n",
      "number of sensors with data 1792\n",
      "loaded calibration data from file ./../../files/Calib/sipmCal_singlePulse_R2105_dark.txt\n",
      "number of sensors with data 1792\n"
     ]
    }
   ],
   "source": [
    "# input calibration data: dark current and led\n",
    "import calib as sc\n",
    "called = sc.CalData(indir+infile+'_led.txt')\n",
    "caldark = sc.CalData(indir+infile+'_dark.txt')"
   ]
  },
  {
   "cell_type": "code",
   "execution_count": 34,
   "metadata": {
    "collapsed": true
   },
   "outputs": [],
   "source": [
    "def position_of_indexes(indexes):\n",
    "    senids = map(sc.sipm_sensorid_of_index,indexes)\n",
    "    pos = map(sipm_position_of_sensorid,senids)\n",
    "    return np.array(pos)"
   ]
  },
  {
   "cell_type": "code",
   "execution_count": 35,
   "metadata": {
    "collapsed": true
   },
   "outputs": [],
   "source": [
    "# take the reference values\n",
    "xbins = called.xbins\n",
    "indexes = called.indexes\n",
    "positions = position_of_indexes(indexes)"
   ]
  },
  {
   "cell_type": "markdown",
   "metadata": {},
   "source": [
    "# Calibration"
   ]
  },
  {
   "cell_type": "markdown",
   "metadata": {},
   "source": [
    "### calibration to ngaussians"
   ]
  },
  {
   "cell_type": "code",
   "execution_count": 66,
   "metadata": {
    "collapsed": false
   },
   "outputs": [
    {
     "name": "stdout",
     "output_type": "stream",
     "text": [
      "chi2: \n",
      " [25.867812662452952] \n",
      "pss: \n",
      " [array([  1.31030416e-01,   1.58488712e+01,   2.03818057e+00,\n",
      "         1.85053551e+00,   2.27955462e+03,   5.50418731e+03,\n",
      "         7.14654430e+03,   6.27587435e+03,   4.34346434e+03])] \n",
      "cov: \n",
      " [[  3.71266556e-02  -1.54587502e-02   4.22463135e-03  -2.58581298e-03\n",
      "    1.57324785e+00   1.30080328e+00  -1.47009508e+00  -2.69779141e+00\n",
      "    1.04737225e+00]\n",
      " [ -1.54587502e-02   1.06129154e-02  -9.53517713e-04   8.50058726e-04\n",
      "   -5.10498423e-01  -9.53024731e-02   1.18439434e+00   1.71864736e+00\n",
      "   -2.09591617e+00]\n",
      " [  4.22463135e-03  -9.53517713e-04   3.09532234e-02  -1.61890483e-02\n",
      "    5.52274472e+00   7.68417753e-01   3.63780106e-01  -7.22344667e-01\n",
      "   -3.01258016e+00]\n",
      " [ -2.58581298e-03   8.50058726e-04  -1.61890483e-02   1.58887492e-02\n",
      "   -2.91130513e+00  -6.65844947e-01  -2.23720908e-01   8.45478467e-01\n",
      "    3.59158838e+00]\n",
      " [  1.57324785e+00  -5.10498423e-01   5.52274472e+00  -2.91130513e+00\n",
      "    6.76376108e+04   1.44314682e+02   3.15545763e+01  -1.87487643e+02\n",
      "   -5.10194803e+02]\n",
      " [  1.30080328e+00  -9.53024731e-02   7.68417753e-01  -6.65844947e-01\n",
      "    1.44314682e+02   1.57436663e+05  -9.78513496e+02  -3.68026946e+01\n",
      "   -2.67978882e+02]\n",
      " [ -1.47009508e+00   1.18439434e+00   3.63780106e-01  -2.23720908e-01\n",
      "    3.15545763e+01  -9.78513496e+02   2.06579203e+05  -3.66303854e+03\n",
      "   -2.11741987e+02]\n",
      " [ -2.69779141e+00   1.71864736e+00  -7.22344667e-01   8.45478467e-01\n",
      "   -1.87487643e+02  -3.68026946e+01  -3.66303854e+03   1.88446815e+05\n",
      "   -5.90478919e+03]\n",
      " [  1.04737225e+00  -2.09591617e+00  -3.01258016e+00   3.59158838e+00\n",
      "   -5.10194803e+02  -2.67978882e+02  -2.11741987e+02  -5.90478919e+03\n",
      "    1.33784970e+05]] \n"
     ]
    }
   ],
   "source": [
    "id = indexes[30]\n",
    "chi2,pss, cov = sc.cal_fit_ngauss(called, [id, ], ngauss=7)\n",
    "print('chi2: \\n {} \\npss: \\n {} \\ncov: \\n {} '.format(chi2, pss, cov))"
   ]
  },
  {
   "cell_type": "code",
   "execution_count": 67,
   "metadata": {
    "collapsed": false
   },
   "outputs": [
    {
     "data": {
      "text/plain": [
       "[<matplotlib.lines.Line2D at 0x7f47d2ccd2d0>]"
      ]
     },
     "execution_count": 67,
     "metadata": {},
     "output_type": "execute_result"
    },
    {
     "data": {
      "image/png": "[encoded data removed]",
      "text/plain": [
       "<matplotlib.figure.Figure at 0x7f47d6fc1fd0>"
      ]
     },
     "metadata": {},
     "output_type": "display_data"
    }
   ],
   "source": [
    "xs, ys = called.xbins, called.values[id]\n",
    "\n",
    "#fig, axes = plt.subplots(2,1)\n",
    "plt.plot(xs,ys)\n",
    "\n",
    "ps = pss[0]\n",
    "ffun = sc.ffun_ngauss\n",
    "fys =ffun(ps,xs)\n",
    "plt.plot(xs,fys)"
   ]
  },
  {
   "cell_type": "code",
   "execution_count": 58,
   "metadata": {
    "collapsed": false
   },
   "outputs": [
    {
     "name": "stdout",
     "output_type": "stream",
     "text": [
      "p_0 =  0.0455758273194  +-  0.0478968661757\n",
      "p_1 =  15.8141619494  +-  0.054477870936\n",
      "p_2 =  1.60953169562  +-  0.0399496816264\n",
      "p_3 =  1.65857940449  +-  0.0665443262668\n",
      "p_4 =  11260.418941  +-  343.955986177\n",
      "p_5 =  9994.85196449  +-  326.118713558\n",
      "p_6 =  4837.34583265  +-  231.325071185\n",
      "p_7 =  1761.40076421  +-  145.307316037\n",
      "p_8 =  545.320348538  +-  86.9124968625\n"
     ]
    }
   ],
   "source": [
    "# Parameters and errors:\n",
    "for i, p, var in zip(range(len(ps)),ps,np.diag(cov)):\n",
    "    print(\"p_\"+str(i)+\" = \", p, \" +- \" , var**0.5 )"
   ]
  },
  {
   "cell_type": "markdown",
   "metadata": {},
   "source": [
    "### calibration to poisson and ngaussians"
   ]
  },
  {
   "cell_type": "code",
   "execution_count": 68,
   "metadata": {
    "collapsed": false
   },
   "outputs": [
    {
     "name": "stdout",
     "output_type": "stream",
     "text": [
      "chi2: \n",
      " [4.5150764542344177] \n",
      "pss: \n",
      " [array([  2.94035350e+04,   1.30513847e-01,   1.58332431e+01,\n",
      "         2.65653859e+00,   2.05130427e+00,   1.79587660e+00])] \n",
      "cov: \n",
      " [[  1.51796241e+05  -1.45268341e-01   5.13311758e-02   7.99430666e-01\n",
      "    3.45440971e-01   2.12250198e-01]\n",
      " [ -1.45268341e-01   6.77065393e-03  -2.64971229e-03  -2.32362511e-05\n",
      "    7.42363625e-04  -4.33714903e-04]\n",
      " [  5.13311758e-02  -2.64971229e-03   1.65721262e-03  -2.83714455e-05\n",
      "   -1.39296606e-04   1.22982002e-04]\n",
      " [  7.99430666e-01  -2.32362511e-05  -2.83714455e-05   6.07901189e-04\n",
      "   -1.42237169e-04   8.55833630e-05]\n",
      " [  3.45440971e-01   7.42363625e-04  -1.39296606e-04  -1.42237169e-04\n",
      "    5.75847711e-03  -2.83686088e-03]\n",
      " [  2.12250198e-01  -4.33714903e-04   1.22982002e-04   8.55833630e-05\n",
      "   -2.83686088e-03   2.48639281e-03]] \n"
     ]
    }
   ],
   "source": [
    "id = indexes[30]\n",
    "chi2,pss, cov = sc.cal_fit_poissongauss(called,[id],ngauss=7)\n",
    "print('chi2: \\n {} \\npss: \\n {} \\ncov: \\n {} '.format(chi2, pss, cov))\n",
    "\n",
    "\n"
   ]
  },
  {
   "cell_type": "code",
   "execution_count": 69,
   "metadata": {
    "collapsed": false
   },
   "outputs": [
    {
     "data": {
      "text/plain": [
       "[<matplotlib.lines.Line2D at 0x7f47d0398c50>]"
      ]
     },
     "execution_count": 69,
     "metadata": {},
     "output_type": "execute_result"
    },
    {
     "data": {
      "image/png": "[encoded data removed]",
      "text/plain": [
       "<matplotlib.figure.Figure at 0x7f47d0398850>"
      ]
     },
     "metadata": {},
     "output_type": "display_data"
    }
   ],
   "source": [
    "xs, ys = called.xbins, called.values[id]\n",
    "\n",
    "#fig, axes = plt.subplots(2,1)\n",
    "plt.plot(xs,ys)\n",
    "\n",
    "ps = pss[0]\n",
    "ffun = sc.ffun_poissongauss\n",
    "fys =ffun(ps,xs)\n",
    "plt.plot(xs,fys)"
   ]
  },
  {
   "cell_type": "code",
   "execution_count": 64,
   "metadata": {
    "collapsed": false
   },
   "outputs": [
    {
     "name": "stdout",
     "output_type": "stream",
     "text": [
      "p_0 =  28373.4544414  +-  551.692948202\n",
      "p_1 =  0.0445987823948  +-  0.0494804293759\n",
      "p_2 =  15.8177155215  +-  0.0555850778911\n",
      "p_3 =  0.961417254134  +-  0.0205570517429\n",
      "p_4 =  1.60878364884  +-  0.0412972185599\n",
      "p_5 =  1.64683391875  +-  0.0664774239493\n"
     ]
    }
   ],
   "source": [
    "# Parameters and errors:\n",
    "for i, p, var in zip(range(len(ps)),ps,np.diag(cov)):\n",
    "    print(\"p_\"+str(i)+\" = \", p, \" +- \" , var**0.5 )"
   ]
  },
  {
   "cell_type": "code",
   "execution_count": null,
   "metadata": {
    "collapsed": false
   },
   "outputs": [],
   "source": []
  },
  {
   "cell_type": "code",
   "execution_count": null,
   "metadata": {
    "collapsed": true
   },
   "outputs": [],
   "source": []
  }
 ],
 "metadata": {
  "anaconda-cloud": {},
  "kernelspec": {
   "display_name": "Python [Root]",
   "language": "python",
   "name": "Python [Root]"
  },
  "language_info": {
   "codemirror_mode": {
    "name": "ipython",
    "version": 2
   },
   "file_extension": ".py",
   "mimetype": "text/x-python",
   "name": "python",
   "nbconvert_exporter": "python",
   "pygments_lexer": "ipython2",
   "version": "2.7.12"
  }
 },
 "nbformat": 4,
 "nbformat_minor": 0
}
