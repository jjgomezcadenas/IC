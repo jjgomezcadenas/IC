{
 "cells": [
  {
   "cell_type": "markdown",
   "metadata": {},
   "source": [
    "# PMT calibration\n",
    "\n",
    "Notebook to calibrate the PMTs\n",
    "\n",
    "* Read the histograms\n",
    "* Calibration using poisson+gauss\n",
    "  * Plots the distribution and the fit\n",
    "  * Write parameters into hdf5 and csv\n",
    "* Compare results with the DB  \n",
    "  \n",
    "Author: J.A. Hernando\n",
    "\n",
    "version: v02"
   ]
  },
  {
   "cell_type": "code",
   "execution_count": 1,
   "metadata": {
    "collapsed": true
   },
   "outputs": [],
   "source": [
    "from __future__ import print_function"
   ]
  },
  {
   "cell_type": "markdown",
   "metadata": {},
   "source": [
    "### Revision"
   ]
  },
  {
   "cell_type": "code",
   "execution_count": 2,
   "metadata": {
    "collapsed": false
   },
   "outputs": [
    {
     "name": "stdout",
     "output_type": "stream",
     "text": [
      "22/11/2016   14:49:34\n"
     ]
    }
   ],
   "source": [
    "import time\n",
    "print(time.strftime(\"%d/%m/%Y\"),' ',time.strftime(\"%H:%M:%S\"))"
   ]
  },
  {
   "cell_type": "markdown",
   "metadata": {},
   "source": [
    "### Dependencies"
   ]
  },
  {
   "cell_type": "code",
   "execution_count": 3,
   "metadata": {
    "collapsed": false
   },
   "outputs": [],
   "source": [
    "%matplotlib inline\n",
    "%load_ext autoreload\n",
    "%autoreload 2"
   ]
  },
  {
   "cell_type": "code",
   "execution_count": 4,
   "metadata": {
    "collapsed": true
   },
   "outputs": [],
   "source": [
    "import numpy as np\n",
    "import tables\n",
    "import pandas as pd\n",
    "import time"
   ]
  },
  {
   "cell_type": "code",
   "execution_count": 5,
   "metadata": {
    "collapsed": true
   },
   "outputs": [],
   "source": [
    "import matplotlib\n",
    "import matplotlib.pyplot as plt\n",
    "from matplotlib.mlab import griddata\n",
    "matplotlib.style.use('ggplot')"
   ]
  },
  {
   "cell_type": "code",
   "execution_count": 6,
   "metadata": {
    "collapsed": false
   },
   "outputs": [
    {
     "name": "stdout",
     "output_type": "stream",
     "text": [
      "/Users/hernando/Investigacion/NEXT/NEXT-Reco/icnew/IC:/Users/hernando/Software/root/lib:/Users/hernando/Investigacion/NEXT/NEXT-Reco/icnew/IC:/Users/hernando/Software/lib:/Users/hernando/Software/lib\n"
     ]
    }
   ],
   "source": [
    "pp = %env PYTHONPATH\n",
    "print(pp)\n",
    "#from Nh5 import *"
   ]
  },
  {
   "cell_type": "markdown",
   "metadata": {},
   "source": [
    "### DB  "
   ]
  },
  {
   "cell_type": "code",
   "execution_count": 7,
   "metadata": {
    "collapsed": false
   },
   "outputs": [
    {
     "data": {
      "text/html": [
       "<div>\n",
       "<table border=\"1\" class=\"dataframe\">\n",
       "  <thead>\n",
       "    <tr style=\"text-align: right;\">\n",
       "      <th></th>\n",
       "      <th>channel</th>\n",
       "      <th>pmtid</th>\n",
       "      <th>active</th>\n",
       "      <th>x</th>\n",
       "      <th>y</th>\n",
       "      <th>coeff_c</th>\n",
       "      <th>coeff_blr</th>\n",
       "      <th>adc_to_pes</th>\n",
       "      <th>noise_rms</th>\n",
       "    </tr>\n",
       "  </thead>\n",
       "  <tbody>\n",
       "    <tr>\n",
       "      <th>0</th>\n",
       "      <td>0</td>\n",
       "      <td>1</td>\n",
       "      <td>1</td>\n",
       "      <td>-23.941401</td>\n",
       "      <td>65.778503</td>\n",
       "      <td>0.000003</td>\n",
       "      <td>0.001632</td>\n",
       "      <td>-22.9168</td>\n",
       "      <td>0.7060</td>\n",
       "    </tr>\n",
       "    <tr>\n",
       "      <th>1</th>\n",
       "      <td>18</td>\n",
       "      <td>3</td>\n",
       "      <td>1</td>\n",
       "      <td>-44.995098</td>\n",
       "      <td>-53.623100</td>\n",
       "      <td>0.000003</td>\n",
       "      <td>0.001632</td>\n",
       "      <td>-23.7510</td>\n",
       "      <td>0.8744</td>\n",
       "    </tr>\n",
       "    <tr>\n",
       "      <th>2</th>\n",
       "      <td>1</td>\n",
       "      <td>2</td>\n",
       "      <td>1</td>\n",
       "      <td>68.936501</td>\n",
       "      <td>-12.155400</td>\n",
       "      <td>0.000003</td>\n",
       "      <td>0.001611</td>\n",
       "      <td>-25.3008</td>\n",
       "      <td>0.7213</td>\n",
       "    </tr>\n",
       "    <tr>\n",
       "      <th>3</th>\n",
       "      <td>19</td>\n",
       "      <td>4</td>\n",
       "      <td>1</td>\n",
       "      <td>0.000000</td>\n",
       "      <td>185.000000</td>\n",
       "      <td>0.000003</td>\n",
       "      <td>0.001599</td>\n",
       "      <td>-25.9984</td>\n",
       "      <td>0.7624</td>\n",
       "    </tr>\n",
       "    <tr>\n",
       "      <th>4</th>\n",
       "      <td>27</td>\n",
       "      <td>C</td>\n",
       "      <td>1</td>\n",
       "      <td>-118.916000</td>\n",
       "      <td>141.718002</td>\n",
       "      <td>0.000003</td>\n",
       "      <td>0.001567</td>\n",
       "      <td>-23.7074</td>\n",
       "      <td>0.7921</td>\n",
       "    </tr>\n",
       "    <tr>\n",
       "      <th>5</th>\n",
       "      <td>26</td>\n",
       "      <td>B</td>\n",
       "      <td>1</td>\n",
       "      <td>-182.188995</td>\n",
       "      <td>32.124901</td>\n",
       "      <td>0.000004</td>\n",
       "      <td>0.001650</td>\n",
       "      <td>-20.8927</td>\n",
       "      <td>0.8660</td>\n",
       "    </tr>\n",
       "    <tr>\n",
       "      <th>6</th>\n",
       "      <td>9</td>\n",
       "      <td>A</td>\n",
       "      <td>1</td>\n",
       "      <td>-160.214996</td>\n",
       "      <td>-92.500000</td>\n",
       "      <td>0.000003</td>\n",
       "      <td>0.001593</td>\n",
       "      <td>-22.1340</td>\n",
       "      <td>0.7062</td>\n",
       "    </tr>\n",
       "    <tr>\n",
       "      <th>7</th>\n",
       "      <td>8</td>\n",
       "      <td>9</td>\n",
       "      <td>1</td>\n",
       "      <td>-63.273701</td>\n",
       "      <td>-173.843002</td>\n",
       "      <td>0.000003</td>\n",
       "      <td>0.001612</td>\n",
       "      <td>-33.0993</td>\n",
       "      <td>0.7278</td>\n",
       "    </tr>\n",
       "    <tr>\n",
       "      <th>8</th>\n",
       "      <td>23</td>\n",
       "      <td>8</td>\n",
       "      <td>1</td>\n",
       "      <td>63.273701</td>\n",
       "      <td>-173.843002</td>\n",
       "      <td>0.000003</td>\n",
       "      <td>0.001601</td>\n",
       "      <td>-20.4377</td>\n",
       "      <td>0.7303</td>\n",
       "    </tr>\n",
       "    <tr>\n",
       "      <th>9</th>\n",
       "      <td>22</td>\n",
       "      <td>7</td>\n",
       "      <td>1</td>\n",
       "      <td>160.214996</td>\n",
       "      <td>-92.500000</td>\n",
       "      <td>0.000003</td>\n",
       "      <td>0.001593</td>\n",
       "      <td>-25.1698</td>\n",
       "      <td>0.7160</td>\n",
       "    </tr>\n",
       "    <tr>\n",
       "      <th>10</th>\n",
       "      <td>5</td>\n",
       "      <td>6</td>\n",
       "      <td>1</td>\n",
       "      <td>182.188995</td>\n",
       "      <td>32.124901</td>\n",
       "      <td>0.000003</td>\n",
       "      <td>0.001575</td>\n",
       "      <td>-15.8557</td>\n",
       "      <td>0.7323</td>\n",
       "    </tr>\n",
       "    <tr>\n",
       "      <th>11</th>\n",
       "      <td>4</td>\n",
       "      <td>5</td>\n",
       "      <td>1</td>\n",
       "      <td>118.916000</td>\n",
       "      <td>141.718002</td>\n",
       "      <td>0.000003</td>\n",
       "      <td>0.001596</td>\n",
       "      <td>-18.2130</td>\n",
       "      <td>0.7206</td>\n",
       "    </tr>\n",
       "  </tbody>\n",
       "</table>\n",
       "</div>"
      ],
      "text/plain": [
       "    channel pmtid  active           x           y   coeff_c  coeff_blr  \\\n",
       "0         0     1       1  -23.941401   65.778503  0.000003   0.001632   \n",
       "1        18     3       1  -44.995098  -53.623100  0.000003   0.001632   \n",
       "2         1     2       1   68.936501  -12.155400  0.000003   0.001611   \n",
       "3        19     4       1    0.000000  185.000000  0.000003   0.001599   \n",
       "4        27     C       1 -118.916000  141.718002  0.000003   0.001567   \n",
       "5        26     B       1 -182.188995   32.124901  0.000004   0.001650   \n",
       "6         9     A       1 -160.214996  -92.500000  0.000003   0.001593   \n",
       "7         8     9       1  -63.273701 -173.843002  0.000003   0.001612   \n",
       "8        23     8       1   63.273701 -173.843002  0.000003   0.001601   \n",
       "9        22     7       1  160.214996  -92.500000  0.000003   0.001593   \n",
       "10        5     6       1  182.188995   32.124901  0.000003   0.001575   \n",
       "11        4     5       1  118.916000  141.718002  0.000003   0.001596   \n",
       "\n",
       "    adc_to_pes  noise_rms  \n",
       "0     -22.9168     0.7060  \n",
       "1     -23.7510     0.8744  \n",
       "2     -25.3008     0.7213  \n",
       "3     -25.9984     0.7624  \n",
       "4     -23.7074     0.7921  \n",
       "5     -20.8927     0.8660  \n",
       "6     -22.1340     0.7062  \n",
       "7     -33.0993     0.7278  \n",
       "8     -20.4377     0.7303  \n",
       "9     -25.1698     0.7160  \n",
       "10    -15.8557     0.7323  \n",
       "11    -18.2130     0.7206  "
      ]
     },
     "execution_count": 7,
     "metadata": {},
     "output_type": "execute_result"
    }
   ],
   "source": [
    "import Database.loadDB as db\n",
    "\n",
    "pmtdb = db.DataPMT()\n",
    "pmtdb"
   ]
  },
  {
   "cell_type": "markdown",
   "metadata": {},
   "source": [
    "### PMT calibration data"
   ]
  },
  {
   "cell_type": "code",
   "execution_count": 8,
   "metadata": {
    "collapsed": false
   },
   "outputs": [],
   "source": [
    "indir='/Users/hernando/Investigacion/NEXT/Data/NEWStar/pmtcalib/161117/'\n",
    "irun='2845'\n",
    "infile='pmtCal_r'+irun"
   ]
  },
  {
   "cell_type": "code",
   "execution_count": 9,
   "metadata": {
    "collapsed": false
   },
   "outputs": [
    {
     "name": "stdout",
     "output_type": "stream",
     "text": [
      "loaded calibration data from file /Users/hernando/Investigacion/NEXT/Data/NEWStar/pmtcalib/161117/pmtCal_r2845_led.txt\n",
      "number of sensors with data 12\n"
     ]
    }
   ],
   "source": [
    "# input calibration data: dark current and led\n",
    "import calib as sc\n",
    "called = sc.CalData(indir+infile+'_led.txt',nsensors=12)\n",
    "#caldark = sc.CalData(indir+infile+'_dark.txt')"
   ]
  },
  {
   "cell_type": "code",
   "execution_count": 10,
   "metadata": {
    "collapsed": true
   },
   "outputs": [],
   "source": [
    "# create pdf file to put the figures\n",
    "from matplotlib.backends.backend_pdf import PdfPages\n",
    "pdf = None"
   ]
  },
  {
   "cell_type": "code",
   "execution_count": 11,
   "metadata": {
    "collapsed": true
   },
   "outputs": [],
   "source": [
    "# take the reference values\n",
    "xbins = called.xbins\n",
    "indexes = list(called.indexes)\n",
    "indexes.sort()"
   ]
  },
  {
   "cell_type": "markdown",
   "metadata": {},
   "source": [
    "## Calibration"
   ]
  },
  {
   "cell_type": "code",
   "execution_count": 12,
   "metadata": {
    "collapsed": false
   },
   "outputs": [
    {
     "name": "stdout",
     "output_type": "stream",
     "text": [
      "fitting data...\n"
     ]
    }
   ],
   "source": [
    "#chi2,pss = sc.cal_fit_ngauss(called,indexes,ngauss=3)\n",
    "ps0 = np.array([35000., 0., 22., 1., 7., 7.])\n",
    "bounds = ((0., -10., 10., 0.0, 2., 2.),(200000., 10., 40., 2., 15., 15.))\n",
    "\n",
    "chi2, pss, covs = sc.cal_fit_poissongauss(called, indexes, ngauss=4, ps0=ps0, bounds=bounds)\n",
    "zpss = zip(indexes,pss)"
   ]
  },
  {
   "cell_type": "code",
   "execution_count": 13,
   "metadata": {
    "collapsed": false
   },
   "outputs": [
    {
     "data": {
      "image/png": "[encoded data removed]",
      "text/plain": [
       "<matplotlib.figure.Figure at 0x115165410>"
      ]
     },
     "metadata": {},
     "output_type": "display_data"
    }
   ],
   "source": [
    "pdf = None\n",
    "pdf = PdfPages(indir+'calf_R'+irun+'_pg_fits.pdf')\n",
    "fun = sc.ffun_poissongauss\n",
    "fig = sc.polo_cal_fit(called,indexes,pss,fun,xrange=(-40.,160.))\n",
    "if (pdf): pdf.savefig(fig)\n",
    "pdf.close()"
   ]
  },
  {
   "cell_type": "code",
   "execution_count": 14,
   "metadata": {
    "collapsed": false
   },
   "outputs": [],
   "source": [
    "pan = sc.cal_fit_poissongauss_panda(indexes, chi2, pss, covs)\n",
    "pan['sensorID'] = pan['indexes']"
   ]
  },
  {
   "cell_type": "code",
   "execution_count": 15,
   "metadata": {
    "collapsed": false,
    "scrolled": true
   },
   "outputs": [
    {
     "data": {
      "text/html": [
       "<div>\n",
       "<table border=\"1\" class=\"dataframe\">\n",
       "  <thead>\n",
       "    <tr style=\"text-align: right;\">\n",
       "      <th></th>\n",
       "      <th>indexes</th>\n",
       "      <th>sensorID</th>\n",
       "      <th>chi2</th>\n",
       "      <th>ntot</th>\n",
       "      <th>sntot</th>\n",
       "      <th>pedestal</th>\n",
       "      <th>spedestal</th>\n",
       "      <th>gain</th>\n",
       "      <th>sgain</th>\n",
       "      <th>pes</th>\n",
       "      <th>spes</th>\n",
       "      <th>noise</th>\n",
       "      <th>snoise</th>\n",
       "      <th>noisepe</th>\n",
       "      <th>snoisepe</th>\n",
       "    </tr>\n",
       "  </thead>\n",
       "  <tbody>\n",
       "    <tr>\n",
       "      <th>0</th>\n",
       "      <td>0</td>\n",
       "      <td>0</td>\n",
       "      <td>0.782620</td>\n",
       "      <td>74662.318153</td>\n",
       "      <td>249.862044</td>\n",
       "      <td>0.013744</td>\n",
       "      <td>0.076365</td>\n",
       "      <td>21.239780</td>\n",
       "      <td>0.647245</td>\n",
       "      <td>0.348485</td>\n",
       "      <td>0.013933</td>\n",
       "      <td>7.760556</td>\n",
       "      <td>0.053317</td>\n",
       "      <td>10.082450</td>\n",
       "      <td>0.440671</td>\n",
       "    </tr>\n",
       "    <tr>\n",
       "      <th>1</th>\n",
       "      <td>1</td>\n",
       "      <td>1</td>\n",
       "      <td>0.929870</td>\n",
       "      <td>74726.053796</td>\n",
       "      <td>272.848217</td>\n",
       "      <td>-0.052219</td>\n",
       "      <td>0.075383</td>\n",
       "      <td>21.222503</td>\n",
       "      <td>0.754324</td>\n",
       "      <td>0.429319</td>\n",
       "      <td>0.018204</td>\n",
       "      <td>7.566736</td>\n",
       "      <td>0.064665</td>\n",
       "      <td>11.601208</td>\n",
       "      <td>0.486340</td>\n",
       "    </tr>\n",
       "    <tr>\n",
       "      <th>2</th>\n",
       "      <td>2</td>\n",
       "      <td>2</td>\n",
       "      <td>0.870505</td>\n",
       "      <td>74714.815599</td>\n",
       "      <td>263.914485</td>\n",
       "      <td>0.017234</td>\n",
       "      <td>0.069579</td>\n",
       "      <td>24.365879</td>\n",
       "      <td>0.460260</td>\n",
       "      <td>0.326005</td>\n",
       "      <td>0.008861</td>\n",
       "      <td>7.933839</td>\n",
       "      <td>0.048721</td>\n",
       "      <td>9.706302</td>\n",
       "      <td>0.375770</td>\n",
       "    </tr>\n",
       "    <tr>\n",
       "      <th>3</th>\n",
       "      <td>3</td>\n",
       "      <td>3</td>\n",
       "      <td>0.843616</td>\n",
       "      <td>74673.374534</td>\n",
       "      <td>258.953673</td>\n",
       "      <td>0.025597</td>\n",
       "      <td>0.050557</td>\n",
       "      <td>24.288904</td>\n",
       "      <td>0.492282</td>\n",
       "      <td>0.223499</td>\n",
       "      <td>0.006390</td>\n",
       "      <td>7.471764</td>\n",
       "      <td>0.037853</td>\n",
       "      <td>10.230921</td>\n",
       "      <td>0.381547</td>\n",
       "    </tr>\n",
       "    <tr>\n",
       "      <th>4</th>\n",
       "      <td>4</td>\n",
       "      <td>4</td>\n",
       "      <td>0.606614</td>\n",
       "      <td>74672.944628</td>\n",
       "      <td>221.904623</td>\n",
       "      <td>0.011042</td>\n",
       "      <td>0.094291</td>\n",
       "      <td>24.220903</td>\n",
       "      <td>0.623410</td>\n",
       "      <td>0.267645</td>\n",
       "      <td>0.010801</td>\n",
       "      <td>9.313656</td>\n",
       "      <td>0.060883</td>\n",
       "      <td>8.515222</td>\n",
       "      <td>0.485612</td>\n",
       "    </tr>\n",
       "    <tr>\n",
       "      <th>5</th>\n",
       "      <td>5</td>\n",
       "      <td>5</td>\n",
       "      <td>0.758644</td>\n",
       "      <td>74731.612558</td>\n",
       "      <td>246.011032</td>\n",
       "      <td>0.241077</td>\n",
       "      <td>0.089053</td>\n",
       "      <td>21.364669</td>\n",
       "      <td>0.488915</td>\n",
       "      <td>0.279771</td>\n",
       "      <td>0.010507</td>\n",
       "      <td>8.090104</td>\n",
       "      <td>0.053654</td>\n",
       "      <td>6.668986</td>\n",
       "      <td>0.426906</td>\n",
       "    </tr>\n",
       "    <tr>\n",
       "      <th>6</th>\n",
       "      <td>6</td>\n",
       "      <td>6</td>\n",
       "      <td>0.878506</td>\n",
       "      <td>74706.108057</td>\n",
       "      <td>263.548374</td>\n",
       "      <td>0.111136</td>\n",
       "      <td>0.038797</td>\n",
       "      <td>22.085247</td>\n",
       "      <td>0.296951</td>\n",
       "      <td>0.251918</td>\n",
       "      <td>0.004991</td>\n",
       "      <td>6.143575</td>\n",
       "      <td>0.028550</td>\n",
       "      <td>8.612919</td>\n",
       "      <td>0.262748</td>\n",
       "    </tr>\n",
       "    <tr>\n",
       "      <th>7</th>\n",
       "      <td>7</td>\n",
       "      <td>7</td>\n",
       "      <td>1.066419</td>\n",
       "      <td>74705.378244</td>\n",
       "      <td>291.581221</td>\n",
       "      <td>0.089592</td>\n",
       "      <td>0.034450</td>\n",
       "      <td>33.299607</td>\n",
       "      <td>0.241748</td>\n",
       "      <td>0.248807</td>\n",
       "      <td>0.002951</td>\n",
       "      <td>6.584548</td>\n",
       "      <td>0.027784</td>\n",
       "      <td>12.396136</td>\n",
       "      <td>0.250682</td>\n",
       "    </tr>\n",
       "    <tr>\n",
       "      <th>8</th>\n",
       "      <td>8</td>\n",
       "      <td>8</td>\n",
       "      <td>0.670332</td>\n",
       "      <td>74739.517285</td>\n",
       "      <td>230.657786</td>\n",
       "      <td>0.124641</td>\n",
       "      <td>0.063338</td>\n",
       "      <td>20.322489</td>\n",
       "      <td>0.390943</td>\n",
       "      <td>0.298544</td>\n",
       "      <td>0.008725</td>\n",
       "      <td>7.178406</td>\n",
       "      <td>0.039270</td>\n",
       "      <td>7.389815</td>\n",
       "      <td>0.321679</td>\n",
       "    </tr>\n",
       "    <tr>\n",
       "      <th>9</th>\n",
       "      <td>9</td>\n",
       "      <td>9</td>\n",
       "      <td>0.760928</td>\n",
       "      <td>74757.785652</td>\n",
       "      <td>246.190254</td>\n",
       "      <td>0.082616</td>\n",
       "      <td>0.053632</td>\n",
       "      <td>23.642494</td>\n",
       "      <td>0.422799</td>\n",
       "      <td>0.272492</td>\n",
       "      <td>0.006983</td>\n",
       "      <td>7.451379</td>\n",
       "      <td>0.038290</td>\n",
       "      <td>9.639637</td>\n",
       "      <td>0.340297</td>\n",
       "    </tr>\n",
       "    <tr>\n",
       "      <th>10</th>\n",
       "      <td>10</td>\n",
       "      <td>10</td>\n",
       "      <td>0.929728</td>\n",
       "      <td>74622.352684</td>\n",
       "      <td>271.762961</td>\n",
       "      <td>0.202698</td>\n",
       "      <td>0.134710</td>\n",
       "      <td>18.658455</td>\n",
       "      <td>0.758297</td>\n",
       "      <td>0.264620</td>\n",
       "      <td>0.017941</td>\n",
       "      <td>7.989697</td>\n",
       "      <td>0.069790</td>\n",
       "      <td>5.634792</td>\n",
       "      <td>0.625134</td>\n",
       "    </tr>\n",
       "    <tr>\n",
       "      <th>11</th>\n",
       "      <td>11</td>\n",
       "      <td>11</td>\n",
       "      <td>0.779827</td>\n",
       "      <td>74735.172329</td>\n",
       "      <td>249.116410</td>\n",
       "      <td>0.103447</td>\n",
       "      <td>0.082452</td>\n",
       "      <td>20.748707</td>\n",
       "      <td>0.585098</td>\n",
       "      <td>0.243236</td>\n",
       "      <td>0.010728</td>\n",
       "      <td>7.869581</td>\n",
       "      <td>0.049952</td>\n",
       "      <td>7.317630</td>\n",
       "      <td>0.456600</td>\n",
       "    </tr>\n",
       "  </tbody>\n",
       "</table>\n",
       "</div>"
      ],
      "text/plain": [
       "    indexes  sensorID      chi2          ntot       sntot  pedestal  \\\n",
       "0         0         0  0.782620  74662.318153  249.862044  0.013744   \n",
       "1         1         1  0.929870  74726.053796  272.848217 -0.052219   \n",
       "2         2         2  0.870505  74714.815599  263.914485  0.017234   \n",
       "3         3         3  0.843616  74673.374534  258.953673  0.025597   \n",
       "4         4         4  0.606614  74672.944628  221.904623  0.011042   \n",
       "5         5         5  0.758644  74731.612558  246.011032  0.241077   \n",
       "6         6         6  0.878506  74706.108057  263.548374  0.111136   \n",
       "7         7         7  1.066419  74705.378244  291.581221  0.089592   \n",
       "8         8         8  0.670332  74739.517285  230.657786  0.124641   \n",
       "9         9         9  0.760928  74757.785652  246.190254  0.082616   \n",
       "10       10        10  0.929728  74622.352684  271.762961  0.202698   \n",
       "11       11        11  0.779827  74735.172329  249.116410  0.103447   \n",
       "\n",
       "    spedestal       gain     sgain       pes      spes     noise    snoise  \\\n",
       "0    0.076365  21.239780  0.647245  0.348485  0.013933  7.760556  0.053317   \n",
       "1    0.075383  21.222503  0.754324  0.429319  0.018204  7.566736  0.064665   \n",
       "2    0.069579  24.365879  0.460260  0.326005  0.008861  7.933839  0.048721   \n",
       "3    0.050557  24.288904  0.492282  0.223499  0.006390  7.471764  0.037853   \n",
       "4    0.094291  24.220903  0.623410  0.267645  0.010801  9.313656  0.060883   \n",
       "5    0.089053  21.364669  0.488915  0.279771  0.010507  8.090104  0.053654   \n",
       "6    0.038797  22.085247  0.296951  0.251918  0.004991  6.143575  0.028550   \n",
       "7    0.034450  33.299607  0.241748  0.248807  0.002951  6.584548  0.027784   \n",
       "8    0.063338  20.322489  0.390943  0.298544  0.008725  7.178406  0.039270   \n",
       "9    0.053632  23.642494  0.422799  0.272492  0.006983  7.451379  0.038290   \n",
       "10   0.134710  18.658455  0.758297  0.264620  0.017941  7.989697  0.069790   \n",
       "11   0.082452  20.748707  0.585098  0.243236  0.010728  7.869581  0.049952   \n",
       "\n",
       "      noisepe  snoisepe  \n",
       "0   10.082450  0.440671  \n",
       "1   11.601208  0.486340  \n",
       "2    9.706302  0.375770  \n",
       "3   10.230921  0.381547  \n",
       "4    8.515222  0.485612  \n",
       "5    6.668986  0.426906  \n",
       "6    8.612919  0.262748  \n",
       "7   12.396136  0.250682  \n",
       "8    7.389815  0.321679  \n",
       "9    9.639637  0.340297  \n",
       "10   5.634792  0.625134  \n",
       "11   7.317630  0.456600  "
      ]
     },
     "execution_count": 15,
     "metadata": {},
     "output_type": "execute_result"
    }
   ],
   "source": [
    "pan"
   ]
  },
  {
   "cell_type": "code",
   "execution_count": 16,
   "metadata": {
    "collapsed": false
   },
   "outputs": [],
   "source": [
    "pan.to_hdf(indir+'calf_R'+irun+'_pg_panda.h5','df',mode='w',format='table',data_columns=True)\n",
    "pan.to_csv(indir+'calf_R'+irun+'_pg_panda.csv')"
   ]
  },
  {
   "cell_type": "markdown",
   "metadata": {},
   "source": [
    "That's all folks!"
   ]
  },
  {
   "cell_type": "markdown",
   "metadata": {
    "collapsed": true
   },
   "source": [
    "## Comparison with the DB"
   ]
  },
  {
   "cell_type": "code",
   "execution_count": 17,
   "metadata": {
    "collapsed": true
   },
   "outputs": [],
   "source": [
    "def polo_par_compare(val1, eval1, val2, eval2, label1='DB', label2='IC', xlim=(-2, 14)):\n",
    "    fig, ax = plt.subplots()\n",
    "    ids = range(len(val1))\n",
    "    ax.errorbar(ids, val1, yerr=eval1, fmt='o', color='red', label=label1)\n",
    "    ax.errorbar(ids, val2, yerr=eval2, fmt='*', color='blue', label=label2)\n",
    "    ax.set_xlim(xlim)\n",
    "    ax.set_ylim(0, max(max(val1), max(val2))+5)\n",
    "    ax.legend()\n",
    "    return fig"
   ]
  },
  {
   "cell_type": "code",
   "execution_count": 18,
   "metadata": {
    "collapsed": false
   },
   "outputs": [
    {
     "data": {
      "image/png": "[encoded data removed]",
      "text/plain": [
       "<matplotlib.figure.Figure at 0x119cc2f50>"
      ]
     },
     "metadata": {},
     "output_type": "display_data"
    }
   ],
   "source": [
    "pdf = None\n",
    "pdf = pdf = PdfPages(indir+'calf_R'+irun+'_compare_DB.pdf')\n",
    "fig = polo_par_compare(-1*pmtdb['adc_to_pes'], np.zeros(12), pan['gain'], pan['sgain'])\n",
    "pdf.savefig(fig)\n",
    "# fig = polo_par_compare(pmtdb['Sigma'], np.zeros(12), pan['noisepe'], pan['snoisepe'])\n",
    "# pdf.savefig(fig)"
   ]
  }
 ],
 "metadata": {
  "anaconda-cloud": {},
  "kernelspec": {
   "display_name": "Python [Root]",
   "language": "python",
   "name": "Python [Root]"
  },
  "language_info": {
   "codemirror_mode": {
    "name": "ipython",
    "version": 2
   },
   "file_extension": ".py",
   "mimetype": "text/x-python",
   "name": "python",
   "nbconvert_exporter": "python",
   "pygments_lexer": "ipython2",
   "version": "2.7.12"
  }
 },
 "nbformat": 4,
 "nbformat_minor": 0
}
