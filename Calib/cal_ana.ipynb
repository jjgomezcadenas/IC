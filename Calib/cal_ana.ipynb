{
 "cells": [
  {
   "cell_type": "markdown",
   "metadata": {},
   "source": [
    "# Calibration analysis - Average several runs\n",
    "\n",
    "Notebook to compute the mean of the calibration parameters for PMT with several runs\n",
    "\n",
    "* open the panda files\n",
    "* compute averages and std\n",
    "* plots results\n",
    "\n",
    "Author: J.A. Hernando\n",
    "\n",
    "Version: v01"
   ]
  },
  {
   "cell_type": "code",
   "execution_count": 1,
   "metadata": {
    "collapsed": false
   },
   "outputs": [],
   "source": [
    "# general imports\n",
    "from __future__ import print_function\n",
    "%matplotlib inline\n",
    "%load_ext autoreload\n",
    "%autoreload 2\n",
    "import numpy as np\n",
    "import tables\n",
    "import pandas as pd\n",
    "import time\n",
    "import matplotlib\n",
    "import matplotlib.pyplot as plt\n",
    "from matplotlib.mlab import griddata\n",
    "matplotlib.style.use('ggplot')"
   ]
  },
  {
   "cell_type": "code",
   "execution_count": 2,
   "metadata": {
    "collapsed": false
   },
   "outputs": [
    {
     "name": "stdout",
     "output_type": "stream",
     "text": [
      "last visit 22/11/2016 at 14:50:25\n"
     ]
    }
   ],
   "source": [
    "idate, ihour = time.strftime(\"%d/%m/%Y\"), time.strftime(\"%H:%M:%S\")\n",
    "print('last visit {} at {}'.format(idate, ihour))"
   ]
  },
  {
   "cell_type": "markdown",
   "metadata": {},
   "source": [
    "## Read the panda files with the calibration parameters of different runs"
   ]
  },
  {
   "cell_type": "code",
   "execution_count": 3,
   "metadata": {
    "collapsed": true
   },
   "outputs": [],
   "source": [
    "idir = '/Users/hernando/Investigacion/NEXT/Data/NEWStar/pmtcalib/161117/'\n",
    "runs = [2843, 2844, 2845]"
   ]
  },
  {
   "cell_type": "code",
   "execution_count": 4,
   "metadata": {
    "collapsed": false
   },
   "outputs": [],
   "source": [
    "def getpan(irun):\n",
    "    ifile = 'calf_R'+str(irun)+'_pg_panda.h5'\n",
    "    store = pd.HDFStore(idir+ifile)\n",
    "    pan = store.df\n",
    "    return pan\n",
    "\n",
    "pans = map(getpan, runs)"
   ]
  },
  {
   "cell_type": "code",
   "execution_count": 5,
   "metadata": {
    "collapsed": false
   },
   "outputs": [],
   "source": [
    "nruns = len(runs)\n",
    "def var(label,k):\n",
    "    return np.array(map(lambda i: pans[i][label][k], range(nruns)))\n",
    "\n",
    "nsens = 12\n",
    "sens = range(nsens)"
   ]
  },
  {
   "cell_type": "markdown",
   "metadata": {},
   "source": [
    "## Create a panda with the average and std of the parameters"
   ]
  },
  {
   "cell_type": "code",
   "execution_count": 6,
   "metadata": {
    "collapsed": false
   },
   "outputs": [
    {
     "name": "stdout",
     "output_type": "stream",
     "text": [
      "['indexes', 'sensorID', 'chi2', 'ntot', 'sntot', 'pedestal', 'spedestal', 'gain', 'sgain', 'pes', 'spes', 'noise', 'snoise', 'noisepe', 'snoisepe']\n"
     ]
    }
   ],
   "source": [
    "labels = map(str, pans[0].columns)\n",
    "print(labels)\n",
    "dopan = {}\n",
    "for label in labels:\n",
    "    vmean, vstd = [], []\n",
    "    for i in range(nsens):\n",
    "        xvar = var(label,i)\n",
    "        vmean.append(np.mean(xvar))\n",
    "        vstd.append(np.std(xvar))\n",
    "    dopan[label] = np.array(vmean)\n",
    "    dopan['e'+label] =np.array(vstd)\n",
    "opan = pd.DataFrame(dopan)"
   ]
  },
  {
   "cell_type": "code",
   "execution_count": 7,
   "metadata": {
    "collapsed": false
   },
   "outputs": [
    {
     "data": {
      "text/html": [
       "<div>\n",
       "<table border=\"1\" class=\"dataframe\">\n",
       "  <thead>\n",
       "    <tr style=\"text-align: right;\">\n",
       "      <th></th>\n",
       "      <th>chi2</th>\n",
       "      <th>echi2</th>\n",
       "      <th>egain</th>\n",
       "      <th>eindexes</th>\n",
       "      <th>enoise</th>\n",
       "      <th>enoisepe</th>\n",
       "      <th>entot</th>\n",
       "      <th>epedestal</th>\n",
       "      <th>epes</th>\n",
       "      <th>esensorID</th>\n",
       "      <th>...</th>\n",
       "      <th>ntot</th>\n",
       "      <th>pedestal</th>\n",
       "      <th>pes</th>\n",
       "      <th>sensorID</th>\n",
       "      <th>sgain</th>\n",
       "      <th>snoise</th>\n",
       "      <th>snoisepe</th>\n",
       "      <th>sntot</th>\n",
       "      <th>spedestal</th>\n",
       "      <th>spes</th>\n",
       "    </tr>\n",
       "  </thead>\n",
       "  <tbody>\n",
       "    <tr>\n",
       "      <th>0</th>\n",
       "      <td>0.865099</td>\n",
       "      <td>0.100698</td>\n",
       "      <td>4.958878</td>\n",
       "      <td>0.0</td>\n",
       "      <td>0.287866</td>\n",
       "      <td>2.312054</td>\n",
       "      <td>173.064619</td>\n",
       "      <td>0.160210</td>\n",
       "      <td>0.085917</td>\n",
       "      <td>0.0</td>\n",
       "      <td>...</td>\n",
       "      <td>74772.559238</td>\n",
       "      <td>0.054017</td>\n",
       "      <td>0.423005</td>\n",
       "      <td>0.0</td>\n",
       "      <td>0.575418</td>\n",
       "      <td>0.062814</td>\n",
       "      <td>0.358184</td>\n",
       "      <td>267.419681</td>\n",
       "      <td>0.077589</td>\n",
       "      <td>0.015047</td>\n",
       "    </tr>\n",
       "    <tr>\n",
       "      <th>1</th>\n",
       "      <td>0.900190</td>\n",
       "      <td>0.045131</td>\n",
       "      <td>1.012323</td>\n",
       "      <td>0.0</td>\n",
       "      <td>0.082451</td>\n",
       "      <td>0.723864</td>\n",
       "      <td>51.524886</td>\n",
       "      <td>0.198711</td>\n",
       "      <td>0.167839</td>\n",
       "      <td>0.0</td>\n",
       "      <td>...</td>\n",
       "      <td>74676.412768</td>\n",
       "      <td>0.032616</td>\n",
       "      <td>0.443344</td>\n",
       "      <td>1.0</td>\n",
       "      <td>0.590451</td>\n",
       "      <td>0.056898</td>\n",
       "      <td>0.421328</td>\n",
       "      <td>268.260446</td>\n",
       "      <td>0.076082</td>\n",
       "      <td>0.013891</td>\n",
       "    </tr>\n",
       "    <tr>\n",
       "      <th>2</th>\n",
       "      <td>0.914978</td>\n",
       "      <td>0.036246</td>\n",
       "      <td>0.475770</td>\n",
       "      <td>0.0</td>\n",
       "      <td>0.021971</td>\n",
       "      <td>0.361981</td>\n",
       "      <td>38.633282</td>\n",
       "      <td>0.147233</td>\n",
       "      <td>0.138073</td>\n",
       "      <td>0.0</td>\n",
       "      <td>...</td>\n",
       "      <td>74665.497290</td>\n",
       "      <td>0.159270</td>\n",
       "      <td>0.349269</td>\n",
       "      <td>2.0</td>\n",
       "      <td>0.430316</td>\n",
       "      <td>0.049937</td>\n",
       "      <td>0.370579</td>\n",
       "      <td>270.489801</td>\n",
       "      <td>0.070933</td>\n",
       "      <td>0.008249</td>\n",
       "    </tr>\n",
       "    <tr>\n",
       "      <th>3</th>\n",
       "      <td>0.856107</td>\n",
       "      <td>0.099811</td>\n",
       "      <td>0.242172</td>\n",
       "      <td>0.0</td>\n",
       "      <td>0.024924</td>\n",
       "      <td>0.249253</td>\n",
       "      <td>14.855227</td>\n",
       "      <td>0.069604</td>\n",
       "      <td>0.098758</td>\n",
       "      <td>0.0</td>\n",
       "      <td>...</td>\n",
       "      <td>74678.311599</td>\n",
       "      <td>-0.023747</td>\n",
       "      <td>0.245342</td>\n",
       "      <td>3.0</td>\n",
       "      <td>0.484724</td>\n",
       "      <td>0.038801</td>\n",
       "      <td>0.382047</td>\n",
       "      <td>260.545097</td>\n",
       "      <td>0.052450</td>\n",
       "      <td>0.006432</td>\n",
       "    </tr>\n",
       "    <tr>\n",
       "      <th>4</th>\n",
       "      <td>0.641372</td>\n",
       "      <td>0.028174</td>\n",
       "      <td>0.446473</td>\n",
       "      <td>0.0</td>\n",
       "      <td>0.031230</td>\n",
       "      <td>0.257461</td>\n",
       "      <td>57.149937</td>\n",
       "      <td>0.170684</td>\n",
       "      <td>0.118217</td>\n",
       "      <td>0.0</td>\n",
       "      <td>...</td>\n",
       "      <td>74647.741185</td>\n",
       "      <td>0.051376</td>\n",
       "      <td>0.291607</td>\n",
       "      <td>4.0</td>\n",
       "      <td>0.632989</td>\n",
       "      <td>0.061852</td>\n",
       "      <td>0.497991</td>\n",
       "      <td>228.055037</td>\n",
       "      <td>0.094219</td>\n",
       "      <td>0.010457</td>\n",
       "    </tr>\n",
       "    <tr>\n",
       "      <th>5</th>\n",
       "      <td>0.788858</td>\n",
       "      <td>0.025551</td>\n",
       "      <td>0.399306</td>\n",
       "      <td>0.0</td>\n",
       "      <td>0.085063</td>\n",
       "      <td>0.271979</td>\n",
       "      <td>27.084305</td>\n",
       "      <td>0.106340</td>\n",
       "      <td>0.137017</td>\n",
       "      <td>0.0</td>\n",
       "      <td>...</td>\n",
       "      <td>74695.559138</td>\n",
       "      <td>0.110717</td>\n",
       "      <td>0.323149</td>\n",
       "      <td>5.0</td>\n",
       "      <td>0.526361</td>\n",
       "      <td>0.055129</td>\n",
       "      <td>0.437953</td>\n",
       "      <td>250.788031</td>\n",
       "      <td>0.092631</td>\n",
       "      <td>0.011436</td>\n",
       "    </tr>\n",
       "    <tr>\n",
       "      <th>6</th>\n",
       "      <td>0.855621</td>\n",
       "      <td>0.032310</td>\n",
       "      <td>0.260761</td>\n",
       "      <td>0.0</td>\n",
       "      <td>0.036059</td>\n",
       "      <td>0.200285</td>\n",
       "      <td>16.283709</td>\n",
       "      <td>0.085588</td>\n",
       "      <td>0.114947</td>\n",
       "      <td>0.0</td>\n",
       "      <td>...</td>\n",
       "      <td>74694.284147</td>\n",
       "      <td>0.121000</td>\n",
       "      <td>0.279187</td>\n",
       "      <td>6.0</td>\n",
       "      <td>0.280103</td>\n",
       "      <td>0.028796</td>\n",
       "      <td>0.254261</td>\n",
       "      <td>260.146080</td>\n",
       "      <td>0.039476</td>\n",
       "      <td>0.004861</td>\n",
       "    </tr>\n",
       "    <tr>\n",
       "      <th>7</th>\n",
       "      <td>1.050877</td>\n",
       "      <td>0.079694</td>\n",
       "      <td>0.145049</td>\n",
       "      <td>0.0</td>\n",
       "      <td>0.050259</td>\n",
       "      <td>0.304333</td>\n",
       "      <td>36.271333</td>\n",
       "      <td>0.154773</td>\n",
       "      <td>0.118098</td>\n",
       "      <td>0.0</td>\n",
       "      <td>...</td>\n",
       "      <td>74664.520914</td>\n",
       "      <td>0.188190</td>\n",
       "      <td>0.276615</td>\n",
       "      <td>7.0</td>\n",
       "      <td>0.236744</td>\n",
       "      <td>0.028428</td>\n",
       "      <td>0.246185</td>\n",
       "      <td>289.425151</td>\n",
       "      <td>0.035458</td>\n",
       "      <td>0.003034</td>\n",
       "    </tr>\n",
       "    <tr>\n",
       "      <th>8</th>\n",
       "      <td>0.791826</td>\n",
       "      <td>0.087007</td>\n",
       "      <td>0.184429</td>\n",
       "      <td>0.0</td>\n",
       "      <td>0.012355</td>\n",
       "      <td>0.253059</td>\n",
       "      <td>37.833298</td>\n",
       "      <td>0.057707</td>\n",
       "      <td>0.144972</td>\n",
       "      <td>0.0</td>\n",
       "      <td>...</td>\n",
       "      <td>74702.199447</td>\n",
       "      <td>0.057472</td>\n",
       "      <td>0.339627</td>\n",
       "      <td>8.0</td>\n",
       "      <td>0.453848</td>\n",
       "      <td>0.045029</td>\n",
       "      <td>0.362994</td>\n",
       "      <td>250.320556</td>\n",
       "      <td>0.073571</td>\n",
       "      <td>0.010849</td>\n",
       "    </tr>\n",
       "    <tr>\n",
       "      <th>9</th>\n",
       "      <td>0.791758</td>\n",
       "      <td>0.091513</td>\n",
       "      <td>0.394275</td>\n",
       "      <td>0.0</td>\n",
       "      <td>0.004956</td>\n",
       "      <td>0.407370</td>\n",
       "      <td>53.860870</td>\n",
       "      <td>0.070934</td>\n",
       "      <td>0.123801</td>\n",
       "      <td>0.0</td>\n",
       "      <td>...</td>\n",
       "      <td>74697.416073</td>\n",
       "      <td>0.014963</td>\n",
       "      <td>0.299493</td>\n",
       "      <td>9.0</td>\n",
       "      <td>0.383320</td>\n",
       "      <td>0.038668</td>\n",
       "      <td>0.327531</td>\n",
       "      <td>250.675645</td>\n",
       "      <td>0.054056</td>\n",
       "      <td>0.006363</td>\n",
       "    </tr>\n",
       "    <tr>\n",
       "      <th>10</th>\n",
       "      <td>0.919519</td>\n",
       "      <td>0.085047</td>\n",
       "      <td>0.657786</td>\n",
       "      <td>0.0</td>\n",
       "      <td>0.054902</td>\n",
       "      <td>0.482660</td>\n",
       "      <td>29.882429</td>\n",
       "      <td>0.159770</td>\n",
       "      <td>0.108702</td>\n",
       "      <td>0.0</td>\n",
       "      <td>...</td>\n",
       "      <td>74623.378978</td>\n",
       "      <td>0.252270</td>\n",
       "      <td>0.294871</td>\n",
       "      <td>10.0</td>\n",
       "      <td>0.790973</td>\n",
       "      <td>0.071424</td>\n",
       "      <td>0.629041</td>\n",
       "      <td>270.049530</td>\n",
       "      <td>0.138271</td>\n",
       "      <td>0.018640</td>\n",
       "    </tr>\n",
       "    <tr>\n",
       "      <th>11</th>\n",
       "      <td>0.866682</td>\n",
       "      <td>0.067458</td>\n",
       "      <td>5.220553</td>\n",
       "      <td>0.0</td>\n",
       "      <td>0.234259</td>\n",
       "      <td>2.544122</td>\n",
       "      <td>85.896624</td>\n",
       "      <td>0.232422</td>\n",
       "      <td>0.065170</td>\n",
       "      <td>0.0</td>\n",
       "      <td>...</td>\n",
       "      <td>74755.410295</td>\n",
       "      <td>0.026982</td>\n",
       "      <td>0.323396</td>\n",
       "      <td>11.0</td>\n",
       "      <td>0.606532</td>\n",
       "      <td>0.064703</td>\n",
       "      <td>0.380404</td>\n",
       "      <td>266.763034</td>\n",
       "      <td>0.081525</td>\n",
       "      <td>0.015226</td>\n",
       "    </tr>\n",
       "  </tbody>\n",
       "</table>\n",
       "<p>12 rows × 30 columns</p>\n",
       "</div>"
      ],
      "text/plain": [
       "        chi2     echi2     egain  eindexes    enoise  enoisepe       entot  \\\n",
       "0   0.865099  0.100698  4.958878       0.0  0.287866  2.312054  173.064619   \n",
       "1   0.900190  0.045131  1.012323       0.0  0.082451  0.723864   51.524886   \n",
       "2   0.914978  0.036246  0.475770       0.0  0.021971  0.361981   38.633282   \n",
       "3   0.856107  0.099811  0.242172       0.0  0.024924  0.249253   14.855227   \n",
       "4   0.641372  0.028174  0.446473       0.0  0.031230  0.257461   57.149937   \n",
       "5   0.788858  0.025551  0.399306       0.0  0.085063  0.271979   27.084305   \n",
       "6   0.855621  0.032310  0.260761       0.0  0.036059  0.200285   16.283709   \n",
       "7   1.050877  0.079694  0.145049       0.0  0.050259  0.304333   36.271333   \n",
       "8   0.791826  0.087007  0.184429       0.0  0.012355  0.253059   37.833298   \n",
       "9   0.791758  0.091513  0.394275       0.0  0.004956  0.407370   53.860870   \n",
       "10  0.919519  0.085047  0.657786       0.0  0.054902  0.482660   29.882429   \n",
       "11  0.866682  0.067458  5.220553       0.0  0.234259  2.544122   85.896624   \n",
       "\n",
       "    epedestal      epes  esensorID    ...             ntot  pedestal  \\\n",
       "0    0.160210  0.085917        0.0    ...     74772.559238  0.054017   \n",
       "1    0.198711  0.167839        0.0    ...     74676.412768  0.032616   \n",
       "2    0.147233  0.138073        0.0    ...     74665.497290  0.159270   \n",
       "3    0.069604  0.098758        0.0    ...     74678.311599 -0.023747   \n",
       "4    0.170684  0.118217        0.0    ...     74647.741185  0.051376   \n",
       "5    0.106340  0.137017        0.0    ...     74695.559138  0.110717   \n",
       "6    0.085588  0.114947        0.0    ...     74694.284147  0.121000   \n",
       "7    0.154773  0.118098        0.0    ...     74664.520914  0.188190   \n",
       "8    0.057707  0.144972        0.0    ...     74702.199447  0.057472   \n",
       "9    0.070934  0.123801        0.0    ...     74697.416073  0.014963   \n",
       "10   0.159770  0.108702        0.0    ...     74623.378978  0.252270   \n",
       "11   0.232422  0.065170        0.0    ...     74755.410295  0.026982   \n",
       "\n",
       "         pes  sensorID     sgain    snoise  snoisepe       sntot  spedestal  \\\n",
       "0   0.423005       0.0  0.575418  0.062814  0.358184  267.419681   0.077589   \n",
       "1   0.443344       1.0  0.590451  0.056898  0.421328  268.260446   0.076082   \n",
       "2   0.349269       2.0  0.430316  0.049937  0.370579  270.489801   0.070933   \n",
       "3   0.245342       3.0  0.484724  0.038801  0.382047  260.545097   0.052450   \n",
       "4   0.291607       4.0  0.632989  0.061852  0.497991  228.055037   0.094219   \n",
       "5   0.323149       5.0  0.526361  0.055129  0.437953  250.788031   0.092631   \n",
       "6   0.279187       6.0  0.280103  0.028796  0.254261  260.146080   0.039476   \n",
       "7   0.276615       7.0  0.236744  0.028428  0.246185  289.425151   0.035458   \n",
       "8   0.339627       8.0  0.453848  0.045029  0.362994  250.320556   0.073571   \n",
       "9   0.299493       9.0  0.383320  0.038668  0.327531  250.675645   0.054056   \n",
       "10  0.294871      10.0  0.790973  0.071424  0.629041  270.049530   0.138271   \n",
       "11  0.323396      11.0  0.606532  0.064703  0.380404  266.763034   0.081525   \n",
       "\n",
       "        spes  \n",
       "0   0.015047  \n",
       "1   0.013891  \n",
       "2   0.008249  \n",
       "3   0.006432  \n",
       "4   0.010457  \n",
       "5   0.011436  \n",
       "6   0.004861  \n",
       "7   0.003034  \n",
       "8   0.010849  \n",
       "9   0.006363  \n",
       "10  0.018640  \n",
       "11  0.015226  \n",
       "\n",
       "[12 rows x 30 columns]"
      ]
     },
     "execution_count": 7,
     "metadata": {},
     "output_type": "execute_result"
    }
   ],
   "source": [
    "opan"
   ]
  },
  {
   "cell_type": "code",
   "execution_count": 8,
   "metadata": {
    "collapsed": false
   },
   "outputs": [],
   "source": [
    "opan.to_csv(idir+'pmt_calib_summary.cvs')\n",
    "opan.to_hdf(idir+'pmt_calib_summary.h5','df',mode='w',format='table',data_columns=True)"
   ]
  },
  {
   "cell_type": "markdown",
   "metadata": {},
   "source": [
    "### Plots the results"
   ]
  },
  {
   "cell_type": "code",
   "execution_count": 9,
   "metadata": {
    "collapsed": true
   },
   "outputs": [],
   "source": [
    "import Calib.calib as sc\n",
    "\n",
    "def xyey_(pan, label):\n",
    "    x = pan['indexes']\n",
    "    y = pan[label]\n",
    "    ey = pan['e'+label]\n",
    "    vals = zip(x.values,y.values,ey.values)\n",
    "    vals.sort()\n",
    "    x = np.array(map(lambda val: val[0], vals))\n",
    "    y = np.array(map(lambda val: val[1], vals))\n",
    "    ey = np.array(map(lambda val: val[2], vals))\n",
    "    return x,y,ey\n",
    "\n",
    "def polo_sens(pan, labels):\n",
    "    n = len(labels)\n",
    "    nx, ny, figsize = sc.plt_subplots(n)\n",
    "    fig, axes = plt.subplots(nx, ny, figsize=figsize)\n",
    "    plt.suptitle('calibration PMTS')\n",
    "    for i, label in enumerate(labels):\n",
    "        ax = plt.subplot(nx, ny, i+1)\n",
    "        x, y, ey = xyey_(pan, label)\n",
    "        ax.errorbar(x, y, ey, fmt='o', label='IC')\n",
    "        ax.legend()\n",
    "        plt.xlim(-1.,12.)\n",
    "        ax.set_title(label)\n",
    "    fig.tight_layout()\n",
    "    plt.show()\n",
    "    return fig"
   ]
  },
  {
   "cell_type": "code",
   "execution_count": 10,
   "metadata": {
    "collapsed": false
   },
   "outputs": [
    {
     "data": {
      "image/png": "[encoded data removed]",
      "text/plain": [
       "<matplotlib.figure.Figure at 0x11339ff90>"
      ]
     },
     "metadata": {},
     "output_type": "display_data"
    }
   ],
   "source": [
    "ilabels = ['chi2','pedestal','gain','noise','noisepe','pes']\n",
    "fig = polo_sens(opan, ilabels)\n",
    "fig.savefig(idir+'pmt_calib_summary.pdf')"
   ]
  },
  {
   "cell_type": "markdown",
   "metadata": {},
   "source": [
    "## Compare with DB"
   ]
  },
  {
   "cell_type": "code",
   "execution_count": 11,
   "metadata": {
    "collapsed": true
   },
   "outputs": [],
   "source": [
    "def polo_par_compare(val1, eval1, val2, eval2, label1='DB', label2='IC', xlim=(-2, 14)):\n",
    "    fig, ax = plt.subplots()\n",
    "    ids = range(len(val1))\n",
    "    ax.errorbar(ids, val1, yerr=eval1, fmt='o', color='red', label=label1)\n",
    "    ax.errorbar(ids, val2, yerr=eval2, fmt='*', color='blue', label=label2)\n",
    "    ax.set_xlim(xlim)\n",
    "    ax.set_ylim(0, max(max(val1), max(val2))+5)\n",
    "    ax.legend()\n",
    "    return fig"
   ]
  },
  {
   "cell_type": "code",
   "execution_count": 12,
   "metadata": {
    "collapsed": true
   },
   "outputs": [],
   "source": [
    "import Database.loadDB as db\n",
    "pmtdb = db.DataPMT()"
   ]
  },
  {
   "cell_type": "code",
   "execution_count": 13,
   "metadata": {
    "collapsed": false
   },
   "outputs": [
    {
     "data": {
      "image/png": "[encoded data removed]",
      "text/plain": [
       "<matplotlib.figure.Figure at 0x1198bc690>"
      ]
     },
     "metadata": {},
     "output_type": "display_data"
    }
   ],
   "source": [
    "fig = polo_par_compare(-1*pmtdb['adc_to_pes'], np.zeros(12), opan['gain'], opan['egain'])\n",
    "fig.savefig(idir+'calf_compare_DB.pdf')\n",
    "# fig = polo_par_compare(pmtdb['Sigma'], np.zeros(12), pan['noisepe'], pan['snoisepe'])\n",
    "# pdf.savefig(fig)"
   ]
  },
  {
   "cell_type": "code",
   "execution_count": 14,
   "metadata": {
    "collapsed": false
   },
   "outputs": [],
   "source": [
    "import calib as sc\n",
    "\n",
    "again = [22.91, 23.75, 25.3, 25.99, 23.70, 20.89, 22.13, 33.09, 20.43, 25.16, 15.85, 18.21]\n",
    "aegain = [0.14, 0.17, 0.09, 0.09, 0.08, 0.11, 0.08, 0.06, 0.11, 0.07, 0.25, 0.15]\n",
    "\n",
    "anoise_pe = [9.69, 10.73, 9.27, 9.88, 8.32, 7.03, 7.85, 12.01, 7.18, 8.72, 7.20, 8.17] \n",
    "aenoise_pe = [0.12, 0.14, 0.10, 0.09, 0.09, 0.11, 0.09, 0.07, 0.11, 0.08, 0.18, 0.13]\n"
   ]
  },
  {
   "cell_type": "code",
   "execution_count": 16,
   "metadata": {
    "collapsed": false
   },
   "outputs": [
    {
     "data": {
      "image/png": "[encoded data removed]",
      "text/plain": [
       "<matplotlib.figure.Figure at 0x119ad52d0>"
      ]
     },
     "metadata": {},
     "output_type": "display_data"
    }
   ],
   "source": [
    "rat = opan['noisepe']/opan['gain']\n",
    "plt.plot(rat, marker='*');"
   ]
  }
 ],
 "metadata": {
  "anaconda-cloud": {},
  "kernelspec": {
   "display_name": "Python [Root]",
   "language": "python",
   "name": "Python [Root]"
  },
  "language_info": {
   "codemirror_mode": {
    "name": "ipython",
    "version": 2
   },
   "file_extension": ".py",
   "mimetype": "text/x-python",
   "name": "python",
   "nbconvert_exporter": "python",
   "pygments_lexer": "ipython2",
   "version": "2.7.12"
  }
 },
 "nbformat": 4,
 "nbformat_minor": 0
}
