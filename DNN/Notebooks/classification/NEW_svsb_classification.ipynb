{
 "cells": [
  {
   "cell_type": "markdown",
   "metadata": {},
   "source": [
    "# Signal vs. background classification with NEW full MC"
   ]
  },
  {
   "cell_type": "code",
   "execution_count": null,
   "metadata": {
    "collapsed": false
   },
   "outputs": [],
   "source": [
    "%matplotlib inline\n",
    "from matplotlib.patches         import Ellipse\n",
    "import matplotlib.pyplot as plt\n",
    "import numpy  as np\n",
    "import random as rd\n",
    "import tables as tb\n",
    "\n",
    "from __future__  import print_function\n",
    "from scipy.stats import threshold\n",
    "\n",
    "from keras.models               import Model\n",
    "from keras.layers               import Input, Dense, Convolution3D, Activation, Dropout\n",
    "from keras.optimizers           import SGD, Adam, Nadam         \n",
    "#from keras.callbacks            import ReduceLROnPlateau !!!!!\n",
    "from keras.layers.convolutional import Convolution2D, MaxPooling2D\n",
    "from keras.layers.core          import Flatten\n",
    "from keras                      import callbacks"
   ]
  },
  {
   "cell_type": "markdown",
   "metadata": {},
   "source": [
    "Load Data"
   ]
  },
  {
   "cell_type": "code",
   "execution_count": null,
   "metadata": {
    "collapsed": false
   },
   "outputs": [],
   "source": [
    "Ntrain = 8000     # number of training events per sample\n",
    "\n",
    "# Signal events.\n",
    "s_dat = tb.open_file('/home/jrenner/data/classification/NEW_training_MC_si.h5', 'r')\n",
    "print(s_dat)\n",
    "s_array = np.array(s_dat.root.maps)\n",
    "x_t = s_array[:Ntrain]\n",
    "x_v = s_array[Ntrain:]\n",
    "y_t = np.zeros([Ntrain, 2])\n",
    "y_t[:,0] += 1\n",
    "y_v = np.zeros([len(s_array)-Ntrain, 2])\n",
    "y_v[:,0] += 1\n",
    "\n",
    "# Add background events.\n",
    "b_dat = tb.open_file('/home/jrenner/data/classification/NEW_training_MC_bg.h5', 'r')\n",
    "print(b_dat)\n",
    "b_array = np.array(b_dat.root.maps)\n",
    "x_t = np.concatenate([x_t, b_array[:Ntrain]])\n",
    "x_v = np.concatenate([x_v, b_array[Ntrain:]])\n",
    "y_bt = np.zeros([Ntrain, 2])\n",
    "y_bt[:,1] += 1\n",
    "y_t = np.concatenate([y_t, y_bt])\n",
    "y_bv = np.zeros([len(b_array)-Ntrain, 2])\n",
    "y_bv[:,1] += 1\n",
    "y_v = np.concatenate([y_v, y_bv])\n",
    "\n",
    "# Include the final dimension (single-channel).\n",
    "x_t = np.reshape(x_t, (len(x_t), 48, 48, 30, 1))\n",
    "x_v = np.reshape(x_v, (len(x_v), 48, 48, 30, 1))\n",
    "print(\"Prepared\", len(x_t), \"training events and\", len(x_v), \"validation events.\")"
   ]
  },
  {
   "cell_type": "code",
   "execution_count": null,
   "metadata": {
    "collapsed": false
   },
   "outputs": [],
   "source": [
    "# Set up a DNN for 3D convolution\n",
    "nsipm = int(48)\n",
    "nslices = int(30)\n",
    "\n",
    "inputs = Input(shape=(48, 48, 30, 1))\n",
    "cinputs = Convolution3D(32, 6, 6, 6, border_mode='same', subsample=(1, 1, 1), activation='relu')(inputs)\n",
    "cinputs = Convolution3D(64, 6, 6, 6, border_mode='valid', subsample=(2, 2, 3), activation='relu')(cinputs)\n",
    "cinputs = Convolution3D(128, 3, 3, 1, border_mode='valid', subsample=(2, 2, 1), activation='relu')(cinputs)\n",
    "cinputs = Convolution3D(256, 1, 1, 1, border_mode='valid', subsample=(2, 2, 2), activation='relu')(cinputs)\n",
    "cinputs = Convolution3D(512, 2, 2, 1, border_mode='valid', subsample=(2, 2, 5), activation='relu')(cinputs)\n",
    "cinputs = Convolution3D(1024, 2, 2, 1, border_mode='valid', subsample=(3, 3, 1), activation='relu')(cinputs)\n",
    "f1 = Flatten()(cinputs)\n",
    "f1 = Dense(output_dim=512, activation='relu')(f1)\n",
    "# f1 = Dropout(.3)(f1)\n",
    "\n",
    "inc_output = Dense(output_dim=2, activation='sigmoid')(f1)\n",
    "incep = Model(inputs, inc_output)\n",
    "\n",
    "incep.compile(loss='categorical_crossentropy',\n",
    "              optimizer=Nadam(lr=0.01, beta_1=0.9, beta_2=0.999,\n",
    "                              epsilon=1e-08, schedule_decay=0.004),\n",
    "              metrics=['accuracy'])\n",
    "\n",
    "incep.summary()\n",
    "\n",
    "# Train the network\n",
    "Ntrain = 8000\n",
    "lcallbacks = [callbacks.EarlyStopping(monitor='val_loss', patience=20, mode='min'), \n",
    "              callbacks.ModelCheckpoint('models/conv3d_200k.h', monitor='val_loss', save_best_only=True, mode='min')]"
   ]
  },
  {
   "cell_type": "code",
   "execution_count": null,
   "metadata": {
    "collapsed": false
   },
   "outputs": [],
   "source": [
    "hist = incep.fit(x_t, y_t, shuffle=True, nb_epoch=40, batch_size=500, verbose=1, validation_data=(x_v, y_v))"
   ]
  },
  {
   "cell_type": "code",
   "execution_count": null,
   "metadata": {
    "collapsed": true
   },
   "outputs": [],
   "source": [
    "# Carried over from NEW_kr_diff_mc_train.ipynb\n",
    "def NEW_SiPM_map_plot(xarr, yarr, plot_truth=True, normalize=True):\n",
    "    \"\"\"\n",
    "    Plots a SiPM map in the NEW Geometry\n",
    "    xarr is a NEW sipm map, yarr the pair of coordinates the map corresponds to\n",
    "    \"\"\"\n",
    "    if normalize:\n",
    "        probs = (xarr - np.min(xarr))\n",
    "        probs /= np.max(probs)\n",
    "    else: \n",
    "        probs = xarr\n",
    "\n",
    "    for i in range(48):\n",
    "        for j in range(48):\n",
    "            r = Ellipse(xy=(i * 10 - 235, j * 10 - 235), width=2., height=2.);\n",
    "            r.set_facecolor('0');\n",
    "            r.set_alpha(probs[i, j]);\n",
    "            ax1.add_artist(r);\n",
    "            \n",
    "    if plot_truth:\n",
    "        # Place a large blue circle for actual EL points.\n",
    "        xpt = yarr[0]\n",
    "        ypt = yarr[1]\n",
    "        mrk = Ellipse(xy=(xpt,ypt), width=4., height=4.);\n",
    "        mrk.set_facecolor('b');\n",
    "        ax1.add_artist(mrk);\n",
    "        #print(xpt,ypt)\n",
    "\n",
    "NEW_SiPM_map_plot(xarr, yarr)        \n",
    "    \n",
    "# Show the plot.\n",
    "plt.xlabel(\"x (mm)\");\n",
    "plt.ylabel(\"y (mm)\");\n",
    "#plt.show()"
   ]
  },
  {
   "cell_type": "code",
   "execution_count": null,
   "metadata": {
    "collapsed": true
   },
   "outputs": [],
   "source": []
  }
 ],
 "metadata": {
  "anaconda-cloud": {},
  "kernelspec": {
   "display_name": "Python [conda root]",
   "language": "python",
   "name": "conda-root-py"
  },
  "language_info": {
   "codemirror_mode": {
    "name": "ipython",
    "version": 3
   },
   "file_extension": ".py",
   "mimetype": "text/x-python",
   "name": "python",
   "nbconvert_exporter": "python",
   "pygments_lexer": "ipython3",
   "version": "3.5.2"
  }
 },
 "nbformat": 4,
 "nbformat_minor": 0
}
