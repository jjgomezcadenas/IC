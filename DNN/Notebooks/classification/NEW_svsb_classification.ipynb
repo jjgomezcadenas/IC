{
 "cells": [
  {
   "cell_type": "markdown",
   "metadata": {},
   "source": [
    "# Signal vs. background classification with NEW full MC"
   ]
  },
  {
   "cell_type": "code",
   "execution_count": 24,
   "metadata": {
    "collapsed": false
   },
   "outputs": [],
   "source": [
    "%matplotlib inline\n",
    "from matplotlib.patches         import Ellipse\n",
    "import matplotlib.pyplot as plt\n",
    "import numpy  as np\n",
    "import random as rd\n",
    "import tables as tb\n",
    "\n",
    "from __future__  import print_function\n",
    "from scipy.stats import threshold\n",
    "\n",
    "from keras.models               import Model\n",
    "from keras.layers               import Input, Dense, Convolution3D, Activation, Dropout\n",
    "from keras.optimizers           import SGD, Adam, Nadam         \n",
    "#from keras.callbacks            import ReduceLROnPlateau !!!!!\n",
    "from keras.layers.convolutional import Convolution2D, MaxPooling2D\n",
    "from keras.layers.core          import Flatten\n",
    "from keras                      import callbacks"
   ]
  },
  {
   "cell_type": "markdown",
   "metadata": {},
   "source": [
    "Load Data"
   ]
  },
  {
   "cell_type": "code",
   "execution_count": 25,
   "metadata": {
    "collapsed": false
   },
   "outputs": [
    {
     "name": "stdout",
     "output_type": "stream",
     "text": [
      "/home/jrenner/data/classification/NEW_training_MC_si_nopadding.h5 (File) ''\n",
      "Last modif.: 'Tue Nov 29 12:27:26 2016'\n",
      "Object Tree: \n",
      "/ (RootGroup) ''\n",
      "/energies (EArray(10000, 30), blosc(9)) ''\n",
      "/maps (EArray(10000, 48, 48, 30), blosc(9)) ''\n",
      "\n",
      "/home/jrenner/data/classification/NEW_training_MC_bg_nopadding.h5 (File) ''\n",
      "Last modif.: 'Tue Nov 29 11:54:46 2016'\n",
      "Object Tree: \n",
      "/ (RootGroup) ''\n",
      "/energies (EArray(10000, 30), blosc(9)) ''\n",
      "/maps (EArray(10000, 48, 48, 30), blosc(9)) ''\n",
      "\n",
      "Prepared 16000 training events and 4000 validation events.\n"
     ]
    }
   ],
   "source": [
    "Ntrain = 8000     # number of training events per sample\n",
    "\n",
    "# Signal events.\n",
    "s_dat = tb.open_file('/home/jrenner/data/classification/NEW_training_MC_si_nopadding.h5', 'r')\n",
    "print(s_dat)\n",
    "s_array = np.array(s_dat.root.maps)\n",
    "x_t = s_array[:Ntrain]\n",
    "x_v = s_array[Ntrain:]\n",
    "y_t = np.ones([Ntrain, 1])\n",
    "y_v = np.ones([len(s_array)-Ntrain, 1])\n",
    "\n",
    "# Add background events.\n",
    "b_dat = tb.open_file('/home/jrenner/data/classification/NEW_training_MC_bg_nopadding.h5', 'r')\n",
    "print(b_dat)\n",
    "b_array = np.array(b_dat.root.maps)\n",
    "x_t = np.concatenate([x_t, b_array[:Ntrain]])\n",
    "x_v = np.concatenate([x_v, b_array[Ntrain:]])\n",
    "y_bt = np.zeros([Ntrain, 1])\n",
    "y_t = np.concatenate([y_t, y_bt])\n",
    "y_bv = np.zeros([len(b_array)-Ntrain, 1])\n",
    "y_v = np.concatenate([y_v, y_bv])\n",
    "\n",
    "# Include the final dimension (single-channel).\n",
    "#x_t = np.expand_dims(x_t, axis=1)\n",
    "#x_v = np.expand_dims(x_v, axis=1)\n",
    "x_t = np.reshape(x_t, (len(x_t), 48, 48, 30, 1))\n",
    "x_v = np.reshape(x_v, (len(x_v), 48, 48, 30, 1))\n",
    "print(\"Prepared\", len(x_t), \"training events and\", len(x_v), \"validation events.\")"
   ]
  },
  {
   "cell_type": "code",
   "execution_count": 72,
   "metadata": {
    "collapsed": false
   },
   "outputs": [
    {
     "name": "stdout",
     "output_type": "stream",
     "text": [
      "____________________________________________________________________________________________________\n",
      "Layer (type)                     Output Shape          Param #     Connected to                     \n",
      "====================================================================================================\n",
      "input_31 (InputLayer)            (None, 48, 48, 30, 1) 0                                            \n",
      "____________________________________________________________________________________________________\n",
      "convolution3d_123 (Convolution3D (None, 16, 16, 10, 64 13888       input_31[0][0]                   \n",
      "____________________________________________________________________________________________________\n",
      "convolution3d_124 (Convolution3D (None, 8, 8, 5, 128)  221312      convolution3d_123[0][0]          \n",
      "____________________________________________________________________________________________________\n",
      "convolution3d_125 (Convolution3D (None, 4, 4, 5, 256)  884992      convolution3d_124[0][0]          \n",
      "____________________________________________________________________________________________________\n",
      "flatten_31 (Flatten)             (None, 20480)         0           convolution3d_125[0][0]          \n",
      "____________________________________________________________________________________________________\n",
      "dense_61 (Dense)                 (None, 64)            1310784     flatten_31[0][0]                 \n",
      "____________________________________________________________________________________________________\n",
      "dense_62 (Dense)                 (None, 1)             65          dense_61[0][0]                   \n",
      "====================================================================================================\n",
      "Total params: 2431041\n",
      "____________________________________________________________________________________________________\n"
     ]
    }
   ],
   "source": [
    "# Set up a DNN for 3D convolution\n",
    "\n",
    "inputs = Input(shape=(48, 48, 30, 1))\n",
    "cinputs = Convolution3D(64, 6, 6, 6, border_mode='same', subsample=(3, 3, 3), activation='relu',init='normal')(inputs)\n",
    "cinputs = Convolution3D(128, 3, 3, 3, border_mode='same', subsample=(2, 2, 2), activation='relu',init='normal')(cinputs)\n",
    "cinputs = Convolution3D(256, 3, 3, 3, border_mode='same', subsample=(2, 2, 1), activation='relu',init='normal')(cinputs)\n",
    "#cinputs = Convolution3D(8, 3, 3, 3, border_mode='same', subsample=(2, 2, 1), activation='relu',init='he_normal')(cinputs)\n",
    "#cinputs = Convolution3D(4, 2, 2, 2, border_mode='same', subsample=(2, 2, 5), activation='relu',init='he_normal')(cinputs)\n",
    "#cinputs = Convolution3D(512, 2, 2, 2, border_mode='valid', subsample=(2, 2, 5), activation='relu')(cinputs)\n",
    "#cinputs = Convolution3D(1024, 2, 2, 1, border_mode='valid', subsample=(3, 3, 1), activation='relu')(cinputs)\n",
    "f1 = Flatten()(cinputs)\n",
    "f1 = Dense(output_dim=64, activation='relu',init='he_normal')(f1)\n",
    "#f1 = Dropout(.5)(f1)\n",
    "\n",
    "inc_output = Dense(output_dim=1, activation='sigmoid',init='he_normal')(f1)\n",
    "incep = Model(inputs, inc_output)\n",
    "\n",
    "incep.compile(loss='binary_crossentropy',\n",
    "              optimizer=Nadam(lr=0.0001, beta_1=0.9, beta_2=0.999,\n",
    "                              epsilon=1e-06, schedule_decay=0.5), metrics=['accuracy'])\n",
    "#              optimizer=SGD(lr=0.1, momentum=0.8, decay=0.1, nesterov=False),\n",
    "#              metrics=['accuracy'])\n",
    "           \n",
    "\n",
    "incep.summary()\n",
    "\n",
    "# Train the network\n",
    "lcallbacks = [callbacks.EarlyStopping(monitor='val_loss', patience=20, mode='min'), \n",
    "              callbacks.ModelCheckpoint('models/conv3d_200k.h', monitor='val_loss', save_best_only=True, mode='min')]"
   ]
  },
  {
   "cell_type": "code",
   "execution_count": 73,
   "metadata": {
    "collapsed": false
   },
   "outputs": [
    {
     "name": "stdout",
     "output_type": "stream",
     "text": [
      "Train on 16000 samples, validate on 4000 samples\n",
      "Epoch 1/40\n",
      "16000/16000 [==============================] - 14s - loss: 0.6774 - acc: 0.5554 - val_loss: 0.6648 - val_acc: 0.5862\n",
      "Epoch 2/40\n",
      "16000/16000 [==============================] - 11s - loss: 0.6474 - acc: 0.6066 - val_loss: 0.6505 - val_acc: 0.6027\n",
      "Epoch 3/40\n",
      "16000/16000 [==============================] - 11s - loss: 0.6223 - acc: 0.6276 - val_loss: 0.6432 - val_acc: 0.6095\n",
      "Epoch 4/40\n",
      "16000/16000 [==============================] - 11s - loss: 0.5973 - acc: 0.6548 - val_loss: 0.6383 - val_acc: 0.6202\n",
      "Epoch 5/40\n",
      "16000/16000 [==============================] - 12s - loss: 0.5635 - acc: 0.6911 - val_loss: 0.6452 - val_acc: 0.6092\n",
      "Epoch 6/40\n",
      "16000/16000 [==============================] - 12s - loss: 0.5241 - acc: 0.7319 - val_loss: 0.6489 - val_acc: 0.6327\n",
      "Epoch 7/40\n",
      "16000/16000 [==============================] - 12s - loss: 0.4806 - acc: 0.7663 - val_loss: 0.6639 - val_acc: 0.6222\n",
      "Epoch 8/40\n",
      "16000/16000 [==============================] - 12s - loss: 0.4370 - acc: 0.7986 - val_loss: 0.6727 - val_acc: 0.6335\n",
      "Epoch 9/40\n",
      "16000/16000 [==============================] - 12s - loss: 0.3938 - acc: 0.8263 - val_loss: 0.7252 - val_acc: 0.6220\n",
      "Epoch 10/40\n",
      " 9350/16000 [================>.............] - ETA: 4s - loss: 0.3474 - acc: 0.8544"
     ]
    },
    {
     "ename": "KeyboardInterrupt",
     "evalue": "",
     "output_type": "error",
     "traceback": [
      "\u001b[0;31m---------------------------------------------------------------------------\u001b[0m",
      "\u001b[0;31mKeyboardInterrupt\u001b[0m                         Traceback (most recent call last)",
      "\u001b[0;32m<ipython-input-73-7d041a7e709b>\u001b[0m in \u001b[0;36m<module>\u001b[0;34m()\u001b[0m\n\u001b[0;32m----> 1\u001b[0;31m \u001b[0mhist\u001b[0m \u001b[0;34m=\u001b[0m \u001b[0mincep\u001b[0m\u001b[0;34m.\u001b[0m\u001b[0mfit\u001b[0m\u001b[0;34m(\u001b[0m\u001b[0mx_t\u001b[0m\u001b[0;34m,\u001b[0m \u001b[0my_t\u001b[0m\u001b[0;34m,\u001b[0m \u001b[0mshuffle\u001b[0m\u001b[0;34m=\u001b[0m\u001b[0;32mTrue\u001b[0m\u001b[0;34m,\u001b[0m \u001b[0mnb_epoch\u001b[0m\u001b[0;34m=\u001b[0m\u001b[0;36m40\u001b[0m\u001b[0;34m,\u001b[0m \u001b[0mbatch_size\u001b[0m\u001b[0;34m=\u001b[0m\u001b[0;36m50\u001b[0m\u001b[0;34m,\u001b[0m \u001b[0mverbose\u001b[0m\u001b[0;34m=\u001b[0m\u001b[0;36m1\u001b[0m\u001b[0;34m,\u001b[0m \u001b[0mvalidation_data\u001b[0m\u001b[0;34m=\u001b[0m\u001b[0;34m(\u001b[0m\u001b[0mx_v\u001b[0m\u001b[0;34m,\u001b[0m \u001b[0my_v\u001b[0m\u001b[0;34m)\u001b[0m\u001b[0;34m)\u001b[0m\u001b[0;34m\u001b[0m\u001b[0m\n\u001b[0m",
      "\u001b[0;32m/home/jrenner/.local/lib/python3.5/site-packages/keras/engine/training.py\u001b[0m in \u001b[0;36mfit\u001b[0;34m(self, x, y, batch_size, nb_epoch, verbose, callbacks, validation_split, validation_data, shuffle, class_weight, sample_weight, initial_epoch)\u001b[0m\n\u001b[1;32m   1109\u001b[0m                               \u001b[0mval_f\u001b[0m\u001b[0;34m=\u001b[0m\u001b[0mval_f\u001b[0m\u001b[0;34m,\u001b[0m \u001b[0mval_ins\u001b[0m\u001b[0;34m=\u001b[0m\u001b[0mval_ins\u001b[0m\u001b[0;34m,\u001b[0m \u001b[0mshuffle\u001b[0m\u001b[0;34m=\u001b[0m\u001b[0mshuffle\u001b[0m\u001b[0;34m,\u001b[0m\u001b[0;34m\u001b[0m\u001b[0m\n\u001b[1;32m   1110\u001b[0m                               \u001b[0mcallback_metrics\u001b[0m\u001b[0;34m=\u001b[0m\u001b[0mcallback_metrics\u001b[0m\u001b[0;34m,\u001b[0m\u001b[0;34m\u001b[0m\u001b[0m\n\u001b[0;32m-> 1111\u001b[0;31m                               initial_epoch=initial_epoch)\n\u001b[0m\u001b[1;32m   1112\u001b[0m \u001b[0;34m\u001b[0m\u001b[0m\n\u001b[1;32m   1113\u001b[0m     \u001b[0;32mdef\u001b[0m \u001b[0mevaluate\u001b[0m\u001b[0;34m(\u001b[0m\u001b[0mself\u001b[0m\u001b[0;34m,\u001b[0m \u001b[0mx\u001b[0m\u001b[0;34m,\u001b[0m \u001b[0my\u001b[0m\u001b[0;34m,\u001b[0m \u001b[0mbatch_size\u001b[0m\u001b[0;34m=\u001b[0m\u001b[0;36m32\u001b[0m\u001b[0;34m,\u001b[0m \u001b[0mverbose\u001b[0m\u001b[0;34m=\u001b[0m\u001b[0;36m1\u001b[0m\u001b[0;34m,\u001b[0m \u001b[0msample_weight\u001b[0m\u001b[0;34m=\u001b[0m\u001b[0;32mNone\u001b[0m\u001b[0;34m)\u001b[0m\u001b[0;34m:\u001b[0m\u001b[0;34m\u001b[0m\u001b[0m\n",
      "\u001b[0;32m/home/jrenner/.local/lib/python3.5/site-packages/keras/engine/training.py\u001b[0m in \u001b[0;36m_fit_loop\u001b[0;34m(self, f, ins, out_labels, batch_size, nb_epoch, verbose, callbacks, val_f, val_ins, shuffle, callback_metrics, initial_epoch)\u001b[0m\n\u001b[1;32m    824\u001b[0m                 \u001b[0mbatch_logs\u001b[0m\u001b[0;34m[\u001b[0m\u001b[0;34m'size'\u001b[0m\u001b[0;34m]\u001b[0m \u001b[0;34m=\u001b[0m \u001b[0mlen\u001b[0m\u001b[0;34m(\u001b[0m\u001b[0mbatch_ids\u001b[0m\u001b[0;34m)\u001b[0m\u001b[0;34m\u001b[0m\u001b[0m\n\u001b[1;32m    825\u001b[0m                 \u001b[0mcallbacks\u001b[0m\u001b[0;34m.\u001b[0m\u001b[0mon_batch_begin\u001b[0m\u001b[0;34m(\u001b[0m\u001b[0mbatch_index\u001b[0m\u001b[0;34m,\u001b[0m \u001b[0mbatch_logs\u001b[0m\u001b[0;34m)\u001b[0m\u001b[0;34m\u001b[0m\u001b[0m\n\u001b[0;32m--> 826\u001b[0;31m                 \u001b[0mouts\u001b[0m \u001b[0;34m=\u001b[0m \u001b[0mf\u001b[0m\u001b[0;34m(\u001b[0m\u001b[0mins_batch\u001b[0m\u001b[0;34m)\u001b[0m\u001b[0;34m\u001b[0m\u001b[0m\n\u001b[0m\u001b[1;32m    827\u001b[0m                 \u001b[0;32mif\u001b[0m \u001b[0mtype\u001b[0m\u001b[0;34m(\u001b[0m\u001b[0mouts\u001b[0m\u001b[0;34m)\u001b[0m \u001b[0;34m!=\u001b[0m \u001b[0mlist\u001b[0m\u001b[0;34m:\u001b[0m\u001b[0;34m\u001b[0m\u001b[0m\n\u001b[1;32m    828\u001b[0m                     \u001b[0mouts\u001b[0m \u001b[0;34m=\u001b[0m \u001b[0;34m[\u001b[0m\u001b[0mouts\u001b[0m\u001b[0;34m]\u001b[0m\u001b[0;34m\u001b[0m\u001b[0m\n",
      "\u001b[0;32m/home/jrenner/.local/lib/python3.5/site-packages/keras/backend/tensorflow_backend.py\u001b[0m in \u001b[0;36m__call__\u001b[0;34m(self, inputs)\u001b[0m\n\u001b[1;32m   1094\u001b[0m             \u001b[0mfeed_dict\u001b[0m\u001b[0;34m[\u001b[0m\u001b[0mtensor\u001b[0m\u001b[0;34m]\u001b[0m \u001b[0;34m=\u001b[0m \u001b[0mvalue\u001b[0m\u001b[0;34m\u001b[0m\u001b[0m\n\u001b[1;32m   1095\u001b[0m         \u001b[0msession\u001b[0m \u001b[0;34m=\u001b[0m \u001b[0mget_session\u001b[0m\u001b[0;34m(\u001b[0m\u001b[0;34m)\u001b[0m\u001b[0;34m\u001b[0m\u001b[0m\n\u001b[0;32m-> 1096\u001b[0;31m         \u001b[0mupdated\u001b[0m \u001b[0;34m=\u001b[0m \u001b[0msession\u001b[0m\u001b[0;34m.\u001b[0m\u001b[0mrun\u001b[0m\u001b[0;34m(\u001b[0m\u001b[0mself\u001b[0m\u001b[0;34m.\u001b[0m\u001b[0moutputs\u001b[0m \u001b[0;34m+\u001b[0m \u001b[0;34m[\u001b[0m\u001b[0mself\u001b[0m\u001b[0;34m.\u001b[0m\u001b[0mupdates_op\u001b[0m\u001b[0;34m]\u001b[0m\u001b[0;34m,\u001b[0m \u001b[0mfeed_dict\u001b[0m\u001b[0;34m=\u001b[0m\u001b[0mfeed_dict\u001b[0m\u001b[0;34m)\u001b[0m\u001b[0;34m\u001b[0m\u001b[0m\n\u001b[0m\u001b[1;32m   1097\u001b[0m         \u001b[0;32mreturn\u001b[0m \u001b[0mupdated\u001b[0m\u001b[0;34m[\u001b[0m\u001b[0;34m:\u001b[0m\u001b[0mlen\u001b[0m\u001b[0;34m(\u001b[0m\u001b[0mself\u001b[0m\u001b[0;34m.\u001b[0m\u001b[0moutputs\u001b[0m\u001b[0;34m)\u001b[0m\u001b[0;34m]\u001b[0m\u001b[0;34m\u001b[0m\u001b[0m\n\u001b[1;32m   1098\u001b[0m \u001b[0;34m\u001b[0m\u001b[0m\n",
      "\u001b[0;32m/home/jrenner/.local/lib/python3.5/site-packages/tensorflow/python/client/session.py\u001b[0m in \u001b[0;36mrun\u001b[0;34m(self, fetches, feed_dict, options, run_metadata)\u001b[0m\n\u001b[1;32m    715\u001b[0m     \u001b[0;32mtry\u001b[0m\u001b[0;34m:\u001b[0m\u001b[0;34m\u001b[0m\u001b[0m\n\u001b[1;32m    716\u001b[0m       result = self._run(None, fetches, feed_dict, options_ptr,\n\u001b[0;32m--> 717\u001b[0;31m                          run_metadata_ptr)\n\u001b[0m\u001b[1;32m    718\u001b[0m       \u001b[0;32mif\u001b[0m \u001b[0mrun_metadata\u001b[0m\u001b[0;34m:\u001b[0m\u001b[0;34m\u001b[0m\u001b[0m\n\u001b[1;32m    719\u001b[0m         \u001b[0mproto_data\u001b[0m \u001b[0;34m=\u001b[0m \u001b[0mtf_session\u001b[0m\u001b[0;34m.\u001b[0m\u001b[0mTF_GetBuffer\u001b[0m\u001b[0;34m(\u001b[0m\u001b[0mrun_metadata_ptr\u001b[0m\u001b[0;34m)\u001b[0m\u001b[0;34m\u001b[0m\u001b[0m\n",
      "\u001b[0;32m/home/jrenner/.local/lib/python3.5/site-packages/tensorflow/python/client/session.py\u001b[0m in \u001b[0;36m_run\u001b[0;34m(self, handle, fetches, feed_dict, options, run_metadata)\u001b[0m\n\u001b[1;32m    913\u001b[0m     \u001b[0;32mif\u001b[0m \u001b[0mfinal_fetches\u001b[0m \u001b[0;32mor\u001b[0m \u001b[0mfinal_targets\u001b[0m\u001b[0;34m:\u001b[0m\u001b[0;34m\u001b[0m\u001b[0m\n\u001b[1;32m    914\u001b[0m       results = self._do_run(handle, final_targets, final_fetches,\n\u001b[0;32m--> 915\u001b[0;31m                              feed_dict_string, options, run_metadata)\n\u001b[0m\u001b[1;32m    916\u001b[0m     \u001b[0;32melse\u001b[0m\u001b[0;34m:\u001b[0m\u001b[0;34m\u001b[0m\u001b[0m\n\u001b[1;32m    917\u001b[0m       \u001b[0mresults\u001b[0m \u001b[0;34m=\u001b[0m \u001b[0;34m[\u001b[0m\u001b[0;34m]\u001b[0m\u001b[0;34m\u001b[0m\u001b[0m\n",
      "\u001b[0;32m/home/jrenner/.local/lib/python3.5/site-packages/tensorflow/python/client/session.py\u001b[0m in \u001b[0;36m_do_run\u001b[0;34m(self, handle, target_list, fetch_list, feed_dict, options, run_metadata)\u001b[0m\n\u001b[1;32m    963\u001b[0m     \u001b[0;32mif\u001b[0m \u001b[0mhandle\u001b[0m \u001b[0;32mis\u001b[0m \u001b[0;32mNone\u001b[0m\u001b[0;34m:\u001b[0m\u001b[0;34m\u001b[0m\u001b[0m\n\u001b[1;32m    964\u001b[0m       return self._do_call(_run_fn, self._session, feed_dict, fetch_list,\n\u001b[0;32m--> 965\u001b[0;31m                            target_list, options, run_metadata)\n\u001b[0m\u001b[1;32m    966\u001b[0m     \u001b[0;32melse\u001b[0m\u001b[0;34m:\u001b[0m\u001b[0;34m\u001b[0m\u001b[0m\n\u001b[1;32m    967\u001b[0m       return self._do_call(_prun_fn, self._session, handle, feed_dict,\n",
      "\u001b[0;32m/home/jrenner/.local/lib/python3.5/site-packages/tensorflow/python/client/session.py\u001b[0m in \u001b[0;36m_do_call\u001b[0;34m(self, fn, *args)\u001b[0m\n\u001b[1;32m    970\u001b[0m   \u001b[0;32mdef\u001b[0m \u001b[0m_do_call\u001b[0m\u001b[0;34m(\u001b[0m\u001b[0mself\u001b[0m\u001b[0;34m,\u001b[0m \u001b[0mfn\u001b[0m\u001b[0;34m,\u001b[0m \u001b[0;34m*\u001b[0m\u001b[0margs\u001b[0m\u001b[0;34m)\u001b[0m\u001b[0;34m:\u001b[0m\u001b[0;34m\u001b[0m\u001b[0m\n\u001b[1;32m    971\u001b[0m     \u001b[0;32mtry\u001b[0m\u001b[0;34m:\u001b[0m\u001b[0;34m\u001b[0m\u001b[0m\n\u001b[0;32m--> 972\u001b[0;31m       \u001b[0;32mreturn\u001b[0m \u001b[0mfn\u001b[0m\u001b[0;34m(\u001b[0m\u001b[0;34m*\u001b[0m\u001b[0margs\u001b[0m\u001b[0;34m)\u001b[0m\u001b[0;34m\u001b[0m\u001b[0m\n\u001b[0m\u001b[1;32m    973\u001b[0m     \u001b[0;32mexcept\u001b[0m \u001b[0merrors\u001b[0m\u001b[0;34m.\u001b[0m\u001b[0mOpError\u001b[0m \u001b[0;32mas\u001b[0m \u001b[0me\u001b[0m\u001b[0;34m:\u001b[0m\u001b[0;34m\u001b[0m\u001b[0m\n\u001b[1;32m    974\u001b[0m       \u001b[0mmessage\u001b[0m \u001b[0;34m=\u001b[0m \u001b[0mcompat\u001b[0m\u001b[0;34m.\u001b[0m\u001b[0mas_text\u001b[0m\u001b[0;34m(\u001b[0m\u001b[0me\u001b[0m\u001b[0;34m.\u001b[0m\u001b[0mmessage\u001b[0m\u001b[0;34m)\u001b[0m\u001b[0;34m\u001b[0m\u001b[0m\n",
      "\u001b[0;32m/home/jrenner/.local/lib/python3.5/site-packages/tensorflow/python/client/session.py\u001b[0m in \u001b[0;36m_run_fn\u001b[0;34m(session, feed_dict, fetch_list, target_list, options, run_metadata)\u001b[0m\n\u001b[1;32m    952\u001b[0m         return tf_session.TF_Run(session, options,\n\u001b[1;32m    953\u001b[0m                                  \u001b[0mfeed_dict\u001b[0m\u001b[0;34m,\u001b[0m \u001b[0mfetch_list\u001b[0m\u001b[0;34m,\u001b[0m \u001b[0mtarget_list\u001b[0m\u001b[0;34m,\u001b[0m\u001b[0;34m\u001b[0m\u001b[0m\n\u001b[0;32m--> 954\u001b[0;31m                                  status, run_metadata)\n\u001b[0m\u001b[1;32m    955\u001b[0m \u001b[0;34m\u001b[0m\u001b[0m\n\u001b[1;32m    956\u001b[0m     \u001b[0;32mdef\u001b[0m \u001b[0m_prun_fn\u001b[0m\u001b[0;34m(\u001b[0m\u001b[0msession\u001b[0m\u001b[0;34m,\u001b[0m \u001b[0mhandle\u001b[0m\u001b[0;34m,\u001b[0m \u001b[0mfeed_dict\u001b[0m\u001b[0;34m,\u001b[0m \u001b[0mfetch_list\u001b[0m\u001b[0;34m)\u001b[0m\u001b[0;34m:\u001b[0m\u001b[0;34m\u001b[0m\u001b[0m\n",
      "\u001b[0;31mKeyboardInterrupt\u001b[0m: "
     ]
    }
   ],
   "source": [
    "hist = incep.fit(x_t, y_t, shuffle=True, nb_epoch=40, batch_size=50, verbose=1, validation_data=(x_v, y_v))"
   ]
  },
  {
   "cell_type": "code",
   "execution_count": 21,
   "metadata": {
    "collapsed": true
   },
   "outputs": [],
   "source": [
    "# Carried over from NEW_kr_diff_mc_train.ipynb\n",
    "def NEW_SiPM_map_plot(xarr, yarr, plot_truth=True, normalize=True):\n",
    "    \"\"\"\n",
    "    Plots a SiPM map in the NEW Geometry\n",
    "    xarr is a NEW sipm map, yarr the pair of coordinates the map corresponds to\n",
    "    \"\"\"\n",
    "    if normalize:\n",
    "        probs = (xarr - np.min(xarr))\n",
    "        probs /= np.max(probs)\n",
    "    else: \n",
    "        probs = xarr\n",
    "\n",
    "    fig = plt.figure();\n",
    "    ax1 = fig.add_subplot(111);\n",
    "    fig.set_figheight(15.0)\n",
    "    fig.set_figwidth(15.0)\n",
    "    ax1.axis([-250, 250, -250, 250]);\n",
    "\n",
    "    for i in range(48):\n",
    "        for j in range(48):\n",
    "            r = Ellipse(xy=(i * 10 - 235, j * 10 - 235), width=2., height=2.);\n",
    "            r.set_facecolor('0');\n",
    "            r.set_alpha(probs[i, j]);\n",
    "            ax1.add_artist(r);\n",
    "            \n",
    "    if plot_truth:\n",
    "        # Place a large blue circle for actual EL points.\n",
    "        xpt = yarr[0]\n",
    "        ypt = yarr[1]\n",
    "        mrk = Ellipse(xy=(xpt,ypt), width=4., height=4.);\n",
    "        mrk.set_facecolor('b');\n",
    "        ax1.add_artist(mrk);\n",
    "        #print(xpt,ypt)\n",
    "        \n",
    "    plt.xlabel(\"x (mm)\");\n",
    "    plt.ylabel(\"y (mm)\");"
   ]
  },
  {
   "cell_type": "code",
   "execution_count": 11,
   "metadata": {
    "collapsed": false
   },
   "outputs": [
    {
     "name": "stdout",
     "output_type": "stream",
     "text": [
      "Plotting event 14900 slice 5 with charge sum 0.291458 and total sum 0.00243825 max charge 0.0338734 and min charge 0.0\n"
     ]
    },
    {
     "data": {
      "image/png": "[encoded data removed]",
      "text/plain": [
       "<matplotlib.figure.Figure at 0x7f2eb2f186a0>"
      ]
     },
     "metadata": {},
     "output_type": "display_data"
    }
   ],
   "source": [
    "# Plot training event slices.\n",
    "plt_nevt = 14900\n",
    "plt_nslice = 5\n",
    "\n",
    "plt_arr = x_t[plt_nevt,:,:,plt_nslice,0]\n",
    "NEW_SiPM_map_plot(plt_arr,[0, 0], False)\n",
    "chg_sum = np.sum(plt_arr)\n",
    "tot_chg_sum = np.sum(x_t[plt_nevt,0,:,:,:])\n",
    "max_chg = np.max(x_t[plt_nevt,:,:,plt_nslice,0])\n",
    "min_chg = np.min(x_t[plt_nevt,:,:,plt_nslice,0])\n",
    "print(\"Plotting event\", plt_nevt, \"slice\", plt_nslice, \"with charge sum\", chg_sum, \"and total sum\", tot_chg_sum,\n",
    "     \"max charge\", max_chg, \"and min charge\", min_chg)"
   ]
  },
  {
   "cell_type": "code",
   "execution_count": 13,
   "metadata": {
    "collapsed": false
   },
   "outputs": [
    {
     "name": "stdout",
     "output_type": "stream",
     "text": [
      "[ 0.]\n"
     ]
    }
   ],
   "source": [
    "print(y_t[Ntrain])"
   ]
  },
  {
   "cell_type": "code",
   "execution_count": null,
   "metadata": {
    "collapsed": true
   },
   "outputs": [],
   "source": []
  }
 ],
 "metadata": {
  "anaconda-cloud": {},
  "kernelspec": {
   "display_name": "Python [conda root]",
   "language": "python",
   "name": "conda-root-py"
  },
  "language_info": {
   "codemirror_mode": {
    "name": "ipython",
    "version": 3
   },
   "file_extension": ".py",
   "mimetype": "text/x-python",
   "name": "python",
   "nbconvert_exporter": "python",
   "pygments_lexer": "ipython3",
   "version": "3.5.2"
  }
 },
 "nbformat": 4,
 "nbformat_minor": 0
}
