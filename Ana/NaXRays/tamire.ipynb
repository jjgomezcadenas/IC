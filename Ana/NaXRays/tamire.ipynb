{
 "cells": [
  {
   "cell_type": "markdown",
   "metadata": {},
   "source": [
    "# Na22 Analysis - run 3112 - from pMaps"
   ]
  },
  {
   "cell_type": "code",
   "execution_count": 1,
   "metadata": {
    "collapsed": false
   },
   "outputs": [
    {
     "name": "stdout",
     "output_type": "stream",
     "text": [
      "Run 13/12/2016 at 17:32:40.\n"
     ]
    }
   ],
   "source": [
    "from __future__ import print_function\n",
    "import cProfile\n",
    "import pandas as pd\n",
    "import tables as tb\n",
    "import numpy as np\n",
    "import time\n",
    "\n",
    "import Core.mplFunctions as mpl\n",
    "import Core.wfmFunctions as wfm\n",
    "import Core.sensorFunctions as snf\n",
    "import Core.tblFunctions as tbl\n",
    "import Core.fitFunctions as fitf\n",
    "import Calib.calib as cb\n",
    "import Database.loadDB as db\n",
    "\n",
    "import matplotlib\n",
    "import matplotlib.pyplot as plt\n",
    "matplotlib.style.use('ggplot')\n",
    "\n",
    "%matplotlib inline\n",
    "%load_ext autoreload\n",
    "%autoreload 2\n",
    "print(\"Run {} at {}.\".format(time.strftime(\"%d/%m/%Y\"),time.strftime(\"%H:%M:%S\")))"
   ]
  },
  {
   "cell_type": "code",
   "execution_count": 2,
   "metadata": {
    "collapsed": true
   },
   "outputs": [],
   "source": [
    "IDATAPATH = '/Users/hernando/Investigacion/NEXT/Data/NEWStar/Na/r3112/'\n",
    "IFILENAME = 'pmaps_r3112_0.h5'"
   ]
  },
  {
   "cell_type": "code",
   "execution_count": 3,
   "metadata": {
    "collapsed": false
   },
   "outputs": [
    {
     "name": "stdout",
     "output_type": "stream",
     "text": [
      "input file /Users/hernando/Investigacion/NEXT/Data/NEWStar/Na/r3112/pmaps_r3112_0.h5\n"
     ]
    }
   ],
   "source": [
    "ifile = IDATAPATH+IFILENAME\n",
    "print('input file', ifile)"
   ]
  },
  {
   "cell_type": "code",
   "execution_count": 9,
   "metadata": {
    "collapsed": false
   },
   "outputs": [
    {
     "data": {
      "text/plain": [
       "File(filename=/Users/hernando/Investigacion/NEXT/Data/NEWStar/Na/r3112/pmaps_r3112_0.h5, title='', mode='r', root_uep='/', filters=Filters(complevel=4, complib='zlib', shuffle=True, fletcher32=False, least_significant_digit=None))\n",
       "/ (RootGroup) ''\n",
       "/PMAPS (Group) ''\n",
       "/PMAPS/S1 (Table(6112,), shuffle, zlib(4)) 'S1 Table'\n",
       "  description := {\n",
       "  \"event\": Int32Col(shape=(), dflt=0, pos=0),\n",
       "  \"peak\": UInt8Col(shape=(), dflt=0, pos=1),\n",
       "  \"time\": Float32Col(shape=(), dflt=0.0, pos=2),\n",
       "  \"ene\": Float32Col(shape=(), dflt=0.0, pos=3)}\n",
       "  byteorder := 'little'\n",
       "  chunkshape := (5041,)\n",
       "  autoindex := True\n",
       "  colindexes := {\n",
       "    \"event\": Index(6, medium, shuffle, zlib(1)).is_csi=False}\n",
       "/PMAPS/S2 (Table(6659,), shuffle, zlib(4)) 'S2 Table'\n",
       "  description := {\n",
       "  \"event\": Int32Col(shape=(), dflt=0, pos=0),\n",
       "  \"peak\": UInt8Col(shape=(), dflt=0, pos=1),\n",
       "  \"time\": Float32Col(shape=(), dflt=0.0, pos=2),\n",
       "  \"ene\": Float32Col(shape=(), dflt=0.0, pos=3)}\n",
       "  byteorder := 'little'\n",
       "  chunkshape := (5041,)\n",
       "  autoindex := True\n",
       "  colindexes := {\n",
       "    \"event\": Index(6, medium, shuffle, zlib(1)).is_csi=False}\n",
       "/PMAPS/S2Si (Table(76251,), shuffle, zlib(4)) 'S2Si Table'\n",
       "  description := {\n",
       "  \"event\": Int32Col(shape=(), dflt=0, pos=0),\n",
       "  \"peak\": UInt8Col(shape=(), dflt=0, pos=1),\n",
       "  \"nsipm\": Int16Col(shape=(), dflt=0, pos=2),\n",
       "  \"nsample\": Int16Col(shape=(), dflt=0, pos=3),\n",
       "  \"ene\": Float32Col(shape=(), dflt=0.0, pos=4)}\n",
       "  byteorder := 'little'\n",
       "  chunkshape := (5041,)\n",
       "  autoindex := True\n",
       "  colindexes := {\n",
       "    \"event\": Index(6, medium, shuffle, zlib(1)).is_csi=False}"
      ]
     },
     "execution_count": 9,
     "metadata": {},
     "output_type": "execute_result"
    }
   ],
   "source": [
    "h5f = tb.open_file(ifile)\n",
    "h5f"
   ]
  },
  {
   "cell_type": "code",
   "execution_count": 16,
   "metadata": {
    "collapsed": false
   },
   "outputs": [],
   "source": [
    "s1tb = h5f.root.PMAPS.S1\n",
    "s2tb = h5f.root.PMAPS.S2\n",
    "s2sitb = h5f.root.PMAPS.S2Si"
   ]
  },
  {
   "cell_type": "code",
   "execution_count": 17,
   "metadata": {
    "collapsed": false
   },
   "outputs": [],
   "source": [
    "s1pd = pd.DataFrame.from_records(s1tb.read())\n",
    "s2pd = pd.DataFrame.from_records(s2tb.read())\n",
    "s2sipd = pd.DataFrame.from_records(s2sitb.read())"
   ]
  },
  {
   "cell_type": "code",
   "execution_count": 19,
   "metadata": {
    "collapsed": false
   },
   "outputs": [
    {
     "ename": "NameError",
     "evalue": "name 's2sipb' is not defined",
     "output_type": "error",
     "traceback": [
      "\u001b[0;31m---------------------------------------------------------------------------\u001b[0m",
      "\u001b[0;31mNameError\u001b[0m                                 Traceback (most recent call last)",
      "\u001b[0;32m<ipython-input-19-d627814beec9>\u001b[0m in \u001b[0;36m<module>\u001b[0;34m()\u001b[0m\n\u001b[0;32m----> 1\u001b[0;31m \u001b[0ms2sipb\u001b[0m\u001b[0;34m\u001b[0m\u001b[0m\n\u001b[0m",
      "\u001b[0;31mNameError\u001b[0m: name 's2sipb' is not defined"
     ]
    }
   ],
   "source": [
    "s2sipb"
   ]
  },
  {
   "cell_type": "code",
   "execution_count": null,
   "metadata": {
    "collapsed": true
   },
   "outputs": [],
   "source": []
  }
 ],
 "metadata": {
  "anaconda-cloud": {},
  "kernelspec": {
   "display_name": "Python [Root]",
   "language": "python",
   "name": "Python [Root]"
  },
  "language_info": {
   "codemirror_mode": {
    "name": "ipython",
    "version": 2
   },
   "file_extension": ".py",
   "mimetype": "text/x-python",
   "name": "python",
   "nbconvert_exporter": "python",
   "pygments_lexer": "ipython2",
   "version": "2.7.12"
  }
 },
 "nbformat": 4,
 "nbformat_minor": 0
}
