{
 "cells": [
  {
   "cell_type": "markdown",
   "metadata": {},
   "source": [
    "# LSC Notebook"
   ]
  },
  {
   "cell_type": "markdown",
   "metadata": {},
   "source": [
    "## LSC studies"
   ]
  },
  {
   "cell_type": "code",
   "execution_count": 1,
   "metadata": {
    "collapsed": true
   },
   "outputs": [],
   "source": [
    "import time"
   ]
  },
  {
   "cell_type": "code",
   "execution_count": 2,
   "metadata": {
    "collapsed": true
   },
   "outputs": [],
   "source": [
    "from __future__ import print_function"
   ]
  },
  {
   "cell_type": "code",
   "execution_count": 3,
   "metadata": {
    "collapsed": true
   },
   "outputs": [],
   "source": [
    "%matplotlib inline"
   ]
  },
  {
   "cell_type": "code",
   "execution_count": 4,
   "metadata": {
    "collapsed": true
   },
   "outputs": [],
   "source": [
    "%load_ext autoreload"
   ]
  },
  {
   "cell_type": "code",
   "execution_count": 5,
   "metadata": {
    "collapsed": true
   },
   "outputs": [],
   "source": [
    "%autoreload 2"
   ]
  },
  {
   "cell_type": "code",
   "execution_count": 6,
   "metadata": {
    "collapsed": false
   },
   "outputs": [],
   "source": [
    "import matplotlib.pyplot as plt\n",
    "import pandas as pd\n",
    "import tables as tb\n",
    "import numpy as np\n",
    "import mplFunctions as mpl\n",
    "import wfmFunctions as wfm\n",
    "import sensorFunctions as snf\n",
    "from Util import *\n",
    "import FEParam as FP\n",
    "from scipy import signal as SGN"
   ]
  },
  {
   "cell_type": "code",
   "execution_count": 7,
   "metadata": {
    "collapsed": false
   },
   "outputs": [
    {
     "data": {
      "text/plain": [
       "'/home/icuser/IC:/home/icuser/IC/Cities:/home/icuser/IC/Notebooks:/home/icuser/IC/Utilities:/home/icuser/IC/Sierpe:/home/icuser/IC/Core'"
      ]
     },
     "execution_count": 7,
     "metadata": {},
     "output_type": "execute_result"
    }
   ],
   "source": [
    "%env PYTHONPATH"
   ]
  },
  {
   "cell_type": "code",
   "execution_count": 8,
   "metadata": {
    "collapsed": true
   },
   "outputs": [],
   "source": [
    "import logging\n",
    "import sys\n",
    "logger = logging.getLogger()\n",
    "logger.handlers[0].stream = sys.stdout\n",
    "logger.setLevel(logging.DEBUG)"
   ]
  },
  {
   "cell_type": "code",
   "execution_count": 9,
   "metadata": {
    "collapsed": false
   },
   "outputs": [
    {
     "name": "stdout",
     "output_type": "stream",
     "text": [
      "08/10/2016\n",
      "11:48:27\n"
     ]
    }
   ],
   "source": [
    "print(time.strftime(\"%d/%m/%Y\"))\n",
    "print(time.strftime(\"%H:%M:%S\"))"
   ]
  },
  {
   "cell_type": "markdown",
   "metadata": {},
   "source": [
    "### Access to LSC"
   ]
  },
  {
   "cell_type": "raw",
   "metadata": {},
   "source": [
    "scp -P 6027 icuser@193.146.122.114:/home/dateuser/pyRaul/hdf5_waves/pulseVar_r2033. .\n",
    "\n",
    "\n",
    "stor1next:\n",
    "\n",
    " ssh -v -o PreferredAuthentications=password -o PubkeyAuthentication=no icuser@193.146.122.114 -p 6027\n",
    "\n",
    "stor2next:\n",
    " ssh -v -o PreferredAuthentications=password -o PubkeyAuthentication=no icuser@193.146.122.114 -p 6028\n",
    "\n",
    "Toda la información de acceso a los servers está en:\n",
    "\n",
    "https://nextbb.teamwork.com/?useTKO=1#notebooks/112055\n",
    "hostname: stor1next y stor2next\n",
    "\n",
    "username: icuser\n",
    "\n",
    "password: icuser.123"
   ]
  },
  {
   "cell_type": "markdown",
   "metadata": {},
   "source": [
    "### Script DAQ to h5"
   ]
  },
  {
   "cell_type": "raw",
   "metadata": {},
   "source": [
    "Desde icuser se pueden producir los ficheros con el script que está en /home/icuser/waveforms/hdf5.sh\n",
    "\n",
    "La manera de usarlo es la siguiente:\n",
    "\n",
    "./hdf5.sh runnumber [number_of_files]\n",
    "\n",
    "Por ejemplo, el run 2248 tiene dos ficheros, el uno por cada gdc. Si ejecutamos:\n",
    "\n",
    "cd waveforms\n",
    "./hdf5.sh 2248\n",
    "\n",
    "Se producirán los ficheros:\n",
    "\n",
    "/home/icuser/waveforms/hdf5/run_2248.gdc1next.000.next1el_2248.root.h5\n",
    "/home/icuser/waveforms/hdf5/run_2248.gdc1next.000.next1el_2248.root.h5\n",
    "\n",
    "Por defecto convertirá a hdf5 todos los ficheros de run especificado. Si queremos limitarlo, podemos usar el segundo parámetro, por ejemplo:\n",
    "\n",
    "./hdf5.sh 2248 1\n",
    "\n",
    "Solo producirá un fichero:\n",
    "\n",
    "/home/icuser/waveforms/hdf5/run_2248.gdc1next.000.next1el_2248.root.h5"
   ]
  },
  {
   "cell_type": "code",
   "execution_count": 13,
   "metadata": {
    "collapsed": false
   },
   "outputs": [
    {
     "name": "stdout",
     "output_type": "stream",
     "text": [
      "-rw-rw-r-- 1 icuser icuser 164M Oct  7 14:18 ../../../waveforms/hdf5/run_2308.gdc1next.000.next1el_2308.root.h5\r\n",
      "-rw-rw-r-- 1 icuser icuser 164M Oct  7 14:19 ../../../waveforms/hdf5/run_2308.gdc1next.001.next1el_2308.root.h5\r\n",
      "-rw-rw-r-- 1 icuser icuser  52M Oct  7 14:20 ../../../waveforms/hdf5/run_2308.gdc1next.002.next1el_2308.root.h5\r\n",
      "-rw-rw-r-- 1 icuser icuser  89M Oct  7 14:20 ../../../waveforms/hdf5/run_2308.gdc1next.003.next1el_2308.root.h5\r\n",
      "-rw-rw-r-- 1 icuser icuser 1.7M Oct  7 14:20 ../../../waveforms/hdf5/run_2308.gdc1next.004.next1el_2308.root.h5\r\n",
      "-rw-rw-r-- 1 icuser icuser  72M Oct  7 14:21 ../../../waveforms/hdf5/run_2308.gdc1next.005.next1el_2308.root.h5\r\n",
      "-rw-rw-r-- 1 icuser icuser 103M Oct  7 14:22 ../../../waveforms/hdf5/run_2308.gdc1next.006.next1el_2308.root.h5\r\n",
      "-rw-rw-r-- 1 icuser icuser  13M Oct  7 14:22 ../../../waveforms/hdf5/run_2308.gdc1next.007.next1el_2308.root.h5\r\n",
      "-rw-rw-r-- 1 icuser icuser 164M Oct  7 14:23 ../../../waveforms/hdf5/run_2308.gdc1next.008.next1el_2308.root.h5\r\n",
      "-rw-rw-r-- 1 icuser icuser  43M Oct  7 14:23 ../../../waveforms/hdf5/run_2308.gdc1next.009.next1el_2308.root.h5\r\n",
      "-rw-rw-r-- 1 icuser icuser  40M Oct  7 14:24 ../../../waveforms/hdf5/run_2308.gdc1next.010.next1el_2308.root.h5\r\n",
      "-rw-rw-r-- 1 icuser icuser  82M Oct  7 14:24 ../../../waveforms/hdf5/run_2308.gdc1next.011.next1el_2308.root.h5\r\n",
      "-rw-rw-r-- 1 icuser icuser 158M Oct  7 14:25 ../../../waveforms/hdf5/run_2308.gdc1next.012.next1el_2308.root.h5\r\n",
      "-rw-rw-r-- 1 icuser icuser  40M Oct  7 14:26 ../../../waveforms/hdf5/run_2308.gdc1next.013.next1el_2308.root.h5\r\n",
      "-rw-rw-r-- 1 icuser icuser  33M Oct  7 14:26 ../../../waveforms/hdf5/run_2308.gdc1next.014.next1el_2308.root.h5\r\n",
      "-rw-rw-r-- 1 icuser icuser  32M Oct  7 14:26 ../../../waveforms/hdf5/run_2308.gdc1next.015.next1el_2308.root.h5\r\n",
      "-rw-rw-r-- 1 icuser icuser 164M Oct  7 14:27 ../../../waveforms/hdf5/run_2308.gdc2next.000.next1el_2308.root.h5\r\n",
      "-rw-rw-r-- 1 icuser icuser  33M Oct  7 14:27 ../../../waveforms/hdf5/run_2308.gdc2next.001.next1el_2308.root.h5\r\n",
      "-rw-rw-r-- 1 icuser icuser  51M Oct  7 14:28 ../../../waveforms/hdf5/run_2308.gdc2next.002.next1el_2308.root.h5\r\n",
      "-rw-rw-r-- 1 icuser icuser 164M Oct  7 14:29 ../../../waveforms/hdf5/run_2308.gdc2next.003.next1el_2308.root.h5\r\n",
      "-rw-rw-r-- 1 icuser icuser  31M Oct  7 14:29 ../../../waveforms/hdf5/run_2308.gdc2next.004.next1el_2308.root.h5\r\n",
      "-rw-rw-r-- 1 icuser icuser  72M Oct  7 14:30 ../../../waveforms/hdf5/run_2308.gdc2next.005.next1el_2308.root.h5\r\n",
      "-rw-rw-r-- 1 icuser icuser 136M Oct  7 14:31 ../../../waveforms/hdf5/run_2308.gdc2next.006.next1el_2308.root.h5\r\n",
      "-rw-rw-r-- 1 icuser icuser  46M Oct  7 14:31 ../../../waveforms/hdf5/run_2308.gdc2next.007.next1el_2308.root.h5\r\n",
      "-rw-rw-r-- 1 icuser icuser  89M Oct  7 14:32 ../../../waveforms/hdf5/run_2308.gdc2next.008.next1el_2308.root.h5\r\n",
      "-rw-rw-r-- 1 icuser icuser 5.1M Oct  7 14:32 ../../../waveforms/hdf5/run_2308.gdc2next.009.next1el_2308.root.h5\r\n",
      "-rw-rw-r-- 1 icuser icuser  38M Oct  7 14:33 ../../../waveforms/hdf5/run_2308.gdc2next.010.next1el_2308.root.h5\r\n",
      "-rw-rw-r-- 1 icuser icuser 164M Oct  7 14:34 ../../../waveforms/hdf5/run_2308.gdc2next.011.next1el_2308.root.h5\r\n",
      "-rw-rw-r-- 1 icuser icuser  35M Oct  7 14:34 ../../../waveforms/hdf5/run_2308.gdc2next.012.next1el_2308.root.h5\r\n",
      "-rw-rw-r-- 1 icuser icuser  96M Oct  7 14:35 ../../../waveforms/hdf5/run_2308.gdc2next.013.next1el_2308.root.h5\r\n",
      "-rw-rw-r-- 1 icuser icuser 164M Oct  7 14:36 ../../../waveforms/hdf5/run_2308.gdc2next.014.next1el_2308.root.h5\r\n",
      "-rw-rw-r-- 1 icuser icuser 165M Oct  7 14:38 ../../../waveforms/hdf5/run_2308.gdc2next.015.next1el_2308.root.h5\r\n"
     ]
    }
   ],
   "source": [
    "!ls -lh ../../../waveforms/hdf5/*2308*.h5"
   ]
  },
  {
   "cell_type": "code",
   "execution_count": null,
   "metadata": {
    "collapsed": true
   },
   "outputs": [],
   "source": []
  },
  {
   "cell_type": "markdown",
   "metadata": {},
   "source": [
    "## October Argon run"
   ]
  },
  {
   "cell_type": "code",
   "execution_count": 14,
   "metadata": {
    "collapsed": true
   },
   "outputs": [],
   "source": [
    "def get_vectors(h5f):\n",
    "    \"\"\"\n",
    "    input: file pointer\n",
    "    returns: data vectors\n",
    "    \"\"\"\n",
    "    pmtrwf = h5f.root.RD.pmtrwf\n",
    "    sipmrwf = h5f.root.RD.sipmrwf\n",
    "    geom_t = h5f.root.Detector.DetectorGeometry\n",
    "    pmt_t = h5f.root.Sensors.DataPMT\n",
    "    sipm_t = h5f.root.Sensors.DataSiPM\n",
    "    gdf = snf.read_data_geom(geom_t)\n",
    "    pmtdf = snf.read_data_sensors(pmt_t)\n",
    "    sipmdf = snf.read_data_sensors(sipm_t)\n",
    "    return pmtrwf,sipmrwf,pmtdf,sipmdf,gdf\n",
    "    "
   ]
  },
  {
   "cell_type": "code",
   "execution_count": 15,
   "metadata": {
    "collapsed": true
   },
   "outputs": [],
   "source": [
    "def wfdf(time,energy_pes,indx):\n",
    "    \"\"\"\n",
    "    takes three vectors (time, energy and indx) and returns a data frame representing a waveform\n",
    "    \"\"\"\n",
    "    swf = {}\n",
    "    swf['time_mus'] = time/mus\n",
    "    swf['ene_pes'] = energy_pes \n",
    "    swf['indx'] = indx\n",
    "    return pd.DataFrame(swf)"
   ]
  },
  {
   "cell_type": "code",
   "execution_count": 16,
   "metadata": {
    "collapsed": true
   },
   "outputs": [],
   "source": [
    "def waveform_panel(pmtrwf,pmtdf,mau_len = 500, calib_constat =True, adc_to_pes=20, \n",
    "                   type = 'PMT', daq_ceiling=4096, event=0):\n",
    "    \"\"\"\n",
    "    input: sensor (pmt or sipm) data vector, sensor data frame (position, calibration)\n",
    "    returns: a panel holding waveforms for all sensors, and a series for the baselines\n",
    "    \"\"\"\n",
    "    PMT = {}\n",
    "    nm = mau_len\n",
    "    B_MAU = (1./nm)*np.ones(nm)\n",
    "    pmt_len = pmtrwf.shape[2]\n",
    "    NPMT = pmtrwf.shape[1]\n",
    "    MAU = np.zeros(nm)\n",
    "    BSL = {}\n",
    "    \n",
    "    time_ns = np.arange(pmt_len)*mus\n",
    "    indx = np.arange(pmt_len)\n",
    "    \n",
    "    if type == 'PMT':\n",
    "        time_ns = np.arange(pmt_len)*FP.time_DAQ\n",
    "        \n",
    "    ene_sum = 0\n",
    "    for j in range(NPMT):\n",
    "                     \n",
    "        if calib_constat == True:\n",
    "            adc_to_pes = abs(pmtdf['adc_to_pes'][j])\n",
    "            \n",
    "        signal_daq = pmtrwf[event,j]\n",
    "        if type == 'PMT':\n",
    "            signal_daq = daq_ceiling - pmtrwf[event,j]\n",
    "            \n",
    "        MAU[0:nm] = SGN.lfilter(B_MAU,1, signal_daq[0:nm])\n",
    "        BASELINE = MAU[nm-1]\n",
    "        \n",
    "        ene_pes = (signal_daq - BASELINE)/adc_to_pes\n",
    "        if type == 'PMT':\n",
    "            ene_sum += ene_pes\n",
    "            \n",
    "        PMT[j] = wfdf(time_ns,ene_pes,indx)\n",
    "        BSL[j] = BASELINE\n",
    "    PMT[j+1] = wfdf(time_ns,ene_sum,indx)\n",
    "    return pd.Panel(PMT),pd.Series(BSL)\n"
   ]
  },
  {
   "cell_type": "code",
   "execution_count": 17,
   "metadata": {
    "collapsed": true
   },
   "outputs": [],
   "source": [
    "def plot_PPMT(pmt_panel, tmin=0, tmax=1200, emin = 0, emax = 10000, option='sum'):\n",
    "    \"\"\"\n",
    "    Plots pmtwf\n",
    "    \"\"\"\n",
    "    plt.figure(figsize=(10,10))\n",
    "    \n",
    "    if option == 'sum':\n",
    "        ax1 = plt.subplot(1,1,1)\n",
    "        ax1.set_xlim([tmin, tmax])\n",
    "        ax1.set_ylim([emin, emax])\n",
    "        indx = pmt_panel.items[-1]\n",
    "        pmtwf = pmt_panel[indx]\n",
    "        plt.plot(pmtwf['time_mus'],pmtwf['ene_pes'])\n",
    "    else:\n",
    "        \n",
    "        for i in pmt_panel.items[0:-1]:\n",
    "            ax1 = plt.subplot(3,4,int(i)+1)\n",
    "            ax1.set_xlim([tmin, tmax])\n",
    "            ax1.set_ylim([emin, emax])\n",
    "        \n",
    "            pmtwf = pmt_panel[i]\n",
    "            plt.plot(pmtwf['time_mus'],pmtwf['ene_pes'])\n",
    "    \n",
    "    plt.show()"
   ]
  },
  {
   "cell_type": "code",
   "execution_count": 18,
   "metadata": {
    "collapsed": true
   },
   "outputs": [],
   "source": [
    "def wf_thr(wf,threshold=0):\n",
    "    \"\"\"\n",
    "    return a zero supressed waveform (more generally, the vaules of wf above threshold)\n",
    "    \"\"\"\n",
    "    return wf.loc[lambda df: df.ene_pes.values >threshold, :]"
   ]
  },
  {
   "cell_type": "code",
   "execution_count": 19,
   "metadata": {
    "collapsed": true
   },
   "outputs": [],
   "source": [
    "def energy_sum(sensor_panel, thr=0):\n",
    "    \"\"\"\n",
    "    Sum the WFs of PMTs and SiPMs (MC) and store the total energy in PES\n",
    "    \"\"\"     \n",
    "    EPES = []\n",
    "\n",
    "    for i in sensor_panel.items[0:-1]:\n",
    "        pmtwf = sensor_panel[i]\n",
    "        EPES.append(np.sum(pmtwf.ene_pes.values[np.where(pmtwf.ene_pes.values>thr)]))\n",
    "    return pd.Series(EPES) "
   ]
  },
  {
   "cell_type": "code",
   "execution_count": 20,
   "metadata": {
    "collapsed": true
   },
   "outputs": [],
   "source": [
    "def plot_sensors(geom_df,sensor_df, energy, radius=10):\n",
    "    \"\"\"\n",
    "    plots the energy of the sensors \n",
    "    \"\"\"\n",
    "    x =sensor_df['x'].values\n",
    "    y =sensor_df['y'].values\n",
    "    r =np.ones(len(sensor_df['x'].values))*radius\n",
    "    \n",
    "    plt.figure(figsize=(10,10))\n",
    "    ax = plt.subplot(aspect='equal')\n",
    "    mpl.circles(x, y, r, c=energy, alpha=0.5, ec='none')\n",
    "    plt.colorbar()\n",
    "    \n",
    "    plt.xlim(geom_df['xdet_min'],geom_df['xdet_max'])\n",
    "    plt.ylim(geom_df['ydet_min'],geom_df['ydet_max'])\n",
    "    "
   ]
  },
  {
   "cell_type": "code",
   "execution_count": 21,
   "metadata": {
    "collapsed": true
   },
   "outputs": [],
   "source": [
    "def find_S12(swf, stride=40):\n",
    "    \"\"\"\n",
    "    Find S1 or S2 signals. The input is a zero-supressed WF. The stride defines the contiguity criterium.\n",
    "    The stride is applied to the indexes which keep the ordering of the original (non-zs) WF. \n",
    "    For example, with a stride of 40 (corresponding to steps of 1 mus for a DAQ timing of 25 ns) index 1\n",
    "    and index 39 are in the same S12. \n",
    "    \"\"\"\n",
    "    T = swf['time_mus'].values\n",
    "    P = swf['ene_pes'].values\n",
    "    I = swf['indx'].values\n",
    "    \n",
    "    S12 = {}\n",
    "    pulse_on = 1\n",
    "    j=0\n",
    "    \n",
    "    S12[0] = []\n",
    "    S12[0].append([T[0],P[0],I[0]])\n",
    "    \n",
    "    for i in range(1,len(swf)) :\n",
    "        if swf.index[i]-stride > swf.index[i-1]:  #new s12\n",
    "            j+=1\n",
    "            S12[j] = []\n",
    "            S12[j].append([T[i],P[i],I[i]])\n",
    "        else:\n",
    "            S12[j].append([T[i],P[i],I[i]])\n",
    "            \n",
    "    S12L=[]\n",
    "    for i in S12.keys():\n",
    "        S12L.append(pd.DataFrame(S12[i], columns=['time_mus','ene_pes','indx']))\n",
    "    return S12L"
   ]
  },
  {
   "cell_type": "code",
   "execution_count": 22,
   "metadata": {
    "collapsed": true
   },
   "outputs": [],
   "source": [
    "def rebin_waveform(swf, stride = 40):\n",
    "    \"\"\"\n",
    "    rebins the a waveform according to stride \n",
    "    The input waveform is a vector such that the index expresses time bin and the\n",
    "    contents expresses energy (e.g, in pes)\n",
    "    The function returns a DataFrame. The time bins and energy are rebinned according to stride\n",
    "    \"\"\"\n",
    "    \n",
    "    t = swf['time_mus'].values\n",
    "    e = swf['ene_pes'].values\n",
    "    I = swf['indx'].values\n",
    "    n = len(swf)/int(stride)\n",
    "    r = len(swf)%int(stride)\n",
    "    \n",
    "    lenb = n\n",
    "    if r > 0: \n",
    "        lenb = n+1\n",
    "    \n",
    "    T = np.zeros(lenb)\n",
    "    E = np.zeros(lenb)\n",
    "    II = np.zeros(lenb, dtype=int)\n",
    "    \n",
    "    j=0\n",
    "    for i in range(n):\n",
    "        E[i] = np.sum(e[j:j+stride])\n",
    "        T[i] = np.mean(t[j:j+stride])\n",
    "        II[i] = I[(j+stride)/2]\n",
    "        j+= stride\n",
    "        \n",
    "    if r > 0:\n",
    "        E[n] = np.sum(e[j:])\n",
    "        T[n] = np.mean(t[j:])\n",
    "        II[n] = I[(len(swf) - j/2)]\n",
    "    \n",
    "   \n",
    "    rbw={}\n",
    "    rbw['ene_pes'] = E\n",
    "    rbw['time_mus'] = T\n",
    "    rbw['indx'] = II\n",
    "    return pd.DataFrame(rbw)"
   ]
  },
  {
   "cell_type": "code",
   "execution_count": 23,
   "metadata": {
    "collapsed": true
   },
   "outputs": [],
   "source": [
    "def find_t0(s1):\n",
    "    \"\"\"\n",
    "    returns t0\n",
    "    \"\"\"\n",
    "    emax = np.amax(s1.ene_pes.values)\n",
    "    return s1.loc[lambda df: df.ene_pes.values ==emax, :]"
   ]
  },
  {
   "cell_type": "code",
   "execution_count": 24,
   "metadata": {
    "collapsed": true
   },
   "outputs": [],
   "source": [
    "def s2_energy(s2):\n",
    "    \"\"\"\n",
    "    total energy in pes\n",
    "    \"\"\"\n",
    "    return np.sum(s2.ene_pes.values)"
   ]
  },
  {
   "cell_type": "code",
   "execution_count": 25,
   "metadata": {
    "collapsed": true
   },
   "outputs": [],
   "source": [
    "def s2_length(s2):\n",
    "    \"\"\"\n",
    "    s2 length in mus\n",
    "    \"\"\"\n",
    "    t = s2.time_mus.values\n",
    "    return t[-1] - t[0]"
   ]
  },
  {
   "cell_type": "code",
   "execution_count": 26,
   "metadata": {
    "collapsed": true
   },
   "outputs": [],
   "source": [
    "def s2_peak(s2):\n",
    "    \"\"\"\n",
    "    s2 peak in mus\n",
    "    \"\"\"\n",
    "        \n",
    "    return s2rb.describe().time_mus['max'], s2rb.describe().ene_pes['max']"
   ]
  },
  {
   "cell_type": "code",
   "execution_count": 27,
   "metadata": {
    "collapsed": true
   },
   "outputs": [],
   "source": [
    "def find_t(s1,s2):\n",
    "    \"\"\"\n",
    "    returns the time of the interaction\n",
    "    \"\"\"\n",
    "    t0 = find_t0(s1).time_mus.values[0]\n",
    "    ts2,es2 = s2_peak(s2)\n",
    "    return ts2 - t0\n",
    "        "
   ]
  },
  {
   "cell_type": "code",
   "execution_count": 28,
   "metadata": {
    "collapsed": true
   },
   "outputs": [],
   "source": [
    "def sipm_s2(sipmdf, s2df):\n",
    "    \"\"\"\n",
    "    Takes a sipm DF and an s2df\n",
    "    Returns a DF with the sipm values in the range specified by s2\n",
    "    \"\"\"\n",
    "    s2ti = s2df.time_mus.values[0]\n",
    "    s2tf = s2df.time_mus.values[-1]\n",
    "    dfl = sipmdf.loc[lambda df: df.time_mus.values >= s2ti, :]\n",
    "    dfu = dfl.loc[lambda df: df.time_mus.values < s2tf, :]\n",
    "    return dfu"
   ]
  },
  {
   "cell_type": "code",
   "execution_count": 29,
   "metadata": {
    "collapsed": true
   },
   "outputs": [],
   "source": [
    "def sipm_s2_panel(sipmp, s2, thr_min=0.5, thr_s2 =1, event_number=0):\n",
    "    \"\"\"\n",
    "    Takes a sipmp\n",
    "    Returns a sipm panel with a collection of sipm DF such that:\n",
    "    1. the range of the sipm is specified by s2\n",
    "    2. the sipm energy are above threshold.\n",
    "    \"\"\"\n",
    "    \n",
    "    j=0\n",
    "    SIPM={}\n",
    "    ESIPM=[]\n",
    "    for i in (sipmp.items):\n",
    "        sipm = sipmp[i]\n",
    "        ESIPM.append(np.sum(sipm.ene_pes))\n",
    "        \n",
    "        if np.sum(sipm.ene_pes) < thr_min:  #only worry about SiPM with energy above threshold\n",
    "            continue\n",
    "            \n",
    "        sipms2 = sipm_s2(sipm, s2)\n",
    "        if np.sum(sipms2).ene_pes > thr_s2:\n",
    "            SIPM[j] = sipms2\n",
    "            j+=1\n",
    "    return pd.Panel(SIPM), np.array(ESIPM)\n",
    " "
   ]
  },
  {
   "cell_type": "code",
   "execution_count": 30,
   "metadata": {
    "collapsed": true
   },
   "outputs": [],
   "source": [
    "def sipm_s2_energy(sipmp, s2, thr_min=0.5, thr_s2 =0.5):\n",
    "    \"\"\"\n",
    "    Takes a sipmp\n",
    "    Returns a sipm panel where every member is a SiPM which has energy above trheshold:\n",
    "    The energy of the SiPM corresponds to the S2 width\n",
    "\n",
    "    \"\"\"\n",
    "    \n",
    "    j=0\n",
    "    SIPM={}\n",
    "    for i in (sipmp.items):\n",
    "        sipm = sipmp[i]\n",
    "        etot = np.sum(sipm.ene_pes)\n",
    "        if etot < thr_min:  #only worry about SiPM with energy above threshold\n",
    "            continue\n",
    "            \n",
    "        sipms2 = sipm_s2(sipm, s2)\n",
    "        es2 = np.sum(sipms2).ene_pes\n",
    "        if es2 > thr_s2:\n",
    "            DATA = []\n",
    "            DATA.append(i)\n",
    "            DATA.append(etot)\n",
    "            DATA.append(es2)\n",
    "            SIPM[j] = DATA\n",
    "            j+=1\n",
    "    return pd.DataFrame(data=SIPM.values(), index=SIPM.keys(), columns=['sipm_indx','etot_pes','es2_pes'])"
   ]
  },
  {
   "cell_type": "code",
   "execution_count": 31,
   "metadata": {
    "collapsed": true
   },
   "outputs": [],
   "source": [
    "def sPMT(pmt_panel):\n",
    "    return pmt_panel[PMT.items[-1]]"
   ]
  },
  {
   "cell_type": "markdown",
   "metadata": {},
   "source": [
    "### RUN 2297"
   ]
  },
  {
   "cell_type": "code",
   "execution_count": 32,
   "metadata": {
    "collapsed": false
   },
   "outputs": [
    {
     "name": "stdout",
     "output_type": "stream",
     "text": [
      "-rw-rw-r-- 1 icuser icuser 164M Oct  7 14:18 ../../../waveforms/hdf5/run_2308.gdc1next.000.next1el_2308.root.h5\r\n",
      "-rw-rw-r-- 1 icuser icuser 164M Oct  7 14:19 ../../../waveforms/hdf5/run_2308.gdc1next.001.next1el_2308.root.h5\r\n",
      "-rw-rw-r-- 1 icuser icuser  52M Oct  7 14:20 ../../../waveforms/hdf5/run_2308.gdc1next.002.next1el_2308.root.h5\r\n",
      "-rw-rw-r-- 1 icuser icuser  89M Oct  7 14:20 ../../../waveforms/hdf5/run_2308.gdc1next.003.next1el_2308.root.h5\r\n",
      "-rw-rw-r-- 1 icuser icuser 1.7M Oct  7 14:20 ../../../waveforms/hdf5/run_2308.gdc1next.004.next1el_2308.root.h5\r\n",
      "-rw-rw-r-- 1 icuser icuser  72M Oct  7 14:21 ../../../waveforms/hdf5/run_2308.gdc1next.005.next1el_2308.root.h5\r\n",
      "-rw-rw-r-- 1 icuser icuser 103M Oct  7 14:22 ../../../waveforms/hdf5/run_2308.gdc1next.006.next1el_2308.root.h5\r\n",
      "-rw-rw-r-- 1 icuser icuser  13M Oct  7 14:22 ../../../waveforms/hdf5/run_2308.gdc1next.007.next1el_2308.root.h5\r\n",
      "-rw-rw-r-- 1 icuser icuser 164M Oct  7 14:23 ../../../waveforms/hdf5/run_2308.gdc1next.008.next1el_2308.root.h5\r\n",
      "-rw-rw-r-- 1 icuser icuser  43M Oct  7 14:23 ../../../waveforms/hdf5/run_2308.gdc1next.009.next1el_2308.root.h5\r\n",
      "-rw-rw-r-- 1 icuser icuser  40M Oct  7 14:24 ../../../waveforms/hdf5/run_2308.gdc1next.010.next1el_2308.root.h5\r\n",
      "-rw-rw-r-- 1 icuser icuser  82M Oct  7 14:24 ../../../waveforms/hdf5/run_2308.gdc1next.011.next1el_2308.root.h5\r\n",
      "-rw-rw-r-- 1 icuser icuser 158M Oct  7 14:25 ../../../waveforms/hdf5/run_2308.gdc1next.012.next1el_2308.root.h5\r\n",
      "-rw-rw-r-- 1 icuser icuser  40M Oct  7 14:26 ../../../waveforms/hdf5/run_2308.gdc1next.013.next1el_2308.root.h5\r\n",
      "-rw-rw-r-- 1 icuser icuser  33M Oct  7 14:26 ../../../waveforms/hdf5/run_2308.gdc1next.014.next1el_2308.root.h5\r\n",
      "-rw-rw-r-- 1 icuser icuser  32M Oct  7 14:26 ../../../waveforms/hdf5/run_2308.gdc1next.015.next1el_2308.root.h5\r\n",
      "-rw-rw-r-- 1 icuser icuser 164M Oct  7 14:27 ../../../waveforms/hdf5/run_2308.gdc2next.000.next1el_2308.root.h5\r\n",
      "-rw-rw-r-- 1 icuser icuser  33M Oct  7 14:27 ../../../waveforms/hdf5/run_2308.gdc2next.001.next1el_2308.root.h5\r\n",
      "-rw-rw-r-- 1 icuser icuser  51M Oct  7 14:28 ../../../waveforms/hdf5/run_2308.gdc2next.002.next1el_2308.root.h5\r\n",
      "-rw-rw-r-- 1 icuser icuser 164M Oct  7 14:29 ../../../waveforms/hdf5/run_2308.gdc2next.003.next1el_2308.root.h5\r\n",
      "-rw-rw-r-- 1 icuser icuser  31M Oct  7 14:29 ../../../waveforms/hdf5/run_2308.gdc2next.004.next1el_2308.root.h5\r\n",
      "-rw-rw-r-- 1 icuser icuser  72M Oct  7 14:30 ../../../waveforms/hdf5/run_2308.gdc2next.005.next1el_2308.root.h5\r\n",
      "-rw-rw-r-- 1 icuser icuser 136M Oct  7 14:31 ../../../waveforms/hdf5/run_2308.gdc2next.006.next1el_2308.root.h5\r\n",
      "-rw-rw-r-- 1 icuser icuser  46M Oct  7 14:31 ../../../waveforms/hdf5/run_2308.gdc2next.007.next1el_2308.root.h5\r\n",
      "-rw-rw-r-- 1 icuser icuser  89M Oct  7 14:32 ../../../waveforms/hdf5/run_2308.gdc2next.008.next1el_2308.root.h5\r\n",
      "-rw-rw-r-- 1 icuser icuser 5.1M Oct  7 14:32 ../../../waveforms/hdf5/run_2308.gdc2next.009.next1el_2308.root.h5\r\n",
      "-rw-rw-r-- 1 icuser icuser  38M Oct  7 14:33 ../../../waveforms/hdf5/run_2308.gdc2next.010.next1el_2308.root.h5\r\n",
      "-rw-rw-r-- 1 icuser icuser 164M Oct  7 14:34 ../../../waveforms/hdf5/run_2308.gdc2next.011.next1el_2308.root.h5\r\n",
      "-rw-rw-r-- 1 icuser icuser  35M Oct  7 14:34 ../../../waveforms/hdf5/run_2308.gdc2next.012.next1el_2308.root.h5\r\n",
      "-rw-rw-r-- 1 icuser icuser  96M Oct  7 14:35 ../../../waveforms/hdf5/run_2308.gdc2next.013.next1el_2308.root.h5\r\n",
      "-rw-rw-r-- 1 icuser icuser 164M Oct  7 14:36 ../../../waveforms/hdf5/run_2308.gdc2next.014.next1el_2308.root.h5\r\n",
      "-rw-rw-r-- 1 icuser icuser 165M Oct  7 14:38 ../../../waveforms/hdf5/run_2308.gdc2next.015.next1el_2308.root.h5\r\n"
     ]
    }
   ],
   "source": [
    "%ls -lh ../../../waveforms/hdf5/*2308*.h5"
   ]
  },
  {
   "cell_type": "code",
   "execution_count": 39,
   "metadata": {
    "collapsed": false
   },
   "outputs": [
    {
     "ename": "HDF5ExtError",
     "evalue": "HDF5 error back trace\n\n  File \"H5F.c\", line 604, in H5Fopen\n    unable to open file\n  File \"H5Fint.c\", line 1087, in H5F_open\n    unable to read superblock\n  File \"H5Fsuper.c\", line 277, in H5F_super_read\n    file signature not found\n\nEnd of HDF5 error back trace\n\nUnable to open/create file '../../../waveforms/hdf5/run_2308.gdc1next.002.next1el_2308.root.h5'",
     "output_type": "error",
     "traceback": [
      "\u001b[1;31m---------------------------------------------------------------------------\u001b[0m",
      "\u001b[1;31mHDF5ExtError\u001b[0m                              Traceback (most recent call last)",
      "\u001b[1;32m<ipython-input-39-848b4de96b8f>\u001b[0m in \u001b[0;36m<module>\u001b[1;34m()\u001b[0m\n\u001b[1;32m----> 1\u001b[1;33m \u001b[0mh5f\u001b[0m \u001b[1;33m=\u001b[0m\u001b[0mtb\u001b[0m\u001b[1;33m.\u001b[0m\u001b[0mopen_file\u001b[0m\u001b[1;33m(\u001b[0m\u001b[1;34m'../../../waveforms/hdf5/run_2308.gdc1next.002.next1el_2308.root.h5'\u001b[0m\u001b[1;33m)\u001b[0m\u001b[1;33m\u001b[0m\u001b[0m\n\u001b[0m",
      "\u001b[1;32m/home/icuser/anaconda2/lib/python2.7/site-packages/tables/file.pyc\u001b[0m in \u001b[0;36mopen_file\u001b[1;34m(filename, mode, title, root_uep, filters, **kwargs)\u001b[0m\n\u001b[0;32m    316\u001b[0m \u001b[1;33m\u001b[0m\u001b[0m\n\u001b[0;32m    317\u001b[0m     \u001b[1;31m# Finally, create the File instance, and return it\u001b[0m\u001b[1;33m\u001b[0m\u001b[1;33m\u001b[0m\u001b[0m\n\u001b[1;32m--> 318\u001b[1;33m     \u001b[1;32mreturn\u001b[0m \u001b[0mFile\u001b[0m\u001b[1;33m(\u001b[0m\u001b[0mfilename\u001b[0m\u001b[1;33m,\u001b[0m \u001b[0mmode\u001b[0m\u001b[1;33m,\u001b[0m \u001b[0mtitle\u001b[0m\u001b[1;33m,\u001b[0m \u001b[0mroot_uep\u001b[0m\u001b[1;33m,\u001b[0m \u001b[0mfilters\u001b[0m\u001b[1;33m,\u001b[0m \u001b[1;33m**\u001b[0m\u001b[0mkwargs\u001b[0m\u001b[1;33m)\u001b[0m\u001b[1;33m\u001b[0m\u001b[0m\n\u001b[0m\u001b[0;32m    319\u001b[0m \u001b[1;33m\u001b[0m\u001b[0m\n\u001b[0;32m    320\u001b[0m \u001b[0mopenFile\u001b[0m \u001b[1;33m=\u001b[0m \u001b[0mprevious_api\u001b[0m\u001b[1;33m(\u001b[0m\u001b[0mopen_file\u001b[0m\u001b[1;33m)\u001b[0m\u001b[1;33m\u001b[0m\u001b[0m\n",
      "\u001b[1;32m/home/icuser/anaconda2/lib/python2.7/site-packages/tables/file.pyc\u001b[0m in \u001b[0;36m__init__\u001b[1;34m(self, filename, mode, title, root_uep, filters, **kwargs)\u001b[0m\n\u001b[0;32m    782\u001b[0m \u001b[1;33m\u001b[0m\u001b[0m\n\u001b[0;32m    783\u001b[0m         \u001b[1;31m# Now, it is time to initialize the File extension\u001b[0m\u001b[1;33m\u001b[0m\u001b[1;33m\u001b[0m\u001b[0m\n\u001b[1;32m--> 784\u001b[1;33m         \u001b[0mself\u001b[0m\u001b[1;33m.\u001b[0m\u001b[0m_g_new\u001b[0m\u001b[1;33m(\u001b[0m\u001b[0mfilename\u001b[0m\u001b[1;33m,\u001b[0m \u001b[0mmode\u001b[0m\u001b[1;33m,\u001b[0m \u001b[1;33m**\u001b[0m\u001b[0mparams\u001b[0m\u001b[1;33m)\u001b[0m\u001b[1;33m\u001b[0m\u001b[0m\n\u001b[0m\u001b[0;32m    785\u001b[0m \u001b[1;33m\u001b[0m\u001b[0m\n\u001b[0;32m    786\u001b[0m         \u001b[1;31m# Check filters and set PyTables format version for new files.\u001b[0m\u001b[1;33m\u001b[0m\u001b[1;33m\u001b[0m\u001b[0m\n",
      "\u001b[1;32mtables/hdf5extension.pyx\u001b[0m in \u001b[0;36mtables.hdf5extension.File._g_new (tables/hdf5extension.c:5584)\u001b[1;34m()\u001b[0m\n",
      "\u001b[1;31mHDF5ExtError\u001b[0m: HDF5 error back trace\n\n  File \"H5F.c\", line 604, in H5Fopen\n    unable to open file\n  File \"H5Fint.c\", line 1087, in H5F_open\n    unable to read superblock\n  File \"H5Fsuper.c\", line 277, in H5F_super_read\n    file signature not found\n\nEnd of HDF5 error back trace\n\nUnable to open/create file '../../../waveforms/hdf5/run_2308.gdc1next.002.next1el_2308.root.h5'"
     ]
    }
   ],
   "source": [
    "h5f =tb.open_file('../../../waveforms/hdf5/run_2308.gdc1next.000.next1el_2308.root.h5')"
   ]
  },
  {
   "cell_type": "code",
   "execution_count": 37,
   "metadata": {
    "collapsed": false
   },
   "outputs": [
    {
     "data": {
      "text/plain": [
       "File(filename=../../../waveforms/hdf5/run_2308.gdc1next.001.next1el_2308.root.h5, title='', mode='r', root_uep='/', filters=Filters(complevel=0, shuffle=False, fletcher32=False, least_significant_digit=None))\n",
       "/ (RootGroup) ''\n",
       "/Detector (Group) ''\n",
       "/Detector/DetectorGeometry (Table(1,)) ''\n",
       "  description := {\n",
       "  \"x_det\": Float32Col(shape=(2,), dflt=0.0, pos=0),\n",
       "  \"y_det\": Float32Col(shape=(2,), dflt=0.0, pos=1),\n",
       "  \"z_det\": Float32Col(shape=(2,), dflt=0.0, pos=2),\n",
       "  \"r_det\": Float32Col(shape=(), dflt=0.0, pos=3)}\n",
       "  byteorder := 'little'\n",
       "  chunkshape := (2340,)\n",
       "/RD (Group) ''\n",
       "/RD/pmtrwf (EArray(335, 12, 40000), zlib(1)) ''\n",
       "  atom := Float32Atom(shape=(), dflt=0.0)\n",
       "  maindim := 0\n",
       "  flavor := 'numpy'\n",
       "  byteorder := 'little'\n",
       "  chunkshape := (1, 1, 32768)\n",
       "/RD/sipmrwf (EArray(335, 256, 1000), zlib(1)) ''\n",
       "  atom := Float32Atom(shape=(), dflt=0.0)\n",
       "  maindim := 0\n",
       "  flavor := 'numpy'\n",
       "  byteorder := 'little'\n",
       "  chunkshape := (1, 50, 1000)\n",
       "/Sensors (Group) ''\n",
       "/Sensors/DataPMT (Table(12,)) ''\n",
       "  description := {\n",
       "  \"channel\": Int32Col(shape=(), dflt=0, pos=0),\n",
       "  \"active\": Int32Col(shape=(), dflt=0, pos=1),\n",
       "  \"position\": Float32Col(shape=(3,), dflt=0.0, pos=2),\n",
       "  \"gain\": Float64Col(shape=(), dflt=0.0, pos=3),\n",
       "  \"adc_to_pes\": Float32Col(shape=(), dflt=0.0, pos=4)}\n",
       "  byteorder := 'little'\n",
       "  chunkshape := (2048,)\n",
       "/Sensors/DataSiPM (Table(256,)) ''\n",
       "  description := {\n",
       "  \"channel\": Int32Col(shape=(), dflt=0, pos=0),\n",
       "  \"active\": Int32Col(shape=(), dflt=0, pos=1),\n",
       "  \"position\": Float32Col(shape=(3,), dflt=0.0, pos=2),\n",
       "  \"gain\": Float64Col(shape=(), dflt=0.0, pos=3),\n",
       "  \"adc_to_pes\": Float32Col(shape=(), dflt=0.0, pos=4)}\n",
       "  byteorder := 'little'\n",
       "  chunkshape := (2048,)"
      ]
     },
     "execution_count": 37,
     "metadata": {},
     "output_type": "execute_result"
    }
   ],
   "source": [
    "h5f"
   ]
  },
  {
   "cell_type": "code",
   "execution_count": 38,
   "metadata": {
    "collapsed": true
   },
   "outputs": [],
   "source": [
    "h5f.close()"
   ]
  },
  {
   "cell_type": "code",
   "execution_count": 29,
   "metadata": {
    "collapsed": true
   },
   "outputs": [],
   "source": [
    "pmtrwf,sipmrwf,pmtdf,sipmdf,gdf = get_vectors(h5f)"
   ]
  },
  {
   "cell_type": "code",
   "execution_count": 30,
   "metadata": {
    "collapsed": false
   },
   "outputs": [],
   "source": [
    "PMT, BSL  = waveform_panel(pmtrwf,pmtdf,calib_constat =True, type = 'PMT', event=0)"
   ]
  },
  {
   "cell_type": "code",
   "execution_count": 31,
   "metadata": {
    "collapsed": false
   },
   "outputs": [
    {
     "data": {
      "image/png": "[encoded data removed]",
      "text/plain": [
       "<matplotlib.figure.Figure at 0x7fc6e0681810>"
      ]
     },
     "metadata": {},
     "output_type": "display_data"
    }
   ],
   "source": [
    "plot_PPMT(PMT, tmin=0, tmax=1000, emin = -10, emax = 50, option='all')"
   ]
  },
  {
   "cell_type": "code",
   "execution_count": 32,
   "metadata": {
    "collapsed": false
   },
   "outputs": [
    {
     "data": {
      "image/png": "[encoded data removed]",
      "text/plain": [
       "<matplotlib.figure.Figure at 0x7fc6e1cd8510>"
      ]
     },
     "metadata": {},
     "output_type": "display_data"
    }
   ],
   "source": [
    "plot_PPMT(PMT, tmin=0, tmax=1000, emin = -10, emax = 200, option='sum')"
   ]
  },
  {
   "cell_type": "code",
   "execution_count": 33,
   "metadata": {
    "collapsed": false
   },
   "outputs": [
    {
     "data": {
      "text/plain": [
       "Int64Index([0, 1, 2, 3, 4], dtype='int64')"
      ]
     },
     "execution_count": 33,
     "metadata": {},
     "output_type": "execute_result"
    }
   ],
   "source": [
    "PMT.items"
   ]
  },
  {
   "cell_type": "code",
   "execution_count": 35,
   "metadata": {
    "collapsed": false
   },
   "outputs": [],
   "source": [
    "wf_zs = wf_thr(sPMT(PMT),threshold=6)"
   ]
  },
  {
   "cell_type": "code",
   "execution_count": 36,
   "metadata": {
    "collapsed": false
   },
   "outputs": [
    {
     "data": {
      "text/plain": [
       "[<matplotlib.lines.Line2D at 0x7fc6ddd542d0>]"
      ]
     },
     "execution_count": 36,
     "metadata": {},
     "output_type": "execute_result"
    },
    {
     "data": {
      "image/png": "[encoded data removed]",
      "text/plain": [
       "<matplotlib.figure.Figure at 0x7fc6dde18e50>"
      ]
     },
     "metadata": {},
     "output_type": "display_data"
    }
   ],
   "source": [
    "plt.plot(wf_zs.ene_pes)"
   ]
  },
  {
   "cell_type": "code",
   "execution_count": 37,
   "metadata": {
    "collapsed": true
   },
   "outputs": [],
   "source": [
    "s12 = find_S12(wf_zs)"
   ]
  },
  {
   "cell_type": "code",
   "execution_count": 38,
   "metadata": {
    "collapsed": false
   },
   "outputs": [
    {
     "data": {
      "text/plain": [
       "2"
      ]
     },
     "execution_count": 38,
     "metadata": {},
     "output_type": "execute_result"
    }
   ],
   "source": [
    "len(s12)"
   ]
  },
  {
   "cell_type": "code",
   "execution_count": 39,
   "metadata": {
    "collapsed": false
   },
   "outputs": [
    {
     "data": {
      "text/plain": [
       "[<matplotlib.lines.Line2D at 0x7fc6ddc97f50>]"
      ]
     },
     "execution_count": 39,
     "metadata": {},
     "output_type": "execute_result"
    },
    {
     "data": {
      "image/png": "[encoded data removed]",
      "text/plain": [
       "<matplotlib.figure.Figure at 0x7fc6ddd8bdd0>"
      ]
     },
     "metadata": {},
     "output_type": "display_data"
    }
   ],
   "source": [
    "plt.plot(s12[0].ene_pes)"
   ]
  },
  {
   "cell_type": "code",
   "execution_count": 40,
   "metadata": {
    "collapsed": false
   },
   "outputs": [
    {
     "data": {
      "text/plain": [
       "[<matplotlib.lines.Line2D at 0x7fc6ddbd9e90>]"
      ]
     },
     "execution_count": 40,
     "metadata": {},
     "output_type": "execute_result"
    },
    {
     "data": {
      "image/png": "[encoded data removed]",
      "text/plain": [
       "<matplotlib.figure.Figure at 0x7fc6ddc56910>"
      ]
     },
     "metadata": {},
     "output_type": "display_data"
    }
   ],
   "source": [
    "plt.plot(s12[1].ene_pes)"
   ]
  },
  {
   "cell_type": "code",
   "execution_count": 41,
   "metadata": {
    "collapsed": false
   },
   "outputs": [],
   "source": [
    "s1 = s12[0]"
   ]
  },
  {
   "cell_type": "code",
   "execution_count": 42,
   "metadata": {
    "collapsed": true
   },
   "outputs": [],
   "source": [
    "s2 = s12[1]"
   ]
  },
  {
   "cell_type": "code",
   "execution_count": 43,
   "metadata": {
    "collapsed": false
   },
   "outputs": [],
   "source": [
    "s2rb = rebin_waveform(s2, stride = 40)"
   ]
  },
  {
   "cell_type": "code",
   "execution_count": 44,
   "metadata": {
    "collapsed": false
   },
   "outputs": [
    {
     "data": {
      "text/plain": [
       "[<matplotlib.lines.Line2D at 0x7fc6dddd4a10>]"
      ]
     },
     "execution_count": 44,
     "metadata": {},
     "output_type": "execute_result"
    },
    {
     "data": {
      "image/png": "[encoded data removed]",
      "text/plain": [
       "<matplotlib.figure.Figure at 0x7fc6ddc1e490>"
      ]
     },
     "metadata": {},
     "output_type": "display_data"
    }
   ],
   "source": [
    "plt.plot(s2rb['time_mus'], s2rb['ene_pes'])"
   ]
  },
  {
   "cell_type": "code",
   "execution_count": 45,
   "metadata": {
    "collapsed": false
   },
   "outputs": [
    {
     "name": "stdout",
     "output_type": "stream",
     "text": [
      "ene s2 = 39394.8933601 pes; ene s2rb = 39394.8933601 pes (must be the same)\n"
     ]
    }
   ],
   "source": [
    "print(\"ene s2 = {} pes; ene s2rb = {} pes (must be the same)\".format(np.sum(s2.ene_pes.values), \n",
    "                                                                     np.sum(s2rb.ene_pes.values)))"
   ]
  },
  {
   "cell_type": "code",
   "execution_count": 46,
   "metadata": {
    "collapsed": false
   },
   "outputs": [
    {
     "name": "stdout",
     "output_type": "stream",
     "text": [
      "t0 = 262.15 mus\n"
     ]
    }
   ],
   "source": [
    "print(\"t0 = {} mus\".format(find_t0(s1).time_mus.values[0]))"
   ]
  },
  {
   "cell_type": "code",
   "execution_count": 47,
   "metadata": {
    "collapsed": false
   },
   "outputs": [
    {
     "data": {
      "text/html": [
       "<div>\n",
       "<table border=\"1\" class=\"dataframe\">\n",
       "  <thead>\n",
       "    <tr style=\"text-align: right;\">\n",
       "      <th></th>\n",
       "      <th>ene_pes</th>\n",
       "      <th>indx</th>\n",
       "      <th>time_mus</th>\n",
       "    </tr>\n",
       "  </thead>\n",
       "  <tbody>\n",
       "    <tr>\n",
       "      <th>count</th>\n",
       "      <td>17.000000</td>\n",
       "      <td>17.000000</td>\n",
       "      <td>17.000000</td>\n",
       "    </tr>\n",
       "    <tr>\n",
       "      <th>mean</th>\n",
       "      <td>2317.346668</td>\n",
       "      <td>20070.411765</td>\n",
       "      <td>505.792022</td>\n",
       "    </tr>\n",
       "    <tr>\n",
       "      <th>std</th>\n",
       "      <td>1903.553083</td>\n",
       "      <td>100.029407</td>\n",
       "      <td>5.099564</td>\n",
       "    </tr>\n",
       "    <tr>\n",
       "      <th>min</th>\n",
       "      <td>70.429598</td>\n",
       "      <td>19911.000000</td>\n",
       "      <td>497.762500</td>\n",
       "    </tr>\n",
       "    <tr>\n",
       "      <th>25%</th>\n",
       "      <td>586.968513</td>\n",
       "      <td>19991.000000</td>\n",
       "      <td>501.762500</td>\n",
       "    </tr>\n",
       "    <tr>\n",
       "      <th>50%</th>\n",
       "      <td>1760.439804</td>\n",
       "      <td>20071.000000</td>\n",
       "      <td>505.762500</td>\n",
       "    </tr>\n",
       "    <tr>\n",
       "      <th>75%</th>\n",
       "      <td>3995.003128</td>\n",
       "      <td>20151.000000</td>\n",
       "      <td>509.762500</td>\n",
       "    </tr>\n",
       "    <tr>\n",
       "      <th>max</th>\n",
       "      <td>5595.159821</td>\n",
       "      <td>20221.000000</td>\n",
       "      <td>514.202500</td>\n",
       "    </tr>\n",
       "  </tbody>\n",
       "</table>\n",
       "</div>"
      ],
      "text/plain": [
       "           ene_pes          indx    time_mus\n",
       "count    17.000000     17.000000   17.000000\n",
       "mean   2317.346668  20070.411765  505.792022\n",
       "std    1903.553083    100.029407    5.099564\n",
       "min      70.429598  19911.000000  497.762500\n",
       "25%     586.968513  19991.000000  501.762500\n",
       "50%    1760.439804  20071.000000  505.762500\n",
       "75%    3995.003128  20151.000000  509.762500\n",
       "max    5595.159821  20221.000000  514.202500"
      ]
     },
     "execution_count": 47,
     "metadata": {},
     "output_type": "execute_result"
    }
   ],
   "source": [
    "s2rb.describe()"
   ]
  },
  {
   "cell_type": "code",
   "execution_count": 48,
   "metadata": {
    "collapsed": false
   },
   "outputs": [
    {
     "data": {
      "text/plain": [
       "count      17.000000\n",
       "mean     2317.346668\n",
       "std      1903.553083\n",
       "min        70.429598\n",
       "25%       586.968513\n",
       "50%      1760.439804\n",
       "75%      3995.003128\n",
       "max      5595.159821\n",
       "Name: ene_pes, dtype: float64"
      ]
     },
     "execution_count": 48,
     "metadata": {},
     "output_type": "execute_result"
    }
   ],
   "source": [
    "s2rb.describe().ene_pes"
   ]
  },
  {
   "cell_type": "code",
   "execution_count": 49,
   "metadata": {
    "collapsed": false
   },
   "outputs": [
    {
     "data": {
      "text/plain": [
       "5595.1598205566406"
      ]
     },
     "execution_count": 49,
     "metadata": {},
     "output_type": "execute_result"
    }
   ],
   "source": [
    "s2rb.describe().ene_pes['max']"
   ]
  },
  {
   "cell_type": "code",
   "execution_count": 50,
   "metadata": {
    "collapsed": true
   },
   "outputs": [],
   "source": [
    "ts2, emaxs2 = s2_peak(s2)"
   ]
  },
  {
   "cell_type": "code",
   "execution_count": 51,
   "metadata": {
    "collapsed": false
   },
   "outputs": [
    {
     "name": "stdout",
     "output_type": "stream",
     "text": [
      "ts2 = 514.2025 mus, emax = 5595.15982056 pes\n"
     ]
    }
   ],
   "source": [
    "print(\"ts2 = {} mus, emax = {} pes\".format(ts2,emaxs2))"
   ]
  },
  {
   "cell_type": "code",
   "execution_count": 52,
   "metadata": {
    "collapsed": false
   },
   "outputs": [
    {
     "name": "stdout",
     "output_type": "stream",
     "text": [
      "tint = 252.0525 mus \n"
     ]
    }
   ],
   "source": [
    "print('tint = {} mus '.format(find_t(s1,s2)))"
   ]
  },
  {
   "cell_type": "markdown",
   "metadata": {},
   "source": [
    "### SiPMs"
   ]
  },
  {
   "cell_type": "code",
   "execution_count": 131,
   "metadata": {
    "collapsed": false
   },
   "outputs": [],
   "source": [
    "SIPM, SIBSL  = waveform_panel(sipmrwf,sipmdf,mau_len = 100, calib_constat =False, adc_to_pes=20, type = 'SIPM', event=0)"
   ]
  },
  {
   "cell_type": "code",
   "execution_count": 132,
   "metadata": {
    "collapsed": false
   },
   "outputs": [
    {
     "data": {
      "image/png": "[encoded data removed]",
      "text/plain": [
       "<matplotlib.figure.Figure at 0x7fc6dd1e5350>"
      ]
     },
     "metadata": {},
     "output_type": "display_data"
    }
   ],
   "source": [
    "mpl.plts(SIBSL, signal_start=0, signal_end=250, offset=10)"
   ]
  },
  {
   "cell_type": "code",
   "execution_count": 133,
   "metadata": {
    "collapsed": false
   },
   "outputs": [
    {
     "data": {
      "text/plain": [
       "count    256.000000\n",
       "mean      49.987266\n",
       "std        3.973787\n",
       "min       40.140000\n",
       "25%       46.982500\n",
       "50%       49.780000\n",
       "75%       52.950000\n",
       "max       58.410000\n",
       "dtype: float64"
      ]
     },
     "execution_count": 133,
     "metadata": {},
     "output_type": "execute_result"
    }
   ],
   "source": [
    "SIBSL.describe()"
   ]
  },
  {
   "cell_type": "code",
   "execution_count": 134,
   "metadata": {
    "collapsed": false
   },
   "outputs": [
    {
     "data": {
      "text/plain": [
       "<class 'pandas.core.panel.Panel'>\n",
       "Dimensions: 257 (items) x 1000 (major_axis) x 3 (minor_axis)\n",
       "Items axis: 0 to 256\n",
       "Major_axis axis: 0 to 999\n",
       "Minor_axis axis: ene_pes to time_mus"
      ]
     },
     "execution_count": 134,
     "metadata": {},
     "output_type": "execute_result"
    }
   ],
   "source": [
    "SIPM"
   ]
  },
  {
   "cell_type": "code",
   "execution_count": 183,
   "metadata": {
    "collapsed": false
   },
   "outputs": [],
   "source": [
    "esipmdf = sipm_s2_energy(SIPM, s2, thr_min=25, thr_s2 =2.0)"
   ]
  },
  {
   "cell_type": "code",
   "execution_count": 144,
   "metadata": {
    "collapsed": false
   },
   "outputs": [
    {
     "data": {
      "text/plain": [
       "[<matplotlib.lines.Line2D at 0x7fc6dcee7550>]"
      ]
     },
     "execution_count": 144,
     "metadata": {},
     "output_type": "execute_result"
    },
    {
     "data": {
      "image/png": "[encoded data removed]",
      "text/plain": [
       "<matplotlib.figure.Figure at 0x7fc6dcfdf310>"
      ]
     },
     "metadata": {},
     "output_type": "display_data"
    }
   ],
   "source": [
    "plt.plot(esipmdf.sipm_indx,esipmdf.etot_pes)"
   ]
  },
  {
   "cell_type": "code",
   "execution_count": 145,
   "metadata": {
    "collapsed": false
   },
   "outputs": [
    {
     "data": {
      "text/plain": [
       "[<matplotlib.lines.Line2D at 0x7fc6dce18850>]"
      ]
     },
     "execution_count": 145,
     "metadata": {},
     "output_type": "execute_result"
    },
    {
     "data": {
      "image/png": "[encoded data removed]",
      "text/plain": [
       "<matplotlib.figure.Figure at 0x7fc6dce954d0>"
      ]
     },
     "metadata": {},
     "output_type": "display_data"
    }
   ],
   "source": [
    "plt.plot(esipmdf.sipm_indx,esipmdf.es2_pes)"
   ]
  },
  {
   "cell_type": "code",
   "execution_count": 146,
   "metadata": {
    "collapsed": false
   },
   "outputs": [
    {
     "data": {
      "text/html": [
       "<div>\n",
       "<table border=\"1\" class=\"dataframe\">\n",
       "  <thead>\n",
       "    <tr style=\"text-align: right;\">\n",
       "      <th></th>\n",
       "      <th>sipm_indx</th>\n",
       "      <th>etot_pes</th>\n",
       "      <th>es2_pes</th>\n",
       "    </tr>\n",
       "  </thead>\n",
       "  <tbody>\n",
       "    <tr>\n",
       "      <th>0</th>\n",
       "      <td>49</td>\n",
       "      <td>25.450031</td>\n",
       "      <td>6.931001</td>\n",
       "    </tr>\n",
       "    <tr>\n",
       "      <th>1</th>\n",
       "      <td>105</td>\n",
       "      <td>25.049954</td>\n",
       "      <td>3.678499</td>\n",
       "    </tr>\n",
       "    <tr>\n",
       "      <th>2</th>\n",
       "      <td>198</td>\n",
       "      <td>33.650091</td>\n",
       "      <td>3.305502</td>\n",
       "    </tr>\n",
       "    <tr>\n",
       "      <th>3</th>\n",
       "      <td>251</td>\n",
       "      <td>27.049993</td>\n",
       "      <td>4.636000</td>\n",
       "    </tr>\n",
       "  </tbody>\n",
       "</table>\n",
       "</div>"
      ],
      "text/plain": [
       "   sipm_indx   etot_pes   es2_pes\n",
       "0         49  25.450031  6.931001\n",
       "1        105  25.049954  3.678499\n",
       "2        198  33.650091  3.305502\n",
       "3        251  27.049993  4.636000"
      ]
     },
     "execution_count": 146,
     "metadata": {},
     "output_type": "execute_result"
    }
   ],
   "source": [
    "esipmdf"
   ]
  },
  {
   "cell_type": "code",
   "execution_count": 156,
   "metadata": {
    "collapsed": true
   },
   "outputs": [],
   "source": [
    "epmt = energy_sum(PMT, thr=0)"
   ]
  },
  {
   "cell_type": "code",
   "execution_count": 157,
   "metadata": {
    "collapsed": false
   },
   "outputs": [
    {
     "data": {
      "text/plain": [
       "[<matplotlib.lines.Line2D at 0x7fc6dcac2710>]"
      ]
     },
     "execution_count": 157,
     "metadata": {},
     "output_type": "execute_result"
    },
    {
     "data": {
      "image/png": "[encoded data removed]",
      "text/plain": [
       "<matplotlib.figure.Figure at 0x7fc6dcbb0510>"
      ]
     },
     "metadata": {},
     "output_type": "display_data"
    }
   ],
   "source": [
    "plt.plot(epmt)"
   ]
  },
  {
   "cell_type": "code",
   "execution_count": 158,
   "metadata": {
    "collapsed": true
   },
   "outputs": [],
   "source": [
    "esipm = energy_sum(SIPM, thr=0)"
   ]
  },
  {
   "cell_type": "code",
   "execution_count": 159,
   "metadata": {
    "collapsed": false
   },
   "outputs": [
    {
     "data": {
      "text/plain": [
       "[<matplotlib.lines.Line2D at 0x7fc6dc9fabd0>]"
      ]
     },
     "execution_count": 159,
     "metadata": {},
     "output_type": "execute_result"
    },
    {
     "data": {
      "image/png": "[encoded data removed]",
      "text/plain": [
       "<matplotlib.figure.Figure at 0x7fc6dcadb290>"
      ]
     },
     "metadata": {},
     "output_type": "display_data"
    }
   ],
   "source": [
    "plt.plot(esipm)"
   ]
  },
  {
   "cell_type": "code",
   "execution_count": null,
   "metadata": {
    "collapsed": true
   },
   "outputs": [],
   "source": []
  },
  {
   "cell_type": "code",
   "execution_count": 160,
   "metadata": {
    "collapsed": false
   },
   "outputs": [
    {
     "data": {
      "image/png": "[encoded data removed]",
      "text/plain": [
       "<matplotlib.figure.Figure at 0x7fc6dca1d850>"
      ]
     },
     "metadata": {},
     "output_type": "display_data"
    }
   ],
   "source": [
    "plot_sensors(gdf,pmtdf, epmt, radius=10)"
   ]
  },
  {
   "cell_type": "code",
   "execution_count": 161,
   "metadata": {
    "collapsed": false
   },
   "outputs": [
    {
     "data": {
      "image/png": "[encoded data removed]",
      "text/plain": [
       "<matplotlib.figure.Figure at 0x7fc6dca15ed0>"
      ]
     },
     "metadata": {},
     "output_type": "display_data"
    }
   ],
   "source": [
    "plot_sensors(gdf,sipmdf, esipm, radius=2)"
   ]
  },
  {
   "cell_type": "code",
   "execution_count": 162,
   "metadata": {
    "collapsed": false
   },
   "outputs": [],
   "source": [
    "PMT, BSL  = waveform_panel(pmtrwf,pmtdf,calib_constat =True, type = 'PMT', event=1)"
   ]
  },
  {
   "cell_type": "code",
   "execution_count": 165,
   "metadata": {
    "collapsed": false
   },
   "outputs": [
    {
     "data": {
      "image/png": "[encoded data removed]",
      "text/plain": [
       "<matplotlib.figure.Figure at 0x7fc6dc438c10>"
      ]
     },
     "metadata": {},
     "output_type": "display_data"
    }
   ],
   "source": [
    "plot_PPMT(PMT, tmin=0, tmax=1000, emin = -10, emax = 60, option='all')"
   ]
  },
  {
   "cell_type": "code",
   "execution_count": 166,
   "metadata": {
    "collapsed": false
   },
   "outputs": [
    {
     "data": {
      "image/png": "[encoded data removed]",
      "text/plain": [
       "<matplotlib.figure.Figure at 0x7fc6dc4ecf90>"
      ]
     },
     "metadata": {},
     "output_type": "display_data"
    }
   ],
   "source": [
    "plot_PPMT(PMT, tmin=0, tmax=1000, emin = -10, emax = 250, option='sum')"
   ]
  },
  {
   "cell_type": "code",
   "execution_count": 167,
   "metadata": {
    "collapsed": true
   },
   "outputs": [],
   "source": [
    "wf_zs = wf_thr(sPMT(PMT),threshold=6)"
   ]
  },
  {
   "cell_type": "code",
   "execution_count": 168,
   "metadata": {
    "collapsed": false
   },
   "outputs": [
    {
     "data": {
      "text/plain": [
       "[<matplotlib.lines.Line2D at 0x7fc6dc157f10>]"
      ]
     },
     "execution_count": 168,
     "metadata": {},
     "output_type": "execute_result"
    },
    {
     "data": {
      "image/png": "[encoded data removed]",
      "text/plain": [
       "<matplotlib.figure.Figure at 0x7fc6ddd08850>"
      ]
     },
     "metadata": {},
     "output_type": "display_data"
    }
   ],
   "source": [
    "plt.plot(wf_zs.ene_pes)"
   ]
  },
  {
   "cell_type": "code",
   "execution_count": 169,
   "metadata": {
    "collapsed": true
   },
   "outputs": [],
   "source": [
    "s12 = find_S12(wf_zs)"
   ]
  },
  {
   "cell_type": "code",
   "execution_count": 170,
   "metadata": {
    "collapsed": false
   },
   "outputs": [
    {
     "data": {
      "text/plain": [
       "2"
      ]
     },
     "execution_count": 170,
     "metadata": {},
     "output_type": "execute_result"
    }
   ],
   "source": [
    "len(s12)"
   ]
  },
  {
   "cell_type": "code",
   "execution_count": 171,
   "metadata": {
    "collapsed": true
   },
   "outputs": [],
   "source": [
    "s1 = s12[0]\n",
    "s2 = s12[1]"
   ]
  },
  {
   "cell_type": "code",
   "execution_count": 172,
   "metadata": {
    "collapsed": true
   },
   "outputs": [],
   "source": [
    "s2rb = rebin_waveform(s2, stride = 40)"
   ]
  },
  {
   "cell_type": "code",
   "execution_count": 173,
   "metadata": {
    "collapsed": false
   },
   "outputs": [
    {
     "data": {
      "text/plain": [
       "[<matplotlib.lines.Line2D at 0x7fc6dc625050>]"
      ]
     },
     "execution_count": 173,
     "metadata": {},
     "output_type": "execute_result"
    },
    {
     "data": {
      "image/png": "[encoded data removed]",
      "text/plain": [
       "<matplotlib.figure.Figure at 0x7fc6dc112590>"
      ]
     },
     "metadata": {},
     "output_type": "display_data"
    }
   ],
   "source": [
    "plt.plot(s2rb['time_mus'], s2rb['ene_pes'])"
   ]
  },
  {
   "cell_type": "code",
   "execution_count": 174,
   "metadata": {
    "collapsed": false
   },
   "outputs": [
    {
     "name": "stdout",
     "output_type": "stream",
     "text": [
      "ene s2 = 35999.8014841 pes; ene s2rb = 35999.8014841 pes (must be the same)\n"
     ]
    }
   ],
   "source": [
    "print(\"ene s2 = {} pes; ene s2rb = {} pes (must be the same)\".format(np.sum(s2.ene_pes.values), \n",
    "                                                                     np.sum(s2rb.ene_pes.values)))"
   ]
  },
  {
   "cell_type": "code",
   "execution_count": 175,
   "metadata": {
    "collapsed": false
   },
   "outputs": [
    {
     "name": "stdout",
     "output_type": "stream",
     "text": [
      "t0 = 445.025 mus\n"
     ]
    }
   ],
   "source": [
    "print(\"t0 = {} mus\".format(find_t0(s1).time_mus.values[0]))"
   ]
  },
  {
   "cell_type": "code",
   "execution_count": 176,
   "metadata": {
    "collapsed": true
   },
   "outputs": [],
   "source": [
    "ts2, emaxs2 = s2_peak(s2)"
   ]
  },
  {
   "cell_type": "code",
   "execution_count": 177,
   "metadata": {
    "collapsed": false
   },
   "outputs": [
    {
     "name": "stdout",
     "output_type": "stream",
     "text": [
      "ts2 = 512.428448276 mus, emax = 7083.81370544 pes\n"
     ]
    }
   ],
   "source": [
    "print(\"ts2 = {} mus, emax = {} pes\".format(ts2,emaxs2))"
   ]
  },
  {
   "cell_type": "code",
   "execution_count": 178,
   "metadata": {
    "collapsed": false
   },
   "outputs": [
    {
     "name": "stdout",
     "output_type": "stream",
     "text": [
      "tint = 67.4034482759 mus \n"
     ]
    }
   ],
   "source": [
    "print('tint = {} mus '.format(find_t(s1,s2)))"
   ]
  },
  {
   "cell_type": "code",
   "execution_count": 180,
   "metadata": {
    "collapsed": true
   },
   "outputs": [],
   "source": [
    "SIPM, SIBSL  = waveform_panel(sipmrwf,sipmdf,mau_len = 100, calib_constat =False, adc_to_pes=20, type = 'SIPM', event=1)"
   ]
  },
  {
   "cell_type": "code",
   "execution_count": 181,
   "metadata": {
    "collapsed": false
   },
   "outputs": [
    {
     "data": {
      "image/png": "[encoded data removed]",
      "text/plain": [
       "<matplotlib.figure.Figure at 0x7fc6dc3b2250>"
      ]
     },
     "metadata": {},
     "output_type": "display_data"
    }
   ],
   "source": [
    "mpl.plts(SIBSL, signal_start=0, signal_end=250, offset=10)"
   ]
  },
  {
   "cell_type": "code",
   "execution_count": 186,
   "metadata": {
    "collapsed": true
   },
   "outputs": [],
   "source": [
    "esipmdf = sipm_s2_energy(SIPM, s2, thr_min=0, thr_s2 =0)"
   ]
  },
  {
   "cell_type": "code",
   "execution_count": 187,
   "metadata": {
    "collapsed": false
   },
   "outputs": [
    {
     "data": {
      "text/plain": [
       "[<matplotlib.lines.Line2D at 0x7fc6dc3ded50>]"
      ]
     },
     "execution_count": 187,
     "metadata": {},
     "output_type": "execute_result"
    },
    {
     "data": {
      "image/png": "[encoded data removed]",
      "text/plain": [
       "<matplotlib.figure.Figure at 0x7fc6dca152d0>"
      ]
     },
     "metadata": {},
     "output_type": "display_data"
    }
   ],
   "source": [
    "plt.plot(esipmdf.sipm_indx,esipmdf.etot_pes)"
   ]
  },
  {
   "cell_type": "markdown",
   "metadata": {},
   "source": [
    "## BLR"
   ]
  },
  {
   "cell_type": "code",
   "execution_count": null,
   "metadata": {
    "collapsed": true
   },
   "outputs": [],
   "source": []
  },
  {
   "cell_type": "markdown",
   "metadata": {},
   "source": [
    "1. Scale is wrong\n",
    "2. Only 6 PMTs written\n",
    "3. PMTRD field is not correct. Must be PMTRWF (in folder RD)"
   ]
  },
  {
   "cell_type": "code",
   "execution_count": null,
   "metadata": {
    "collapsed": true
   },
   "outputs": [],
   "source": [
    "class SBLR:\n",
    "    \"\"\"\n",
    "    Signals BLR: a simple class to hold of the signals relevant for BLR\n",
    "    \"\"\"\n",
    "    def __init__(self, len_signal_daq):\n",
    "        \"\"\"\n",
    "        len_signal_daq: length of the signal to deconvolute\n",
    "        \n",
    "        \n",
    "        \"\"\"\n",
    "        \n",
    "        self.MAU = np.zeros(len_signal_daq, dtype=np.double)\n",
    "        self.acum = np.zeros(len_signal_daq, dtype=np.double)\n",
    "        self.signal_r = np.zeros(len_signal_daq, dtype=np.double)\n",
    "        self.pulse_on = np.zeros(len_signal_daq, dtype=np.double)\n",
    "        self.wait_over = np.zeros(len_signal_daq, dtype=np.double)\n",
    "        self.offset = np.zeros(len_signal_daq, dtype=np.double)\n",
    "        self.BASELINE = 0\n",
    "        \n",
    "\n",
    "def BLR(signal_daq, coef, mau_len=250, thr1 = 3*FP.NOISE_ADC, thr2 = FP.NOISE_ADC, \n",
    "        thr3 = FP.NOISE_ADC, log='INFO'):\n",
    "\n",
    "    \"\"\"\n",
    "    Deconvolution offline of the DAQ signal using a MAU\n",
    "    moving window-average filter of a vector data. See notebook \n",
    "    y(n) = (1/WindowSize)(x(n) + x(n-1) + ... + x(n-windowSize))\n",
    "    in a filter operation filter(b,a,x):\n",
    "    b = (1/WindowSize)*ones(WindowSize) = (1/WS)*[1,1,1,...]: numerator\n",
    "    a = 1 : denominator\n",
    "    y = filter(b,a,x)\n",
    "    y[0] = b[0]*x[0] = (1/WS) * x[0]\n",
    "    y[1] = (1/WS) * (x[0] + x[1])\n",
    "    y[WS-1] = mean(x[0:WS])\n",
    "    y[WS] = mean(x[1:WS+1])\n",
    "    and so on\n",
    "    \"\"\"\n",
    "    \n",
    "    lg = 'logging.'+log\n",
    "    logger.setLevel(eval(lg))\n",
    "    len_signal_daq = len(signal_daq)\n",
    "    sblr = SBLR(len_signal_daq)\n",
    "\n",
    "    signal_i = np.copy(signal_daq) #uses to update MAU while procesing signal\n",
    "    nm = mau_len\n",
    "    B_MAU = (1./nm)*np.ones(nm)\n",
    "\n",
    "#   MAU averages the signal in the initial tranch \n",
    "#    allows to compute the baseline of the signal  \n",
    "    \n",
    "    sblr.MAU[0:nm] = SGN.lfilter(B_MAU,1, signal_daq[0:nm])\n",
    "    sblr.acum[nm] =  sblr.MAU[nm]\n",
    "    sblr.BASELINE = sblr.MAU[nm-1]\n",
    "\n",
    "    logging.debug(\"\"\"-->BLR: \n",
    "                     MAU_LEN={}\n",
    "                     thr1 = {}, thr2 = {}, thr3 = {} =\"\"\".format(\n",
    "                     mau_len, thr1, thr2, thr3))\n",
    "    logging.debug(\"n = {}, acum[n] = {} BASELINE ={}\".format(nm, sblr.acum[nm],sblr.BASELINE))\n",
    "\n",
    "#----------\n",
    "\n",
    "# While MAU inits BLR is switched off, thus signal_r = signal_daq \n",
    "\n",
    "    sblr.signal_r[0:nm] = signal_daq[0:nm] \n",
    "    pulse_on=0\n",
    "    wait_over=0\n",
    "    offset = 0\n",
    "    \n",
    "    # MAU has computed the offset using nm samples\n",
    "    # now loop until the end of DAQ window\n",
    "\n",
    "    logging.debug(\"nm = {}\".format(nm))\n",
    "    \n",
    "    for k in range(nm,len_signal_daq): \n",
    "\n",
    "        trigger_line = sblr.MAU[k-1] + thr1\n",
    "        sblr.pulse_on[k] = pulse_on\n",
    "        sblr.wait_over[k] = wait_over \n",
    "        sblr.offset[k] = offset\n",
    "        \n",
    "        # condition: raw signal raises above trigger line and \n",
    "        # we are not in the tail\n",
    "        # (wait_over == 0)\n",
    "        if signal_daq[k] > trigger_line and wait_over == 0:\n",
    "\n",
    "            # if the pulse just started pulse_on = 0.\n",
    "            # In this case compute the offset as value \n",
    "            #of the MAU before pulse starts (at k-1)\n",
    "\n",
    "            if pulse_on == 0: # pulse just started\n",
    "                #offset computed as the value of MAU before pulse starts\n",
    "                offset = sblr.MAU[k-1]  \n",
    "                pulse_on = 1 \n",
    "                \n",
    "            #Pulse is on: Freeze the MAU\n",
    "            sblr.MAU[k] = sblr.MAU[k-1]  \n",
    "            signal_i[k] = sblr.MAU[k-1]  #signal_i follows the MAU\n",
    "            \n",
    "            #update recovered signal, correcting by offset\n",
    "            sblr.acum[k] = sblr.acum[k-1] + signal_daq[k] - offset;\n",
    "            sblr.signal_r[k] = signal_daq[k] + coef*sblr.acum[k] \n",
    "                  \n",
    "            \n",
    "        else:  #no signal or raw signal has dropped below threshold\n",
    "                      \n",
    "        # but raw signal can be negative for a while and still contribute to the\n",
    "        # reconstructed signal.\n",
    "\n",
    "            if pulse_on == 1: #reconstructed signal still on\n",
    "                # switch the pulse off only when recovered signal \n",
    "                #drops below threshold\n",
    "                #slide the MAU, still frozen. \n",
    "                # keep recovering signal\n",
    "                \n",
    "                sblr.MAU[k] = sblr.MAU[k-1] \n",
    "                signal_i[k] = sblr.MAU[k-1]\n",
    "                sblr.acum[k] = sblr.acum[k-1] + signal_daq[k] - offset;\n",
    "                sblr.signal_r[k] = signal_daq[k] + coef*sblr.acum[k] \n",
    "                \n",
    "                #if the recovered signal drops before trigger line \n",
    "                #rec pulse is over!\n",
    "                if sblr.signal_r[k] < trigger_line + thr2:\n",
    "                    wait_over = 1  #start tail compensation\n",
    "                    pulse_on = 0   #recovered pulse is over\n",
    "                      \n",
    "\n",
    "            else:  #recovered signal has droped below trigger line\n",
    "            #need to compensate the tail to avoid drifting due to erros in \n",
    "            #baseline calculatoin\n",
    "\n",
    "                if wait_over == 1: #compensating pulse\n",
    "                    # recovered signal and raw signal \n",
    "                    #must be equal within a threshold\n",
    "                    # otherwise keep compensating pluse\n",
    "                        \n",
    "                    if signal_daq[k-1] < sblr.signal_r[k-1] - thr3:\n",
    "                        # raw signal still below recovered signal \n",
    "                        # keep compensating pulse\n",
    "                        # is the recovered signal near offset?\n",
    "                        upper = offset + (thr3 + thr2)\n",
    "                        lower = offset - (thr3 + thr2)\n",
    "                        \n",
    "                        if sblr.signal_r[k-1] > lower and sblr.signal_r[k-1] < upper:\n",
    "                            # we are near offset, activate MAU. \n",
    "                            \n",
    "                            signal_i[k] = sblr.signal_r[k-1]\n",
    "                            sblr.MAU[k] = np.sum(signal_i[k-nm:k])*1./nm\n",
    "                                      \n",
    "                        else: \n",
    "                            # rec signal not near offset MAU frozen  \n",
    "                            sblr.MAU[k] = sblr.MAU[k-1]\n",
    "                            signal_i[k] = sblr.MAU[k-1]\n",
    "                            \n",
    "                        # keep adding recovered signal  \n",
    "                        sblr.acum[k] = sblr.acum[k-1] + signal_daq[k] - sblr.MAU[k]\n",
    "                        sblr.signal_r[k] = signal_daq[k] + coef*sblr.acum[k]\n",
    "                        \n",
    "                    else:  # raw signal above recovered signal: we are done \n",
    "                        \n",
    "                        wait_over = 0\n",
    "                        sblr.acum[k] = sblr.MAU[k-1]\n",
    "                        sblr.signal_r[k] = signal_daq[k]\n",
    "                        signal_i[k] = sblr.signal_r[k]\n",
    "                        sblr.MAU[k] = np.sum(signal_i[k-nm:k])*1./nm\n",
    "                        \n",
    "                            \n",
    "                else: #signal still not found\n",
    "                    \n",
    "                    #update MAU and signals\n",
    "                    sblr.MAU[k] = np.sum(signal_i[k-nm:k]*1.)/nm   \n",
    "                    sblr.acum[k] = sblr.MAU[k-1]\n",
    "                    sblr.signal_r[k] = signal_daq[k]\n",
    "                    signal_i[k] = sblr.signal_r[k]  \n",
    "                                                                                                       \n",
    "    #energy = np.dot(pulse_f,(signal_r-BASELINE)) \n",
    "    \n",
    "    logging.debug(\"sblr.signal_r[0:10]= {}\".format(sblr.signal_r[0:10]))\n",
    "    logging.debug(\"BASELINE ={}\".format(sblr.BASELINE))\n",
    "                       \n",
    "    sblr.signal_r = sblr.signal_r - sblr.BASELINE\n",
    "    \n",
    "    logging.debug(\"sblr.signal_r[0:10] - BASELINE= {}\".format(sblr.signal_r[0:10]))\n",
    "   \n",
    "    return  sblr\n",
    "\n",
    "def accumulator_coefficients(pmtrd,CA):\n",
    "    \"\"\"\n",
    "    Compute the accumulator coefficients for DBLR\n",
    "    It computes the inverse function of the HPF and takes\n",
    "    the accumulator as the value of the function anywhere\n",
    "    but the first bin (the inverse is a step function with\n",
    "    constant value equal to the accumulator)\n",
    "    CA are the values of the capacitances defining the filter\n",
    "    (1/(2CR)) for each PMT\n",
    "    \"\"\"\n",
    "    len_WF = pmtrd.shape[2]\n",
    "    NPMT = pmtrd.shape[1]\n",
    "    \n",
    "    coef_acc =np.zeros(NPMT, dtype=np.double)\n",
    "\n",
    "    signal_t = np.arange(0.0, len_WF*1., 1., dtype=np.double)\n",
    "\n",
    "    for j in range(NPMT):\n",
    "        \n",
    "        fee = FE.FEE(C=CA[j],R= FP.R, f=FP.freq_LPF, RG=FP.V_GAIN)\n",
    "        signal_inv_daq = fee.InverseSignalDAQ(signal_t)  #inverse function\n",
    "        coef_acc[j] = signal_inv_daq[10] #any index is valid, function is flat\n",
    "        \n",
    "    return coef_acc\n",
    "\n",
    "def DBLR(pmtrd, event_number, coeff_acc, mau_len=250,\n",
    "         thr1 = FP.NOISE_ADC, thr2=FP.NOISE_ADC, thr3 = FP.NOISE_ADC, log='INFO'):\n",
    "    \"\"\"\n",
    "    Peform Base line Restoration\n",
    "    coeff_acc is an array with the coefficients of the accumulator\n",
    "    Threshold 1 is used to decide when raw signal raises up above trigger line\n",
    "    Threshold 2 is used to decide when reconstructed signal is above trigger line\n",
    "    Threshold 3 is used to compare Raw and Rec signal\n",
    "    \"\"\"\n",
    "    \n",
    "    len_WF = pmtrd.shape[2]\n",
    "    NPMT = pmtrd.shape[1]\n",
    "    \n",
    "    BLRS =[]\n",
    "    for j in range(NPMT):\n",
    "        sblr = BLR(pmtrd[event_number, j], coeff_acc[j], mau_len, thr1, thr2, thr3, log)\n",
    "        BLRS.append(sblr)\n",
    "       \n",
    "    return BLRS\n",
    "\n"
   ]
  },
  {
   "cell_type": "code",
   "execution_count": null,
   "metadata": {
    "collapsed": true
   },
   "outputs": [],
   "source": [
    "acc = 0.0016414818563650"
   ]
  },
  {
   "cell_type": "code",
   "execution_count": null,
   "metadata": {
    "collapsed": true
   },
   "outputs": [],
   "source": [
    "def wf_thr(wf,threshold=1):\n",
    "    \"\"\"\n",
    "    return a zero supressed waveform (more generally, the vaules of wf above threshold)\n",
    "    \"\"\"\n",
    "    return wf.loc[lambda df: df.values >threshold]"
   ]
  },
  {
   "cell_type": "code",
   "execution_count": null,
   "metadata": {
    "collapsed": true
   },
   "outputs": [],
   "source": [
    "h5f =tb.open_file('../../../data/LSC/pulseVar_r2094.h5')"
   ]
  },
  {
   "cell_type": "code",
   "execution_count": null,
   "metadata": {
    "collapsed": false
   },
   "outputs": [],
   "source": [
    "h5f"
   ]
  },
  {
   "cell_type": "code",
   "execution_count": null,
   "metadata": {
    "collapsed": true
   },
   "outputs": [],
   "source": [
    "h5f.close()"
   ]
  },
  {
   "cell_type": "code",
   "execution_count": null,
   "metadata": {
    "collapsed": true
   },
   "outputs": [],
   "source": [
    "def wfplot(wf, xmin=0, xmax=48000):\n",
    "    ax1 = plt.subplot(1,1,1)\n",
    "    ax1.set_xlim([xmin, xmax])\n",
    "    plt.plot(wf)"
   ]
  },
  {
   "cell_type": "markdown",
   "metadata": {},
   "source": [
    "#### An example of wrong file format"
   ]
  },
  {
   "cell_type": "code",
   "execution_count": null,
   "metadata": {
    "collapsed": true
   },
   "outputs": [],
   "source": [
    "h5f =tb.open_file('../../../data/LSC/pulseVar_r2094.h5')"
   ]
  },
  {
   "cell_type": "code",
   "execution_count": null,
   "metadata": {
    "collapsed": false
   },
   "outputs": [],
   "source": [
    "h5f"
   ]
  },
  {
   "cell_type": "code",
   "execution_count": null,
   "metadata": {
    "collapsed": false
   },
   "outputs": [],
   "source": [
    "pmtrwf = h5f.root.pmtcwf"
   ]
  },
  {
   "cell_type": "code",
   "execution_count": null,
   "metadata": {
    "collapsed": false
   },
   "outputs": [],
   "source": [
    "wfplot(pmtrwf[0][0],0,3000)"
   ]
  },
  {
   "cell_type": "code",
   "execution_count": null,
   "metadata": {
    "collapsed": true
   },
   "outputs": [],
   "source": [
    "signal_daq =  4096- pmtrwf[0,0]"
   ]
  },
  {
   "cell_type": "code",
   "execution_count": null,
   "metadata": {
    "collapsed": false
   },
   "outputs": [],
   "source": [
    "wfplot(signal_daq,0,3000)"
   ]
  },
  {
   "cell_type": "code",
   "execution_count": null,
   "metadata": {
    "collapsed": false
   },
   "outputs": [],
   "source": [
    "wfplot(signal_daq,900,1500)"
   ]
  },
  {
   "cell_type": "code",
   "execution_count": null,
   "metadata": {
    "collapsed": false
   },
   "outputs": [],
   "source": [
    "mpl.plts(signal_daq[900:950], signal_start=0, signal_end=50, offset=5)"
   ]
  },
  {
   "cell_type": "code",
   "execution_count": null,
   "metadata": {
    "collapsed": false
   },
   "outputs": [],
   "source": [
    "mpl.plts(signal_daq[2950:3000], signal_start=0, signal_end=50, offset=1)"
   ]
  },
  {
   "cell_type": "code",
   "execution_count": null,
   "metadata": {
    "collapsed": false,
    "scrolled": true
   },
   "outputs": [],
   "source": [
    "wfplot(signal_daq[2950:3000]- signal_daq[900:950])"
   ]
  },
  {
   "cell_type": "code",
   "execution_count": null,
   "metadata": {
    "collapsed": false
   },
   "outputs": [],
   "source": [
    "mpl.plts(signal_daq[2950:3000]- signal_daq[900:950], signal_start=0, signal_end=50, offset=1)"
   ]
  },
  {
   "cell_type": "code",
   "execution_count": null,
   "metadata": {
    "collapsed": false
   },
   "outputs": [],
   "source": [
    "np.sum(signal_daq - 1577)"
   ]
  },
  {
   "cell_type": "code",
   "execution_count": null,
   "metadata": {
    "collapsed": true
   },
   "outputs": [],
   "source": []
  },
  {
   "cell_type": "code",
   "execution_count": null,
   "metadata": {
    "collapsed": true
   },
   "outputs": [],
   "source": []
  },
  {
   "cell_type": "code",
   "execution_count": null,
   "metadata": {
    "collapsed": false
   },
   "outputs": [],
   "source": [
    "pulse_wd"
   ]
  },
  {
   "cell_type": "code",
   "execution_count": null,
   "metadata": {
    "collapsed": false
   },
   "outputs": [],
   "source": [
    "sblr = BLR(signal_daq, acc, 900, 5., 10., 3., 'DEBUG')"
   ]
  },
  {
   "cell_type": "code",
   "execution_count": null,
   "metadata": {
    "collapsed": false
   },
   "outputs": [],
   "source": [
    "wfplot(sblr.signal_r,900,1500)"
   ]
  },
  {
   "cell_type": "code",
   "execution_count": null,
   "metadata": {
    "collapsed": false
   },
   "outputs": [],
   "source": [
    "wfplot(sblr.acum,900,3000)"
   ]
  },
  {
   "cell_type": "code",
   "execution_count": null,
   "metadata": {
    "collapsed": false
   },
   "outputs": [],
   "source": [
    "wfplot(sblr.pulse_on,900,3000)"
   ]
  },
  {
   "cell_type": "code",
   "execution_count": null,
   "metadata": {
    "collapsed": false
   },
   "outputs": [],
   "source": [
    "wfplot(sblr.wait_over,900,3000)"
   ]
  },
  {
   "cell_type": "code",
   "execution_count": null,
   "metadata": {
    "collapsed": false
   },
   "outputs": [],
   "source": [
    "wfplot(sblr.signal_r,1100,1200)"
   ]
  },
  {
   "cell_type": "code",
   "execution_count": null,
   "metadata": {
    "collapsed": false
   },
   "outputs": [],
   "source": [
    "wfplot(sblr.signal_r,1145,1200)"
   ]
  },
  {
   "cell_type": "code",
   "execution_count": null,
   "metadata": {
    "collapsed": false
   },
   "outputs": [],
   "source": [
    "mpl.plts(sblr.signal_r, signal_start=1145, signal_end=1200, offset=1)"
   ]
  },
  {
   "cell_type": "code",
   "execution_count": null,
   "metadata": {
    "collapsed": false
   },
   "outputs": [],
   "source": [
    "sblr = BLR(signal_daq, acc, 900, 5., 50., 3., 'DEBUG')"
   ]
  },
  {
   "cell_type": "code",
   "execution_count": null,
   "metadata": {
    "collapsed": false
   },
   "outputs": [],
   "source": [
    "mpl.plts(sblr.signal_r, signal_start=1145, signal_end=1200, offset=1)"
   ]
  },
  {
   "cell_type": "code",
   "execution_count": null,
   "metadata": {
    "collapsed": false
   },
   "outputs": [],
   "source": [
    "mpl.plts(sblr.signal_r, signal_start=900, signal_end=1200, offset=1)"
   ]
  },
  {
   "cell_type": "markdown",
   "metadata": {},
   "source": [
    "### Success! Pulses can be deconvoluted! (as Raul knows...)"
   ]
  },
  {
   "cell_type": "code",
   "execution_count": null,
   "metadata": {
    "collapsed": true
   },
   "outputs": [],
   "source": []
  },
  {
   "cell_type": "code",
   "execution_count": null,
   "metadata": {
    "collapsed": true
   },
   "outputs": [],
   "source": []
  }
 ],
 "metadata": {
  "kernelspec": {
   "display_name": "Python [Root]",
   "language": "python",
   "name": "Python [Root]"
  },
  "language_info": {
   "codemirror_mode": {
    "name": "ipython",
    "version": 2
   },
   "file_extension": ".py",
   "mimetype": "text/x-python",
   "name": "python",
   "nbconvert_exporter": "python",
   "pygments_lexer": "ipython2",
   "version": "2.7.12"
  }
 },
 "nbformat": 4,
 "nbformat_minor": 0
}
