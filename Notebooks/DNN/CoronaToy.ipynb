{
 "cells": [
  {
   "cell_type": "markdown",
   "metadata": {},
   "source": [
    "Here execute a Corona algorithm so that we may compare its accuracy to the that of a neural network"
   ]
  },
  {
   "cell_type": "code",
   "execution_count": 2,
   "metadata": {
    "collapsed": false
   },
   "outputs": [
    {
     "name": "stderr",
     "output_type": "stream",
     "text": [
      "/usr/local/lib/python2.7/site-packages/matplotlib/font_manager.py:273: UserWarning: Matplotlib is building the font cache using fc-list. This may take a moment.\n",
      "  warnings.warn('Matplotlib is building the font cache using fc-list. This may take a moment.')\n"
     ]
    }
   ],
   "source": [
    "%matplotlib inline\n",
    "import copy\n",
    "import numpy as np\n",
    "import tables as tb\n",
    "import matplotlib.pyplot as plt\n",
    "from matplotlib.patches import Ellipse\n"
   ]
  },
  {
   "cell_type": "markdown",
   "metadata": {},
   "source": [
    "Load SiPM maps"
   ]
  },
  {
   "cell_type": "code",
   "execution_count": 3,
   "metadata": {
    "collapsed": false
   },
   "outputs": [],
   "source": [
    "f = tb.open_file('../../TMC_data.h','r')\n",
    "\n",
    "data = f.root.sim_1pt\n",
    "maps   = data.xvalid[:]\n",
    "\n",
    "for m in maps:\n",
    "    m -= np.min(m) # make minimum=0 (min is negative)\n",
    "    \n",
    "example = np.random.randint(0,maps.shape[0])\n",
    "test = maps[example].reshape((8,8)).T\n",
    "real_coords = data.yvalid[:]"
   ]
  },
  {
   "cell_type": "code",
   "execution_count": 4,
   "metadata": {
    "collapsed": false
   },
   "outputs": [
    {
     "name": "stdout",
     "output_type": "stream",
     "text": [
      "[[ 6.24890123  7.65669503]]\n",
      "[ 4.90822413  7.51937155]\n"
     ]
    }
   ],
   "source": [
    "maxes = []\n",
    "for m in maps: \n",
    "    maxes.append(np.max(m))\n",
    "\n",
    "example = np.random.randint(0,maps.shape[0])\n",
    "test = maps[example].reshape((8,8)).T\n",
    "\n",
    "real_coords = data.yvalid[:]\n",
    "#maxes = np.array(maxes)\n",
    "#print(np.min(maxes))\n",
    "\n",
    "coords = []\n",
    "def corona(m,coords):\n",
    "    \"\"\"\n",
    "    corona takes as input a map\n",
    "    outputs a list of tuples, each tuple contains the coordinates of a EL hit\n",
    "    \"\"\"\n",
    "    x=0\n",
    "    y=0\n",
    "    hit_energy = 0 \n",
    "    mt = copy.deepcopy(m)\n",
    "    (xi,yi) = np.unravel_index(mt.argmax(), mt.shape)\n",
    "\n",
    "    if mt[xi,yi] > 4.1:\n",
    "        \n",
    "        for h in range(-3,4):\n",
    "            for v in range(-3,4):\n",
    "                try: \n",
    "                    x += (xi+h) * mt[xi+h,yi+v]\n",
    "                    y += (yi+v) * mt[xi+h,yi+v]\n",
    "                    hit_energy += mt[xi+h,yi+v]\n",
    "                    mt[xi+h,yi+v] = 0\n",
    "\n",
    "                except: pass\n",
    "            \n",
    "        x /= hit_energy\n",
    "        y /= hit_energy\n",
    "        \n",
    "        coords.append((x,y))\n",
    "        corona(mt,coords)\n",
    "        \n",
    "    else: return\n",
    "    return\n",
    "\n",
    "corona(test,coords)\n",
    "print(np.array(coords)*10+5)\n",
    "print(real_coords[example]*80)\n",
    "\n"
   ]
  },
  {
   "cell_type": "code",
   "execution_count": 32,
   "metadata": {
    "collapsed": false
   },
   "outputs": [
    {
     "name": "stdout",
     "output_type": "stream",
     "text": [
      "Mean error with 1 hit (mm): 1.32040401012\n",
      "(10000,)\n"
     ]
    },
    {
     "data": {
      "image/png": "[encoded data removed]",
      "text/plain": [
       "<matplotlib.figure.Figure at 0x104e295d0>"
      ]
     },
     "metadata": {},
     "output_type": "display_data"
    }
   ],
   "source": [
    "E  = np.empty((maps.shape[0]))\n",
    "rd = np.empty((maps.shape[0]))\n",
    "xe = np.empty((maps.shape[0]))\n",
    "xc = np.empty((maps.shape[0]))\n",
    "ye = np.empty((maps.shape[0]))\n",
    "yc = np.empty((maps.shape[0]))\n",
    "\n",
    "\n",
    "e = 0\n",
    "for m,c in zip(maps,real_coords):\n",
    "    coords =[]\n",
    "    m    = m.reshape((8,8)).T\n",
    "    corona(m,coords)\n",
    "    E[e] = np.sqrt(np.sum(((np.array(coords[0]))*10+5 - c*80)**2))\n",
    "    #if E[e] > 1 : print(coords[0],c)\n",
    "    rd[e] = np.sqrt(np.sum((np.array([40,40] - c*80))**2))\n",
    "    xe[e] = abs(coords[0][0]*10+5 - c[0]*80)\n",
    "    xc[e] = c[0]*80\n",
    "    ye[e] = abs(coords[0][1]*10+5 - c[1]*80)\n",
    "    yc[e] = c[1]*80\n",
    "    \n",
    "    e += 1\n",
    "    \n",
    "    \n",
    "print('Mean error with 1 hit (mm): ' + str(np.mean(E)))\n",
    "\n",
    "# Error as a function radial distance from center\n",
    "#bestfit = plt.plot(np.unique(rd), np.poly1d(np.polyfit(rd,E, 5))(np.unique(rd)))\n",
    "#plt.scatter(rd[0:100],E[0:100])\n",
    "\n",
    "# x, y error as a function of x, y  EL hit coordinate\n",
    "plt.scatter(xc[0:50],xe[0:50],color='b') # sample points\n",
    "plt.scatter(yc[0:50],ye[0:50],color='g') # sample points\n",
    "bestfitx = plt.plot(np.unique(xc), np.poly1d(np.polyfit(xc,xe, 8))(np.unique(xc)),label='x')\n",
    "bestfity = plt.plot(np.unique(yc), np.poly1d(np.polyfit(yc,ye, 8))(np.unique(yc)),label='y')\n",
    "plt.legend(loc='upper right')\n",
    "plt.xlabel('EL hit coordinate')\n",
    "plt.ylabel('EL hit error (mm)')\n",
    "plt.show()"
   ]
  },
  {
   "cell_type": "code",
   "execution_count": null,
   "metadata": {
    "collapsed": true
   },
   "outputs": [],
   "source": []
  }
 ],
 "metadata": {
  "kernelspec": {
   "display_name": "Python 2",
   "language": "python",
   "name": "python2"
  },
  "language_info": {
   "codemirror_mode": {
    "name": "ipython",
    "version": 2
   },
   "file_extension": ".py",
   "mimetype": "text/x-python",
   "name": "python",
   "nbconvert_exporter": "python",
   "pygments_lexer": "ipython2",
   "version": "2.7.12"
  }
 },
 "nbformat": 4,
 "nbformat_minor": 0
}
