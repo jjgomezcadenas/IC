{
 "cells": [
  {
   "cell_type": "code",
   "execution_count": 7,
   "metadata": {
    "collapsed": false
   },
   "outputs": [],
   "source": [
    "from __future__ import print_function\n",
    "\n",
    "import matplotlib.pyplot as plt\n",
    "import numpy             as np\n",
    "import h5py\n",
    "import sys\n",
    "\n",
    "# Add the Utilties directory to the system path so the file sipm_param can be imported.\n",
    "sys.path.append(\"utilities\")\n",
    "from sipm_param import *"
   ]
  },
  {
   "cell_type": "markdown",
   "metadata": {},
   "source": [
    "Define the 3D grid extent and range limits."
   ]
  },
  {
   "cell_type": "code",
   "execution_count": 8,
   "metadata": {
    "collapsed": false
   },
   "outputs": [],
   "source": [
    "# Range limits from extraction \n",
    "NX = 200\n",
    "NY = 200\n",
    "NZ = 200\n",
    "\n",
    "# Projection voxel sizes in mm\n",
    "vSizeX = 2\n",
    "vSizeY = 2\n",
    "\n",
    "# The slice width, in Geant4 voxels\n",
    "slice_width = 2.\n",
    "\n",
    "# Range limit in x and y for slices (assuming a square range), in voxels\n",
    "RNG_LIM = 200 # 196 # less than 200 because in NEW EL plane is smaller than SiPM plane\n",
    "\n",
    "# SiPM plane geometry definition\n",
    "nsipm = 20             # number of SiPMs in response map\n",
    "sipm_pitch = 10.       # distance between SiPMs\n",
    "sipm_edge_width = 5.   # distance between SiPM and edge of board\n",
    "\n",
    "# -------------------------------------------------------------------------------------\n",
    "xlen = 2*sipm_edge_width + (nsipm-1)*sipm_pitch       # (mm) side length of rectangle\n",
    "ylen = 2*sipm_edge_width + (nsipm-1)*sipm_pitch       # (mm) side length of rectangle\n",
    "wbin = 2.0                                            # (mm) bin width\n",
    "\n",
    "# Compute the positions of the SiPMs\n",
    "pos_x = np.ones(nsipm**2)*sipm_edge_width +  \\\n",
    "        (np.ones(nsipm*nsipm)*range(nsipm**2) % nsipm)*sipm_pitch\n",
    "pos_y = np.ones(nsipm**2)*sipm_edge_width +  \\\n",
    "        np.floor(np.ones(nsipm*nsipm)*range(nsipm**2) / nsipm)*sipm_pitch"
   ]
  },
  {
   "cell_type": "markdown",
   "metadata": {},
   "source": [
    "Load Data"
   ]
  },
  {
   "cell_type": "code",
   "execution_count": 9,
   "metadata": {
    "collapsed": false
   },
   "outputs": [],
   "source": [
    "sg = h5py.File('in_data/dnn_MAGBOX_oldPhys_600k_si_v2x2x2_r200x200x200.h5')\n",
    "bg = h5py.File('in_data/dnn_MAGBOX_oldPhys_600k_bg_v2x2x2_r200x200x200.h5')"
   ]
  },
  {
   "cell_type": "markdown",
   "metadata": {
    "collapsed": false
   },
   "source": [
    "Create event slicer"
   ]
  },
  {
   "cell_type": "code",
   "execution_count": 10,
   "metadata": {
    "collapsed": false
   },
   "outputs": [],
   "source": [
    "def slice_evt(hfile,nevt,zwidth):\n",
    "    \"\"\"\n",
    "    Create slices for the specified event.\n",
    "    hfile: the HDF5 files containing the events\n",
    "    nevt: the event number to slice\n",
    "    zwidth: the slice width in mm\n",
    "    \n",
    "    returns: [energies, slices]\n",
    "    where energies is a list of the energies in each slice\n",
    "    and slices is a matrix of size [Nslices,NY,NX] containing normalized slices\n",
    "    \"\"\"\n",
    "    \n",
    "    # Get the event from the file.\n",
    "    htrk = hfile['trk{0}'.format(nevt)]\n",
    "    \n",
    "    # Get the z-range.\n",
    "    zmin = np.min(htrk[2]); zmax = np.max(htrk[2])\n",
    "    \n",
    "    # Create slices of width zwidth beginning from zmin.\n",
    "    nslices = int(np.ceil((zmax - zmin)/zwidth)) # make sure works same as in math\n",
    "    #print(\"{0} slices for event {1}\".format(nslices,nevt))\n",
    "    \n",
    "    slices = np.zeros([nslices,NY,NX])\n",
    "    energies = np.zeros(nslices)\n",
    "    for x,y,z,e in zip(htrk[0],htrk[1],htrk[2],htrk[3]):\n",
    "        \n",
    "        # Add the energy at (x,y,z) to the (x,y) value of the correct slice.\n",
    "        islice = int((z - zmin)/zwidth)\n",
    "        if(islice == nslices): islice -= 1\n",
    "        slices[islice][y][x] += e\n",
    "        energies[islice] += e\n",
    "    \n",
    "    # Normalize the slices.\n",
    "    for s in range(nslices):\n",
    "        slices[s] /= energies[s]\n",
    "        \n",
    "    # Return the list of slices and energies.\n",
    "    return [energies, slices]\n"
   ]
  },
  {
   "cell_type": "markdown",
   "metadata": {},
   "source": [
    "Define function to write and save data for neural net"
   ]
  },
  {
   "cell_type": "code",
   "execution_count": 11,
   "metadata": {
    "collapsed": false
   },
   "outputs": [],
   "source": [
    "def save_data(fread,fwrite):\n",
    "    xrng = []; yrng = []   # x- and y-ranges\n",
    "    nspevt = []            # number of slices per event\n",
    "    slices_x = []; slices_y = []; slices_e = []   # slice arrays\n",
    "    Ntrks = min(len(fread),5000) # this = 5k here\n",
    "    \n",
    "    for ee in range(Ntrks):\n",
    "\n",
    "        if((ee + 1) % int(Ntrks/20) == 0):\n",
    "            print(\"Slicing event {0}\".format(ee))\n",
    "\n",
    "        # Slice the event.\n",
    "        en,sl = slice_evt(fread,ee,slice_width)\n",
    "        nslices = len(en)\n",
    "        nspevt.append(nslices)\n",
    "        \n",
    "        # Get information about each slice.\n",
    "        for ss in range(nslices):\n",
    "\n",
    "            # Don't include 0-energy slices.\n",
    "            if(en[ss] < 0):\n",
    "                print('skipped_slice')\n",
    "                continue\n",
    "\n",
    "            # Get lists of the nonzero x,y,z indices and E values.\n",
    "            cslice = sl[ss]\n",
    "            nzy,nzx = np.nonzero(cslice)\n",
    "            nze = cslice[np.nonzero(cslice)]\n",
    "\n",
    "            # Extract several quantities of interest.\n",
    "            xmin = np.min(nzx); xmax = np.max(nzx)\n",
    "            ymin = np.min(nzy); ymax = np.max(nzy)\n",
    "            xrng.append(xmax - xmin + 1)\n",
    "            yrng.append(ymax - ymin + 1)\n",
    "\n",
    "            # Save the slice if within range.\n",
    "            if((xmax - xmin) >= RNG_LIM-1 or (ymax - ymin) >= RNG_LIM-1):\n",
    "                print(\"Range of {0} for event {1} slice {2}, energy {3}; slice not included\".format(xmax-xmin,ee,ss,en[ss]))\n",
    "            else:\n",
    "\n",
    "                # Center the slices about RNG_LIM/2.\n",
    "                x0 = int((xmin + xmax)/2. - RNG_LIM/2.)\n",
    "                y0 = int((ymin + ymax)/2. - RNG_LIM/2.)\n",
    "                nzx -= x0; nzy -= y0\n",
    "\n",
    "                # Create the slice array.\n",
    "                snum = len(slices_x)\n",
    "                slices_x.append(nzx); slices_y.append(nzy); slices_e.append(nze)\n",
    "                carr = np.array([nzx, nzy, nze])\n",
    "\n",
    "                # Create the corresponding SiPM map.\n",
    "                sipm_map = np.zeros(nsipm*nsipm)\n",
    "                for xpt,ypt,ept in zip(nzx,nzy,nze):\n",
    "\n",
    "                    # Compute the distances and probabilities.  Add the probabilities to the sipm map.\n",
    "                    rr = np.array([np.sqrt((xi - xpt)**2 + (yi - ypt)**2) for xi,yi in zip(pos_x,pos_y)])\n",
    "                    probs = 0.5*(sipm_par(0, rr) + sipm_par(1, rr))\n",
    "                    sipm_map += probs*ept\n",
    "\n",
    "                # Normalize the probability map, and set sigma = 1.\n",
    "                sipm_map -= np.mean(sipm_map)\n",
    "                sipm_map /= np.std(sipm_map)\n",
    "\n",
    "                # Save the slice and the SiPM map to an HDF5 file.\n",
    "                fwrite.create_dataset(\"slice{0}\".format(snum),data=carr,     dtype='float32')\n",
    "                fwrite.create_dataset(\"sipm{0}\".format(snum), data=sipm_map, dtype='float32')\n",
    "    fwrite.create_dataset(\"nspevt\", (Ntrks,), data=np.array(nspevt))\n",
    "    fwrite.close()"
   ]
  },
  {
   "cell_type": "markdown",
   "metadata": {},
   "source": [
    "Create one file for signal, one for background"
   ]
  },
  {
   "cell_type": "code",
   "execution_count": 12,
   "metadata": {
    "collapsed": false
   },
   "outputs": [
    {
     "name": "stdout",
     "output_type": "stream",
     "text": [
      "---gnerating signal---\n",
      "Slicing event 0\n"
     ]
    },
    {
     "name": "stderr",
     "output_type": "stream",
     "text": [
      "/usr/lib/python2.7/site-packages/ipykernel/__main__.py:30: VisibleDeprecationWarning: using a non-integer number instead of an integer will result in an error in the future\n"
     ]
    },
    {
     "name": "stdout",
     "output_type": "stream",
     "text": [
      "Slicing event 250\n",
      "Slicing event 500\n",
      "Slicing event 750\n",
      "Slicing event 1000\n",
      "Slicing event 1250\n",
      "Slicing event 1500\n",
      "Slicing event 1750\n",
      "Slicing event 2000\n",
      "Slicing event 2250\n",
      "Slicing event 2500\n",
      "Slicing event 2750\n",
      "Slicing event 3000\n",
      "Slicing event 3250\n",
      "Slicing event 3500\n",
      "Slicing event 3750\n",
      "Slicing event 4000\n",
      "Slicing event 4250\n",
      "Slicing event 4500\n",
      "Slicing event 4750\n",
      "---generating background---\n",
      "Slicing event 0\n",
      "Slicing event 250\n",
      "Slicing event 500\n",
      "Slicing event 750\n",
      "Slicing event 1000\n",
      "Slicing event 1250\n",
      "Slicing event 1500\n",
      "Slicing event 1750\n",
      "Slicing event 2000\n",
      "Slicing event 2250\n",
      "Slicing event 2500\n",
      "Slicing event 2750\n",
      "Slicing event 3000\n",
      "Slicing event 3250\n",
      "Slicing event 3500\n",
      "Slicing event 3750\n",
      "Slicing event 4000\n",
      "Slicing event 4250\n",
      "Slicing event 4500\n",
      "Slicing event 4750\n",
      "---finished.---\n"
     ]
    }
   ],
   "source": [
    "sg_out = h5py.File('signal_2x2x2.h5'    , 'w')\n",
    "bg_out = h5py.File('background_2x2x2.h5', 'w')\n",
    "print('---gnerating signal---')\n",
    "save_data(sg,sg_out)\n",
    "print('---generating background---')\n",
    "save_data(bg,bg_out)\n",
    "print('---finished.---')"
   ]
  }
 ],
 "metadata": {
  "kernelspec": {
   "display_name": "Python 2",
   "language": "python",
   "name": "python2"
  },
  "language_info": {
   "codemirror_mode": {
    "name": "ipython",
    "version": 2
   },
   "file_extension": ".py",
   "mimetype": "text/x-python",
   "name": "python",
   "nbconvert_exporter": "python",
   "pygments_lexer": "ipython2",
   "version": "2.7.5"
  }
 },
 "nbformat": 4,
 "nbformat_minor": 1
}
