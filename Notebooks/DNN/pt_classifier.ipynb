{
 "cells": [
  {
   "cell_type": "markdown",
   "metadata": {},
   "source": [
    "pt_classifer takes SiPM response maps and for each map (time slice)  and uses a neural network to determine how many hits there were in the EL plane."
   ]
  },
  {
   "cell_type": "code",
   "execution_count": 1,
   "metadata": {
    "collapsed": false
   },
   "outputs": [
    {
     "name": "stderr",
     "output_type": "stream",
     "text": [
      "Using Theano backend.\n",
      "/usr/local/lib/python2.7/site-packages/matplotlib/font_manager.py:273: UserWarning: Matplotlib is building the font cache using fc-list. This may take a moment.\n",
      "  warnings.warn('Matplotlib is building the font cache using fc-list. This may take a moment.')\n"
     ]
    }
   ],
   "source": [
    "from keras.models               import Sequential\n",
    "from keras.layers               import Dense, Activation, Dropout\n",
    "from keras.optimizers           import SGD, Adam, Nadam         \n",
    "from keras                      import callbacks\n",
    "from keras.layers.convolutional import Convolution2D, MaxPooling2D\n",
    "from keras.layers.core          import Flatten\n",
    "\n",
    "%matplotlib inline\n",
    "\n",
    "import numpy as np\n",
    "import tables as tb\n",
    "import matplotlib.pyplot as plt\n",
    "\n",
    "# data filename should contain SiPM maps for 1,2, ..., max_hits\n",
    "data_filename = 'TMC_data.h' \n",
    "max_hits = 2 # (up to 4)\n",
    "\n",
    "nsipm = 8\n"
   ]
  },
  {
   "cell_type": "markdown",
   "metadata": {},
   "source": [
    "Load data"
   ]
  },
  {
   "cell_type": "code",
   "execution_count": 2,
   "metadata": {
    "collapsed": false
   },
   "outputs": [],
   "source": [
    "f = tb.open_file('TMC_data.h','r')\n",
    "h1_train = f.root.sim_1pt.xtrain\n",
    "h1_valid = f.root.sim_1pt.xvalid\n",
    "\n",
    "h2_train = f.root.sim_2pt.xtrain  \n",
    "h2_valid = f.root.sim_2pt.xvalid \n",
    "\n",
    "#h3_train = f.root.sim_3pt.xtrain\n",
    "#h3_valid = f.root.sim_3pt.xvalid\n",
    "    \n",
    "One_Hot_Encoding = True # set to true for one hot encoded labels\n",
    "def organize(hits):\n",
    "    # input organize your training data as a list of numpy arrays (or earrays)\n",
    "    # organize outputs your training matrix of SiPM maps and their one hot encoded labels\n",
    "    \n",
    "    length = sum([pt.shape[0] for pt in hits])\n",
    "    x = np.array(hits)\n",
    "    x = x.reshape((length,h1_train.shape[1]))\n",
    "    \n",
    "    y = np.array([np.ones(pt.shape[0],np.int) * i for pt,i in zip(hits,range(1,len(hits)+1))])\n",
    "    y = y.reshape((length))\n",
    "    \n",
    "    if One_Hot_Encoding:\n",
    "        yh = np.zeros((length,len(hits)),np.int)\n",
    "        i=0\n",
    "        for numhits in y:\n",
    "            yh[i,numhits-1] = 1\n",
    "            i+=1\n",
    "        return(x,yh)\n",
    "    \n",
    "    return x,y\n",
    "\n",
    "# important to note these are unshuffled, but they will be shuffled during training so it should be fine\n",
    "#x_train,y_train = organize([h1_train,h2_train,h3_train])\n",
    "x_train,y_train = organize([h1_train,h2_train])\n",
    "x_valid,y_valid = organize([h1_valid,h2_valid])\n",
    "#x_valid,y_valid = organize([h1_valid,h2_valid,h3_valid])\n"
   ]
  },
  {
   "cell_type": "markdown",
   "metadata": {},
   "source": [
    "Define some networks:"
   ]
  },
  {
   "cell_type": "code",
   "execution_count": 6,
   "metadata": {
    "collapsed": false
   },
   "outputs": [],
   "source": [
    "# construct a 5 layer network\n",
    "\n",
    "def cnn():\n",
    "    model = Sequential()\n",
    " \n",
    "    # **Worth taking into consideration that our image size is tiny (8x8), convolution may work much better for \n",
    "    # **with 1792 sipms\n",
    "    \n",
    "    # kernal size is 3x3, 32 filters\n",
    "    model.add(Convolution2D(32,3,3,border_mode='same',input_shape=(1, nsipm, nsipm)))\n",
    "    model.add(Activation('relu'))\n",
    "    model.add(Convolution2D(32,3,3,border_mode='same', input_shape=(32, nsipm, nsipm)))\n",
    "    model.add(Activation('relu'))\n",
    "    model.add(MaxPooling2D(pool_size=(2, 2)))\n",
    "    model.add(Flatten())\n",
    "    model.add(Dense(output_dim=128))\n",
    "    model.add(Activation('relu'))      \n",
    "    model.add(Dense(output_dim=64))\n",
    "    model.add(Activation('relu'))  \n",
    "    model.add(Dense(max_hits))\n",
    "    model.add(Activation('sigmoid'))\n",
    "\n",
    "    # Nadam optimizer is a safe choice at least for deep networks. It is adam optimizer with Nesterov\n",
    "    # Momentum. Nesterov Momentum takes into account future expected future gradient gradient, unlike traditional Mom.\n",
    "    model.compile(loss='mse', optimizer=Nadam(lr=0.002, beta_1=0.9, beta_2=0.999, epsilon=1e-08, schedule_decay=0.004),\n",
    "                  metrics=['accuracy'])\n",
    "    N_layers = 'cnn'\n",
    "    return model,N_layers\n",
    "    \n",
    "\n",
    "def lay5():\n",
    "    model = Sequential()\n",
    "    model.add(Dense(output_dim=2048, input_dim=nsipm*nsipm))\n",
    "    model.add(Activation(\"relu\"))\n",
    "    model.add(Dense(output_dim=1024))\n",
    "    model.add(Activation(\"relu\"))\n",
    "    model.add(Dense(output_dim=512))\n",
    "    model.add(Activation(\"relu\"))\n",
    "    model.add(Dense(output_dim=256))\n",
    "    model.add(Activation(\"relu\"))\n",
    "    model.add(Dropout(.25))    # **Note this is drop rate, not keep rate (like in tf)\n",
    "    model.add(Dense(output_dim=max_hits))\n",
    "    model.add(Activation(\"sigmoid\"))\n",
    "    \n",
    "    # Nadam optimizer is probabaly a safe choice at least for our deep networks. It is adam optimizer with Nesterov\n",
    "    # Momentum. Nesterov Momentum takes into account future expected future gradient gradient, unlike traditional Mom.\n",
    "    model.compile(loss='categorical_crossentropy', \n",
    "                  optimizer=Nadam(lr=0.002, beta_1=0.9, beta_2=0.999, epsilon=1e-08, schedule_decay=0.004))\n",
    "    model.summary()\n",
    "    N_layers = 'cnn'\n",
    "    return model,N_layers\n",
    "    \n",
    "# construct a 4 layer network\n",
    "def lay4():\n",
    "    model = Sequential()\n",
    "    model.add(Dense(output_dim=2048, input_dim=nsipm*nsipm))\n",
    "    model.add(Activation(\"relu\"))\n",
    "    model.add(Dense(output_dim=1024))\n",
    "    model.add(Activation(\"relu\"))\n",
    "    model.add(Dense(output_dim=512))\n",
    "    model.add(Activation(\"relu\"))\n",
    "    model.add(Dropout(.2))\n",
    "    model.add(Dense(output_dim=max_hits))\n",
    "    model.add(Activation(\"sigmoid\"))\n",
    "    model.compile(loss='categorical_crossentropy', \n",
    "                  optimizer=Nadam(lr=0.002, beta_1=0.9, beta_2=0.999, epsilon=1e-08, schedule_decay=0.004))\n",
    "    model.summary()\n",
    "    N_layers = 4\n",
    "    return model,N_layers\n",
    "    \n",
    "# etc .. \n",
    "def lay3():\n",
    "    model = Sequential()\n",
    "    model.add(Dense(output_dim=2048, input_dim=nsipm*nsipm))\n",
    "    model.add(Activation(\"relu\"))\n",
    "    model.add(Dense(output_dim=1024))\n",
    "    model.add(Activation(\"relu\"))\n",
    "    #model.add(Dropout(.15))\n",
    "    model.add(Dense(output_dim=max_hits))\n",
    "    model.add(Activation(\"sigmoid\"))\n",
    "    #model.compile(loss='mse', optimizer=SGD(lr=1.0, momentum=0.9, nesterov=True))\n",
    "    model.compile(loss='categorical_crossentropy', \n",
    "                  optimizer=Nadam(lr=0.002, beta_1=0.9, beta_2=0.999, epsilon=1e-08, schedule_decay=0.004))\n",
    "\n",
    "    model.summary()\n",
    "    N_layers = 3\n",
    "    return model,N_layers\n",
    "\n",
    "def lay2():\n",
    "    model = Sequential()\n",
    "    model.add(Dense(output_dim=2048, input_dim=nsipm*nsipm))\n",
    "    model.add(Activation(\"relu\"))\n",
    "    #model.add(Dropout(.25))\n",
    "    model.add(Dense(output_dim=max_hits))\n",
    "    model.add(Activation(\"softmax\"))\n",
    "    model.compile(loss ='categorical_crossentropy',  optimizer=SGD(lr=1.0, momentum=0.9, nesterov=True))\n",
    "    #model.compile(loss='mse', optimizer=Nadam(lr=0.002, beta_1=0.9, beta_2=0.999, epsilon=1e-08, schedule_decay=0.004))\n",
    "    model.summary()\n",
    "    N_layers = 2\n",
    "    return model,N_layers\n",
    "    \n",
    "def lay1():\n",
    "    model = Sequential()\n",
    "    model.add(Dense(output_dim=max_hits, input_dim=nsipm**2))\n",
    "    model.add(Activation(\"softmax\"))\n",
    "    model.compile(loss ='categorical_crossentropy',  optimizer=SGD(lr=1.0, momentum=0.9, nesterov=True))\n",
    "    model.summary()\n",
    "    N_layers = 1\n",
    "    return model,N_layers\n"
   ]
  },
  {
   "cell_type": "markdown",
   "metadata": {},
   "source": [
    "Call a network and begin training"
   ]
  },
  {
   "cell_type": "code",
   "execution_count": 7,
   "metadata": {
    "collapsed": false
   },
   "outputs": [
    {
     "name": "stdout",
     "output_type": "stream",
     "text": [
      "Train on 20000 samples, validate on 2000 samples\n",
      "Epoch 1/30\n",
      "5s - loss: 0.0727 - acc: 0.9048 - val_loss: 0.0331 - val_acc: 0.9610\n",
      "Epoch 2/30\n",
      "5s - loss: 0.0348 - acc: 0.9589 - val_loss: 0.0232 - val_acc: 0.9745\n",
      "Epoch 3/30\n",
      "5s - loss: 0.0255 - acc: 0.9712 - val_loss: 0.0291 - val_acc: 0.9665\n",
      "Epoch 4/30\n",
      "5s - loss: 0.0221 - acc: 0.9752 - val_loss: 0.0189 - val_acc: 0.9800\n",
      "Epoch 5/30\n",
      "10s - loss: 0.0204 - acc: 0.9767 - val_loss: 0.0221 - val_acc: 0.9770\n",
      "Epoch 6/30\n",
      "5s - loss: 0.0207 - acc: 0.9767 - val_loss: 0.0398 - val_acc: 0.9560\n",
      "Epoch 7/30\n",
      "9s - loss: 0.0221 - acc: 0.9755 - val_loss: 0.0174 - val_acc: 0.9815\n",
      "Epoch 8/30\n",
      "10s - loss: 0.0171 - acc: 0.9813 - val_loss: 0.0162 - val_acc: 0.9825\n",
      "Epoch 9/30\n",
      "9s - loss: 0.0176 - acc: 0.9800 - val_loss: 0.0176 - val_acc: 0.9815\n",
      "Epoch 10/30\n",
      "12s - loss: 0.0165 - acc: 0.9822 - val_loss: 0.0216 - val_acc: 0.9750\n",
      "Epoch 11/30\n",
      "7s - loss: 0.0157 - acc: 0.9827 - val_loss: 0.0162 - val_acc: 0.9825\n",
      "Epoch 12/30\n",
      "9s - loss: 0.0164 - acc: 0.9817 - val_loss: 0.0159 - val_acc: 0.9820\n",
      "Epoch 13/30\n",
      "5s - loss: 0.0139 - acc: 0.9848 - val_loss: 0.0165 - val_acc: 0.9825\n",
      "Epoch 14/30\n",
      "5s - loss: 0.0148 - acc: 0.9834 - val_loss: 0.0151 - val_acc: 0.9830\n",
      "Epoch 15/30\n",
      "5s - loss: 0.0137 - acc: 0.9847 - val_loss: 0.0537 - val_acc: 0.9345\n",
      "Epoch 16/30\n",
      "5s - loss: 0.0126 - acc: 0.9861 - val_loss: 0.0192 - val_acc: 0.9805\n",
      "Epoch 17/30\n",
      "5s - loss: 0.0175 - acc: 0.9806 - val_loss: 0.0182 - val_acc: 0.9810\n",
      "Epoch 18/30\n",
      "5s - loss: 0.0127 - acc: 0.9859 - val_loss: 0.0146 - val_acc: 0.9850\n",
      "Epoch 19/30\n",
      "5s - loss: 0.0120 - acc: 0.9866 - val_loss: 0.0176 - val_acc: 0.9815\n",
      "Epoch 20/30\n",
      "5s - loss: 0.0110 - acc: 0.9877 - val_loss: 0.0139 - val_acc: 0.9840\n",
      "Epoch 21/30\n",
      "5s - loss: 0.0119 - acc: 0.9870 - val_loss: 0.0201 - val_acc: 0.9790\n",
      "Epoch 22/30\n",
      "5s - loss: 0.0136 - acc: 0.9852 - val_loss: 0.0199 - val_acc: 0.9795\n",
      "Epoch 23/30\n",
      "6s - loss: 0.0113 - acc: 0.9876 - val_loss: 0.0197 - val_acc: 0.9790\n",
      "Epoch 24/30\n",
      "6s - loss: 0.0127 - acc: 0.9859 - val_loss: 0.0133 - val_acc: 0.9860\n",
      "Epoch 25/30\n",
      "6s - loss: 0.0124 - acc: 0.9865 - val_loss: 0.0156 - val_acc: 0.9835\n",
      "Epoch 26/30\n",
      "6s - loss: 0.0108 - acc: 0.9878 - val_loss: 0.0149 - val_acc: 0.9840\n",
      "Epoch 27/30\n",
      "6s - loss: 0.0099 - acc: 0.9886 - val_loss: 0.0125 - val_acc: 0.9865\n",
      "Epoch 28/30\n",
      "6s - loss: 0.0108 - acc: 0.9880 - val_loss: 0.0148 - val_acc: 0.9845\n",
      "Epoch 29/30\n",
      "5s - loss: 0.0100 - acc: 0.9889 - val_loss: 0.0148 - val_acc: 0.9835\n",
      "Epoch 30/30\n",
      "6s - loss: 0.0096 - acc: 0.9891 - val_loss: 0.0126 - val_acc: 0.9870\n"
     ]
    }
   ],
   "source": [
    "# call desired network\n",
    "model,N_layers = cnn()\n",
    "\n",
    "# stop early and save best model\n",
    "ES = False\n",
    "Save_model = False\n",
    "if ES and Save_model:\n",
    "    callbacks = [\n",
    "        callbacks.EarlyStopping(monitor='val_loss', patience=3, mode='min'), # stop training if val_loss \n",
    "                                                                             # stops decreasing for 3 epochs\n",
    "        \n",
    "        callbacks.ModelCheckpoint(ES_filepath, monitor='val_loss', save_best_only=True, mode='min')] # save best model\n",
    "# stop early do not save    \n",
    "elif ES:\n",
    "    callbacks =[callbacks.EarlyStopping(monitor='val_loss', patience=3, mode='min')]\n",
    "\n",
    "# do not stop early, decide whether to save later *use this when comparing error of different numbers of layers\n",
    "else: callbacks =[]\n",
    "\n",
    "if N_layers == 'cnn':\n",
    "    hist = model.fit(x_train.reshape((y_train.shape[0],1,nsipm,nsipm)), y_train, nb_epoch=30, batch_size=100,  \n",
    "                 validation_data=(x_valid.reshape((y_valid.shape[0],1,nsipm,nsipm)),y_valid),\n",
    "                 verbose=2, callbacks=callbacks);  \n",
    "else:\n",
    "    hist = model.fit(x_train, y_train, nb_epoch=5, batch_size=100,  \n",
    "                 validation_data=(x_valid,y_valid),\n",
    "                 verbose=2, callbacks=callbacks); "
   ]
  },
  {
   "cell_type": "markdown",
   "metadata": {},
   "source": [
    "Determine accuracy:"
   ]
  },
  {
   "cell_type": "code",
   "execution_count": 8,
   "metadata": {
    "collapsed": false
   },
   "outputs": [
    {
     "name": "stdout",
     "output_type": "stream",
     "text": [
      "accuracy: 98.7%\n",
      "correct: 1974.0\n",
      "total: 2000\n"
     ]
    }
   ],
   "source": [
    "# Get model's predictions, plot the error in a histogram\n",
    "if N_layers == 'cnn':\n",
    "    predictions = model.predict(x_valid.reshape((y_valid.shape[0],1,nsipm,nsipm)))\n",
    "else: \n",
    "    predictions = model.predict(x_valid)\n",
    "\n",
    "count = 0.0 \n",
    "for p,t in zip(predictions,y_valid):\n",
    "\n",
    "    if np.argmax(p) == np.argmax(t): \n",
    "        count +=1.0\n",
    "print('accuracy: ' + str(count/y_valid.shape[0]*100) + '%' )\n",
    "print('correct: ' + str(count))\n",
    "print('total: '   + str(y_valid.shape[0]))"
   ]
  },
  {
   "cell_type": "code",
   "execution_count": 15,
   "metadata": {
    "collapsed": false
   },
   "outputs": [
    {
     "data": {
      "image/png": "[encoded data removed]",
      "text/plain": [
       "<matplotlib.figure.Figure at 0x10f37dd10>"
      ]
     },
     "metadata": {},
     "output_type": "display_data"
    }
   ],
   "source": [
    "train = plt.plot(range(0,len(hist.history['loss'])),\n",
    "                 np.array(hist.history['acc']), 'r', label='Train accuracy')\n",
    "val   = plt.plot(range(0,len(hist.history['loss'])),\n",
    "                 np.array(hist.history['val_acc']), 'b', label='Val accuracy')\n",
    "plt.ylim([.93,1])\n",
    "plt.legend(loc='lower right')\n",
    "plt.xlabel('Epochs')\n",
    "plt.ylabel('Accuracy')\n",
    "plt.title('CNN point classifying accuracy')\n",
    "plt.grid(True)\n",
    "plt.show()"
   ]
  },
  {
   "cell_type": "markdown",
   "metadata": {
    "collapsed": true
   },
   "source": [
    "This CNN has less than half the error of the 5layer DNN, after fewer epochs! It also takes less time/epoch to run than the 5 layer net!"
   ]
  }
 ],
 "metadata": {
  "kernelspec": {
   "display_name": "Python 2",
   "language": "python",
   "name": "python2"
  },
  "language_info": {
   "codemirror_mode": {
    "name": "ipython",
    "version": 2
   },
   "file_extension": ".py",
   "mimetype": "text/x-python",
   "name": "python",
   "nbconvert_exporter": "python",
   "pygments_lexer": "ipython2",
   "version": "2.7.12"
  }
 },
 "nbformat": 4,
 "nbformat_minor": 0
}
