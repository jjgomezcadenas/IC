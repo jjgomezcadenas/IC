{
 "cells": [
  {
   "cell_type": "markdown",
   "metadata": {},
   "source": [
    "# DIOMIRA-PYX"
   ]
  },
  {
   "cell_type": "markdown",
   "metadata": {},
   "source": [
    "## A nb to develop the cython version of DIOMIRA"
   ]
  },
  {
   "cell_type": "code",
   "execution_count": 1,
   "metadata": {
    "collapsed": true
   },
   "outputs": [],
   "source": [
    "from __future__ import print_function\n",
    "%matplotlib inline\n",
    "%load_ext autoreload\n",
    "%autoreload 2"
   ]
  },
  {
   "cell_type": "code",
   "execution_count": 2,
   "metadata": {
    "collapsed": false
   },
   "outputs": [
    {
     "name": "stdout",
     "output_type": "stream",
     "text": [
      "env: IPYTHONDIR=/Users/jjgomezcadenas/Documents/Development/IPYTHON\n"
     ]
    }
   ],
   "source": [
    "%env IPYTHONDIR=/Users/jjgomezcadenas/Documents/Development/IPYTHON"
   ]
  },
  {
   "cell_type": "code",
   "execution_count": 3,
   "metadata": {
    "collapsed": true
   },
   "outputs": [],
   "source": [
    "%load_ext Cython"
   ]
  },
  {
   "cell_type": "code",
   "execution_count": 4,
   "metadata": {
    "collapsed": true
   },
   "outputs": [],
   "source": [
    "import pandas as pd\n",
    "import numpy as np\n",
    "import FEParam as FP\n",
    "import tables\n",
    "from time import time\n",
    "from Util import *"
   ]
  },
  {
   "cell_type": "code",
   "execution_count": 14,
   "metadata": {
    "collapsed": true
   },
   "outputs": [],
   "source": [
    "%matplotlib inline"
   ]
  },
  {
   "cell_type": "code",
   "execution_count": 15,
   "metadata": {
    "collapsed": true
   },
   "outputs": [],
   "source": [
    "import matplotlib.pyplot as plt"
   ]
  },
  {
   "cell_type": "code",
   "execution_count": 69,
   "metadata": {
    "collapsed": true
   },
   "outputs": [],
   "source": [
    "from LogConfig import *\n",
    "from Configure import configure\n",
    "from Nh5 import *\n",
    "import FEParam as FP\n",
    "import SPE as SP\n",
    "import FEE2 as FE\n",
    "import tables\n",
    "import wfmFunctions as wfm\n",
    "import pandas as pd"
   ]
  },
  {
   "cell_type": "markdown",
   "metadata": {},
   "source": [
    "## Cython demo"
   ]
  },
  {
   "cell_type": "markdown",
   "metadata": {},
   "source": [
    "### Classical fib function"
   ]
  },
  {
   "cell_type": "code",
   "execution_count": 5,
   "metadata": {
    "collapsed": true
   },
   "outputs": [],
   "source": [
    "def fib(n):\n",
    "    a,b = 0.0, 1.0\n",
    "    for i in range(n):\n",
    "        a,b = a+b,a\n",
    "    return a"
   ]
  },
  {
   "cell_type": "code",
   "execution_count": 6,
   "metadata": {
    "collapsed": true
   },
   "outputs": [],
   "source": [
    "%%cython\n",
    "def cfib(int n):\n",
    "    cdef int i\n",
    "    cdef double a = 0.0, b= 1.0\n",
    "    for i in range(n):\n",
    "        a,b = a+b, a\n",
    "    return a"
   ]
  },
  {
   "cell_type": "code",
   "execution_count": 7,
   "metadata": {
    "collapsed": false
   },
   "outputs": [
    {
     "name": "stdout",
     "output_type": "stream",
     "text": [
      "The slowest run took 8.84 times longer than the fastest. This could mean that an intermediate result is being cached.\n",
      "1000000 loops, best of 3: 351 ns per loop\n"
     ]
    }
   ],
   "source": [
    "%timeit fib(0)"
   ]
  },
  {
   "cell_type": "code",
   "execution_count": 8,
   "metadata": {
    "collapsed": false
   },
   "outputs": [
    {
     "name": "stdout",
     "output_type": "stream",
     "text": [
      "100000 loops, best of 3: 6.02 µs per loop\n"
     ]
    }
   ],
   "source": [
    "%timeit fib(90)"
   ]
  },
  {
   "cell_type": "code",
   "execution_count": 9,
   "metadata": {
    "collapsed": false
   },
   "outputs": [
    {
     "name": "stdout",
     "output_type": "stream",
     "text": [
      "The slowest run took 24.58 times longer than the fastest. This could mean that an intermediate result is being cached.\n",
      "10000000 loops, best of 3: 48.5 ns per loop\n"
     ]
    }
   ],
   "source": [
    "%timeit cfib(0)"
   ]
  },
  {
   "cell_type": "code",
   "execution_count": 10,
   "metadata": {
    "collapsed": false
   },
   "outputs": [
    {
     "name": "stdout",
     "output_type": "stream",
     "text": [
      "10000000 loops, best of 3: 119 ns per loop\n"
     ]
    }
   ],
   "source": [
    "%timeit cfib(90)"
   ]
  },
  {
   "cell_type": "code",
   "execution_count": 11,
   "metadata": {
    "collapsed": true
   },
   "outputs": [],
   "source": [
    "f = 118./6050."
   ]
  },
  {
   "cell_type": "code",
   "execution_count": 12,
   "metadata": {
    "collapsed": false
   },
   "outputs": [
    {
     "data": {
      "text/plain": [
       "51.271186440677965"
      ]
     },
     "execution_count": 12,
     "metadata": {},
     "output_type": "execute_result"
    }
   ],
   "source": [
    "1./f"
   ]
  },
  {
   "cell_type": "markdown",
   "metadata": {},
   "source": [
    "### A more realistic demo"
   ]
  },
  {
   "cell_type": "markdown",
   "metadata": {},
   "source": [
    "### Rebin array"
   ]
  },
  {
   "cell_type": "markdown",
   "metadata": {},
   "source": [
    "#### Python version"
   ]
  },
  {
   "cell_type": "code",
   "execution_count": 5,
   "metadata": {
    "collapsed": true
   },
   "outputs": [],
   "source": [
    "def rebin_pmt_array(a,stride):\n",
    "    \"\"\"\n",
    "    rebins pmt array a according to stride\n",
    "    there is a rebin_array in util which uses\n",
    "    lenb = (len(a))/int(stride)\n",
    "    this version uses (lean(a)+1) to correct from the fact that the\n",
    "    MCRD is 599999 channels (should be 600000)\n",
    "    \"\"\"\n",
    "    \n",
    "    lenb = len(a)/int(stride)\n",
    "    b = np.zeros(lenb)\n",
    "    j=0\n",
    "    for i in range(lenb):\n",
    "        b[i] = np.sum(a[j:j+stride])\n",
    "        j+= stride\n",
    "    return b"
   ]
  },
  {
   "cell_type": "code",
   "execution_count": 19,
   "metadata": {
    "collapsed": false
   },
   "outputs": [],
   "source": [
    "cx = np.sin(np.arange(0.,np.pi/2.,0.001))"
   ]
  },
  {
   "cell_type": "code",
   "execution_count": 20,
   "metadata": {
    "collapsed": false
   },
   "outputs": [
    {
     "data": {
      "text/plain": [
       "[<matplotlib.lines.Line2D at 0x10e882fd0>]"
      ]
     },
     "execution_count": 20,
     "metadata": {},
     "output_type": "execute_result"
    },
    {
     "data": {
      "image/png": "[encoded data removed]",
      "text/plain": [
       "<matplotlib.figure.Figure at 0x10e697390>"
      ]
     },
     "metadata": {},
     "output_type": "display_data"
    }
   ],
   "source": [
    "plt.plot(cx)"
   ]
  },
  {
   "cell_type": "code",
   "execution_count": 21,
   "metadata": {
    "collapsed": false
   },
   "outputs": [
    {
     "data": {
      "text/plain": [
       "999.70358986375845"
      ]
     },
     "execution_count": 21,
     "metadata": {},
     "output_type": "execute_result"
    }
   ],
   "source": [
    "np.sum(cx)"
   ]
  },
  {
   "cell_type": "code",
   "execution_count": 22,
   "metadata": {
    "collapsed": false
   },
   "outputs": [
    {
     "name": "stdout",
     "output_type": "stream",
     "text": [
      "CPU times: user 553 µs, sys: 87 µs, total: 640 µs\n",
      "Wall time: 570 µs\n"
     ]
    }
   ],
   "source": [
    "%time y = rebin_pmt_array(cx,10)"
   ]
  },
  {
   "cell_type": "code",
   "execution_count": 23,
   "metadata": {
    "collapsed": false
   },
   "outputs": [
    {
     "name": "stdout",
     "output_type": "stream",
     "text": [
      "1000 loops, best of 3: 384 µs per loop\n"
     ]
    }
   ],
   "source": [
    "%timeit y = rebin_pmt_array(cx,10)"
   ]
  },
  {
   "cell_type": "code",
   "execution_count": 24,
   "metadata": {
    "collapsed": false
   },
   "outputs": [
    {
     "data": {
      "text/plain": [
       "[<matplotlib.lines.Line2D at 0x10e9a3910>]"
      ]
     },
     "execution_count": 24,
     "metadata": {},
     "output_type": "execute_result"
    },
    {
     "data": {
      "image/png": "[encoded data removed]",
      "text/plain": [
       "<matplotlib.figure.Figure at 0x10e8a4d50>"
      ]
     },
     "metadata": {},
     "output_type": "display_data"
    }
   ],
   "source": [
    "plt.plot(y)"
   ]
  },
  {
   "cell_type": "code",
   "execution_count": 25,
   "metadata": {
    "collapsed": false
   },
   "outputs": [
    {
     "data": {
      "text/plain": [
       "998.70359018082661"
      ]
     },
     "execution_count": 25,
     "metadata": {},
     "output_type": "execute_result"
    }
   ],
   "source": [
    "np.sum(y)"
   ]
  },
  {
   "cell_type": "code",
   "execution_count": null,
   "metadata": {
    "collapsed": true
   },
   "outputs": [],
   "source": []
  },
  {
   "cell_type": "markdown",
   "metadata": {},
   "source": [
    "#### Cython version (pure compilation)"
   ]
  },
  {
   "cell_type": "code",
   "execution_count": 26,
   "metadata": {
    "collapsed": true
   },
   "outputs": [],
   "source": [
    "%%cython\n",
    "import numpy as np\n",
    "def rebin_pmt_array_cy_v0(a,stride):\n",
    "    \"\"\"\n",
    "    rebins pmt array a according to stride\n",
    "    there is a rebin_array in util which uses\n",
    "    lenb = (len(a))/int(stride)\n",
    "    this version uses (lean(a)+1) to correct from the fact that the\n",
    "    MCRD is 599999 channels (should be 600000)\n",
    "    \"\"\"\n",
    "    \n",
    "    lenb = len(a)/int(stride)\n",
    "    b = np.zeros(lenb)\n",
    "    j=0\n",
    "    for i in range(lenb):\n",
    "        b[i] = np.sum(a[j:j+stride])\n",
    "        j+= stride\n",
    "    return b"
   ]
  },
  {
   "cell_type": "code",
   "execution_count": 27,
   "metadata": {
    "collapsed": false
   },
   "outputs": [
    {
     "name": "stdout",
     "output_type": "stream",
     "text": [
      "1000 loops, best of 3: 380 µs per loop\n"
     ]
    }
   ],
   "source": [
    "%timeit rebin_pmt_array_cy_v0(cx,10)"
   ]
  },
  {
   "cell_type": "markdown",
   "metadata": {},
   "source": [
    "#### cython version 1"
   ]
  },
  {
   "cell_type": "markdown",
   "metadata": {},
   "source": [
    "1. Declares variables\n",
    "2. Uses memviews\n",
    "3. Uses np.sum()"
   ]
  },
  {
   "cell_type": "code",
   "execution_count": 28,
   "metadata": {
    "collapsed": false
   },
   "outputs": [],
   "source": [
    "%%cython\n",
    "import numpy as np\n",
    "cimport numpy as np\n",
    "def rebin_pmt_array_cy_v1(double [:] a,int stride):\n",
    "    \"\"\"\n",
    "    rebins pmt array a according to stride\n",
    "    there is a rebin_array in util which uses\n",
    "    lenb = (len(a))/int(stride)\n",
    "    this version uses (lean(a)+1) to correct from the fact that the\n",
    "    MCRD is 599999 channels (should be 600000)\n",
    "    \"\"\"\n",
    "    \n",
    "    cdef:\n",
    "        int lenb, i, j\n",
    "        double [:] b\n",
    "    \n",
    "    lena =   a.shape[0]   \n",
    "    lenb = a.shape[0]/stride\n",
    "    \n",
    "    b = np.zeros(lenb, dtype=np.double)\n",
    "    \n",
    "    j=0\n",
    "    \n",
    "    for i in range(lenb):\n",
    "        b[i] = np.sum(a[j:j+stride])\n",
    "        j+= stride\n",
    "    \n",
    "    \n",
    "    return np.asarray(b)"
   ]
  },
  {
   "cell_type": "code",
   "execution_count": 30,
   "metadata": {
    "collapsed": false
   },
   "outputs": [
    {
     "name": "stdout",
     "output_type": "stream",
     "text": [
      "1000 loops, best of 3: 996 µs per loop\n"
     ]
    }
   ],
   "source": [
    "%timeit y = rebin_pmt_array_cy_v1(cx,10)"
   ]
  },
  {
   "cell_type": "markdown",
   "metadata": {},
   "source": [
    "*NB: v1 runs 3 time slower than v0 and pure python *"
   ]
  },
  {
   "cell_type": "code",
   "execution_count": 31,
   "metadata": {
    "collapsed": false
   },
   "outputs": [
    {
     "data": {
      "text/plain": [
       "[<matplotlib.lines.Line2D at 0x10f19ce90>]"
      ]
     },
     "execution_count": 31,
     "metadata": {},
     "output_type": "execute_result"
    },
    {
     "data": {
      "image/png": "[encoded data removed]",
      "text/plain": [
       "<matplotlib.figure.Figure at 0x10f4b0c10>"
      ]
     },
     "metadata": {},
     "output_type": "display_data"
    }
   ],
   "source": [
    "plt.plot(y)"
   ]
  },
  {
   "cell_type": "code",
   "execution_count": 32,
   "metadata": {
    "collapsed": false
   },
   "outputs": [
    {
     "data": {
      "text/plain": [
       "998.70359018082661"
      ]
     },
     "execution_count": 32,
     "metadata": {},
     "output_type": "execute_result"
    }
   ],
   "source": [
    "np.sum(y)"
   ]
  },
  {
   "cell_type": "code",
   "execution_count": null,
   "metadata": {
    "collapsed": true
   },
   "outputs": [],
   "source": []
  },
  {
   "cell_type": "markdown",
   "metadata": {},
   "source": [
    "#### cyton version 2 (cythonizes the sum)"
   ]
  },
  {
   "cell_type": "code",
   "execution_count": 33,
   "metadata": {
    "collapsed": false
   },
   "outputs": [],
   "source": [
    "%%cython\n",
    "import numpy as np\n",
    "cimport numpy as np\n",
    "def rebin_pmt_array_cy_v2(double [:] a,int stride):\n",
    "    \"\"\"\n",
    "    rebins pmt array a according to stride\n",
    "    there is a rebin_array in util which uses\n",
    "    lenb = (len(a))/int(stride)\n",
    "    this version uses (lean(a)+1) to correct from the fact that the\n",
    "    MCRD is 599999 channels (should be 600000)\n",
    "    \"\"\"\n",
    "    \n",
    "    cdef:\n",
    "        int lenb, i, j,k\n",
    "        double [:] b\n",
    "        double part_sum\n",
    "    \n",
    "    lena =   a.shape[0]   \n",
    "    lenb = a.shape[0]/stride\n",
    "    \n",
    "    b = np.zeros(lenb)\n",
    "    \n",
    "    j=0\n",
    "    \n",
    "    for i in range(lenb):\n",
    "        part_sum = 0.\n",
    "        for k in range(j, j + stride): \n",
    "            part_sum += a[k] \n",
    "        b[i] = part_sum\n",
    "        j+= stride\n",
    "    \n",
    "    return np.asarray(b)"
   ]
  },
  {
   "cell_type": "code",
   "execution_count": 34,
   "metadata": {
    "collapsed": false
   },
   "outputs": [
    {
     "name": "stdout",
     "output_type": "stream",
     "text": [
      "The slowest run took 13.18 times longer than the fastest. This could mean that an intermediate result is being cached.\n",
      "100000 loops, best of 3: 6.22 µs per loop\n"
     ]
    }
   ],
   "source": [
    "%timeit y = rebin_pmt_array_cy_v2(cx,10)"
   ]
  },
  {
   "cell_type": "markdown",
   "metadata": {},
   "source": [
    "* A very large IMPROVEMENT*\n",
    "\n",
    "1. Pure Python: 384 mus\n",
    "2. Cython v0: 30 mus\n",
    "3. Cython v1: 996 mu\n",
    "4. Cython v2: 6.22 mus"
   ]
  },
  {
   "cell_type": "code",
   "execution_count": 38,
   "metadata": {
    "collapsed": false
   },
   "outputs": [
    {
     "data": {
      "text/plain": [
       "998.70359018082661"
      ]
     },
     "execution_count": 38,
     "metadata": {},
     "output_type": "execute_result"
    }
   ],
   "source": [
    "np.sum(y)"
   ]
  },
  {
   "cell_type": "markdown",
   "metadata": {},
   "source": [
    "#### cyton version 3 (Direct use of nd.array() in function)"
   ]
  },
  {
   "cell_type": "code",
   "execution_count": 36,
   "metadata": {
    "collapsed": false
   },
   "outputs": [],
   "source": [
    "%%cython\n",
    "import numpy as np\n",
    "cimport numpy as np\n",
    "def rebin_pmt_array_cy_v3(np.ndarray[np.float64_t, ndim=1] a,int stride):\n",
    "    \"\"\"\n",
    "    rebins pmt array a according to stride\n",
    "    there is a rebin_array in util which uses\n",
    "    lenb = (len(a))/int(stride)\n",
    "    this version uses (lean(a)+1) to correct from the fact that the\n",
    "    MCRD is 599999 channels (should be 600000)\n",
    "    \"\"\"\n",
    "    \n",
    "    cdef:\n",
    "        int lenb, i, j,k\n",
    "        double part_sum\n",
    "      \n",
    "    lenb = a.shape[0]/stride\n",
    "    cdef np.ndarray[np.float64_t, ndim=1] b = np.zeros(lenb) \n",
    "    \n",
    "    j=0\n",
    "    for i in range(lenb):\n",
    "        part_sum = 0.\n",
    "        for k in range(j, j + stride): \n",
    "            part_sum += a[k] \n",
    "        b[i] = part_sum\n",
    "        j+= stride\n",
    "    \n",
    "    return b"
   ]
  },
  {
   "cell_type": "code",
   "execution_count": 37,
   "metadata": {
    "collapsed": false
   },
   "outputs": [
    {
     "name": "stdout",
     "output_type": "stream",
     "text": [
      "The slowest run took 9.38 times longer than the fastest. This could mean that an intermediate result is being cached.\n",
      "100000 loops, best of 3: 3.94 µs per loop\n"
     ]
    }
   ],
   "source": [
    "%timeit y = rebin_pmt_array_cy_v3(cx,10)"
   ]
  },
  {
   "cell_type": "markdown",
   "metadata": {},
   "source": [
    "*Further improvement!*\n",
    "\n",
    "\n",
    "1. Pure Python: 384 mus\n",
    "2. Cython v0: 30 mus\n",
    "3. Cython v1: 996 mu\n",
    "4. Cython v2: 6.22 mus\n",
    "5. Cython v3: 3.94 mus"
   ]
  },
  {
   "cell_type": "code",
   "execution_count": 39,
   "metadata": {
    "collapsed": false
   },
   "outputs": [
    {
     "data": {
      "text/plain": [
       "[<matplotlib.lines.Line2D at 0x10f209f50>]"
      ]
     },
     "execution_count": 39,
     "metadata": {},
     "output_type": "execute_result"
    },
    {
     "data": {
      "image/png": "[encoded data removed]",
      "text/plain": [
       "<matplotlib.figure.Figure at 0x10f6938d0>"
      ]
     },
     "metadata": {},
     "output_type": "display_data"
    }
   ],
   "source": [
    "plt.plot(y)"
   ]
  },
  {
   "cell_type": "markdown",
   "metadata": {},
   "source": [
    "#### cyton version 4 (switch off checks)"
   ]
  },
  {
   "cell_type": "code",
   "execution_count": 52,
   "metadata": {
    "collapsed": false
   },
   "outputs": [],
   "source": [
    "%%cython\n",
    "import numpy as np\n",
    "cimport numpy as np\n",
    "from cython cimport boundscheck, wraparound\n",
    "def rebin_pmt_array_cy_v4(np.ndarray[np.float64_t, ndim=1] a,int stride):\n",
    "    \"\"\"\n",
    "    rebins pmt array a according to stride\n",
    "    there is a rebin_array in util which uses\n",
    "    lenb = (len(a))/int(stride)\n",
    "    this version uses (lean(a)+1) to correct from the fact that the\n",
    "    MCRD is 599999 channels (should be 600000)\n",
    "    \"\"\"\n",
    "    \n",
    "    cdef:\n",
    "        int lenb, i, j,k\n",
    "        double part_sum\n",
    "      \n",
    "    lenb = a.shape[0]/stride\n",
    "    cdef np.ndarray[np.float64_t, ndim=1] b = np.zeros(lenb) \n",
    "    \n",
    "    j=0\n",
    "    with boundscheck(False), wraparound(False):\n",
    "        for i in range(lenb):\n",
    "            part_sum = 0.\n",
    "            for k in range(j, j + stride): \n",
    "                part_sum += a[k] \n",
    "            b[i] = part_sum\n",
    "            j+= stride\n",
    "    \n",
    "    return b"
   ]
  },
  {
   "cell_type": "code",
   "execution_count": 53,
   "metadata": {
    "collapsed": false
   },
   "outputs": [
    {
     "name": "stdout",
     "output_type": "stream",
     "text": [
      "The slowest run took 12.54 times longer than the fastest. This could mean that an intermediate result is being cached.\n",
      "100000 loops, best of 3: 3.12 µs per loop\n"
     ]
    }
   ],
   "source": [
    "%timeit y = rebin_pmt_array_cy_v4(cx,10)"
   ]
  },
  {
   "cell_type": "markdown",
   "metadata": {},
   "source": [
    "*Further improvement!*\n",
    "\n",
    "\n",
    "1. Pure Python: 384 mus\n",
    "2. Cython v0: 30 mus\n",
    "3. Cython v1: 996 mu\n",
    "4. Cython v2: 6.22 mus\n",
    "5. Cython v3: 3.94 mus\n",
    "6. Cython v4: 3.12 mus"
   ]
  },
  {
   "cell_type": "code",
   "execution_count": 54,
   "metadata": {
    "collapsed": false
   },
   "outputs": [
    {
     "data": {
      "text/plain": [
       "[<matplotlib.lines.Line2D at 0x10f3a8f50>]"
      ]
     },
     "execution_count": 54,
     "metadata": {},
     "output_type": "execute_result"
    },
    {
     "data": {
      "image/png": "[encoded data removed]",
      "text/plain": [
       "<matplotlib.figure.Figure at 0x10fd79750>"
      ]
     },
     "metadata": {},
     "output_type": "display_data"
    }
   ],
   "source": [
    "plt.plot(y)"
   ]
  },
  {
   "cell_type": "markdown",
   "metadata": {},
   "source": [
    "#### cyton version 5 (as 4 but using memviews)"
   ]
  },
  {
   "cell_type": "code",
   "execution_count": 55,
   "metadata": {
    "collapsed": true
   },
   "outputs": [],
   "source": [
    "%%cython\n",
    "import numpy as np\n",
    "cimport numpy as np\n",
    "from cython cimport boundscheck, wraparound\n",
    "def rebin_pmt_array_cy_v5(double [:] a,int stride):\n",
    "    \"\"\"\n",
    "    rebins pmt array a according to stride\n",
    "    there is a rebin_array in util which uses\n",
    "    lenb = (len(a))/int(stride)\n",
    "    this version uses (lean(a)+1) to correct from the fact that the\n",
    "    MCRD is 599999 channels (should be 600000)\n",
    "    \"\"\"\n",
    "    \n",
    "    cdef:\n",
    "        int lenb, i, j,k\n",
    "        double [:] b\n",
    "        double part_sum\n",
    "    \n",
    "    lena =   a.shape[0]   \n",
    "    lenb = a.shape[0]/stride\n",
    "    \n",
    "    b = np.zeros(lenb)\n",
    "    \n",
    "    j=0\n",
    "    with boundscheck(False), wraparound(False):\n",
    "        for i in range(lenb):\n",
    "            part_sum = 0.\n",
    "            for k in range(j, j + stride): \n",
    "                part_sum += a[k] \n",
    "            b[i] = part_sum\n",
    "            j+= stride\n",
    "    \n",
    "    return np.asarray(b)"
   ]
  },
  {
   "cell_type": "code",
   "execution_count": 56,
   "metadata": {
    "collapsed": false
   },
   "outputs": [
    {
     "name": "stdout",
     "output_type": "stream",
     "text": [
      "The slowest run took 10.50 times longer than the fastest. This could mean that an intermediate result is being cached.\n",
      "100000 loops, best of 3: 5.7 µs per loop\n"
     ]
    }
   ],
   "source": [
    "%timeit y = rebin_pmt_array_cy_v5(cx,10)"
   ]
  },
  {
   "cell_type": "code",
   "execution_count": 57,
   "metadata": {
    "collapsed": false
   },
   "outputs": [
    {
     "data": {
      "text/plain": [
       "[<matplotlib.lines.Line2D at 0x10eda8250>]"
      ]
     },
     "execution_count": 57,
     "metadata": {},
     "output_type": "execute_result"
    },
    {
     "data": {
      "image/png": "[encoded data removed]",
      "text/plain": [
       "<matplotlib.figure.Figure at 0x10f484f90>"
      ]
     },
     "metadata": {},
     "output_type": "display_data"
    }
   ],
   "source": [
    "plt.plot(y)"
   ]
  },
  {
   "cell_type": "markdown",
   "metadata": {},
   "source": [
    "1. Pure Python: 384 mus\n",
    "2. Cython v0: 30 mus\n",
    "3. Cython v1: 996 mu\n",
    "4. Cython v2: 6.22 mus\n",
    "5. Cython v3: 3.94 mus\n",
    "6. Cython v4: 3.12 mus\n",
    "6. Cython v5: 5.7 mus"
   ]
  },
  {
   "cell_type": "markdown",
   "metadata": {},
   "source": [
    "*About a factor 15 improvement*"
   ]
  },
  {
   "cell_type": "markdown",
   "metadata": {},
   "source": [
    "### Profiling"
   ]
  },
  {
   "cell_type": "code",
   "execution_count": 58,
   "metadata": {
    "collapsed": true
   },
   "outputs": [],
   "source": [
    "import cProfile"
   ]
  },
  {
   "cell_type": "code",
   "execution_count": 62,
   "metadata": {
    "collapsed": true
   },
   "outputs": [],
   "source": [
    "def main(code, version):\n",
    "    cx = np.arange(0.,1000000., 1)\n",
    "    if code =='py': \n",
    "        z = rebin_pmt_array(cx,10)\n",
    "    else:\n",
    "        z = eval('rebin_pmt_array_cy_'+version+'(cx,10)')"
   ]
  },
  {
   "cell_type": "code",
   "execution_count": 60,
   "metadata": {
    "collapsed": false
   },
   "outputs": [
    {
     "name": "stdout",
     "output_type": "stream",
     "text": [
      "         400005 function calls in 0.336 seconds\n",
      "\n",
      "   Ordered by: internal time\n",
      "\n",
      "   ncalls  tottime  percall  cumtime  percall filename:lineno(function)\n",
      "   100000    0.149    0.000    0.149    0.000 {method 'reduce' of 'numpy.ufunc' objects}\n",
      "   100000    0.074    0.000    0.272    0.000 fromnumeric.py:1743(sum)\n",
      "        1    0.059    0.059    0.331    0.331 {_cython_magic_439542c1297794ddb7ef37fe677858c0.rebin_pmt_array}\n",
      "   100000    0.024    0.000    0.173    0.000 _methods.py:31(_sum)\n",
      "   100000    0.024    0.000    0.024    0.000 {isinstance}\n",
      "        1    0.005    0.005    0.005    0.005 {numpy.core.multiarray.arange}\n",
      "        1    0.000    0.000    0.336    0.336 <ipython-input-59-c733d72f8be8>:1(main)\n",
      "        1    0.000    0.000    0.336    0.336 <string>:1(<module>)\n",
      "        1    0.000    0.000    0.000    0.000 {method 'disable' of '_lsprof.Profiler' objects}\n",
      "\n",
      "\n"
     ]
    }
   ],
   "source": [
    "cProfile.run('main(\"py\",\"v0\")', sort='time')"
   ]
  },
  {
   "cell_type": "code",
   "execution_count": 63,
   "metadata": {
    "collapsed": false
   },
   "outputs": [
    {
     "name": "stdout",
     "output_type": "stream",
     "text": [
      "         400006 function calls in 0.365 seconds\n",
      "\n",
      "   Ordered by: internal time\n",
      "\n",
      "   ncalls  tottime  percall  cumtime  percall filename:lineno(function)\n",
      "   100000    0.163    0.000    0.163    0.000 {method 'reduce' of 'numpy.ufunc' objects}\n",
      "   100000    0.079    0.000    0.295    0.000 fromnumeric.py:1743(sum)\n",
      "        1    0.065    0.065    0.360    0.360 {_cython_magic_bbf773f757df9c48c65bc65eeb9e15e4.rebin_pmt_array_cy_v0}\n",
      "   100000    0.027    0.000    0.190    0.000 _methods.py:31(_sum)\n",
      "   100000    0.026    0.000    0.026    0.000 {isinstance}\n",
      "        1    0.005    0.005    0.005    0.005 {numpy.core.multiarray.arange}\n",
      "        1    0.000    0.000    0.360    0.360 {eval}\n",
      "        1    0.000    0.000    0.365    0.365 <ipython-input-62-a0d77e6e9a81>:1(main)\n",
      "        1    0.000    0.000    0.360    0.360 <string>:1(<module>)\n",
      "        1    0.000    0.000    0.000    0.000 {method 'disable' of '_lsprof.Profiler' objects}\n",
      "\n",
      "\n"
     ]
    }
   ],
   "source": [
    "cProfile.run('main(\"cy\",\"v0\")', sort='time')"
   ]
  },
  {
   "cell_type": "code",
   "execution_count": 64,
   "metadata": {
    "collapsed": false
   },
   "outputs": [
    {
     "name": "stdout",
     "output_type": "stream",
     "text": [
      "         400008 function calls in 0.741 seconds\n",
      "\n",
      "   Ordered by: internal time\n",
      "\n",
      "   ncalls  tottime  percall  cumtime  percall filename:lineno(function)\n",
      "   100000    0.314    0.000    0.314    0.000 {method 'reduce' of 'numpy.ufunc' objects}\n",
      "   100000    0.209    0.000    0.580    0.000 fromnumeric.py:1743(sum)\n",
      "        1    0.160    0.160    0.740    0.740 {_cython_magic_dec29bf039b1b375fc2d32a0a3dcc815.rebin_pmt_array_cy_v1}\n",
      "   100000    0.029    0.000    0.029    0.000 {isinstance}\n",
      "   100000    0.028    0.000    0.342    0.000 _methods.py:31(_sum)\n",
      "        1    0.001    0.001    0.001    0.001 {numpy.core.multiarray.arange}\n",
      "        1    0.000    0.000    0.740    0.740 {eval}\n",
      "        1    0.000    0.000    0.741    0.741 <ipython-input-62-a0d77e6e9a81>:1(main)\n",
      "        1    0.000    0.000    0.740    0.740 <string>:1(<module>)\n",
      "        1    0.000    0.000    0.000    0.000 numeric.py:414(asarray)\n",
      "        1    0.000    0.000    0.000    0.000 {numpy.core.multiarray.array}\n",
      "        1    0.000    0.000    0.000    0.000 {method 'disable' of '_lsprof.Profiler' objects}\n",
      "\n",
      "\n"
     ]
    }
   ],
   "source": [
    "cProfile.run('main(\"cy\",\"v1\")', sort='time')"
   ]
  },
  {
   "cell_type": "code",
   "execution_count": 65,
   "metadata": {
    "collapsed": false
   },
   "outputs": [
    {
     "name": "stdout",
     "output_type": "stream",
     "text": [
      "         8 function calls in 0.003 seconds\n",
      "\n",
      "   Ordered by: internal time\n",
      "\n",
      "   ncalls  tottime  percall  cumtime  percall filename:lineno(function)\n",
      "        1    0.002    0.002    0.002    0.002 {_cython_magic_51566aa70cd45d37b878a7042a3a73ec.rebin_pmt_array_cy_v2}\n",
      "        1    0.001    0.001    0.001    0.001 {numpy.core.multiarray.arange}\n",
      "        1    0.000    0.000    0.002    0.002 {eval}\n",
      "        1    0.000    0.000    0.003    0.003 <ipython-input-62-a0d77e6e9a81>:1(main)\n",
      "        1    0.000    0.000    0.000    0.000 {numpy.core.multiarray.array}\n",
      "        1    0.000    0.000    0.000    0.000 numeric.py:414(asarray)\n",
      "        1    0.000    0.000    0.002    0.002 <string>:1(<module>)\n",
      "        1    0.000    0.000    0.000    0.000 {method 'disable' of '_lsprof.Profiler' objects}\n",
      "\n",
      "\n"
     ]
    }
   ],
   "source": [
    "cProfile.run('main(\"cy\",\"v2\")', sort='time')"
   ]
  },
  {
   "cell_type": "code",
   "execution_count": 66,
   "metadata": {
    "collapsed": false
   },
   "outputs": [
    {
     "name": "stdout",
     "output_type": "stream",
     "text": [
      "         6 function calls in 0.003 seconds\n",
      "\n",
      "   Ordered by: internal time\n",
      "\n",
      "   ncalls  tottime  percall  cumtime  percall filename:lineno(function)\n",
      "        1    0.002    0.002    0.002    0.002 {_cython_magic_c44ef359b8d114fae0bbcdb7d1513b4c.rebin_pmt_array_cy_v3}\n",
      "        1    0.001    0.001    0.001    0.001 {numpy.core.multiarray.arange}\n",
      "        1    0.000    0.000    0.002    0.002 {eval}\n",
      "        1    0.000    0.000    0.003    0.003 <ipython-input-62-a0d77e6e9a81>:1(main)\n",
      "        1    0.000    0.000    0.002    0.002 <string>:1(<module>)\n",
      "        1    0.000    0.000    0.000    0.000 {method 'disable' of '_lsprof.Profiler' objects}\n",
      "\n",
      "\n"
     ]
    }
   ],
   "source": [
    "cProfile.run('main(\"cy\",\"v3\")', sort='time')"
   ]
  },
  {
   "cell_type": "code",
   "execution_count": 67,
   "metadata": {
    "collapsed": false
   },
   "outputs": [
    {
     "name": "stdout",
     "output_type": "stream",
     "text": [
      "         6 function calls in 0.002 seconds\n",
      "\n",
      "   Ordered by: internal time\n",
      "\n",
      "   ncalls  tottime  percall  cumtime  percall filename:lineno(function)\n",
      "        1    0.001    0.001    0.001    0.001 {_cython_magic_1e23bfee67652dff795868301472b730.rebin_pmt_array_cy_v4}\n",
      "        1    0.001    0.001    0.001    0.001 {numpy.core.multiarray.arange}\n",
      "        1    0.000    0.000    0.001    0.001 {eval}\n",
      "        1    0.000    0.000    0.002    0.002 <ipython-input-62-a0d77e6e9a81>:1(main)\n",
      "        1    0.000    0.000    0.001    0.001 <string>:1(<module>)\n",
      "        1    0.000    0.000    0.000    0.000 {method 'disable' of '_lsprof.Profiler' objects}\n",
      "\n",
      "\n"
     ]
    }
   ],
   "source": [
    "cProfile.run('main(\"cy\",\"v4\")', sort='time')"
   ]
  },
  {
   "cell_type": "code",
   "execution_count": 68,
   "metadata": {
    "collapsed": false
   },
   "outputs": [
    {
     "name": "stdout",
     "output_type": "stream",
     "text": [
      "         8 function calls in 0.002 seconds\n",
      "\n",
      "   Ordered by: internal time\n",
      "\n",
      "   ncalls  tottime  percall  cumtime  percall filename:lineno(function)\n",
      "        1    0.001    0.001    0.001    0.001 {_cython_magic_6fec0dae31ee12ba39a96217976aae5b.rebin_pmt_array_cy_v5}\n",
      "        1    0.001    0.001    0.001    0.001 {numpy.core.multiarray.arange}\n",
      "        1    0.000    0.000    0.001    0.001 {eval}\n",
      "        1    0.000    0.000    0.002    0.002 <ipython-input-62-a0d77e6e9a81>:1(main)\n",
      "        1    0.000    0.000    0.000    0.000 {numpy.core.multiarray.array}\n",
      "        1    0.000    0.000    0.000    0.000 numeric.py:414(asarray)\n",
      "        1    0.000    0.000    0.001    0.001 <string>:1(<module>)\n",
      "        1    0.000    0.000    0.000    0.000 {method 'disable' of '_lsprof.Profiler' objects}\n",
      "\n",
      "\n"
     ]
    }
   ],
   "source": [
    "cProfile.run('main(\"cy\",\"v5\")', sort='time')"
   ]
  },
  {
   "cell_type": "markdown",
   "metadata": {},
   "source": [
    "*Thus the large improvement comes from replacing np.sum() which is efficient in python by a \"Loop sum\" which\n",
    "appears to be more efficient in cython --> c (less overhead to python objects)"
   ]
  },
  {
   "cell_type": "code",
   "execution_count": null,
   "metadata": {
    "collapsed": true
   },
   "outputs": [],
   "source": []
  },
  {
   "cell_type": "markdown",
   "metadata": {},
   "source": [
    "*NB It seems that the improvement for large arrays can be much larger***"
   ]
  },
  {
   "cell_type": "markdown",
   "metadata": {},
   "source": [
    "## DIOMIRA"
   ]
  },
  {
   "cell_type": "code",
   "execution_count": 70,
   "metadata": {
    "collapsed": true
   },
   "outputs": [],
   "source": [
    "def FEE_param_table(fee_table):\n",
    "    \"\"\"\n",
    "    Stores the parameters of the EP FEE simulation \n",
    "    \"\"\"\n",
    "    row = fee_table.row\n",
    "    row['offset'] = FP.offset\n",
    "    row['pmt_gain'] = FP.PMT_GAIN\n",
    "    row['V_gain'] = FP.V_GAIN\n",
    "    row['R'] = FP.R\n",
    "    row['C12'] = FP.C12\n",
    "    row['AC'] = FP.AC \n",
    "    row['time_step'] = FP.time_step\n",
    "    row['time_daq'] = FP.time_DAQ\n",
    "    row['freq_LPF'] = FP.freq_LPF\n",
    "    row['freq_HPF'] = 1./(2*pi*FP.R*FP.C)\n",
    "    row['LSB'] = FP.LSB\n",
    "    row['volts_to_adc'] = FP.voltsToAdc/volt\n",
    "    row['noise_fee_rms'] = FP.NOISE_FEE\n",
    "    row['noise_adc'] = FP.NOISE_ADC\n",
    "    \n",
    "    row.append()\n",
    "\n",
    "def wf2df(time_ns,energy_pes):\n",
    "    \"\"\"\n",
    "    takes two vectors (time, energy) and returns a data frame representing a waveform\n",
    "    \"\"\"\n",
    "    swf = {}\n",
    "    swf['time_ns'] = time_ns\n",
    "    swf['ene_pes'] = energy_pes \n",
    "    return pd.DataFrame(swf)\n",
    "\n",
    "def store_twf(event, table, TWF):\n",
    "    \"\"\"\n",
    "    Store TWF in table\n",
    "    \"\"\"\n",
    "    row = table.row\n",
    "    for ipmt in range(len(TWF)):\n",
    "        twf = TWF[ipmt]\n",
    "        for i in range(len(twf)):\n",
    "            row['event'] = event\n",
    "            row['pmt'] = ipmt\n",
    "            row['time_ns'] = twf.time_ns[i]\n",
    "            row['ene_pes'] = twf.ene_pes[i]\n",
    "            row.append()\n",
    "    table.flush()\n",
    "\n",
    "def rebin_twf(t, e, stride = 40):\n",
    "    \"\"\"\n",
    "    rebins the a waveform according to stride \n",
    "    The input waveform is a vector such that the index expresses time bin and the\n",
    "    contents expresses energy (e.g, in pes)\n",
    "    The function returns a DataFrame. The time bins and energy are rebinned according to stride\n",
    "    \"\"\"\n",
    "    \n",
    "    n = len(t)/int(stride)\n",
    "    r = len(t)%int(stride)\n",
    "    \n",
    "    lenb = n\n",
    "    if r > 0: \n",
    "        lenb = n+1\n",
    "    \n",
    "    T = np.zeros(lenb,dtype=np.float32)\n",
    "    E = np.zeros(lenb,dtype=np.float32)\n",
    "    \n",
    "    j=0\n",
    "    for i in range(n):\n",
    "        E[i] = np.sum(e[j:j+stride])\n",
    "        T[i] = np.mean(t[j:j+stride])\n",
    "        j+= stride\n",
    "        \n",
    "    if r > 0:\n",
    "        E[n] = np.sum(e[j:])\n",
    "        T[n] = np.mean(t[j:])\n",
    "    \n",
    "    return T,E\n",
    "\n",
    "def twf_signal(event_number,pmtrd, stride):\n",
    "    \"\"\"\n",
    "    1) takes pmtrd\n",
    "    2) Performs ZS\n",
    "    3) Rebins resulting wf according to stride\n",
    "    \"\"\"\n",
    "    \n",
    "    rdata = []\n",
    "\n",
    "    for j in range(pmtrd.shape[1]):\n",
    "        logger.debug(\"-->PMT number ={}\".format(j))\n",
    "                \n",
    "        energy_pes = pmtrd[event_number, j] #waveform for event event_number, PMT j\n",
    "        time_ns = np.array(range(pmtrd.shape[2]))\n",
    "\n",
    "        twf_zs = wfm.wf_thr(wf2df(time_ns,energy_pes),0.5)\n",
    "        time_ns, ene_pes = rebin_twf(twf_zs.time_ns.values,twf_zs.ene_pes.values,stride)\n",
    "        twf = wf2df(time_ns, ene_pes)\n",
    "        \n",
    "        logger.debug(\"-->len(twf) ={}\".format(len(twf)))\n",
    "        \n",
    "        rdata.append(twf)\n",
    "    return rdata\n",
    "\n",
    "def simulate_sipm_response(event_number,sipmrd_):\n",
    "    \"\"\"\n",
    "    For the moment use a dummy rutne that simply copies the sipm EARRAY\n",
    "    \"\"\"\n",
    "    rdata = []\n",
    "\n",
    "    for j in range(sipmrd_.shape[1]):\n",
    "        rdata.append(sipmrd_[event_number, j])\n",
    "    return np.array(rdata)\n",
    "\n",
    "\n",
    "def simulate_pmt_response(event_number,pmtrd_):\n",
    "    \"\"\"\n",
    "    Sensor Response\n",
    "    Given a signal in PE (photoelectrons in bins of 1 ns) and the response function of \n",
    "    for a single photoelectron (spe) and front-end electronics (fee)\n",
    "    this function produces the PMT raw data (adc counts bins 25 ns)\n",
    "\n",
    "    pmtrd_ dataset that holds the PMT PE data for each PMT\n",
    "    pmtrd25 dataset to be created with adc counts, bins 25 ns \n",
    "    after convoluting with electronics\n",
    "    \"\"\"\n",
    "  \n",
    "    rdata = []\n",
    "\n",
    "    for j in range(pmtrd_.shape[1]):\n",
    "        logger.debug(\"-->PMT number ={}\".format(j))\n",
    "                \n",
    "        pmt = pmtrd_[event_number, j] #waveform for event event_number, PMT j\n",
    "        \n",
    "        fee = FE.FEE(C=FP.C12[j],R= FP.R, f=FP.freq_LPF, RG=FP.V_GAIN) \n",
    "        spe = SP.SPE(pmt_gain=FP.PMT_GAIN,x_slope = 5*ns,x_flat = 1*ns)\n",
    "    \n",
    "        signal_PMT = spe.SpePulseFromVectorPE(pmt) #PMT response\n",
    "\n",
    "        #Front end response to PMT pulse (in volts)\n",
    "        signal_fee = fee.FEESignal(signal_PMT, noise_rms=FP.NOISE_FEE) \n",
    "\n",
    "        #Signal out of DAQ\n",
    "        #positive signal convention\n",
    "        #signal_daq = fee.daqSignal(signal_fee, noise_rms=0) - FP.offset\n",
    "        #negative signals convention!\n",
    "\n",
    "        signal_daq = FP.offset -fee.daqSignal(signal_fee, noise_rms=0) \n",
    "    \n",
    "        rdata.append(signal_daq)\n",
    "    return np.array(rdata)\n",
    "\n",
    "\n",
    "def DIOMIRA(argv):\n",
    "    \"\"\"\n",
    "    Diomira driver\n",
    "    \"\"\"\n",
    "    DEBUG_LEVEL, INFO, CYTHON, CFP = configure(argv[0],argv[1:])\n",
    "   \n",
    "    if INFO:\n",
    "        \n",
    "        print(\"\"\"\n",
    "        DIOMIRA:\n",
    "         1. Reads an MCRD file produced by art/centella, which stores MCRD \n",
    "         waveforms for PMTs (bins of 1 ns)\n",
    "        and the SiPMs (bins of 1 mus)\n",
    "            \n",
    "\n",
    "        2. Simulates the response of the energy plane in the PMTs MCRD, \n",
    "        and produces both RWF and TWF:\n",
    "        see: http://localhost:8931/notebooks/Nh5-Event-Model.ipynb#Reconstructed-Objects\n",
    "        \n",
    "            \n",
    "        3. Simulates the response of the tracking plane in the SiPMs MCRD and outputs\n",
    "            SiPM RWF (not yet implemented, for the time being simply copy the MCRD)\n",
    "\n",
    "        4. Add a table describing the FEE parameters used for simulation\n",
    "\n",
    "        5. Copies the tables on geometry, detector data and MC\n",
    "\n",
    "\n",
    "        \"\"\")\n",
    "        FP.print_FEE()\n",
    "\n",
    "    PATH_IN =CFP['PATH_IN']\n",
    "    PATH_OUT =CFP['PATH_OUT']\n",
    "    FILE_IN =CFP['FILE_IN']\n",
    "    FILE_OUT =CFP['FILE_OUT']\n",
    "    FIRST_EVT =CFP['FIRST_EVT']\n",
    "    LAST_EVT =CFP['LAST_EVT']\n",
    "    RUN_ALL =CFP['RUN_ALL']\n",
    "    CLIB =CFP['CLIB']\n",
    "    CLEVEL =CFP['CLEVEL']\n",
    "    NEVENTS = LAST_EVT - FIRST_EVT\n",
    "\n",
    "    print('Debug level = {}'.format(DEBUG_LEVEL))\n",
    "\n",
    "    print(\"input path ={}; output path = {}; file_in ={} file_out ={}\".format(\n",
    "        PATH_IN,PATH_OUT,FILE_IN, FILE_OUT))\n",
    "\n",
    "    print(\"first event = {} last event = {} nof events requested = {} \".format(\n",
    "        FIRST_EVT,LAST_EVT,NEVENTS))\n",
    "\n",
    "    print(\"Compression library = {} Compression level = {} \".format(\n",
    "        CLIB,CLEVEL))\n",
    "\n",
    "    # open the input file \n",
    "    with tables.open_file(\"{}/{}\".format(PATH_IN,FILE_IN), \"r+\") as h5in: \n",
    "        # access the PMT raw data in file \n",
    "\n",
    "        pmtrd_ = h5in.root.pmtrd\n",
    "        sipmrd_ = h5in.root.sipmrd\n",
    "\n",
    "        #pmtrd_.shape = (nof_events, nof_sensors, wf_length)\n",
    "\n",
    "        NPMT = pmtrd_.shape[1]\n",
    "        NSIPM = sipmrd_.shape[1]\n",
    "        PMTWL = pmtrd_.shape[2] \n",
    "        PMTWL_FEE = int((PMTWL+1)/FP.time_DAQ)\n",
    "        #PMTWL_FEE = int(PMTWL/FP.time_DAQ)\n",
    "        SIPMWL = sipmrd_.shape[2]\n",
    "        NEVENTS_DST = pmtrd_.shape[0]\n",
    "\n",
    "        print(\"nof PMTs = {} nof  SiPMs = {} nof events in input DST = {} \".format(\n",
    "        NPMT,NSIPM,NEVENTS_DST))\n",
    "\n",
    "        print(\"lof SiPM WF = {} lof PMT WF (MC) = {} lof PMT WF (FEE) = {}\".format(\n",
    "        PMTWL,SIPMWL,PMTWL_FEE))\n",
    "\n",
    "\n",
    "        #access the geometry and the sensors metadata info\n",
    "\n",
    "        geom_t = h5in.root.Detector.DetectorGeometry\n",
    "        pmt_t = h5in.root.Sensors.DataPMT\n",
    "        sipm_t = h5in.root.Sensors.DataSiPM\n",
    "        mctrk_t = h5in.root.MC.MCTracks\n",
    "\n",
    "        \n",
    "        # open the output file \n",
    "        with tables.open_file(\"{}/{}\".format(PATH_OUT,FILE_OUT), \"w\",\n",
    "            filters=tables.Filters(complib=CLIB, complevel=CLEVEL)) as h5out:\n",
    " \n",
    "            # create a group to store MC data\n",
    "            mcgroup = h5out.create_group(h5out.root, \"MC\")\n",
    "            # copy the mctrk table\n",
    "            mctrk_t.copy(newparent=mcgroup)\n",
    "\n",
    "            # create a group  to store geom data\n",
    "            detgroup = h5out.create_group(h5out.root, \"Detector\")\n",
    "            # copy the geom table\n",
    "            geom_t.copy(newparent=detgroup)\n",
    "\n",
    "            # create a group  store sensor data\n",
    "            sgroup = h5out.create_group(h5out.root, \"Sensors\")\n",
    "            # copy the pmt table\n",
    "            pmt_t.copy(newparent=sgroup)\n",
    "            # copy the sipm table\n",
    "            sipm_t.copy(newparent=sgroup)\n",
    "\n",
    "            # create a table to store Energy plane FEE data and hang it from MC group\n",
    "            fee_table = h5out.create_table(mcgroup, \"FEE\", FEE,\n",
    "                          \"EP-FEE parameters\",tables.Filters(0))\n",
    "            \n",
    "            \n",
    "            # create a group to store True waveform data\n",
    "            twfgroup = h5out.create_group(h5out.root, \"TWF\")\n",
    "                                          \n",
    "            # create a table to store true waveform (zs, rebinned)\n",
    "            twf_table = h5out.create_table(twfgroup, \"TWF\", TWF, \"Store for TWF\",\n",
    "                                tables.Filters(complib=CLIB, complevel=CLEVEL))\n",
    "\n",
    "            # fill FEE table\n",
    "            FEE_param_table(fee_table)\n",
    "\n",
    "            # create a group to store RawData\n",
    "            rgroup = h5out.create_group(h5out.root, \"RD\")\n",
    "            \n",
    "            # create an extensible array to store the RWF waveforms\n",
    "            pmtrwf = h5out.create_earray(h5out.root.RD, \"pmtrwf\", \n",
    "                                    atom=tables.Float32Atom(), \n",
    "                                    shape=(0, NPMT, PMTWL_FEE), \n",
    "                                    expectedrows=NEVENTS_DST)\n",
    "            \n",
    "            # 29.9 tWF now stored in a table---\n",
    "            # create an extensible array to store the TWF waveforms\n",
    "#             pmttwf = h5out.create_earray(h5out.root.RD, \"pmttwf\", \n",
    "#                                     atom=tables.Float32Atom(), \n",
    "#                                     shape=(0, NPMT, PMTWL_FEE), \n",
    "#                                     expectedrows=NEVENTS_DST)\n",
    "            \n",
    "\n",
    "            sipmrwf = h5out.create_earray(h5out.root.RD, \"sipmrwf\", \n",
    "                                    atom=tables.Float32Atom(), \n",
    "                                    shape=(0, NSIPM, SIPMWL), \n",
    "                                    expectedrows=NEVENTS_DST)\n",
    "\n",
    "          \n",
    "            if NEVENTS > NEVENTS_DST and RUN_ALL == False:\n",
    "                print(\"\"\"\n",
    "                Refusing to run: you have requested\n",
    "                FIRST_EVT = {}\n",
    "                LAST_EVT  = {}\n",
    "                Thus you want to run over {} events\n",
    "                but the size of the DST is {} events.\n",
    "                Please change your choice or select RUN_ALL = TRUE\n",
    "                to run over the whole DST when this happens\n",
    "                \"\"\".format(FIRST_EVT,LAST_EVT,NEVENTS,NEVENTS_DST))\n",
    "                sys.exit(0)\n",
    "            elif  NEVENTS > NEVENTS_DST and RUN_ALL == True:\n",
    "                FIRST_EVT = 0\n",
    "                LAST_EVT = NEVENTS_DST\n",
    "                NEVENTS = NEVENTS_DST\n",
    "\n",
    "\n",
    "            for i in range(FIRST_EVT,LAST_EVT):\n",
    "                logger.info(\"-->event number ={}\".format(i))\n",
    "                \n",
    "                #truePMT = rebin_signal(i,pmtrd_, int(FP.time_DAQ))\n",
    "\n",
    "                rebin = int(1*mus/1*ns)  #rebins zs function in 1 mus bin\n",
    "\n",
    "                #list with zs twf\n",
    "                truePMT = twf_signal(i,pmtrd_, rebin)\n",
    "                \n",
    "                #store in table\n",
    "                store_twf(i, twf_table, truePMT)\n",
    "                \n",
    "                #truePMT.astype(float)\n",
    "\n",
    "                #simulate PMT response and return an array with RWF\n",
    "                dataPMT = simulate_pmt_response(i,pmtrd_)\n",
    "\n",
    "                #convert to float\n",
    "                dataPMT.astype(float) \n",
    "            \n",
    "                \n",
    "                #logger.info(\"truePMT shape ={}\".format(truePMT.shape))\n",
    "                #logger.info(\"dataPMT shape ={}\".format(dataPMT.shape))\n",
    "                \n",
    "                #RWF for pmts\n",
    "                pmtrwf.append(dataPMT.reshape(1, NPMT, PMTWL_FEE))\n",
    "                \n",
    "                \n",
    "                #TWF for pmts\n",
    "                #pmttwf.append(truePMT.reshape(1, NPMT, PMTWL_FEE))\n",
    "                #pmtrd.append(dataPMT.reshape(1, NPMT, PMTWL))\n",
    "                   \n",
    "                #simulate SiPM response and return an array with new WF\n",
    "                dataSiPM = simulate_sipm_response(i,sipmrd_)\n",
    "                dataSiPM.astype(float)\n",
    "                \n",
    "                #append to SiPM EARRAY\n",
    "                sipmrwf.append(dataSiPM.reshape(1, NSIPM, SIPMWL))\n",
    "\n",
    "            pmtrwf.flush()\n",
    "            sipmrwf.flush()\n",
    "\n",
    "\n",
    "    print(\"Leaving Diomira. Safe travels!\")\n"
   ]
  },
  {
   "cell_type": "code",
   "execution_count": 71,
   "metadata": {
    "collapsed": true
   },
   "outputs": [],
   "source": [
    "%less ../../Config/DIOMIRA_NA_ZLIB_test.csv"
   ]
  },
  {
   "cell_type": "raw",
   "metadata": {},
   "source": [
    "# Configuration file for DIOMIRA\n",
    "# The parameters for DIOMIRA are:\n",
    "#\n",
    "#        PATH_IN = path to input DST file (must be a MCRD file)\n",
    "#        FILE_IN = name of input DST file\n",
    "#        PATH_OUT = path to output DST file (RWF file)\n",
    "#        FILE_OUT = name of ouput DST file (RWF file)\n",
    "#        FIRST_EVT,LAST_EVT,RUN_ALL,\n",
    "#\n",
    "#        RUN_ALL is used to decide whether to run all the events in the file\n",
    "#        in case that the total number of events requested (LAST_EVT-FIRST_EVT) \n",
    "#        exceeds the number of events in the DST file. If RUN_ALL is set to 1 (True), \n",
    "#        the script will run over all elements in the DST, \n",
    "#        otherwise it will exit with a warning.\n",
    "#        CLIB = compression library used: values can be 'ZLIB', 'BLOSC' or 'NONE'\n",
    "#        CLEVEL = compression level\n",
    "#\n",
    "PATH_IN,PATH_OUT,FILE_IN,FILE_OUT,FIRST_EVT,LAST_EVT,RUN_ALL,CLIB,CLEVEL, END \n",
    "/Users/jjgomezcadenas/Documents/Development/NEXT/data/test/,/Users/jjgomezcadenas/Documents/Development/NEXT/data/Waveforms/25ns/,nexus_NEW_NEXT_v0_08_00_Kr_ACTIVE_5bar_1000kev_0.next_10000.root.h5,Kr_ACTIVE_5bar_test10.h5,0,10,1,zlib,1,1"
   ]
  },
  {
   "cell_type": "markdown",
   "metadata": {},
   "source": [
    "### Profile DIOMIRA"
   ]
  },
  {
   "cell_type": "code",
   "execution_count": 72,
   "metadata": {
    "collapsed": false
   },
   "outputs": [
    {
     "name": "stdout",
     "output_type": "stream",
     "text": [
      "Debug level = INFO\n",
      "input path =/Users/jjgomezcadenas/Documents/Development/NEXT/data/test/; output path = /Users/jjgomezcadenas/Documents/Development/NEXT/data/Waveforms/25ns/; file_in =nexus_NEW_NEXT_v0_08_00_Kr_ACTIVE_5bar_1000kev_0.next_10000.root.h5 file_out =Kr_ACTIVE_5bar_test10.h5\n",
      "first event = 0 last event = 10 nof events requested = 10 \n",
      "Compression library = zlib Compression level = 1 \n",
      "nof PMTs = 12 nof  SiPMs = 1789 nof events in input DST = 1000 \n",
      "lof SiPM WF = 1200000 lof PMT WF (MC) = 1200 lof PMT WF (FEE) = 48000\n",
      "INFO:root:-->event number =0\n"
     ]
    },
    {
     "name": "stderr",
     "output_type": "stream",
     "text": [
      "-->event number =0\n"
     ]
    },
    {
     "name": "stdout",
     "output_type": "stream",
     "text": [
      "INFO:root:-->event number =1\n"
     ]
    },
    {
     "name": "stderr",
     "output_type": "stream",
     "text": [
      "-->event number =1\n"
     ]
    },
    {
     "name": "stdout",
     "output_type": "stream",
     "text": [
      "INFO:root:-->event number =2\n"
     ]
    },
    {
     "name": "stderr",
     "output_type": "stream",
     "text": [
      "-->event number =2\n"
     ]
    },
    {
     "name": "stdout",
     "output_type": "stream",
     "text": [
      "INFO:root:-->event number =3\n"
     ]
    },
    {
     "name": "stderr",
     "output_type": "stream",
     "text": [
      "-->event number =3\n"
     ]
    },
    {
     "name": "stdout",
     "output_type": "stream",
     "text": [
      "INFO:root:-->event number =4\n"
     ]
    },
    {
     "name": "stderr",
     "output_type": "stream",
     "text": [
      "-->event number =4\n"
     ]
    },
    {
     "name": "stdout",
     "output_type": "stream",
     "text": [
      "INFO:root:-->event number =5\n"
     ]
    },
    {
     "name": "stderr",
     "output_type": "stream",
     "text": [
      "-->event number =5\n"
     ]
    },
    {
     "name": "stdout",
     "output_type": "stream",
     "text": [
      "INFO:root:-->event number =6\n"
     ]
    },
    {
     "name": "stderr",
     "output_type": "stream",
     "text": [
      "-->event number =6\n"
     ]
    },
    {
     "name": "stdout",
     "output_type": "stream",
     "text": [
      "INFO:root:-->event number =7\n"
     ]
    },
    {
     "name": "stderr",
     "output_type": "stream",
     "text": [
      "-->event number =7\n"
     ]
    },
    {
     "name": "stdout",
     "output_type": "stream",
     "text": [
      "INFO:root:-->event number =8\n"
     ]
    },
    {
     "name": "stderr",
     "output_type": "stream",
     "text": [
      "-->event number =8\n"
     ]
    },
    {
     "name": "stdout",
     "output_type": "stream",
     "text": [
      "INFO:root:-->event number =9\n"
     ]
    },
    {
     "name": "stderr",
     "output_type": "stream",
     "text": [
      "-->event number =9\n"
     ]
    },
    {
     "name": "stdout",
     "output_type": "stream",
     "text": [
      "Leaving Diomira. Safe travels!\n",
      "         972339 function calls (968589 primitive calls) in 28.915 seconds\n",
      "\n",
      "   Ordered by: internal time\n",
      "\n",
      "   ncalls  tottime  percall  cumtime  percall filename:lineno(function)\n",
      "    23419    7.585    0.000    7.585    0.000 {numpy.core.multiarray.array}\n",
      "      120    4.591    0.038    4.591    0.038 {method 'normal' of 'mtrand.RandomState' objects}\n",
      "     1560    4.565    0.003    4.565    0.003 {numpy.core.multiarray.correlate}\n",
      "      240    1.684    0.007    1.684    0.007 {scipy.signal.sigtools._linear_filter}\n",
      "     2103    1.614    0.001    1.614    0.001 {range}\n",
      "    18130    1.579    0.000    1.579    0.000 {method '_g_read_slice' of 'tables.hdf5extension.Array' objects}\n",
      "       10    1.126    0.113   12.545    1.254 <ipython-input-70-0054900304c1>:77(twf_signal)\n",
      "      120    0.775    0.006    7.059    0.059 FEE2.py:156(FEESignal)\n",
      "       10    0.774    0.077   13.865    1.386 <ipython-input-70-0054900304c1>:112(simulate_pmt_response)\n",
      "     2404    0.435    0.000    0.435    0.000 {numpy.core.multiarray.arange}\n",
      "       22    0.403    0.018    0.403    0.018 {method '_g_flush' of 'tables.hdf5extension.Leaf' objects}\n",
      "       20    0.363    0.018    0.363    0.018 {method '_append' of 'tables.hdf5extension.Array' objects}\n",
      "      362    0.309    0.001    0.376    0.001 internals.py:4168(_stack_arrays)\n",
      "    19210    0.267    0.000    0.267    0.000 {numpy.core.multiarray.zeros}\n",
      "       15    0.259    0.017    0.259    0.017 {method '_append_records' of 'tables.tableextension.Table' objects}\n",
      "    18130    0.243    0.000    0.386    0.000 array.py:370(_interpret_indexing)\n",
      "        4    0.234    0.058    0.234    0.058 {method '_fill_col' of 'tables.tableextension.Row' objects}\n",
      "      120    0.188    0.002    3.795    0.032 shape_base.py:20(apply_along_axis)\n",
      "    75654    0.173    0.000    0.173    0.000 {numpy.core.multiarray.empty}\n",
      "      360    0.138    0.000    5.622    0.016 signaltools.py:845(lfilter)\n",
      "      362    0.117    0.000    0.118    0.000 base.py:1143(_engine)\n",
      "        1    0.106    0.106   28.913   28.913 <ipython-input-70-0054900304c1>:150(DIOMIRA)\n",
      "     1700    0.105    0.000    0.105    0.000 {method 'astype' of 'numpy.ndarray' objects}\n",
      "      120    0.100    0.001    0.100    0.001 {pandas.algos.take_2d_axis1_float32_float32}\n",
      "      120    0.100    0.001    4.073    0.034 FEE2.py:176(daqSignal)\n",
      "     1212    0.073    0.000    0.097    0.000 internals.py:2482(make_block)\n",
      "      120    0.066    0.001    0.269    0.002 wfmFunctions.py:87(<lambda>)\n",
      "    18130    0.047    0.000    2.126    0.000 array.py:627(__getitem__)\n",
      "    99216    0.034    0.000    0.043    0.000 {isinstance}\n",
      "    36264    0.034    0.000    0.045    0.000 leaf.py:390(_process_range)\n",
      "       10    0.033    0.003    0.888    0.089 <ipython-input-70-0054900304c1>:101(simulate_sipm_response)\n",
      "      120    0.033    0.000    0.033    0.000 {method 'nonzero' of 'numpy.ndarray' objects}\n",
      "    18130    0.032    0.000    1.678    0.000 array.py:758(_read_slice)\n",
      "      971    0.028    0.000    0.028    0.000 generic.py:94(__init__)\n",
      "     4998    0.026    0.000    0.026    0.000 {method 'reduce' of 'numpy.ufunc' objects}\n",
      "     1440    0.025    0.000    0.071    0.000 polynomial.py:32(poly)\n",
      "196271/193623    0.024    0.000    0.029    0.000 {len}\n",
      "      120    0.022    0.000    0.022    0.000 base.py:506(_get_attributes_dict)\n",
      "     6600    0.014    0.000    0.028    0.000 shape_base.py:9(atleast_1d)\n",
      "    36260    0.013    0.000    0.013    0.000 utils.py:49(is_idx)\n",
      "  723/482    0.013    0.000    0.050    0.000 base.py:124(__new__)\n",
      "      720    0.013    0.000    0.171    0.000 filter_design.py:1327(iirfilter)\n",
      "      120    0.012    0.000    0.034    0.000 fir_filter_design.py:138(firwin)\n",
      "       14    0.012    0.001    0.012    0.001 {method '_g_close' of 'tables.hdf5extension.Leaf' objects}\n",
      "      720    0.012    0.000    0.014    0.000 filter_design.py:2863(buttap)\n",
      "      480    0.011    0.000    0.026    0.000 filter_design.py:1620(_zpklp2hp)\n",
      "    36264    0.011    0.000    0.011    0.000 {method 'indices' of 'slice' objects}\n",
      "    18218    0.010    0.000    0.010    0.000 node.py:342(_g_check_open)\n",
      "    46708    0.010    0.000    0.010    0.000 {method 'append' of 'list' objects}\n",
      "      360    0.009    0.000    0.019    0.000 filter_design.py:1517(_zpkbilinear)\n",
      "      361    0.008    0.000    0.019    0.000 internals.py:2674(_rebuild_blknos_and_blklocs)\n",
      "    11284    0.008    0.000    0.014    0.000 numeric.py:484(asanyarray)\n",
      "      241    0.007    0.000    0.441    0.002 internals.py:4007(form_blocks)\n",
      "9337/9217    0.007    0.000    0.008    0.000 {getattr}\n",
      "        2    0.007    0.003    0.007    0.003 {method '_close_file' of 'tables.hdf5extension.File' objects}\n",
      "      722    0.007    0.000    0.009    0.000 base.py:309(_simple_new)\n",
      "     3525    0.007    0.000    0.014    0.000 dtypes.py:74(is_dtype)\n",
      "      720    0.007    0.000    0.086    0.000 filter_design.py:594(zpk2tf)\n",
      "     1560    0.006    0.000    4.575    0.003 numeric.py:918(convolve)\n",
      "      361    0.006    0.000    0.406    0.001 internals.py:4136(_multi_blockify)\n",
      "      362    0.005    0.000    0.010    0.000 numeric.py:607(require)\n",
      "     7314    0.005    0.000    0.006    0.000 {hasattr}\n",
      "      240    0.005    0.000    0.123    0.001 algorithms.py:840(take_nd)\n",
      "      612    0.005    0.000    0.005    0.000 {pandas.lib.infer_dtype}\n",
      "     2190    0.005    0.000    0.009    0.000 generic.py:2674(__setattr__)\n",
      "     1440    0.005    0.000    0.007    0.000 type_check.py:18(mintypecode)\n",
      "      723    0.005    0.000    0.011    0.000 common.py:1380(_asarray_tuplesafe)\n",
      "     1212    0.005    0.000    0.023    0.000 internals.py:77(__init__)\n",
      "    18130    0.005    0.000    0.005    0.000 leaf.py:211(<lambda>)\n",
      "     1212    0.004    0.000    0.015    0.000 internals.py:191(mgr_locs)\n",
      "      610    0.004    0.000    0.080    0.000 internals.py:3312(iget)\n",
      "    36260    0.004    0.000    0.004    0.000 {operator.index}\n",
      "      242    0.004    0.000    0.011    0.000 frame.py:5244(extract_index)\n",
      "      241    0.004    0.000    0.539    0.002 frame.py:307(_init_dict)\n",
      "     1220    0.004    0.000    0.122    0.000 base.py:1233(__contains__)\n",
      "     5782    0.004    0.000    0.009    0.000 generic.py:7(_check)\n",
      "     1203    0.004    0.000    0.009    0.000 internals.py:2619(shape)\n",
      " 1210/610    0.003    0.000    0.269    0.000 generic.py:2658(__getattr__)\n",
      "      120    0.003    0.000    0.965    0.008 wfmFunctions.py:83(wf_thr)\n",
      "      361    0.003    0.000    0.035    0.000 internals.py:2578(__init__)\n",
      "     3994    0.003    0.000    0.007    0.000 numeric.py:414(asarray)\n",
      "      361    0.003    0.000    0.544    0.002 frame.py:210(__init__)\n",
      "    11013    0.003    0.000    0.003    0.000 {issubclass}\n",
      "      241    0.003    0.000    0.003    0.000 {pandas.lib.list_to_object_array}\n",
      "     1080    0.003    0.000    0.003    0.000 {numpy.core.multiarray.concatenate}\n",
      "     1800    0.003    0.000    0.003    0.000 {numpy.core.multiarray.copyto}\n",
      "      610    0.003    0.000    0.038    0.000 series.py:120(__init__)\n",
      "      360    0.003    0.000    0.176    0.000 FEE2.py:55(__init__)\n",
      "      120    0.003    0.000    0.006    0.000 indexing.py:1840(maybe_convert_indices)\n",
      "     1446    0.003    0.000    0.436    0.000 base.py:440(values)\n",
      "     1100    0.003    0.000    0.003    0.000 {method 'reshape' of 'numpy.ndarray' objects}\n",
      "        7    0.003    0.000    0.003    0.000 {posix.access}\n",
      "     2062    0.003    0.000    0.013    0.000 common.py:1736(is_categorical_dtype)\n",
      "      120    0.003    0.000    0.634    0.005 generic.py:1614(take)\n",
      "     1871    0.003    0.000    0.009    0.000 fromnumeric.py:2395(prod)\n",
      "      241    0.003    0.000    0.016    0.000 frame.py:5521(_homogenize)\n",
      "      610    0.002    0.000    0.140    0.000 generic.py:1345(_get_item_cache)\n",
      "      120    0.002    0.000    0.621    0.005 internals.py:3690(take)\n",
      "     1440    0.002    0.000    0.002    0.000 {method 'compress' of 'numpy.ndarray' objects}\n",
      "      240    0.002    0.000    0.543    0.002 <ipython-input-70-0054900304c1>:23(wf2df)\n",
      "      490    0.002    0.000    0.013    0.000 series.py:2787(_sanitize_array)\n",
      "        6    0.002    0.000    0.002    0.000 {method '_create_table' of 'tables.tableextension.Table' objects}\n",
      "      240    0.002    0.000    0.004    0.000 function_base.py:3262(sinc)\n",
      "       70    0.002    0.000    0.004    0.000 {method '_g_setattr' of 'tables.hdf5extension.AttributeSet' objects}\n",
      "      361    0.002    0.000    0.008    0.000 internals.py:2799(_verify_integrity)\n",
      "     1681    0.002    0.000    0.014    0.000 {method 'any' of 'numpy.ndarray' objects}\n",
      "      120    0.002    0.000    0.178    0.001 FEE2.py:116(__init__)\n",
      "     1944    0.002    0.000    0.003    0.000 range.py:435(__len__)\n",
      "      610    0.002    0.000    0.145    0.000 frame.py:1973(__getitem__)\n",
      "      610    0.002    0.000    0.087    0.000 internals.py:3283(get)\n",
      "     1440    0.002    0.000    0.004    0.000 function_base.py:1807(sort_complex)\n",
      "     2442    0.002    0.000    0.005    0.000 {pandas.lib.values_from_object}\n",
      "      240    0.002    0.000    0.129    0.001 internals.py:975(take_nd)\n",
      "      241    0.002    0.000    0.468    0.002 internals.py:3996(create_block_manager_from_arrays)\n",
      "      120    0.002    0.000    0.688    0.006 indexing.py:782(_getitem_tuple)\n",
      "     1696    0.002    0.000    0.002    0.000 {method 'view' of 'numpy.ndarray' objects}\n",
      "     1800    0.002    0.000    0.007    0.000 numeric.py:148(ones)\n",
      "      840    0.002    0.000    0.008    0.000 function_base.py:4534(append)\n",
      "     1090    0.002    0.000    0.002    0.000 base.py:1247(__getitem__)\n",
      "      241    0.002    0.000    0.497    0.002 frame.py:5224(_arrays_to_mgr)\n",
      "      120    0.002    0.000    3.968    0.033 signaltools.py:2634(decimate)\n",
      "      361    0.002    0.000    0.005    0.000 common.py:272(array_equivalent)\n",
      "      240    0.002    0.000    0.003    0.000 function_base.py:9(linspace)\n",
      "     1560    0.002    0.000    0.003    0.000 numeric.py:846(_mode_from_name)\n",
      "      120    0.002    0.000    0.002    0.000 function_base.py:1518(diff)\n",
      "      120    0.002    0.000    0.006    0.000 SPE.py:19(__init__)\n",
      "      120    0.002    0.000    0.469    0.004 base.py:1360(take)\n",
      "      240    0.002    0.000    0.002    0.000 {method 'take' of 'numpy.ndarray' objects}\n",
      "      120    0.002    0.000    0.142    0.001 internals.py:3560(reindex_indexer)\n",
      "      610    0.002    0.000    0.002    0.000 series.py:270(_set_axis)\n",
      "      610    0.002    0.000    0.003    0.000 internals.py:3778(__init__)\n",
      "      120    0.002    0.000    0.003    0.000 indexing.py:808(_multi_take_opportunity)\n",
      "      240    0.002    0.000    0.008    0.000 common.py:527(_maybe_promote)\n",
      "      610    0.002    0.000    0.047    0.000 frame.py:2331(_box_item_values)\n",
      "      240    0.002    0.000    4.597    0.019 FEE2.py:187(FEENoise)\n",
      "      120    0.002    0.000    0.002    0.000 {pandas.algos.take_2d_axis1_int64_int64}\n",
      "     1220    0.002    0.000    0.002    0.000 {method 'get_loc' of 'pandas.index.IndexEngine' objects}\n",
      "        1    0.002    0.002   28.915   28.915 <string>:1(<module>)\n",
      "      850    0.002    0.000    0.075    0.000 internals.py:183(make_block_same_class)\n",
      "      120    0.002    0.000    0.007    0.000 indexing.py:882(_getitem_lowerdim)\n",
      "      240    0.002    0.000    0.003    0.000 filter_design.py:1567(_zpklp2lp)\n",
      "      120    0.002    0.000    0.004    0.000 windows.py:1610(get_window)\n",
      "      120    0.002    0.000    0.002    0.000 windows.py:859(hamming)\n",
      "      240    0.002    0.000    1.691    0.007 FEE2.py:80(FilterPulse)\n",
      "      840    0.002    0.000    0.008    0.000 fromnumeric.py:1892(any)\n",
      "      723    0.002    0.000    0.002    0.000 common.py:1511(_get_dtype_type)\n",
      "      120    0.002    0.000    0.960    0.008 indexing.py:1286(__getitem__)\n",
      "      240    0.002    0.000    0.002    0.000 validators.py:29(_check_for_default_values)\n",
      "     1084    0.001    0.000    0.001    0.000 dtypes.py:122(construct_from_string)\n",
      "      130    0.001    0.000    0.004    0.000 common.py:1011(_possibly_cast_to_datetime)\n",
      "      120    0.001    0.000    0.008    0.000 <ipython-input-70-0054900304c1>:47(rebin_twf)\n",
      "      840    0.001    0.000    0.003    0.000 fromnumeric.py:1383(ravel)\n",
      "      602    0.001    0.000    0.002    0.000 internals.py:276(ftype)\n",
      "      361    0.001    0.000    0.003    0.000 internals.py:3004(_consolidate_check)\n",
      "     1220    0.001    0.000    0.004    0.000 base.py:1915(get_loc)\n",
      "      120    0.001    0.000    0.002    0.000 indexing.py:158(_is_nested_tuple_indexer)\n",
      "     1681    0.001    0.000    0.012    0.000 _methods.py:37(_any)\n",
      "      724    0.001    0.000    0.002    0.000 numeric.py:676(<genexpr>)\n",
      "      720    0.001    0.000    0.173    0.000 filter_design.py:1824(butter)\n",
      "      120    0.001    0.000    0.003    0.000 _methods.py:53(_mean)\n",
      "       43    0.001    0.000    0.001    0.000 {method '_g_get_objinfo' of 'tables.hdf5extension.Group' objects}\n",
      "      840    0.001    0.000    0.002    0.000 generic.py:320(_get_axis_name)\n",
      "      610    0.001    0.000    0.042    0.000 series.py:236(from_array)\n",
      "     1463    0.001    0.000    0.009    0.000 common.py:1710(is_datetimetz)\n",
      " 1100/980    0.001    0.000    0.271    0.000 common.py:1846(_apply_if_callable)\n",
      "     2058    0.001    0.000    0.002    0.000 base.py:3381(_ensure_index)\n",
      "      610    0.001    0.000    0.043    0.000 frame.py:2338(_box_col_values)\n",
      "      242    0.001    0.000    0.005    0.000 common.py:1226(_default_index)\n",
      "      242    0.001    0.000    0.002    0.000 range.py:117(_simple_new)\n",
      "      610    0.001    0.000    0.003    0.000 generic.py:1359(_set_as_cached)\n",
      "      241    0.001    0.000    0.001    0.000 {pandas.lib.array_equivalent_object}\n",
      "      250    0.001    0.000    0.008    0.000 base.py:1957(get_value)\n",
      "      240    0.001    0.000    0.002    0.000 validators.py:104(_check_for_invalid_keys)\n",
      "     2406    0.001    0.000    0.002    0.000 base.py:409(__len__)\n",
      "       69    0.001    0.000    0.001    0.000 {method '_g_getattr' of 'tables.hdf5extension.AttributeSet' objects}\n",
      "      990    0.001    0.000    0.002    0.000 common.py:1763(is_list_like)\n",
      "      120    0.001    0.000    1.692    0.014 FEE2.py:131(Filter)\n",
      "        2    0.001    0.001    0.004    0.002 {method '_g_new' of 'tables.hdf5extension.File' objects}\n",
      "      242    0.001    0.000    0.004    0.000 range.py:42(__new__)\n",
      "      610    0.001    0.000    0.141    0.000 frame.py:1999(_getitem_column)\n",
      "     1440    0.001    0.000    0.003    0.000 fromnumeric.py:1619(compress)\n",
      "       10    0.001    0.000    0.413    0.041 <ipython-input-70-0054900304c1>:32(store_twf)\n",
      "     3609    0.001    0.000    0.006    0.000 internals.py:2621(<genexpr>)\n",
      "      130    0.001    0.000    0.003    0.000 common.py:1111(_possibly_infer_to_datetimelike)\n",
      "      964    0.001    0.000    0.001    0.000 base.py:403(_reset_identity)\n",
      "      242    0.001    0.000    0.003    0.000 fromnumeric.py:1743(sum)\n",
      "      120    0.001    0.000    0.031    0.000 range.py:229(_shallow_copy)\n",
      "      610    0.001    0.000    0.002    0.000 series.py:302(name)\n",
      "     3720    0.001    0.000    0.001    0.000 {method 'lower' of 'str' objects}\n",
      "      360    0.001    0.000    0.271    0.001 indexing.py:1288(<genexpr>)\n",
      "      240    0.001    0.000    0.001    0.000 {numpy.core.multiarray.where}\n",
      "     1463    0.001    0.000    0.005    0.000 common.py:1575(is_datetime64tz_dtype)\n",
      "      108    0.001    0.000    0.001    0.000 {method 'clear' of 'dict' objects}\n",
      "      610    0.001    0.000    0.002    0.000 common.py:94(_isnull_new)\n",
      "      490    0.001    0.000    0.009    0.000 series.py:2804(_try_cast)\n",
      "      840    0.001    0.000    0.003    0.000 generic.py:333(_get_axis)\n",
      "      724    0.001    0.000    0.005    0.000 fromnumeric.py:1875(alltrue)\n",
      "        4    0.001    0.000    0.003    0.001 {method '_get_info' of 'tables.tableextension.Table' objects}\n",
      "      967    0.001    0.000    0.001    0.000 __init__.py:157(iteritems)\n",
      "      490    0.001    0.000    0.002    0.000 internals.py:4171(_asarray_compat)\n",
      "      241    0.001    0.000    0.431    0.002 range.py:150(_data)\n",
      "     1322    0.001    0.000    0.001    0.000 {method 'ravel' of 'numpy.ndarray' objects}\n",
      "      610    0.001    0.000    0.001    0.000 series.py:306(name)\n",
      "      240    0.001    0.000    0.002    0.000 common.py:1203(is_bool_indexer)\n",
      "      250    0.001    0.000    0.002    0.000 {method 'get_value' of 'pandas.index.IndexEngine' objects}\n",
      "      120    0.001    0.000    0.669    0.006 indexing.py:1301(_getbool_axis)\n",
      "     1964    0.001    0.000    0.001    0.000 {max}\n",
      "       15    0.001    0.000    0.001    0.000 {method '_close_append' of 'tables.tableextension.Table' objects}\n",
      "     1442    0.001    0.000    0.001    0.000 internals.py:2623(ndim)\n",
      "     2656    0.001    0.000    0.001    0.000 internals.py:160(mgr_locs)\n",
      "      120    0.001    0.000    0.671    0.006 indexing.py:1431(_getitem_axis)\n",
      "     1871    0.001    0.000    0.007    0.000 _methods.py:34(_prod)\n",
      "      490    0.001    0.000    0.001    0.000 common.py:986(_possibly_castable)\n",
      "      120    0.001    0.000    0.001    0.000 numeric.py:2064(isscalar)\n",
      "      360    0.001    0.000    0.001    0.000 internals.py:3908(external_values)\n",
      "      120    0.001    0.000    3.969    0.033 FEE2.py:21(down_scale_signal_)\n",
      "      720    0.001    0.000    0.001    0.000 generic.py:401(ndim)\n",
      "     1080    0.001    0.000    0.001    0.000 filter_design.py:1503(_relative_degree)\n",
      "     2192    0.001    0.000    0.001    0.000 {pandas.lib.isscalar}\n",
      "      722    0.001    0.000    0.001    0.000 {method 'fill' of 'numpy.ndarray' objects}\n",
      "     1440    0.001    0.000    0.001    0.000 {method 'index' of 'str' objects}\n",
      "      241    0.001    0.000    0.007    0.000 base.py:1507(equals)\n",
      "      120    0.001    0.000    1.216    0.010 SPE.py:91(SpePulseFromVectorPE)\n",
      "      120    0.001    0.000    1.215    0.010 signaltools.py:392(convolve)\n",
      "      240    0.001    0.000    0.002    0.000 generic.py:1312(_indexer)\n",
      "      610    0.001    0.000    0.001    0.000 internals.py:301(iget)\n",
      "      840    0.001    0.000    0.002    0.000 type_check.py:107(real)\n",
      "      128    0.001    0.000    0.002    0.000 atom.py:493(__init__)\n",
      "      482    0.001    0.000    0.003    0.000 common.py:1696(is_bool_dtype)\n",
      "      378    0.001    0.000    0.001    0.000 {method 'format' of 'str' objects}\n",
      "      120    0.001    0.000    0.007    0.000 range.py:154(_int64index)\n",
      "      360    0.001    0.000    0.002    0.000 __init__.py:1137(debug)\n",
      "      240    0.001    0.000    0.004    0.000 validators.py:120(validate_kwargs)\n",
      "      241    0.001    0.000    0.001    0.000 {sorted}\n",
      "      370    0.001    0.000    0.001    0.000 __init__.py:1352(isEnabledFor)\n",
      "      376    0.001    0.000    0.004    0.000 common.py:1731(is_categorical)\n",
      "      240    0.001    0.000    0.005    0.000 function.py:36(__call__)\n",
      "      120    0.001    0.000    0.001    0.000 dtypes.py:159(__init__)\n",
      "      120    0.001    0.000    0.004    0.000 indexing.py:137(_has_valid_tuple)\n",
      "      724    0.001    0.000    0.004    0.000 {method 'all' of 'numpy.ndarray' objects}\n",
      "      240    0.001    0.000    0.001    0.000 common.py:1268(_try_sort)\n",
      "     1658    0.001    0.000    0.001    0.000 {method 'sort' of 'list' objects}\n",
      "      250    0.001    0.000    0.009    0.000 series.py:580(__getitem__)\n",
      "      240    0.001    0.000    0.001    0.000 algorithms.py:807(_get_take_nd_function)\n",
      "      120    0.001    0.000    0.004    0.000 fromnumeric.py:1843(product)\n",
      "      120    0.001    0.000    0.006    0.000 numeric.py:93(__new__)\n",
      "     1090    0.001    0.000    0.001    0.000 {built-in method __new__ of type object at 0x109332c18}\n",
      "      720    0.001    0.000    0.001    0.000 {method 'copy' of 'numpy.ndarray' objects}\n",
      "      278    0.001    0.000    0.002    0.000 attributeset.py:61(issysattrname)\n",
      "        6    0.001    0.000    0.002    0.000 description.py:443(__init__)\n",
      "        6    0.001    0.000    0.001    0.000 {method '_g_get_lchild_attr' of 'tables.hdf5extension.Group' objects}\n",
      "      502    0.001    0.000    0.001    0.000 description.py:677(_f_walk)\n",
      "      250    0.001    0.000    0.002    0.000 numeric.py:133(_convert_scalar_indexer)\n",
      "       80    0.001    0.000    0.002    0.000 encoder.py:212(iterencode)\n",
      "      963    0.001    0.000    0.001    0.000 internals.py:2801(<genexpr>)\n",
      "      197    0.001    0.000    0.001    0.000 file.py:382(register_node)\n",
      "      233    0.001    0.000    0.001    0.000 {method 'pop' of 'tables.lrucacheextension.NodeCache' objects}\n",
      "      720    0.001    0.000    0.001    0.000 fromnumeric.py:2659(size)\n",
      "      120    0.001    0.000    0.002    0.000 numeric.py:151(equals)\n",
      "      481    0.001    0.000    0.001    0.000 internals.py:3276(_consolidate_inplace)\n",
      "     2003    0.001    0.000    0.001    0.000 {method 'get' of 'dict' objects}\n",
      "      120    0.001    0.000    3.351    0.028 signaltools.py:957(<lambda>)\n",
      "      242    0.001    0.000    0.001    0.000 group.py:843(__setattr__)\n",
      "      560    0.001    0.000    0.001    0.000 {method 'sub' of '_sre.SRE_Pattern' objects}\n",
      "      128    0.001    0.000    0.001    0.000 atom.py:116(_normalize_shape)\n",
      "       70    0.001    0.000    0.007    0.000 attributeset.py:375(_g__setattr)\n",
      "      240    0.001    0.000    0.003    0.000 indexing.py:1355(_has_valid_type)\n",
      "       79    0.001    0.000    0.003    0.000 attributeset.py:282(__getattr__)\n",
      "      120    0.000    0.000    0.003    0.000 shape_base.py:232(hstack)\n",
      "      601    0.000    0.000    0.001    0.000 generic.py:381(_info_axis)\n",
      "      610    0.000    0.000    0.000    0.000 series.py:292(_set_subtyp)\n",
      "      360    0.000    0.000    0.001    0.000 indexing.py:1890(is_list_like_indexer)\n",
      "      620    0.000    0.000    0.003    0.000 common.py:1705(is_sparse)\n",
      "     1581    0.000    0.000    0.000    0.000 internals.py:2695(_get_items)\n",
      "      120    0.000    0.000    0.001    0.000 dtypes.py:191(construct_from_string)\n",
      "      120    0.000    0.000    0.023    0.000 base.py:346(_shallow_copy)\n",
      "      722    0.000    0.000    0.002    0.000 base.py:445(get_values)\n",
      "      610    0.000    0.000    0.001    0.000 common.py:1788(is_hashable)\n",
      "      240    0.000    0.000    0.000    0.000 {method 'tolist' of 'numpy.ndarray' objects}\n",
      "      724    0.000    0.000    0.003    0.000 _methods.py:40(_all)\n",
      "      370    0.000    0.000    0.000    0.000 __init__.py:1338(getEffectiveLevel)\n",
      "      120    0.000    0.000    0.000    0.000 frame.py:434(axes)\n",
      "      250    0.000    0.000    0.001    0.000 internals.py:3911(internal_values)\n",
      "      140    0.000    0.000    0.000    0.000 {method 'send' of 'zmq.backend.cython.socket.Socket' objects}\n",
      "      360    0.000    0.000    0.000    0.000 {numpy.core.multiarray.result_type}\n",
      "      362    0.000    0.000    0.002    0.000 internals.py:4177(_shape_compat)\n",
      "      360    0.000    0.000    0.002    0.000 series.py:333(values)\n",
      "      720    0.000    0.000    0.000    0.000 collections.py:78(__iter__)\n",
      "       20    0.000    0.000    0.001    0.000 uuid.py:103(__init__)\n",
      "      120    0.000    0.000    0.001    0.000 indexing.py:1790(check_bool_indexer)\n",
      "       26    0.000    0.000    0.002    0.000 node.py:482(_f_close)\n",
      "      601    0.000    0.000    0.000    0.000 internals.py:2996(is_consolidated)\n",
      "       24    0.000    0.000    0.001    0.000 node.py:439(_g_del_location)\n",
      "      610    0.000    0.000    0.000    0.000 {pandas.lib.checknull}\n",
      "      120    0.000    0.000    0.001    0.000 indexing.py:50(__init__)\n",
      "       99    0.000    0.000    0.002    0.000 atom.py:409(from_kind)\n",
      "      128    0.000    0.000    0.001    0.000 atom.py:139(_normalize_default)\n",
      "      610    0.000    0.000    0.002    0.000 common.py:73(isnull)\n",
      "     1440    0.000    0.000    0.000    0.000 {method 'sort' of 'numpy.ndarray' objects}\n",
      "      361    0.000    0.000    0.001    0.000 {sum}\n",
      "      361    0.000    0.000    0.000    0.000 base.py:383(is_)\n",
      "      120    0.000    0.000    0.000    0.000 _methods.py:43(_count_reduce_items)\n",
      "      981    0.000    0.000    0.000    0.000 {method 'iteritems' of 'dict' objects}\n",
      "       22    0.000    0.000    0.025    0.001 node.py:203(__init__)\n",
      "      120    0.000    0.000    0.001    0.000 generic.py:1467(_set_is_copy)\n",
      "      560    0.000    0.000    0.001    0.000 encoder.py:33(encode_basestring)\n",
      "      195    0.000    0.000    0.001    0.000 file.py:395(cache_node)\n",
      "       20    0.000    0.000    0.382    0.019 earray.py:193(append)\n",
      "     1092    0.000    0.000    0.000    0.000 internals.py:272(dtype)\n",
      "      250    0.000    0.000    0.001    0.000 internals.py:3914(get_values)\n",
      "      382    0.000    0.000    0.000    0.000 {method 'upper' of 'str' objects}\n",
      "      240    0.000    0.000    0.000    0.000 common.py:1776(is_null_slice)\n",
      "        6    0.000    0.000    0.000    0.000 {tables.utilsextension.which_class}\n",
      "      484    0.000    0.000    0.000    0.000 range.py:58(_ensure_int)\n",
      "      602    0.000    0.000    0.000    0.000 internals.py:264(shape)\n",
      "       10    0.000    0.000    0.000    0.000 table.py:3161(__init__)\n",
      "        6    0.000    0.000    0.000    0.000 description.py:599(_g_set_path_names)\n",
      "      120    0.000    0.000    0.000    0.000 generic.py:307(_get_axis_number)\n",
      "      250    0.000    0.000    0.001    0.000 base.py:972(_convert_scalar_indexer)\n",
      "      120    0.000    0.000    0.001    0.000 generic.py:2726(f)\n",
      "      120    0.000    0.000    0.002    0.000 {method 'min' of 'numpy.ndarray' objects}\n",
      "       10    0.000    0.000    0.001    0.000 table.py:1142(_cache_description_data)\n",
      "       80    0.000    0.000    0.002    0.000 __init__.py:193(dumps)\n",
      "        8    0.000    0.000    0.017    0.002 file.py:499(_close_nodes)\n",
      "      240    0.000    0.000    0.001    0.000 common.py:1532(is_dtype_equal)\n",
      "        1    0.000    0.000    0.000    0.000 {method 'read' of 'pandas.parser.TextReader' objects}\n",
      "  178/174    0.000    0.000    0.011    0.000 file.py:408(get_node)\n",
      "       22    0.000    0.000    0.004    0.000 attributeset.py:200(__init__)\n",
      "     1110    0.000    0.000    0.000    0.000 internals.py:3824(_block)\n",
      "       21    0.000    0.000    0.000    0.000 {zmq.backend.cython._poll.zmq_poll}\n",
      "       10    0.000    0.000    0.000    0.000 __init__.py:237(__init__)\n",
      "       10    0.000    0.000    0.001    0.000 table.py:3343(_g_close)\n",
      "      362    0.000    0.000    0.001    0.000 base.py:1146(<lambda>)\n",
      "        2    0.000    0.000    0.000    0.000 {method '_create_carray' of 'tables.hdf5extension.Array' objects}\n",
      "       20    0.000    0.000    0.006    0.000 session.py:600(send)\n",
      "        6    0.000    0.000    0.012    0.002 table.py:1027(_g_create)\n",
      "      120    0.000    0.000    0.001    0.000 generic.py:2713(_protect_consolidate)\n",
      "      485    0.000    0.000    0.000    0.000 internals.py:4140(<lambda>)\n",
      "      241    0.000    0.000    0.001    0.000 common.py:1745(is_object_dtype)\n",
      "       10    0.000    0.000    0.021    0.002 table.py:705(__init__)\n",
      "       20    0.000    0.000    0.360    0.018 table.py:3003(flush)\n",
      "      120    0.000    0.000    0.004    0.000 fromnumeric.py:2796(mean)\n",
      "      240    0.000    0.000    0.001    0.000 indexing.py:1896(is_label_like)\n",
      "       20    0.000    0.000    0.000    0.000 earray.py:175(_check_shape_append)\n",
      "       45    0.000    0.000    0.000    0.000 {method '__reduce_ex__' of 'object' objects}\n",
      "      480    0.000    0.000    0.000    0.000 common.py:1491(_get_dtype)\n",
      "      144    0.000    0.000    0.000    0.000 table.py:3222(_g_col)\n",
      "      130    0.000    0.000    0.003    0.000 common.py:1717(is_extension_type)\n",
      "      120    0.000    0.000    0.000    0.000 generic.py:124(_init_mgr)\n",
      "      240    0.000    0.000    0.001    0.000 frame.py:726(__len__)\n",
      "      242    0.000    0.000    0.002    0.000 _methods.py:31(_sum)\n",
      "      250    0.000    0.000    0.000    0.000 internals.py:3884(dtype)\n",
      "      212    0.000    0.000    0.000    0.000 weakref.py:88(__contains__)\n",
      "      120    0.000    0.000    0.001    0.000 generic.py:337(_get_block_manager_axis)\n",
      "      120    0.000    0.000    0.000    0.000 {setattr}\n",
      "      120    0.000    0.000    0.001    0.000 generic.py:2723(_consolidate_inplace)\n",
      "      120    0.000    0.000    0.000    0.000 {method 'put' of 'numpy.ndarray' objects}\n",
      "       20    0.000    0.000    0.001    0.000 socket.py:289(send_multipart)\n",
      "       14    0.000    0.000    0.013    0.001 leaf.py:733(_f_close)\n",
      "       21    0.000    0.000    0.008    0.000 iostream.py:151(flush)\n",
      "     1830    0.000    0.000    0.000    0.000 {hash}\n",
      "       13    0.000    0.000    0.001    0.000 group.py:502(_g_refnode)\n",
      "      120    0.000    0.000    0.000    0.000 generic.py:2641(__finalize__)\n",
      "      241    0.000    0.000    0.000    0.000 base.py:938(is_unique)\n",
      "       34    0.000    0.000    0.001    0.000 iostream.py:207(write)\n",
      "  155/149    0.000    0.000    0.005    0.000 utils.py:240(newfget)\n",
      "       10    0.000    0.000    0.001    0.000 table.py:875(_g_post_init_hook)\n",
      "       27    0.000    0.000    0.001    0.000 atom.py:565(_get_init_args)\n",
      "        2    0.000    0.000    0.005    0.003 file.py:748(__init__)\n",
      "      260    0.000    0.000    0.000    0.000 traitlets.py:518(__get__)\n",
      "      120    0.000    0.000    0.001    0.000 _methods.py:28(_amin)\n",
      "        1    0.000    0.000    0.000    0.000 parsers.py:1197(__init__)\n",
      "        6    0.000    0.000    0.000    0.000 group.py:346(_g_add_children_names)\n",
      "  194/190    0.000    0.000    0.011    0.000 file.py:1549(_get_node)\n",
      "     1100    0.000    0.000    0.000    0.000 {callable}\n",
      "        2    0.000    0.000    0.000    0.000 {method '_open_array' of 'tables.hdf5extension.Array' objects}\n",
      "       50    0.000    0.000    0.000    0.000 atom.py:55(split_type)\n",
      "       27    0.000    0.000    0.000    0.000 inspect.py:744(getargs)\n",
      "      360    0.000    0.000    0.001    0.000 indexing.py:815(<genexpr>)\n",
      "      179    0.000    0.000    0.000    0.000 {method 'match' of '_sre.SRE_Pattern' objects}\n",
      "       80    0.000    0.000    0.000    0.000 encoder.py:101(__init__)\n",
      "       20    0.000    0.000    0.004    0.000 session.py:541(serialize)\n",
      "       20    0.000    0.000    0.000    0.000 {posix.urandom}\n",
      "        4    0.000    0.000    0.000    0.000 {tables.utilsextension.get_filters}\n",
      "       80    0.000    0.000    0.003    0.000 jsonapi.py:31(dumps)\n",
      "      240    0.000    0.000    0.000    0.000 internals.py:156(fill_value)\n",
      "        5    0.000    0.000    0.000    0.000 {method '_g_create' of 'tables.hdf5extension.Group' objects}\n",
      "      240    0.000    0.000    0.000    0.000 {method 'keys' of 'dict' objects}\n",
      "       45    0.000    0.000    0.000    0.000 copy.py:306(_reconstruct)\n",
      "      482    0.000    0.000    0.000    0.000 {pandas.algos.ensure_object}\n",
      "       58    0.000    0.000    0.000    0.000 path.py:69(check_name_validity)\n",
      "      444    0.000    0.000    0.000    0.000 {method 'startswith' of 'str' objects}\n",
      "       20    0.000    0.000    0.018    0.001 utils.py:121(convert_to_np_atom2)\n",
      "       40    0.000    0.000    0.000    0.000 threading.py:147(acquire)\n",
      "      120    0.000    0.000    0.000    0.000 internals.py:3260(consolidate)\n",
      "      106    0.000    0.000    0.002    0.000 atom.py:668(__init__)\n",
      "      120    0.000    0.000    0.001    0.000 {method 'max' of 'numpy.ndarray' objects}\n",
      "      250    0.000    0.000    0.001    0.000 series.py:366(_values)\n",
      "       80    0.000    0.000    0.002    0.000 encoder.py:186(encode)\n",
      "      120    0.000    0.000    0.000    0.000 {method 'search' of '_sre.SRE_Pattern' objects}\n",
      "      610    0.000    0.000    0.000    0.000 numeric.py:126(is_all_dates)\n",
      "      480    0.000    0.000    0.000    0.000 {pandas.algos.ensure_int64}\n",
      "       26    0.000    0.000    0.000    0.000 weakref.py:199(pop)\n",
      "      250    0.000    0.000    0.000    0.000 internals.py:144(to_dense)\n",
      "      250    0.000    0.000    0.001    0.000 series.py:313(dtype)\n",
      "       20    0.000    0.000    0.001    0.000 session.py:526(sign)\n",
      "       27    0.000    0.000    0.001    0.000 description.py:108(from_atom)\n",
      "       12    0.000    0.000    0.001    0.000 group.py:906(_g_close)\n",
      "        6    0.000    0.000    0.000    0.000 {method '_g_list_group' of 'tables.hdf5extension.Group' objects}\n",
      "      740    0.000    0.000    0.000    0.000 {pandas.lib.is_float}\n",
      "       10    0.000    0.000    0.005    0.001 table.py:3063(_f_close)\n",
      "       34    0.000    0.000    0.000    0.000 {method 'decode' of 'str' objects}\n",
      "      360    0.000    0.000    0.000    0.000 internals.py:125(external_values)\n",
      "       20    0.000    0.000    0.018    0.001 utils.py:90(convert_to_np_atom)\n",
      "      250    0.000    0.000    0.001    0.000 series.py:371(get_values)\n",
      "        6    0.000    0.000    0.000    0.000 table.py:596(row)\n",
      "       32    0.000    0.000    0.000    0.000 {map}\n",
      "      402    0.000    0.000    0.000    0.000 {method 'extend' of 'list' objects}\n",
      "       70    0.000    0.000    0.002    0.000 atom.py:354(from_dtype)\n",
      "      242    0.000    0.000    0.000    0.000 range.py:139(_validate_dtype)\n",
      "       22    0.000    0.000    0.001    0.000 node.py:355(_g_set_location)\n",
      "       20    0.000    0.000    0.002    0.000 session.py:507(msg)\n",
      "      260    0.000    0.000    0.000    0.000 traitlets.py:499(get)\n",
      "       10    0.000    0.000    0.000    0.000 {method '_g_close_group' of 'tables.hdf5extension.Group' objects}\n",
      "       20    0.000    0.000    0.000    0.000 attrsettr.py:35(__getattr__)\n",
      "      240    0.000    0.000    0.000    0.000 base.py:430(dtype)\n",
      "       40    0.000    0.000    0.000    0.000 threading.py:187(release)\n",
      "      362    0.000    0.000    0.000    0.000 {pandas.lib.is_integer}\n",
      "       45    0.000    0.000    0.001    0.000 copy.py:66(copy)\n",
      "       50    0.000    0.000    0.001    0.000 atom.py:382(from_type)\n",
      "       80    0.000    0.000    0.000    0.000 {method 'join' of 'str' objects}\n",
      "       20    0.000    0.000    0.009    0.000 __init__.py:841(emit)\n",
      "       10    0.000    0.000    0.000    0.000 __init__.py:1225(findCaller)\n",
      "       20    0.000    0.000    0.000    0.000 {built-in method now}\n",
      "       20    0.000    0.000    0.000    0.000 session.py:211(extract_header)\n",
      "      120    0.000    0.000    0.000    0.000 _methods.py:25(_amax)\n",
      "       20    0.000    0.000    0.008    0.000 __init__.py:830(flush)\n",
      "      250    0.000    0.000    0.000    0.000 base.py:2795(_maybe_cast_indexer)\n",
      "      347    0.000    0.000    0.000    0.000 weakref.py:76(__getitem__)\n",
      "      167    0.000    0.000    0.000    0.000 {method 'update' of 'dict' objects}\n",
      "       21    0.000    0.000    0.001    0.000 iostream.py:123(_flush_from_subprocesses)\n",
      "       43    0.000    0.000    0.001    0.000 group.py:394(_g_check_has_child)\n",
      "        5    0.000    0.000    0.000    0.000 {method '_g_open' of 'tables.hdf5extension.Group' objects}\n",
      "      100    0.000    0.000    0.000    0.000 {method 'update' of '_hashlib.HASH' objects}\n",
      "       21    0.000    0.000    0.000    0.000 iostream.py:96(_is_master_thread)\n",
      "       16    0.000    0.000    0.002    0.000 {method '_flush_buffered_rows' of 'tables.tableextension.Row' objects}\n",
      "       72    0.000    0.000    0.000    0.000 table.py:3487(__init__)\n",
      "       22    0.000    0.000    0.403    0.018 leaf.py:721(flush)\n",
      "      120    0.000    0.000    0.000    0.000 indexing.py:1407(_get_partial_string_timestamp_match_key)\n",
      "       22    0.000    0.000    0.000    0.000 atom.py:609(__init__)\n",
      "       72    0.000    0.000    0.000    0.000 table.py:3834(close)\n",
      "       45    0.000    0.000    0.000    0.000 atom.py:483(<lambda>)\n",
      "      156    0.000    0.000    0.000    0.000 {method 'split' of 'str' objects}\n",
      "      122    0.000    0.000    0.001    0.000 {all}\n",
      "       80    0.000    0.000    0.003    0.000 session.py:94(<lambda>)\n",
      "       20    0.000    0.000    0.001    0.000 session.py:504(msg_header)\n",
      "       18    0.000    0.000    0.000    0.000 file.py:1561(get_node)\n",
      "        7    0.000    0.000    0.000    0.000 leaf.py:320(_calc_chunkshape)\n",
      "       60    0.000    0.000    0.000    0.000 {method 'encode' of 'unicode' objects}\n",
      "       27    0.000    0.000    0.000    0.000 inspect.py:804(getargspec)\n",
      "       20    0.000    0.000    0.000    0.000 hmac.py:88(copy)\n",
      "      139    0.000    0.000    0.001    0.000 attributeset.py:193(_g_getnode)\n",
      "       20    0.000    0.000    0.000    0.000 table.py:1007(_get_type_col_names)\n",
      "       34    0.000    0.000    0.000    0.000 {_codecs.utf_8_decode}\n",
      "       24    0.000    0.000    0.000    0.000 weakref.py:105(__setitem__)\n",
      "       20    0.000    0.000    0.000    0.000 flavor.py:366(conv_to_numpy)\n",
      "      262    0.000    0.000    0.000    0.000 {method 'copy' of 'dict' objects}\n",
      "        4    0.000    0.000    0.006    0.001 table.py:1083(_g_open)\n",
      "    14/10    0.000    0.000    0.009    0.001 group.py:1174(_g_load_child)\n",
      "       10    0.000    0.000    0.000    0.000 table.py:950(_calc_nrowsinbuf)\n",
      "        4    0.000    0.000    0.493    0.123 table.py:2904(_g_copy_rows_optim)\n",
      "       22    0.000    0.000    0.000    0.000 {method '_g_list_attr' of 'tables.hdf5extension.AttributeSet' objects}\n",
      "       20    0.000    0.000    0.000    0.000 __init__.py:452(format)\n",
      "       20    0.000    0.000    0.001    0.000 uuid.py:582(uuid4)\n",
      "       10    0.000    0.000    0.009    0.001 __init__.py:1312(callHandlers)\n",
      "        2    0.000    0.000    0.018    0.009 file.py:530(close_subtree)\n",
      "       76    0.000    0.000    0.000    0.000 iostream.py:93(_is_master_process)\n",
      "       20    0.000    0.000    0.000    0.000 flavor.py:181(flavor_of)\n",
      "       29    0.000    0.000    0.000    0.000 path.py:122(join_path)\n",
      "       20    0.000    0.000    0.009    0.000 __init__.py:738(handle)\n",
      "        4    0.000    0.000    0.503    0.126 leaf.py:428(_g_copy)\n",
      "        8    0.000    0.000    0.003    0.000 group.py:207(__init__)\n",
      "      121    0.000    0.000    0.000    0.000 {method 'items' of 'dict' objects}\n",
      "       20    0.000    0.000    0.001    0.000 session.py:452(msg_id)\n",
      "       10    0.000    0.000    0.010    0.001 __init__.py:1149(info)\n",
      "       22    0.000    0.000    0.004    0.000 node.py:166(_v_attrs)\n",
      "       10    0.000    0.000    0.000    0.000 table.py:633(_v_wdflts)\n",
      "       40    0.000    0.000    0.000    0.000 __init__.py:695(acquire)\n",
      "       27    0.000    0.000    0.001    0.000 description.py:196(__init__)\n",
      "      250    0.000    0.000    0.000    0.000 internals.py:129(internal_values)\n",
      "       10    0.000    0.000    0.002    0.000 group.py:240(_g_post_init_hook)\n",
      "       17    0.000    0.000    0.000    0.000 group.py:426(__contains__)\n",
      "       24    0.000    0.000    0.000    0.000 file.py:447(drop_from_cache)\n",
      "       10    0.000    0.000    0.010    0.001 __init__.py:1259(_log)\n",
      "       20    0.000    0.000    0.000    0.000 uuid.py:199(__str__)\n",
      "       34    0.000    0.000    0.000    0.000 {method 'write' of '_io.StringIO' objects}\n",
      "      120    0.000    0.000    0.000    0.000 FEParam.py:71(spe_i_to_v)\n",
      "       12    0.000    0.000    0.010    0.001 group.py:697(_f_get_child)\n",
      "        2    0.000    0.000    0.025    0.012 file.py:2703(close)\n",
      "       89    0.000    0.000    0.000    0.000 {method 'rfind' of 'str' objects}\n",
      "      120    0.000    0.000    0.000    0.000 frame.py:199(_constructor)\n",
      "      120    0.000    0.000    0.000    0.000 FEParam.py:74(spe_i_to_adc)\n",
      "       20    0.000    0.000    0.000    0.000 flavor.py:355(_is_numpy)\n",
      "      146    0.000    0.000    0.000    0.000 atom.py:136(<genexpr>)\n",
      "       21    0.000    0.000    0.000    0.000 poll.py:77(poll)\n",
      "       14    0.000    0.000    0.000    0.000 leaf.py:297(_g_post_init_hook)\n",
      "       40    0.000    0.000    0.000    0.000 __init__.py:702(release)\n",
      "       21    0.000    0.000    0.000    0.000 iostream.py:238(_flush_buffer)\n",
      "      5/2    0.000    0.000    0.003    0.001 utils.py:140(check_file_access)\n",
      "        3    0.000    0.000    0.000    0.000 {method '_g_get_gchild_attr' of 'tables.hdf5extension.Group' objects}\n",
      "       20    0.000    0.000    0.000    0.000 session.py:206(msg_header)\n",
      "        6    0.000    0.000    0.000    0.000 description.py:579(_g_set_nested_names_descr)\n",
      "       11    0.000    0.000    0.001    0.000 table.py:2240(_save_buffered_rows)\n",
      "        4    0.000    0.000    0.503    0.126 table.py:2942(_g_copy_with_stats)\n",
      "      120    0.000    0.000    0.000    0.000 {any}\n",
      "      120    0.000    0.000    0.000    0.000 {pandas.algos.ensure_platform_int}\n",
      "       18    0.000    0.000    0.011    0.001 group.py:825(__getattr__)\n",
      "        1    0.000    0.000    0.000    0.000 {pandas.lib.clean_index_list}\n",
      "       94    0.000    0.000    0.000    0.000 {method 'endswith' of 'str' objects}\n",
      "        1    0.000    0.000    0.002    0.002 Configure.py:10(cdf_to_dict)\n",
      "      130    0.000    0.000    0.000    0.000 {min}\n",
      "       14    0.000    0.000    0.022    0.002 leaf.py:231(__init__)\n",
      "      111    0.000    0.000    0.000    0.000 {method 'pop' of 'list' objects}\n",
      "       10    0.000    0.000    0.000    0.000 table.py:1016(_get_enum_map)\n",
      "       24    0.000    0.000    0.000    0.000 weakref.py:277(__new__)\n",
      "       20    0.000    0.000    0.000    0.000 flavor.py:111(array_of_flavor2)\n",
      "      146    0.000    0.000    0.000    0.000 atom.py:502(<genexpr>)\n",
      "       32    0.000    0.000    0.000    0.000 path.py:154(split_path)\n",
      "       55    0.000    0.000    0.000    0.000 iostream.py:102(_check_mp_mode)\n",
      "       33    0.000    0.000    0.000    0.000 file.py:2147(_check_writable)\n",
      "        7    0.000    0.000    0.000    0.000 filters.py:275(__init__)\n",
      "        4    0.000    0.000    0.000    0.000 {posix.stat}\n",
      "      120    0.000    0.000    0.000    0.000 {method 'setdefault' of 'dict' objects}\n",
      "       20    0.000    0.000    0.000    0.000 flavor.py:199(array_of_flavor)\n",
      "        1    0.000    0.000    0.003    0.003 parsers.py:416(parser_f)\n",
      "      120    0.000    0.000    0.000    0.000 {method 'remove' of 'list' objects}\n",
      "        1    0.000    0.000    0.000    0.000 <ipython-input-70-0054900304c1>:1(FEE_param_table)\n",
      "       20    0.000    0.000    0.000    0.000 flavor.py:378(_conv_numpy_to_numpy)\n",
      "       21    0.000    0.000    0.000    0.000 iostream.py:247(_new_buffer)\n",
      "       14    0.000    0.000    0.000    0.000 {method '_g_new' of 'tables.hdf5extension.Leaf' objects}\n",
      "       20    0.000    0.000    0.000    0.000 {method 'isoformat' of 'datetime.datetime' objects}\n",
      "        4    0.000    0.000    0.503    0.126 node.py:745(_f_copy)\n",
      "       33    0.000    0.000    0.000    0.000 file.py:2140(_iswritable)\n",
      "       10    0.000    0.000    0.000    0.000 group.py:271(__del__)\n",
      "        6    0.000    0.000    0.001    0.000 group.py:306(_g_get_child_leaf_class)\n",
      "       34    0.000    0.000    0.000    0.000 utf_8.py:15(decode)\n",
      "        4    0.000    0.000    0.001    0.000 carray.py:133(__init__)\n",
      "       80    0.000    0.000    0.000    0.000 hmac.py:83(update)\n",
      "       24    0.000    0.000    0.000    0.000 weakref.py:282(__init__)\n",
      "       27    0.000    0.000    0.000    0.000 atom.py:321(prefix)\n",
      "       10    0.000    0.000    0.001    0.000 __init__.py:1246(makeRecord)\n",
      "       10    0.000    0.000    0.000    0.000 __init__.py:148(getLevelName)\n",
      "        2    0.000    0.000    0.000    0.000 file.py:364(__init__)\n",
      "        6    0.000    0.000    0.000    0.000 filters.py:245(_pack)\n",
      "       60    0.000    0.000    0.000    0.000 {method 'copy' of '_hashlib.HASH' objects}\n",
      "        2    0.000    0.000    0.000    0.000 group.py:1132(__init__)\n",
      "        1    0.000    0.000    0.003    0.003 parsers.py:272(_read)\n",
      "       10    0.000    0.000    0.009    0.001 __init__.py:1280(handle)\n",
      "       45    0.000    0.000    0.000    0.000 copy_reg.py:92(__newobj__)\n",
      "       19    0.000    0.000    0.000    0.000 node.py:157(_g_getparent)\n",
      "      102    0.000    0.000    0.000    0.000 {method 'isupper' of 'str' objects}\n",
      "       82    0.000    0.000    0.000    0.000 atom.py:585(<genexpr>)\n",
      "       26    0.000    0.000    0.000    0.000 node.py:849(_g_check_group)\n",
      "        1    0.000    0.000    0.000    0.000 {tables.utilsextension.read_f_attr}\n",
      "        6    0.000    0.000    0.000    0.000 weakref.py:162(iterkeys)\n",
      "      121    0.000    0.000    0.000    0.000 {method 'append' of 'tables.tableextension.Row' objects}\n",
      "        6    0.000    0.000    0.000    0.000 array.py:113(_getrowsize)\n",
      "        4    0.000    0.000    0.000    0.000 filters.py:161(_from_leaf)\n",
      "       50    0.000    0.000    0.000    0.000 leaf.py:147(<lambda>)\n",
      "       20    0.000    0.000    0.000    0.000 __init__.py:312(getMessage)\n",
      "       30    0.000    0.000    0.000    0.000 __init__.py:599(filter)\n",
      "       20    0.000    0.000    0.000    0.000 {method 'digest' of '_hashlib.HASH' objects}\n",
      "       20    0.000    0.000    0.000    0.000 __init__.py:715(format)\n",
      "        5    0.000    0.000    0.003    0.001 file.py:917(create_group)\n",
      "       26    0.000    0.000    0.000    0.000 proxydict.py:42(__setitem__)\n",
      "        1    0.000    0.000    0.000    0.000 parsers.py:1312(read)\n",
      "       31    0.000    0.000    0.000    0.000 threading.py:1143(currentThread)\n",
      "       54    0.000    0.000    0.000    0.000 file.py:2128(_check_open)\n",
      "       26    0.000    0.000    0.000    0.000 encoder.py:37(replace)\n",
      "       20    0.000    0.000    0.000    0.000 jsonutil.py:75(date_default)\n",
      "       80    0.000    0.000    0.000    0.000 threading.py:64(_note)\n",
      "        7    0.000    0.000    0.000    0.000 leaf.py:50(calc_chunksize)\n",
      "        1    0.000    0.000    0.005    0.005 Configure.py:59(configure)\n",
      "       20    0.000    0.000    0.000    0.000 {locals}\n",
      "        1    0.000    0.000    0.000    0.000 parsers.py:653(_get_options_with_defaults)\n",
      "       27    0.000    0.000    0.000    0.000 inspect.py:67(ismethod)\n",
      "      121    0.000    0.000    0.000    0.000 {thread.get_ident}\n",
      "       20    0.000    0.000    0.000    0.000 hmac.py:100(_current)\n",
      "       50    0.000    0.000    0.000    0.000 {divmod}\n",
      "        2    0.000    0.000    0.000    0.000 file.py:837(__get_root_group)\n",
      "        6    0.000    0.000    0.000    0.000 internals.py:1657(__init__)\n",
      "       20    0.000    0.000    0.000    0.000 hmac.py:119(hexdigest)\n",
      "       36    0.000    0.000    0.000    0.000 proxydict.py:25(__init__)\n",
      "        7    0.000    0.000    0.000    0.000 {print}\n",
      "       20    0.000    0.000    0.000    0.000 __init__.py:446(usesTime)\n",
      "       15    0.000    0.000    0.000    0.000 {method '_open_append' of 'tables.tableextension.Table' objects}\n",
      "       20    0.000    0.000    0.000    0.000 {method 'acquire' of 'thread.lock' objects}\n",
      "      108    0.000    0.000    0.000    0.000 {method 'pop' of 'dict' objects}\n",
      "        4    0.000    0.000    0.001    0.000 earray.py:137(__init__)\n",
      "       10    0.000    0.000    0.000    0.000 posixpath.py:112(basename)\n",
      "       10    0.000    0.000    0.000    0.000 __init__.py:70(<lambda>)\n",
      "       10    0.000    0.000    0.000    0.000 posixpath.py:97(splitext)\n",
      "       11    0.000    0.000    0.000    0.000 frame.py:321(<genexpr>)\n",
      "        2    0.000    0.000    0.000    0.000 weakref.py:47(__init__)\n",
      "       27    0.000    0.000    0.000    0.000 inspect.py:142(isfunction)\n",
      "        2    0.000    0.000    0.005    0.003 file.py:222(open_file)\n",
      "        5    0.000    0.000    0.000    0.000 file.py:2024(__contains__)\n",
      "        6    0.000    0.000    0.000    0.000 copy_reg.py:95(_slotnames)\n",
      "        2    0.000    0.000    0.000    0.000 earray.py:155(_g_create)\n",
      "        2    0.000    0.000    0.000    0.000 genericpath.py:34(isfile)\n",
      "       24    0.000    0.000    0.000    0.000 table.py:616(<lambda>)\n",
      "       24    0.000    0.000    0.000    0.000 node.py:293(__del__)\n",
      "       44    0.000    0.000    0.000    0.000 {time.time}\n",
      "        1    0.000    0.000    0.000    0.000 parsers.py:883(__init__)\n",
      "       50    0.000    0.000    0.000    0.000 {method 'groups' of '_sre.SRE_Match' objects}\n",
      "        4    0.000    0.000    0.000    0.000 table.py:115(_index_pathname_of)\n",
      "       20    0.000    0.000    0.000    0.000 {method 'hexdigest' of '_hashlib.HASH' objects}\n",
      "       21    0.000    0.000    0.000    0.000 {method 'find' of 'str' objects}\n",
      "        2    0.000    0.000    0.000    0.000 carray.py:223(_g_create_common)\n",
      "       17    0.000    0.000    0.000    0.000 file.py:2167(is_undo_enabled)\n",
      "      106    0.000    0.000    0.000    0.000 {posix.getpid}\n",
      "       21    0.000    0.000    0.000    0.000 {method 'close' of '_io.StringIO' objects}\n",
      "        1    0.000    0.000    0.000    0.000 {eval}\n",
      "        2    0.000    0.000    0.000    0.000 file.py:559(shutdown)\n",
      "        4    0.000    0.000    0.503    0.126 table.py:2971(copy)\n",
      "        4    0.000    0.000    0.000    0.000 attributeset.py:591(_g_copy)\n",
      "       21    0.000    0.000    0.000    0.000 threading.py:974(ident)\n",
      "        2    0.000    0.000    0.018    0.009 group.py:917(_f_close)\n",
      "       10    0.000    0.000    0.000    0.000 {sys._getframe}\n",
      "       27    0.000    0.000    0.000    0.000 inspect.py:209(iscode)\n",
      "        1    0.000    0.000    0.000    0.000 parsers.py:603(__init__)\n",
      "       13    0.000    0.000    0.000    0.000 path.py:179(isvisiblename)\n",
      "        2    0.000    0.000    0.000    0.000 parsers.py:1016(_maybe_make_multi_index_columns)\n",
      "        7    0.000    0.000    0.000    0.000 leaf.py:30(csformula)\n",
      "       14    0.000    0.000    0.000    0.000 {math.log10}\n",
      "        2    0.000    0.000    0.025    0.012 file.py:2760(__exit__)\n",
      "        1    0.000    0.000    0.000    0.000 parsers.py:683(_clean_options)\n",
      "        4    0.000    0.000    0.000    0.000 leaf.py:360(_calc_nrowsinbuf)\n",
      "        4    0.000    0.000    0.000    0.000 _weakrefset.py:26(__exit__)\n",
      "        2    0.000    0.000    0.005    0.002 file.py:956(create_table)\n",
      "       10    0.000    0.000    0.000    0.000 genericpath.py:93(_splitext)\n",
      "       23    0.000    0.000    0.000    0.000 atom.py:604(<lambda>)\n",
      "       58    0.000    0.000    0.000    0.000 {method '__contains__' of 'frozenset' objects}\n",
      "       10    0.000    0.000    0.000    0.000 utils.py:393(__init__)\n",
      "        1    0.000    0.000    0.002    0.002 parsers.py:810(read)\n",
      "       13    0.000    0.000    0.000    0.000 file.py:878(_get_or_create_path)\n",
      "        2    0.000    0.000    0.000    0.000 file.py:112(remove)\n",
      "        2    0.000    0.000    0.000    0.000 urlparse.py:137(urlparse)\n",
      "        6    0.000    0.000    0.000    0.000 description.py:608(get_cols_in_order)\n",
      "       10    0.000    0.000    0.000    0.000 threading.py:958(name)\n",
      "       22    0.000    0.000    0.000    0.000 attributeset.py:651(_g_close)\n",
      "       21    0.000    0.000    0.000    0.000 {method 'getvalue' of '_io.StringIO' objects}\n",
      "        2    0.000    0.000    0.018    0.009 group.py:898(_g_close_descendents)\n",
      "       13    0.000    0.000    0.000    0.000 node.py:883(_g_check_name)\n",
      "        1    0.000    0.000    0.000    0.000 parsers.py:797(_make_engine)\n",
      "        2    0.000    0.000    0.000    0.000 file.py:108(add)\n",
      "        4    0.000    0.000    0.000    0.000 node.py:873(_g_maybe_remove)\n",
      "        3    0.000    0.000    0.000    0.000 group.py:288(_g_get_child_group_class)\n",
      "       18    0.000    0.000    0.000    0.000 leaf.py:358(<genexpr>)\n",
      "        1    0.000    0.000    0.000    0.000 getopt.py:51(getopt)\n",
      "        2    0.000    0.000    0.001    0.000 file.py:1256(create_earray)\n",
      "        4    0.000    0.000    0.000    0.000 leaf.py:408(_process_range_read)\n",
      "       10    0.000    0.000    0.000    0.000 process.py:161(name)\n",
      "        4    0.000    0.000    0.493    0.123 table.py:2876(_g_copy_rows)\n",
      "       10    0.000    0.000    0.000    0.000 table.py:1001(_get_container)\n",
      "       26    0.000    0.000    0.000    0.000 {method 'group' of '_sre.SRE_Match' objects}\n",
      "        2    0.000    0.000    0.000    0.000 urlparse.py:168(urlsplit)\n",
      "       13    0.000    0.000    0.000    0.000 {method 'insert' of 'list' objects}\n",
      "        4    0.000    0.000    0.000    0.000 leaf.py:174(filters)\n",
      "        4    0.000    0.000    0.503    0.126 leaf.py:605(copy)\n",
      "       20    0.000    0.000    0.000    0.000 {method 'count' of 'list' objects}\n",
      "       20    0.000    0.000    0.000    0.000 hmac.py:30(__init__)\n",
      "       45    0.000    0.000    0.000    0.000 description.py:612(join_paths)\n",
      "        2    0.000    0.000    0.000    0.000 {tables.utilsextension.which_lib_version}\n",
      "       20    0.000    0.000    0.000    0.000 {method 'release' of 'thread.lock' objects}\n",
      "       51    0.000    0.000    0.000    0.000 table.py:895(<genexpr>)\n",
      "       10    0.000    0.000    0.000    0.000 {method '_g_new' of 'tables.hdf5extension.Node' objects}\n",
      "       10    0.000    0.000    0.000    0.000 process.py:59(current_process)\n",
      "        2    0.000    0.000    0.000    0.000 stat.py:49(S_ISREG)\n",
      "        2    0.000    0.000    0.000    0.000 array.py:233(_g_open)\n",
      "       22    0.000    0.000    0.000    0.000 {method '_g_new' of 'tables.hdf5extension.AttributeSet' objects}\n",
      "        2    0.000    0.000    0.000    0.000 getopt.py:202(short_has_arg)\n",
      "        2    0.000    0.000    0.000    0.000 getopt.py:187(do_shorts)\n",
      "        6    0.000    0.000    0.000    0.000 {method 'get' of 'dictproxy' objects}\n",
      "       13    0.000    0.000    0.000    0.000 leaf.py:188(_getmaindim)\n",
      "        2    0.000    0.000    0.000    0.000 file.py:120(get_handlers_by_name)\n",
      "        2    0.000    0.000    0.000    0.000 genericpath.py:23(exists)\n",
      "        4    0.000    0.000    0.000    0.000 _weakrefset.py:20(__enter__)\n",
      "       18    0.000    0.000    0.000    0.000 {method 'count' of 'str' objects}\n",
      "        1    0.000    0.000    0.000    0.000 common.py:290(get_filepath_or_buffer)\n",
      "        8    0.000    0.000    0.000    0.000 {method 'add' of 'set' objects}\n",
      "        8    0.000    0.000    0.000    0.000 table.py:870(<genexpr>)\n",
      "        1    0.000    0.000    0.000    0.000 common.py:186(_is_url)\n",
      "       20    0.000    0.000    0.000    0.000 py3compat.py:12(no_code)\n",
      "        1    0.000    0.000    0.000    0.000 parsers.py:860(_validate_parse_dates_arg)\n",
      "        1    0.000    0.000    0.000    0.000 parsers.py:1024(_make_index)\n",
      "        2    0.000    0.000    0.000    0.000 UserDict.py:4(__init__)\n",
      "       10    0.000    0.000    0.000    0.000 file.py:177(_checkfilters)\n",
      "        4    0.000    0.000    0.000    0.000 UserDict.py:34(__len__)\n",
      "        4    0.000    0.000    0.000    0.000 attributeset.py:265(_f_list)\n",
      "       11    0.000    0.000    0.000    0.000 parsers.py:1384(<genexpr>)\n",
      "       14    0.000    0.000    0.000    0.000 node.py:463(_g_post_init_hook)\n",
      "        4    0.000    0.000    0.000    0.000 table.py:627(_v_iobuf)\n",
      "        4    0.000    0.000    0.000    0.000 table.py:109(_index_name_of)\n",
      "        8    0.000    0.000    0.000    0.000 carray.py:192(<genexpr>)\n",
      "        8    0.000    0.000    0.000    0.000 {method 'index' of 'list' objects}\n",
      "        2    0.000    0.000    0.000    0.000 group.py:180(_g_getfilters)\n",
      "        7    0.000    0.000    0.000    0.000 leaf.py:40(limit_es)\n",
      "       10    0.000    0.000    0.000    0.000 posixpath.py:44(normcase)\n",
      "        1    0.000    0.000    0.000    0.000 common.py:245(_expand_user)\n",
      "        4    0.000    0.000    0.000    0.000 _weakrefset.py:16(__init__)\n",
      "        1    0.000    0.000    0.000    0.000 parsers.py:1182(_do_date_conversions)\n",
      "        1    0.000    0.000    0.000    0.000 internals.py:4122(_simple_blockify)\n",
      "        1    0.000    0.000    0.000    0.000 parsers.py:2293(_process_date_conversion)\n",
      "        8    0.000    0.000    0.000    0.000 {method 'remove' of 'set' objects}\n",
      "       10    0.000    0.000    0.000    0.000 table.py:612(<lambda>)\n",
      "        1    0.000    0.000    0.000    0.000 parsers.py:1280(_set_noconvert_columns)\n",
      "        4    0.000    0.000    0.000    0.000 node.py:180(_g_gettitle)\n",
      "        1    0.000    0.000    0.000    0.000 generic.py:813(keys)\n",
      "       10    0.000    0.000    0.000    0.000 {method 'itervalues' of 'dict' objects}\n",
      "        1    0.000    0.000    0.000    0.000 parsers.py:2376(_clean_na_values)\n",
      "        2    0.000    0.000    0.000    0.000 <string>:8(__new__)\n",
      "        8    0.000    0.000    0.000    0.000 atom.py:480(<lambda>)\n",
      "        2    0.000    0.000    0.000    0.000 utils.py:61(set_vml_num_threads)\n",
      "        2    0.000    0.000    0.000    0.000 base.py:1186(__iter__)\n",
      "        2    0.000    0.000    0.000    0.000 {iter}\n",
      "        4    0.000    0.000    0.000    0.000 weakref.py:68(_commit_removals)\n",
      "        1    0.000    0.000    0.000    0.000 __init__.py:177(_checkLevel)\n",
      "        1    0.000    0.000    0.000    0.000 {pandas.lib.is_bool}\n",
      "        1    0.000    0.000    0.000    0.000 parsers.py:2255(_make_date_converter)\n",
      "        2    0.000    0.000    0.000    0.000 stat.py:24(S_IFMT)\n",
      "        4    0.000    0.000    0.000    0.000 {method 'iterkeys' of 'dict' objects}\n",
      "        4    0.000    0.000    0.000    0.000 utils.py:40(correct_byteorder)\n",
      "        1    0.000    0.000    0.000    0.000 parsers.py:829(_create_index)\n",
      "       45    0.000    0.000    0.000    0.000 {id}\n",
      "        1    0.000    0.000    0.000    0.000 __init__.py:1131(setLevel)\n",
      "        2    0.000    0.000    0.000    0.000 {method 'values' of 'dict' objects}\n",
      "        2    0.000    0.000    0.000    0.000 file.py:2755(__enter__)\n",
      "        1    0.000    0.000    0.000    0.000 posixpath.py:251(expanduser)\n",
      "        2    0.000    0.000    0.000    0.000 {method '_get_file_id' of 'tables.hdf5extension.File' objects}\n",
      "        1    0.000    0.000    0.000    0.000 common.py:204(_is_s3_url)\n",
      "        1    0.000    0.000    0.000    0.000 common.py:263(_validate_header_arg)\n",
      "        1    0.000    0.000    0.000    0.000 parsers.py:941(_has_complex_date_col)\n",
      "        1    0.000    0.000    0.000    0.000 common.py:271(_stringify_path)\n",
      "        1    0.000    0.000    0.000    0.000 parsers.py:843(_validate_usecols_arg)\n",
      "        1    0.000    0.000    0.000    0.000 {method 'disable' of '_lsprof.Profiler' objects}\n",
      "        3    0.000    0.000    0.000    0.000 parsers.py:839(_is_index_col)\n",
      "\n",
      "\n"
     ]
    }
   ],
   "source": [
    "cProfile.run(\"DIOMIRA(['DIOMIRA','-d','INFO','-c','../../Config/DIOMIRA_NA_ZLIB_test.csv'])\", sort='time')"
   ]
  },
  {
   "cell_type": "raw",
   "metadata": {},
   "source": [
    "       Leaving Diomira. Safe travels!\n",
    "         972339 function calls (968589 primitive calls) in 28.915 seconds\n",
    "\n",
    "   Ordered by: internal time\n",
    "       10    1.126    0.113   12.545    1.254 <ipython-input-70-0054900304c1>:77(twf_signal)\n",
    "      120    0.775    0.006    7.059    0.059 FEE2.py:156(FEESignal)\n",
    "       10    0.774    0.077   13.865    1.386 <ipython-input-70-0054900304c1>:112(simulate_pmt_response)\n"
   ]
  },
  {
   "cell_type": "code",
   "execution_count": 157,
   "metadata": {
    "collapsed": false
   },
   "outputs": [],
   "source": [
    "def DIOMIRA_cy(argv):\n",
    "    \"\"\"\n",
    "    Diomira driver\n",
    "    \"\"\"\n",
    "    DEBUG_LEVEL, INFO, CYTHON, CFP = configure(argv[0],argv[1:])\n",
    "   \n",
    "    if INFO:\n",
    "        \n",
    "        print(\"\"\"\n",
    "        DIOMIRA:\n",
    "         1. Reads an MCRD file produced by art/centella, which stores MCRD \n",
    "         waveforms for PMTs (bins of 1 ns)\n",
    "        and the SiPMs (bins of 1 mus)\n",
    "            \n",
    "\n",
    "        2. Simulates the response of the energy plane in the PMTs MCRD, \n",
    "        and produces both RWF and TWF:\n",
    "        see: http://localhost:8931/notebooks/Nh5-Event-Model.ipynb#Reconstructed-Objects\n",
    "        \n",
    "            \n",
    "        3. Simulates the response of the tracking plane in the SiPMs MCRD and outputs\n",
    "            SiPM RWF (not yet implemented, for the time being simply copy the MCRD)\n",
    "\n",
    "        4. Add a table describing the FEE parameters used for simulation\n",
    "\n",
    "        5. Copies the tables on geometry, detector data and MC\n",
    "\n",
    "\n",
    "        \"\"\")\n",
    "        FP.print_FEE()\n",
    "\n",
    "    PATH_IN =CFP['PATH_IN']\n",
    "    PATH_OUT =CFP['PATH_OUT']\n",
    "    FILE_IN =CFP['FILE_IN']\n",
    "    FILE_OUT =CFP['FILE_OUT']\n",
    "    FIRST_EVT =CFP['FIRST_EVT']\n",
    "    LAST_EVT =CFP['LAST_EVT']\n",
    "    RUN_ALL =CFP['RUN_ALL']\n",
    "    CLIB =CFP['CLIB']\n",
    "    CLEVEL =CFP['CLEVEL']\n",
    "    NEVENTS = LAST_EVT - FIRST_EVT\n",
    "\n",
    "    print('Debug level = {}'.format(DEBUG_LEVEL))\n",
    "\n",
    "    print(\"input path ={}; output path = {}; file_in ={} file_out ={}\".format(\n",
    "        PATH_IN,PATH_OUT,FILE_IN, FILE_OUT))\n",
    "\n",
    "    print(\"first event = {} last event = {} nof events requested = {} \".format(\n",
    "        FIRST_EVT,LAST_EVT,NEVENTS))\n",
    "\n",
    "    print(\"Compression library = {} Compression level = {} \".format(\n",
    "        CLIB,CLEVEL))\n",
    "\n",
    "    # open the input file \n",
    "    with tables.open_file(\"{}/{}\".format(PATH_IN,FILE_IN), \"r+\") as h5in: \n",
    "        # access the PMT raw data in file \n",
    "\n",
    "        pmtrd_ = h5in.root.pmtrd\n",
    "        sipmrd_ = h5in.root.sipmrd\n",
    "\n",
    "        #pmtrd_.shape = (nof_events, nof_sensors, wf_length)\n",
    "\n",
    "        NPMT = pmtrd_.shape[1]\n",
    "        NSIPM = sipmrd_.shape[1]\n",
    "        PMTWL = pmtrd_.shape[2] \n",
    "        PMTWL_FEE = int((PMTWL+1)/FP.time_DAQ)\n",
    "        #PMTWL_FEE = int(PMTWL/FP.time_DAQ)\n",
    "        SIPMWL = sipmrd_.shape[2]\n",
    "        NEVENTS_DST = pmtrd_.shape[0]\n",
    "\n",
    "        print(\"nof PMTs = {} nof  SiPMs = {} nof events in input DST = {} \".format(\n",
    "        NPMT,NSIPM,NEVENTS_DST))\n",
    "\n",
    "        print(\"lof SiPM WF = {} lof PMT WF (MC) = {} lof PMT WF (FEE) = {}\".format(\n",
    "        PMTWL,SIPMWL,PMTWL_FEE))\n",
    "\n",
    "\n",
    "        #access the geometry and the sensors metadata info\n",
    "\n",
    "        geom_t = h5in.root.Detector.DetectorGeometry\n",
    "        pmt_t = h5in.root.Sensors.DataPMT\n",
    "        sipm_t = h5in.root.Sensors.DataSiPM\n",
    "        mctrk_t = h5in.root.MC.MCTracks\n",
    "\n",
    "        \n",
    "        # open the output file \n",
    "        with tables.open_file(\"{}/{}\".format(PATH_OUT,FILE_OUT), \"w\",\n",
    "            filters=tables.Filters(complib=CLIB, complevel=CLEVEL)) as h5out:\n",
    " \n",
    "            # create a group to store MC data\n",
    "            mcgroup = h5out.create_group(h5out.root, \"MC\")\n",
    "            # copy the mctrk table\n",
    "            mctrk_t.copy(newparent=mcgroup)\n",
    "\n",
    "            # create a group  to store geom data\n",
    "            detgroup = h5out.create_group(h5out.root, \"Detector\")\n",
    "            # copy the geom table\n",
    "            geom_t.copy(newparent=detgroup)\n",
    "\n",
    "            # create a group  store sensor data\n",
    "            sgroup = h5out.create_group(h5out.root, \"Sensors\")\n",
    "            # copy the pmt table\n",
    "            pmt_t.copy(newparent=sgroup)\n",
    "            # copy the sipm table\n",
    "            sipm_t.copy(newparent=sgroup)\n",
    "\n",
    "            # create a table to store Energy plane FEE data and hang it from MC group\n",
    "            fee_table = h5out.create_table(mcgroup, \"FEE\", FEE,\n",
    "                          \"EP-FEE parameters\",tables.Filters(0))\n",
    "            \n",
    "            \n",
    "            # create a group to store True waveform data\n",
    "            twfgroup = h5out.create_group(h5out.root, \"TWF\")\n",
    "                                          \n",
    "            # create a table to store true waveform (zs, rebinned)\n",
    "            twf_table = h5out.create_table(twfgroup, \"TWF\", TWF, \"Store for TWF\",\n",
    "                                tables.Filters(complib=CLIB, complevel=CLEVEL))\n",
    "\n",
    "            # fill FEE table\n",
    "            FEE_param_table(fee_table)\n",
    "\n",
    "            # create a group to store RawData\n",
    "            rgroup = h5out.create_group(h5out.root, \"RD\")\n",
    "            \n",
    "            # create an extensible array to store the RWF waveforms\n",
    "            pmtrwf = h5out.create_earray(h5out.root.RD, \"pmtrwf\", \n",
    "                                    atom=tables.Float32Atom(), \n",
    "                                    shape=(0, NPMT, PMTWL_FEE), \n",
    "                                    expectedrows=NEVENTS_DST)\n",
    "            \n",
    "            # 29.9 tWF now stored in a table---\n",
    "            # create an extensible array to store the TWF waveforms\n",
    "#             pmttwf = h5out.create_earray(h5out.root.RD, \"pmttwf\", \n",
    "#                                     atom=tables.Float32Atom(), \n",
    "#                                     shape=(0, NPMT, PMTWL_FEE), \n",
    "#                                     expectedrows=NEVENTS_DST)\n",
    "            \n",
    "\n",
    "            sipmrwf = h5out.create_earray(h5out.root.RD, \"sipmrwf\", \n",
    "                                    atom=tables.Float32Atom(), \n",
    "                                    shape=(0, NSIPM, SIPMWL), \n",
    "                                    expectedrows=NEVENTS_DST)\n",
    "\n",
    "          \n",
    "            if NEVENTS > NEVENTS_DST and RUN_ALL == False:\n",
    "                print(\"\"\"\n",
    "                Refusing to run: you have requested\n",
    "                FIRST_EVT = {}\n",
    "                LAST_EVT  = {}\n",
    "                Thus you want to run over {} events\n",
    "                but the size of the DST is {} events.\n",
    "                Please change your choice or select RUN_ALL = TRUE\n",
    "                to run over the whole DST when this happens\n",
    "                \"\"\".format(FIRST_EVT,LAST_EVT,NEVENTS,NEVENTS_DST))\n",
    "                sys.exit(0)\n",
    "            elif  NEVENTS > NEVENTS_DST and RUN_ALL == True:\n",
    "                FIRST_EVT = 0\n",
    "                LAST_EVT = NEVENTS_DST\n",
    "                NEVENTS = NEVENTS_DST\n",
    "\n",
    "\n",
    "            for i in range(FIRST_EVT,LAST_EVT):\n",
    "                logger.info(\"-->event number ={}\".format(i))\n",
    "                \n",
    "                #truePMT = rebin_signal(i,pmtrd_, int(FP.time_DAQ))\n",
    "\n",
    "                rebin = int(1*mus/1*ns)  #rebins zs function in 1 mus bin\n",
    "\n",
    "                #list with zs twf\n",
    "                truePMT = twf_signal_cy(i,pmtrd_, rebin)\n",
    "                \n",
    "                #store in table\n",
    "                store_twf(i, twf_table, truePMT)\n",
    "                \n",
    "                #truePMT.astype(float)\n",
    "\n",
    "                #simulate PMT response and return an array with RWF\n",
    "                dataPMT = simulate_pmt_response_cy(i,pmtrd_)\n",
    "\n",
    "                #convert to float\n",
    "                dataPMT.astype(float) \n",
    "            \n",
    "                \n",
    "                #logger.info(\"truePMT shape ={}\".format(truePMT.shape))\n",
    "                #logger.info(\"dataPMT shape ={}\".format(dataPMT.shape))\n",
    "                \n",
    "                #RWF for pmts\n",
    "                pmtrwf.append(dataPMT.reshape(1, NPMT, PMTWL_FEE))\n",
    "                \n",
    "                \n",
    "                #TWF for pmts\n",
    "                #pmttwf.append(truePMT.reshape(1, NPMT, PMTWL_FEE))\n",
    "                #pmtrd.append(dataPMT.reshape(1, NPMT, PMTWL))\n",
    "                   \n",
    "                #simulate SiPM response and return an array with new WF\n",
    "                dataSiPM = simulate_sipm_response(i,sipmrd_)\n",
    "                dataSiPM.astype(float)\n",
    "                \n",
    "                #append to SiPM EARRAY\n",
    "                sipmrwf.append(dataSiPM.reshape(1, NSIPM, SIPMWL))\n",
    "\n",
    "            pmtrwf.flush()\n",
    "            sipmrwf.flush()\n",
    "\n",
    "\n",
    "    print(\"Leaving Diomira. Safe travels!\")\n",
    "\n"
   ]
  },
  {
   "cell_type": "markdown",
   "metadata": {
    "collapsed": true
   },
   "source": [
    "### Prototyping a cyton version for ZS and RB"
   ]
  },
  {
   "cell_type": "markdown",
   "metadata": {},
   "source": [
    "#### Python version"
   ]
  },
  {
   "cell_type": "code",
   "execution_count": 145,
   "metadata": {
    "collapsed": false
   },
   "outputs": [],
   "source": [
    "def wfm_zs_and_rb_py(energy_pes, time_ns, stride):\n",
    "    \"\"\"\n",
    "    python version:\n",
    "    performs ZS and Rb\n",
    "    \"\"\"\n",
    "    twf_zs = wfm.wf_thr(wf2df(time_ns,energy_pes),0.5)\n",
    "    t_rb, ene_rb = rebin_twf(twf_zs.time_ns.values,twf_zs.ene_pes.values,stride)\n",
    "    return ene_rb, t_rb\n",
    "    "
   ]
  },
  {
   "cell_type": "markdown",
   "metadata": {},
   "source": [
    "#### cython version"
   ]
  },
  {
   "cell_type": "code",
   "execution_count": 146,
   "metadata": {
    "collapsed": false
   },
   "outputs": [],
   "source": [
    "%%cython\n",
    "\n",
    "import numpy as np\n",
    "cimport numpy as np\n",
    "from cython cimport boundscheck, wraparound\n",
    "\n",
    "def wfm_zs_and_rb(np.ndarray[np.int32_t, ndim=1] energy_pes, np.ndarray[np.float32_t, ndim=1] time_ns, int stride):\n",
    "    \n",
    "    cdef int i, j, k, dim_rb, dim_zs, e_sum, r, n\n",
    "           \n",
    "    \n",
    "    #ZS\n",
    "    dim_zs = 0\n",
    "    with boundscheck(False), wraparound(False):\n",
    "        for k in range(len(energy_pes)):\n",
    "            if energy_pes[k] > 0:\n",
    "                dim_zs+=1\n",
    "            \n",
    "    cdef np.ndarray[np.int32_t, ndim=1] ene_zs = np.zeros(dim_zs, dtype=np.int32)\n",
    "    cdef np.ndarray[np.float32_t, ndim=1] t_zs = np.zeros(dim_zs, dtype=np.float32)\n",
    "    \n",
    "    #print('dim_zs = {}'.format(dim_zs))\n",
    "    \n",
    "    i = 0\n",
    "    with boundscheck(False), wraparound(False):\n",
    "        for k in range(len(energy_pes)):\n",
    "            if energy_pes[k] > 0:\n",
    "                ene_zs[i] = energy_pes[k]\n",
    "                t_zs[i] = time_ns[k]\n",
    "                i+=1\n",
    "                \n",
    "        \n",
    "    #RB\n",
    "    n = ene_zs.shape[0]/stride\n",
    "    r = ene_zs.shape[0]%stride\n",
    "    \n",
    "    if r > 0: \n",
    "        dim_rb = n+1\n",
    "    \n",
    "    #print('n = {} r = {} dim_rb = {}'.format(n,r,dim_rb))\n",
    "        \n",
    "    cdef np.ndarray[np.int32_t, ndim=1] ene_rb = np.zeros(dim_rb, dtype=np.int32)\n",
    "    cdef np.ndarray[np.float32_t, ndim=1] t_rb = np.zeros(dim_rb, dtype=np.float32)\n",
    "        \n",
    "    #resum bins\n",
    "    j=0\n",
    "    with boundscheck(False), wraparound(False):\n",
    "        for i in range(n):\n",
    "            e_sum = 0    \n",
    "            for k in range(j, j + stride): \n",
    "                e_sum += ene_zs[k] \n",
    "            ene_rb[i] = e_sum\n",
    "            t_rb[i] = (t_zs[j] + t_zs[j + stride])/2.\n",
    "            j+= stride\n",
    "    \n",
    "        #print('j={}'.format(j))\n",
    "            \n",
    "        if r > 0:\n",
    "            e_sum = 0    \n",
    "            for k in range(j, dim_zs): \n",
    "                e_sum += ene_zs[k] \n",
    "                \n",
    "        ene_rb[n] = e_sum\n",
    "        t_rb[n]  = (t_zs[j] + t_zs[dim_zs-1])/2. \n",
    "    \n",
    "    #print(ene_rb)\n",
    "    #print(t_rb)\n",
    "            \n",
    "    return ene_rb, t_rb\n",
    "        "
   ]
  },
  {
   "cell_type": "markdown",
   "metadata": {},
   "source": [
    "#### Check wfm_zs_and_rb"
   ]
  },
  {
   "cell_type": "code",
   "execution_count": 94,
   "metadata": {
    "collapsed": false
   },
   "outputs": [
    {
     "name": "stdout",
     "output_type": "stream",
     "text": [
      "int32 float32 <type 'int'>\n"
     ]
    }
   ],
   "source": [
    "wfm_dim = 10000\n",
    "stride = int(100)\n",
    "time_ns = np.arange(0,wfm_dim,1, dtype = np.float32)\n",
    "ene_pes = np.zeros(wfm_dim, dtype=np.int32)\n",
    "po = np.random.poisson(1, 10000)\n",
    "ene_pes[:] = po\n",
    "print(ene_pes.dtype, time_ns.dtype, type(stride))"
   ]
  },
  {
   "cell_type": "code",
   "execution_count": 92,
   "metadata": {
    "collapsed": false
   },
   "outputs": [
    {
     "data": {
      "text/plain": [
       "[<matplotlib.lines.Line2D at 0x10efe62d0>]"
      ]
     },
     "execution_count": 92,
     "metadata": {},
     "output_type": "execute_result"
    },
    {
     "data": {
      "image/png": "[encoded data removed]",
      "text/plain": [
       "<matplotlib.figure.Figure at 0x10f0b3750>"
      ]
     },
     "metadata": {},
     "output_type": "display_data"
    }
   ],
   "source": [
    "plt.plot(time_ns,ene_pes)"
   ]
  },
  {
   "cell_type": "code",
   "execution_count": 137,
   "metadata": {
    "collapsed": false
   },
   "outputs": [
    {
     "name": "stdout",
     "output_type": "stream",
     "text": [
      "dim_zs = 6367\n",
      "n = 63 r = 67 dim_rb = 64\n",
      "j=6300\n",
      "[169 163 166 159 161 168 154 172 160 163 160 160 153 156 169 160 154 168\n",
      " 163 166 155 151 168 152 162 170 161 159 159 165 168 153 168 154 167 150\n",
      " 163 149 159 151 160 149 156 167 169 166 172 159 169 150 157 165 165 153\n",
      " 162 160 156 158 156 147 152 156 171 106]\n",
      "[   80.    242.    403.5   564.5   728.5   902.   1070.   1220.   1364.\n",
      "  1514.   1675.   1840.5  2002.   2163.   2329.5  2501.   2660.   2812.\n",
      "  2970.5  3131.5  3299.5  3464.   3619.   3766.   3923.   4093.5  4255.5\n",
      "  4405.   4555.5  4701.   4852.   5014.   5171.5  5326.   5477.5  5635.\n",
      "  5798.5  5959.5  6112.5  6263.5  6413.   6569.5  6732.5  6888.5  7037.\n",
      "  7183.   7327.   7477.   7637.5  7795.5  7948.5  8095.5  8245.5  8399.\n",
      "  8552.   8700.5  8854.   9014.5  9176.   9331.5  9482.5  9639.5  9804.5\n",
      "  9945. ]\n"
     ]
    }
   ],
   "source": [
    "ene_rb, t_rb = wfm_zs_and_rb(ene_pes, time_ns, int(100))"
   ]
  },
  {
   "cell_type": "code",
   "execution_count": 138,
   "metadata": {
    "collapsed": false
   },
   "outputs": [
    {
     "data": {
      "text/plain": [
       "[<matplotlib.lines.Line2D at 0x11088ed50>]"
      ]
     },
     "execution_count": 138,
     "metadata": {},
     "output_type": "execute_result"
    },
    {
     "data": {
      "image/png": "[encoded data removed]",
      "text/plain": [
       "<matplotlib.figure.Figure at 0x110d76490>"
      ]
     },
     "metadata": {},
     "output_type": "display_data"
    }
   ],
   "source": [
    "plt.plot(t_rb,ene_rb)"
   ]
  },
  {
   "cell_type": "code",
   "execution_count": 139,
   "metadata": {
    "collapsed": false
   },
   "outputs": [
    {
     "data": {
      "text/plain": [
       "10209"
      ]
     },
     "execution_count": 139,
     "metadata": {},
     "output_type": "execute_result"
    }
   ],
   "source": [
    "np.sum(ene_pes)"
   ]
  },
  {
   "cell_type": "code",
   "execution_count": 140,
   "metadata": {
    "collapsed": false
   },
   "outputs": [
    {
     "data": {
      "text/plain": [
       "10209"
      ]
     },
     "execution_count": 140,
     "metadata": {},
     "output_type": "execute_result"
    }
   ],
   "source": [
    "np.sum(ene_rb)"
   ]
  },
  {
   "cell_type": "code",
   "execution_count": 143,
   "metadata": {
    "collapsed": false
   },
   "outputs": [
    {
     "name": "stdout",
     "output_type": "stream",
     "text": [
      "10000 loops, best of 3: 67.1 µs per loop\n"
     ]
    }
   ],
   "source": [
    "%timeit ene_rb, t_rb = wfm_zs_and_rb(ene_pes, time_ns, int(100))"
   ]
  },
  {
   "cell_type": "code",
   "execution_count": 147,
   "metadata": {
    "collapsed": true
   },
   "outputs": [],
   "source": [
    "ene_rb2, t_rb2 =wfm_zs_and_rb_py(ene_pes, time_ns, int(100))"
   ]
  },
  {
   "cell_type": "code",
   "execution_count": 148,
   "metadata": {
    "collapsed": false
   },
   "outputs": [
    {
     "data": {
      "text/plain": [
       "[<matplotlib.lines.Line2D at 0x10f812d10>]"
      ]
     },
     "execution_count": 148,
     "metadata": {},
     "output_type": "execute_result"
    },
    {
     "data": {
      "image/png": "[encoded data removed]",
      "text/plain": [
       "<matplotlib.figure.Figure at 0x10f812610>"
      ]
     },
     "metadata": {},
     "output_type": "display_data"
    }
   ],
   "source": [
    "plt.plot(t_rb2,ene_rb2)"
   ]
  },
  {
   "cell_type": "code",
   "execution_count": 149,
   "metadata": {
    "collapsed": false
   },
   "outputs": [
    {
     "data": {
      "text/plain": [
       "[<matplotlib.lines.Line2D at 0x10f989510>]"
      ]
     },
     "execution_count": 149,
     "metadata": {},
     "output_type": "execute_result"
    },
    {
     "data": {
      "image/png": "[encoded data removed]",
      "text/plain": [
       "<matplotlib.figure.Figure at 0x10fc84e50>"
      ]
     },
     "metadata": {},
     "output_type": "display_data"
    }
   ],
   "source": [
    "plt.plot(t_rb2 - t_rb)"
   ]
  },
  {
   "cell_type": "code",
   "execution_count": 150,
   "metadata": {
    "collapsed": false
   },
   "outputs": [
    {
     "data": {
      "text/plain": [
       "[<matplotlib.lines.Line2D at 0x1107ce510>]"
      ]
     },
     "execution_count": 150,
     "metadata": {},
     "output_type": "execute_result"
    },
    {
     "data": {
      "image/png": "[encoded data removed]",
      "text/plain": [
       "<matplotlib.figure.Figure at 0x1134e2310>"
      ]
     },
     "metadata": {},
     "output_type": "display_data"
    }
   ],
   "source": [
    "plt.plot(ene_rb2 - ene_rb)"
   ]
  },
  {
   "cell_type": "code",
   "execution_count": 151,
   "metadata": {
    "collapsed": false
   },
   "outputs": [
    {
     "data": {
      "text/plain": [
       "10209.0"
      ]
     },
     "execution_count": 151,
     "metadata": {},
     "output_type": "execute_result"
    }
   ],
   "source": [
    "np.sum(ene_rb2)"
   ]
  },
  {
   "cell_type": "code",
   "execution_count": 152,
   "metadata": {
    "collapsed": false
   },
   "outputs": [
    {
     "name": "stdout",
     "output_type": "stream",
     "text": [
      "100 loops, best of 3: 1.89 ms per loop\n"
     ]
    }
   ],
   "source": [
    "%timeit ene_rb2, t_rb2 =wfm_zs_and_rb_py(ene_pes, time_ns, int(100))"
   ]
  },
  {
   "cell_type": "markdown",
   "metadata": {},
   "source": [
    "#### Cython version runs much faster\n",
    "1. python: 1890 mus per loop\n",
    "2. cython 67 mus per loop\n"
   ]
  },
  {
   "cell_type": "code",
   "execution_count": 153,
   "metadata": {
    "collapsed": true
   },
   "outputs": [],
   "source": [
    "factor = 1890./67"
   ]
  },
  {
   "cell_type": "code",
   "execution_count": 154,
   "metadata": {
    "collapsed": false
   },
   "outputs": [
    {
     "data": {
      "text/plain": [
       "28.208955223880597"
      ]
     },
     "execution_count": 154,
     "metadata": {},
     "output_type": "execute_result"
    }
   ],
   "source": [
    "factor"
   ]
  },
  {
   "cell_type": "markdown",
   "metadata": {},
   "source": [
    "### Now try a version of twf_signal that cythonizes the zs and rb "
   ]
  },
  {
   "cell_type": "code",
   "execution_count": 156,
   "metadata": {
    "collapsed": false
   },
   "outputs": [],
   "source": [
    "def twf_signal_py2cy(event_number,pmtrd, stride):\n",
    "    \"\"\"\n",
    "    py2cy --> python calls cython\n",
    "    1) takes pmtrd\n",
    "    2) Performs ZS\n",
    "    3) Rebins resulting wf according to stride\n",
    "    \"\"\"\n",
    "    \n",
    "    rdata = []\n",
    "\n",
    "    for j in range(pmtrd.shape[1]):\n",
    "        logger.debug(\"-->PMT number ={}\".format(j))\n",
    "                \n",
    "        energy_pes = np.zeros(pmtrd.shape[2], dtype=np.int32)\n",
    "        energy_pes[:] = pmtrd[event_number, j]\n",
    "        time_ns = np.array(range(pmtrd.shape[2]), dtype=np.float32)\n",
    "        \n",
    "        ene_rb, t_rb = wfm_zs_and_rb(energy_pes, time_ns, int(stride))\n",
    "        twf = wf2df(t_rb, ene_rb)\n",
    "        \n",
    "        rdata.append(twf)\n",
    "    return rdata"
   ]
  },
  {
   "cell_type": "code",
   "execution_count": 159,
   "metadata": {
    "collapsed": false
   },
   "outputs": [
    {
     "name": "stdout",
     "output_type": "stream",
     "text": [
      "Debug level = INFO\n",
      "input path =/Users/jjgomezcadenas/Documents/Development/NEXT/data/test/; output path = /Users/jjgomezcadenas/Documents/Development/NEXT/data/Waveforms/25ns/; file_in =nexus_NEW_NEXT_v0_08_00_Kr_ACTIVE_5bar_1000kev_0.next_10000.root.h5 file_out =Kr_ACTIVE_5bar_test10.h5\n",
      "first event = 0 last event = 10 nof events requested = 10 \n",
      "Compression library = zlib Compression level = 1 \n",
      "nof PMTs = 12 nof  SiPMs = 1789 nof events in input DST = 1000 \n",
      "lof SiPM WF = 1200000 lof PMT WF (MC) = 1200 lof PMT WF (FEE) = 48000\n",
      "INFO:root:-->event number =0\n"
     ]
    },
    {
     "name": "stderr",
     "output_type": "stream",
     "text": [
      "-->event number =0\n"
     ]
    },
    {
     "name": "stdout",
     "output_type": "stream",
     "text": [
      "INFO:root:-->event number =1\n"
     ]
    },
    {
     "name": "stderr",
     "output_type": "stream",
     "text": [
      "-->event number =1\n"
     ]
    },
    {
     "name": "stdout",
     "output_type": "stream",
     "text": [
      "INFO:root:-->event number =2\n"
     ]
    },
    {
     "name": "stderr",
     "output_type": "stream",
     "text": [
      "-->event number =2\n"
     ]
    },
    {
     "name": "stdout",
     "output_type": "stream",
     "text": [
      "INFO:root:-->event number =3\n"
     ]
    },
    {
     "name": "stderr",
     "output_type": "stream",
     "text": [
      "-->event number =3\n"
     ]
    },
    {
     "name": "stdout",
     "output_type": "stream",
     "text": [
      "INFO:root:-->event number =4\n"
     ]
    },
    {
     "name": "stderr",
     "output_type": "stream",
     "text": [
      "-->event number =4\n"
     ]
    },
    {
     "name": "stdout",
     "output_type": "stream",
     "text": [
      "INFO:root:-->event number =5\n"
     ]
    },
    {
     "name": "stderr",
     "output_type": "stream",
     "text": [
      "-->event number =5\n"
     ]
    },
    {
     "name": "stdout",
     "output_type": "stream",
     "text": [
      "INFO:root:-->event number =6\n"
     ]
    },
    {
     "name": "stderr",
     "output_type": "stream",
     "text": [
      "-->event number =6\n"
     ]
    },
    {
     "name": "stdout",
     "output_type": "stream",
     "text": [
      "INFO:root:-->event number =7\n"
     ]
    },
    {
     "name": "stderr",
     "output_type": "stream",
     "text": [
      "-->event number =7\n"
     ]
    },
    {
     "name": "stdout",
     "output_type": "stream",
     "text": [
      "INFO:root:-->event number =8\n"
     ]
    },
    {
     "name": "stderr",
     "output_type": "stream",
     "text": [
      "-->event number =8\n"
     ]
    },
    {
     "name": "stdout",
     "output_type": "stream",
     "text": [
      "INFO:root:-->event number =9\n"
     ]
    },
    {
     "name": "stderr",
     "output_type": "stream",
     "text": [
      "-->event number =9\n"
     ]
    },
    {
     "name": "stdout",
     "output_type": "stream",
     "text": [
      "Leaving Diomira. Safe travels!\n"
     ]
    }
   ],
   "source": [
    "DIOMIRA_cy(['DIOMIRA','-d','INFO','-c','../../Config/DIOMIRA_NA_ZLIB_test.csv'])"
   ]
  },
  {
   "cell_type": "code",
   "execution_count": 160,
   "metadata": {
    "collapsed": false
   },
   "outputs": [
    {
     "name": "stdout",
     "output_type": "stream",
     "text": [
      "Debug level = INFO\n",
      "input path =/Users/jjgomezcadenas/Documents/Development/NEXT/data/test/; output path = /Users/jjgomezcadenas/Documents/Development/NEXT/data/Waveforms/25ns/; file_in =nexus_NEW_NEXT_v0_08_00_Kr_ACTIVE_5bar_1000kev_0.next_10000.root.h5 file_out =Kr_ACTIVE_5bar_test10.h5\n",
      "first event = 0 last event = 10 nof events requested = 10 \n",
      "Compression library = zlib Compression level = 1 \n",
      "nof PMTs = 12 nof  SiPMs = 1789 nof events in input DST = 1000 \n",
      "lof SiPM WF = 1200000 lof PMT WF (MC) = 1200 lof PMT WF (FEE) = 48000\n",
      "INFO:root:-->event number =0\n"
     ]
    },
    {
     "name": "stderr",
     "output_type": "stream",
     "text": [
      "-->event number =0\n"
     ]
    },
    {
     "name": "stdout",
     "output_type": "stream",
     "text": [
      "INFO:root:-->event number =1\n"
     ]
    },
    {
     "name": "stderr",
     "output_type": "stream",
     "text": [
      "-->event number =1\n"
     ]
    },
    {
     "name": "stdout",
     "output_type": "stream",
     "text": [
      "INFO:root:-->event number =2\n"
     ]
    },
    {
     "name": "stderr",
     "output_type": "stream",
     "text": [
      "-->event number =2\n"
     ]
    },
    {
     "name": "stdout",
     "output_type": "stream",
     "text": [
      "INFO:root:-->event number =3\n"
     ]
    },
    {
     "name": "stderr",
     "output_type": "stream",
     "text": [
      "-->event number =3\n"
     ]
    },
    {
     "name": "stdout",
     "output_type": "stream",
     "text": [
      "INFO:root:-->event number =4\n"
     ]
    },
    {
     "name": "stderr",
     "output_type": "stream",
     "text": [
      "-->event number =4\n"
     ]
    },
    {
     "name": "stdout",
     "output_type": "stream",
     "text": [
      "INFO:root:-->event number =5\n"
     ]
    },
    {
     "name": "stderr",
     "output_type": "stream",
     "text": [
      "-->event number =5\n"
     ]
    },
    {
     "name": "stdout",
     "output_type": "stream",
     "text": [
      "INFO:root:-->event number =6\n"
     ]
    },
    {
     "name": "stderr",
     "output_type": "stream",
     "text": [
      "-->event number =6\n"
     ]
    },
    {
     "name": "stdout",
     "output_type": "stream",
     "text": [
      "INFO:root:-->event number =7\n"
     ]
    },
    {
     "name": "stderr",
     "output_type": "stream",
     "text": [
      "-->event number =7\n"
     ]
    },
    {
     "name": "stdout",
     "output_type": "stream",
     "text": [
      "INFO:root:-->event number =8\n"
     ]
    },
    {
     "name": "stderr",
     "output_type": "stream",
     "text": [
      "-->event number =8\n"
     ]
    },
    {
     "name": "stdout",
     "output_type": "stream",
     "text": [
      "INFO:root:-->event number =9\n"
     ]
    },
    {
     "name": "stderr",
     "output_type": "stream",
     "text": [
      "-->event number =9\n"
     ]
    },
    {
     "name": "stdout",
     "output_type": "stream",
     "text": [
      "Leaving Diomira. Safe travels!\n",
      "         838158 function calls (836928 primitive calls) in 24.960 seconds\n",
      "\n",
      "   Ordered by: internal time\n",
      "\n",
      "   ncalls  tottime  percall  cumtime  percall filename:lineno(function)\n",
      "    22099    5.140    0.000    5.140    0.000 {numpy.core.multiarray.array}\n",
      "      120    4.580    0.038    4.580    0.038 {method 'normal' of 'mtrand.RandomState' objects}\n",
      "     1560    4.516    0.003    4.516    0.003 {numpy.core.multiarray.correlate}\n",
      "      240    1.668    0.007    1.668    0.007 {scipy.signal.sigtools._linear_filter}\n",
      "     1863    1.545    0.001    1.545    0.001 {range}\n",
      "    18130    1.312    0.000    1.312    0.000 {method '_g_read_slice' of 'tables.hdf5extension.Array' objects}\n",
      "       10    1.287    0.129    8.874    0.887 <ipython-input-156-0447d7915525>:1(twf_signal_py2cy)\n",
      "       10    0.798    0.080   13.843    1.384 <ipython-input-70-0054900304c1>:112(simulate_pmt_response)\n",
      "      120    0.773    0.006    7.033    0.059 FEE2.py:156(FEESignal)\n",
      "       22    0.380    0.017    0.380    0.017 {method '_g_flush' of 'tables.hdf5extension.Leaf' objects}\n",
      "    19090    0.361    0.000    0.361    0.000 {numpy.core.multiarray.zeros}\n",
      "       20    0.359    0.018    0.359    0.018 {method '_append' of 'tables.hdf5extension.Array' objects}\n",
      "       15    0.264    0.018    0.264    0.018 {method '_append_records' of 'tables.tableextension.Table' objects}\n",
      "      120    0.256    0.002    0.256    0.002 {_cython_magic_265197373be86ab28dfab2116c3624fc.wfm_zs_and_rb}\n",
      "    18130    0.228    0.000    0.364    0.000 array.py:370(_interpret_indexing)\n",
      "      120    0.185    0.002    3.786    0.032 shape_base.py:20(apply_along_axis)\n",
      "      360    0.140    0.000    5.600    0.016 signaltools.py:845(lfilter)\n",
      "    74814    0.125    0.000    0.125    0.000 {numpy.core.multiarray.empty}\n",
      "        1    0.113    0.113   24.959   24.959 <ipython-input-157-c8a06e86f7c7>:1(DIOMIRA_cy)\n",
      "        4    0.107    0.027    0.107    0.027 {method '_fill_col' of 'tables.tableextension.Row' objects}\n",
      "      120    0.104    0.001    4.068    0.034 FEE2.py:176(daqSignal)\n",
      "     1700    0.095    0.000    0.095    0.000 {method 'astype' of 'numpy.ndarray' objects}\n",
      "    18130    0.044    0.000    1.846    0.000 array.py:627(__getitem__)\n",
      "    36264    0.033    0.000    0.042    0.000 leaf.py:390(_process_range)\n",
      "       10    0.032    0.003    0.812    0.081 <ipython-input-70-0054900304c1>:101(simulate_sipm_response)\n",
      "    18130    0.030    0.000    1.426    0.000 array.py:758(_read_slice)\n",
      "     1440    0.027    0.000    0.075    0.000 polynomial.py:32(poly)\n",
      "    76656    0.023    0.000    0.027    0.000 {isinstance}\n",
      "     4038    0.019    0.000    0.019    0.000 {method 'reduce' of 'numpy.ufunc' objects}\n",
      "184030/183182    0.019    0.000    0.020    0.000 {len}\n",
      "     6600    0.014    0.000    0.028    0.000 shape_base.py:9(atleast_1d)\n",
      "        2    0.014    0.007    0.014    0.007 {method '_close_file' of 'tables.hdf5extension.File' objects}\n",
      "      720    0.013    0.000    0.178    0.000 filter_design.py:1327(iirfilter)\n",
      "    36260    0.013    0.000    0.013    0.000 utils.py:49(is_idx)\n",
      "      720    0.012    0.000    0.015    0.000 filter_design.py:2863(buttap)\n",
      "      120    0.012    0.000    0.032    0.000 fir_filter_design.py:138(firwin)\n",
      "      480    0.011    0.000    0.027    0.000 filter_design.py:1620(_zpklp2hp)\n",
      "    45868    0.010    0.000    0.010    0.000 {method 'append' of 'list' objects}\n",
      "    36264    0.010    0.000    0.010    0.000 {method 'indices' of 'slice' objects}\n",
      "      360    0.009    0.000    0.020    0.000 filter_design.py:1517(_zpkbilinear)\n",
      "    18218    0.008    0.000    0.008    0.000 node.py:342(_g_check_open)\n",
      "  363/242    0.007    0.000    0.028    0.000 base.py:124(__new__)\n",
      "    11044    0.007    0.000    0.013    0.000 numeric.py:484(asanyarray)\n",
      "      720    0.007    0.000    0.090    0.000 filter_design.py:594(zpk2tf)\n",
      "     1560    0.007    0.000    4.526    0.003 numeric.py:918(convolve)\n",
      "     1440    0.006    0.000    0.007    0.000 type_check.py:18(mintypecode)\n",
      "       14    0.005    0.000    0.005    0.000 {method '_g_close' of 'tables.hdf5extension.Leaf' objects}\n",
      "    18130    0.005    0.000    0.005    0.000 leaf.py:211(<lambda>)\n",
      "      121    0.004    0.000    0.034    0.000 internals.py:4007(form_blocks)\n",
      "     1804    0.004    0.000    0.004    0.000 {numpy.core.multiarray.arange}\n",
      "    36260    0.004    0.000    0.004    0.000 {operator.index}\n",
      "      363    0.003    0.000    0.006    0.000 common.py:1380(_asarray_tuplesafe)\n",
      "     4297    0.003    0.000    0.004    0.000 {getattr}\n",
      "     1800    0.003    0.000    0.003    0.000 {numpy.core.multiarray.copyto}\n",
      "      360    0.003    0.000    0.182    0.001 FEE2.py:55(__init__)\n",
      "      372    0.003    0.000    0.003    0.000 {pandas.lib.infer_dtype}\n",
      "      121    0.003    0.000    0.007    0.000 internals.py:2674(_rebuild_blknos_and_blklocs)\n",
      "     1080    0.003    0.000    0.003    0.000 {numpy.core.multiarray.concatenate}\n",
      "     1440    0.003    0.000    0.003    0.000 {method 'compress' of 'numpy.ndarray' objects}\n",
      "     1100    0.003    0.000    0.003    0.000 {method 'reshape' of 'numpy.ndarray' objects}\n",
      "     3228    0.003    0.000    0.003    0.000 {hasattr}\n",
      "     1871    0.003    0.000    0.010    0.000 fromnumeric.py:2395(prod)\n",
      "     1365    0.003    0.000    0.005    0.000 dtypes.py:74(is_dtype)\n",
      "      242    0.002    0.000    0.005    0.000 internals.py:4168(_stack_arrays)\n",
      "      120    0.002    0.000    0.185    0.002 FEE2.py:116(__init__)\n",
      "     1440    0.002    0.000    0.005    0.000 function_base.py:1807(sort_complex)\n",
      "     3034    0.002    0.000    0.006    0.000 numeric.py:414(asarray)\n",
      "      122    0.002    0.000    0.006    0.000 frame.py:5244(extract_index)\n",
      "       70    0.002    0.000    0.005    0.000 {method '_g_setattr' of 'tables.hdf5extension.AttributeSet' objects}\n",
      "      242    0.002    0.000    0.004    0.000 numeric.py:607(require)\n",
      "      240    0.002    0.000    0.003    0.000 function_base.py:3262(sinc)\n",
      "     1800    0.002    0.000    0.007    0.000 numeric.py:148(ones)\n",
      "      120    0.002    0.000    0.006    0.000 SPE.py:19(__init__)\n",
      "      241    0.002    0.000    0.015    0.000 internals.py:4136(_multi_blockify)\n",
      "        6    0.002    0.000    0.002    0.000 {method '_create_table' of 'tables.tableextension.Table' objects}\n",
      "      121    0.002    0.000    0.091    0.001 frame.py:307(_init_dict)\n",
      "      120    0.002    0.000    3.959    0.033 signaltools.py:2634(decimate)\n",
      "     7653    0.002    0.000    0.002    0.000 {issubclass}\n",
      "      840    0.002    0.000    0.008    0.000 function_base.py:4534(append)\n",
      "      240    0.002    0.000    0.003    0.000 function_base.py:9(linspace)\n",
      "     1560    0.002    0.000    0.003    0.000 numeric.py:846(_mode_from_name)\n",
      "      120    0.002    0.000    0.002    0.000 function_base.py:1518(diff)\n",
      "      240    0.002    0.000    0.003    0.000 filter_design.py:1567(_zpklp2lp)\n",
      "      240    0.002    0.000    1.677    0.007 FEE2.py:80(FilterPulse)\n",
      "     2902    0.002    0.000    0.004    0.000 generic.py:7(_check)\n",
      "      492    0.002    0.000    0.010    0.000 internals.py:2482(make_block)\n",
      "      492    0.002    0.000    0.008    0.000 internals.py:77(__init__)\n",
      "      240    0.002    0.000    4.586    0.019 FEE2.py:187(FEENoise)\n",
      "        2    0.002    0.001    0.002    0.001 {method '_g_new' of 'tables.hdf5extension.File' objects}\n",
      "      840    0.002    0.000    0.009    0.000 fromnumeric.py:1892(any)\n",
      "      120    0.002    0.000    0.003    0.000 windows.py:1610(get_window)\n",
      "      750    0.002    0.000    0.003    0.000 generic.py:2674(__setattr__)\n",
      "      120    0.002    0.000    0.002    0.000 windows.py:859(hamming)\n",
      "       69    0.002    0.000    0.002    0.000 {method '_g_getattr' of 'tables.hdf5extension.AttributeSet' objects}\n",
      "      840    0.001    0.000    0.003    0.000 fromnumeric.py:1383(ravel)\n",
      "      121    0.001    0.000    0.001    0.000 {pandas.lib.list_to_object_array}\n",
      "      120    0.001    0.000    0.093    0.001 <ipython-input-70-0054900304c1>:23(wf2df)\n",
      "      121    0.001    0.000    0.093    0.001 frame.py:210(__init__)\n",
      "      720    0.001    0.000    0.179    0.000 filter_design.py:1824(butter)\n",
      "      121    0.001    0.000    0.012    0.000 frame.py:5521(_homogenize)\n",
      "      130    0.001    0.000    0.005    0.000 common.py:1011(_possibly_cast_to_datetime)\n",
      "      492    0.001    0.000    0.005    0.000 internals.py:191(mgr_locs)\n",
      "      120    0.001    0.000    1.678    0.014 FEE2.py:131(Filter)\n",
      "      250    0.001    0.000    0.004    0.000 internals.py:3312(iget)\n",
      "      128    0.001    0.000    0.003    0.000 atom.py:493(__init__)\n",
      "      250    0.001    0.000    0.010    0.000 series.py:2787(_sanitize_array)\n",
      "      862    0.001    0.000    0.006    0.000 common.py:1736(is_categorical_dtype)\n",
      "        1    0.001    0.001   24.960   24.960 <string>:1(<module>)\n",
      "      961    0.001    0.000    0.007    0.000 {method 'any' of 'numpy.ndarray' objects}\n",
      "      130    0.001    0.000    0.003    0.000 common.py:1111(_possibly_infer_to_datetimelike)\n",
      "       10    0.001    0.000    0.374    0.037 <ipython-input-70-0054900304c1>:32(store_twf)\n",
      "      242    0.001    0.000    0.002    0.000 base.py:309(_simple_new)\n",
      "      363    0.001    0.000    0.002    0.000 internals.py:2619(shape)\n",
      "      250    0.001    0.000    0.008    0.000 base.py:1957(get_value)\n",
      "     3720    0.001    0.000    0.001    0.000 {method 'lower' of 'str' objects}\n",
      "      724    0.001    0.000    0.005    0.000 fromnumeric.py:1875(alltrue)\n",
      "     1104    0.001    0.000    0.001    0.000 range.py:435(__len__)\n",
      "      121    0.001    0.000    0.012    0.000 internals.py:2578(__init__)\n",
      "      500    0.001    0.000    0.002    0.000 base.py:1233(__contains__)\n",
      "     1242    0.001    0.000    0.002    0.000 {pandas.lib.values_from_object}\n",
      "     1440    0.001    0.000    0.004    0.000 fromnumeric.py:1619(compress)\n",
      "  490/250    0.001    0.000    0.018    0.000 generic.py:2658(__getattr__)\n",
      "      240    0.001    0.000    0.001    0.000 {numpy.core.multiarray.where}\n",
      "      250    0.001    0.000    0.004    0.000 series.py:120(__init__)\n",
      "      250    0.001    0.000    0.002    0.000 {method 'get_value' of 'pandas.index.IndexEngine' objects}\n",
      "     1871    0.001    0.000    0.007    0.000 _methods.py:34(_prod)\n",
      "        4    0.001    0.000    0.003    0.001 {method '_get_info' of 'tables.tableextension.Table' objects}\n",
      "      121    0.001    0.000    0.002    0.000 common.py:272(array_equivalent)\n",
      "     1440    0.001    0.000    0.001    0.000 {method 'index' of 'str' objects}\n",
      "      121    0.001    0.000    0.066    0.001 frame.py:5224(_arrays_to_mgr)\n",
      "      121    0.001    0.000    0.048    0.000 internals.py:3996(create_block_manager_from_arrays)\n",
      "      490    0.001    0.000    0.001    0.000 base.py:1247(__getitem__)\n",
      "      120    0.001    0.000    3.960    0.033 FEE2.py:21(down_scale_signal_)\n",
      "      120    0.001    0.000    1.169    0.010 signaltools.py:392(convolve)\n",
      "      121    0.001    0.000    0.003    0.000 internals.py:2799(_verify_integrity)\n",
      "      371    0.001    0.000    0.001    0.000 generic.py:94(__init__)\n",
      "      120    0.001    0.000    0.001    0.000 numeric.py:2064(isscalar)\n",
      "      250    0.001    0.000    0.015    0.000 generic.py:1345(_get_item_cache)\n",
      "     1082    0.001    0.000    0.001    0.000 {method 'ravel' of 'numpy.ndarray' objects}\n",
      "       43    0.001    0.000    0.001    0.000 {method '_g_get_objinfo' of 'tables.hdf5extension.Group' objects}\n",
      "      840    0.001    0.000    0.002    0.000 type_check.py:107(real)\n",
      "     1080    0.001    0.000    0.001    0.000 filter_design.py:1503(_relative_degree)\n",
      "      363    0.001    0.000    0.001    0.000 common.py:1511(_get_dtype_type)\n",
      "      120    0.001    0.000    1.169    0.010 SPE.py:91(SpePulseFromVectorPE)\n",
      "      961    0.001    0.000    0.006    0.000 _methods.py:37(_any)\n",
      "       15    0.001    0.000    0.001    0.000 {method '_close_append' of 'tables.tableextension.Table' objects}\n",
      "      724    0.001    0.000    0.004    0.000 {method 'all' of 'numpy.ndarray' objects}\n",
      "      122    0.001    0.000    0.003    0.000 common.py:1226(_default_index)\n",
      "      250    0.001    0.000    0.008    0.000 series.py:2804(_try_cast)\n",
      "      484    0.001    0.000    0.001    0.000 dtypes.py:122(construct_from_string)\n",
      "        6    0.001    0.000    0.002    0.000 description.py:443(__init__)\n",
      "      122    0.001    0.000    0.002    0.000 range.py:42(__new__)\n",
      "      250    0.001    0.000    0.001    0.000 __init__.py:1352(isEnabledFor)\n",
      "      503    0.001    0.000    0.003    0.000 common.py:1710(is_datetimetz)\n",
      "      606    0.001    0.000    0.001    0.000 base.py:440(values)\n",
      "      258    0.001    0.000    0.001    0.000 {method 'format' of 'str' objects}\n",
      "      250    0.001    0.000    0.006    0.000 internals.py:3283(get)\n",
      "       80    0.001    0.000    0.002    0.000 encoder.py:212(iterencode)\n",
      "      122    0.001    0.000    0.001    0.000 range.py:117(_simple_new)\n",
      "     1658    0.001    0.000    0.001    0.000 {method 'sort' of 'list' objects}\n",
      "      250    0.001    0.000    0.016    0.000 frame.py:1973(__getitem__)\n",
      "      250    0.001    0.000    0.001    0.000 internals.py:3778(__init__)\n",
      "      250    0.001    0.000    0.008    0.000 series.py:580(__getitem__)\n",
      "      250    0.001    0.000    0.002    0.000 numeric.py:133(_convert_scalar_indexer)\n",
      "      720    0.001    0.000    0.001    0.000 {method 'copy' of 'numpy.ndarray' objects}\n",
      "      120    0.001    0.000    3.348    0.028 signaltools.py:957(<lambda>)\n",
      "      560    0.001    0.000    0.001    0.000 {method 'sub' of '_sre.SRE_Pattern' objects}\n",
      "      120    0.001    0.000    0.003    0.000 fromnumeric.py:1843(product)\n",
      "      242    0.001    0.000    0.001    0.000 internals.py:276(ftype)\n",
      "      121    0.001    0.000    0.001    0.000 {pandas.lib.array_equivalent_object}\n",
      "       70    0.001    0.000    0.007    0.000 attributeset.py:375(_g__setattr)\n",
      "      240    0.001    0.000    0.001    0.000 __init__.py:1137(debug)\n",
      "      197    0.001    0.000    0.001    0.000 file.py:382(register_node)\n",
      "      278    0.001    0.000    0.002    0.000 attributeset.py:61(issysattrname)\n",
      "      720    0.001    0.000    0.001    0.000 fromnumeric.py:2659(size)\n",
      "      128    0.001    0.000    0.001    0.000 atom.py:116(_normalize_shape)\n",
      "      856    0.001    0.000    0.001    0.000 {method 'view' of 'numpy.ndarray' objects}\n",
      "      250    0.001    0.000    0.007    0.000 frame.py:2331(_box_item_values)\n",
      "      484    0.001    0.000    0.001    0.000 numeric.py:676(<genexpr>)\n",
      "      122    0.001    0.000    0.001    0.000 fromnumeric.py:1743(sum)\n",
      "      858    0.001    0.000    0.001    0.000 base.py:3381(_ensure_index)\n",
      "      250    0.000    0.000    0.000    0.000 common.py:986(_possibly_castable)\n",
      "      121    0.000    0.000    0.001    0.000 internals.py:3004(_consolidate_check)\n",
      "      250    0.000    0.000    0.001    0.000 series.py:270(_set_axis)\n",
      "      140    0.000    0.000    0.000    0.000 {method 'send' of 'zmq.backend.cython.socket.Socket' objects}\n",
      "      120    0.000    0.000    0.002    0.000 shape_base.py:232(hstack)\n",
      "      128    0.000    0.000    0.001    0.000 atom.py:139(_normalize_default)\n",
      "       79    0.000    0.000    0.003    0.000 attributeset.py:282(__getattr__)\n",
      "      121    0.000    0.000    0.004    0.000 base.py:1507(equals)\n",
      "      360    0.000    0.000    0.000    0.000 {numpy.core.multiarray.result_type}\n",
      "      560    0.000    0.000    0.001    0.000 encoder.py:33(encode_basestring)\n",
      "      500    0.000    0.000    0.001    0.000 base.py:1915(get_loc)\n",
      "      108    0.000    0.000    0.000    0.000 {method 'clear' of 'dict' objects}\n",
      "      502    0.000    0.000    0.001    0.000 description.py:677(_f_walk)\n",
      "      500    0.000    0.000    0.000    0.000 {method 'get_loc' of 'pandas.index.IndexEngine' objects}\n",
      "      240    0.000    0.000    0.000    0.000 {method 'tolist' of 'numpy.ndarray' objects}\n",
      "       20    0.000    0.000    0.001    0.000 uuid.py:103(__init__)\n",
      "     1112    0.000    0.000    0.000    0.000 {pandas.lib.isscalar}\n",
      "      390    0.000    0.000    0.001    0.000 common.py:1763(is_list_like)\n",
      "      250    0.000    0.000    0.005    0.000 series.py:236(from_array)\n",
      "      250    0.000    0.000    0.015    0.000 frame.py:1999(_getitem_column)\n",
      "      724    0.000    0.000    0.003    0.000 _methods.py:40(_all)\n",
      "      120    0.000    0.000    0.001    0.000 common.py:1268(_try_sort)\n",
      "      242    0.000    0.000    0.001    0.000 common.py:1696(is_bool_dtype)\n",
      "      250    0.000    0.000    0.001    0.000 generic.py:1359(_set_as_cached)\n",
      "      367    0.000    0.000    0.000    0.000 __init__.py:157(iteritems)\n",
      "     1440    0.000    0.000    0.000    0.000 {method 'sort' of 'numpy.ndarray' objects}\n",
      "      364    0.000    0.000    0.000    0.000 base.py:403(_reset_identity)\n",
      "        1    0.000    0.000    0.000    0.000 {method 'read' of 'pandas.parser.TextReader' objects}\n",
      "      250    0.000    0.000    0.001    0.000 base.py:972(_convert_scalar_indexer)\n",
      "      503    0.000    0.000    0.001    0.000 common.py:1575(is_datetime64tz_dtype)\n",
      "       10    0.000    0.000    0.001    0.000 __init__.py:237(__init__)\n",
      "     1124    0.000    0.000    0.000    0.000 {max}\n",
      "      726    0.000    0.000    0.000    0.000 base.py:409(__len__)\n",
      "      250    0.000    0.000    0.002    0.000 internals.py:183(make_block_same_class)\n",
      "       20    0.000    0.000    0.376    0.019 earray.py:193(append)\n",
      "      120    0.000    0.000    0.000    0.000 {method 'take' of 'numpy.ndarray' objects}\n",
      "       21    0.000    0.000    0.000    0.000 {zmq.backend.cython._poll.zmq_poll}\n",
      "      250    0.000    0.000    0.001    0.000 internals.py:3914(get_values)\n",
      "      250    0.000    0.000    0.000    0.000 __init__.py:1338(getEffectiveLevel)\n",
      "      195    0.000    0.000    0.001    0.000 file.py:395(cache_node)\n",
      "      380    0.000    0.000    0.002    0.000 common.py:1705(is_sparse)\n",
      "      250    0.000    0.000    0.001    0.000 series.py:302(name)\n",
      "      120    0.000    0.000    0.002    0.000 {method 'min' of 'numpy.ndarray' objects}\n",
      "       99    0.000    0.000    0.003    0.000 atom.py:409(from_kind)\n",
      "        2    0.000    0.000    0.000    0.000 {method '_create_carray' of 'tables.hdf5extension.Array' objects}\n",
      "      250    0.000    0.000    0.000    0.000 series.py:306(name)\n",
      "      242    0.000    0.000    0.001    0.000 base.py:1143(_engine)\n",
      "       80    0.000    0.000    0.003    0.000 __init__.py:193(dumps)\n",
      "      121    0.000    0.000    0.000    0.000 {sorted}\n",
      "       22    0.000    0.000    0.024    0.001 node.py:203(__init__)\n",
      "     1089    0.000    0.000    0.001    0.000 internals.py:2621(<genexpr>)\n",
      "      250    0.000    0.000    0.005    0.000 frame.py:2338(_box_col_values)\n",
      "       20    0.000    0.000    0.007    0.000 session.py:600(send)\n",
      "      242    0.000    0.000    0.000    0.000 group.py:843(__setattr__)\n",
      "       22    0.000    0.000    0.004    0.000 attributeset.py:200(__init__)\n",
      "  178/174    0.000    0.000    0.009    0.000 file.py:408(get_node)\n",
      "        6    0.000    0.000    0.000    0.000 {method '_g_get_lchild_attr' of 'tables.hdf5extension.Group' objects}\n",
      "      242    0.000    0.000    0.000    0.000 {method 'fill' of 'numpy.ndarray' objects}\n",
      "      250    0.000    0.000    0.001    0.000 internals.py:4171(_asarray_compat)\n",
      "      250    0.000    0.000    0.000    0.000 internals.py:3911(internal_values)\n",
      "      976    0.000    0.000    0.000    0.000 internals.py:160(mgr_locs)\n",
      "       10    0.000    0.000    0.021    0.002 table.py:705(__init__)\n",
      "      130    0.000    0.000    0.002    0.000 common.py:1717(is_extension_type)\n",
      "      250    0.000    0.000    0.000    0.000 internals.py:301(iget)\n",
      "       20    0.000    0.000    0.000    0.000 earray.py:175(_check_shape_append)\n",
      "      233    0.000    0.000    0.000    0.000 {method 'pop' of 'tables.lrucacheextension.NodeCache' objects}\n",
      "        6    0.000    0.000    0.000    0.000 {tables.utilsextension.which_class}\n",
      "       21    0.000    0.000    0.008    0.000 iostream.py:151(flush)\n",
      "      130    0.000    0.000    0.000    0.000 {min}\n",
      "      250    0.000    0.000    0.000    0.000 common.py:94(_isnull_new)\n",
      "        1    0.000    0.000    0.000    0.000 parsers.py:1197(__init__)\n",
      "       34    0.000    0.000    0.001    0.000 iostream.py:207(write)\n",
      "      120    0.000    0.000    0.000    0.000 {method 'put' of 'numpy.ndarray' objects}\n",
      "        4    0.000    0.000    0.000    0.000 {tables.utilsextension.get_filters}\n",
      "       10    0.000    0.000    0.001    0.000 table.py:1142(_cache_description_data)\n",
      "       13    0.000    0.000    0.001    0.000 group.py:502(_g_refnode)\n",
      "       45    0.000    0.000    0.000    0.000 {method '__reduce_ex__' of 'object' objects}\n",
      "      250    0.000    0.000    0.000    0.000 internals.py:3884(dtype)\n",
      "      363    0.000    0.000    0.000    0.000 internals.py:2801(<genexpr>)\n",
      "       20    0.000    0.000    0.001    0.000 socket.py:289(send_multipart)\n",
      "      212    0.000    0.000    0.000    0.000 weakref.py:88(__contains__)\n",
      "      489    0.000    0.000    0.000    0.000 {built-in method __new__ of type object at 0x109332c18}\n",
      "        6    0.000    0.000    0.012    0.002 table.py:1027(_g_create)\n",
      "      500    0.000    0.000    0.000    0.000 common.py:1846(_apply_if_callable)\n",
      "       20    0.000    0.000    0.004    0.000 session.py:541(serialize)\n",
      "       80    0.000    0.000    0.003    0.000 jsonapi.py:31(dumps)\n",
      "      179    0.000    0.000    0.000    0.000 {method 'match' of '_sre.SRE_Pattern' objects}\n",
      "       80    0.000    0.000    0.002    0.000 encoder.py:186(encode)\n",
      "      260    0.000    0.000    0.000    0.000 traitlets.py:518(__get__)\n",
      "       27    0.000    0.000    0.001    0.000 atom.py:565(_get_init_args)\n",
      "       10    0.000    0.000    0.001    0.000 table.py:875(_g_post_init_hook)\n",
      "      242    0.000    0.000    0.001    0.000 internals.py:4177(_shape_compat)\n",
      "      120    0.000    0.000    0.000    0.000 frame.py:726(__len__)\n",
      "        5    0.000    0.000    0.000    0.000 {method '_g_create' of 'tables.hdf5extension.Group' objects}\n",
      "      120    0.000    0.000    0.001    0.000 _methods.py:28(_amin)\n",
      "      136    0.000    0.000    0.001    0.000 common.py:1731(is_categorical)\n",
      "      244    0.000    0.000    0.000    0.000 range.py:58(_ensure_int)\n",
      "       20    0.000    0.000    0.000    0.000 {posix.urandom}\n",
      "      621    0.000    0.000    0.000    0.000 internals.py:2695(_get_items)\n",
      "      250    0.000    0.000    0.001    0.000 series.py:313(dtype)\n",
      "      750    0.000    0.000    0.000    0.000 internals.py:3824(_block)\n",
      "       40    0.000    0.000    0.000    0.000 threading.py:147(acquire)\n",
      "       20    0.000    0.000    0.017    0.001 utils.py:121(convert_to_np_atom2)\n",
      "  194/190    0.000    0.000    0.009    0.000 file.py:1549(_get_node)\n",
      "  155/149    0.000    0.000    0.005    0.000 utils.py:240(newfget)\n",
      "       45    0.000    0.000    0.000    0.000 copy.py:306(_reconstruct)\n",
      "        2    0.000    0.000    0.003    0.001 file.py:748(__init__)\n",
      "       50    0.000    0.000    0.000    0.000 atom.py:55(split_type)\n",
      "      444    0.000    0.000    0.000    0.000 {method 'startswith' of 'str' objects}\n",
      "       27    0.000    0.000    0.000    0.000 inspect.py:744(getargs)\n",
      "      260    0.000    0.000    0.000    0.000 traitlets.py:499(get)\n",
      "       20    0.000    0.000    0.001    0.000 session.py:526(sign)\n",
      "      250    0.000    0.000    0.000    0.000 internals.py:144(to_dense)\n",
      "      492    0.000    0.000    0.000    0.000 internals.py:272(dtype)\n",
      "       22    0.000    0.000    0.001    0.000 node.py:355(_g_set_location)\n",
      "      241    0.000    0.000    0.000    0.000 generic.py:381(_info_axis)\n",
      "       32    0.000    0.000    0.000    0.000 {map}\n",
      "      250    0.000    0.000    0.001    0.000 series.py:366(_values)\n",
      "       27    0.000    0.000    0.002    0.000 description.py:108(from_atom)\n",
      "       58    0.000    0.000    0.000    0.000 path.py:69(check_name_validity)\n",
      "       20    0.000    0.000    0.010    0.000 __init__.py:841(emit)\n",
      "       20    0.000    0.000    0.017    0.001 utils.py:90(convert_to_np_atom)\n",
      "      120    0.000    0.000    0.001    0.000 {method 'max' of 'numpy.ndarray' objects}\n",
      "        6    0.000    0.000    0.000    0.000 table.py:596(row)\n",
      "      121    0.000    0.000    0.000    0.000 range.py:150(_data)\n",
      "      242    0.000    0.000    0.000    0.000 base.py:445(get_values)\n",
      "      121    0.000    0.000    0.001    0.000 common.py:1745(is_object_dtype)\n",
      "        6    0.000    0.000    0.000    0.000 description.py:599(_g_set_path_names)\n",
      "       80    0.000    0.000    0.000    0.000 encoder.py:101(__init__)\n",
      "       80    0.000    0.000    0.000    0.000 {method 'join' of 'str' objects}\n",
      "       45    0.000    0.000    0.001    0.000 copy.py:66(copy)\n",
      "       20    0.000    0.000    0.002    0.000 session.py:507(msg)\n",
      "      242    0.000    0.000    0.001    0.000 base.py:1146(<lambda>)\n",
      "       70    0.000    0.000    0.003    0.000 atom.py:354(from_dtype)\n",
      "      121    0.000    0.000    0.000    0.000 base.py:383(is_)\n",
      "       20    0.000    0.000    0.000    0.000 attrsettr.py:35(__getattr__)\n",
      "       20    0.000    0.000    0.347    0.017 table.py:3003(flush)\n",
      "      250    0.000    0.000    0.000    0.000 common.py:1788(is_hashable)\n",
      "      250    0.000    0.000    0.000    0.000 series.py:292(_set_subtyp)\n",
      "        2    0.000    0.000    0.000    0.000 {method '_open_array' of 'tables.hdf5extension.Array' objects}\n",
      "      250    0.000    0.000    0.000    0.000 base.py:2795(_maybe_cast_indexer)\n",
      "      122    0.000    0.000    0.001    0.000 _methods.py:31(_sum)\n",
      "      347    0.000    0.000    0.000    0.000 weakref.py:76(__getitem__)\n",
      "      139    0.000    0.000    0.001    0.000 attributeset.py:193(_g_getnode)\n",
      "       20    0.000    0.000    0.000    0.000 {built-in method now}\n",
      "      242    0.000    0.000    0.000    0.000 internals.py:2623(ndim)\n",
      "       20    0.000    0.000    0.000    0.000 session.py:211(extract_header)\n",
      "      106    0.000    0.000    0.002    0.000 atom.py:668(__init__)\n",
      "        6    0.000    0.000    0.000    0.000 {method '_g_list_group' of 'tables.hdf5extension.Group' objects}\n",
      "      381    0.000    0.000    0.000    0.000 {method 'iteritems' of 'dict' objects}\n",
      "      121    0.000    0.000    0.000    0.000 internals.py:3276(_consolidate_inplace)\n",
      "       40    0.000    0.000    0.000    0.000 threading.py:187(release)\n",
      "      250    0.000    0.000    0.001    0.000 series.py:371(get_values)\n",
      "       20    0.000    0.000    0.008    0.000 __init__.py:830(flush)\n",
      "       22    0.000    0.000    0.001    0.000 atom.py:609(__init__)\n",
      "       80    0.000    0.000    0.003    0.000 session.py:94(<lambda>)\n",
      "       21    0.000    0.000    0.001    0.000 iostream.py:123(_flush_from_subprocesses)\n",
      "      245    0.000    0.000    0.000    0.000 internals.py:4140(<lambda>)\n",
      "      262    0.000    0.000    0.000    0.000 {method 'upper' of 'str' objects}\n",
      "       34    0.000    0.000    0.000    0.000 {_codecs.utf_8_decode}\n",
      "       10    0.000    0.000    0.000    0.000 __init__.py:1225(findCaller)\n",
      "       60    0.000    0.000    0.000    0.000 {method 'encode' of 'unicode' objects}\n",
      "      120    0.000    0.000    0.000    0.000 _methods.py:25(_amax)\n",
      "      121    0.000    0.000    0.000    0.000 {sum}\n",
      "       20    0.000    0.000    0.001    0.000 session.py:504(msg_header)\n",
      "       24    0.000    0.000    0.000    0.000 node.py:439(_g_del_location)\n",
      "       43    0.000    0.000    0.001    0.000 group.py:394(_g_check_has_child)\n",
      "       10    0.000    0.000    0.000    0.000 table.py:3343(_g_close)\n",
      "       45    0.000    0.000    0.000    0.000 atom.py:483(<lambda>)\n",
      "       26    0.000    0.000    0.001    0.000 node.py:482(_f_close)\n",
      "      144    0.000    0.000    0.000    0.000 table.py:3222(_g_col)\n",
      "      242    0.000    0.000    0.000    0.000 internals.py:264(shape)\n",
      "      250    0.000    0.000    0.000    0.000 common.py:73(isnull)\n",
      "      100    0.000    0.000    0.000    0.000 {method 'update' of '_hashlib.HASH' objects}\n",
      "       10    0.000    0.000    0.000    0.000 table.py:3161(__init__)\n",
      "       27    0.000    0.000    0.000    0.000 inspect.py:804(getargspec)\n",
      "        7    0.000    0.000    0.000    0.000 leaf.py:320(_calc_chunkshape)\n",
      "       20    0.000    0.000    0.000    0.000 flavor.py:366(conv_to_numpy)\n",
      "       50    0.000    0.000    0.002    0.000 atom.py:382(from_type)\n",
      "        8    0.000    0.000    0.007    0.001 file.py:499(_close_nodes)\n",
      "      242    0.000    0.000    0.000    0.000 {pandas.algos.ensure_object}\n",
      "      250    0.000    0.000    0.000    0.000 {pandas.lib.checknull}\n",
      "       40    0.000    0.000    0.000    0.000 __init__.py:702(release)\n",
      "       20    0.000    0.000    0.000    0.000 hmac.py:88(copy)\n",
      "       20    0.000    0.000    0.001    0.000 session.py:452(msg_id)\n",
      "        7    0.000    0.000    0.000    0.000 {posix.access}\n",
      "       34    0.000    0.000    0.000    0.000 {method 'decode' of 'str' objects}\n",
      "       18    0.000    0.000    0.000    0.000 file.py:1561(get_node)\n",
      "        6    0.000    0.000    0.000    0.000 group.py:346(_g_add_children_names)\n",
      "       20    0.000    0.000    0.000    0.000 __init__.py:452(format)\n",
      "       40    0.000    0.000    0.000    0.000 __init__.py:695(acquire)\n",
      "        4    0.000    0.000    0.381    0.095 leaf.py:428(_g_copy)\n",
      "       20    0.000    0.000    0.000    0.000 uuid.py:199(__str__)\n",
      "       72    0.000    0.000    0.000    0.000 table.py:3487(__init__)\n",
      "      750    0.000    0.000    0.000    0.000 {hash}\n",
      "       17    0.000    0.000    0.000    0.000 group.py:426(__contains__)\n",
      "      443    0.000    0.000    0.000    0.000 {method 'get' of 'dict' objects}\n",
      "       24    0.000    0.000    0.000    0.000 weakref.py:105(__setitem__)\n",
      "       16    0.000    0.000    0.001    0.000 {method '_flush_buffered_rows' of 'tables.tableextension.Row' objects}\n",
      "       20    0.000    0.000    0.000    0.000 flavor.py:181(flavor_of)\n",
      "       10    0.000    0.000    0.000    0.000 table.py:950(_calc_nrowsinbuf)\n",
      "       29    0.000    0.000    0.000    0.000 path.py:122(join_path)\n",
      "       22    0.000    0.000    0.000    0.000 {method '_g_list_attr' of 'tables.hdf5extension.AttributeSet' objects}\n",
      "       20    0.000    0.000    0.010    0.000 __init__.py:738(handle)\n",
      "       20    0.000    0.000    0.000    0.000 table.py:1007(_get_type_col_names)\n",
      "       76    0.000    0.000    0.000    0.000 iostream.py:93(_is_master_process)\n",
      "       10    0.000    0.000    0.003    0.000 group.py:240(_g_post_init_hook)\n",
      "      120    0.000    0.000    0.000    0.000 base.py:430(dtype)\n",
      "       20    0.000    0.000    0.001    0.000 uuid.py:582(uuid4)\n",
      "      500    0.000    0.000    0.000    0.000 {pandas.lib.is_float}\n",
      "       20    0.000    0.000    0.000    0.000 flavor.py:355(_is_numpy)\n",
      "      282    0.000    0.000    0.000    0.000 {method 'extend' of 'list' objects}\n",
      "       10    0.000    0.000    0.010    0.001 __init__.py:1312(callHandlers)\n",
      "       10    0.000    0.000    0.011    0.001 __init__.py:1149(info)\n",
      "      120    0.000    0.000    0.000    0.000 FEParam.py:71(spe_i_to_v)\n",
      "       22    0.000    0.000    0.381    0.017 leaf.py:721(flush)\n",
      "        4    0.000    0.000    0.372    0.093 table.py:2904(_g_copy_rows_optim)\n",
      "      122    0.000    0.000    0.000    0.000 range.py:139(_validate_dtype)\n",
      "       89    0.000    0.000    0.000    0.000 {method 'rfind' of 'str' objects}\n",
      "       21    0.000    0.000    0.000    0.000 iostream.py:238(_flush_buffer)\n",
      "        4    0.000    0.000    0.005    0.001 table.py:1083(_g_open)\n",
      "       27    0.000    0.000    0.001    0.000 description.py:196(__init__)\n",
      "       10    0.000    0.000    0.011    0.001 __init__.py:1259(_log)\n",
      "        6    0.000    0.000    0.000    0.000 description.py:579(_g_set_nested_names_descr)\n",
      "      500    0.000    0.000    0.000    0.000 {callable}\n",
      "       21    0.000    0.000    0.000    0.000 poll.py:77(poll)\n",
      "       10    0.000    0.000    0.000    0.000 table.py:633(_v_wdflts)\n",
      "        4    0.000    0.000    0.380    0.095 table.py:2942(_g_copy_with_stats)\n",
      "       34    0.000    0.000    0.000    0.000 {method 'write' of '_io.StringIO' objects}\n",
      "      120    0.000    0.000    0.000    0.000 FEParam.py:74(spe_i_to_adc)\n",
      "       55    0.000    0.000    0.000    0.000 iostream.py:102(_check_mp_mode)\n",
      "       33    0.000    0.000    0.000    0.000 file.py:2147(_check_writable)\n",
      "       21    0.000    0.000    0.000    0.000 iostream.py:96(_is_master_thread)\n",
      "      121    0.000    0.000    0.000    0.000 internals.py:2996(is_consolidated)\n",
      "      250    0.000    0.000    0.000    0.000 internals.py:129(internal_values)\n",
      "       20    0.000    0.000    0.000    0.000 flavor.py:111(array_of_flavor2)\n",
      "    14/10    0.000    0.000    0.007    0.001 group.py:1174(_g_load_child)\n",
      "       22    0.000    0.000    0.004    0.000 node.py:166(_v_attrs)\n",
      "      120    0.000    0.000    0.000    0.000 {method 'keys' of 'dict' objects}\n",
      "        2    0.000    0.000    0.007    0.004 file.py:530(close_subtree)\n",
      "      121    0.000    0.000    0.000    0.000 base.py:938(is_unique)\n",
      "      156    0.000    0.000    0.000    0.000 {method 'split' of 'str' objects}\n",
      "       26    0.000    0.000    0.000    0.000 proxydict.py:42(__setitem__)\n",
      "        4    0.000    0.000    0.381    0.095 node.py:745(_f_copy)\n",
      "       20    0.000    0.000    0.000    0.000 {method 'isoformat' of 'datetime.datetime' objects}\n",
      "        8    0.000    0.000    0.004    0.000 group.py:207(__init__)\n",
      "       13    0.000    0.000    0.000    0.000 node.py:883(_g_check_name)\n",
      "       26    0.000    0.000    0.000    0.000 weakref.py:199(pop)\n",
      "       82    0.000    0.000    0.000    0.000 atom.py:585(<genexpr>)\n",
      "        6    0.000    0.000    0.000    0.000 filters.py:245(_pack)\n",
      "       10    0.000    0.000    0.000    0.000 {method '_g_close_group' of 'tables.hdf5extension.Group' objects}\n",
      "      250    0.000    0.000    0.000    0.000 numeric.py:126(is_all_dates)\n",
      "       20    0.000    0.000    0.000    0.000 session.py:206(msg_header)\n",
      "        5    0.000    0.000    0.000    0.000 {method '_g_open' of 'tables.hdf5extension.Group' objects}\n",
      "       14    0.000    0.000    0.020    0.001 leaf.py:231(__init__)\n",
      "      122    0.000    0.000    0.000    0.000 {pandas.lib.is_integer}\n",
      "       94    0.000    0.000    0.000    0.000 {method 'endswith' of 'str' objects}\n",
      "        4    0.000    0.000    0.001    0.000 carray.py:133(__init__)\n",
      "       14    0.000    0.000    0.000    0.000 leaf.py:297(_g_post_init_hook)\n",
      "        2    0.000    0.000    0.021    0.011 file.py:2703(close)\n",
      "       18    0.000    0.000    0.008    0.000 group.py:825(__getattr__)\n",
      "      121    0.000    0.000    0.000    0.000 {method 'append' of 'tables.tableextension.Row' objects}\n",
      "        4    0.000    0.000    0.000    0.000 filters.py:161(_from_leaf)\n",
      "       14    0.000    0.000    0.006    0.000 leaf.py:733(_f_close)\n",
      "       21    0.000    0.000    0.000    0.000 iostream.py:247(_new_buffer)\n",
      "       60    0.000    0.000    0.000    0.000 {method 'copy' of '_hashlib.HASH' objects}\n",
      "       80    0.000    0.000    0.000    0.000 hmac.py:83(update)\n",
      "      146    0.000    0.000    0.000    0.000 atom.py:502(<genexpr>)\n",
      "       19    0.000    0.000    0.000    0.000 node.py:157(_g_getparent)\n",
      "       20    0.000    0.000    0.001    0.000 flavor.py:199(array_of_flavor)\n",
      "       31    0.000    0.000    0.000    0.000 threading.py:1143(currentThread)\n",
      "       20    0.000    0.000    0.000    0.000 flavor.py:378(_conv_numpy_to_numpy)\n",
      "        1    0.000    0.000    0.000    0.000 <ipython-input-70-0054900304c1>:1(FEE_param_table)\n",
      "       10    0.000    0.000    0.001    0.000 __init__.py:1246(makeRecord)\n",
      "       34    0.000    0.000    0.000    0.000 utf_8.py:15(decode)\n",
      "       32    0.000    0.000    0.000    0.000 path.py:154(split_path)\n",
      "       12    0.000    0.000    0.008    0.001 group.py:697(_f_get_child)\n",
      "       11    0.000    0.000    0.001    0.000 table.py:2240(_save_buffered_rows)\n",
      "       10    0.000    0.000    0.000    0.000 table.py:1016(_get_enum_map)\n",
      "      120    0.000    0.000    0.000    0.000 {method 'remove' of 'list' objects}\n",
      "        7    0.000    0.000    0.000    0.000 filters.py:275(__init__)\n",
      "        1    0.000    0.000    0.003    0.003 parsers.py:416(parser_f)\n",
      "        2    0.000    0.000    0.000    0.000 file.py:364(__init__)\n",
      "      121    0.000    0.000    0.000    0.000 {thread.get_ident}\n",
      "      146    0.000    0.000    0.000    0.000 atom.py:136(<genexpr>)\n",
      "        3    0.000    0.000    0.000    0.000 {method '_g_get_gchild_attr' of 'tables.hdf5extension.Group' objects}\n",
      "       20    0.000    0.000    0.000    0.000 __init__.py:312(getMessage)\n",
      "       26    0.000    0.000    0.000    0.000 node.py:849(_g_check_group)\n",
      "      111    0.000    0.000    0.000    0.000 {method 'pop' of 'list' objects}\n",
      "       10    0.000    0.000    0.000    0.000 __init__.py:148(getLevelName)\n",
      "       12    0.000    0.000    0.000    0.000 group.py:906(_g_close)\n",
      "       33    0.000    0.000    0.000    0.000 file.py:2140(_iswritable)\n",
      "        2    0.000    0.000    0.000    0.000 group.py:1132(__init__)\n",
      "       10    0.000    0.000    0.002    0.000 table.py:3063(_f_close)\n",
      "        1    0.000    0.000    0.003    0.003 parsers.py:272(_read)\n",
      "       26    0.000    0.000    0.000    0.000 encoder.py:37(replace)\n",
      "       20    0.000    0.000    0.000    0.000 __init__.py:446(usesTime)\n",
      "       30    0.000    0.000    0.000    0.000 __init__.py:599(filter)\n",
      "        1    0.000    0.000    0.001    0.001 Configure.py:10(cdf_to_dict)\n",
      "       20    0.000    0.000    0.000    0.000 {locals}\n",
      "       24    0.000    0.000    0.000    0.000 weakref.py:277(__new__)\n",
      "        5    0.000    0.000    0.003    0.001 file.py:917(create_group)\n",
      "        1    0.000    0.000    0.000    0.000 {pandas.lib.clean_index_list}\n",
      "       47    0.000    0.000    0.000    0.000 {method 'update' of 'dict' objects}\n",
      "       10    0.000    0.000    0.010    0.001 __init__.py:1280(handle)\n",
      "       20    0.000    0.000    0.000    0.000 __init__.py:715(format)\n",
      "        4    0.000    0.000    0.000    0.000 {posix.stat}\n",
      "       24    0.000    0.000    0.000    0.000 weakref.py:282(__init__)\n",
      "       20    0.000    0.000    0.000    0.000 hmac.py:100(_current)\n",
      "       45    0.000    0.000    0.000    0.000 copy_reg.py:92(__newobj__)\n",
      "       80    0.000    0.000    0.000    0.000 threading.py:64(_note)\n",
      "        2    0.000    0.000    0.000    0.000 weakref.py:47(__init__)\n",
      "       72    0.000    0.000    0.000    0.000 table.py:3834(close)\n",
      "       27    0.000    0.000    0.000    0.000 atom.py:321(prefix)\n",
      "      102    0.000    0.000    0.000    0.000 {method 'isupper' of 'str' objects}\n",
      "       50    0.000    0.000    0.000    0.000 {divmod}\n",
      "       20    0.000    0.000    0.000    0.000 jsonutil.py:75(date_default)\n",
      "        7    0.000    0.000    0.000    0.000 leaf.py:50(calc_chunksize)\n",
      "       54    0.000    0.000    0.000    0.000 file.py:2128(_check_open)\n",
      "       36    0.000    0.000    0.000    0.000 proxydict.py:25(__init__)\n",
      "       20    0.000    0.000    0.000    0.000 {method 'digest' of '_hashlib.HASH' objects}\n",
      "        6    0.000    0.000    0.001    0.000 group.py:306(_g_get_child_leaf_class)\n",
      "        1    0.000    0.000    0.000    0.000 parsers.py:1312(read)\n",
      "       14    0.000    0.000    0.000    0.000 {method '_g_new' of 'tables.hdf5extension.Leaf' objects}\n",
      "        2    0.000    0.000    0.001    0.000 earray.py:155(_g_create)\n",
      "       50    0.000    0.000    0.000    0.000 {method 'groups' of '_sre.SRE_Match' objects}\n",
      "      108    0.000    0.000    0.000    0.000 {method 'pop' of 'dict' objects}\n",
      "        6    0.000    0.000    0.000    0.000 weakref.py:162(iterkeys)\n",
      "       10    0.000    0.000    0.000    0.000 posixpath.py:97(splitext)\n",
      "      5/2    0.000    0.000    0.000    0.000 utils.py:140(check_file_access)\n",
      "        1    0.000    0.000    0.000    0.000 parsers.py:653(_get_options_with_defaults)\n",
      "       24    0.000    0.000    0.000    0.000 file.py:447(drop_from_cache)\n",
      "        6    0.000    0.000    0.000    0.000 array.py:113(_getrowsize)\n",
      "        7    0.000    0.000    0.000    0.000 {print}\n",
      "      106    0.000    0.000    0.000    0.000 {posix.getpid}\n",
      "       15    0.000    0.000    0.000    0.000 {method '_open_append' of 'tables.tableextension.Table' objects}\n",
      "       27    0.000    0.000    0.000    0.000 inspect.py:67(ismethod)\n",
      "        6    0.000    0.000    0.000    0.000 internals.py:1657(__init__)\n",
      "       10    0.000    0.000    0.000    0.000 group.py:271(__del__)\n",
      "       20    0.000    0.000    0.000    0.000 {method 'acquire' of 'thread.lock' objects}\n",
      "       24    0.000    0.000    0.000    0.000 table.py:616(<lambda>)\n",
      "       10    0.000    0.000    0.000    0.000 posixpath.py:112(basename)\n",
      "       20    0.000    0.000    0.000    0.000 hmac.py:119(hexdigest)\n",
      "       10    0.000    0.000    0.000    0.000 __init__.py:70(<lambda>)\n",
      "       50    0.000    0.000    0.000    0.000 leaf.py:147(<lambda>)\n",
      "       44    0.000    0.000    0.000    0.000 {time.time}\n",
      "       20    0.000    0.000    0.000    0.000 {method 'hexdigest' of '_hashlib.HASH' objects}\n",
      "       17    0.000    0.000    0.000    0.000 file.py:2167(is_undo_enabled)\n",
      "        2    0.000    0.000    0.000    0.000 file.py:837(__get_root_group)\n",
      "       58    0.000    0.000    0.000    0.000 {method '__contains__' of 'frozenset' objects}\n",
      "       10    0.000    0.000    0.000    0.000 {sys._getframe}\n",
      "       21    0.000    0.000    0.000    0.000 threading.py:974(ident)\n",
      "        1    0.000    0.000    0.004    0.004 Configure.py:59(configure)\n",
      "        2    0.000    0.000    0.000    0.000 carray.py:223(_g_create_common)\n",
      "        4    0.000    0.000    0.381    0.095 table.py:2971(copy)\n",
      "       13    0.000    0.000    0.000    0.000 file.py:878(_get_or_create_path)\n",
      "       20    0.000    0.000    0.000    0.000 {method 'find' of 'str' objects}\n",
      "        2    0.000    0.000    0.006    0.003 file.py:956(create_table)\n",
      "       10    0.000    0.000    0.000    0.000 genericpath.py:93(_splitext)\n",
      "       10    0.000    0.000    0.000    0.000 threading.py:958(name)\n",
      "       23    0.000    0.000    0.000    0.000 atom.py:604(<lambda>)\n",
      "       21    0.000    0.000    0.000    0.000 {method 'close' of '_io.StringIO' objects}\n",
      "       20    0.000    0.000    0.000    0.000 {method 'count' of 'list' objects}\n",
      "        1    0.000    0.000    0.000    0.000 {eval}\n",
      "       27    0.000    0.000    0.000    0.000 inspect.py:209(iscode)\n",
      "        1    0.000    0.000    0.000    0.000 parsers.py:883(__init__)\n",
      "       14    0.000    0.000    0.000    0.000 {math.log10}\n",
      "        4    0.000    0.000    0.000    0.000 node.py:873(_g_maybe_remove)\n",
      "        1    0.000    0.000    0.000    0.000 parsers.py:683(_clean_options)\n",
      "       18    0.000    0.000    0.000    0.000 leaf.py:358(<genexpr>)\n",
      "        6    0.000    0.000    0.000    0.000 description.py:608(get_cols_in_order)\n",
      "        2    0.000    0.000    0.001    0.000 file.py:1256(create_earray)\n",
      "       10    0.000    0.000    0.000    0.000 process.py:161(name)\n",
      "       10    0.000    0.000    0.000    0.000 table.py:1001(_get_container)\n",
      "        5    0.000    0.000    0.000    0.000 file.py:2024(__contains__)\n",
      "        7    0.000    0.000    0.000    0.000 leaf.py:30(csformula)\n",
      "        4    0.000    0.000    0.001    0.000 earray.py:137(__init__)\n",
      "        1    0.000    0.000    0.002    0.002 parsers.py:810(read)\n",
      "        2    0.000    0.000    0.000    0.000 file.py:559(shutdown)\n",
      "       51    0.000    0.000    0.000    0.000 table.py:895(<genexpr>)\n",
      "        4    0.000    0.000    0.000    0.000 leaf.py:360(_calc_nrowsinbuf)\n",
      "        4    0.000    0.000    0.000    0.000 attributeset.py:591(_g_copy)\n",
      "        4    0.000    0.000    0.381    0.095 leaf.py:605(copy)\n",
      "       27    0.000    0.000    0.000    0.000 inspect.py:142(isfunction)\n",
      "       20    0.000    0.000    0.000    0.000 hmac.py:30(__init__)\n",
      "        1    0.000    0.000    0.000    0.000 parsers.py:603(__init__)\n",
      "       13    0.000    0.000    0.000    0.000 {method 'insert' of 'list' objects}\n",
      "        2    0.000    0.000    0.003    0.001 file.py:222(open_file)\n",
      "        2    0.000    0.000    0.000    0.000 parsers.py:1016(_maybe_make_multi_index_columns)\n",
      "        4    0.000    0.000    0.000    0.000 _weakrefset.py:26(__exit__)\n",
      "        4    0.000    0.000    0.000    0.000 leaf.py:408(_process_range_read)\n",
      "        3    0.000    0.000    0.000    0.000 group.py:288(_g_get_child_group_class)\n",
      "       13    0.000    0.000    0.000    0.000 path.py:179(isvisiblename)\n",
      "        1    0.000    0.000    0.000    0.000 getopt.py:51(getopt)\n",
      "        2    0.000    0.000    0.000    0.000 genericpath.py:34(isfile)\n",
      "        4    0.000    0.000    0.000    0.000 leaf.py:174(filters)\n",
      "        1    0.000    0.000    0.000    0.000 {tables.utilsextension.read_f_attr}\n",
      "       20    0.000    0.000    0.000    0.000 {method 'release' of 'thread.lock' objects}\n",
      "       26    0.000    0.000    0.000    0.000 {method 'group' of '_sre.SRE_Match' objects}\n",
      "        2    0.000    0.000    0.007    0.004 group.py:898(_g_close_descendents)\n",
      "        4    0.000    0.000    0.000    0.000 table.py:115(_index_pathname_of)\n",
      "        2    0.000    0.000    0.000    0.000 urlparse.py:137(urlparse)\n",
      "       10    0.000    0.000    0.000    0.000 utils.py:393(__init__)\n",
      "        1    0.000    0.000    0.000    0.000 parsers.py:797(_make_engine)\n",
      "       21    0.000    0.000    0.000    0.000 {method 'getvalue' of '_io.StringIO' objects}\n",
      "        4    0.000    0.000    0.000    0.000 node.py:180(_g_gettitle)\n",
      "        2    0.000    0.000    0.000    0.000 getopt.py:202(short_has_arg)\n",
      "        2    0.000    0.000    0.000    0.000 file.py:108(add)\n",
      "       11    0.000    0.000    0.000    0.000 frame.py:321(<genexpr>)\n",
      "        2    0.000    0.000    0.007    0.004 group.py:917(_f_close)\n",
      "       18    0.000    0.000    0.000    0.000 {method 'count' of 'str' objects}\n",
      "       22    0.000    0.000    0.000    0.000 {method 'copy' of 'dict' objects}\n",
      "       13    0.000    0.000    0.000    0.000 leaf.py:188(_getmaindim)\n",
      "        8    0.000    0.000    0.000    0.000 table.py:870(<genexpr>)\n",
      "       45    0.000    0.000    0.000    0.000 description.py:612(join_paths)\n",
      "       20    0.000    0.000    0.000    0.000 py3compat.py:12(no_code)\n",
      "        2    0.000    0.000    0.000    0.000 file.py:112(remove)\n",
      "       10    0.000    0.000    0.000    0.000 file.py:177(_checkfilters)\n",
      "        1    0.000    0.000    0.000    0.000 common.py:290(get_filepath_or_buffer)\n",
      "       10    0.000    0.000    0.000    0.000 process.py:59(current_process)\n",
      "        2    0.000    0.000    0.000    0.000 {tables.utilsextension.which_lib_version}\n",
      "        2    0.000    0.000    0.000    0.000 array.py:233(_g_open)\n",
      "        2    0.000    0.000    0.021    0.011 file.py:2760(__exit__)\n",
      "        8    0.000    0.000    0.000    0.000 {method 'index' of 'list' objects}\n",
      "       11    0.000    0.000    0.000    0.000 parsers.py:1384(<genexpr>)\n",
      "       14    0.000    0.000    0.000    0.000 node.py:463(_g_post_init_hook)\n",
      "       10    0.000    0.000    0.000    0.000 {method '_g_new' of 'tables.hdf5extension.Node' objects}\n",
      "        2    0.000    0.000    0.000    0.000 file.py:120(get_handlers_by_name)\n",
      "        4    0.000    0.000    0.372    0.093 table.py:2876(_g_copy_rows)\n",
      "        1    0.000    0.000    0.000    0.000 parsers.py:1182(_do_date_conversions)\n",
      "        2    0.000    0.000    0.000    0.000 genericpath.py:23(exists)\n",
      "        2    0.000    0.000    0.000    0.000 UserDict.py:4(__init__)\n",
      "        1    0.000    0.000    0.000    0.000 parsers.py:2293(_process_date_conversion)\n",
      "        8    0.000    0.000    0.000    0.000 atom.py:480(<lambda>)\n",
      "       22    0.000    0.000    0.000    0.000 {method '_g_new' of 'tables.hdf5extension.AttributeSet' objects}\n",
      "        7    0.000    0.000    0.000    0.000 leaf.py:40(limit_es)\n",
      "        2    0.000    0.000    0.000    0.000 getopt.py:187(do_shorts)\n",
      "        4    0.000    0.000    0.000    0.000 table.py:627(_v_iobuf)\n",
      "        4    0.000    0.000    0.000    0.000 table.py:109(_index_name_of)\n",
      "        1    0.000    0.000    0.000    0.000 parsers.py:1280(_set_noconvert_columns)\n",
      "        2    0.000    0.000    0.000    0.000 <string>:8(__new__)\n",
      "        4    0.000    0.000    0.000    0.000 _weakrefset.py:16(__init__)\n",
      "        1    0.000    0.000    0.000    0.000 parsers.py:860(_validate_parse_dates_arg)\n",
      "        1    0.000    0.000    0.000    0.000 parsers.py:1024(_make_index)\n",
      "       45    0.000    0.000    0.000    0.000 {id}\n",
      "        4    0.000    0.000    0.000    0.000 _weakrefset.py:20(__enter__)\n",
      "       10    0.000    0.000    0.000    0.000 table.py:612(<lambda>)\n",
      "        4    0.000    0.000    0.000    0.000 attributeset.py:265(_f_list)\n",
      "        2    0.000    0.000    0.000    0.000 base.py:1186(__iter__)\n",
      "       10    0.000    0.000    0.000    0.000 posixpath.py:44(normcase)\n",
      "        2    0.000    0.000    0.000    0.000 stat.py:49(S_ISREG)\n",
      "        8    0.000    0.000    0.000    0.000 carray.py:192(<genexpr>)\n",
      "        1    0.000    0.000    0.000    0.000 common.py:186(_is_url)\n",
      "       22    0.000    0.000    0.000    0.000 attributeset.py:651(_g_close)\n",
      "       24    0.000    0.000    0.000    0.000 node.py:293(__del__)\n",
      "        8    0.000    0.000    0.000    0.000 {method 'remove' of 'set' objects}\n",
      "        8    0.000    0.000    0.000    0.000 {method 'add' of 'set' objects}\n",
      "        2    0.000    0.000    0.000    0.000 utils.py:61(set_vml_num_threads)\n",
      "        1    0.000    0.000    0.000    0.000 posixpath.py:251(expanduser)\n",
      "        2    0.000    0.000    0.000    0.000 urlparse.py:168(urlsplit)\n",
      "       10    0.000    0.000    0.000    0.000 {method 'itervalues' of 'dict' objects}\n",
      "        2    0.000    0.000    0.000    0.000 stat.py:24(S_IFMT)\n",
      "        2    0.000    0.000    0.000    0.000 group.py:180(_g_getfilters)\n",
      "        4    0.000    0.000    0.000    0.000 {method 'iterkeys' of 'dict' objects}\n",
      "        1    0.000    0.000    0.000    0.000 internals.py:4122(_simple_blockify)\n",
      "        4    0.000    0.000    0.000    0.000 utils.py:40(correct_byteorder)\n",
      "        4    0.000    0.000    0.000    0.000 UserDict.py:34(__len__)\n",
      "        1    0.000    0.000    0.000    0.000 parsers.py:941(_has_complex_date_col)\n",
      "        2    0.000    0.000    0.000    0.000 file.py:2755(__enter__)\n",
      "        4    0.000    0.000    0.000    0.000 weakref.py:68(_commit_removals)\n",
      "        1    0.000    0.000    0.000    0.000 __init__.py:177(_checkLevel)\n",
      "        1    0.000    0.000    0.000    0.000 generic.py:813(keys)\n",
      "        1    0.000    0.000    0.000    0.000 parsers.py:843(_validate_usecols_arg)\n",
      "        1    0.000    0.000    0.000    0.000 parsers.py:2255(_make_date_converter)\n",
      "        1    0.000    0.000    0.000    0.000 common.py:245(_expand_user)\n",
      "        1    0.000    0.000    0.000    0.000 parsers.py:2376(_clean_na_values)\n",
      "        1    0.000    0.000    0.000    0.000 __init__.py:1131(setLevel)\n",
      "        2    0.000    0.000    0.000    0.000 {all}\n",
      "        1    0.000    0.000    0.000    0.000 {method 'items' of 'dict' objects}\n",
      "        2    0.000    0.000    0.000    0.000 {method 'values' of 'dict' objects}\n",
      "        2    0.000    0.000    0.000    0.000 {method '_get_file_id' of 'tables.hdf5extension.File' objects}\n",
      "        2    0.000    0.000    0.000    0.000 {iter}\n",
      "        1    0.000    0.000    0.000    0.000 common.py:204(_is_s3_url)\n",
      "        1    0.000    0.000    0.000    0.000 common.py:263(_validate_header_arg)\n",
      "        1    0.000    0.000    0.000    0.000 {pandas.lib.is_bool}\n",
      "        3    0.000    0.000    0.000    0.000 parsers.py:839(_is_index_col)\n",
      "        1    0.000    0.000    0.000    0.000 common.py:271(_stringify_path)\n",
      "        1    0.000    0.000    0.000    0.000 parsers.py:829(_create_index)\n",
      "        1    0.000    0.000    0.000    0.000 {method 'disable' of '_lsprof.Profiler' objects}\n",
      "\n",
      "\n"
     ]
    }
   ],
   "source": [
    "cProfile.run(\"DIOMIRA_cy(['DIOMIRA','-d','INFO','-c','../../Config/DIOMIRA_NA_ZLIB_test.csv'])\", sort='time')"
   ]
  },
  {
   "cell_type": "markdown",
   "metadata": {},
   "source": [
    "#### Diomira (python only)"
   ]
  },
  {
   "cell_type": "raw",
   "metadata": {},
   "source": [
    "  Leaving Diomira. Safe travels!\n",
    "         972339 function calls (968589 primitive calls) in 28.915 seconds\n",
    "\n",
    "   Ordered by: internal time\n",
    "       10    1.126    0.113   12.545    1.254 <ipython-input-70-0054900304c1>:77(twf_signal)\n",
    "      120    0.775    0.006    7.059    0.059 FEE2.py:156(FEESignal)\n",
    "       10    0.774    0.077   13.865    1.386 <ipython-input-70-0054900304c1>:112(simulate_pmt_response)"
   ]
  },
  {
   "cell_type": "markdown",
   "metadata": {
    "collapsed": true
   },
   "source": [
    "#### Diomira_cy (cython inner loop)"
   ]
  },
  {
   "cell_type": "raw",
   "metadata": {},
   "source": [
    "Leaving Diomira. Safe travels!\n",
    "         838158 function calls (836928 primitive calls) in 24.960 seconds\n",
    "         10    1.287    0.129    8.874    0.887 <ipython-input-156-0447d7915525>:1(twf_signal_py2cy)"
   ]
  },
  {
   "cell_type": "markdown",
   "metadata": {},
   "source": [
    "### Profile!"
   ]
  },
  {
   "cell_type": "code",
   "execution_count": 161,
   "metadata": {
    "collapsed": true
   },
   "outputs": [],
   "source": [
    "def twf_signal_py(event_number,pmtrd, stride):\n",
    "    \"\"\"\n",
    "    py2cy --> python calls cython\n",
    "    1) takes pmtrd\n",
    "    2) Performs ZS\n",
    "    3) Rebins resulting wf according to stride\n",
    "    \"\"\"\n",
    "    \n",
    "    rdata = []\n",
    "\n",
    "    for j in range(pmtrd.shape[1]):\n",
    "        logger.debug(\"-->PMT number ={}\".format(j))\n",
    "                \n",
    "        energy_pes = np.zeros(pmtrd.shape[2], dtype=np.int32)\n",
    "        energy_pes[:] = pmtrd[event_number, j]\n",
    "        time_ns = np.array(range(pmtrd.shape[2]), dtype=np.float32)\n",
    "        \n",
    "        ene_rb, t_rb = wfm_zs_and_rb(energy_pes, time_ns, int(stride))\n",
    "        twf = wf2df(t_rb, ene_rb)\n",
    "        \n",
    "        rdata.append(twf)\n",
    "    return rdata"
   ]
  },
  {
   "cell_type": "code",
   "execution_count": 162,
   "metadata": {
    "collapsed": true
   },
   "outputs": [],
   "source": [
    "h5f =tables.open_file('/Users/jjgomezcadenas/Documents/Development/NEXT/data/test/nexus_NEW_NEXT_v0_08_00_Kr_ACTIVE_5bar_1000kev_0.next_10000.root.h5')"
   ]
  },
  {
   "cell_type": "code",
   "execution_count": 163,
   "metadata": {
    "collapsed": false
   },
   "outputs": [
    {
     "data": {
      "text/plain": [
       "File(filename=/Users/jjgomezcadenas/Documents/Development/NEXT/data/test/nexus_NEW_NEXT_v0_08_00_Kr_ACTIVE_5bar_1000kev_0.next_10000.root.h5, title='', mode='r', root_uep='/', filters=Filters(complevel=0, shuffle=False, fletcher32=False, least_significant_digit=None))\n",
       "/ (RootGroup) ''\n",
       "/pmtrd (EArray(1000, 12, 1200000), zlib(1)) ''\n",
       "  atom := Float32Atom(shape=(), dflt=0.0)\n",
       "  maindim := 0\n",
       "  flavor := 'numpy'\n",
       "  byteorder := 'little'\n",
       "  chunkshape := (1, 1, 32768)\n",
       "/sipmrd (EArray(1000, 1789, 1200), zlib(1)) ''\n",
       "  atom := Float32Atom(shape=(), dflt=0.0)\n",
       "  maindim := 0\n",
       "  flavor := 'numpy'\n",
       "  byteorder := 'little'\n",
       "  chunkshape := (1, 50, 1200)\n",
       "/Detector (Group) ''\n",
       "/Detector/DetectorGeometry (Table(1,)) ''\n",
       "  description := {\n",
       "  \"x_det\": Float32Col(shape=(2,), dflt=0.0, pos=0),\n",
       "  \"y_det\": Float32Col(shape=(2,), dflt=0.0, pos=1),\n",
       "  \"z_det\": Float32Col(shape=(2,), dflt=0.0, pos=2),\n",
       "  \"r_det\": Float32Col(shape=(), dflt=0.0, pos=3)}\n",
       "  byteorder := 'little'\n",
       "  chunkshape := (2340,)\n",
       "/MC (Group) ''\n",
       "/MC/MCTracks (Table(8159,), zlib(1)) ''\n",
       "  description := {\n",
       "  \"event_indx\": Int32Col(shape=(), dflt=0, pos=0),\n",
       "  \"mctrk_indx\": Int32Col(shape=(), dflt=0, pos=1),\n",
       "  \"particle_name\": StringCol(itemsize=10, shape=(), dflt='', pos=2),\n",
       "  \"pdg_code\": Int32Col(shape=(), dflt=0, pos=3),\n",
       "  \"initial_vertex\": Float32Col(shape=(3,), dflt=0.0, pos=4),\n",
       "  \"final_vertex\": Float32Col(shape=(3,), dflt=0.0, pos=5),\n",
       "  \"momentum\": Float32Col(shape=(3,), dflt=0.0, pos=6),\n",
       "  \"energy\": Float32Col(shape=(), dflt=0.0, pos=7),\n",
       "  \"nof_hits\": Int32Col(shape=(), dflt=0, pos=8),\n",
       "  \"hit_indx\": Int32Col(shape=(), dflt=0, pos=9),\n",
       "  \"hit_position\": Float32Col(shape=(3,), dflt=0.0, pos=10),\n",
       "  \"hit_time\": Float32Col(shape=(), dflt=0.0, pos=11),\n",
       "  \"hit_energy\": Float32Col(shape=(), dflt=0.0, pos=12)}\n",
       "  byteorder := 'little'\n",
       "  chunkshape := (1,)\n",
       "/Sensors (Group) ''\n",
       "/Sensors/DataPMT (Table(12,)) ''\n",
       "  description := {\n",
       "  \"channel\": Int32Col(shape=(), dflt=0, pos=0),\n",
       "  \"active\": Int32Col(shape=(), dflt=0, pos=1),\n",
       "  \"position\": Float32Col(shape=(3,), dflt=0.0, pos=2),\n",
       "  \"gain\": Float64Col(shape=(), dflt=0.0, pos=3),\n",
       "  \"adc_to_pes\": Float32Col(shape=(), dflt=0.0, pos=4)}\n",
       "  byteorder := 'little'\n",
       "  chunkshape := (2048,)\n",
       "/Sensors/DataSiPM (Table(1789,)) ''\n",
       "  description := {\n",
       "  \"channel\": Int32Col(shape=(), dflt=0, pos=0),\n",
       "  \"active\": Int32Col(shape=(), dflt=0, pos=1),\n",
       "  \"position\": Float32Col(shape=(3,), dflt=0.0, pos=2),\n",
       "  \"gain\": Float64Col(shape=(), dflt=0.0, pos=3),\n",
       "  \"adc_to_pes\": Float32Col(shape=(), dflt=0.0, pos=4)}\n",
       "  byteorder := 'little'\n",
       "  chunkshape := (2048,)"
      ]
     },
     "execution_count": 163,
     "metadata": {},
     "output_type": "execute_result"
    }
   ],
   "source": [
    "h5f"
   ]
  },
  {
   "cell_type": "code",
   "execution_count": 164,
   "metadata": {
    "collapsed": true
   },
   "outputs": [],
   "source": [
    "pmtrd = h5f.root.pmtrd"
   ]
  },
  {
   "cell_type": "code",
   "execution_count": 166,
   "metadata": {
    "collapsed": false
   },
   "outputs": [],
   "source": [
    "rdata = twf_signal_py(0,pmtrd, 1000)"
   ]
  },
  {
   "cell_type": "code",
   "execution_count": 168,
   "metadata": {
    "collapsed": false
   },
   "outputs": [
    {
     "data": {
      "text/plain": [
       "list"
      ]
     },
     "execution_count": 168,
     "metadata": {},
     "output_type": "execute_result"
    }
   ],
   "source": [
    "type(rdata)"
   ]
  },
  {
   "cell_type": "code",
   "execution_count": 169,
   "metadata": {
    "collapsed": false
   },
   "outputs": [
    {
     "name": "stdout",
     "output_type": "stream",
     "text": [
      "         6256 function calls (6184 primitive calls) in 0.899 seconds\n",
      "\n",
      "   Ordered by: internal time\n",
      "\n",
      "   ncalls  tottime  percall  cumtime  percall filename:lineno(function)\n",
      "      120    0.494    0.004    0.494    0.004 {numpy.core.multiarray.array}\n",
      "       13    0.179    0.014    0.179    0.014 {range}\n",
      "        1    0.129    0.129    0.897    0.897 <ipython-input-161-9e160c8802a8>:1(twf_signal_py)\n",
      "       12    0.054    0.005    0.054    0.005 {method '_g_read_slice' of 'tables.hdf5extension.Array' objects}\n",
      "       12    0.026    0.002    0.026    0.002 {_cython_magic_265197373be86ab28dfab2116c3624fc.wfm_zs_and_rb}\n",
      "       24    0.004    0.000    0.004    0.000 {numpy.core.multiarray.zeros}\n",
      "        1    0.001    0.001    0.899    0.899 <string>:1(<module>)\n",
      "    36/24    0.001    0.000    0.003    0.000 base.py:124(__new__)\n",
      "       96    0.001    0.000    0.001    0.000 {numpy.core.multiarray.empty}\n",
      "     1296    0.001    0.000    0.001    0.000 {isinstance}\n",
      "       12    0.001    0.000    0.001    0.000 array.py:370(_interpret_indexing)\n",
      "       12    0.000    0.000    0.003    0.000 internals.py:4007(form_blocks)\n",
      "      264    0.000    0.000    0.000    0.000 {hasattr}\n",
      "       36    0.000    0.000    0.000    0.000 {pandas.lib.infer_dtype}\n",
      "       12    0.000    0.000    0.001    0.000 internals.py:2674(_rebuild_blknos_and_blklocs)\n",
      "      132    0.000    0.000    0.001    0.000 dtypes.py:74(is_dtype)\n",
      "       36    0.000    0.000    0.001    0.000 common.py:1380(_asarray_tuplesafe)\n",
      "       12    0.000    0.000    0.056    0.005 array.py:627(__getitem__)\n",
      "  672/612    0.000    0.000    0.000    0.000 {len}\n",
      "       12    0.000    0.000    0.001    0.000 frame.py:5244(extract_index)\n",
      "       24    0.000    0.000    0.001    0.000 internals.py:4136(_multi_blockify)\n",
      "       24    0.000    0.000    0.000    0.000 numeric.py:607(require)\n",
      "       12    0.000    0.000    0.010    0.001 <ipython-input-70-0054900304c1>:23(wf2df)\n",
      "       24    0.000    0.000    0.000    0.000 internals.py:4168(_stack_arrays)\n",
      "      264    0.000    0.000    0.000    0.000 {getattr}\n",
      "       12    0.000    0.000    0.009    0.001 frame.py:307(_init_dict)\n",
      "       24    0.000    0.000    0.001    0.000 series.py:2787(_sanitize_array)\n",
      "       12    0.000    0.000    0.009    0.001 frame.py:210(__init__)\n",
      "       12    0.000    0.000    0.055    0.005 array.py:758(_read_slice)\n",
      "       12    0.000    0.000    0.000    0.000 common.py:1011(_possibly_cast_to_datetime)\n",
      "       12    0.000    0.000    0.001    0.000 frame.py:5521(_homogenize)\n",
      "       12    0.000    0.000    0.000    0.000 {pandas.lib.list_to_object_array}\n",
      "      228    0.000    0.000    0.000    0.000 generic.py:7(_check)\n",
      "       12    0.000    0.000    0.007    0.001 frame.py:5224(_arrays_to_mgr)\n",
      "       24    0.000    0.000    0.000    0.000 base.py:309(_simple_new)\n",
      "       12    0.000    0.000    0.000    0.000 {method 'reduce' of 'numpy.ufunc' objects}\n",
      "       84    0.000    0.000    0.001    0.000 common.py:1736(is_categorical_dtype)\n",
      "       24    0.000    0.000    0.001    0.000 internals.py:2482(make_block)\n",
      "       12    0.000    0.000    0.000    0.000 common.py:1111(_possibly_infer_to_datetimelike)\n",
      "       24    0.000    0.000    0.000    0.000 internals.py:191(mgr_locs)\n",
      "       36    0.000    0.000    0.000    0.000 internals.py:2619(shape)\n",
      "       12    0.000    0.000    0.001    0.000 internals.py:2578(__init__)\n",
      "       12    0.000    0.000    0.000    0.000 common.py:272(array_equivalent)\n",
      "       24    0.000    0.000    0.001    0.000 internals.py:77(__init__)\n",
      "       36    0.000    0.000    0.000    0.000 {numpy.core.multiarray.arange}\n",
      "       12    0.000    0.000    0.000    0.000 range.py:117(_simple_new)\n",
      "       24    0.000    0.000    0.000    0.000 leaf.py:390(_process_range)\n",
      "       36    0.000    0.000    0.000    0.000 common.py:1511(_get_dtype_type)\n",
      "       12    0.000    0.000    0.005    0.000 internals.py:3996(create_block_manager_from_arrays)\n",
      "       12    0.000    0.000    0.000    0.000 internals.py:2799(_verify_integrity)\n",
      "       60    0.000    0.000    0.000    0.000 range.py:435(__len__)\n",
      "       36    0.000    0.000    0.000    0.000 __init__.py:157(iteritems)\n",
      "       48    0.000    0.000    0.000    0.000 dtypes.py:122(construct_from_string)\n",
      "       24    0.000    0.000    0.001    0.000 series.py:2804(_try_cast)\n",
      "       48    0.000    0.000    0.000    0.000 common.py:1710(is_datetimetz)\n",
      "      336    0.000    0.000    0.000    0.000 {issubclass}\n",
      "       12    0.000    0.000    0.000    0.000 range.py:42(__new__)\n",
      "       12    0.000    0.000    0.000    0.000 common.py:1226(_default_index)\n",
      "       60    0.000    0.000    0.000    0.000 numeric.py:414(asarray)\n",
      "       24    0.000    0.000    0.000    0.000 base.py:1247(__getitem__)\n",
      "       24    0.000    0.000    0.000    0.000 common.py:986(_possibly_castable)\n",
      "       24    0.000    0.000    0.000    0.000 internals.py:276(ftype)\n",
      "       12    0.000    0.000    0.000    0.000 {pandas.lib.array_equivalent_object}\n",
      "       12    0.000    0.000    0.000    0.000 base.py:1507(equals)\n",
      "       48    0.000    0.000    0.000    0.000 numeric.py:676(<genexpr>)\n",
      "       12    0.000    0.000    0.000    0.000 internals.py:3004(_consolidate_check)\n",
      "       36    0.000    0.000    0.000    0.000 common.py:1763(is_list_like)\n",
      "       12    0.000    0.000    0.000    0.000 node.py:342(_g_check_open)\n",
      "       12    0.000    0.000    0.000    0.000 leaf.py:211(<lambda>)\n",
      "       12    0.000    0.000    0.000    0.000 generic.py:94(__init__)\n",
      "       24    0.000    0.000    0.000    0.000 common.py:1696(is_bool_dtype)\n",
      "       36    0.000    0.000    0.000    0.000 base.py:403(_reset_identity)\n",
      "       36    0.000    0.000    0.000    0.000 base.py:440(values)\n",
      "       60    0.000    0.000    0.000    0.000 base.py:3381(_ensure_index)\n",
      "       12    0.000    0.000    0.000    0.000 common.py:1268(_try_sort)\n",
      "      120    0.000    0.000    0.000    0.000 {method 'append' of 'list' objects}\n",
      "       12    0.000    0.000    0.000    0.000 {sorted}\n",
      "       36    0.000    0.000    0.000    0.000 {pandas.lib.isscalar}\n",
      "       48    0.000    0.000    0.000    0.000 common.py:1575(is_datetime64tz_dtype)\n",
      "       12    0.000    0.000    0.000    0.000 common.py:1717(is_extension_type)\n",
      "       24    0.000    0.000    0.000    0.000 utils.py:49(is_idx)\n",
      "       24    0.000    0.000    0.000    0.000 {pandas.lib.values_from_object}\n",
      "       36    0.000    0.000    0.000    0.000 common.py:1705(is_sparse)\n",
      "       24    0.000    0.000    0.000    0.000 {method 'fill' of 'numpy.ndarray' objects}\n",
      "       24    0.000    0.000    0.000    0.000 internals.py:4171(_asarray_compat)\n",
      "       60    0.000    0.000    0.000    0.000 base.py:409(__len__)\n",
      "      108    0.000    0.000    0.000    0.000 internals.py:2621(<genexpr>)\n",
      "       36    0.000    0.000    0.000    0.000 {method 'view' of 'numpy.ndarray' objects}\n",
      "       60    0.000    0.000    0.000    0.000 {max}\n",
      "       12    0.000    0.000    0.000    0.000 __init__.py:1137(debug)\n",
      "       72    0.000    0.000    0.000    0.000 internals.py:160(mgr_locs)\n",
      "       24    0.000    0.000    0.000    0.000 internals.py:4177(_shape_compat)\n",
      "       36    0.000    0.000    0.000    0.000 internals.py:2801(<genexpr>)\n",
      "       12    0.000    0.000    0.000    0.000 {method 'format' of 'str' objects}\n",
      "       12    0.000    0.000    0.000    0.000 {method 'any' of 'numpy.ndarray' objects}\n",
      "       12    0.000    0.000    0.000    0.000 __init__.py:1338(getEffectiveLevel)\n",
      "       24    0.000    0.000    0.000    0.000 internals.py:2623(ndim)\n",
      "       12    0.000    0.000    0.000    0.000 _methods.py:37(_any)\n",
      "       24    0.000    0.000    0.000    0.000 range.py:58(_ensure_int)\n",
      "       12    0.000    0.000    0.000    0.000 common.py:1745(is_object_dtype)\n",
      "       36    0.000    0.000    0.000    0.000 {built-in method __new__ of type object at 0x109332c18}\n",
      "       12    0.000    0.000    0.000    0.000 __init__.py:1352(isEnabledFor)\n",
      "       12    0.000    0.000    0.000    0.000 common.py:1731(is_categorical)\n",
      "       24    0.000    0.000    0.000    0.000 {method 'indices' of 'slice' objects}\n",
      "       24    0.000    0.000    0.000    0.000 internals.py:264(shape)\n",
      "       12    0.000    0.000    0.000    0.000 internals.py:3276(_consolidate_inplace)\n",
      "       36    0.000    0.000    0.000    0.000 {method 'iteritems' of 'dict' objects}\n",
      "       24    0.000    0.000    0.000    0.000 {method 'upper' of 'str' objects}\n",
      "       24    0.000    0.000    0.000    0.000 base.py:445(get_values)\n",
      "       12    0.000    0.000    0.000    0.000 {min}\n",
      "       24    0.000    0.000    0.000    0.000 internals.py:4140(<lambda>)\n",
      "       12    0.000    0.000    0.000    0.000 {sum}\n",
      "       24    0.000    0.000    0.000    0.000 {pandas.algos.ensure_object}\n",
      "       12    0.000    0.000    0.000    0.000 base.py:383(is_)\n",
      "       24    0.000    0.000    0.000    0.000 {method 'extend' of 'list' objects}\n",
      "       12    0.000    0.000    0.000    0.000 internals.py:2996(is_consolidated)\n",
      "       12    0.000    0.000    0.000    0.000 base.py:430(dtype)\n",
      "       12    0.000    0.000    0.000    0.000 {method 'keys' of 'dict' objects}\n",
      "       24    0.000    0.000    0.000    0.000 internals.py:272(dtype)\n",
      "       24    0.000    0.000    0.000    0.000 {operator.index}\n",
      "       24    0.000    0.000    0.000    0.000 {method 'ravel' of 'numpy.ndarray' objects}\n",
      "       12    0.000    0.000    0.000    0.000 range.py:139(_validate_dtype)\n",
      "       12    0.000    0.000    0.000    0.000 internals.py:2695(_get_items)\n",
      "       12    0.000    0.000    0.000    0.000 {pandas.lib.is_integer}\n",
      "        1    0.000    0.000    0.000    0.000 {method 'disable' of '_lsprof.Profiler' objects}\n",
      "\n",
      "\n"
     ]
    }
   ],
   "source": [
    "cProfile.run(\"twf_signal_py(0,pmtrd, 1000)\", sort='time')"
   ]
  },
  {
   "cell_type": "code",
   "execution_count": 170,
   "metadata": {
    "collapsed": false
   },
   "outputs": [
    {
     "name": "stdout",
     "output_type": "stream",
     "text": [
      "1 loop, best of 3: 858 ms per loop\n"
     ]
    }
   ],
   "source": [
    "%timeit twf_signal_py(0,pmtrd, 1000)"
   ]
  },
  {
   "cell_type": "code",
   "execution_count": 171,
   "metadata": {
    "collapsed": false
   },
   "outputs": [
    {
     "name": "stdout",
     "output_type": "stream",
     "text": [
      "1 loop, best of 3: 1.13 s per loop\n"
     ]
    }
   ],
   "source": [
    "%timeit twf_signal(0,pmtrd, 1000)"
   ]
  },
  {
   "cell_type": "code",
   "execution_count": 189,
   "metadata": {
    "collapsed": false
   },
   "outputs": [],
   "source": [
    "%%cython\n",
    "\n",
    "import numpy as np\n",
    "cimport numpy as np\n",
    "import pandas as pd\n",
    "\n",
    "from cython cimport boundscheck, wraparound\n",
    "\n",
    "def wf2df(time_ns,energy_pes):\n",
    "    \"\"\"\n",
    "    takes two vectors (time, energy) and returns a data frame representing a waveform\n",
    "    \"\"\"\n",
    "    swf = {}\n",
    "    swf['time_ns'] = time_ns\n",
    "    swf['ene_pes'] = energy_pes \n",
    "    return pd.DataFrame(swf)\n",
    "\n",
    "def wfm_zs_and_rb(np.ndarray[np.int32_t, ndim=1] energy_pes, np.ndarray[np.float32_t, ndim=1] time_ns, int stride):\n",
    "    \n",
    "    cdef int i, j, k, dim_rb, dim_zs, e_sum, r, n\n",
    "           \n",
    "    \n",
    "    #ZS\n",
    "    dim_zs = 0\n",
    "    with boundscheck(False), wraparound(False):\n",
    "        for k in range(len(energy_pes)):\n",
    "            if energy_pes[k] > 0:\n",
    "                dim_zs+=1\n",
    "            \n",
    "    cdef np.ndarray[np.int32_t, ndim=1] ene_zs = np.zeros(dim_zs, dtype=np.int32)\n",
    "    cdef np.ndarray[np.float32_t, ndim=1] t_zs = np.zeros(dim_zs, dtype=np.float32)\n",
    "    \n",
    "    #print('dim_zs = {}'.format(dim_zs))\n",
    "    \n",
    "    i = 0\n",
    "    with boundscheck(False), wraparound(False):\n",
    "        for k in range(len(energy_pes)):\n",
    "            if energy_pes[k] > 0:\n",
    "                ene_zs[i] = energy_pes[k]\n",
    "                t_zs[i] = time_ns[k]\n",
    "                i+=1\n",
    "                \n",
    "        \n",
    "    #RB\n",
    "    n = ene_zs.shape[0]/stride\n",
    "    r = ene_zs.shape[0]%stride\n",
    "    \n",
    "    if r > 0: \n",
    "        dim_rb = n+1\n",
    "    \n",
    "    #print('n = {} r = {} dim_rb = {}'.format(n,r,dim_rb))\n",
    "        \n",
    "    cdef np.ndarray[np.int32_t, ndim=1] ene_rb = np.zeros(dim_rb, dtype=np.int32)\n",
    "    cdef np.ndarray[np.float32_t, ndim=1] t_rb = np.zeros(dim_rb, dtype=np.float32)\n",
    "        \n",
    "    #resum bins\n",
    "    j=0\n",
    "    with boundscheck(False), wraparound(False):\n",
    "        for i in range(n):\n",
    "            e_sum = 0    \n",
    "            for k in range(j, j + stride): \n",
    "                e_sum += ene_zs[k] \n",
    "            ene_rb[i] = e_sum\n",
    "            t_rb[i] = (t_zs[j] + t_zs[j + stride])/2.\n",
    "            j+= stride\n",
    "    \n",
    "        #print('j={}'.format(j))\n",
    "            \n",
    "        if r > 0:\n",
    "            e_sum = 0    \n",
    "            for k in range(j, dim_zs): \n",
    "                e_sum += ene_zs[k] \n",
    "                \n",
    "        ene_rb[n] = e_sum\n",
    "        t_rb[n]  = (t_zs[j] + t_zs[dim_zs-1])/2. \n",
    "    \n",
    "    #print(ene_rb)\n",
    "    #print(t_rb)\n",
    "            \n",
    "    return ene_rb, t_rb\n",
    "\n",
    "def twf_signal_cy(int event_number,pmtrd, int stride):\n",
    "    \"\"\"\n",
    "    py2cy --> python calls cython\n",
    "    1) takes pmtrd\n",
    "    2) Performs ZS\n",
    "    3) Rebins resulting wf according to stride\n",
    "    \"\"\"\n",
    "    \n",
    "    rdata = np.empty(pmtrd.shape[1], dtype=object)\n",
    "    cdef int j\n",
    "    \n",
    "    for j in range(pmtrd.shape[1]):\n",
    "                \n",
    "        energy_pes = np.zeros(pmtrd.shape[2], dtype=np.int32)\n",
    "        energy_pes[:] = pmtrd[event_number, j]\n",
    "        time_ns = np.array(range(pmtrd.shape[2]), dtype=np.float32)\n",
    "        \n",
    "        ene_rb, t_rb = wfm_zs_and_rb(energy_pes, time_ns, int(stride))\n",
    "        twf = wf2df(t_rb, ene_rb)\n",
    "        \n",
    "        rdata[j] = twf\n",
    "    return rdata"
   ]
  },
  {
   "cell_type": "code",
   "execution_count": 190,
   "metadata": {
    "collapsed": false
   },
   "outputs": [
    {
     "name": "stdout",
     "output_type": "stream",
     "text": [
      "1 loop, best of 3: 865 ms per loop\n"
     ]
    }
   ],
   "source": [
    "%timeit twf_signal_cy(0,pmtrd, 1000)"
   ]
  },
  {
   "cell_type": "code",
   "execution_count": 185,
   "metadata": {
    "collapsed": false
   },
   "outputs": [
    {
     "name": "stdout",
     "output_type": "stream",
     "text": [
      "         6135 function calls (6063 primitive calls) in 0.897 seconds\n",
      "\n",
      "   Ordered by: internal time\n",
      "\n",
      "   ncalls  tottime  percall  cumtime  percall filename:lineno(function)\n",
      "        1    0.835    0.835    0.897    0.897 {_cython_magic_c7a45a2770d7fe86978c43ba4d60db4a.twf_signal_cy}\n",
      "       12    0.051    0.004    0.051    0.004 {method '_g_read_slice' of 'tables.hdf5extension.Array' objects}\n",
      "       96    0.002    0.000    0.002    0.000 {numpy.core.multiarray.empty}\n",
      "    36/24    0.001    0.000    0.003    0.000 base.py:124(__new__)\n",
      "     1296    0.001    0.000    0.001    0.000 {isinstance}\n",
      "       12    0.001    0.000    0.003    0.000 internals.py:4007(form_blocks)\n",
      "       12    0.000    0.000    0.001    0.000 array.py:370(_interpret_indexing)\n",
      "       24    0.000    0.000    0.001    0.000 numeric.py:607(require)\n",
      "       12    0.000    0.000    0.001    0.000 internals.py:2674(_rebuild_blknos_and_blklocs)\n",
      "       36    0.000    0.000    0.000    0.000 {pandas.lib.infer_dtype}\n",
      "       36    0.000    0.000    0.001    0.000 common.py:1380(_asarray_tuplesafe)\n",
      "      132    0.000    0.000    0.000    0.000 dtypes.py:74(is_dtype)\n",
      "  672/612    0.000    0.000    0.000    0.000 {len}\n",
      "       12    0.000    0.000    0.001    0.000 frame.py:5244(extract_index)\n",
      "       24    0.000    0.000    0.002    0.000 internals.py:4136(_multi_blockify)\n",
      "      264    0.000    0.000    0.000    0.000 {hasattr}\n",
      "       24    0.000    0.000    0.000    0.000 internals.py:4168(_stack_arrays)\n",
      "       12    0.000    0.000    0.054    0.004 array.py:627(__getitem__)\n",
      "       12    0.000    0.000    0.009    0.001 frame.py:307(_init_dict)\n",
      "      264    0.000    0.000    0.000    0.000 {getattr}\n",
      "       12    0.000    0.000    0.009    0.001 frame.py:210(__init__)\n",
      "       12    0.000    0.000    0.053    0.004 array.py:758(_read_slice)\n",
      "      108    0.000    0.000    0.000    0.000 {numpy.core.multiarray.array}\n",
      "       12    0.000    0.000    0.000    0.000 {method 'reduce' of 'numpy.ufunc' objects}\n",
      "      228    0.000    0.000    0.000    0.000 generic.py:7(_check)\n",
      "       12    0.000    0.000    0.000    0.000 {pandas.lib.list_to_object_array}\n",
      "       24    0.000    0.000    0.001    0.000 internals.py:2482(make_block)\n",
      "       12    0.000    0.000    0.000    0.000 common.py:1011(_possibly_cast_to_datetime)\n",
      "       12    0.000    0.000    0.001    0.000 frame.py:5521(_homogenize)\n",
      "       84    0.000    0.000    0.001    0.000 common.py:1736(is_categorical_dtype)\n",
      "       24    0.000    0.000    0.001    0.000 series.py:2787(_sanitize_array)\n",
      "        1    0.000    0.000    0.897    0.897 <string>:1(<module>)\n",
      "       12    0.000    0.000    0.001    0.000 internals.py:2578(__init__)\n",
      "       24    0.000    0.000    0.000    0.000 base.py:309(_simple_new)\n",
      "       24    0.000    0.000    0.001    0.000 internals.py:191(mgr_locs)\n",
      "       24    0.000    0.000    0.001    0.000 internals.py:77(__init__)\n",
      "       12    0.000    0.000    0.000    0.000 common.py:1111(_possibly_infer_to_datetimelike)\n",
      "       36    0.000    0.000    0.000    0.000 internals.py:2619(shape)\n",
      "       12    0.000    0.000    0.000    0.000 internals.py:2799(_verify_integrity)\n",
      "       36    0.000    0.000    0.000    0.000 {numpy.core.multiarray.arange}\n",
      "       36    0.000    0.000    0.000    0.000 common.py:1511(_get_dtype_type)\n",
      "       12    0.000    0.000    0.000    0.000 common.py:272(array_equivalent)\n",
      "       12    0.000    0.000    0.005    0.000 internals.py:3996(create_block_manager_from_arrays)\n",
      "      336    0.000    0.000    0.000    0.000 {issubclass}\n",
      "       12    0.000    0.000    0.006    0.001 frame.py:5224(_arrays_to_mgr)\n",
      "       48    0.000    0.000    0.000    0.000 dtypes.py:122(construct_from_string)\n",
      "       24    0.000    0.000    0.000    0.000 leaf.py:390(_process_range)\n",
      "       60    0.000    0.000    0.000    0.000 range.py:435(__len__)\n",
      "       12    0.000    0.000    0.000    0.000 common.py:1226(_default_index)\n",
      "       24    0.000    0.000    0.000    0.000 common.py:986(_possibly_castable)\n",
      "       48    0.000    0.000    0.000    0.000 common.py:1710(is_datetimetz)\n",
      "       12    0.000    0.000    0.000    0.000 range.py:42(__new__)\n",
      "       12    0.000    0.000    0.000    0.000 {pandas.lib.array_equivalent_object}\n",
      "       12    0.000    0.000    0.000    0.000 range.py:117(_simple_new)\n",
      "       24    0.000    0.000    0.001    0.000 series.py:2804(_try_cast)\n",
      "       24    0.000    0.000    0.000    0.000 internals.py:276(ftype)\n",
      "       60    0.000    0.000    0.000    0.000 numeric.py:414(asarray)\n",
      "       24    0.000    0.000    0.000    0.000 base.py:1247(__getitem__)\n",
      "       12    0.000    0.000    0.000    0.000 base.py:1507(equals)\n",
      "       12    0.000    0.000    0.000    0.000 internals.py:3004(_consolidate_check)\n",
      "       48    0.000    0.000    0.000    0.000 numeric.py:676(<genexpr>)\n",
      "       12    0.000    0.000    0.000    0.000 node.py:342(_g_check_open)\n",
      "       12    0.000    0.000    0.000    0.000 leaf.py:211(<lambda>)\n",
      "       36    0.000    0.000    0.000    0.000 common.py:1763(is_list_like)\n",
      "       12    0.000    0.000    0.000    0.000 common.py:1268(_try_sort)\n",
      "       12    0.000    0.000    0.000    0.000 generic.py:94(__init__)\n",
      "       24    0.000    0.000    0.000    0.000 common.py:1696(is_bool_dtype)\n",
      "       36    0.000    0.000    0.000    0.000 {pandas.lib.isscalar}\n",
      "       36    0.000    0.000    0.000    0.000 base.py:403(_reset_identity)\n",
      "       12    0.000    0.000    0.000    0.000 {sorted}\n",
      "       36    0.000    0.000    0.000    0.000 __init__.py:157(iteritems)\n",
      "       36    0.000    0.000    0.000    0.000 base.py:440(values)\n",
      "       24    0.000    0.000    0.000    0.000 internals.py:4171(_asarray_compat)\n",
      "       12    0.000    0.000    0.000    0.000 common.py:1717(is_extension_type)\n",
      "       24    0.000    0.000    0.000    0.000 {method 'fill' of 'numpy.ndarray' objects}\n",
      "       60    0.000    0.000    0.000    0.000 base.py:409(__len__)\n",
      "       24    0.000    0.000    0.000    0.000 internals.py:4177(_shape_compat)\n",
      "       48    0.000    0.000    0.000    0.000 common.py:1575(is_datetime64tz_dtype)\n",
      "       36    0.000    0.000    0.000    0.000 {method 'view' of 'numpy.ndarray' objects}\n",
      "       36    0.000    0.000    0.000    0.000 common.py:1705(is_sparse)\n",
      "       60    0.000    0.000    0.000    0.000 base.py:3381(_ensure_index)\n",
      "       12    0.000    0.000    0.000    0.000 _methods.py:37(_any)\n",
      "       24    0.000    0.000    0.000    0.000 {pandas.lib.values_from_object}\n",
      "       24    0.000    0.000    0.000    0.000 {method 'ravel' of 'numpy.ndarray' objects}\n",
      "       12    0.000    0.000    0.000    0.000 {method 'any' of 'numpy.ndarray' objects}\n",
      "       72    0.000    0.000    0.000    0.000 internals.py:160(mgr_locs)\n",
      "      108    0.000    0.000    0.000    0.000 internals.py:2621(<genexpr>)\n",
      "       24    0.000    0.000    0.000    0.000 utils.py:49(is_idx)\n",
      "       24    0.000    0.000    0.000    0.000 {method 'indices' of 'slice' objects}\n",
      "       24    0.000    0.000    0.000    0.000 base.py:445(get_values)\n",
      "       36    0.000    0.000    0.000    0.000 internals.py:2801(<genexpr>)\n",
      "       36    0.000    0.000    0.000    0.000 {built-in method __new__ of type object at 0x109332c18}\n",
      "       36    0.000    0.000    0.000    0.000 {method 'iteritems' of 'dict' objects}\n",
      "       12    0.000    0.000    0.000    0.000 base.py:383(is_)\n",
      "       24    0.000    0.000    0.000    0.000 internals.py:4140(<lambda>)\n",
      "      108    0.000    0.000    0.000    0.000 {method 'append' of 'list' objects}\n",
      "       24    0.000    0.000    0.000    0.000 range.py:58(_ensure_int)\n",
      "       60    0.000    0.000    0.000    0.000 {max}\n",
      "       12    0.000    0.000    0.000    0.000 common.py:1745(is_object_dtype)\n",
      "       12    0.000    0.000    0.000    0.000 {sum}\n",
      "       12    0.000    0.000    0.000    0.000 common.py:1731(is_categorical)\n",
      "       12    0.000    0.000    0.000    0.000 internals.py:3276(_consolidate_inplace)\n",
      "       12    0.000    0.000    0.000    0.000 {numpy.core.multiarray.zeros}\n",
      "       12    0.000    0.000    0.000    0.000 {min}\n",
      "       24    0.000    0.000    0.000    0.000 {pandas.algos.ensure_object}\n",
      "       24    0.000    0.000    0.000    0.000 {method 'upper' of 'str' objects}\n",
      "       24    0.000    0.000    0.000    0.000 internals.py:2623(ndim)\n",
      "       24    0.000    0.000    0.000    0.000 {operator.index}\n",
      "       24    0.000    0.000    0.000    0.000 internals.py:264(shape)\n",
      "       12    0.000    0.000    0.000    0.000 {method 'keys' of 'dict' objects}\n",
      "       24    0.000    0.000    0.000    0.000 internals.py:272(dtype)\n",
      "       12    0.000    0.000    0.000    0.000 range.py:139(_validate_dtype)\n",
      "       12    0.000    0.000    0.000    0.000 internals.py:2695(_get_items)\n",
      "       12    0.000    0.000    0.000    0.000 internals.py:2996(is_consolidated)\n",
      "       12    0.000    0.000    0.000    0.000 {pandas.lib.is_integer}\n",
      "       12    0.000    0.000    0.000    0.000 base.py:430(dtype)\n",
      "       24    0.000    0.000    0.000    0.000 {method 'extend' of 'list' objects}\n",
      "        1    0.000    0.000    0.000    0.000 {method 'disable' of '_lsprof.Profiler' objects}\n",
      "\n",
      "\n"
     ]
    }
   ],
   "source": [
    "cProfile.run(\"twf_signal_cy(0,pmtrd, 1000)\", sort='time')"
   ]
  },
  {
   "cell_type": "code",
   "execution_count": 186,
   "metadata": {
    "collapsed": false
   },
   "outputs": [
    {
     "name": "stdout",
     "output_type": "stream",
     "text": [
      "         19672 function calls (19348 primitive calls) in 1.266 seconds\n",
      "\n",
      "   Ordered by: internal time\n",
      "\n",
      "   ncalls  tottime  percall  cumtime  percall filename:lineno(function)\n",
      "      252    0.761    0.003    0.761    0.003 {numpy.core.multiarray.array}\n",
      "       37    0.151    0.004    0.151    0.004 {range}\n",
      "        1    0.111    0.111    1.265    1.265 <ipython-input-70-0054900304c1>:77(twf_signal)\n",
      "       12    0.073    0.006    0.073    0.006 {method '_g_read_slice' of 'tables.hdf5extension.Array' objects}\n",
      "       96    0.052    0.001    0.052    0.001 {numpy.core.multiarray.arange}\n",
      "       36    0.035    0.001    0.036    0.001 numeric.py:607(require)\n",
      "       36    0.029    0.001    0.035    0.001 internals.py:4168(_stack_arrays)\n",
      "       12    0.008    0.001    0.010    0.001 wfmFunctions.py:87(<lambda>)\n",
      "      180    0.007    0.000    0.007    0.000 {numpy.core.multiarray.empty}\n",
      "       12    0.003    0.000    0.003    0.000 {method 'nonzero' of 'numpy.ndarray' objects}\n",
      "     3552    0.002    0.000    0.002    0.000 {isinstance}\n",
      "    72/48    0.001    0.000    0.006    0.000 base.py:124(__new__)\n",
      "       36    0.001    0.000    0.002    0.000 internals.py:2674(_rebuild_blknos_and_blklocs)\n",
      "      108    0.001    0.000    0.001    0.000 {method 'reduce' of 'numpy.ufunc' objects}\n",
      "        1    0.001    0.001    1.266    1.266 <string>:1(<module>)\n",
      "1896/1656    0.001    0.000    0.001    0.000 {len}\n",
      "       24    0.001    0.000    0.077    0.003 internals.py:4007(form_blocks)\n",
      "      348    0.001    0.000    0.002    0.000 dtypes.py:74(is_dtype)\n",
      "       96    0.001    0.000    0.038    0.000 internals.py:2482(make_block)\n",
      "       60    0.001    0.000    0.001    0.000 {pandas.lib.infer_dtype}\n",
      "  768/756    0.001    0.000    0.001    0.000 {getattr}\n",
      "       36    0.001    0.000    0.074    0.002 internals.py:4136(_multi_blockify)\n",
      "       72    0.001    0.000    0.001    0.000 common.py:1380(_asarray_tuplesafe)\n",
      "       36    0.001    0.000    0.004    0.000 internals.py:2578(__init__)\n",
      "       24    0.001    0.000    0.002    0.000 algorithms.py:840(take_nd)\n",
      "      672    0.000    0.000    0.001    0.000 {hasattr}\n",
      "       36    0.000    0.000    0.089    0.002 frame.py:210(__init__)\n",
      "       24    0.000    0.000    0.001    0.000 frame.py:5244(extract_index)\n",
      "       96    0.000    0.000    0.036    0.000 internals.py:191(mgr_locs)\n",
      "       96    0.000    0.000    0.037    0.000 internals.py:77(__init__)\n",
      "      144    0.000    0.000    0.001    0.000 generic.py:2674(__setattr__)\n",
      "       24    0.000    0.000    0.088    0.004 frame.py:307(_init_dict)\n",
      "       12    0.000    0.000    0.001    0.000 indexing.py:1840(maybe_convert_indices)\n",
      "      120    0.000    0.000    0.001    0.000 internals.py:2619(shape)\n",
      "       72    0.000    0.000    0.001    0.000 base.py:309(_simple_new)\n",
      "      516    0.000    0.000    0.001    0.000 generic.py:7(_check)\n",
      "    72/36    0.000    0.000    0.005    0.000 generic.py:2658(__getattr__)\n",
      "       24    0.000    0.000    0.000    0.000 {pandas.lib.list_to_object_array}\n",
      "       72    0.000    0.000    0.000    0.000 base.py:1233(__contains__)\n",
      "       12    0.000    0.000    0.000    0.000 array.py:370(_interpret_indexing)\n",
      "      120    0.000    0.000    0.052    0.000 base.py:440(values)\n",
      "       36    0.000    0.000    0.001    0.000 internals.py:3312(iget)\n",
      "      204    0.000    0.000    0.001    0.000 common.py:1736(is_categorical_dtype)\n",
      "       12    0.000    0.000    0.060    0.005 generic.py:1614(take)\n",
      "       24    0.000    0.000    0.002    0.000 frame.py:5521(_homogenize)\n",
      "       36    0.000    0.000    0.001    0.000 internals.py:2799(_verify_integrity)\n",
      "       48    0.000    0.000    0.001    0.000 series.py:2787(_sanitize_array)\n",
      "       24    0.000    0.000    0.089    0.004 {_cython_magic_c7a45a2770d7fe86978c43ba4d60db4a.wf2df}\n",
      "       12    0.000    0.000    0.059    0.005 internals.py:3690(take)\n",
      "       36    0.000    0.000    0.001    0.000 series.py:120(__init__)\n",
      "       12    0.000    0.000    0.000    0.000 {pandas.algos.take_2d_axis1_float32_float32}\n",
      "       24    0.000    0.000    0.080    0.003 internals.py:3996(create_block_manager_from_arrays)\n",
      "      144    0.000    0.000    0.000    0.000 range.py:435(__len__)\n",
      "       24    0.000    0.000    0.003    0.000 internals.py:975(take_nd)\n",
      "       36    0.000    0.000    0.001    0.000 common.py:272(array_equivalent)\n",
      "       12    0.000    0.000    0.065    0.005 indexing.py:782(_getitem_tuple)\n",
      "       12    0.000    0.000    0.001    0.000 indexing.py:882(_getitem_lowerdim)\n",
      "       72    0.000    0.000    0.000    0.000 common.py:1511(_get_dtype_type)\n",
      "       36    0.000    0.000    0.004    0.000 generic.py:1345(_get_item_cache)\n",
      "      108    0.000    0.000    0.000    0.000 dtypes.py:122(construct_from_string)\n",
      "       36    0.000    0.000    0.001    0.000 internals.py:3283(get)\n",
      "       12    0.000    0.000    0.076    0.006 wfmFunctions.py:83(wf_thr)\n",
      "       24    0.000    0.000    0.083    0.003 frame.py:5224(_arrays_to_mgr)\n",
      "       12    0.000    0.000    0.053    0.004 base.py:1360(take)\n",
      "       12    0.000    0.000    0.005    0.000 internals.py:3560(reindex_indexer)\n",
      "       72    0.000    0.000    0.000    0.000 generic.py:94(__init__)\n",
      "      156    0.000    0.000    0.000    0.000 numeric.py:414(asarray)\n",
      "       24    0.000    0.000    0.001    0.000 common.py:527(_maybe_promote)\n",
      "       12    0.000    0.000    0.076    0.006 indexing.py:1286(__getitem__)\n",
      "      672    0.000    0.000    0.000    0.000 {issubclass}\n",
      "       12    0.000    0.000    0.000    0.000 indexing.py:808(_multi_take_opportunity)\n",
      "       84    0.000    0.000    0.000    0.000 base.py:1247(__getitem__)\n",
      "       36    0.000    0.000    0.004    0.000 frame.py:1973(__getitem__)\n",
      "       12    0.000    0.000    0.000    0.000 {pandas.algos.take_2d_axis1_int64_int64}\n",
      "       12    0.000    0.000    0.075    0.006 array.py:627(__getitem__)\n",
      "       36    0.000    0.000    0.000    0.000 internals.py:3004(_consolidate_check)\n",
      "      144    0.000    0.000    0.000    0.000 {pandas.lib.values_from_object}\n",
      "       12    0.000    0.000    0.001    0.000 <ipython-input-70-0054900304c1>:47(rebin_twf)\n",
      "       60    0.000    0.000    0.000    0.000 internals.py:276(ftype)\n",
      "    60/48    0.000    0.000    0.010    0.000 common.py:1846(_apply_if_callable)\n",
      "       72    0.000    0.000    0.000    0.000 numeric.py:676(<genexpr>)\n",
      "       12    0.000    0.000    0.000    0.000 _methods.py:53(_mean)\n",
      "       12    0.000    0.000    0.000    0.000 {method 'take' of 'numpy.ndarray' objects}\n",
      "       24    0.000    0.000    0.000    0.000 validators.py:29(_check_for_default_values)\n",
      "       24    0.000    0.000    0.001    0.000 common.py:1226(_default_index)\n",
      "       12    0.000    0.000    0.075    0.006 array.py:758(_read_slice)\n",
      "       12    0.000    0.000    0.000    0.000 common.py:1011(_possibly_cast_to_datetime)\n",
      "       84    0.000    0.000    0.000    0.000 generic.py:320(_get_axis_name)\n",
      "       36    0.000    0.000    0.000    0.000 series.py:270(_set_axis)\n",
      "       24    0.000    0.000    0.000    0.000 range.py:117(_simple_new)\n",
      "       60    0.000    0.000    0.001    0.000 internals.py:183(make_block_same_class)\n",
      "       36    0.000    0.000    0.000    0.000 internals.py:3778(__init__)\n",
      "      144    0.000    0.000    0.001    0.000 common.py:1710(is_datetimetz)\n",
      "      228    0.000    0.000    0.000    0.000 base.py:409(__len__)\n",
      "      120    0.000    0.000    0.000    0.000 {method 'view' of 'numpy.ndarray' objects}\n",
      "       36    0.000    0.000    0.002    0.000 frame.py:2331(_box_item_values)\n",
      "       36    0.000    0.000    0.000    0.000 series.py:302(name)\n",
      "       24    0.000    0.000    0.000    0.000 validators.py:104(_check_for_invalid_keys)\n",
      "       24    0.000    0.000    0.000    0.000 range.py:42(__new__)\n",
      "       96    0.000    0.000    0.000    0.000 common.py:1763(is_list_like)\n",
      "       72    0.000    0.000    0.000    0.000 {method 'get_loc' of 'pandas.index.IndexEngine' objects}\n",
      "       12    0.000    0.000    0.000    0.000 indexing.py:158(_is_nested_tuple_indexer)\n",
      "       12    0.000    0.000    0.000    0.000 common.py:1111(_possibly_infer_to_datetimelike)\n",
      "      180    0.000    0.000    0.000    0.000 base.py:3381(_ensure_index)\n",
      "       72    0.000    0.000    0.000    0.000 base.py:1915(get_loc)\n",
      "       24    0.000    0.000    0.000    0.000 {pandas.lib.array_equivalent_object}\n",
      "       12    0.000    0.000    0.000    0.000 base.py:506(_get_attributes_dict)\n",
      "       36    0.000    0.000    0.010    0.000 indexing.py:1288(<genexpr>)\n",
      "       84    0.000    0.000    0.001    0.000 {method 'any' of 'numpy.ndarray' objects}\n",
      "       36    0.000    0.000    0.001    0.000 series.py:236(from_array)\n",
      "       96    0.000    0.000    0.000    0.000 __init__.py:157(iteritems)\n",
      "      360    0.000    0.000    0.001    0.000 internals.py:2621(<genexpr>)\n",
      "       48    0.000    0.000    0.000    0.000 common.py:986(_possibly_castable)\n",
      "       36    0.000    0.000    0.001    0.000 frame.py:2338(_box_col_values)\n",
      "       12    0.000    0.000    0.001    0.000 range.py:229(_shallow_copy)\n",
      "      144    0.000    0.000    0.001    0.000 common.py:1575(is_datetime64tz_dtype)\n",
      "       48    0.000    0.000    0.001    0.000 series.py:2804(_try_cast)\n",
      "       24    0.000    0.000    0.001    0.000 base.py:1507(equals)\n",
      "       72    0.000    0.000    0.000    0.000 {method 'fill' of 'numpy.ndarray' objects}\n",
      "       36    0.000    0.000    0.000    0.000 generic.py:1359(_set_as_cached)\n",
      "       84    0.000    0.000    0.000    0.000 generic.py:333(_get_axis)\n",
      "       12    0.000    0.000    0.063    0.005 indexing.py:1431(_getitem_axis)\n",
      "       96    0.000    0.000    0.000    0.000 base.py:403(_reset_identity)\n",
      "      144    0.000    0.000    0.000    0.000 internals.py:2623(ndim)\n",
      "       36    0.000    0.000    0.004    0.000 frame.py:1999(_getitem_column)\n",
      "       84    0.000    0.000    0.001    0.000 _methods.py:37(_any)\n",
      "       24    0.000    0.000    0.000    0.000 common.py:1203(is_bool_indexer)\n",
      "       24    0.000    0.000    0.000    0.000 generic.py:1312(_indexer)\n",
      "       48    0.000    0.000    0.000    0.000 common.py:1696(is_bool_dtype)\n",
      "       12    0.000    0.000    0.063    0.005 indexing.py:1301(_getbool_axis)\n",
      "       12    0.000    0.000    0.051    0.004 range.py:150(_data)\n",
      "       36    0.000    0.000    0.000    0.000 common.py:1731(is_categorical)\n",
      "      240    0.000    0.000    0.000    0.000 internals.py:160(mgr_locs)\n",
      "       24    0.000    0.000    0.000    0.000 {sorted}\n",
      "       12    0.000    0.000    0.000    0.000 range.py:154(_int64index)\n",
      "       36    0.000    0.000    0.000    0.000 series.py:306(name)\n",
      "       72    0.000    0.000    0.000    0.000 generic.py:401(ndim)\n",
      "       36    0.000    0.000    0.000    0.000 internals.py:3908(external_values)\n",
      "       48    0.000    0.000    0.000    0.000 internals.py:4171(_asarray_compat)\n",
      "       36    0.000    0.000    0.000    0.000 common.py:94(_isnull_new)\n",
      "       24    0.000    0.000    0.000    0.000 function.py:36(__call__)\n",
      "       12    0.000    0.000    0.000    0.000 indexing.py:137(_has_valid_tuple)\n",
      "       24    0.000    0.000    0.000    0.000 common.py:1268(_try_sort)\n",
      "      144    0.000    0.000    0.000    0.000 {max}\n",
      "       24    0.000    0.000    0.000    0.000 validators.py:120(validate_kwargs)\n",
      "       48    0.000    0.000    0.000    0.000 internals.py:3276(_consolidate_inplace)\n",
      "       12    0.000    0.000    0.000    0.000 dtypes.py:159(__init__)\n",
      "       96    0.000    0.000    0.000    0.000 internals.py:2801(<genexpr>)\n",
      "       96    0.000    0.000    0.000    0.000 {built-in method __new__ of type object at 0x109332c18}\n",
      "      144    0.000    0.000    0.000    0.000 {pandas.lib.isscalar}\n",
      "       12    0.000    0.000    0.000    0.000 numeric.py:151(equals)\n",
      "       36    0.000    0.000    0.000    0.000 {numpy.core.multiarray.zeros}\n",
      "      204    0.000    0.000    0.000    0.000 {method 'append' of 'list' objects}\n",
      "       72    0.000    0.000    0.000    0.000 base.py:445(get_values)\n",
      "       12    0.000    0.000    0.000    0.000 dtypes.py:191(construct_from_string)\n",
      "       24    0.000    0.000    0.000    0.000 leaf.py:390(_process_range)\n",
      "       24    0.000    0.000    0.000    0.000 indexing.py:1355(_has_valid_type)\n",
      "       12    0.000    0.000    0.000    0.000 numeric.py:93(__new__)\n",
      "       12    0.000    0.000    0.000    0.000 fromnumeric.py:1743(sum)\n",
      "       12    0.000    0.000    0.000    0.000 node.py:342(_g_check_open)\n",
      "       36    0.000    0.000    0.000    0.000 internals.py:301(iget)\n",
      "      156    0.000    0.000    0.000    0.000 {method 'get' of 'dict' objects}\n",
      "       12    0.000    0.000    0.000    0.000 base.py:1143(_engine)\n",
      "       24    0.000    0.000    0.000    0.000 algorithms.py:807(_get_take_nd_function)\n",
      "       36    0.000    0.000    0.000    0.000 {pandas.lib.checknull}\n",
      "       12    0.000    0.000    0.000    0.000 base.py:346(_shallow_copy)\n",
      "       72    0.000    0.000    0.000    0.000 collections.py:78(__iter__)\n",
      "       36    0.000    0.000    0.000    0.000 internals.py:4177(_shape_compat)\n",
      "       36    0.000    0.000    0.000    0.000 indexing.py:1890(is_list_like_indexer)\n",
      "       60    0.000    0.000    0.000    0.000 common.py:1705(is_sparse)\n",
      "       12    0.000    0.000    0.000    0.000 frame.py:434(axes)\n",
      "       36    0.000    0.000    0.000    0.000 series.py:333(values)\n",
      "       12    0.000    0.000    0.000    0.000 indexing.py:50(__init__)\n",
      "       12    0.000    0.000    0.000    0.000 _methods.py:43(_count_reduce_items)\n",
      "       12    0.000    0.000    0.000    0.000 _methods.py:31(_sum)\n",
      "       60    0.000    0.000    0.000    0.000 internals.py:2996(is_consolidated)\n",
      "       36    0.000    0.000    0.000    0.000 series.py:292(_set_subtyp)\n",
      "       12    0.000    0.000    0.000    0.000 generic.py:2726(f)\n",
      "       12    0.000    0.000    0.000    0.000 leaf.py:211(<lambda>)\n",
      "       36    0.000    0.000    0.000    0.000 common.py:73(isnull)\n",
      "       36    0.000    0.000    0.000    0.000 generic.py:381(_info_axis)\n",
      "       96    0.000    0.000    0.000    0.000 {method 'iteritems' of 'dict' objects}\n",
      "       36    0.000    0.000    0.000    0.000 common.py:1788(is_hashable)\n",
      "       12    0.000    0.000    0.000    0.000 generic.py:1467(_set_is_copy)\n",
      "       36    0.000    0.000    0.000    0.000 base.py:383(is_)\n",
      "       24    0.000    0.000    0.000    0.000 numeric.py:484(asanyarray)\n",
      "       24    0.000    0.000    0.000    0.000 {method 'format' of 'str' objects}\n",
      "       12    0.000    0.000    0.000    0.000 {setattr}\n",
      "      108    0.000    0.000    0.000    0.000 internals.py:2695(_get_items)\n",
      "       36    0.000    0.000    0.000    0.000 {sum}\n",
      "       24    0.000    0.000    0.000    0.000 common.py:1776(is_null_slice)\n",
      "       24    0.000    0.000    0.000    0.000 common.py:1532(is_dtype_equal)\n",
      "       60    0.000    0.000    0.000    0.000 internals.py:264(shape)\n",
      "       48    0.000    0.000    0.000    0.000 range.py:58(_ensure_int)\n",
      "       12    0.000    0.000    0.000    0.000 generic.py:307(_get_axis_number)\n",
      "       24    0.000    0.000    0.000    0.000 indexing.py:1896(is_label_like)\n",
      "       12    0.000    0.000    0.000    0.000 common.py:1717(is_extension_type)\n",
      "       12    0.000    0.000    0.000    0.000 indexing.py:1790(check_bool_indexer)\n",
      "       24    0.000    0.000    0.000    0.000 common.py:1745(is_object_dtype)\n",
      "       36    0.000    0.000    0.000    0.000 {method 'upper' of 'str' objects}\n",
      "       48    0.000    0.000    0.000    0.000 common.py:1491(_get_dtype)\n",
      "       12    0.000    0.000    0.000    0.000 fromnumeric.py:2796(mean)\n",
      "       12    0.000    0.000    0.000    0.000 generic.py:124(_init_mgr)\n",
      "       24    0.000    0.000    0.000    0.000 __init__.py:1352(isEnabledFor)\n",
      "       12    0.000    0.000    0.000    0.000 generic.py:2713(_protect_consolidate)\n",
      "       12    0.000    0.000    0.000    0.000 generic.py:2723(_consolidate_inplace)\n",
      "       24    0.000    0.000    0.000    0.000 __init__.py:1137(debug)\n",
      "       48    0.000    0.000    0.000    0.000 internals.py:4140(<lambda>)\n",
      "       24    0.000    0.000    0.000    0.000 __init__.py:1338(getEffectiveLevel)\n",
      "       84    0.000    0.000    0.000    0.000 internals.py:272(dtype)\n",
      "       12    0.000    0.000    0.000    0.000 generic.py:337(_get_block_manager_axis)\n",
      "       24    0.000    0.000    0.000    0.000 internals.py:156(fill_value)\n",
      "       36    0.000    0.000    0.000    0.000 internals.py:3824(_block)\n",
      "       48    0.000    0.000    0.000    0.000 {method 'ravel' of 'numpy.ndarray' objects}\n",
      "       48    0.000    0.000    0.000    0.000 {pandas.algos.ensure_object}\n",
      "       24    0.000    0.000    0.000    0.000 base.py:430(dtype)\n",
      "       24    0.000    0.000    0.000    0.000 utils.py:49(is_idx)\n",
      "       24    0.000    0.000    0.000    0.000 range.py:139(_validate_dtype)\n",
      "       24    0.000    0.000    0.000    0.000 {method 'keys' of 'dict' objects}\n",
      "       12    0.000    0.000    0.000    0.000 base.py:938(is_unique)\n",
      "       12    0.000    0.000    0.000    0.000 frame.py:726(__len__)\n",
      "       12    0.000    0.000    0.000    0.000 base.py:1146(<lambda>)\n",
      "       12    0.000    0.000    0.000    0.000 internals.py:3260(consolidate)\n",
      "       36    0.000    0.000    0.000    0.000 indexing.py:815(<genexpr>)\n",
      "       24    0.000    0.000    0.000    0.000 {method 'indices' of 'slice' objects}\n",
      "       48    0.000    0.000    0.000    0.000 {pandas.algos.ensure_int64}\n",
      "       12    0.000    0.000    0.000    0.000 {method 'search' of '_sre.SRE_Pattern' objects}\n",
      "       36    0.000    0.000    0.000    0.000 {pandas.lib.is_integer}\n",
      "       60    0.000    0.000    0.000    0.000 {callable}\n",
      "       36    0.000    0.000    0.000    0.000 numeric.py:126(is_all_dates)\n",
      "       12    0.000    0.000    0.000    0.000 generic.py:2641(__finalize__)\n",
      "       36    0.000    0.000    0.000    0.000 internals.py:125(external_values)\n",
      "      108    0.000    0.000    0.000    0.000 {hash}\n",
      "       12    0.000    0.000    0.000    0.000 indexing.py:1407(_get_partial_string_timestamp_match_key)\n",
      "       12    0.000    0.000    0.000    0.000 {method 'update' of 'dict' objects}\n",
      "       24    0.000    0.000    0.000    0.000 {method 'copy' of 'dict' objects}\n",
      "       36    0.000    0.000    0.000    0.000 {method 'extend' of 'list' objects}\n",
      "       12    0.000    0.000    0.000    0.000 {method 'setdefault' of 'dict' objects}\n",
      "       12    0.000    0.000    0.000    0.000 {any}\n",
      "       12    0.000    0.000    0.000    0.000 {all}\n",
      "       12    0.000    0.000    0.000    0.000 {method 'items' of 'dict' objects}\n",
      "       12    0.000    0.000    0.000    0.000 frame.py:199(_constructor)\n",
      "       24    0.000    0.000    0.000    0.000 {operator.index}\n",
      "       12    0.000    0.000    0.000    0.000 {pandas.algos.ensure_platform_int}\n",
      "       12    0.000    0.000    0.000    0.000 {min}\n",
      "       24    0.000    0.000    0.000    0.000 {pandas.lib.is_float}\n",
      "        1    0.000    0.000    0.000    0.000 {method 'disable' of '_lsprof.Profiler' objects}\n",
      "\n",
      "\n"
     ]
    }
   ],
   "source": [
    "cProfile.run(\"twf_signal(0,pmtrd, 1000)\", sort='time')"
   ]
  },
  {
   "cell_type": "code",
   "execution_count": 203,
   "metadata": {
    "collapsed": false
   },
   "outputs": [],
   "source": [
    "%%cython\n",
    "\n",
    "import numpy as np\n",
    "cimport numpy as np\n",
    "import pandas as pd\n",
    "import FEParam as FP\n",
    "import SPE as SP\n",
    "import FEE2 as FE\n",
    "\n",
    "def simulate_pmt_response_cy(int event_number,pmtrd):\n",
    "    \"\"\"\n",
    "    Sensor Response\n",
    "    Given a signal in PE (photoelectrons in bins of 1 ns) and the response function of \n",
    "    for a single photoelectron (spe) and front-end electronics (fee)\n",
    "    this function produces the PMT raw data (adc counts bins 25 ns)\n",
    "\n",
    "    pmtrd_ dataset that holds the PMT PE data for each PMT\n",
    "    pmtrd25 dataset to be created with adc counts, bins 25 ns \n",
    "    after convoluting with electronics\n",
    "    \"\"\"\n",
    "  \n",
    "    cdef float coulomb = 1./1.60217733e-19\n",
    "    cdef float volt = 1.e-6\n",
    "    cdef float mV = 1.e-3*volt\n",
    "    cdef float second      = 1.e+9\n",
    "    cdef float nF=1.e-9*coulomb/volt\n",
    "    cdef float ampere = coulomb/second\n",
    "    cdef float hertz = 1./second\n",
    "    cdef float ns  = 1.\n",
    "    \n",
    "    cdef float ohm = volt/ampere\n",
    "    \n",
    "    C12 = np.array([ 6.02975448,  6.22547194, 6.0671337 ,  6.22159457,  6.29999787,\n",
    "        6.09892384,  6.18289435,  6.21775591,  6.19306671,  6.30518792,\n",
    "        6.20359891,  6.31231192])*nF\n",
    "    \n",
    "    cdef float R = 2350*ohm\n",
    "    cdef float V_GAIN=250*ohm \n",
    "    cdef float freq_LPF=3e+6*hertz\n",
    "    cdef float PMT_GAIN=4.5e6\n",
    "    \n",
    "    cdef NOISE_FEE = 0.7*mV\n",
    "    cdef int offset = 2500\n",
    "\n",
    "    rdata = np.empty(pmtrd.shape[1], dtype=object)\n",
    "    cdef int j\n",
    "    for j in range(pmtrd.shape[1]):\n",
    "        pmt = np.zeros(pmtrd.shape[2], dtype=np.int32)\n",
    "        pmt[:] = pmtrd[event_number, j]\n",
    "        \n",
    "        fee = FE.FEE(C=C12[j],R= R, f=freq_LPF, RG=V_GAIN) \n",
    "        spe = SP.SPE(pmt_gain=PMT_GAIN,x_slope = 5*ns,x_flat = 1*ns)\n",
    "    \n",
    "        signal_PMT = spe.SpePulseFromVectorPE(pmt) #PMT response\n",
    "\n",
    "        #Front end response to PMT pulse (in volts)\n",
    "        signal_fee = fee.FEESignal(signal_PMT, noise_rms=NOISE_FEE) \n",
    "        signal_daq = offset -fee.daqSignal(signal_fee, noise_rms=0) \n",
    "    \n",
    "        rdata[j] = signal_daq\n",
    "    return rdata"
   ]
  },
  {
   "cell_type": "code",
   "execution_count": 204,
   "metadata": {
    "collapsed": false
   },
   "outputs": [
    {
     "name": "stdout",
     "output_type": "stream",
     "text": [
      "1 loop, best of 3: 1.3 s per loop\n"
     ]
    }
   ],
   "source": [
    "%timeit simulate_pmt_response(0,pmtrd)"
   ]
  },
  {
   "cell_type": "code",
   "execution_count": 205,
   "metadata": {
    "collapsed": false
   },
   "outputs": [
    {
     "name": "stdout",
     "output_type": "stream",
     "text": [
      "1 loop, best of 3: 1.35 s per loop\n"
     ]
    }
   ],
   "source": [
    "%timeit simulate_pmt_response_cy(0,pmtrd)"
   ]
  },
  {
   "cell_type": "code",
   "execution_count": 207,
   "metadata": {
    "collapsed": false
   },
   "outputs": [
    {
     "name": "stdout",
     "output_type": "stream",
     "text": [
      "         15269 function calls in 1.407 seconds\n",
      "\n",
      "   Ordered by: internal time\n",
      "\n",
      "   ncalls  tottime  percall  cumtime  percall filename:lineno(function)\n",
      "       12    0.474    0.039    0.474    0.039 {method 'normal' of 'mtrand.RandomState' objects}\n",
      "      156    0.458    0.003    0.458    0.003 {numpy.core.multiarray.correlate}\n",
      "       24    0.168    0.007    0.168    0.007 {scipy.signal.sigtools._linear_filter}\n",
      "       12    0.076    0.006    0.719    0.060 FEE2.py:156(FEESignal)\n",
      "        1    0.072    0.072    1.402    1.402 <ipython-input-70-0054900304c1>:112(simulate_pmt_response)\n",
      "       12    0.057    0.005    0.057    0.005 {method '_g_read_slice' of 'tables.hdf5extension.Array' objects}\n",
      "       96    0.026    0.000    0.026    0.000 {numpy.core.multiarray.zeros}\n",
      "       12    0.019    0.002    0.375    0.031 shape_base.py:20(apply_along_axis)\n",
      "       36    0.014    0.000    0.558    0.016 signaltools.py:845(lfilter)\n",
      "       12    0.010    0.001    0.403    0.034 FEE2.py:176(daqSignal)\n",
      "        1    0.005    0.005    1.407    1.407 <string>:1(<module>)\n",
      "      144    0.003    0.000    0.007    0.000 polynomial.py:32(poly)\n",
      "     2041    0.002    0.000    0.002    0.000 {numpy.core.multiarray.array}\n",
      "      372    0.002    0.000    0.002    0.000 {method 'reduce' of 'numpy.ufunc' objects}\n",
      "      228    0.002    0.000    0.002    0.000 {numpy.core.multiarray.empty}\n",
      "      660    0.001    0.000    0.003    0.000 shape_base.py:9(atleast_1d)\n",
      "       72    0.001    0.000    0.017    0.000 filter_design.py:1327(iirfilter)\n",
      "       12    0.001    0.000    0.003    0.000 fir_filter_design.py:138(firwin)\n",
      "       72    0.001    0.000    0.001    0.000 filter_design.py:2863(buttap)\n",
      "       48    0.001    0.000    0.003    0.000 filter_design.py:1620(_zpklp2hp)\n",
      "       36    0.001    0.000    0.002    0.000 filter_design.py:1517(_zpkbilinear)\n",
      "     1104    0.001    0.000    0.001    0.000 numeric.py:484(asanyarray)\n",
      "       72    0.001    0.000    0.009    0.000 filter_design.py:594(zpk2tf)\n",
      "      156    0.001    0.000    0.459    0.003 numeric.py:918(convolve)\n",
      "      144    0.001    0.000    0.001    0.000 type_check.py:18(mintypecode)\n",
      "       12    0.000    0.000    0.001    0.000 array.py:370(_interpret_indexing)\n",
      "     3144    0.000    0.000    0.000    0.000 {len}\n",
      "       36    0.000    0.000    0.018    0.000 FEE2.py:55(__init__)\n",
      "      180    0.000    0.000    0.000    0.000 {numpy.core.multiarray.copyto}\n",
      "      480    0.000    0.000    0.000    0.000 {isinstance}\n",
      "      108    0.000    0.000    0.000    0.000 {numpy.core.multiarray.concatenate}\n",
      "      132    0.000    0.000    0.000    0.000 {numpy.core.multiarray.arange}\n",
      "      108    0.000    0.000    0.000    0.000 {method 'reshape' of 'numpy.ndarray' objects}\n",
      "      144    0.000    0.000    0.000    0.000 {method 'compress' of 'numpy.ndarray' objects}\n",
      "       12    0.000    0.000    0.018    0.002 FEE2.py:116(__init__)\n",
      "      144    0.000    0.000    0.000    0.000 function_base.py:1807(sort_complex)\n",
      "       12    0.000    0.000    0.393    0.033 signaltools.py:2634(decimate)\n",
      "       12    0.000    0.000    0.001    0.000 SPE.py:19(__init__)\n",
      "       24    0.000    0.000    0.000    0.000 function_base.py:3262(sinc)\n",
      "       24    0.000    0.000    0.000    0.000 function_base.py:9(linspace)\n",
      "      168    0.000    0.000    0.001    0.000 fromnumeric.py:2395(prod)\n",
      "      156    0.000    0.000    0.000    0.000 numeric.py:846(_mode_from_name)\n",
      "      828    0.000    0.000    0.000    0.000 {method 'append' of 'list' objects}\n",
      "       84    0.000    0.000    0.001    0.000 function_base.py:4534(append)\n",
      "      180    0.000    0.000    0.001    0.000 numeric.py:148(ones)\n",
      "       24    0.000    0.000    0.169    0.007 FEE2.py:80(FilterPulse)\n",
      "      168    0.000    0.000    0.000    0.000 {method 'astype' of 'numpy.ndarray' objects}\n",
      "       12    0.000    0.000    0.000    0.000 function_base.py:1518(diff)\n",
      "      240    0.000    0.000    0.000    0.000 numeric.py:414(asarray)\n",
      "       12    0.000    0.000    0.059    0.005 array.py:627(__getitem__)\n",
      "       72    0.000    0.000    0.018    0.000 filter_design.py:1824(butter)\n",
      "       24    0.000    0.000    0.000    0.000 filter_design.py:1567(_zpklp2lp)\n",
      "       24    0.000    0.000    0.475    0.020 FEE2.py:187(FEENoise)\n",
      "       84    0.000    0.000    0.000    0.000 fromnumeric.py:1383(ravel)\n",
      "       12    0.000    0.000    0.000    0.000 windows.py:1610(get_window)\n",
      "       12    0.000    0.000    0.000    0.000 windows.py:859(hamming)\n",
      "       84    0.000    0.000    0.001    0.000 fromnumeric.py:1892(any)\n",
      "       12    0.000    0.000    0.058    0.005 array.py:758(_read_slice)\n",
      "       12    0.000    0.000    0.169    0.014 FEE2.py:131(Filter)\n",
      "      420    0.000    0.000    0.000    0.000 {issubclass}\n",
      "       24    0.000    0.000    0.000    0.000 {numpy.core.multiarray.where}\n",
      "       72    0.000    0.000    0.001    0.000 fromnumeric.py:1875(alltrue)\n",
      "      144    0.000    0.000    0.000    0.000 fromnumeric.py:1619(compress)\n",
      "      372    0.000    0.000    0.000    0.000 {method 'lower' of 'str' objects}\n",
      "       84    0.000    0.000    0.001    0.000 {method 'any' of 'numpy.ndarray' objects}\n",
      "       12    0.000    0.000    0.330    0.027 signaltools.py:957(<lambda>)\n",
      "       12    0.000    0.000    0.000    0.000 numeric.py:2064(isscalar)\n",
      "      108    0.000    0.000    0.000    0.000 filter_design.py:1503(_relative_degree)\n",
      "      144    0.000    0.000    0.000    0.000 {method 'index' of 'str' objects}\n",
      "       84    0.000    0.000    0.000    0.000 type_check.py:107(real)\n",
      "      145    0.000    0.000    0.000    0.000 {range}\n",
      "       12    0.000    0.000    0.128    0.011 signaltools.py:392(convolve)\n",
      "       24    0.000    0.000    0.000    0.000 leaf.py:390(_process_range)\n",
      "       12    0.000    0.000    0.393    0.033 FEE2.py:21(down_scale_signal_)\n",
      "       12    0.000    0.000    0.128    0.011 SPE.py:91(SpePulseFromVectorPE)\n",
      "       72    0.000    0.000    0.000    0.000 {method 'all' of 'numpy.ndarray' objects}\n",
      "      168    0.000    0.000    0.001    0.000 _methods.py:34(_prod)\n",
      "       84    0.000    0.000    0.000    0.000 _methods.py:37(_any)\n",
      "       84    0.000    0.000    0.000    0.000 {method 'ravel' of 'numpy.ndarray' objects}\n",
      "       72    0.000    0.000    0.000    0.000 {method 'copy' of 'numpy.ndarray' objects}\n",
      "       12    0.000    0.000    0.000    0.000 fromnumeric.py:1843(product)\n",
      "       36    0.000    0.000    0.000    0.000 {numpy.core.multiarray.result_type}\n",
      "      144    0.000    0.000    0.000    0.000 {method 'sort' of 'list' objects}\n",
      "       72    0.000    0.000    0.000    0.000 fromnumeric.py:2659(size)\n",
      "       12    0.000    0.000    0.000    0.000 fromnumeric.py:1743(sum)\n",
      "       12    0.000    0.000    0.000    0.000 __init__.py:1352(isEnabledFor)\n",
      "       12    0.000    0.000    0.000    0.000 shape_base.py:232(hstack)\n",
      "       72    0.000    0.000    0.000    0.000 _methods.py:40(_all)\n",
      "       24    0.000    0.000    0.000    0.000 {method 'tolist' of 'numpy.ndarray' objects}\n",
      "       12    0.000    0.000    0.000    0.000 node.py:342(_g_check_open)\n",
      "      144    0.000    0.000    0.000    0.000 {method 'sort' of 'numpy.ndarray' objects}\n",
      "       12    0.000    0.000    0.000    0.000 {method 'min' of 'numpy.ndarray' objects}\n",
      "       12    0.000    0.000    0.000    0.000 {method 'take' of 'numpy.ndarray' objects}\n",
      "       12    0.000    0.000    0.000    0.000 {method 'format' of 'str' objects}\n",
      "       24    0.000    0.000    0.000    0.000 utils.py:49(is_idx)\n",
      "       12    0.000    0.000    0.000    0.000 __init__.py:1137(debug)\n",
      "       12    0.000    0.000    0.000    0.000 {method 'put' of 'numpy.ndarray' objects}\n",
      "       12    0.000    0.000    0.000    0.000 _methods.py:28(_amin)\n",
      "       24    0.000    0.000    0.000    0.000 {method 'indices' of 'slice' objects}\n",
      "       12    0.000    0.000    0.000    0.000 __init__.py:1338(getEffectiveLevel)\n",
      "       12    0.000    0.000    0.000    0.000 leaf.py:211(<lambda>)\n",
      "       24    0.000    0.000    0.000    0.000 {operator.index}\n",
      "       12    0.000    0.000    0.000    0.000 {method 'max' of 'numpy.ndarray' objects}\n",
      "       12    0.000    0.000    0.000    0.000 _methods.py:25(_amax)\n",
      "       12    0.000    0.000    0.000    0.000 _methods.py:31(_sum)\n",
      "       12    0.000    0.000    0.000    0.000 FEParam.py:71(spe_i_to_v)\n",
      "       12    0.000    0.000    0.000    0.000 FEParam.py:74(spe_i_to_adc)\n",
      "       12    0.000    0.000    0.000    0.000 {method 'remove' of 'list' objects}\n",
      "        1    0.000    0.000    0.000    0.000 {method 'disable' of '_lsprof.Profiler' objects}\n",
      "\n",
      "\n"
     ]
    }
   ],
   "source": [
    "cProfile.run(\"simulate_pmt_response(0,pmtrd)\", sort='time')"
   ]
  },
  {
   "cell_type": "code",
   "execution_count": 208,
   "metadata": {
    "collapsed": false
   },
   "outputs": [
    {
     "name": "stdout",
     "output_type": "stream",
     "text": [
      "         15207 function calls in 1.385 seconds\n",
      "\n",
      "   Ordered by: internal time\n",
      "\n",
      "   ncalls  tottime  percall  cumtime  percall filename:lineno(function)\n",
      "       12    0.461    0.038    0.461    0.038 {method 'normal' of 'mtrand.RandomState' objects}\n",
      "      156    0.441    0.003    0.441    0.003 {numpy.core.multiarray.correlate}\n",
      "       24    0.169    0.007    0.169    0.007 {scipy.signal.sigtools._linear_filter}\n",
      "        1    0.095    0.095    1.381    1.381 {_cython_magic_da7c74cf5923dc35d77871964e4e344a.simulate_pmt_response_cy}\n",
      "       12    0.078    0.006    0.709    0.059 FEE2.py:156(FEESignal)\n",
      "       12    0.047    0.004    0.047    0.004 {method '_g_read_slice' of 'tables.hdf5extension.Array' objects}\n",
      "       96    0.024    0.000    0.024    0.000 {numpy.core.multiarray.zeros}\n",
      "       12    0.019    0.002    0.367    0.031 shape_base.py:20(apply_along_axis)\n",
      "       36    0.014    0.000    0.550    0.015 signaltools.py:845(lfilter)\n",
      "       12    0.010    0.001    0.395    0.033 FEE2.py:176(daqSignal)\n",
      "        1    0.004    0.004    1.385    1.385 <string>:1(<module>)\n",
      "      144    0.002    0.000    0.007    0.000 polynomial.py:32(poly)\n",
      "      372    0.002    0.000    0.002    0.000 {method 'reduce' of 'numpy.ufunc' objects}\n",
      "      660    0.001    0.000    0.003    0.000 shape_base.py:9(atleast_1d)\n",
      "     2040    0.001    0.000    0.001    0.000 {numpy.core.multiarray.array}\n",
      "       12    0.001    0.000    0.004    0.000 fir_filter_design.py:138(firwin)\n",
      "       72    0.001    0.000    0.016    0.000 filter_design.py:1327(iirfilter)\n",
      "       72    0.001    0.000    0.001    0.000 filter_design.py:2863(buttap)\n",
      "       48    0.001    0.000    0.002    0.000 filter_design.py:1620(_zpklp2hp)\n",
      "       36    0.001    0.000    0.002    0.000 filter_design.py:1517(_zpkbilinear)\n",
      "     1104    0.001    0.000    0.001    0.000 numeric.py:484(asanyarray)\n",
      "       72    0.001    0.000    0.008    0.000 filter_design.py:594(zpk2tf)\n",
      "      156    0.001    0.000    0.442    0.003 numeric.py:918(convolve)\n",
      "       12    0.000    0.000    0.001    0.000 array.py:370(_interpret_indexing)\n",
      "      144    0.000    0.000    0.001    0.000 type_check.py:18(mintypecode)\n",
      "     3144    0.000    0.000    0.000    0.000 {len}\n",
      "      228    0.000    0.000    0.000    0.000 {numpy.core.multiarray.empty}\n",
      "      480    0.000    0.000    0.000    0.000 {isinstance}\n",
      "      108    0.000    0.000    0.000    0.000 {numpy.core.multiarray.concatenate}\n",
      "       36    0.000    0.000    0.016    0.000 FEE2.py:55(__init__)\n",
      "      180    0.000    0.000    0.000    0.000 {numpy.core.multiarray.copyto}\n",
      "      108    0.000    0.000    0.000    0.000 {method 'reshape' of 'numpy.ndarray' objects}\n",
      "      132    0.000    0.000    0.000    0.000 {numpy.core.multiarray.arange}\n",
      "       12    0.000    0.000    0.016    0.001 FEE2.py:116(__init__)\n",
      "       24    0.000    0.000    0.000    0.000 function_base.py:3262(sinc)\n",
      "      144    0.000    0.000    0.000    0.000 {method 'compress' of 'numpy.ndarray' objects}\n",
      "      144    0.000    0.000    0.000    0.000 function_base.py:1807(sort_complex)\n",
      "       12    0.000    0.000    0.048    0.004 array.py:627(__getitem__)\n",
      "      240    0.000    0.000    0.000    0.000 numeric.py:414(asarray)\n",
      "      816    0.000    0.000    0.000    0.000 {method 'append' of 'list' objects}\n",
      "      168    0.000    0.000    0.001    0.000 fromnumeric.py:2395(prod)\n",
      "       12    0.000    0.000    0.001    0.000 SPE.py:19(__init__)\n",
      "       12    0.000    0.000    0.384    0.032 signaltools.py:2634(decimate)\n",
      "       24    0.000    0.000    0.000    0.000 function_base.py:9(linspace)\n",
      "       84    0.000    0.000    0.001    0.000 function_base.py:4534(append)\n",
      "       12    0.000    0.000    0.000    0.000 function_base.py:1518(diff)\n",
      "      180    0.000    0.000    0.001    0.000 numeric.py:148(ones)\n",
      "      156    0.000    0.000    0.000    0.000 numeric.py:846(_mode_from_name)\n",
      "       24    0.000    0.000    0.170    0.007 FEE2.py:80(FilterPulse)\n",
      "       12    0.000    0.000    0.000    0.000 windows.py:1610(get_window)\n",
      "      168    0.000    0.000    0.000    0.000 {method 'astype' of 'numpy.ndarray' objects}\n",
      "       24    0.000    0.000    0.000    0.000 filter_design.py:1567(_zpklp2lp)\n",
      "       24    0.000    0.000    0.462    0.019 FEE2.py:187(FEENoise)\n",
      "      372    0.000    0.000    0.000    0.000 {method 'lower' of 'str' objects}\n",
      "       12    0.000    0.000    0.000    0.000 windows.py:859(hamming)\n",
      "       84    0.000    0.000    0.000    0.000 fromnumeric.py:1383(ravel)\n",
      "       72    0.000    0.000    0.016    0.000 filter_design.py:1824(butter)\n",
      "       84    0.000    0.000    0.001    0.000 fromnumeric.py:1892(any)\n",
      "       12    0.000    0.000    0.170    0.014 FEE2.py:131(Filter)\n",
      "       12    0.000    0.000    0.047    0.004 array.py:758(_read_slice)\n",
      "      420    0.000    0.000    0.000    0.000 {issubclass}\n",
      "       24    0.000    0.000    0.000    0.000 {numpy.core.multiarray.where}\n",
      "      144    0.000    0.000    0.000    0.000 fromnumeric.py:1619(compress)\n",
      "       72    0.000    0.000    0.000    0.000 fromnumeric.py:1875(alltrue)\n",
      "       24    0.000    0.000    0.000    0.000 leaf.py:390(_process_range)\n",
      "       84    0.000    0.000    0.001    0.000 {method 'any' of 'numpy.ndarray' objects}\n",
      "      144    0.000    0.000    0.000    0.000 {method 'index' of 'str' objects}\n",
      "       12    0.000    0.000    0.000    0.000 numeric.py:2064(isscalar)\n",
      "      108    0.000    0.000    0.000    0.000 filter_design.py:1503(_relative_degree)\n",
      "       12    0.000    0.000    0.384    0.032 FEE2.py:21(down_scale_signal_)\n",
      "      168    0.000    0.000    0.000    0.000 _methods.py:34(_prod)\n",
      "       12    0.000    0.000    0.000    0.000 shape_base.py:232(hstack)\n",
      "      144    0.000    0.000    0.000    0.000 {range}\n",
      "       72    0.000    0.000    0.000    0.000 {method 'all' of 'numpy.ndarray' objects}\n",
      "       12    0.000    0.000    0.118    0.010 signaltools.py:392(convolve)\n",
      "       36    0.000    0.000    0.000    0.000 {numpy.core.multiarray.result_type}\n",
      "       84    0.000    0.000    0.000    0.000 type_check.py:107(real)\n",
      "       12    0.000    0.000    0.118    0.010 SPE.py:91(SpePulseFromVectorPE)\n",
      "       84    0.000    0.000    0.000    0.000 {method 'ravel' of 'numpy.ndarray' objects}\n",
      "       84    0.000    0.000    0.000    0.000 _methods.py:37(_any)\n",
      "       12    0.000    0.000    0.000    0.000 node.py:342(_g_check_open)\n",
      "       72    0.000    0.000    0.000    0.000 {method 'copy' of 'numpy.ndarray' objects}\n",
      "       72    0.000    0.000    0.000    0.000 fromnumeric.py:2659(size)\n",
      "       12    0.000    0.000    0.000    0.000 fromnumeric.py:1843(product)\n",
      "       12    0.000    0.000    0.000    0.000 fromnumeric.py:1743(sum)\n",
      "      144    0.000    0.000    0.000    0.000 {method 'sort' of 'list' objects}\n",
      "       12    0.000    0.000    0.324    0.027 signaltools.py:957(<lambda>)\n",
      "       24    0.000    0.000    0.000    0.000 {method 'tolist' of 'numpy.ndarray' objects}\n",
      "       12    0.000    0.000    0.000    0.000 {method 'take' of 'numpy.ndarray' objects}\n",
      "       72    0.000    0.000    0.000    0.000 _methods.py:40(_all)\n",
      "      144    0.000    0.000    0.000    0.000 {method 'sort' of 'numpy.ndarray' objects}\n",
      "       24    0.000    0.000    0.000    0.000 utils.py:49(is_idx)\n",
      "       12    0.000    0.000    0.000    0.000 {method 'min' of 'numpy.ndarray' objects}\n",
      "       12    0.000    0.000    0.000    0.000 {method 'put' of 'numpy.ndarray' objects}\n",
      "       24    0.000    0.000    0.000    0.000 {method 'indices' of 'slice' objects}\n",
      "       12    0.000    0.000    0.000    0.000 _methods.py:28(_amin)\n",
      "       12    0.000    0.000    0.000    0.000 {method 'max' of 'numpy.ndarray' objects}\n",
      "       12    0.000    0.000    0.000    0.000 _methods.py:31(_sum)\n",
      "       12    0.000    0.000    0.000    0.000 leaf.py:211(<lambda>)\n",
      "       12    0.000    0.000    0.000    0.000 _methods.py:25(_amax)\n",
      "       12    0.000    0.000    0.000    0.000 FEParam.py:74(spe_i_to_adc)\n",
      "       12    0.000    0.000    0.000    0.000 FEParam.py:71(spe_i_to_v)\n",
      "       24    0.000    0.000    0.000    0.000 {operator.index}\n",
      "       12    0.000    0.000    0.000    0.000 {method 'remove' of 'list' objects}\n",
      "        1    0.000    0.000    0.000    0.000 {method 'disable' of '_lsprof.Profiler' objects}\n",
      "\n",
      "\n"
     ]
    }
   ],
   "source": [
    "cProfile.run(\"simulate_pmt_response_cy(0,pmtrd)\", sort='time')"
   ]
  },
  {
   "cell_type": "markdown",
   "metadata": {},
   "source": [
    "####  No gain in simulate_pmt_response, already optimized using SciPy-based FEE functions. "
   ]
  },
  {
   "cell_type": "markdown",
   "metadata": {},
   "source": [
    "Cythonize twf_signal leads to a gain, but not spectacular: 25 vs 30 (20%)"
   ]
  },
  {
   "cell_type": "code",
   "execution_count": 209,
   "metadata": {
    "collapsed": false
   },
   "outputs": [
    {
     "data": {
      "text/plain": [
       "1.2"
      ]
     },
     "execution_count": 209,
     "metadata": {},
     "output_type": "execute_result"
    }
   ],
   "source": [
    "30./25."
   ]
  },
  {
   "cell_type": "code",
   "execution_count": 210,
   "metadata": {
    "collapsed": true
   },
   "outputs": [],
   "source": [
    "h5f.close()"
   ]
  },
  {
   "cell_type": "code",
   "execution_count": null,
   "metadata": {
    "collapsed": true
   },
   "outputs": [],
   "source": []
  }
 ],
 "metadata": {
  "kernelspec": {
   "display_name": "Python 2",
   "language": "python",
   "name": "python2"
  },
  "language_info": {
   "codemirror_mode": {
    "name": "ipython",
    "version": 2
   },
   "file_extension": ".py",
   "mimetype": "text/x-python",
   "name": "python",
   "nbconvert_exporter": "python",
   "pygments_lexer": "ipython2",
   "version": "2.7.11"
  }
 },
 "nbformat": 4,
 "nbformat_minor": 0
}
