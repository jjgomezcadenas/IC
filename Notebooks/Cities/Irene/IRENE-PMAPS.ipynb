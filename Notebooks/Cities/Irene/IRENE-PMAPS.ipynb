{
 "cells": [
  {
   "cell_type": "markdown",
   "metadata": {},
   "source": [
    "# IRENE-PMAPS"
   ]
  },
  {
   "cell_type": "markdown",
   "metadata": {},
   "source": [
    "## Test IRENE PMAPS"
   ]
  },
  {
   "cell_type": "code",
   "execution_count": 1,
   "metadata": {
    "collapsed": true
   },
   "outputs": [],
   "source": [
    "import time\n",
    "%matplotlib inline\n",
    "%load_ext autoreload\n",
    "import matplotlib.pyplot as plt\n",
    "import pandas as pd\n",
    "import tables as tb\n",
    "import numpy as np\n",
    "import Core.mplFunctions as mpl\n",
    "import Core.wfmFunctions as wfm\n",
    "from Database import loadDB\n",
    "import ICython.Sierpe.BLR as blr\n",
    "import ICython.Core.peakFunctions as cpf\n",
    "import Core.peakFunctions as pf\n",
    "from ICython.Core.system_of_units import SystemOfUnits \n",
    "from scipy import signal\n",
    "%load_ext Cython"
   ]
  },
  {
   "cell_type": "code",
   "execution_count": 2,
   "metadata": {
    "collapsed": false
   },
   "outputs": [
    {
     "name": "stdout",
     "output_type": "stream",
     "text": [
      "14/12/2016\n",
      "11:54:39\n"
     ]
    }
   ],
   "source": [
    "print(time.strftime(\"%d/%m/%Y\"))\n",
    "print(time.strftime(\"%H:%M:%S\"))"
   ]
  },
  {
   "cell_type": "code",
   "execution_count": 3,
   "metadata": {
    "collapsed": true
   },
   "outputs": [],
   "source": [
    "from time import time"
   ]
  },
  {
   "cell_type": "markdown",
   "metadata": {},
   "source": [
    "### Read PMAPS file"
   ]
  },
  {
   "cell_type": "code",
   "execution_count": 4,
   "metadata": {
    "collapsed": true
   },
   "outputs": [],
   "source": [
    "path='/Users/jjgomezcadenas/Documents/Development/NEXT/icdata/LSC/run3112/'"
   ]
  },
  {
   "cell_type": "code",
   "execution_count": 5,
   "metadata": {
    "collapsed": true
   },
   "outputs": [],
   "source": [
    "fpmaps400 = tb.open_file(path+'pmaps_3112_0_400.h5')"
   ]
  },
  {
   "cell_type": "markdown",
   "metadata": {},
   "source": [
    "### Read S1, S2 and S2Si into data frames"
   ]
  },
  {
   "cell_type": "code",
   "execution_count": 6,
   "metadata": {
    "collapsed": false
   },
   "outputs": [
    {
     "name": "stdout",
     "output_type": "stream",
     "text": [
      "read S1 in 0.360090970993 s\n"
     ]
    }
   ],
   "source": [
    "t0 = time()\n",
    "s1t = fpmaps400.root.PMAPS.S1\n",
    "S1df = pd.DataFrame.from_records(s1t.read())\n",
    "t1 = time()        \n",
    "dt = t1 - t0\n",
    "\n",
    "print(\"read S1 in {} s\".format(dt))"
   ]
  },
  {
   "cell_type": "code",
   "execution_count": 114,
   "metadata": {
    "collapsed": false
   },
   "outputs": [
    {
     "data": {
      "text/html": [
       "<div>\n",
       "<table border=\"1\" class=\"dataframe\">\n",
       "  <thead>\n",
       "    <tr style=\"text-align: right;\">\n",
       "      <th></th>\n",
       "      <th>event</th>\n",
       "      <th>peak</th>\n",
       "      <th>time</th>\n",
       "      <th>ene</th>\n",
       "    </tr>\n",
       "  </thead>\n",
       "  <tbody>\n",
       "    <tr>\n",
       "      <th>0</th>\n",
       "      <td>0</td>\n",
       "      <td>0</td>\n",
       "      <td>271650.0</td>\n",
       "      <td>7.578062</td>\n",
       "    </tr>\n",
       "    <tr>\n",
       "      <th>1</th>\n",
       "      <td>0</td>\n",
       "      <td>0</td>\n",
       "      <td>271675.0</td>\n",
       "      <td>26.388638</td>\n",
       "    </tr>\n",
       "    <tr>\n",
       "      <th>2</th>\n",
       "      <td>0</td>\n",
       "      <td>0</td>\n",
       "      <td>271700.0</td>\n",
       "      <td>53.285999</td>\n",
       "    </tr>\n",
       "    <tr>\n",
       "      <th>3</th>\n",
       "      <td>0</td>\n",
       "      <td>0</td>\n",
       "      <td>271725.0</td>\n",
       "      <td>75.272369</td>\n",
       "    </tr>\n",
       "    <tr>\n",
       "      <th>4</th>\n",
       "      <td>0</td>\n",
       "      <td>0</td>\n",
       "      <td>271750.0</td>\n",
       "      <td>81.818665</td>\n",
       "    </tr>\n",
       "    <tr>\n",
       "      <th>5</th>\n",
       "      <td>0</td>\n",
       "      <td>0</td>\n",
       "      <td>271775.0</td>\n",
       "      <td>71.910141</td>\n",
       "    </tr>\n",
       "    <tr>\n",
       "      <th>6</th>\n",
       "      <td>0</td>\n",
       "      <td>0</td>\n",
       "      <td>271800.0</td>\n",
       "      <td>52.719391</td>\n",
       "    </tr>\n",
       "    <tr>\n",
       "      <th>7</th>\n",
       "      <td>0</td>\n",
       "      <td>0</td>\n",
       "      <td>271825.0</td>\n",
       "      <td>33.513714</td>\n",
       "    </tr>\n",
       "    <tr>\n",
       "      <th>8</th>\n",
       "      <td>0</td>\n",
       "      <td>0</td>\n",
       "      <td>271850.0</td>\n",
       "      <td>18.906300</td>\n",
       "    </tr>\n",
       "    <tr>\n",
       "      <th>9</th>\n",
       "      <td>0</td>\n",
       "      <td>0</td>\n",
       "      <td>271875.0</td>\n",
       "      <td>10.179748</td>\n",
       "    </tr>\n",
       "    <tr>\n",
       "      <th>10</th>\n",
       "      <td>0</td>\n",
       "      <td>0</td>\n",
       "      <td>271900.0</td>\n",
       "      <td>4.809398</td>\n",
       "    </tr>\n",
       "    <tr>\n",
       "      <th>11</th>\n",
       "      <td>0</td>\n",
       "      <td>0</td>\n",
       "      <td>271925.0</td>\n",
       "      <td>2.121005</td>\n",
       "    </tr>\n",
       "    <tr>\n",
       "      <th>12</th>\n",
       "      <td>0</td>\n",
       "      <td>0</td>\n",
       "      <td>271950.0</td>\n",
       "      <td>2.009522</td>\n",
       "    </tr>\n",
       "    <tr>\n",
       "      <th>13</th>\n",
       "      <td>0</td>\n",
       "      <td>0</td>\n",
       "      <td>271975.0</td>\n",
       "      <td>1.648805</td>\n",
       "    </tr>\n",
       "    <tr>\n",
       "      <th>14</th>\n",
       "      <td>0</td>\n",
       "      <td>0</td>\n",
       "      <td>272000.0</td>\n",
       "      <td>1.265607</td>\n",
       "    </tr>\n",
       "    <tr>\n",
       "      <th>15</th>\n",
       "      <td>0</td>\n",
       "      <td>1</td>\n",
       "      <td>570300.0</td>\n",
       "      <td>2.364435</td>\n",
       "    </tr>\n",
       "    <tr>\n",
       "      <th>16</th>\n",
       "      <td>0</td>\n",
       "      <td>1</td>\n",
       "      <td>570325.0</td>\n",
       "      <td>6.257989</td>\n",
       "    </tr>\n",
       "    <tr>\n",
       "      <th>17</th>\n",
       "      <td>0</td>\n",
       "      <td>1</td>\n",
       "      <td>570350.0</td>\n",
       "      <td>7.871673</td>\n",
       "    </tr>\n",
       "    <tr>\n",
       "      <th>18</th>\n",
       "      <td>0</td>\n",
       "      <td>1</td>\n",
       "      <td>570375.0</td>\n",
       "      <td>4.097559</td>\n",
       "    </tr>\n",
       "    <tr>\n",
       "      <th>19</th>\n",
       "      <td>0</td>\n",
       "      <td>1</td>\n",
       "      <td>570400.0</td>\n",
       "      <td>6.645101</td>\n",
       "    </tr>\n",
       "    <tr>\n",
       "      <th>20</th>\n",
       "      <td>0</td>\n",
       "      <td>1</td>\n",
       "      <td>570425.0</td>\n",
       "      <td>6.467822</td>\n",
       "    </tr>\n",
       "    <tr>\n",
       "      <th>21</th>\n",
       "      <td>0</td>\n",
       "      <td>1</td>\n",
       "      <td>570450.0</td>\n",
       "      <td>5.710946</td>\n",
       "    </tr>\n",
       "    <tr>\n",
       "      <th>22</th>\n",
       "      <td>0</td>\n",
       "      <td>1</td>\n",
       "      <td>570550.0</td>\n",
       "      <td>3.741935</td>\n",
       "    </tr>\n",
       "    <tr>\n",
       "      <th>23</th>\n",
       "      <td>0</td>\n",
       "      <td>1</td>\n",
       "      <td>570575.0</td>\n",
       "      <td>3.941160</td>\n",
       "    </tr>\n",
       "    <tr>\n",
       "      <th>24</th>\n",
       "      <td>0</td>\n",
       "      <td>1</td>\n",
       "      <td>570600.0</td>\n",
       "      <td>1.258925</td>\n",
       "    </tr>\n",
       "    <tr>\n",
       "      <th>25</th>\n",
       "      <td>1</td>\n",
       "      <td>0</td>\n",
       "      <td>518400.0</td>\n",
       "      <td>2.431399</td>\n",
       "    </tr>\n",
       "    <tr>\n",
       "      <th>26</th>\n",
       "      <td>1</td>\n",
       "      <td>0</td>\n",
       "      <td>518425.0</td>\n",
       "      <td>13.050335</td>\n",
       "    </tr>\n",
       "    <tr>\n",
       "      <th>27</th>\n",
       "      <td>1</td>\n",
       "      <td>0</td>\n",
       "      <td>518450.0</td>\n",
       "      <td>31.459312</td>\n",
       "    </tr>\n",
       "    <tr>\n",
       "      <th>28</th>\n",
       "      <td>1</td>\n",
       "      <td>0</td>\n",
       "      <td>518475.0</td>\n",
       "      <td>47.769619</td>\n",
       "    </tr>\n",
       "    <tr>\n",
       "      <th>29</th>\n",
       "      <td>1</td>\n",
       "      <td>0</td>\n",
       "      <td>518500.0</td>\n",
       "      <td>54.464569</td>\n",
       "    </tr>\n",
       "    <tr>\n",
       "      <th>...</th>\n",
       "      <td>...</td>\n",
       "      <td>...</td>\n",
       "      <td>...</td>\n",
       "      <td>...</td>\n",
       "    </tr>\n",
       "    <tr>\n",
       "      <th>2374330</th>\n",
       "      <td>70976</td>\n",
       "      <td>2</td>\n",
       "      <td>286175.0</td>\n",
       "      <td>1.471827</td>\n",
       "    </tr>\n",
       "    <tr>\n",
       "      <th>2374331</th>\n",
       "      <td>70976</td>\n",
       "      <td>2</td>\n",
       "      <td>286275.0</td>\n",
       "      <td>1.103485</td>\n",
       "    </tr>\n",
       "    <tr>\n",
       "      <th>2374332</th>\n",
       "      <td>70976</td>\n",
       "      <td>2</td>\n",
       "      <td>286300.0</td>\n",
       "      <td>2.173954</td>\n",
       "    </tr>\n",
       "    <tr>\n",
       "      <th>2374333</th>\n",
       "      <td>70976</td>\n",
       "      <td>2</td>\n",
       "      <td>286325.0</td>\n",
       "      <td>2.706599</td>\n",
       "    </tr>\n",
       "    <tr>\n",
       "      <th>2374334</th>\n",
       "      <td>70976</td>\n",
       "      <td>2</td>\n",
       "      <td>286350.0</td>\n",
       "      <td>2.607345</td>\n",
       "    </tr>\n",
       "    <tr>\n",
       "      <th>2374335</th>\n",
       "      <td>70976</td>\n",
       "      <td>2</td>\n",
       "      <td>286375.0</td>\n",
       "      <td>2.337588</td>\n",
       "    </tr>\n",
       "    <tr>\n",
       "      <th>2374336</th>\n",
       "      <td>70976</td>\n",
       "      <td>2</td>\n",
       "      <td>286400.0</td>\n",
       "      <td>1.619971</td>\n",
       "    </tr>\n",
       "    <tr>\n",
       "      <th>2374337</th>\n",
       "      <td>70976</td>\n",
       "      <td>2</td>\n",
       "      <td>286425.0</td>\n",
       "      <td>1.785224</td>\n",
       "    </tr>\n",
       "    <tr>\n",
       "      <th>2374338</th>\n",
       "      <td>70976</td>\n",
       "      <td>2</td>\n",
       "      <td>286450.0</td>\n",
       "      <td>2.112318</td>\n",
       "    </tr>\n",
       "    <tr>\n",
       "      <th>2374339</th>\n",
       "      <td>70976</td>\n",
       "      <td>2</td>\n",
       "      <td>286475.0</td>\n",
       "      <td>2.493100</td>\n",
       "    </tr>\n",
       "    <tr>\n",
       "      <th>2374340</th>\n",
       "      <td>70976</td>\n",
       "      <td>2</td>\n",
       "      <td>286500.0</td>\n",
       "      <td>2.164077</td>\n",
       "    </tr>\n",
       "    <tr>\n",
       "      <th>2374341</th>\n",
       "      <td>70976</td>\n",
       "      <td>2</td>\n",
       "      <td>286525.0</td>\n",
       "      <td>1.845693</td>\n",
       "    </tr>\n",
       "    <tr>\n",
       "      <th>2374342</th>\n",
       "      <td>70976</td>\n",
       "      <td>2</td>\n",
       "      <td>286550.0</td>\n",
       "      <td>1.133660</td>\n",
       "    </tr>\n",
       "    <tr>\n",
       "      <th>2374343</th>\n",
       "      <td>70976</td>\n",
       "      <td>2</td>\n",
       "      <td>286575.0</td>\n",
       "      <td>1.180750</td>\n",
       "    </tr>\n",
       "    <tr>\n",
       "      <th>2374344</th>\n",
       "      <td>70976</td>\n",
       "      <td>3</td>\n",
       "      <td>438100.0</td>\n",
       "      <td>1.580350</td>\n",
       "    </tr>\n",
       "    <tr>\n",
       "      <th>2374345</th>\n",
       "      <td>70976</td>\n",
       "      <td>3</td>\n",
       "      <td>438125.0</td>\n",
       "      <td>10.344286</td>\n",
       "    </tr>\n",
       "    <tr>\n",
       "      <th>2374346</th>\n",
       "      <td>70976</td>\n",
       "      <td>3</td>\n",
       "      <td>438150.0</td>\n",
       "      <td>27.968014</td>\n",
       "    </tr>\n",
       "    <tr>\n",
       "      <th>2374347</th>\n",
       "      <td>70976</td>\n",
       "      <td>3</td>\n",
       "      <td>438175.0</td>\n",
       "      <td>47.602348</td>\n",
       "    </tr>\n",
       "    <tr>\n",
       "      <th>2374348</th>\n",
       "      <td>70976</td>\n",
       "      <td>3</td>\n",
       "      <td>438200.0</td>\n",
       "      <td>59.190895</td>\n",
       "    </tr>\n",
       "    <tr>\n",
       "      <th>2374349</th>\n",
       "      <td>70976</td>\n",
       "      <td>3</td>\n",
       "      <td>438225.0</td>\n",
       "      <td>58.969151</td>\n",
       "    </tr>\n",
       "    <tr>\n",
       "      <th>2374350</th>\n",
       "      <td>70976</td>\n",
       "      <td>3</td>\n",
       "      <td>438250.0</td>\n",
       "      <td>49.576893</td>\n",
       "    </tr>\n",
       "    <tr>\n",
       "      <th>2374351</th>\n",
       "      <td>70976</td>\n",
       "      <td>3</td>\n",
       "      <td>438275.0</td>\n",
       "      <td>36.596355</td>\n",
       "    </tr>\n",
       "    <tr>\n",
       "      <th>2374352</th>\n",
       "      <td>70976</td>\n",
       "      <td>3</td>\n",
       "      <td>438300.0</td>\n",
       "      <td>24.455759</td>\n",
       "    </tr>\n",
       "    <tr>\n",
       "      <th>2374353</th>\n",
       "      <td>70976</td>\n",
       "      <td>3</td>\n",
       "      <td>438325.0</td>\n",
       "      <td>16.048067</td>\n",
       "    </tr>\n",
       "    <tr>\n",
       "      <th>2374354</th>\n",
       "      <td>70976</td>\n",
       "      <td>3</td>\n",
       "      <td>438350.0</td>\n",
       "      <td>11.003704</td>\n",
       "    </tr>\n",
       "    <tr>\n",
       "      <th>2374355</th>\n",
       "      <td>70976</td>\n",
       "      <td>3</td>\n",
       "      <td>438375.0</td>\n",
       "      <td>8.000620</td>\n",
       "    </tr>\n",
       "    <tr>\n",
       "      <th>2374356</th>\n",
       "      <td>70976</td>\n",
       "      <td>3</td>\n",
       "      <td>438400.0</td>\n",
       "      <td>5.833279</td>\n",
       "    </tr>\n",
       "    <tr>\n",
       "      <th>2374357</th>\n",
       "      <td>70976</td>\n",
       "      <td>3</td>\n",
       "      <td>438425.0</td>\n",
       "      <td>5.469996</td>\n",
       "    </tr>\n",
       "    <tr>\n",
       "      <th>2374358</th>\n",
       "      <td>70976</td>\n",
       "      <td>3</td>\n",
       "      <td>438450.0</td>\n",
       "      <td>3.276882</td>\n",
       "    </tr>\n",
       "    <tr>\n",
       "      <th>2374359</th>\n",
       "      <td>70976</td>\n",
       "      <td>3</td>\n",
       "      <td>438475.0</td>\n",
       "      <td>1.665370</td>\n",
       "    </tr>\n",
       "  </tbody>\n",
       "</table>\n",
       "<p>2374360 rows × 4 columns</p>\n",
       "</div>"
      ],
      "text/plain": [
       "         event  peak      time        ene\n",
       "0            0     0  271650.0   7.578062\n",
       "1            0     0  271675.0  26.388638\n",
       "2            0     0  271700.0  53.285999\n",
       "3            0     0  271725.0  75.272369\n",
       "4            0     0  271750.0  81.818665\n",
       "5            0     0  271775.0  71.910141\n",
       "6            0     0  271800.0  52.719391\n",
       "7            0     0  271825.0  33.513714\n",
       "8            0     0  271850.0  18.906300\n",
       "9            0     0  271875.0  10.179748\n",
       "10           0     0  271900.0   4.809398\n",
       "11           0     0  271925.0   2.121005\n",
       "12           0     0  271950.0   2.009522\n",
       "13           0     0  271975.0   1.648805\n",
       "14           0     0  272000.0   1.265607\n",
       "15           0     1  570300.0   2.364435\n",
       "16           0     1  570325.0   6.257989\n",
       "17           0     1  570350.0   7.871673\n",
       "18           0     1  570375.0   4.097559\n",
       "19           0     1  570400.0   6.645101\n",
       "20           0     1  570425.0   6.467822\n",
       "21           0     1  570450.0   5.710946\n",
       "22           0     1  570550.0   3.741935\n",
       "23           0     1  570575.0   3.941160\n",
       "24           0     1  570600.0   1.258925\n",
       "25           1     0  518400.0   2.431399\n",
       "26           1     0  518425.0  13.050335\n",
       "27           1     0  518450.0  31.459312\n",
       "28           1     0  518475.0  47.769619\n",
       "29           1     0  518500.0  54.464569\n",
       "...        ...   ...       ...        ...\n",
       "2374330  70976     2  286175.0   1.471827\n",
       "2374331  70976     2  286275.0   1.103485\n",
       "2374332  70976     2  286300.0   2.173954\n",
       "2374333  70976     2  286325.0   2.706599\n",
       "2374334  70976     2  286350.0   2.607345\n",
       "2374335  70976     2  286375.0   2.337588\n",
       "2374336  70976     2  286400.0   1.619971\n",
       "2374337  70976     2  286425.0   1.785224\n",
       "2374338  70976     2  286450.0   2.112318\n",
       "2374339  70976     2  286475.0   2.493100\n",
       "2374340  70976     2  286500.0   2.164077\n",
       "2374341  70976     2  286525.0   1.845693\n",
       "2374342  70976     2  286550.0   1.133660\n",
       "2374343  70976     2  286575.0   1.180750\n",
       "2374344  70976     3  438100.0   1.580350\n",
       "2374345  70976     3  438125.0  10.344286\n",
       "2374346  70976     3  438150.0  27.968014\n",
       "2374347  70976     3  438175.0  47.602348\n",
       "2374348  70976     3  438200.0  59.190895\n",
       "2374349  70976     3  438225.0  58.969151\n",
       "2374350  70976     3  438250.0  49.576893\n",
       "2374351  70976     3  438275.0  36.596355\n",
       "2374352  70976     3  438300.0  24.455759\n",
       "2374353  70976     3  438325.0  16.048067\n",
       "2374354  70976     3  438350.0  11.003704\n",
       "2374355  70976     3  438375.0   8.000620\n",
       "2374356  70976     3  438400.0   5.833279\n",
       "2374357  70976     3  438425.0   5.469996\n",
       "2374358  70976     3  438450.0   3.276882\n",
       "2374359  70976     3  438475.0   1.665370\n",
       "\n",
       "[2374360 rows x 4 columns]"
      ]
     },
     "execution_count": 114,
     "metadata": {},
     "output_type": "execute_result"
    }
   ],
   "source": [
    "S1df"
   ]
  },
  {
   "cell_type": "code",
   "execution_count": 116,
   "metadata": {
    "collapsed": false
   },
   "outputs": [
    {
     "data": {
      "text/plain": [
       "RangeIndex(start=0, stop=2374360, step=1)"
      ]
     },
     "execution_count": 116,
     "metadata": {},
     "output_type": "execute_result"
    }
   ],
   "source": [
    "S1df.index"
   ]
  },
  {
   "cell_type": "code",
   "execution_count": null,
   "metadata": {
    "collapsed": true
   },
   "outputs": [],
   "source": []
  },
  {
   "cell_type": "code",
   "execution_count": 7,
   "metadata": {
    "collapsed": false
   },
   "outputs": [
    {
     "name": "stdout",
     "output_type": "stream",
     "text": [
      "read S2 in 0.415359973907 s\n"
     ]
    }
   ],
   "source": [
    "t0 = time()\n",
    "s2t = fpmaps400.root.PMAPS.S2\n",
    "S2df = pd.DataFrame.from_records(s2t.read())\n",
    "t1 = time()        \n",
    "dt = t1 - t0\n",
    "\n",
    "print(\"read S2 in {} s\".format(dt))"
   ]
  },
  {
   "cell_type": "code",
   "execution_count": 8,
   "metadata": {
    "collapsed": false
   },
   "outputs": [
    {
     "name": "stdout",
     "output_type": "stream",
     "text": [
      "read S2Si in 3.14368700981 s\n"
     ]
    }
   ],
   "source": [
    "t0 = time()\n",
    "s2sit = fpmaps400.root.PMAPS.S2Si\n",
    "S2Sidf = pd.DataFrame.from_records(s2sit.read())\n",
    "t1 = time()        \n",
    "dt = t1 - t0\n",
    "\n",
    "print(\"read S2Si in {} s\".format(dt))"
   ]
  },
  {
   "cell_type": "markdown",
   "metadata": {},
   "source": [
    "### Plot distributions"
   ]
  },
  {
   "cell_type": "code",
   "execution_count": 9,
   "metadata": {
    "collapsed": false
   },
   "outputs": [
    {
     "data": {
      "text/html": [
       "<div>\n",
       "<table border=\"1\" class=\"dataframe\">\n",
       "  <thead>\n",
       "    <tr style=\"text-align: right;\">\n",
       "      <th></th>\n",
       "      <th>event</th>\n",
       "      <th>peak</th>\n",
       "      <th>nsipm</th>\n",
       "      <th>nsample</th>\n",
       "      <th>ene</th>\n",
       "    </tr>\n",
       "  </thead>\n",
       "  <tbody>\n",
       "    <tr>\n",
       "      <th>0</th>\n",
       "      <td>0</td>\n",
       "      <td>0</td>\n",
       "      <td>1472</td>\n",
       "      <td>25</td>\n",
       "      <td>5.278246</td>\n",
       "    </tr>\n",
       "    <tr>\n",
       "      <th>1</th>\n",
       "      <td>0</td>\n",
       "      <td>0</td>\n",
       "      <td>1472</td>\n",
       "      <td>28</td>\n",
       "      <td>5.877978</td>\n",
       "    </tr>\n",
       "    <tr>\n",
       "      <th>2</th>\n",
       "      <td>0</td>\n",
       "      <td>0</td>\n",
       "      <td>1472</td>\n",
       "      <td>29</td>\n",
       "      <td>11.635410</td>\n",
       "    </tr>\n",
       "    <tr>\n",
       "      <th>3</th>\n",
       "      <td>0</td>\n",
       "      <td>0</td>\n",
       "      <td>1472</td>\n",
       "      <td>30</td>\n",
       "      <td>12.295116</td>\n",
       "    </tr>\n",
       "    <tr>\n",
       "      <th>4</th>\n",
       "      <td>0</td>\n",
       "      <td>0</td>\n",
       "      <td>1472</td>\n",
       "      <td>31</td>\n",
       "      <td>16.673164</td>\n",
       "    </tr>\n",
       "  </tbody>\n",
       "</table>\n",
       "</div>"
      ],
      "text/plain": [
       "   event  peak  nsipm  nsample        ene\n",
       "0      0     0   1472       25   5.278246\n",
       "1      0     0   1472       28   5.877978\n",
       "2      0     0   1472       29  11.635410\n",
       "3      0     0   1472       30  12.295116\n",
       "4      0     0   1472       31  16.673164"
      ]
     },
     "execution_count": 9,
     "metadata": {},
     "output_type": "execute_result"
    }
   ],
   "source": [
    "S2Sidf.head()"
   ]
  },
  {
   "cell_type": "code",
   "execution_count": 12,
   "metadata": {
    "collapsed": false
   },
   "outputs": [
    {
     "data": {
      "text/plain": [
       "(array([ 3974100.,  6837993.,  7909176.,  5943539.,  3072344.,  1511734.,\n",
       "          860494.,   494856.,   216410.,    91667.]),\n",
       " array([  0. ,   4.9,   9.8,  14.7,  19.6,  24.5,  29.4,  34.3,  39.2,\n",
       "         44.1,  49. ]),\n",
       " <a list of 10 Patch objects>)"
      ]
     },
     "execution_count": 12,
     "metadata": {},
     "output_type": "execute_result"
    },
    {
     "data": {
      "image/png": "[encoded data removed]",
      "text/plain": [
       "<matplotlib.figure.Figure at 0x11176cd90>"
      ]
     },
     "metadata": {},
     "output_type": "display_data"
    }
   ],
   "source": [
    "plt.hist(S2Sidf.nsample[S2Sidf.nsample<50])"
   ]
  },
  {
   "cell_type": "code",
   "execution_count": 14,
   "metadata": {
    "collapsed": false
   },
   "outputs": [
    {
     "data": {
      "text/plain": [
       "(array([  3247997.,  11236536.,   6040090.,   3457026.,   2145995.,\n",
       "          1402584.,    957443.,    670149.,    479337.,    348648.]),\n",
       " array([  1.56774068,   6.41096165,  11.25418262,  16.0974036 ,\n",
       "         20.94062457,  25.78384554,  30.62706652,  35.47028749,\n",
       "         40.31350846,  45.15672944,  49.99995041]),\n",
       " <a list of 10 Patch objects>)"
      ]
     },
     "execution_count": 14,
     "metadata": {},
     "output_type": "execute_result"
    },
    {
     "data": {
      "image/png": "[encoded data removed]",
      "text/plain": [
       "<matplotlib.figure.Figure at 0x12d75bb90>"
      ]
     },
     "metadata": {},
     "output_type": "display_data"
    }
   ],
   "source": [
    "plt.hist(S2Sidf.ene[S2Sidf.ene<50])"
   ]
  },
  {
   "cell_type": "code",
   "execution_count": 15,
   "metadata": {
    "collapsed": false
   },
   "outputs": [
    {
     "data": {
      "text/html": [
       "<div>\n",
       "<table border=\"1\" class=\"dataframe\">\n",
       "  <thead>\n",
       "    <tr style=\"text-align: right;\">\n",
       "      <th></th>\n",
       "      <th>event</th>\n",
       "      <th>peak</th>\n",
       "      <th>time</th>\n",
       "      <th>ene</th>\n",
       "    </tr>\n",
       "  </thead>\n",
       "  <tbody>\n",
       "    <tr>\n",
       "      <th>0</th>\n",
       "      <td>0</td>\n",
       "      <td>0</td>\n",
       "      <td>271650.0</td>\n",
       "      <td>7.578062</td>\n",
       "    </tr>\n",
       "    <tr>\n",
       "      <th>1</th>\n",
       "      <td>0</td>\n",
       "      <td>0</td>\n",
       "      <td>271675.0</td>\n",
       "      <td>26.388638</td>\n",
       "    </tr>\n",
       "    <tr>\n",
       "      <th>2</th>\n",
       "      <td>0</td>\n",
       "      <td>0</td>\n",
       "      <td>271700.0</td>\n",
       "      <td>53.285999</td>\n",
       "    </tr>\n",
       "    <tr>\n",
       "      <th>3</th>\n",
       "      <td>0</td>\n",
       "      <td>0</td>\n",
       "      <td>271725.0</td>\n",
       "      <td>75.272369</td>\n",
       "    </tr>\n",
       "    <tr>\n",
       "      <th>4</th>\n",
       "      <td>0</td>\n",
       "      <td>0</td>\n",
       "      <td>271750.0</td>\n",
       "      <td>81.818665</td>\n",
       "    </tr>\n",
       "  </tbody>\n",
       "</table>\n",
       "</div>"
      ],
      "text/plain": [
       "   event  peak      time        ene\n",
       "0      0     0  271650.0   7.578062\n",
       "1      0     0  271675.0  26.388638\n",
       "2      0     0  271700.0  53.285999\n",
       "3      0     0  271725.0  75.272369\n",
       "4      0     0  271750.0  81.818665"
      ]
     },
     "execution_count": 15,
     "metadata": {},
     "output_type": "execute_result"
    }
   ],
   "source": [
    "S1df.head()"
   ]
  },
  {
   "cell_type": "code",
   "execution_count": 17,
   "metadata": {
    "collapsed": false
   },
   "outputs": [
    {
     "data": {
      "text/plain": [
       "(array([ 923227.,  485748.,  302305.,  209638.,  146586.,   99640.,\n",
       "          66998.,   44452.,   30195.,   20088.]),\n",
       " array([ 0. ,  0.9,  1.8,  2.7,  3.6,  4.5,  5.4,  6.3,  7.2,  8.1,  9. ]),\n",
       " <a list of 10 Patch objects>)"
      ]
     },
     "execution_count": 17,
     "metadata": {},
     "output_type": "execute_result"
    },
    {
     "data": {
      "image/png": "[encoded data removed]",
      "text/plain": [
       "<matplotlib.figure.Figure at 0x12d8e75d0>"
      ]
     },
     "metadata": {},
     "output_type": "display_data"
    }
   ],
   "source": [
    "plt.hist(S1df.peak[S1df.peak<10])"
   ]
  },
  {
   "cell_type": "code",
   "execution_count": 20,
   "metadata": {
    "collapsed": false
   },
   "outputs": [
    {
     "data": {
      "text/plain": [
       "(array([ 470.,  469.,  502.,  311.,  149.,  468.,  404.,  349.,  356.,  616.]),\n",
       " array([ 0. ,  0.9,  1.8,  2.7,  3.6,  4.5,  5.4,  6.3,  7.2,  8.1,  9. ]),\n",
       " <a list of 10 Patch objects>)"
      ]
     },
     "execution_count": 20,
     "metadata": {},
     "output_type": "execute_result"
    },
    {
     "data": {
      "image/png": "[encoded data removed]",
      "text/plain": [
       "<matplotlib.figure.Figure at 0x12dbfaf10>"
      ]
     },
     "metadata": {},
     "output_type": "display_data"
    }
   ],
   "source": [
    "plt.hist(S2Sidf.event[S2Sidf.event<10])"
   ]
  },
  {
   "cell_type": "code",
   "execution_count": 30,
   "metadata": {
    "collapsed": false
   },
   "outputs": [
    {
     "name": "stdout",
     "output_type": "stream",
     "text": [
      "run in 0.00359892845154 s\n"
     ]
    }
   ],
   "source": [
    "t0 = time()\n",
    "s12t = S1df.loc[lambda df: S1df.event.values ==0, :]\n",
    "t1 = time()        \n",
    "dt = t1 - t0\n",
    "\n",
    "print(\"run in {} s\".format(dt))"
   ]
  },
  {
   "cell_type": "code",
   "execution_count": 110,
   "metadata": {
    "collapsed": false
   },
   "outputs": [
    {
     "name": "stdout",
     "output_type": "stream",
     "text": [
      "run in 0.0032639503479 s\n"
     ]
    }
   ],
   "source": [
    "t0 = time()\n",
    "mask = S1df.event.values ==0 \n",
    "s12t = S1df[mask]\n",
    "t1 = time()        \n",
    "dt = t1 - t0\n",
    "\n",
    "print(\"run in {} s\".format(dt))"
   ]
  },
  {
   "cell_type": "code",
   "execution_count": 132,
   "metadata": {
    "collapsed": false
   },
   "outputs": [
    {
     "name": "stdout",
     "output_type": "stream",
     "text": [
      "    event  peak      time        ene\n",
      "0       0     0  271650.0   7.578062\n",
      "1       0     0  271675.0  26.388638\n",
      "2       0     0  271700.0  53.285999\n",
      "3       0     0  271725.0  75.272369\n",
      "4       0     0  271750.0  81.818665\n",
      "5       0     0  271775.0  71.910141\n",
      "6       0     0  271800.0  52.719391\n",
      "7       0     0  271825.0  33.513714\n",
      "8       0     0  271850.0  18.906300\n",
      "9       0     0  271875.0  10.179748\n",
      "10      0     0  271900.0   4.809398\n",
      "11      0     0  271925.0   2.121005\n",
      "12      0     0  271950.0   2.009522\n",
      "13      0     0  271975.0   1.648805\n",
      "14      0     0  272000.0   1.265607\n",
      "15      0     1  570300.0   2.364435\n",
      "16      0     1  570325.0   6.257989\n",
      "17      0     1  570350.0   7.871673\n",
      "18      0     1  570375.0   4.097559\n",
      "19      0     1  570400.0   6.645101\n",
      "20      0     1  570425.0   6.467822\n",
      "21      0     1  570450.0   5.710946\n",
      "22      0     1  570550.0   3.741935\n",
      "23      0     1  570575.0   3.941160\n",
      "24      0     1  570600.0   1.258925\n",
      "25      1     0  518400.0   2.431399\n",
      "26      1     0  518425.0  13.050335\n",
      "27      1     0  518450.0  31.459312\n",
      "28      1     0  518475.0  47.769619\n",
      "29      1     0  518500.0  54.464569\n",
      "..    ...   ...       ...        ...\n",
      "70      3     1  483350.0  42.578621\n",
      "71      3     1  483375.0  26.658257\n",
      "72      3     1  483400.0  13.818762\n",
      "73      3     1  483425.0   5.701580\n",
      "74      3     1  483450.0   3.332161\n",
      "75      3     1  483475.0   1.959933\n",
      "76      3     1  483500.0   2.053674\n",
      "77      4     0   88575.0   1.286569\n",
      "78      4     0   88600.0   6.935102\n",
      "79      4     0   88625.0  16.265274\n",
      "80      4     0   88650.0  24.848564\n",
      "81      4     0   88675.0  28.419415\n",
      "82      4     0   88700.0  26.404259\n",
      "83      4     0   88725.0  19.843225\n",
      "84      4     0   88750.0  12.893415\n",
      "85      4     0   88775.0   7.321701\n",
      "86      4     0   88800.0   4.342646\n",
      "87      4     0   88825.0   2.696327\n",
      "88      4     0   88850.0   1.549489\n",
      "89      4     0   88875.0   1.894758\n",
      "90      4     0   88900.0   1.577710\n",
      "91      4     0   88925.0   1.091602\n",
      "92      4     1  321025.0   2.614340\n",
      "93      4     1  321050.0   4.129762\n",
      "94      4     1  321075.0   5.510469\n",
      "95      4     1  321100.0   5.905208\n",
      "96      4     1  321125.0   5.595943\n",
      "97      4     1  321150.0   4.661977\n",
      "98      4     1  321175.0   3.002325\n",
      "99      4     1  321200.0   2.009768\n",
      "\n",
      "[100 rows x 4 columns]\n"
     ]
    }
   ],
   "source": [
    "print(S1df[0:100])"
   ]
  },
  {
   "cell_type": "code",
   "execution_count": null,
   "metadata": {
    "collapsed": true
   },
   "outputs": [],
   "source": []
  },
  {
   "cell_type": "code",
   "execution_count": 201,
   "metadata": {
    "collapsed": false
   },
   "outputs": [],
   "source": [
    "def df_to_dict(df, evt_max=10):\n",
    "    \"\"\"\n",
    "    df to dict\n",
    "    \"\"\"\n",
    "    evt = 0\n",
    "    pk = 0\n",
    "\n",
    "    S12L = {}\n",
    "    S12 = {}\n",
    "    S12[0] = [[],[]]\n",
    "    S12L[0] = S12\n",
    "    \n",
    "    for i in df.index:\n",
    "        if evt == evt_max:\n",
    "            break\n",
    "        if df.event[i] == evt:\n",
    "            S12 = S12L[evt]\n",
    "            if df.peak[i] == pk:\n",
    "            #print('now in event = {}'.format(evt))\n",
    "                s12l = S12[pk]\n",
    "                s12l[0].append(df.time.values[i])\n",
    "                s12l[1].append(df.ene.values[i])\n",
    "                #if df.peak[i] == pk:\n",
    "                #continue\n",
    "                #print('now in peak = {}'.format(pk))\n",
    "                #print(i,df.event[i],df.peak[i], df.time[i],df.ene[i])\n",
    "            else:\n",
    "                pk = df.peak[i]\n",
    "                S12[pk] = [[df.time.values[i]],[df.ene.values[i]]]\n",
    "                #print('-->new peak')\n",
    "                #print(i,df.event[i],df.peak[i], df.time[i],df.ene[i])\n",
    "        else:\n",
    "            \n",
    "            S12 = S12L[evt]\n",
    "            for j in S12.keys():\n",
    "                s12l = S12[j]\n",
    "                t = np.array(s12l[0])\n",
    "                e = np.array(s12l[1])\n",
    "                S12[j] = [t,e]\n",
    "            S12L[evt] = S12\n",
    "            \n",
    "            evt = df.event[i]\n",
    "            if evt == evt_max:\n",
    "                break\n",
    "                \n",
    "            pk = df.peak[i]\n",
    "            S12 = {}\n",
    "            S12[pk] = [[df.time.values[i]],[df.ene.values[i]]]\n",
    "            S12L[evt] = S12\n",
    "            \n",
    "            #print('->new event')\n",
    "            #print('->new peak')\n",
    "            #print(i,df.event[i],df.peak[i], df.time[i],df.ene[i])\n",
    "    \n",
    "            \n",
    "    return S12L\n",
    "        "
   ]
  },
  {
   "cell_type": "code",
   "execution_count": 239,
   "metadata": {
    "collapsed": false
   },
   "outputs": [
    {
     "name": "stdout",
     "output_type": "stream",
     "text": [
      "run 100 evts in 0.257179021835 s, time/event = 0.00257179021835\n"
     ]
    }
   ],
   "source": [
    "evt=100\n",
    "t0 = time()\n",
    "S12L = df_to_dict(S1df,evt_max=evt)\n",
    "t1 = time()        \n",
    "dt = t1 - t0\n",
    "\n",
    "print(\"run {} evts in {} s, time/event = {}\".format(evt, dt, dt/float(evt)))"
   ]
  },
  {
   "cell_type": "code",
   "execution_count": null,
   "metadata": {
    "collapsed": true
   },
   "outputs": [],
   "source": []
  },
  {
   "cell_type": "code",
   "execution_count": 220,
   "metadata": {
    "collapsed": false
   },
   "outputs": [
    {
     "data": {
      "text/plain": [
       "{0: {0: [array([ 271650.,  271675.,  271700.,  271725.,  271750.,  271775.,\n",
       "           271800.,  271825.,  271850.,  271875.,  271900.,  271925.,\n",
       "           271950.,  271975.,  272000.], dtype=float32),\n",
       "   array([  7.57806158,  26.38863754,  53.2859993 ,  75.27236938,\n",
       "           81.81866455,  71.91014099,  52.71939087,  33.51371384,\n",
       "           18.90629959,  10.17974758,   4.80939817,   2.12100458,\n",
       "            2.00952244,   1.64880466,   1.26560688], dtype=float32)],\n",
       "  1: [array([ 570300.,  570325.,  570350.,  570375.,  570400.,  570425.,\n",
       "           570450.,  570550.,  570575.,  570600.], dtype=float32),\n",
       "   array([ 2.36443472,  6.25798941,  7.87167263,  4.09755898,  6.64510107,\n",
       "           6.46782207,  5.71094561,  3.74193549,  3.94115973,  1.25892484], dtype=float32)]},\n",
       " 1: {0: [array([ 518400.,  518425.,  518450.,  518475.,  518500.,  518525.,\n",
       "           518550.,  518575.,  518600.,  518625.,  518650.,  518675.,\n",
       "           518700.,  518725.], dtype=float32),\n",
       "   array([  2.43139935,  13.05033493,  31.45931244,  47.76961899,\n",
       "           54.46456909,  49.52715302,  37.30636597,  23.66454887,\n",
       "           13.75681877,   7.9083643 ,   5.19755459,   4.53781652,\n",
       "            2.64610124,   1.0891118 ], dtype=float32)]},\n",
       " 2: {0: [array([ 394850.,  394875.,  394900.,  394925.,  394950.,  394975.,\n",
       "           395000.,  395025.,  395050.,  395075.,  395100.,  395125.,\n",
       "           395150.,  395175.,  395225.,  395250.], dtype=float32),\n",
       "   array([  9.85930061,  30.87456131,  55.89913177,  73.63498688,\n",
       "           75.49960327,  64.09435272,  46.56319427,  30.27577972,\n",
       "           17.85694122,  11.63616276,   7.23838234,   3.31752467,\n",
       "            1.75897086,   1.32765532,   1.47524107,   1.24236751], dtype=float32)]},\n",
       " 3: {0: [array([ 444775.,  444800.,  444825.,  444850.,  444875.,  444900.,\n",
       "           444925.,  444950.,  444975.], dtype=float32),\n",
       "   array([ 1.13874078,  3.93056297,  6.6207962 ,  8.02775097,  7.79826117,\n",
       "           6.26422405,  3.97499967,  2.41630864,  1.2408253 ], dtype=float32)],\n",
       "  1: [array([ 483200.,  483225.,  483250.,  483275.,  483300.,  483325.,\n",
       "           483350.,  483375.,  483400.,  483425.,  483450.,  483475.,  483500.], dtype=float32),\n",
       "   array([  6.65091324,  22.42416763,  44.06277466,  61.58014679,\n",
       "           65.94087982,  57.55571747,  42.57862091,  26.65825653,\n",
       "           13.81876183,   5.70158005,   3.33216095,   1.9599334 ,   2.05367446], dtype=float32)]},\n",
       " 4: {0: [array([ 88575.,  88600.,  88625.,  88650.,  88675.,  88700.,  88725.,\n",
       "           88750.,  88775.,  88800.,  88825.,  88850.,  88875.,  88900.,\n",
       "           88925.], dtype=float32),\n",
       "   array([  1.28656936,   6.93510199,  16.26527405,  24.84856415,\n",
       "           28.41941452,  26.40425873,  19.84322548,  12.89341545,\n",
       "            7.32170057,   4.34264565,   2.69632721,   1.54948866,\n",
       "            1.89475822,   1.57770956,   1.09160161], dtype=float32)],\n",
       "  1: [array([ 321025.,  321050.,  321075.,  321100.,  321125.,  321150.,\n",
       "           321175.,  321200.,  321225.], dtype=float32),\n",
       "   array([ 2.61434007,  4.12976217,  5.51046944,  5.90520811,  5.59594345,\n",
       "           4.66197729,  3.0023253 ,  2.00976777,  1.43231654], dtype=float32)],\n",
       "  2: [array([ 472550.,  472575.,  472600.,  472625.,  472650.,  472675.,\n",
       "           472700.,  472725.,  472750.,  472775.,  472800.,  472825.], dtype=float32),\n",
       "   array([  2.47022128,   9.66011238,  19.36839104,  27.40828896,\n",
       "           28.9113884 ,  24.7830162 ,  17.56433678,  11.0457859 ,\n",
       "            6.50038958,   4.77491283,   3.23282599,   1.95167613], dtype=float32)],\n",
       "  3: [array([ 493075.,  493100.,  493125.,  493150.,  493175.,  493200.,\n",
       "           493225.,  493250.,  493275.,  493300.], dtype=float32),\n",
       "   array([ 12.84094048,  13.47054482,  13.96200943,  18.91430855,\n",
       "           24.15789795,  15.75763702,  13.95392513,   3.51950741,\n",
       "            3.40549922,   8.02019596], dtype=float32)]},\n",
       " 5: {0: [array([ 343500.,  343525.,  343550.,  343575.,  343600.,  343625.,\n",
       "           343650.,  343675.,  343700.,  343725.], dtype=float32),\n",
       "   array([  3.69610262,   7.45861435,  10.14142609,  10.545228  ,\n",
       "            8.61526394,   6.27424383,   4.80741692,   3.3600316 ,\n",
       "            2.79556608,   1.51857591], dtype=float32)],\n",
       "  1: [array([ 429600.,  429625.,  429650.,  429675.,  429700.,  429725.,\n",
       "           429750.,  429775.,  429800.,  429825.,  429850.,  429875.,\n",
       "           429900.,  429925.,  429975.], dtype=float32),\n",
       "   array([  1.50708842,  10.61478138,  27.20677948,  43.93019485,\n",
       "           52.56558609,  50.3320961 ,  40.31761169,  28.46351242,\n",
       "           18.53870964,  11.53639507,   8.35219479,   5.56339169,\n",
       "            3.06654716,   2.13906264,   1.0125792 ], dtype=float32)]},\n",
       " 6: {0: [array([ 513875.,  513900.,  513925.,  513950.,  513975.,  514000.,\n",
       "           514025.,  514050.,  514075.,  514100.,  514125.,  514150.,\n",
       "           514175.,  514200.], dtype=float32),\n",
       "   array([  8.1975584 ,  25.01840782,  44.82418442,  57.40390778,\n",
       "           57.93818283,  49.13509369,  36.82003403,  24.61766434,\n",
       "           15.16914558,   9.97360992,   6.71833706,   4.11538363,\n",
       "            3.01729894,   1.54049766], dtype=float32)]},\n",
       " 7: {0: [array([ 137075.,  137100.,  137125.,  137150.,  137175.,  137200.,\n",
       "           137225.,  137275.], dtype=float32),\n",
       "   array([ 1.3424412 ,  1.79958522,  1.48263848,  1.91136765,  2.07974315,\n",
       "           1.5833286 ,  1.50333643,  1.00738692], dtype=float32)],\n",
       "  1: [array([ 147475.,  147500.,  147525.,  147550.,  147575.,  147625.,\n",
       "           147675.,  147700.,  147725.,  147775.,  147800.,  147825.,\n",
       "           147850.,  147875.,  147900.,  147925.], dtype=float32),\n",
       "   array([ 3.107445  ,  4.83271742,  4.66672516,  1.55370212,  1.55535996,\n",
       "           1.08338666,  2.21148467,  2.40111566,  2.14141488,  1.92875338,\n",
       "           2.03302121,  1.83044505,  1.61798644,  4.55963373,  3.09366441,\n",
       "           1.11537409], dtype=float32)],\n",
       "  2: [array([ 148150.,  148250.,  148275.,  148300.,  148325.,  148350.,\n",
       "           148375.,  148450.,  148475.,  148500.,  148525.,  148550.,\n",
       "           148575.,  148600.,  148625.,  148675.,  148700.,  148725.], dtype=float32),\n",
       "   array([ 1.06138659,  1.84169877,  3.86439085,  3.89818835,  3.753896  ,\n",
       "           1.74037266,  1.74191189,  2.65247869,  2.93214273,  2.96211958,\n",
       "           2.64067554,  2.59933615,  2.76354361,  2.72278643,  1.4188565 ,\n",
       "           1.49707341,  1.5900532 ,  1.45387006], dtype=float32)],\n",
       "  3: [array([ 355050.,  355075.,  355100.,  355125.,  355150.,  355175.,\n",
       "           355200.,  355225.,  355250.,  355275.,  355300.,  355325.], dtype=float32),\n",
       "   array([ 1.19439948,  1.40139616,  1.34302652,  1.75332522,  1.92571163,\n",
       "           1.78666091,  1.34856284,  1.19059753,  1.1736095 ,  1.71478963,\n",
       "           1.67216229,  1.35711277], dtype=float32)],\n",
       "  4: [array([ 367825.,  367850.,  367875.,  367900.,  367925.,  367950.,\n",
       "           367975.,  368000.,  368025.,  368050.,  368075.,  368100.,  368125.], dtype=float32),\n",
       "   array([  5.92806768,   6.90831614,   6.95336533,   6.06175852,\n",
       "            7.79576063,  13.55818558,  13.43381023,   6.45595646,\n",
       "            9.54159546,   9.54580498,  15.61649323,  14.80695248,   5.37394047], dtype=float32)],\n",
       "  5: [array([ 370875.,  370900.,  370925.,  370950.,  370975.,  371000.,\n",
       "           371025.,  371050.,  371075.,  371125.,  371150.], dtype=float32),\n",
       "   array([ 1.22305691,  1.54823661,  1.46040797,  1.07705986,  2.25988054,\n",
       "           2.26003885,  3.34331703,  3.51399469,  1.98137379,  2.04526496,\n",
       "           2.00474715], dtype=float32)],\n",
       "  6: [array([ 371975.,  372000.,  372025.,  372100.,  372125.,  372150.,\n",
       "           372175.,  372200.,  372250.,  372275.], dtype=float32),\n",
       "   array([ 1.44474399,  1.48390067,  1.44260037,  2.86564517,  5.23099327,\n",
       "           5.18773222,  3.97114611,  1.09915602,  1.15438771,  1.03744948], dtype=float32)],\n",
       "  7: [array([ 372575.,  372600.,  372625.,  372700.,  372725.,  372750.,\n",
       "           372800.,  372825.], dtype=float32),\n",
       "   array([ 1.71497846,  1.88617051,  1.63196778,  1.38978171,  1.51065183,\n",
       "           1.33751452,  1.00784898,  1.04392195], dtype=float32)],\n",
       "  8: [array([ 406425.,  406450.,  406475.,  406500.,  406550.,  406575.,\n",
       "           406600.,  406625.,  406650.,  406675.], dtype=float32),\n",
       "   array([ 1.39658904,  1.89411163,  2.10460901,  2.06372976,  2.26587772,\n",
       "           4.21166563,  4.88205624,  5.05055571,  3.644063  ,  1.17150033], dtype=float32)],\n",
       "  9: [array([ 414800.,  414825.,  414850.,  414875.,  414900.,  414925.,\n",
       "           414950.,  414975.,  415000.,  415025.,  415050.,  415075.,\n",
       "           415100.,  415125.,  415200.,  415225.,  415250.,  415275.], dtype=float32),\n",
       "   array([  1.13614047,   8.89368916,  27.76940346,  51.78136063,\n",
       "           68.72159576,  71.95716095,  62.3006897 ,  45.47822189,\n",
       "           27.62554932,  12.83625317,   4.42105055,   2.69784093,\n",
       "            2.45909524,   1.91845763,   1.18017662,   1.97002673,\n",
       "            1.57422245,   1.29674852], dtype=float32)]},\n",
       " 8: {0: [array([ 374975.,  375000.,  375025.,  375050.,  375075.,  375100.,\n",
       "           375125.,  375150.,  375175.,  375200.,  375225.,  375250.,\n",
       "           375275.,  375300.,  375325.,  375425.,  375450.], dtype=float32),\n",
       "   array([  1.24799538,  10.45327187,  27.66496468,  45.75009155,\n",
       "           55.89072037,  54.82312393,  45.93157578,  34.00060654,\n",
       "           23.28064156,  14.75638008,  10.37136936,   6.2510581 ,\n",
       "            3.50647712,   1.28201473,   1.01498699,   1.29510784,   1.02349555], dtype=float32)],\n",
       "  1: [array([ 378275.,  378300.,  378325.,  378350.,  378375.,  378400.,\n",
       "           378425.,  378450.,  378475.,  378500.,  378525.,  378550.], dtype=float32),\n",
       "   array([  2.0123632 ,   6.24794292,  10.85048294,  13.59836006,\n",
       "           13.51859856,  11.38176727,   8.65921497,   6.65484047,\n",
       "            5.354599  ,   4.18430042,   2.96653557,   1.63122964], dtype=float32)],\n",
       "  2: [array([ 481925.,  481950.,  481975.,  482000.,  482025.,  482050.,\n",
       "           482075.,  482100.,  482125.,  482150.,  482175.,  482200.,\n",
       "           482275.,  482300.,  482325.,  482350.], dtype=float32),\n",
       "   array([  4.44642353,   8.21294403,  11.59657192,   7.29409409,\n",
       "            8.95550632,   8.46161556,   5.30460739,   5.63102198,\n",
       "           13.30784702,  13.80788994,   4.89197397,   4.275949  ,\n",
       "            5.11181545,  10.16534996,   9.7886219 ,   4.05155373], dtype=float32)]},\n",
       " 9: {0: [array([ 166825.,  166850.,  166875.,  166900.,  166975.,  167000.,\n",
       "           167025.,  167050.,  167075.,  167100.,  167125.], dtype=float32),\n",
       "   array([ 1.24262631,  1.9360683 ,  1.96248436,  1.40015328,  1.15468943,\n",
       "           2.17732978,  2.11241794,  2.01625776,  1.48383844,  1.46709359,\n",
       "           1.39234328], dtype=float32)],\n",
       "  1: [array([ 415850.,  415875.,  415900.,  415925.,  415950.,  415975.,\n",
       "           416000.,  416025.,  416050.,  416075.,  416100.,  416125.,\n",
       "           416150.,  416175.,  416200.], dtype=float32),\n",
       "   array([  3.39496708,  11.26675606,  21.61242676,  28.44124794,\n",
       "           28.98979568,  24.39095497,  17.02655602,   9.87140656,\n",
       "            6.28322411,   4.11137867,   2.72147369,   1.66576982,\n",
       "            1.49055552,   1.53757036,   1.12773657], dtype=float32)],\n",
       "  2: [array([ 468800.,  468825.,  468850.,  468875.,  468900.,  468925.,\n",
       "           468950.,  468975.,  469000.,  469025.,  469050.,  469075.,\n",
       "           469100.,  469125.,  469150.,  469175.,  469200.,  469225.], dtype=float32),\n",
       "   array([  3.79023981,  17.26120567,  38.68135834,  57.75349808,\n",
       "           65.73974609,  61.11470032,  48.64085007,  34.11778641,\n",
       "           21.84733582,  12.53938007,   8.45395184,   6.70198345,\n",
       "            4.86650419,   4.14379692,   2.7590878 ,   2.61315227,\n",
       "            1.3644737 ,   1.03974688], dtype=float32)]}}"
      ]
     },
     "execution_count": 220,
     "metadata": {},
     "output_type": "execute_result"
    }
   ],
   "source": [
    "S12L"
   ]
  },
  {
   "cell_type": "code",
   "execution_count": 217,
   "metadata": {
    "collapsed": true
   },
   "outputs": [],
   "source": [
    "def test_S12L(S12L, S12df, event=0, peak=0):\n",
    "    \"\"\"\n",
    "    test\n",
    "    \"\"\"\n",
    "    # get event=0, peak=0\n",
    "    S12 = S12L[event]\n",
    "    t,e = S12[peak]\n",
    "    \n",
    "    t2,e2 = S12_get_wvfm(S12df, event, peak)\n",
    "    assert(np.array_equal(t, t2))\n",
    "    assert(np.array_equal(e, e2))\n",
    "    print('test passed')"
   ]
  },
  {
   "cell_type": "code",
   "execution_count": 222,
   "metadata": {
    "collapsed": false
   },
   "outputs": [
    {
     "name": "stdout",
     "output_type": "stream",
     "text": [
      "test passed\n"
     ]
    }
   ],
   "source": [
    "test_S12L(S12L, S1df, event=0, peak=0)"
   ]
  },
  {
   "cell_type": "code",
   "execution_count": 223,
   "metadata": {
    "collapsed": false
   },
   "outputs": [
    {
     "name": "stdout",
     "output_type": "stream",
     "text": [
      "test passed\n"
     ]
    }
   ],
   "source": [
    "test_S12L(S12L, S1df, event=0, peak=1)"
   ]
  },
  {
   "cell_type": "code",
   "execution_count": 225,
   "metadata": {
    "collapsed": false
   },
   "outputs": [
    {
     "name": "stdout",
     "output_type": "stream",
     "text": [
      "test passed\n",
      "test passed\n",
      "test passed\n",
      "test passed\n",
      "test passed\n",
      "test passed\n",
      "test passed\n",
      "test passed\n",
      "test passed\n"
     ]
    }
   ],
   "source": [
    "for i in range(9):\n",
    "    test_S12L(S12L, S1df, event=i, peak=0)"
   ]
  },
  {
   "cell_type": "code",
   "execution_count": 269,
   "metadata": {
    "collapsed": true
   },
   "outputs": [],
   "source": [
    "def S12df_to_dict(s12df, evt_max=10):\n",
    "    peak = s12df.peak.values.astype(np.int32)\n",
    "    \n",
    "    return cdf_to_dict(len(s12df.index), evt_max, s12df.event.values,\n",
    "                       peak,\n",
    "                       s12df.time.values,\n",
    "                       s12df.ene.values)\n",
    "    \n",
    "                  "
   ]
  },
  {
   "cell_type": "code",
   "execution_count": 270,
   "metadata": {
    "collapsed": false
   },
   "outputs": [
    {
     "name": "stdout",
     "output_type": "stream",
     "text": [
      "run 100 evts in 0.007159948349 s, time/event = 7.159948349e-05\n"
     ]
    }
   ],
   "source": [
    "evt=100\n",
    "t0 = time()\n",
    "S12L = S12df_to_dict(S1df,evt_max=evt)\n",
    "t1 = time()        \n",
    "dt = t1 - t0\n",
    "\n",
    "print(\"run {} evts in {} s, time/event = {}\".format(evt, dt, dt/float(evt)))"
   ]
  },
  {
   "cell_type": "code",
   "execution_count": 267,
   "metadata": {
    "collapsed": true
   },
   "outputs": [],
   "source": [
    "def test_S12df_to_dict(s12df, evt_max=1, event=0, peak=0):\n",
    "    \"\"\"\n",
    "    test\n",
    "    \"\"\"\n",
    "    # get event=0, peak=0\n",
    "    S12L = S12df_to_dict(s12df,evt_max=evt_max)\n",
    "    S12 = S12L[event]\n",
    "    t,e = S12[peak]\n",
    "    \n",
    "    S12L = df_to_dict(s12df, evt_max=10)\n",
    "    S12 = S12L[event]\n",
    "    t2,e2 = S12[peak]\n",
    "    \n",
    "    \n",
    "    assert(np.array_equal(t, t2))\n",
    "    assert(np.array_equal(e, e2))\n",
    "    print('test passed')"
   ]
  },
  {
   "cell_type": "code",
   "execution_count": 268,
   "metadata": {
    "collapsed": false
   },
   "outputs": [
    {
     "name": "stdout",
     "output_type": "stream",
     "text": [
      "(<type 'int'>, <type 'int'>)\n",
      "(dtype('int32'), dtype('int32'), dtype('float32'), dtype('float32'))\n",
      "test passed\n"
     ]
    }
   ],
   "source": [
    "test_S12df_to_dict(S1df, evt_max=1, event=0, peak=0)"
   ]
  },
  {
   "cell_type": "code",
   "execution_count": 271,
   "metadata": {
    "collapsed": false
   },
   "outputs": [
    {
     "name": "stdout",
     "output_type": "stream",
     "text": [
      "run over 70193 evts\n",
      "run 70193 evts in 1.64547491074 s, time/event = 2.34421510797e-05\n"
     ]
    }
   ],
   "source": [
    "evt=len(S1df.event.unique())\n",
    "print('run over {} evts'.format(evt))\n",
    "t0 = time()\n",
    "S12L = S12df_to_dict(S1df,evt_max=evt)\n",
    "t1 = time()        \n",
    "dt = t1 - t0\n",
    "\n",
    "print(\"run {} evts in {} s, time/event = {}\".format(evt, dt, dt/float(evt)))"
   ]
  },
  {
   "cell_type": "code",
   "execution_count": 273,
   "metadata": {
    "collapsed": false
   },
   "outputs": [
    {
     "data": {
      "text/plain": [
       "69414"
      ]
     },
     "execution_count": 273,
     "metadata": {},
     "output_type": "execute_result"
    }
   ],
   "source": [
    "len(S12L.keys())"
   ]
  },
  {
   "cell_type": "code",
   "execution_count": null,
   "metadata": {
    "collapsed": true
   },
   "outputs": [],
   "source": []
  },
  {
   "cell_type": "code",
   "execution_count": 260,
   "metadata": {
    "collapsed": false
   },
   "outputs": [],
   "source": [
    "%%cython\n",
    "cimport numpy as np\n",
    "import numpy as np\n",
    "\n",
    "cpdef cdf_to_dict(int df_index, int evt_max, \n",
    "                  int [:] df_event, int [:] df_peak,\n",
    "                  float [:] df_time, float [:] df_ene):\n",
    "                \n",
    "    \"\"\"\n",
    "    df to dict\n",
    "    \"\"\"\n",
    "    cdef int evt = 0\n",
    "    cdef int pk = 0\n",
    "\n",
    "    cdef dict S12L = {}\n",
    "    cdef dict S12 = {}\n",
    "    S12[0] = [[],[]]\n",
    "    S12L[0] = S12\n",
    "    \n",
    "    cdef int i, \n",
    "    for i in range(df_index):\n",
    "        if evt == evt_max:\n",
    "            break\n",
    "        if df_event[i] == evt:\n",
    "            S12 = S12L[evt]\n",
    "            if df_peak[i] == pk:\n",
    "            \n",
    "                s12l = S12[pk]\n",
    "                s12l[0].append(df_time[i])\n",
    "                s12l[1].append(df_ene[i])\n",
    "            else:\n",
    "                pk = df_peak[i]\n",
    "                S12[pk] = [[df_time[i]],[df_ene[i]]]\n",
    "        else:\n",
    "            \n",
    "            S12 = S12L[evt]\n",
    "            for j in S12.keys():\n",
    "                s12l = S12[j]\n",
    "                t = np.array(s12l[0])\n",
    "                e = np.array(s12l[1])\n",
    "                S12[j] = [t,e]\n",
    "            S12L[evt] = S12\n",
    "            \n",
    "            evt = df_event[i]\n",
    "            if evt == evt_max:\n",
    "                break\n",
    "                \n",
    "            pk = df_peak[i]\n",
    "            S12 = {}\n",
    "            S12[pk] = [[df_time[i]],[df_ene[i]]]\n",
    "            S12L[evt] = S12\n",
    "            \n",
    "    return S12L\n",
    "    "
   ]
  },
  {
   "cell_type": "code",
   "execution_count": null,
   "metadata": {
    "collapsed": true
   },
   "outputs": [],
   "source": []
  },
  {
   "cell_type": "code",
   "execution_count": 60,
   "metadata": {
    "collapsed": true
   },
   "outputs": [],
   "source": [
    "def S12_select_event(S12df, event):\n",
    "    return S12df.loc[lambda df: df.event.values ==event, :]       "
   ]
  },
  {
   "cell_type": "code",
   "execution_count": 89,
   "metadata": {
    "collapsed": false
   },
   "outputs": [
    {
     "data": {
      "text/plain": [
       "array([ 0,  1,  2,  3,  4,  5,  6,  7,  8,  9, 10, 11, 12, 13, 14, 15, 16,\n",
       "       17, 18, 19, 20, 21, 22, 23, 24, 25, 26, 27, 28, 29, 30, 31, 32, 33,\n",
       "       34, 35, 36, 37, 38, 39, 40, 41, 42, 43, 44, 45, 46, 47, 48, 49, 50,\n",
       "       51, 52, 53, 54, 55, 56, 57, 58, 59, 60, 61, 62, 63, 64, 65, 66, 67])"
      ]
     },
     "execution_count": 89,
     "metadata": {},
     "output_type": "execute_result"
    }
   ],
   "source": [
    "S1df.peak.unique()"
   ]
  },
  {
   "cell_type": "code",
   "execution_count": null,
   "metadata": {
    "collapsed": true
   },
   "outputs": [],
   "source": []
  },
  {
   "cell_type": "code",
   "execution_count": 226,
   "metadata": {
    "collapsed": false
   },
   "outputs": [
    {
     "name": "stdout",
     "output_type": "stream",
     "text": [
      "run in 0.00415015220642 s\n"
     ]
    }
   ],
   "source": [
    "t0 = time()\n",
    "s12t = S12_select_event(S1df, event=0)\n",
    "t1 = time()        \n",
    "dt = t1 - t0\n",
    "\n",
    "print(\"run in {} s\".format(dt))"
   ]
  },
  {
   "cell_type": "code",
   "execution_count": 227,
   "metadata": {
    "collapsed": true
   },
   "outputs": [],
   "source": [
    "def S12_select_peak(S12df, peak):\n",
    "    return S12df.loc[lambda df: S12df.peak.values ==peak, :]  "
   ]
  },
  {
   "cell_type": "code",
   "execution_count": 228,
   "metadata": {
    "collapsed": false
   },
   "outputs": [
    {
     "name": "stdout",
     "output_type": "stream",
     "text": [
      "run in 0.000876903533936 s\n"
     ]
    }
   ],
   "source": [
    "t0 = time()\n",
    "s12p = S12_select_peak(s12t, peak=0)\n",
    "t1 = time()        \n",
    "dt = t1 - t0\n",
    "\n",
    "print(\"run in {} s\".format(dt))"
   ]
  },
  {
   "cell_type": "code",
   "execution_count": 229,
   "metadata": {
    "collapsed": false
   },
   "outputs": [],
   "source": [
    "def S12_get_wvfm(S12df, event, peak):\n",
    "    s12t = S12_select_event(S12df, event)\n",
    "    s12p = S12_select_peak(s12t, peak=peak)\n",
    "    return s12p.time.values, s12p.ene.values"
   ]
  },
  {
   "cell_type": "code",
   "execution_count": 230,
   "metadata": {
    "collapsed": false
   },
   "outputs": [
    {
     "name": "stdout",
     "output_type": "stream",
     "text": [
      "run in 0.00465607643127 s\n"
     ]
    }
   ],
   "source": [
    "t0 = time()\n",
    "T, E = S12_get_wvfm(S1df, event=0, peak=0)\n",
    "t1 = time()        \n",
    "dt = t1 - t0\n",
    "\n",
    "print(\"run in {} s\".format(dt))"
   ]
  },
  {
   "cell_type": "code",
   "execution_count": 231,
   "metadata": {
    "collapsed": true
   },
   "outputs": [],
   "source": [
    "def S12_get_wvfm_ene(S12df, event, peak):\n",
    "    T, E = S12_get_wvfm(S1df, event=event, peak=peak)\n",
    "    return np.sum(E)"
   ]
  },
  {
   "cell_type": "code",
   "execution_count": 233,
   "metadata": {
    "collapsed": false
   },
   "outputs": [
    {
     "name": "stdout",
     "output_type": "stream",
     "text": [
      "run in 0.00440192222595 s\n"
     ]
    }
   ],
   "source": [
    "t0 = time()\n",
    "es1 = S12_get_wvfm_ene(S1df, event=0, peak=0)\n",
    "t1 = time()        \n",
    "dt = t1 - t0\n",
    "\n",
    "print(\"run in {} s\".format(dt))"
   ]
  },
  {
   "cell_type": "code",
   "execution_count": 234,
   "metadata": {
    "collapsed": false
   },
   "outputs": [
    {
     "data": {
      "text/plain": [
       "443.42734"
      ]
     },
     "execution_count": 234,
     "metadata": {},
     "output_type": "execute_result"
    }
   ],
   "source": [
    "es1"
   ]
  },
  {
   "cell_type": "code",
   "execution_count": 235,
   "metadata": {
    "collapsed": false
   },
   "outputs": [
    {
     "data": {
      "text/plain": [
       "[<matplotlib.lines.Line2D at 0x154af94d0>]"
      ]
     },
     "execution_count": 235,
     "metadata": {},
     "output_type": "execute_result"
    },
    {
     "data": {
      "image/png": "[encoded data removed]",
      "text/plain": [
       "<matplotlib.figure.Figure at 0x12fd79810>"
      ]
     },
     "metadata": {},
     "output_type": "display_data"
    }
   ],
   "source": [
    "plt.plot(T,E)"
   ]
  },
  {
   "cell_type": "code",
   "execution_count": 236,
   "metadata": {
    "collapsed": false
   },
   "outputs": [
    {
     "data": {
      "text/plain": [
       "[<matplotlib.lines.Line2D at 0x154baee10>]"
      ]
     },
     "execution_count": 236,
     "metadata": {},
     "output_type": "execute_result"
    },
    {
     "data": {
      "image/png": "[encoded data removed]",
      "text/plain": [
       "<matplotlib.figure.Figure at 0x154b112d0>"
      ]
     },
     "metadata": {},
     "output_type": "display_data"
    }
   ],
   "source": [
    "plt.plot(S12L[0][0][0],S12L[0][0][1])"
   ]
  },
  {
   "cell_type": "code",
   "execution_count": null,
   "metadata": {
    "collapsed": true
   },
   "outputs": [],
   "source": []
  },
  {
   "cell_type": "code",
   "execution_count": 100,
   "metadata": {
    "collapsed": false
   },
   "outputs": [],
   "source": [
    "def S12_get_ene_inc(sdf, event_list, peak=0):\n",
    "    ene = np.zeros(len(event_list), dtype=np.double)\n",
    "    T, E \n",
    "    i=0\n",
    "    for event in event_list:\n",
    "        mask = S1df.event.values == event \n",
    "        s12t = S1df[mask]\n",
    "        T, E = S12_get_wvfm(sdf, event=event, peak=peak)\n",
    "            ene[i] = np.sum(E)\n",
    "            i+=1\n",
    "    return ene\n",
    "        "
   ]
  },
  {
   "cell_type": "code",
   "execution_count": 107,
   "metadata": {
    "collapsed": false
   },
   "outputs": [
    {
     "data": {
      "text/plain": [
       "70193"
      ]
     },
     "execution_count": 107,
     "metadata": {},
     "output_type": "execute_result"
    }
   ],
   "source": [
    "len(S1df.event.unique())"
   ]
  },
  {
   "cell_type": "code",
   "execution_count": null,
   "metadata": {
    "collapsed": true
   },
   "outputs": [],
   "source": []
  },
  {
   "cell_type": "code",
   "execution_count": 109,
   "metadata": {
    "collapsed": false
   },
   "outputs": [
    {
     "name": "stdout",
     "output_type": "stream",
     "text": [
      "run in 0.330062150955 s\n"
     ]
    }
   ],
   "source": [
    "t0 = time()\n",
    "ene = S12_get_ene(S1df, event_list=range(100), peak_list=[0])\n",
    "t1 = time()        \n",
    "dt = t1 - t0\n",
    "\n",
    "print(\"run in {} s\".format(dt))"
   ]
  },
  {
   "cell_type": "code",
   "execution_count": null,
   "metadata": {
    "collapsed": true
   },
   "outputs": [],
   "source": []
  },
  {
   "cell_type": "code",
   "execution_count": 51,
   "metadata": {
    "collapsed": false
   },
   "outputs": [
    {
     "data": {
      "text/plain": [
       "443.42734"
      ]
     },
     "execution_count": 51,
     "metadata": {},
     "output_type": "execute_result"
    }
   ],
   "source": [
    "es1"
   ]
  },
  {
   "cell_type": "code",
   "execution_count": null,
   "metadata": {
    "collapsed": true
   },
   "outputs": [],
   "source": []
  },
  {
   "cell_type": "code",
   "execution_count": 35,
   "metadata": {
    "collapsed": false
   },
   "outputs": [
    {
     "data": {
      "text/html": [
       "<div>\n",
       "<table border=\"1\" class=\"dataframe\">\n",
       "  <thead>\n",
       "    <tr style=\"text-align: right;\">\n",
       "      <th></th>\n",
       "      <th>event</th>\n",
       "      <th>peak</th>\n",
       "      <th>time</th>\n",
       "      <th>ene</th>\n",
       "    </tr>\n",
       "  </thead>\n",
       "  <tbody>\n",
       "    <tr>\n",
       "      <th>25</th>\n",
       "      <td>1</td>\n",
       "      <td>0</td>\n",
       "      <td>518400.0</td>\n",
       "      <td>2.431399</td>\n",
       "    </tr>\n",
       "    <tr>\n",
       "      <th>26</th>\n",
       "      <td>1</td>\n",
       "      <td>0</td>\n",
       "      <td>518425.0</td>\n",
       "      <td>13.050335</td>\n",
       "    </tr>\n",
       "    <tr>\n",
       "      <th>27</th>\n",
       "      <td>1</td>\n",
       "      <td>0</td>\n",
       "      <td>518450.0</td>\n",
       "      <td>31.459312</td>\n",
       "    </tr>\n",
       "    <tr>\n",
       "      <th>28</th>\n",
       "      <td>1</td>\n",
       "      <td>0</td>\n",
       "      <td>518475.0</td>\n",
       "      <td>47.769619</td>\n",
       "    </tr>\n",
       "    <tr>\n",
       "      <th>29</th>\n",
       "      <td>1</td>\n",
       "      <td>0</td>\n",
       "      <td>518500.0</td>\n",
       "      <td>54.464569</td>\n",
       "    </tr>\n",
       "    <tr>\n",
       "      <th>30</th>\n",
       "      <td>1</td>\n",
       "      <td>0</td>\n",
       "      <td>518525.0</td>\n",
       "      <td>49.527153</td>\n",
       "    </tr>\n",
       "    <tr>\n",
       "      <th>31</th>\n",
       "      <td>1</td>\n",
       "      <td>0</td>\n",
       "      <td>518550.0</td>\n",
       "      <td>37.306366</td>\n",
       "    </tr>\n",
       "    <tr>\n",
       "      <th>32</th>\n",
       "      <td>1</td>\n",
       "      <td>0</td>\n",
       "      <td>518575.0</td>\n",
       "      <td>23.664549</td>\n",
       "    </tr>\n",
       "    <tr>\n",
       "      <th>33</th>\n",
       "      <td>1</td>\n",
       "      <td>0</td>\n",
       "      <td>518600.0</td>\n",
       "      <td>13.756819</td>\n",
       "    </tr>\n",
       "    <tr>\n",
       "      <th>34</th>\n",
       "      <td>1</td>\n",
       "      <td>0</td>\n",
       "      <td>518625.0</td>\n",
       "      <td>7.908364</td>\n",
       "    </tr>\n",
       "    <tr>\n",
       "      <th>35</th>\n",
       "      <td>1</td>\n",
       "      <td>0</td>\n",
       "      <td>518650.0</td>\n",
       "      <td>5.197555</td>\n",
       "    </tr>\n",
       "    <tr>\n",
       "      <th>36</th>\n",
       "      <td>1</td>\n",
       "      <td>0</td>\n",
       "      <td>518675.0</td>\n",
       "      <td>4.537817</td>\n",
       "    </tr>\n",
       "    <tr>\n",
       "      <th>37</th>\n",
       "      <td>1</td>\n",
       "      <td>0</td>\n",
       "      <td>518700.0</td>\n",
       "      <td>2.646101</td>\n",
       "    </tr>\n",
       "    <tr>\n",
       "      <th>38</th>\n",
       "      <td>1</td>\n",
       "      <td>0</td>\n",
       "      <td>518725.0</td>\n",
       "      <td>1.089112</td>\n",
       "    </tr>\n",
       "  </tbody>\n",
       "</table>\n",
       "</div>"
      ],
      "text/plain": [
       "    event  peak      time        ene\n",
       "25      1     0  518400.0   2.431399\n",
       "26      1     0  518425.0  13.050335\n",
       "27      1     0  518450.0  31.459312\n",
       "28      1     0  518475.0  47.769619\n",
       "29      1     0  518500.0  54.464569\n",
       "30      1     0  518525.0  49.527153\n",
       "31      1     0  518550.0  37.306366\n",
       "32      1     0  518575.0  23.664549\n",
       "33      1     0  518600.0  13.756819\n",
       "34      1     0  518625.0   7.908364\n",
       "35      1     0  518650.0   5.197555\n",
       "36      1     0  518675.0   4.537817\n",
       "37      1     0  518700.0   2.646101\n",
       "38      1     0  518725.0   1.089112"
      ]
     },
     "execution_count": 35,
     "metadata": {},
     "output_type": "execute_result"
    }
   ],
   "source": [
    "s12t"
   ]
  },
  {
   "cell_type": "code",
   "execution_count": 18,
   "metadata": {
    "collapsed": true
   },
   "outputs": [],
   "source": [
    "def S12_from_S12df(S12df, event_list=[]):\n",
    "    S12 = {}\n",
    "    for evt in event_list:\n",
    "        if Sdf.event.values[0]\n",
    "    \n",
    "    ene_peak_event = {}\n",
    "    for j, ev in enumerate(Sdf.event.values[0:n_events]):\n",
    "        if ev == evt:\n",
    "            peak = Sdf.peak.values[0]\n",
    "            ene_peak = []\n",
    "            for i, p in enumerate(Sdf.peak.values):\n",
    "                if p == peak:\n",
    "                    enep = 0\n",
    "                    for \n",
    "                    enep += Sdf.ene.values[i]\n",
    "                else:\n",
    "                    ene_peak.append(enep)\n",
    "                    peak = p\n",
    "        else:\n",
    "            ene_peak_event[j] = ene_peak\n",
    "            evt = ev\n",
    "    return ene_peak_event\n",
    "            \n",
    "                    \n",
    "    "
   ]
  },
  {
   "cell_type": "code",
   "execution_count": 21,
   "metadata": {
    "collapsed": false
   },
   "outputs": [],
   "source": [
    "ene_peak_event = peak_energy(S1df, n_events=1)"
   ]
  },
  {
   "cell_type": "code",
   "execution_count": 22,
   "metadata": {
    "collapsed": false
   },
   "outputs": [
    {
     "data": {
      "text/plain": [
       "{}"
      ]
     },
     "execution_count": 22,
     "metadata": {},
     "output_type": "execute_result"
    }
   ],
   "source": [
    "ene_peak_event"
   ]
  },
  {
   "cell_type": "code",
   "execution_count": null,
   "metadata": {
    "collapsed": true
   },
   "outputs": [],
   "source": []
  }
 ],
 "metadata": {
  "kernelspec": {
   "display_name": "Python 2",
   "language": "python",
   "name": "python2"
  },
  "language_info": {
   "codemirror_mode": {
    "name": "ipython",
    "version": 2
   },
   "file_extension": ".py",
   "mimetype": "text/x-python",
   "name": "python",
   "nbconvert_exporter": "python",
   "pygments_lexer": "ipython2",
   "version": "2.7.11"
  }
 },
 "nbformat": 4,
 "nbformat_minor": 0
}
