{
 "cells": [
  {
   "cell_type": "markdown",
   "metadata": {},
   "source": [
    "# DIOMIRA"
   ]
  },
  {
   "cell_type": "markdown",
   "metadata": {},
   "source": [
    "## A nb to develop the cython version of DIOMIRA"
   ]
  },
  {
   "cell_type": "code",
   "execution_count": 1,
   "metadata": {
    "collapsed": true
   },
   "outputs": [],
   "source": [
    "from __future__ import print_function\n",
    "%matplotlib inline\n",
    "%load_ext autoreload\n",
    "%autoreload 2"
   ]
  },
  {
   "cell_type": "code",
   "execution_count": 2,
   "metadata": {
    "collapsed": false
   },
   "outputs": [
    {
     "name": "stdout",
     "output_type": "stream",
     "text": [
      "env: IPYTHONDIR=/Users/jjgomezcadenas/Documents/Development/IPYTHON\n"
     ]
    }
   ],
   "source": [
    "%env IPYTHONDIR=/Users/jjgomezcadenas/Documents/Development/IPYTHON"
   ]
  },
  {
   "cell_type": "code",
   "execution_count": 3,
   "metadata": {
    "collapsed": true
   },
   "outputs": [],
   "source": [
    "%load_ext Cython"
   ]
  },
  {
   "cell_type": "code",
   "execution_count": 4,
   "metadata": {
    "collapsed": true
   },
   "outputs": [],
   "source": [
    "import pandas as pd\n",
    "import numpy as np\n",
    "import FEParam as FP\n",
    "import tables\n",
    "from time import time\n",
    "from Util import *"
   ]
  },
  {
   "cell_type": "markdown",
   "metadata": {},
   "source": [
    "### Classical fib function"
   ]
  },
  {
   "cell_type": "code",
   "execution_count": 5,
   "metadata": {
    "collapsed": true
   },
   "outputs": [],
   "source": [
    "def fib(n):\n",
    "    a,b = 0.0, 1.0\n",
    "    for i in range(n):\n",
    "        a,b = a+b,a\n",
    "    return a"
   ]
  },
  {
   "cell_type": "code",
   "execution_count": 6,
   "metadata": {
    "collapsed": true
   },
   "outputs": [],
   "source": [
    "%%cython\n",
    "def cfib(int n):\n",
    "    cdef int i\n",
    "    cdef double a = 0.0, b= 1.0\n",
    "    for i in range(n):\n",
    "        a,b = a+b, a\n",
    "    return a"
   ]
  },
  {
   "cell_type": "code",
   "execution_count": 7,
   "metadata": {
    "collapsed": false
   },
   "outputs": [
    {
     "name": "stdout",
     "output_type": "stream",
     "text": [
      "The slowest run took 8.84 times longer than the fastest. This could mean that an intermediate result is being cached.\n",
      "1000000 loops, best of 3: 351 ns per loop\n"
     ]
    }
   ],
   "source": [
    "%timeit fib(0)"
   ]
  },
  {
   "cell_type": "code",
   "execution_count": 8,
   "metadata": {
    "collapsed": false
   },
   "outputs": [
    {
     "name": "stdout",
     "output_type": "stream",
     "text": [
      "100000 loops, best of 3: 6.02 µs per loop\n"
     ]
    }
   ],
   "source": [
    "%timeit fib(90)"
   ]
  },
  {
   "cell_type": "code",
   "execution_count": 9,
   "metadata": {
    "collapsed": false
   },
   "outputs": [
    {
     "name": "stdout",
     "output_type": "stream",
     "text": [
      "The slowest run took 24.58 times longer than the fastest. This could mean that an intermediate result is being cached.\n",
      "10000000 loops, best of 3: 48.5 ns per loop\n"
     ]
    }
   ],
   "source": [
    "%timeit cfib(0)"
   ]
  },
  {
   "cell_type": "code",
   "execution_count": 10,
   "metadata": {
    "collapsed": false
   },
   "outputs": [
    {
     "name": "stdout",
     "output_type": "stream",
     "text": [
      "10000000 loops, best of 3: 119 ns per loop\n"
     ]
    }
   ],
   "source": [
    "%timeit cfib(90)"
   ]
  },
  {
   "cell_type": "code",
   "execution_count": 11,
   "metadata": {
    "collapsed": true
   },
   "outputs": [],
   "source": [
    "f = 118./6050."
   ]
  },
  {
   "cell_type": "code",
   "execution_count": 12,
   "metadata": {
    "collapsed": false
   },
   "outputs": [
    {
     "data": {
      "text/plain": [
       "51.271186440677965"
      ]
     },
     "execution_count": 12,
     "metadata": {},
     "output_type": "execute_result"
    }
   ],
   "source": [
    "1./f"
   ]
  },
  {
   "cell_type": "markdown",
   "metadata": {},
   "source": [
    "### Rebin array"
   ]
  },
  {
   "cell_type": "markdown",
   "metadata": {},
   "source": [
    "#### Python version"
   ]
  },
  {
   "cell_type": "code",
   "execution_count": 13,
   "metadata": {
    "collapsed": true
   },
   "outputs": [],
   "source": [
    "def rebin_pmt_array(a,stride):\n",
    "    \"\"\"\n",
    "    rebins pmt array a according to stride\n",
    "    there is a rebin_array in util which uses\n",
    "    lenb = (len(a))/int(stride)\n",
    "    this version uses (lean(a)+1) to correct from the fact that the\n",
    "    MCRD is 599999 channels (should be 600000)\n",
    "    \"\"\"\n",
    "    \n",
    "    lenb = (len(a)+1)/int(stride)\n",
    "    b = np.zeros(lenb)\n",
    "    j=0\n",
    "    for i in range(lenb):\n",
    "        b[i] = np.sum(a[j:j+stride])\n",
    "        j+= stride\n",
    "    return b"
   ]
  },
  {
   "cell_type": "code",
   "execution_count": 14,
   "metadata": {
    "collapsed": true
   },
   "outputs": [],
   "source": [
    "cx = np.arange(0.,100., 1)"
   ]
  },
  {
   "cell_type": "code",
   "execution_count": 15,
   "metadata": {
    "collapsed": false
   },
   "outputs": [
    {
     "name": "stdout",
     "output_type": "stream",
     "text": [
      "CPU times: user 76 µs, sys: 22 µs, total: 98 µs\n",
      "Wall time: 90.8 µs\n"
     ]
    }
   ],
   "source": [
    "%time y = rebin_pmt_array(cx,10)"
   ]
  },
  {
   "cell_type": "code",
   "execution_count": 16,
   "metadata": {
    "collapsed": false
   },
   "outputs": [
    {
     "name": "stdout",
     "output_type": "stream",
     "text": [
      "10000 loops, best of 3: 30.9 µs per loop\n"
     ]
    }
   ],
   "source": [
    "%timeit y = rebin_pmt_array(cx,10)"
   ]
  },
  {
   "cell_type": "markdown",
   "metadata": {},
   "source": [
    "#### Cython version (pure compilation)"
   ]
  },
  {
   "cell_type": "code",
   "execution_count": 17,
   "metadata": {
    "collapsed": true
   },
   "outputs": [],
   "source": [
    "%%cython\n",
    "import numpy as np\n",
    "def rebin_pmt_array(a,stride):\n",
    "    \"\"\"\n",
    "    rebins pmt array a according to stride\n",
    "    there is a rebin_array in util which uses\n",
    "    lenb = (len(a))/int(stride)\n",
    "    this version uses (lean(a)+1) to correct from the fact that the\n",
    "    MCRD is 599999 channels (should be 600000)\n",
    "    \"\"\"\n",
    "    \n",
    "    lenb = (len(a)+1)/int(stride)\n",
    "    b = np.zeros(lenb)\n",
    "    j=0\n",
    "    for i in range(lenb):\n",
    "        b[i] = np.sum(a[j:j+stride])\n",
    "        j+= stride\n",
    "    return b"
   ]
  },
  {
   "cell_type": "code",
   "execution_count": 18,
   "metadata": {
    "collapsed": false
   },
   "outputs": [
    {
     "name": "stdout",
     "output_type": "stream",
     "text": [
      "10000 loops, best of 3: 28.2 µs per loop\n"
     ]
    }
   ],
   "source": [
    "%timeit rebin_pmt_array(cx,10)"
   ]
  },
  {
   "cell_type": "markdown",
   "metadata": {},
   "source": [
    "#### cython version, declares variables but still uses np.sum()"
   ]
  },
  {
   "cell_type": "code",
   "execution_count": 19,
   "metadata": {
    "collapsed": false
   },
   "outputs": [],
   "source": [
    "%%cython\n",
    "import numpy as np\n",
    "cimport numpy as np\n",
    "def crebin_pmt_array(double [:] a,int stride):\n",
    "    \"\"\"\n",
    "    rebins pmt array a according to stride\n",
    "    there is a rebin_array in util which uses\n",
    "    lenb = (len(a))/int(stride)\n",
    "    this version uses (lean(a)+1) to correct from the fact that the\n",
    "    MCRD is 599999 channels (should be 600000)\n",
    "    \"\"\"\n",
    "    \n",
    "    cdef:\n",
    "        int lenb, i, j\n",
    "        double [:] b\n",
    "    \n",
    "    lena =   a.shape[0]   \n",
    "    lenb = a.shape[0]/stride\n",
    "    \n",
    "    b = np.zeros(lenb, dtype=np.double)\n",
    "    \n",
    "    j=0\n",
    "    \n",
    "    for i in range(lenb):\n",
    "        b[i] = np.sum(a[j:j+stride])\n",
    "        j+= stride\n",
    "    \n",
    "    \n",
    "    return np.asarray(b)"
   ]
  },
  {
   "cell_type": "code",
   "execution_count": 20,
   "metadata": {
    "collapsed": false
   },
   "outputs": [
    {
     "name": "stdout",
     "output_type": "stream",
     "text": [
      "The slowest run took 23.47 times longer than the fastest. This could mean that an intermediate result is being cached.\n",
      "10000 loops, best of 3: 65.4 µs per loop\n"
     ]
    }
   ],
   "source": [
    "%timeit z = crebin_pmt_array(cx,10)"
   ]
  },
  {
   "cell_type": "markdown",
   "metadata": {},
   "source": [
    "*NB: the code runs 3 times SLOWER than the cython version*"
   ]
  },
  {
   "cell_type": "markdown",
   "metadata": {},
   "source": [
    "#### cythonizes the sum"
   ]
  },
  {
   "cell_type": "code",
   "execution_count": 21,
   "metadata": {
    "collapsed": false
   },
   "outputs": [],
   "source": [
    "%%cython\n",
    "import numpy as np\n",
    "cimport numpy as np\n",
    "def c2rebin_pmt_array(double [:] a,int stride):\n",
    "    \"\"\"\n",
    "    rebins pmt array a according to stride\n",
    "    there is a rebin_array in util which uses\n",
    "    lenb = (len(a))/int(stride)\n",
    "    this version uses (lean(a)+1) to correct from the fact that the\n",
    "    MCRD is 599999 channels (should be 600000)\n",
    "    \"\"\"\n",
    "    \n",
    "    cdef:\n",
    "        int lenb, i, j,k\n",
    "        double [:] b\n",
    "        double part_sum\n",
    "    \n",
    "    lena =   a.shape[0]   \n",
    "    lenb = a.shape[0]/stride\n",
    "    \n",
    "    b = np.zeros(lenb)\n",
    "    \n",
    "    j=0\n",
    "    \n",
    "    for i in range(lenb):\n",
    "        part_sum = 0.\n",
    "        for k in range(j, j + stride): \n",
    "            part_sum += a[k] \n",
    "        b[i] = part_sum\n",
    "        j+= stride\n",
    "    \n",
    "    return np.asarray(b)"
   ]
  },
  {
   "cell_type": "code",
   "execution_count": 22,
   "metadata": {
    "collapsed": false
   },
   "outputs": [
    {
     "name": "stdout",
     "output_type": "stream",
     "text": [
      "The slowest run took 302.77 times longer than the fastest. This could mean that an intermediate result is being cached.\n",
      "100000 loops, best of 3: 4.63 µs per loop\n"
     ]
    }
   ],
   "source": [
    "%timeit z = c2rebin_pmt_array(cx,10)"
   ]
  },
  {
   "cell_type": "markdown",
   "metadata": {},
   "source": [
    "*IMPROVEMENT*"
   ]
  },
  {
   "cell_type": "markdown",
   "metadata": {},
   "source": [
    "#### Direct use of nd.array() in function"
   ]
  },
  {
   "cell_type": "code",
   "execution_count": 23,
   "metadata": {
    "collapsed": false
   },
   "outputs": [],
   "source": [
    "%%cython\n",
    "import numpy as np\n",
    "cimport numpy as np\n",
    "def c3rebin_pmt_array(double [:] a,int stride):\n",
    "    \"\"\"\n",
    "    rebins pmt array a according to stride\n",
    "    there is a rebin_array in util which uses\n",
    "    lenb = (len(a))/int(stride)\n",
    "    this version uses (lean(a)+1) to correct from the fact that the\n",
    "    MCRD is 599999 channels (should be 600000)\n",
    "    \"\"\"\n",
    "    \n",
    "    cdef:\n",
    "        int lenb, i, j,k\n",
    "        double part_sum\n",
    "      \n",
    "    lenb = a.shape[0]/stride\n",
    "    cdef np.ndarray[np.float64_t, ndim=1] b = np.zeros(lenb) \n",
    "    \n",
    "    j=0\n",
    "    for i in range(lenb):\n",
    "        part_sum = 0.\n",
    "        for k in range(j, j + stride): \n",
    "            part_sum += a[k] \n",
    "        b[i] = part_sum\n",
    "        j+= stride\n",
    "    \n",
    "    return b"
   ]
  },
  {
   "cell_type": "code",
   "execution_count": 24,
   "metadata": {
    "collapsed": false
   },
   "outputs": [
    {
     "name": "stdout",
     "output_type": "stream",
     "text": [
      "The slowest run took 526.03 times longer than the fastest. This could mean that an intermediate result is being cached.\n",
      "100000 loops, best of 3: 2.66 µs per loop\n"
     ]
    }
   ],
   "source": [
    "%timeit z = c3rebin_pmt_array(cx,10)"
   ]
  },
  {
   "cell_type": "markdown",
   "metadata": {},
   "source": [
    "*Further improvement!*"
   ]
  },
  {
   "cell_type": "markdown",
   "metadata": {},
   "source": [
    "#### switch off checks"
   ]
  },
  {
   "cell_type": "code",
   "execution_count": 25,
   "metadata": {
    "collapsed": false
   },
   "outputs": [],
   "source": [
    "%%cython\n",
    "import numpy as np\n",
    "cimport numpy as np\n",
    "from cython cimport boundscheck, wraparound\n",
    "def c4rebin_pmt_array(np.ndarray[np.float64_t, ndim=1] a,int stride):\n",
    "    \"\"\"\n",
    "    rebins pmt array a according to stride\n",
    "    there is a rebin_array in util which uses\n",
    "    lenb = (len(a))/int(stride)\n",
    "    this version uses (lean(a)+1) to correct from the fact that the\n",
    "    MCRD is 599999 channels (should be 600000)\n",
    "    \"\"\"\n",
    "    \n",
    "    cdef:\n",
    "        int lenb, i, j,k\n",
    "        double part_sum\n",
    "      \n",
    "    lenb = a.shape[0]/stride\n",
    "    cdef np.ndarray[np.float64_t, ndim=1] b = np.zeros(lenb) \n",
    "    \n",
    "    j=0\n",
    "    with boundscheck(False), wraparound(False):\n",
    "        for i in range(lenb):\n",
    "            part_sum = 0.\n",
    "            for k in range(j, j + stride): \n",
    "                part_sum += a[k] \n",
    "                b[i] = part_sum\n",
    "            j+= stride\n",
    "    \n",
    "    return b"
   ]
  },
  {
   "cell_type": "code",
   "execution_count": 26,
   "metadata": {
    "collapsed": false
   },
   "outputs": [
    {
     "name": "stdout",
     "output_type": "stream",
     "text": [
      "The slowest run took 458.21 times longer than the fastest. This could mean that an intermediate result is being cached.\n",
      "100000 loops, best of 3: 2.22 µs per loop\n"
     ]
    }
   ],
   "source": [
    "%timeit z = c4rebin_pmt_array(cx,10)"
   ]
  },
  {
   "cell_type": "code",
   "execution_count": 27,
   "metadata": {
    "collapsed": false
   },
   "outputs": [
    {
     "name": "stdout",
     "output_type": "stream",
     "text": [
      "The slowest run took 7.85 times longer than the fastest. This could mean that an intermediate result is being cached.\n",
      "100000 loops, best of 3: 2.19 µs per loop\n"
     ]
    }
   ],
   "source": [
    "%timeit z = c4rebin_pmt_array(cx,10)"
   ]
  },
  {
   "cell_type": "code",
   "execution_count": 28,
   "metadata": {
    "collapsed": false
   },
   "outputs": [
    {
     "name": "stdout",
     "output_type": "stream",
     "text": [
      "10000 loops, best of 3: 29.2 µs per loop\n"
     ]
    }
   ],
   "source": [
    "%timeit z = rebin_pmt_array(cx,10)"
   ]
  },
  {
   "cell_type": "markdown",
   "metadata": {},
   "source": [
    "*About a factor 15 improvement*"
   ]
  },
  {
   "cell_type": "markdown",
   "metadata": {},
   "source": [
    "### Profiling"
   ]
  },
  {
   "cell_type": "code",
   "execution_count": 29,
   "metadata": {
    "collapsed": true
   },
   "outputs": [],
   "source": [
    "import cProfile"
   ]
  },
  {
   "cell_type": "code",
   "execution_count": 30,
   "metadata": {
    "collapsed": true
   },
   "outputs": [],
   "source": [
    "def main():\n",
    "    cx = np.arange(0.,1000000., 1)\n",
    "    z = rebin_pmt_array(cx,10)"
   ]
  },
  {
   "cell_type": "code",
   "execution_count": 31,
   "metadata": {
    "collapsed": false
   },
   "outputs": [
    {
     "name": "stdout",
     "output_type": "stream",
     "text": [
      "         400005 function calls in 0.356 seconds\n",
      "\n",
      "   Ordered by: internal time\n",
      "\n",
      "   ncalls  tottime  percall  cumtime  percall filename:lineno(function)\n",
      "   100000    0.162    0.000    0.162    0.000 {method 'reduce' of 'numpy.ufunc' objects}\n",
      "   100000    0.078    0.000    0.291    0.000 fromnumeric.py:1743(sum)\n",
      "        1    0.060    0.060    0.352    0.352 {_cython_magic_d5015329a00d8b98de93e435443336df.rebin_pmt_array}\n",
      "   100000    0.026    0.000    0.189    0.000 _methods.py:31(_sum)\n",
      "   100000    0.025    0.000    0.025    0.000 {isinstance}\n",
      "        1    0.004    0.004    0.004    0.004 {numpy.core.multiarray.arange}\n",
      "        1    0.000    0.000    0.356    0.356 <ipython-input-30-974bca651f3d>:1(main)\n",
      "        1    0.000    0.000    0.356    0.356 <string>:1(<module>)\n",
      "        1    0.000    0.000    0.000    0.000 {method 'disable' of '_lsprof.Profiler' objects}\n",
      "\n",
      "\n"
     ]
    }
   ],
   "source": [
    "cProfile.run('main()', sort='time')"
   ]
  },
  {
   "cell_type": "code",
   "execution_count": 32,
   "metadata": {
    "collapsed": true
   },
   "outputs": [],
   "source": [
    "def cmain():\n",
    "    cx = np.arange(0.,1000000., 1)\n",
    "    z = c4rebin_pmt_array(cx,10)"
   ]
  },
  {
   "cell_type": "code",
   "execution_count": 33,
   "metadata": {
    "collapsed": false
   },
   "outputs": [
    {
     "name": "stdout",
     "output_type": "stream",
     "text": [
      "         5 function calls in 0.003 seconds\n",
      "\n",
      "   Ordered by: internal time\n",
      "\n",
      "   ncalls  tottime  percall  cumtime  percall filename:lineno(function)\n",
      "        1    0.002    0.002    0.002    0.002 {_cython_magic_d19fd7fbfbbb40b8b0630f7e3ab017a6.c4rebin_pmt_array}\n",
      "        1    0.001    0.001    0.001    0.001 {numpy.core.multiarray.arange}\n",
      "        1    0.000    0.000    0.003    0.003 <string>:1(<module>)\n",
      "        1    0.000    0.000    0.003    0.003 <ipython-input-32-7a72f97666b8>:1(cmain)\n",
      "        1    0.000    0.000    0.000    0.000 {method 'disable' of '_lsprof.Profiler' objects}\n",
      "\n",
      "\n"
     ]
    }
   ],
   "source": [
    "cProfile.run('cmain()', sort='time')"
   ]
  },
  {
   "cell_type": "markdown",
   "metadata": {},
   "source": [
    "*NB It seems that the improvement for large arrays can be much larger***"
   ]
  },
  {
   "cell_type": "markdown",
   "metadata": {},
   "source": [
    "## DIOMIRA"
   ]
  },
  {
   "cell_type": "code",
   "execution_count": 69,
   "metadata": {
    "collapsed": true
   },
   "outputs": [],
   "source": [
    "\"\"\"\n",
    "DIOMIRA\n",
    "JJGC August 2016\n",
    "\n",
    "What DIOMIRA does:\n",
    "1) Reads a MCRD file containing MC waveforms for the 12 PMTs of the EP.\n",
    "   Each waveform contains number of PEs in bins of 1 ns.\n",
    "2) Convolves the PE waveform with the response of the FEE electronics.\n",
    "3) Decimates the waveform, simulating the effect of the DAQ sampling (25 ns bins)\n",
    "4) Writes a RWF file with the new data and adds the FEE simulation parameters as metadata\n",
    "\"\"\"\n",
    "\n",
    "from __future__ import print_function\n",
    "from Util import *\n",
    "from LogConfig import *\n",
    "from Configure import configure\n",
    "from Nh5 import *\n",
    "from cities import diomira\n",
    "from SensorsResponse import *\n",
    "\n",
    "import tables\n",
    "\n",
    "\n",
    "\"\"\"\n",
    "ChangeLog:\n",
    "\n",
    "26.9 \n",
    "\n",
    "Changed types of PMTRWF, SIPMRWF and PMTTWF to Float32 for \n",
    "    (compatibility with ART/GATE)\n",
    "\n",
    "Do not store EPMT and ESIPM (can be computed on the fly)\n",
    "\n",
    "Change sign of pmtrwf to negative (as produced by the DAQ)\n",
    "\"\"\"\n",
    "\n",
    "def DIOMIRA(argv):\n",
    "    DEBUG_LEVEL, INFO, CFP = configure(argv[0],argv[1:])\n",
    "   \n",
    "    if INFO:\n",
    "        print(diomira)\n",
    "\n",
    "    #wait()\n",
    "    \n",
    "    print(\"\"\"\n",
    "        DIOMIRA:\n",
    "         1. Reads an MCRD file produced by art/centella, which stores MCRD \n",
    "         waveforms for PMTs (bins of 1 ns)\n",
    "        and the SiPMs (bins of 1 mus)\n",
    "            \n",
    "\n",
    "        2. Simulates the response of the energy plane in the PMTs MCRD, \n",
    "        and produces both RWF and TWF:\n",
    "        see: http://localhost:8931/notebooks/Nh5-Event-Model.ipynb#Reconstructed-Objects\n",
    "        \n",
    "            \n",
    "        3. Simulates the response of the tracking plane in the SiPMs MCRD and outputs\n",
    "            SiPM RWF (not yet implemented, for the time being simply copy the MCRD)\n",
    "\n",
    "        4. Add a table describing the FEE parameters used for simulation\n",
    "\n",
    "        5. Copies the tables on geometry, detector data and MC\n",
    "\n",
    "\n",
    "        \"\"\")\n",
    "    FP.print_FEE()\n",
    "    #wait()\n",
    "\n",
    "    PATH_IN =CFP['PATH_IN']\n",
    "    PATH_OUT =CFP['PATH_OUT']\n",
    "    FILE_IN =CFP['FILE_IN']\n",
    "    FILE_OUT =CFP['FILE_OUT']\n",
    "    FIRST_EVT =CFP['FIRST_EVT']\n",
    "    LAST_EVT =CFP['LAST_EVT']\n",
    "    RUN_ALL =CFP['RUN_ALL']\n",
    "    CLIB =CFP['CLIB']\n",
    "    CLEVEL =CFP['CLEVEL']\n",
    "    NEVENTS = LAST_EVT - FIRST_EVT\n",
    "\n",
    "    print('Debug level = {}'.format(DEBUG_LEVEL))\n",
    "\n",
    "    logger.info(\"input path ={}; output path = {}; file_in ={} file_out ={}\".format(\n",
    "        PATH_IN,PATH_OUT,FILE_IN, FILE_OUT))\n",
    "\n",
    "    logger.info(\"first event = {} last event = {} nof events requested = {} \".format(\n",
    "        FIRST_EVT,LAST_EVT,NEVENTS))\n",
    "\n",
    "    logger.info(\"Compression library = {} Compression level = {} \".format(\n",
    "        CLIB,CLEVEL))\n",
    "\n",
    "    # open the input file \n",
    "    with tables.open_file(\"{}/{}\".format(PATH_IN,FILE_IN), \"r+\") as h5in: \n",
    "        # access the PMT raw data in file \n",
    "\n",
    "        pmtrd_ = h5in.root.pmtrd\n",
    "        sipmrd_ = h5in.root.sipmrd\n",
    "\n",
    "        #pmtrd_.shape = (nof_events, nof_sensors, wf_length)\n",
    "        NPMT = pmtrd_.shape[1]\n",
    "        NSIPM = sipmrd_.shape[1]\n",
    "        PMTWL = pmtrd_.shape[2] \n",
    "        PMTWL_FEE = int((PMTWL+1)/FP.time_DAQ)\n",
    "        SIPMWL = sipmrd_.shape[2]\n",
    "        NEVENTS_DST = pmtrd_.shape[0]\n",
    "\n",
    "        logger.info(\"nof PMTs = {} nof  SiPMs = {} nof events in input DST = {} \".format(\n",
    "        NPMT,NSIPM,NEVENTS_DST))\n",
    "\n",
    "        logger.info(\"lof SiPM WF = {} lof PMT WF (MC) = {} lof PMT WF (FEE) = {}\".format(\n",
    "        PMTWL,SIPMWL,PMTWL_FEE))\n",
    "\n",
    "        #wait()\n",
    "\n",
    "        #access the geometry and the sensors metadata info\n",
    "\n",
    "        geom_t = h5in.root.Detector.DetectorGeometry\n",
    "        pmt_t = h5in.root.Sensors.DataPMT\n",
    "        sipm_t = h5in.root.Sensors.DataSiPM\n",
    "        mctrk_t = h5in.root.MC.MCTracks\n",
    "\n",
    "        \n",
    "        # open the output file \n",
    "        with tables.open_file(\"{}/{}\".format(PATH_OUT,FILE_OUT), \"w\",\n",
    "            filters=tables.Filters(complib=CLIB, complevel=CLEVEL)) as h5out:\n",
    " \n",
    "            # create a group to store MC data\n",
    "            mcgroup = h5out.create_group(h5out.root, \"MC\")\n",
    "            # copy the mctrk table\n",
    "            mctrk_t.copy(newparent=mcgroup)\n",
    "\n",
    "            # create a group  to store geom data\n",
    "            detgroup = h5out.create_group(h5out.root, \"Detector\")\n",
    "            # copy the geom table\n",
    "            geom_t.copy(newparent=detgroup)\n",
    "\n",
    "            # create a group  store sensor data\n",
    "            sgroup = h5out.create_group(h5out.root, \"Sensors\")\n",
    "            # copy the pmt table\n",
    "            pmt_t.copy(newparent=sgroup)\n",
    "            # copy the sipm table\n",
    "            sipm_t.copy(newparent=sgroup)\n",
    "\n",
    "            # create a table to store Energy plane FEE data and hang it from MC group\n",
    "            fee_table = h5out.create_table(mcgroup, \"FEE\", FEE,\n",
    "                          \"EP-FEE parameters\",\n",
    "                           tables.Filters(0))\n",
    "\n",
    "            # fill table\n",
    "            FEE_param_table(fee_table)\n",
    "\n",
    "            # create a group to store RawData\n",
    "            rgroup = h5out.create_group(h5out.root, \"RD\")\n",
    "            \n",
    "            # create an extensible array to store the RWF waveforms\n",
    "            pmtrwf = h5out.create_earray(h5out.root.RD, \"pmtrwf\", \n",
    "                                    atom=tables.Float32Atom(), \n",
    "                                    shape=(0, NPMT, PMTWL_FEE), \n",
    "                                    expectedrows=NEVENTS_DST)\n",
    "            \n",
    "            # create an extensible array to store the TWF waveforms\n",
    "            pmttwf = h5out.create_earray(h5out.root.RD, \"pmttwf\", \n",
    "                                    atom=tables.Float32Atom(), \n",
    "                                    shape=(0, NPMT, PMTWL_FEE), \n",
    "                                    expectedrows=NEVENTS_DST)\n",
    "            \n",
    "\n",
    "            sipmrwf = h5out.create_earray(h5out.root.RD, \"sipmrwf\", \n",
    "                                    atom=tables.Float32Atom(), \n",
    "                                    shape=(0, NSIPM, SIPMWL), \n",
    "                                    expectedrows=NEVENTS_DST)\n",
    "\n",
    "            # #create an extensible array to store the energy in PES of PMTs \n",
    "            # epmt = h5out.create_earray(h5out.root.RD, \"epmt\", \n",
    "            #                         atom=tables.FloatAtom(), \n",
    "            #                         shape=(0, NPMT), \n",
    "            #                         expectedrows=NEVENTS_DST)\n",
    "\n",
    "            # # create an extensible array to store the energy in PES of SiPMs \n",
    "            # esipm = h5out.create_earray(h5out.root.RD, \"esipm\", \n",
    "            #                         atom=tables.FloatAtom(), \n",
    "            #                         shape=(0, NSIPM), \n",
    "            #                         expectedrows=NEVENTS_DST)\n",
    "\n",
    "            \n",
    "            if NEVENTS > NEVENTS_DST and RUN_ALL == False:\n",
    "                print(\"\"\"\n",
    "                Refusing to run: you have requested\n",
    "                FIRST_EVT = {}\n",
    "                LAST_EVT  = {}\n",
    "                Thus you want to run over {} events\n",
    "                but the size of the DST is {} events.\n",
    "                Please change your choice or select RUN_ALL = TRUE\n",
    "                to run over the whole DST when this happens\n",
    "                \"\"\".format(FIRST_EVT,LAST_EVT,NEVENTS,NEVENTS_DST))\n",
    "                sys.exit(0)\n",
    "            elif  NEVENTS > NEVENTS_DST and RUN_ALL == True:\n",
    "                FIRST_EVT = 0\n",
    "                LAST_EVT = NEVENTS_DST\n",
    "                NEVENTS = NEVENTS_DST\n",
    "\n",
    "\n",
    "            for i in range(FIRST_EVT,LAST_EVT):\n",
    "                logger.info(\"-->event number ={}\".format(i))\n",
    "\n",
    "                #simulate PMT response and return an array with RWF\n",
    "                dataPMT = simulate_pmt_response(i,pmtrd_)\n",
    "\n",
    "                #convert to float\n",
    "                dataPMT.astype(float) \n",
    "                #TWF\n",
    "                 \n",
    "                truePMT = rebin_signal(i,pmtrd_, int(FP.time_DAQ))\n",
    "                truePMT.astype(float)\n",
    "                \n",
    "                logger.info(\"truePMT shape ={}\".format(truePMT.shape))\n",
    "                logger.info(\"dataPMT shape ={}\".format(dataPMT.shape))\n",
    "                \n",
    "                #RWF for pmts\n",
    "                pmtrwf.append(dataPMT.reshape(1, NPMT, PMTWL_FEE))\n",
    "                #pmtrd.append(dataPMT.reshape(1, NPMT, PMTWL))\n",
    "                \n",
    "                #TWF for pmts\n",
    "                pmttwf.append(truePMT.reshape(1, NPMT, PMTWL_FEE))\n",
    "                #pmtrd.append(dataPMT.reshape(1, NPMT, PMTWL))\n",
    "                   \n",
    "                #simulate SiPM response and return an array with new WF\n",
    "                dataSiPM = simulate_sipm_response(i,sipmrd_)\n",
    "                dataSiPM.astype(float)\n",
    "                \n",
    "                #append to SiPM EARRAY\n",
    "                sipmrwf.append(dataSiPM.reshape(1, NSIPM, SIPMWL))\n",
    "\n",
    "                # #fill ene_pmt vector\n",
    "                # enePMT = energy_pes(i, pmtrd_)\n",
    "                # #append to epmt EARRAY\n",
    "                # epmt.append(enePMT.reshape(1, NPMT))\n",
    "\n",
    "                # #fill ene_sipm vector\n",
    "                # eneSIPM = energy_pes(i, sipmrd_)\n",
    "                # esipm.append(eneSIPM.reshape(1, NSIPM))\n",
    "\n",
    "            pmtrwf.flush()\n",
    "            pmttwf.flush()\n",
    "            sipmrwf.flush()\n",
    "            #epmt.flush()\n",
    "            #esipm.flush()\n",
    "\n",
    "\n",
    "    print(\"Leaving Diomira. Safe travels!\")\n",
    "\n",
    "\n",
    "\n",
    "  "
   ]
  },
  {
   "cell_type": "code",
   "execution_count": 35,
   "metadata": {
    "collapsed": true
   },
   "outputs": [],
   "source": [
    "%less ../../Config/DIOMIRA_NA_ZLIB_test2.csv"
   ]
  },
  {
   "cell_type": "raw",
   "metadata": {},
   "source": [
    "# Configuration file for DIOMIRA\n",
    "# The parameters for DIOMIRA are:\n",
    "#\n",
    "#        PATH_IN = path to input DST file (must be a MCRD file)\n",
    "#        FILE_IN = name of input DST file\n",
    "#        PATH_OUT = path to output DST file (RWF file)\n",
    "#        FILE_OUT = name of ouput DST file (RWF file)\n",
    "#        FIRST_EVT,LAST_EVT,RUN_ALL,\n",
    "#\n",
    "#        RUN_ALL is used to decide whether to run all the events in the file\n",
    "#        in case that the total number of events requested (LAST_EVT-FIRST_EVT) \n",
    "#        exceeds the number of events in the DST file. If RUN_ALL is set to 1 (True), \n",
    "#        the script will run over all elements in the DST, \n",
    "#        otherwise it will exit with a warning.\n",
    "#        CLIB = compression library used: values can be 'ZLIB', 'BLOSC' or 'NONE'\n",
    "#        CLEVEL = compression level\n",
    "#\n",
    "PATH_IN,PATH_OUT,FILE_IN,FILE_OUT,FIRST_EVT,LAST_EVT,RUN_ALL,CLIB,CLEVEL, END \n",
    "/Users/jjgomezcadenas/Documents/Development/NEXT/data/Waveforms/WF-NA-ZLIB/,/Users/jjgomezcadenas/Documents/Development/NEXT/data/Waveforms/25ns/,WF_Na_1Kevts_comp1_chunk32k.h5,WF_Na_ZLIB_test3_RWF.h5,0,3,1,zlib,1,1"
   ]
  },
  {
   "cell_type": "markdown",
   "metadata": {},
   "source": [
    "### Profile DIOMIRA"
   ]
  },
  {
   "cell_type": "code",
   "execution_count": 70,
   "metadata": {
    "collapsed": false
   },
   "outputs": [
    {
     "name": "stdout",
     "output_type": "stream",
     "text": [
      "INFO:root:Configuration Parameters (CFP) dictionary  = {'FIRST_EVT': 0, 'LAST_EVT': 3, 'FILE_OUT': 'WF_Na_ZLIB_test3_RWF.h5', 'PATH_OUT': '/Users/jjgomezcadenas/Documents/Development/NEXT/data/Waveforms/25ns/', ' END ': 1, 'CLIB': 'zlib', 'RUN_ALL': 1, 'PATH_IN': '/Users/jjgomezcadenas/Documents/Development/NEXT/data/Waveforms/WF-NA-ZLIB/', 'CLEVEL': 1, 'FILE_IN': 'WF_Na_1Kevts_comp1_chunk32k.h5'}\n"
     ]
    },
    {
     "name": "stderr",
     "output_type": "stream",
     "text": [
      "Configuration Parameters (CFP) dictionary  = {'FIRST_EVT': 0, 'LAST_EVT': 3, 'FILE_OUT': 'WF_Na_ZLIB_test3_RWF.h5', 'PATH_OUT': '/Users/jjgomezcadenas/Documents/Development/NEXT/data/Waveforms/25ns/', ' END ': 1, 'CLIB': 'zlib', 'RUN_ALL': 1, 'PATH_IN': '/Users/jjgomezcadenas/Documents/Development/NEXT/data/Waveforms/WF-NA-ZLIB/', 'CLEVEL': 1, 'FILE_IN': 'WF_Na_1Kevts_comp1_chunk32k.h5'}\n"
     ]
    },
    {
     "name": "stdout",
     "output_type": "stream",
     "text": [
      "\n",
      "Leaving there and proceeding for three days toward the east, you reach Diomira, \n",
      "a city with sixty silver domes, bronze statues of all the gods, streets paved with lead, \n",
      "a crystal theater, a golden cock that crows every morning on a tower. \n",
      "All these beauties will already be familiar to the visitor, \n",
      "who has seen them also in other cities. \n",
      "But the special quality of this city for the man who arrives there on a September evening, \n",
      "when the days are growing shorter \n",
      "and the multicolored lamps are lighted all at once at the doors of the food stalls \n",
      "and from a terrace a woman's voice cries ooh!, is that he feels envy \n",
      "toward those who now believe they have once before lived an \n",
      "evening identical to this and who think they were happy, that time.\n",
      "\n",
      "        DIOMIRA:\n",
      "         1. Reads an MCRD file produced by art/centella, which stores MCRD \n",
      "         waveforms for PMTs (bins of 1 ns)\n",
      "        and the SiPMs (bins of 1 mus)\n",
      "            \n",
      "\n",
      "        2. Simulates the response of the energy plane in the PMTs MCRD, \n",
      "        and produces both RWF and TWF:\n",
      "        see: http://localhost:8931/notebooks/Nh5-Event-Model.ipynb#Reconstructed-Objects\n",
      "        \n",
      "            \n",
      "        3. Simulates the response of the tracking plane in the SiPMs MCRD and outputs\n",
      "            SiPM RWF (not yet implemented, for the time being simply copy the MCRD)\n",
      "\n",
      "        4. Add a table describing the FEE parameters used for simulation\n",
      "\n",
      "        5. Copies the tables on geometry, detector data and MC\n",
      "\n",
      "\n",
      "        \n",
      "\n",
      "  NEW FEE: DEFAULT PARAMETERS\n",
      "  PMT gain = 4.5e+06\n",
      "  sampling time: (fine) =    1.00 ns (DAQ) =   25.00 ns \n",
      "  decoupling capacitor =    6.20 nF\n",
      "  decoupling resistor = 2350.00 ohm\n",
      "  HPF frequency = 10923.47 Hz  W_HPF_fine = 1.1e-05 W_HPF_daq = 0.00027 \n",
      "  LPF frequency = 3000000.00 Hz  W_LPF_fine =   0.003 W_LPF_daq =   0.075 \n",
      "  noise =    0.70 mV\n",
      "  noise (adc) =    1.79\n",
      "  vots to adc factor =    2.56 \n",
      "  \n",
      "decoupling capacitors for energy plane = [ 6.02975448  6.22547194  6.0671337   6.22159457  6.29999787  6.09892384\n",
      "  6.18289435  6.21775591  6.19306671  6.30518792  6.20359891  6.31231192]\n",
      "Debug level = INFO\n",
      "INFO:root:input path =/Users/jjgomezcadenas/Documents/Development/NEXT/data/Waveforms/WF-NA-ZLIB/; output path = /Users/jjgomezcadenas/Documents/Development/NEXT/data/Waveforms/25ns/; file_in =WF_Na_1Kevts_comp1_chunk32k.h5 file_out =WF_Na_ZLIB_test3_RWF.h5\n"
     ]
    },
    {
     "name": "stderr",
     "output_type": "stream",
     "text": [
      "input path =/Users/jjgomezcadenas/Documents/Development/NEXT/data/Waveforms/WF-NA-ZLIB/; output path = /Users/jjgomezcadenas/Documents/Development/NEXT/data/Waveforms/25ns/; file_in =WF_Na_1Kevts_comp1_chunk32k.h5 file_out =WF_Na_ZLIB_test3_RWF.h5\n"
     ]
    },
    {
     "name": "stdout",
     "output_type": "stream",
     "text": [
      "INFO:root:first event = 0 last event = 3 nof events requested = 3 \n"
     ]
    },
    {
     "name": "stderr",
     "output_type": "stream",
     "text": [
      "first event = 0 last event = 3 nof events requested = 3 \n"
     ]
    },
    {
     "name": "stdout",
     "output_type": "stream",
     "text": [
      "INFO:root:Compression library = zlib Compression level = 1 \n"
     ]
    },
    {
     "name": "stderr",
     "output_type": "stream",
     "text": [
      "Compression library = zlib Compression level = 1 \n"
     ]
    },
    {
     "name": "stdout",
     "output_type": "stream",
     "text": [
      "INFO:root:nof PMTs = 12 nof  SiPMs = 1792 nof events in input DST = 1000 \n"
     ]
    },
    {
     "name": "stderr",
     "output_type": "stream",
     "text": [
      "nof PMTs = 12 nof  SiPMs = 1792 nof events in input DST = 1000 \n"
     ]
    },
    {
     "name": "stdout",
     "output_type": "stream",
     "text": [
      "INFO:root:lof SiPM WF = 599999 lof PMT WF (MC) = 600 lof PMT WF (FEE) = 24000\n"
     ]
    },
    {
     "name": "stderr",
     "output_type": "stream",
     "text": [
      "lof SiPM WF = 599999 lof PMT WF (MC) = 600 lof PMT WF (FEE) = 24000\n"
     ]
    },
    {
     "name": "stdout",
     "output_type": "stream",
     "text": [
      "INFO:root:-->event number =0\n"
     ]
    },
    {
     "name": "stderr",
     "output_type": "stream",
     "text": [
      "-->event number =0\n"
     ]
    },
    {
     "name": "stdout",
     "output_type": "stream",
     "text": [
      "INFO:root:truePMT shape =(12, 24000)\n"
     ]
    },
    {
     "name": "stderr",
     "output_type": "stream",
     "text": [
      "truePMT shape =(12, 24000)\n"
     ]
    },
    {
     "name": "stdout",
     "output_type": "stream",
     "text": [
      "INFO:root:dataPMT shape =(12, 24000)\n"
     ]
    },
    {
     "name": "stderr",
     "output_type": "stream",
     "text": [
      "dataPMT shape =(12, 24000)\n"
     ]
    },
    {
     "name": "stdout",
     "output_type": "stream",
     "text": [
      "INFO:root:-->event number =1\n"
     ]
    },
    {
     "name": "stderr",
     "output_type": "stream",
     "text": [
      "-->event number =1\n"
     ]
    },
    {
     "name": "stdout",
     "output_type": "stream",
     "text": [
      "INFO:root:truePMT shape =(12, 24000)\n"
     ]
    },
    {
     "name": "stderr",
     "output_type": "stream",
     "text": [
      "truePMT shape =(12, 24000)\n"
     ]
    },
    {
     "name": "stdout",
     "output_type": "stream",
     "text": [
      "INFO:root:dataPMT shape =(12, 24000)\n"
     ]
    },
    {
     "name": "stderr",
     "output_type": "stream",
     "text": [
      "dataPMT shape =(12, 24000)\n"
     ]
    },
    {
     "name": "stdout",
     "output_type": "stream",
     "text": [
      "INFO:root:-->event number =2\n"
     ]
    },
    {
     "name": "stderr",
     "output_type": "stream",
     "text": [
      "-->event number =2\n"
     ]
    },
    {
     "name": "stdout",
     "output_type": "stream",
     "text": [
      "INFO:root:truePMT shape =(12, 24000)\n"
     ]
    },
    {
     "name": "stderr",
     "output_type": "stream",
     "text": [
      "truePMT shape =(12, 24000)\n"
     ]
    },
    {
     "name": "stdout",
     "output_type": "stream",
     "text": [
      "INFO:root:dataPMT shape =(12, 24000)\n"
     ]
    },
    {
     "name": "stderr",
     "output_type": "stream",
     "text": [
      "dataPMT shape =(12, 24000)\n"
     ]
    },
    {
     "name": "stdout",
     "output_type": "stream",
     "text": [
      "Leaving Diomira. Safe travels!\n",
      "         3699711 function calls (3699682 primitive calls) in 6.610 seconds\n",
      "\n",
      "   Ordered by: internal time\n",
      "\n",
      "   ncalls  tottime  percall  cumtime  percall filename:lineno(function)\n",
      "   865310    1.584    0.000    1.584    0.000 {method 'reduce' of 'numpy.ufunc' objects}\n",
      "       36    0.689    0.019    0.689    0.019 {method 'normal' of 'mtrand.RandomState' objects}\n",
      "      468    0.681    0.001    0.681    0.001 {numpy.core.multiarray.correlate}\n",
      "   864039    0.674    0.000    2.693    0.000 fromnumeric.py:1743(sum)\n",
      "       36    0.653    0.018    3.364    0.093 SensorsResponse.py:127(rebin_pmt_array)\n",
      "        7    0.290    0.041    0.290    0.041 {method '_fill_col' of 'tables.tableextension.Row' objects}\n",
      "       72    0.258    0.004    0.258    0.004 {scipy.signal.sigtools._linear_filter}\n",
      "        8    0.250    0.031    0.250    0.031 {method '_append_records' of 'tables.tableextension.Table' objects}\n",
      "     5448    0.240    0.000    0.240    0.000 {method '_g_read_slice' of 'tables.hdf5extension.Array' objects}\n",
      "   884661    0.235    0.000    0.235    0.000 {isinstance}\n",
      "   864039    0.212    0.000    1.791    0.000 _methods.py:31(_sum)\n",
      "        9    0.104    0.012    0.104    0.012 {method '_append' of 'tables.hdf5extension.Array' objects}\n",
      "       36    0.103    0.003    1.053    0.029 FEE2.py:156(FEESignal)\n",
      "        3    0.099    0.033    2.103    0.701 SensorsResponse.py:73(simulate_pmt_response)\n",
      "     5448    0.077    0.000    0.125    0.000 array.py:370(_interpret_indexing)\n",
      "       12    0.043    0.004    0.043    0.004 {method '_g_flush' of 'tables.hdf5extension.Leaf' objects}\n",
      "     5736    0.039    0.000    0.039    0.000 {numpy.core.multiarray.zeros}\n",
      "       36    0.030    0.001    0.566    0.016 shape_base.py:20(apply_along_axis)\n",
      "    22345    0.025    0.000    0.025    0.000 {numpy.core.multiarray.empty}\n",
      "     6342    0.023    0.000    0.023    0.000 {numpy.core.multiarray.array}\n",
      "        2    0.020    0.010    0.020    0.010 {method '_close_file' of 'tables.hdf5extension.File' objects}\n",
      "      108    0.019    0.000    0.845    0.008 signaltools.py:845(lfilter)\n",
      "      613    0.018    0.000    0.018    0.000 {range}\n",
      "      513    0.017    0.000    0.017    0.000 {method 'astype' of 'numpy.ndarray' objects}\n",
      "       36    0.017    0.000    0.613    0.017 FEE2.py:176(daqSignal)\n",
      "        1    0.016    0.016    6.610    6.610 <ipython-input-69-27aaa549d055>:37(DIOMIRA)\n",
      "     5448    0.015    0.000    0.406    0.000 array.py:627(__getitem__)\n",
      "    10900    0.012    0.000    0.015    0.000 leaf.py:390(_process_range)\n",
      "     5448    0.011    0.000    0.262    0.000 array.py:758(_read_slice)\n",
      "        3    0.011    0.004    0.241    0.080 SensorsResponse.py:62(simulate_sipm_response)\n",
      "      432    0.008    0.000    0.021    0.000 polynomial.py:32(poly)\n",
      "53601/53593    0.005    0.000    0.005    0.000 {len}\n",
      "    10896    0.005    0.000    0.005    0.000 utils.py:49(is_idx)\n",
      "     1980    0.004    0.000    0.008    0.000 shape_base.py:9(atleast_1d)\n",
      "      216    0.004    0.000    0.051    0.000 filter_design.py:1327(iirfilter)\n",
      "       14    0.004    0.000    0.004    0.000 {method '_g_close' of 'tables.hdf5extension.Leaf' objects}\n",
      "      216    0.003    0.000    0.004    0.000 filter_design.py:2863(buttap)\n",
      "       36    0.003    0.000    0.010    0.000 fir_filter_design.py:138(firwin)\n",
      "    10900    0.003    0.000    0.003    0.000 {method 'indices' of 'slice' objects}\n",
      "    13898    0.003    0.000    0.003    0.000 {method 'append' of 'list' objects}\n",
      "      144    0.003    0.000    0.008    0.000 filter_design.py:1620(_zpklp2hp)\n",
      "      108    0.003    0.000    0.006    0.000 filter_design.py:1517(_zpkbilinear)\n",
      "     5523    0.003    0.000    0.003    0.000 node.py:342(_g_check_open)\n",
      "     3320    0.002    0.000    0.004    0.000 numeric.py:484(asanyarray)\n",
      "       30    0.002    0.000    0.002    0.000 uuid.py:103(__init__)\n",
      "      216    0.002    0.000    0.026    0.000 filter_design.py:594(zpk2tf)\n",
      "        4    0.002    0.000    0.005    0.001 {method '_get_info' of 'tables.tableextension.Table' objects}\n",
      "      468    0.002    0.000    0.684    0.001 numeric.py:918(convolve)\n",
      "       62    0.002    0.000    0.003    0.000 {method '_g_setattr' of 'tables.hdf5extension.AttributeSet' objects}\n",
      "      840    0.002    0.000    0.002    0.000 {method 'sub' of '_sre.SRE_Pattern' objects}\n",
      "        2    0.002    0.001    0.002    0.001 {method '_g_new' of 'tables.hdf5extension.File' objects}\n",
      "        5    0.002    0.000    0.002    0.000 {method '_create_table' of 'tables.tableextension.Table' objects}\n",
      "       43    0.002    0.000    0.002    0.000 {method '_g_get_objinfo' of 'tables.hdf5extension.Group' objects}\n",
      "      432    0.002    0.000    0.002    0.000 type_check.py:18(mintypecode)\n",
      "     5448    0.001    0.000    0.001    0.000 leaf.py:211(<lambda>)\n",
      "      120    0.001    0.000    0.004    0.000 encoder.py:212(iterencode)\n",
      "    10896    0.001    0.000    0.001    0.000 {operator.index}\n",
      "      681    0.001    0.000    0.004    0.000 fromnumeric.py:2395(prod)\n",
      "       61    0.001    0.000    0.001    0.000 {method '_g_getattr' of 'tables.hdf5extension.AttributeSet' objects}\n",
      "        3    0.001    0.000    3.449    1.150 SensorsResponse.py:144(rebin_signal)\n",
      "      333    0.001    0.000    0.001    0.000 {method 'reshape' of 'numpy.ndarray' objects}\n",
      "      540    0.001    0.000    0.001    0.000 {numpy.core.multiarray.copyto}\n",
      "      324    0.001    0.000    0.001    0.000 {numpy.core.multiarray.concatenate}\n",
      "      210    0.001    0.000    0.001    0.000 {method 'send' of 'zmq.backend.cython.socket.Socket' objects}\n",
      "      400    0.001    0.000    0.001    0.000 {numpy.core.multiarray.arange}\n",
      "      108    0.001    0.000    0.052    0.000 FEE2.py:55(__init__)\n",
      "      435    0.001    0.000    0.001    0.000 {method 'compress' of 'numpy.ndarray' objects}\n",
      "        5    0.001    0.000    0.002    0.000 description.py:443(__init__)\n",
      "      121    0.001    0.000    0.002    0.000 atom.py:493(__init__)\n",
      "       72    0.001    0.000    0.001    0.000 function_base.py:3262(sinc)\n",
      "      840    0.001    0.000    0.002    0.000 encoder.py:33(encode_basestring)\n",
      "       30    0.001    0.000    0.001    0.000 {zmq.backend.cython._poll.zmq_poll}\n",
      "      432    0.001    0.000    0.001    0.000 function_base.py:1807(sort_complex)\n",
      "       30    0.001    0.000    0.015    0.000 session.py:600(send)\n",
      "      120    0.001    0.000    0.005    0.000 __init__.py:193(dumps)\n",
      "       36    0.001    0.000    0.053    0.001 FEE2.py:116(__init__)\n",
      "      744    0.001    0.000    0.001    0.000 numeric.py:414(asarray)\n",
      "      540    0.001    0.000    0.002    0.000 numeric.py:148(ones)\n",
      "       72    0.001    0.000    0.001    0.000 function_base.py:9(linspace)\n",
      "       30    0.001    0.000    0.003    0.000 session.py:452(msg_id)\n",
      "       27    0.001    0.000    0.001    0.000 atom.py:565(_get_init_args)\n",
      "      252    0.001    0.000    0.002    0.000 function_base.py:4534(append)\n",
      "       36    0.001    0.000    0.595    0.017 signaltools.py:2634(decimate)\n",
      "      578    0.001    0.000    0.001    0.000 {hasattr}\n",
      "      468    0.001    0.000    0.001    0.000 numeric.py:846(_mode_from_name)\n",
      "        6    0.001    0.000    0.001    0.000 {method '_g_get_lchild_attr' of 'tables.hdf5extension.Group' objects}\n",
      "       36    0.001    0.000    0.002    0.000 SPE.py:19(__init__)\n",
      "      121    0.001    0.000    0.001    0.000 atom.py:116(_normalize_shape)\n",
      "      177    0.001    0.000    0.001    0.000 file.py:382(register_node)\n",
      "        1    0.000    0.000    6.610    6.610 <string>:1(<module>)\n",
      "        1    0.000    0.000    0.001    0.001 parsers.py:1197(__init__)\n",
      "       72    0.000    0.000    0.001    0.000 filter_design.py:1567(_zpklp2lp)\n",
      "       36    0.000    0.000    0.001    0.000 function_base.py:1518(diff)\n",
      "       72    0.000    0.000    0.260    0.004 FEE2.py:80(FilterPulse)\n",
      "       36    0.000    0.000    0.001    0.000 windows.py:1610(get_window)\n",
      "       72    0.000    0.000    0.691    0.010 FEE2.py:187(FEENoise)\n",
      "      255    0.000    0.000    0.003    0.000 fromnumeric.py:1892(any)\n",
      "       30    0.000    0.000    0.001    0.000 socket.py:289(send_multipart)\n",
      "       71    0.000    0.000    0.002    0.000 attributeset.py:282(__getattr__)\n",
      "        6    0.000    0.000    0.000    0.000 {tables.utilsextension.which_class}\n",
      "      246    0.000    0.000    0.002    0.000 attributeset.py:61(issysattrname)\n",
      "       36    0.000    0.000    0.001    0.000 windows.py:859(hamming)\n",
      "      253    0.000    0.000    0.001    0.000 fromnumeric.py:1383(ravel)\n",
      "       62    0.000    0.000    0.005    0.000 attributeset.py:375(_g__setattr)\n",
      "      102    0.000    0.000    0.000    0.000 {method 'clear' of 'dict' objects}\n",
      "      217    0.000    0.000    0.000    0.000 group.py:843(__setattr__)\n",
      "       30    0.000    0.000    0.008    0.000 session.py:541(serialize)\n",
      "        3    0.000    0.000    0.000    0.000 {method '_create_carray' of 'tables.hdf5extension.Array' objects}\n",
      "     1356    0.000    0.000    0.000    0.000 {issubclass}\n",
      "       90    0.000    0.000    0.000    0.000 {method 'format' of 'str' objects}\n",
      "      390    0.000    0.000    0.001    0.000 traitlets.py:518(__get__)\n",
      "      216    0.000    0.000    0.051    0.000 filter_design.py:1824(butter)\n",
      "      121    0.000    0.000    0.001    0.000 atom.py:139(_normalize_default)\n",
      "      120    0.000    0.000    0.006    0.000 jsonapi.py:31(dumps)\n",
      "       15    0.000    0.000    0.001    0.000 __init__.py:237(__init__)\n",
      "       30    0.000    0.000    0.017    0.001 iostream.py:151(flush)\n",
      "       20    0.000    0.000    0.003    0.000 attributeset.py:200(__init__)\n",
      "      192    0.000    0.000    0.000    0.000 weakref.py:88(__contains__)\n",
      "      452    0.000    0.000    0.000    0.000 {getattr}\n",
      "       41    0.000    0.000    0.000    0.000 atom.py:483(<lambda>)\n",
      "       68    0.000    0.000    0.000    0.000 table.py:3487(__init__)\n",
      "        1    0.000    0.000    0.000    0.000 {method 'read' of 'pandas.parser.TextReader' objects}\n",
      "      471    0.000    0.000    0.000    0.000 description.py:677(_f_walk)\n",
      "      120    0.000    0.000    0.004    0.000 encoder.py:186(encode)\n",
      "       21    0.000    0.000    0.024    0.001 node.py:203(__init__)\n",
      "       30    0.000    0.000    0.000    0.000 {posix.urandom}\n",
      "       36    0.000    0.000    0.261    0.007 FEE2.py:131(Filter)\n",
      "  159/155    0.000    0.000    0.014    0.000 file.py:408(get_node)\n",
      "       91    0.000    0.000    0.002    0.000 atom.py:409(from_kind)\n",
      "      220    0.000    0.000    0.002    0.000 fromnumeric.py:1875(alltrue)\n",
      "     1116    0.000    0.000    0.000    0.000 {method 'lower' of 'str' objects}\n",
      "        9    0.000    0.000    0.020    0.002 table.py:705(__init__)\n",
      "       30    0.000    0.000    0.001    0.000 session.py:526(sign)\n",
      "      175    0.000    0.000    0.001    0.000 file.py:395(cache_node)\n",
      "       72    0.000    0.000    0.000    0.000 {numpy.core.multiarray.where}\n",
      "       42    0.000    0.000    0.001    0.000 iostream.py:207(write)\n",
      "      256    0.000    0.000    0.002    0.000 {method 'any' of 'numpy.ndarray' objects}\n",
      "      681    0.000    0.000    0.003    0.000 _methods.py:34(_prod)\n",
      "      432    0.000    0.000    0.001    0.000 fromnumeric.py:1619(compress)\n",
      "       23    0.000    0.000    0.000    0.000 weakref.py:105(__setitem__)\n",
      "      212    0.000    0.000    0.000    0.000 {method 'pop' of 'tables.lrucacheextension.NodeCache' objects}\n",
      "      626    0.000    0.000    0.000    0.000 {method 'sort' of 'list' objects}\n",
      "        5    0.000    0.000    0.000    0.000 {method '_close_append' of 'tables.tableextension.Table' objects}\n",
      "      252    0.000    0.000    0.001    0.000 type_check.py:107(real)\n",
      "       36    0.000    0.000    0.595    0.017 FEE2.py:21(down_scale_signal_)\n",
      "      120    0.000    0.000    0.000    0.000 {method 'join' of 'str' objects}\n",
      "        3    0.000    0.000    0.001    0.000 arrayprint.py:543(fillFormat)\n",
      "      120    0.000    0.000    0.006    0.000 session.py:94(<lambda>)\n",
      "       30    0.000    0.000    0.000    0.000 attrsettr.py:35(__getattr__)\n",
      "       30    0.000    0.000    0.005    0.000 session.py:507(msg)\n",
      "      390    0.000    0.000    0.000    0.000 traitlets.py:499(get)\n",
      "       27    0.000    0.000    0.000    0.000 inspect.py:744(getargs)\n",
      "      120    0.000    0.000    0.000    0.000 encoder.py:101(__init__)\n",
      "       30    0.000    0.000    0.018    0.001 __init__.py:830(flush)\n",
      "      150    0.000    0.000    0.000    0.000 {method 'update' of '_hashlib.HASH' objects}\n",
      "       36    0.000    0.000    0.000    0.000 numeric.py:2064(isscalar)\n",
      "        9    0.000    0.000    0.001    0.000 table.py:1142(_cache_description_data)\n",
      "       90    0.000    0.000    0.000    0.000 {method 'encode' of 'unicode' objects}\n",
      "        4    0.000    0.000    0.000    0.000 {tables.utilsextension.get_filters}\n",
      "       36    0.000    0.000    0.180    0.005 signaltools.py:392(convolve)\n",
      "      432    0.000    0.000    0.000    0.000 {method 'index' of 'str' objects}\n",
      "       60    0.000    0.000    0.000    0.000 threading.py:187(release)\n",
      "       30    0.000    0.000    0.000    0.000 {built-in method now}\n",
      "       27    0.000    0.000    0.002    0.000 description.py:108(from_atom)\n",
      "       40    0.000    0.000    0.000    0.000 {map}\n",
      "        2    0.000    0.000    0.004    0.002 file.py:748(__init__)\n",
      "       41    0.000    0.000    0.000    0.000 {method '__reduce_ex__' of 'object' objects}\n",
      "      163    0.000    0.000    0.000    0.000 {method 'match' of '_sre.SRE_Pattern' objects}\n",
      "      220    0.000    0.000    0.001    0.000 {method 'all' of 'numpy.ndarray' objects}\n",
      "       36    0.000    0.000    0.181    0.005 SPE.py:91(SpePulseFromVectorPE)\n",
      "        9    0.000    0.000    0.001    0.000 table.py:875(_g_post_init_hook)\n",
      "       87    0.000    0.000    0.000    0.000 __init__.py:1352(isEnabledFor)\n",
      "      324    0.000    0.000    0.000    0.000 filter_design.py:1503(_relative_degree)\n",
      "       30    0.000    0.000    0.000    0.000 session.py:211(extract_header)\n",
      "       53    0.000    0.000    0.000    0.000 path.py:69(check_name_validity)\n",
      "       60    0.000    0.000    0.000    0.000 threading.py:147(acquire)\n",
      "       30    0.000    0.000    0.001    0.000 iostream.py:123(_flush_from_subprocesses)\n",
      "        2    0.000    0.000    0.000    0.000 {method '_open_array' of 'tables.hdf5extension.Array' objects}\n",
      "        5    0.000    0.000    0.009    0.002 table.py:1027(_g_create)\n",
      "       27    0.000    0.000    0.001    0.000 inspect.py:804(getargspec)\n",
      "      255    0.000    0.000    0.000    0.000 {method 'ravel' of 'numpy.ndarray' objects}\n",
      "  173/169    0.000    0.000    0.014    0.000 file.py:1549(_get_node)\n",
      "       30    0.000    0.000    0.019    0.001 __init__.py:841(emit)\n",
      "       30    0.000    0.000    0.004    0.000 session.py:504(msg_header)\n",
      "        9    0.000    0.000    0.114    0.013 earray.py:193(append)\n",
      "       30    0.000    0.000    0.000    0.000 hmac.py:88(copy)\n",
      "       72    0.000    0.000    0.000    0.000 __init__.py:1137(debug)\n",
      "       41    0.000    0.000    0.000    0.000 copy.py:306(_reconstruct)\n",
      "       21    0.000    0.000    0.001    0.000 node.py:355(_g_set_location)\n",
      "       42    0.000    0.000    0.000    0.000 {_codecs.utf_8_decode}\n",
      "      216    0.000    0.000    0.000    0.000 {method 'copy' of 'numpy.ndarray' objects}\n",
      "      102    0.000    0.000    0.002    0.000 atom.py:668(__init__)\n",
      "       12    0.000    0.000    0.001    0.000 group.py:502(_g_refnode)\n",
      "      424    0.000    0.000    0.000    0.000 {method 'startswith' of 'str' objects}\n",
      "       36    0.000    0.000    0.001    0.000 shape_base.py:232(hstack)\n",
      "      256    0.000    0.000    0.001    0.000 _methods.py:37(_any)\n",
      "       36    0.000    0.000    0.501    0.014 signaltools.py:957(<lambda>)\n",
      "      216    0.000    0.000    0.000    0.000 fromnumeric.py:2659(size)\n",
      "        7    0.000    0.000    0.000    0.000 leaf.py:320(_calc_chunkshape)\n",
      "       45    0.000    0.000    0.000    0.000 atom.py:55(split_type)\n",
      "        5    0.000    0.000    0.000    0.000 description.py:599(_g_set_path_names)\n",
      "       43    0.000    0.000    0.002    0.000 group.py:394(_g_check_has_child)\n",
      "        4    0.000    0.000    0.541    0.135 table.py:2904(_g_copy_rows_optim)\n",
      "       30    0.000    0.000    0.003    0.000 uuid.py:582(uuid4)\n",
      "       72    0.000    0.000    0.000    0.000 {method 'tolist' of 'numpy.ndarray' objects}\n",
      "  134/129    0.000    0.000    0.004    0.000 utils.py:240(newfget)\n",
      "       36    0.000    0.000    0.001    0.000 fromnumeric.py:1843(product)\n",
      "        5    0.000    0.000    0.000    0.000 table.py:596(row)\n",
      "        5    0.000    0.000    0.000    0.000 {method '_g_open' of 'tables.hdf5extension.Group' objects}\n",
      "        4    0.000    0.000    0.000    0.000 {method '_g_create' of 'tables.hdf5extension.Group' objects}\n",
      "        4    0.000    0.000    0.008    0.002 table.py:1083(_g_open)\n",
      "    14/10    0.000    0.000    0.012    0.001 group.py:1174(_g_load_child)\n",
      "       30    0.000    0.000    0.000    0.000 __init__.py:452(format)\n",
      "      432    0.000    0.000    0.000    0.000 {method 'sort' of 'numpy.ndarray' objects}\n",
      "      220    0.000    0.000    0.001    0.000 _methods.py:40(_all)\n",
      "      108    0.000    0.000    0.000    0.000 {numpy.core.multiarray.result_type}\n",
      "       15    0.000    0.000    0.021    0.001 __init__.py:1149(info)\n",
      "       60    0.000    0.000    0.000    0.000 __init__.py:702(release)\n",
      "        9    0.000    0.000    0.000    0.000 earray.py:175(_check_shape_append)\n",
      "        2    0.000    0.000    0.000    0.000 frame.py:5244(extract_index)\n",
      "       30    0.000    0.000    0.020    0.001 __init__.py:738(handle)\n",
      "       15    0.000    0.000    0.020    0.001 __init__.py:1312(callHandlers)\n",
      "       42    0.000    0.000    0.000    0.000 {method 'decode' of 'str' objects}\n",
      "       15    0.000    0.000    0.000    0.000 __init__.py:1225(findCaller)\n",
      "       30    0.000    0.000    0.000    0.000 uuid.py:199(__str__)\n",
      "       41    0.000    0.000    0.001    0.000 copy.py:66(copy)\n",
      "       30    0.000    0.000    0.000    0.000 generic.py:2674(__setattr__)\n",
      "       10    0.000    0.000    0.000    0.000 common.py:1011(_possibly_cast_to_datetime)\n",
      "       25    0.000    0.000    0.001    0.000 node.py:482(_f_close)\n",
      "       27    0.000    0.000    0.001    0.000 description.py:196(__init__)\n",
      "       62    0.000    0.000    0.002    0.000 atom.py:354(from_dtype)\n",
      "      123    0.000    0.000    0.001    0.000 attributeset.py:193(_g_getnode)\n",
      "      309    0.000    0.000    0.000    0.000 weakref.py:76(__getitem__)\n",
      "       23    0.000    0.000    0.000    0.000 node.py:439(_g_del_location)\n",
      "       90    0.000    0.000    0.000    0.000 {method 'copy' of '_hashlib.HASH' objects}\n",
      "       10    0.000    0.000    0.000    0.000 internals.py:3312(iget)\n",
      "       30    0.000    0.000    0.000    0.000 iostream.py:238(_flush_buffer)\n",
      "       78    0.000    0.000    0.000    0.000 encoder.py:37(replace)\n",
      "      102    0.000    0.000    0.000    0.000 iostream.py:93(_is_master_process)\n",
      "       12    0.000    0.000    0.000    0.000 arrayprint.py:594(__call__)\n",
      "       36    0.000    0.000    0.000    0.000 {method 'take' of 'numpy.ndarray' objects}\n",
      "       10    0.000    0.000    0.001    0.000 base.py:1957(get_value)\n",
      "       13    0.000    0.000    0.014    0.001 group.py:697(_f_get_child)\n",
      "        1    0.000    0.000    0.001    0.001 internals.py:4007(form_blocks)\n",
      "        2    0.000    0.000    0.001    0.000 group.py:1132(__init__)\n",
      "       42    0.000    0.000    0.000    0.000 {method 'write' of '_io.StringIO' objects}\n",
      "      142    0.000    0.000    0.000    0.000 generic.py:7(_check)\n",
      "       72    0.000    0.000    0.000    0.000 iostream.py:102(_check_mp_mode)\n",
      "       30    0.000    0.000    0.000    0.000 session.py:206(msg_header)\n",
      "        3    0.000    0.000    0.000    0.000 {method '_g_get_gchild_attr' of 'tables.hdf5extension.Group' objects}\n",
      "        9    0.000    0.000    0.000    0.000 table.py:3343(_g_close)\n",
      "       20    0.000    0.000    0.000    0.000 {method '_g_list_attr' of 'tables.hdf5extension.AttributeSet' objects}\n",
      "       17    0.000    0.000    0.001    0.000 file.py:1561(get_node)\n",
      "      136    0.000    0.000    0.000    0.000 table.py:3222(_g_col)\n",
      "        1    0.000    0.000    0.004    0.004 parsers.py:416(parser_f)\n",
      "       19    0.000    0.000    0.000    0.000 atom.py:609(__init__)\n",
      "        9    0.000    0.000    0.000    0.000 table.py:3161(__init__)\n",
      "       87    0.000    0.000    0.000    0.000 __init__.py:1338(getEffectiveLevel)\n",
      "       10    0.000    0.000    0.000    0.000 generic.py:1359(_set_as_cached)\n",
      "       45    0.000    0.000    0.000    0.000 dtypes.py:74(is_dtype)\n",
      "       29    0.000    0.000    0.000    0.000 path.py:122(join_path)\n",
      "       30    0.000    0.000    0.001    0.000 poll.py:77(poll)\n",
      "      120    0.000    0.000    0.000    0.000 hmac.py:83(update)\n",
      "        5    0.000    0.000    0.000    0.000 {method '_g_list_group' of 'tables.hdf5extension.Group' objects}\n",
      "      102    0.000    0.000    0.000    0.000 {method 'rfind' of 'str' objects}\n",
      "       36    0.000    0.000    0.000    0.000 {method 'min' of 'numpy.ndarray' objects}\n",
      "        8    0.000    0.000    0.005    0.001 file.py:499(_close_nodes)\n",
      "       10    0.000    0.000    0.001    0.000 frame.py:2331(_box_item_values)\n",
      "       30    0.000    0.000    0.000    0.000 iostream.py:247(_new_buffer)\n",
      "        9    0.000    0.000    0.002    0.000 group.py:240(_g_post_init_hook)\n",
      "        9    0.000    0.000    0.010    0.001 utils.py:121(convert_to_np_atom2)\n",
      "      3/2    0.000    0.000    0.000    0.000 base.py:124(__new__)\n",
      "       60    0.000    0.000    0.000    0.000 __init__.py:695(acquire)\n",
      "       15    0.000    0.000    0.021    0.001 __init__.py:1259(_log)\n",
      "       30    0.000    0.000    0.000    0.000 iostream.py:96(_is_master_thread)\n",
      "       30    0.000    0.000    0.000    0.000 {method 'isoformat' of 'datetime.datetime' objects}\n",
      "        9    0.000    0.000    0.000    0.000 table.py:950(_calc_nrowsinbuf)\n",
      "        1    0.000    0.000    0.001    0.001 FEParam.py:95(print_FEE)\n",
      "       30    0.000    0.000    0.000    0.000 numeric.py:2576(seterr)\n",
      "       12    0.000    0.000    0.000    0.000 {pandas.lib.infer_dtype}\n",
      "       30    0.000    0.000    0.000    0.000 __init__.py:715(format)\n",
      "      139    0.000    0.000    0.000    0.000 atom.py:502(<genexpr>)\n",
      "        9    0.000    0.000    0.009    0.001 utils.py:90(convert_to_np_atom)\n",
      "       10    0.000    0.000    0.000    0.000 common.py:1111(_possibly_infer_to_datetimelike)\n",
      "       45    0.000    0.000    0.001    0.000 atom.py:382(from_type)\n",
      "        5    0.000    0.000    0.000    0.000 description.py:579(_g_set_nested_names_descr)\n",
      "       24    0.000    0.000    0.000    0.000 arrayprint.py:628(_digits)\n",
      "       10    0.000    0.000    0.000    0.000 series.py:120(__init__)\n",
      "       36    0.000    0.000    0.000    0.000 {method 'put' of 'numpy.ndarray' objects}\n",
      "       42    0.000    0.000    0.000    0.000 {pandas.lib.values_from_object}\n",
      "        7    0.000    0.000    0.000    0.000 {posix.access}\n",
      "        5    0.000    0.000    0.000    0.000 group.py:346(_g_add_children_names)\n",
      "       24    0.000    0.000    0.000    0.000 proxydict.py:42(__setitem__)\n",
      "       23    0.000    0.000    0.000    0.000 weakref.py:277(__new__)\n",
      "      120    0.000    0.000    0.000    0.000 threading.py:64(_note)\n",
      "       30    0.000    0.000    0.000    0.000 numeric.py:2676(geterr)\n",
      "      124    0.000    0.000    0.000    0.000 {built-in method __new__ of type object at 0x107f24c18}\n",
      "        4    0.000    0.000    0.549    0.137 leaf.py:428(_g_copy)\n",
      "       30    0.000    0.000    0.000    0.000 path.py:154(split_path)\n",
      "       10    0.000    0.000    0.001    0.000 series.py:2787(_sanitize_array)\n",
      "       16    0.000    0.000    0.000    0.000 group.py:426(__contains__)\n",
      "       18    0.000    0.000    0.014    0.001 group.py:825(__getattr__)\n",
      "       20    0.000    0.000    0.003    0.000 node.py:166(_v_attrs)\n",
      "       30    0.000    0.000    0.000    0.000 hmac.py:100(_current)\n",
      "       14    0.000    0.000    0.000    0.000 leaf.py:297(_g_post_init_hook)\n",
      "       30    0.000    0.000    0.000    0.000 jsonutil.py:75(date_default)\n",
      "       18    0.000    0.000    0.000    0.000 table.py:1007(_get_type_col_names)\n",
      "      146    0.000    0.000    0.000    0.000 {method 'split' of 'str' objects}\n",
      "        5    0.000    0.000    0.002    0.000 earray.py:137(__init__)\n",
      "       42    0.000    0.000    0.000    0.000 utf_8.py:15(decode)\n",
      "        1    0.000    0.000    0.001    0.001 arrayprint.py:237(_array2string)\n",
      "       14    0.000    0.000    0.021    0.002 leaf.py:231(__init__)\n",
      "        1    0.000    0.000    0.002    0.002 frame.py:307(_init_dict)\n",
      "      215    0.000    0.000    0.000    0.000 {method 'get' of 'dict' objects}\n",
      "        6    0.000    0.000    0.001    0.000 group.py:306(_g_get_child_leaf_class)\n",
      "       15    0.000    0.000    0.001    0.000 __init__.py:1246(makeRecord)\n",
      "        2    0.000    0.000    0.005    0.003 file.py:530(close_subtree)\n",
      "      139    0.000    0.000    0.000    0.000 atom.py:136(<genexpr>)\n",
      "        7    0.000    0.000    0.003    0.000 group.py:207(__init__)\n",
      "       30    0.000    0.000    0.000    0.000 __init__.py:312(getMessage)\n",
      "        4    0.000    0.000    0.548    0.137 table.py:2942(_g_copy_with_stats)\n",
      "       12    0.000    0.000    0.000    0.000 internals.py:2482(make_block)\n",
      "       30    0.000    0.000    0.000    0.000 {locals}\n",
      "       10    0.000    0.000    0.001    0.000 generic.py:1345(_get_item_cache)\n",
      "       36    0.000    0.000    0.000    0.000 _methods.py:28(_amin)\n",
      "       27    0.000    0.000    0.000    0.000 inspect.py:67(ismethod)\n",
      "        1    0.000    0.000    0.000    0.000 {pandas.lib.clean_index_list}\n",
      "       82    0.000    0.000    0.000    0.000 atom.py:585(<genexpr>)\n",
      "        5    0.000    0.000    0.000    0.000 filters.py:245(_pack)\n",
      "       14    0.000    0.000    0.004    0.000 leaf.py:733(_f_close)\n",
      "       10    0.000    0.000    0.001    0.000 internals.py:3283(get)\n",
      "       36    0.000    0.000    0.000    0.000 {method 'max' of 'numpy.ndarray' objects}\n",
      "       10    0.000    0.000    0.001    0.000 series.py:580(__getitem__)\n",
      "        4    0.000    0.000    0.000    0.000 filters.py:161(_from_leaf)\n",
      "        5    0.000    0.000    0.002    0.000 carray.py:133(__init__)\n",
      "       27    0.000    0.000    0.000    0.000 atom.py:321(prefix)\n",
      "       20    0.000    0.000    0.000    0.000 base.py:1233(__contains__)\n",
      "       30    0.000    0.000    0.000    0.000 __init__.py:446(usesTime)\n",
      "       17    0.000    0.000    0.000    0.000 node.py:157(_g_getparent)\n",
      "       30    0.000    0.000    0.000    0.000 {method 'digest' of '_hashlib.HASH' objects}\n",
      "        1    0.000    0.000    0.002    0.002 Configure.py:10(cdf_to_dict)\n",
      "        2    0.000    0.000    0.000    0.000 weakref.py:47(__init__)\n",
      "       20    0.000    0.000    0.000    0.000 base.py:1915(get_loc)\n",
      "       25    0.000    0.000    0.000    0.000 weakref.py:199(pop)\n",
      "       10    0.000    0.000    0.001    0.000 series.py:2804(_try_cast)\n",
      "       12    0.000    0.000    0.000    0.000 internals.py:77(__init__)\n",
      "       45    0.000    0.000    0.000    0.000 __init__.py:599(filter)\n",
      "       45    0.000    0.000    0.000    0.000 threading.py:1143(currentThread)\n",
      "       23    0.000    0.000    0.000    0.000 weakref.py:282(__init__)\n",
      "       10    0.000    0.000    0.000    0.000 internals.py:3778(__init__)\n",
      "       10    0.000    0.000    0.000    0.000 numeric.py:133(_convert_scalar_indexer)\n",
      "       15    0.000    0.000    0.020    0.001 __init__.py:1280(handle)\n",
      "       10    0.000    0.000    0.001    0.000 frame.py:1973(__getitem__)\n",
      "       57    0.000    0.000    0.000    0.000 {max}\n",
      "       30    0.000    0.000    0.000    0.000 hmac.py:119(hexdigest)\n",
      "        1    0.000    0.000    0.004    0.004 parsers.py:272(_read)\n",
      "        2    0.000    0.000    0.000    0.000 internals.py:4168(_stack_arrays)\n",
      "        2    0.000    0.000    0.025    0.013 file.py:2703(close)\n",
      "        1    0.000    0.000    0.000    0.000 parsers.py:1312(read)\n",
      "        9    0.000    0.000    0.000    0.000 table.py:633(_v_wdflts)\n",
      "        9    0.000    0.000    0.000    0.000 {method '_g_close_group' of 'tables.hdf5extension.Group' objects}\n",
      "       87    0.000    0.000    0.000    0.000 {method 'endswith' of 'str' objects}\n",
      "        9    0.000    0.000    0.000    0.000 flavor.py:199(array_of_flavor)\n",
      "       15    0.000    0.000    0.000    0.000 __init__.py:148(getLevelName)\n",
      "       10    0.000    0.000    0.000    0.000 {method 'get_value' of 'pandas.index.IndexEngine' objects}\n",
      "        1    0.000    0.000    0.001    0.001 frame.py:5521(_homogenize)\n",
      "       12    0.000    0.000    0.000    0.000 internals.py:191(mgr_locs)\n",
      "        4    0.000    0.000    0.549    0.137 node.py:745(_f_copy)\n",
      "        7    0.000    0.000    0.000    0.000 leaf.py:50(calc_chunksize)\n",
      "        9    0.000    0.000    0.002    0.000 table.py:3063(_f_close)\n",
      "        8    0.000    0.000    0.000    0.000 array.py:113(_getrowsize)\n",
      "        9    0.000    0.000    0.000    0.000 table.py:1016(_get_enum_map)\n",
      "       36    0.000    0.000    0.000    0.000 _methods.py:25(_amax)\n",
      "      180    0.000    0.000    0.000    0.000 {thread.get_ident}\n",
      "       30    0.000    0.000    0.000    0.000 {method 'hexdigest' of '_hashlib.HASH' objects}\n",
      "        1    0.000    0.000    0.000    0.000 SensorsResponse.py:26(FEE_param_table)\n",
      "       30    0.000    0.000    0.000    0.000 common.py:1763(is_list_like)\n",
      "        3    0.000    0.000    0.001    0.000 earray.py:155(_g_create)\n",
      "       10    0.000    0.000    0.000    0.000 series.py:236(from_array)\n",
      "        1    0.000    0.000    0.000    0.000 {tables.utilsextension.read_f_attr}\n",
      "       24    0.000    0.000    0.000    0.000 range.py:435(__len__)\n",
      "       11    0.000    0.000    0.000    0.000 group.py:906(_g_close)\n",
      "        4    0.000    0.000    0.000    0.000 {posix.stat}\n",
      "        2    0.000    0.000    0.001    0.000 file.py:837(__get_root_group)\n",
      "      102    0.000    0.000    0.000    0.000 {method 'isupper' of 'str' objects}\n",
      "        3    0.000    0.000    0.000    0.000 common.py:1380(_asarray_tuplesafe)\n",
      "       62    0.000    0.000    0.000    0.000 {method 'extend' of 'list' objects}\n",
      "       25    0.000    0.000    0.000    0.000 node.py:849(_g_check_group)\n",
      "      100    0.000    0.000    0.000    0.000 {method 'pop' of 'list' objects}\n",
      "        9    0.000    0.000    0.000    0.000 table.py:3003(flush)\n",
      "       10    0.000    0.000    0.000    0.000 series.py:270(_set_axis)\n",
      "        2    0.000    0.000    0.000    0.000 file.py:364(__init__)\n",
      "       20    0.000    0.000    0.000    0.000 {method 'get_loc' of 'pandas.index.IndexEngine' objects}\n",
      "       23    0.000    0.000    0.000    0.000 common.py:1710(is_datetimetz)\n",
      "       30    0.000    0.000    0.000    0.000 {method 'acquire' of 'thread.lock' objects}\n",
      "        1    0.000    0.000    0.000    0.000 parsers.py:653(_get_options_with_defaults)\n",
      "        9    0.000    0.000    0.000    0.000 flavor.py:366(conv_to_numpy)\n",
      "        9    0.000    0.000    0.000    0.000 flavor.py:181(flavor_of)\n",
      "       46    0.000    0.000    0.000    0.000 table.py:895(<genexpr>)\n",
      "        4    0.000    0.000    0.000    0.000 attributeset.py:591(_g_copy)\n",
      "       11    0.000    0.000    0.000    0.000 generic.py:94(__init__)\n",
      "       10    0.000    0.000    0.000    0.000 base.py:972(_convert_scalar_indexer)\n",
      "        6    0.000    0.000    0.000    0.000 weakref.py:162(iterkeys)\n",
      "       10    0.000    0.000    0.000    0.000 internals.py:3914(get_values)\n",
      "        1    0.000    0.000    0.000    0.000 internals.py:2674(_rebuild_blknos_and_blklocs)\n",
      "       41    0.000    0.000    0.000    0.000 copy_reg.py:92(__newobj__)\n",
      "       14    0.000    0.000    0.000    0.000 {method '_g_new' of 'tables.hdf5extension.Leaf' objects}\n",
      "        6    0.000    0.000    0.000    0.000 filters.py:275(__init__)\n",
      "        9    0.000    0.000    0.000    0.000 flavor.py:355(_is_numpy)\n",
      "       30    0.000    0.000    0.000    0.000 {method 'find' of 'str' objects}\n",
      "        1    0.000    0.000    0.007    0.007 Configure.py:59(configure)\n",
      "       18    0.000    0.000    0.000    0.000 base.py:3381(_ensure_index)\n",
      "       12    0.000    0.000    0.043    0.004 leaf.py:721(flush)\n",
      "       10    0.000    0.000    0.000    0.000 internals.py:183(make_block_same_class)\n",
      "       68    0.000    0.000    0.000    0.000 table.py:3834(close)\n",
      "       21    0.000    0.000    0.000    0.000 file.py:2147(_check_writable)\n",
      "       30    0.000    0.000    0.000    0.000 {method 'close' of '_io.StringIO' objects}\n",
      "       15    0.000    0.000    0.000    0.000 posixpath.py:97(splitext)\n",
      "       10    0.000    0.000    0.000    0.000 base.py:1247(__getitem__)\n",
      "       43    0.000    0.000    0.000    0.000 {method 'update' of 'dict' objects}\n",
      "       15    0.000    0.000    0.000    0.000 numeric.py:2963(__init__)\n",
      "       15    0.000    0.000    0.000    0.000 __init__.py:70(<lambda>)\n",
      "       23    0.000    0.000    0.000    0.000 common.py:1575(is_datetime64tz_dtype)\n",
      "        9    0.000    0.000    0.000    0.000 flavor.py:378(_conv_numpy_to_numpy)\n",
      "        9    0.000    0.000    0.000    0.000 flavor.py:111(array_of_flavor2)\n",
      "      147    0.000    0.000    0.000    0.000 {posix.getpid}\n",
      "        1    0.000    0.000    0.000    0.000 arrayprint.py:458(_formatArray)\n",
      "       22    0.000    0.000    0.000    0.000 common.py:1736(is_categorical_dtype)\n",
      "       23    0.000    0.000    0.000    0.000 file.py:447(drop_from_cache)\n",
      "       57    0.000    0.000    0.000    0.000 {time.time}\n",
      "       47    0.000    0.000    0.000    0.000 leaf.py:147(<lambda>)\n",
      "        6    0.000    0.000    0.001    0.000 arrayprint.py:340(array2string)\n",
      "      5/2    0.000    0.000    0.000    0.000 utils.py:140(check_file_access)\n",
      "       21    0.000    0.000    0.000    0.000 file.py:2140(_iswritable)\n",
      "       15    0.000    0.000    0.000    0.000 posixpath.py:112(basename)\n",
      "        6    0.000    0.000    0.000    0.000 internals.py:1657(__init__)\n",
      "       15    0.000    0.000    0.000    0.000 numeric.py:2967(__enter__)\n",
      "       30    0.000    0.000    0.000    0.000 proxydict.py:25(__init__)\n",
      "        2    0.000    0.000    0.000    0.000 numeric.py:607(require)\n",
      "        2    0.000    0.000    0.000    0.000 common.py:1226(_default_index)\n",
      "       10    0.000    0.000    0.000    0.000 frame.py:2338(_box_col_values)\n",
      "        9    0.000    0.000    0.000    0.000 group.py:271(__del__)\n",
      "        5    0.000    0.000    0.001    0.000 file.py:2024(__contains__)\n",
      "       10    0.000    0.000    0.000    0.000 generic.py:2658(__getattr__)\n",
      "       45    0.000    0.000    0.000    0.000 {method 'groups' of '_sre.SRE_Match' objects}\n",
      "       30    0.000    0.000    0.000    0.000 {method 'getvalue' of '_io.StringIO' objects}\n",
      "        3    0.000    0.000    0.001    0.000 carray.py:223(_g_create_common)\n",
      "       10    0.000    0.000    0.000    0.000 internals.py:3911(internal_values)\n",
      "        4    0.000    0.000    0.002    0.001 file.py:917(create_group)\n",
      "        1    0.000    0.000    0.000    0.000 parsers.py:883(__init__)\n",
      "       45    0.000    0.000    0.000    0.000 {divmod}\n",
      "       10    0.000    0.000    0.000    0.000 series.py:302(name)\n",
      "       10    0.000    0.000    0.001    0.000 frame.py:1999(_getitem_column)\n",
      "        2    0.000    0.000    0.000    0.000 range.py:117(_simple_new)\n",
      "       21    0.000    0.000    0.000    0.000 table.py:616(<lambda>)\n",
      "        3    0.000    0.000    0.001    0.000 arrayprint.py:529(__init__)\n",
      "       27    0.000    0.000    0.000    0.000 inspect.py:142(isfunction)\n",
      "       30    0.000    0.000    0.000    0.000 {method 'count' of 'list' objects}\n",
      "       30    0.000    0.000    0.000    0.000 {numpy.core.umath.seterrobj}\n",
      "        1    0.000    0.000    0.000    0.000 getopt.py:51(getopt)\n",
      "       32    0.000    0.000    0.000    0.000 {method 'upper' of 'str' objects}\n",
      "        2    0.000    0.000    0.004    0.002 file.py:222(open_file)\n",
      "        2    0.000    0.000    0.000    0.000 parsers.py:1016(_maybe_make_multi_index_columns)\n",
      "        4    0.000    0.000    0.000    0.000 {print}\n",
      "      122    0.000    0.000    0.000    0.000 {method 'pop' of 'dict' objects}\n",
      "        1    0.000    0.000    0.000    0.000 {eval}\n",
      "       10    0.000    0.000    0.000    0.000 series.py:306(name)\n",
      "       30    0.000    0.000    0.000    0.000 threading.py:974(ident)\n",
      "       16    0.000    0.000    0.000    0.000 {method 'view' of 'numpy.ndarray' objects}\n",
      "       36    0.000    0.000    0.000    0.000 FEParam.py:62(spe_i_to_adc)\n",
      "        1    0.000    0.000    0.000    0.000 arrayprint.py:635(__init__)\n",
      "       53    0.000    0.000    0.000    0.000 {method '__contains__' of 'frozenset' objects}\n",
      "       10    0.000    0.000    0.000    0.000 internals.py:3884(dtype)\n",
      "       12    0.000    0.000    0.000    0.000 arrayprint.py:450(_extendLine)\n",
      "       15    0.000    0.000    0.000    0.000 numeric.py:2972(__exit__)\n",
      "       10    0.000    0.000    0.000    0.000 internals.py:301(iget)\n",
      "       16    0.000    0.000    0.000    0.000 common.py:1731(is_categorical)\n",
      "       15    0.000    0.000    0.000    0.000 threading.py:958(name)\n",
      "       30    0.000    0.000    0.000    0.000 {method 'release' of 'thread.lock' objects}\n",
      "       10    0.000    0.000    0.000    0.000 common.py:1717(is_extension_type)\n",
      "        1    0.000    0.000    0.000    0.000 range.py:150(_data)\n",
      "       20    0.000    0.000    0.000    0.000 common.py:1846(_apply_if_callable)\n",
      "        1    0.000    0.000    0.000    0.000 internals.py:4136(_multi_blockify)\n",
      "        7    0.000    0.000    0.000    0.000 leaf.py:30(csformula)\n",
      "       48    0.000    0.000    0.000    0.000 file.py:2128(_check_open)\n",
      "       15    0.000    0.000    0.000    0.000 {sys._getframe}\n",
      "       27    0.000    0.000    0.000    0.000 inspect.py:209(iscode)\n",
      "       15    0.000    0.000    0.000    0.000 genericpath.py:93(_splitext)\n",
      "        6    0.000    0.000    0.000    0.000 base.py:440(values)\n",
      "       14    0.000    0.000    0.000    0.000 {math.log10}\n",
      "       78    0.000    0.000    0.000    0.000 {method 'group' of '_sre.SRE_Match' objects}\n",
      "        4    0.000    0.000    0.000    0.000 table.py:115(_index_pathname_of)\n",
      "        9    0.000    0.000    0.000    0.000 utils.py:393(__init__)\n",
      "        5    0.000    0.000    0.000    0.000 leaf.py:360(_calc_nrowsinbuf)\n",
      "        4    0.000    0.000    0.000    0.000 _weakrefset.py:26(__exit__)\n",
      "       10    0.000    0.000    0.000    0.000 common.py:94(_isnull_new)\n",
      "        3    0.000    0.000    0.000    0.000 group.py:288(_g_get_child_group_class)\n",
      "        1    0.000    0.000    0.000    0.000 internals.py:2578(__init__)\n",
      "       60    0.000    0.000    0.000    0.000 {numpy.core.umath.geterrobj}\n",
      "        1    0.000    0.000    0.001    0.001 parsers.py:603(__init__)\n",
      "        4    0.000    0.000    0.549    0.137 table.py:2971(copy)\n",
      "        3    0.000    0.000    0.001    0.000 file.py:1256(create_earray)\n",
      "        1    0.000    0.000    0.002    0.002 frame.py:210(__init__)\n",
      "        1    0.000    0.000    0.000    0.000 parsers.py:683(_clean_options)\n",
      "        2    0.000    0.000    0.000    0.000 urlparse.py:137(urlparse)\n",
      "       61    0.000    0.000    0.000    0.000 {method 'rstrip' of 'str' objects}\n",
      "       10    0.000    0.000    0.000    0.000 internals.py:4171(_asarray_compat)\n",
      "        1    0.000    0.000    0.003    0.003 parsers.py:810(read)\n",
      "       32    0.000    0.000    0.000    0.000 {method 'copy' of 'dict' objects}\n",
      "        2    0.000    0.000    0.000    0.000 range.py:42(__new__)\n",
      "       20    0.000    0.000    0.000    0.000 atom.py:604(<lambda>)\n",
      "        4    0.000    0.000    0.541    0.135 table.py:2876(_g_copy_rows)\n",
      "       36    0.000    0.000    0.000    0.000 {method 'remove' of 'list' objects}\n",
      "        1    0.000    0.000    0.000    0.000 {pandas.lib.list_to_object_array}\n",
      "        1    0.000    0.000    0.000    0.000 common.py:272(array_equivalent)\n",
      "       36    0.000    0.000    0.000    0.000 FEParam.py:59(spe_i_to_v)\n",
      "        1    0.000    0.000    0.001    0.001 parsers.py:797(_make_engine)\n",
      "        3    0.000    0.000    0.000    0.000 internals.py:2619(shape)\n",
      "        5    0.000    0.000    0.000    0.000 description.py:608(get_cols_in_order)\n",
      "       10    0.000    0.000    0.000    0.000 series.py:313(dtype)\n",
      "        4    0.000    0.000    0.000    0.000 node.py:873(_g_maybe_remove)\n",
      "       10    0.000    0.000    0.000    0.000 common.py:986(_possibly_castable)\n",
      "        2    0.000    0.000    0.000    0.000 genericpath.py:34(isfile)\n",
      "        3    0.000    0.000    0.000    0.000 common.py:1511(_get_dtype_type)\n",
      "        4    0.000    0.000    0.000    0.000 leaf.py:174(filters)\n",
      "        9    0.000    0.000    0.000    0.000 table.py:1001(_get_container)\n",
      "        2    0.000    0.000    0.000    0.000 file.py:108(add)\n",
      "       11    0.000    0.000    0.000    0.000 frame.py:321(<genexpr>)\n",
      "        2    0.000    0.000    0.000    0.000 base.py:309(_simple_new)\n",
      "        1    0.000    0.000    0.004    0.004 file.py:956(create_table)\n",
      "       10    0.000    0.000    0.000    0.000 base.py:2795(_maybe_cast_indexer)\n",
      "       13    0.000    0.000    0.000    0.000 {min}\n",
      "       20    0.000    0.000    0.000    0.000 common.py:1705(is_sparse)\n",
      "       20    0.000    0.000    0.000    0.000 leaf.py:358(<genexpr>)\n",
      "        1    0.000    0.000    0.000    0.000 internals.py:2799(_verify_integrity)\n",
      "        1    0.000    0.000    0.000    0.000 arrayprint.py:696(__init__)\n",
      "        2    0.000    0.000    0.000    0.000 file.py:559(shutdown)\n",
      "        9    0.000    0.000    0.000    0.000 {method '_g_new' of 'tables.hdf5extension.Node' objects}\n",
      "       32    0.000    0.000    0.000    0.000 {pandas.lib.isscalar}\n",
      "        1    0.000    0.000    0.001    0.001 internals.py:3996(create_block_manager_from_arrays)\n",
      "       23    0.000    0.000    0.000    0.000 node.py:293(__del__)\n",
      "       10    0.000    0.000    0.000    0.000 series.py:292(_set_subtyp)\n",
      "       12    0.000    0.000    0.000    0.000 path.py:179(isvisiblename)\n",
      "       18    0.000    0.000    0.000    0.000 {method 'count' of 'str' objects}\n",
      "       30    0.000    0.000    0.000    0.000 internals.py:3824(_block)\n",
      "       41    0.000    0.000    0.000    0.000 description.py:612(join_paths)\n",
      "        6    0.000    0.000    0.001    0.000 numeric.py:1835(array_str)\n",
      "        1    0.000    0.000    0.000    0.000 parsers.py:860(_validate_parse_dates_arg)\n",
      "       16    0.000    0.000    0.000    0.000 file.py:2167(is_undo_enabled)\n",
      "        4    0.000    0.000    0.000    0.000 leaf.py:408(_process_range_read)\n",
      "       20    0.000    0.000    0.000    0.000 {method '_g_new' of 'tables.hdf5extension.AttributeSet' objects}\n",
      "        3    0.000    0.000    0.000    0.000 getopt.py:187(do_shorts)\n",
      "        2    0.000    0.000    0.000    0.000 base.py:1186(__iter__)\n",
      "       10    0.000    0.000    0.000    0.000 internals.py:144(to_dense)\n",
      "       15    0.000    0.000    0.000    0.000 process.py:59(current_process)\n",
      "        2    0.000    0.000    0.000    0.000 <string>:8(__new__)\n",
      "       12    0.000    0.000    0.000    0.000 {method 'insert' of 'list' objects}\n",
      "        2    0.000    0.000    0.000    0.000 array.py:233(_g_open)\n",
      "        1    0.000    0.000    0.002    0.002 frame.py:5224(_arrays_to_mgr)\n",
      "        2    0.000    0.000    0.000    0.000 file.py:112(remove)\n",
      "        2    0.000    0.000    0.005    0.003 group.py:917(_f_close)\n",
      "        5    0.000    0.000    0.000    0.000 {method '_flush_buffered_rows' of 'tables.tableextension.Row' objects}\n",
      "       21    0.000    0.000    0.000    0.000 internals.py:2695(_get_items)\n",
      "        6    0.000    0.000    0.000    0.000 base.py:409(__len__)\n",
      "       30    0.000    0.000    0.000    0.000 hmac.py:30(__init__)\n",
      "        1    0.000    0.000    0.000    0.000 arrayprint.py:685(__init__)\n",
      "       16    0.000    0.000    0.000    0.000 internals.py:160(mgr_locs)\n",
      "       10    0.000    0.000    0.000    0.000 {pandas.lib.checknull}\n",
      "       15    0.000    0.000    0.000    0.000 leaf.py:188(_getmaindim)\n",
      "       10    0.000    0.000    0.000    0.000 common.py:1788(is_hashable)\n",
      "        2    0.000    0.000    0.000    0.000 file.py:120(get_handlers_by_name)\n",
      "       15    0.000    0.000    0.000    0.000 process.py:161(name)\n",
      "        3    0.000    0.000    0.000    0.000 getopt.py:202(short_has_arg)\n",
      "       30    0.000    0.000    0.000    0.000 {hash}\n",
      "        4    0.000    0.000    0.549    0.137 leaf.py:605(copy)\n",
      "        7    0.000    0.000    0.000    0.000 __init__.py:157(iteritems)\n",
      "       10    0.000    0.000    0.000    0.000 series.py:366(_values)\n",
      "        2    0.000    0.000    0.000    0.000 UserDict.py:4(__init__)\n",
      "        9    0.000    0.000    0.000    0.000 file.py:177(_checkfilters)\n",
      "        4    0.000    0.000    0.000    0.000 dtypes.py:122(construct_from_string)\n",
      "        2    0.000    0.000    0.000    0.000 internals.py:276(ftype)\n",
      "       20    0.000    0.000    0.000    0.000 {method 'iteritems' of 'dict' objects}\n",
      "       10    0.000    0.000    0.000    0.000 series.py:371(get_values)\n",
      "       12    0.000    0.000    0.000    0.000 file.py:878(_get_or_create_path)\n",
      "       12    0.000    0.000    0.000    0.000 internals.py:272(dtype)\n",
      "        4    0.000    0.000    0.000    0.000 numeric.py:676(<genexpr>)\n",
      "       30    0.000    0.000    0.000    0.000 py3compat.py:12(no_code)\n",
      "       20    0.000    0.000    0.000    0.000 attributeset.py:651(_g_close)\n",
      "        2    0.000    0.000    0.000    0.000 base.py:1146(<lambda>)\n",
      "        1    0.000    0.000    0.000    0.000 parsers.py:2293(_process_date_conversion)\n",
      "        4    0.000    0.000    0.000    0.000 base.py:403(_reset_identity)\n",
      "        2    0.000    0.000    0.005    0.003 group.py:898(_g_close_descendents)\n",
      "       12    0.000    0.000    0.000    0.000 node.py:883(_g_check_name)\n",
      "        1    0.000    0.000    0.000    0.000 internals.py:3004(_consolidate_check)\n",
      "       11    0.000    0.000    0.000    0.000 parsers.py:1384(<genexpr>)\n",
      "        1    0.000    0.000    0.000    0.000 common.py:290(get_filepath_or_buffer)\n",
      "        1    0.000    0.000    0.000    0.000 base.py:1507(equals)\n",
      "        1    0.000    0.000    0.000    0.000 common.py:245(_expand_user)\n",
      "        5    0.000    0.000    0.000    0.000 utils.py:40(correct_byteorder)\n",
      "        4    0.000    0.000    0.000    0.000 _weakrefset.py:20(__enter__)\n",
      "        2    0.000    0.000    0.000    0.000 common.py:1696(is_bool_dtype)\n",
      "        7    0.000    0.000    0.000    0.000 leaf.py:40(limit_es)\n",
      "        4    0.000    0.000    0.000    0.000 range.py:58(_ensure_int)\n",
      "        1    0.000    0.000    0.000    0.000 {pandas.lib.array_equivalent_object}\n",
      "        4    0.000    0.000    0.000    0.000 attributeset.py:265(_f_list)\n",
      "       15    0.000    0.000    0.000    0.000 posixpath.py:44(normcase)\n",
      "        4    0.000    0.000    0.000    0.000 table.py:627(_v_iobuf)\n",
      "        4    0.000    0.000    0.000    0.000 table.py:109(_index_name_of)\n",
      "        1    0.000    0.000    0.000    0.000 {tables.utilsextension.which_lib_version}\n",
      "        1    0.000    0.000    0.000    0.000 __init__.py:177(_checkLevel)\n",
      "        1    0.000    0.000    0.000    0.000 arrayprint.py:713(__init__)\n",
      "        1    0.000    0.000    0.000    0.000 table.py:2240(_save_buffered_rows)\n",
      "       12    0.000    0.000    0.000    0.000 carray.py:192(<genexpr>)\n",
      "        1    0.000    0.000    0.000    0.000 parsers.py:1182(_do_date_conversions)\n",
      "        2    0.000    0.000    0.025    0.013 file.py:2760(__exit__)\n",
      "        1    0.000    0.000    0.000    0.000 common.py:186(_is_url)\n",
      "        2    0.000    0.000    0.000    0.000 base.py:1143(_engine)\n",
      "        3    0.000    0.000    0.000    0.000 group.py:180(_g_getfilters)\n",
      "        3    0.000    0.000    0.000    0.000 arrayprint.py:657(__init__)\n",
      "        1    0.000    0.000    0.000    0.000 parsers.py:1024(_make_index)\n",
      "       11    0.000    0.000    0.000    0.000 atom.py:480(<lambda>)\n",
      "        8    0.000    0.000    0.000    0.000 {method 'add' of 'set' objects}\n",
      "        8    0.000    0.000    0.000    0.000 table.py:612(<lambda>)\n",
      "        1    0.000    0.000    0.000    0.000 {method 'append' of 'tables.tableextension.Row' objects}\n",
      "       10    0.000    0.000    0.000    0.000 internals.py:129(internal_values)\n",
      "        2    0.000    0.000    0.000    0.000 urlparse.py:168(urlsplit)\n",
      "       10    0.000    0.000    0.000    0.000 common.py:73(isnull)\n",
      "        4    0.000    0.000    0.000    0.000 _weakrefset.py:16(__init__)\n",
      "        2    0.000    0.000    0.000    0.000 stat.py:49(S_ISREG)\n",
      "        8    0.000    0.000    0.000    0.000 {method 'index' of 'list' objects}\n",
      "        1    0.000    0.000    0.000    0.000 {sorted}\n",
      "        2    0.000    0.000    0.000    0.000 genericpath.py:23(exists)\n",
      "        1    0.000    0.000    0.000    0.000 internals.py:4122(_simple_blockify)\n",
      "       41    0.000    0.000    0.000    0.000 {id}\n",
      "       20    0.000    0.000    0.000    0.000 {callable}\n",
      "        4    0.000    0.000    0.000    0.000 node.py:180(_g_gettitle)\n",
      "        5    0.000    0.000    0.000    0.000 {method '_open_append' of 'tables.tableextension.Table' objects}\n",
      "        5    0.000    0.000    0.000    0.000 internals.py:4140(<lambda>)\n",
      "       14    0.000    0.000    0.000    0.000 node.py:463(_g_post_init_hook)\n",
      "        9    0.000    0.000    0.000    0.000 internals.py:2621(<genexpr>)\n",
      "        1    0.000    0.000    0.000    0.000 parsers.py:1280(_set_noconvert_columns)\n",
      "        8    0.000    0.000    0.000    0.000 table.py:870(<genexpr>)\n",
      "        1    0.000    0.000    0.000    0.000 generic.py:813(keys)\n",
      "        9    0.000    0.000    0.000    0.000 {method 'itervalues' of 'dict' objects}\n",
      "        2    0.000    0.000    0.000    0.000 stat.py:24(S_IFMT)\n",
      "        2    0.000    0.000    0.000    0.000 base.py:445(get_values)\n",
      "        1    0.000    0.000    0.000    0.000 base.py:938(is_unique)\n",
      "        1    0.000    0.000    0.000    0.000 parsers.py:2376(_clean_na_values)\n",
      "        1    0.000    0.000    0.000    0.000 __init__.py:1131(setLevel)\n",
      "        1    0.000    0.000    0.000    0.000 {method 'items' of 'dict' objects}\n",
      "       10    0.000    0.000    0.000    0.000 numeric.py:126(is_all_dates)\n",
      "        4    0.000    0.000    0.000    0.000 UserDict.py:34(__len__)\n",
      "        8    0.000    0.000    0.000    0.000 {method 'remove' of 'set' objects}\n",
      "        2    0.000    0.000    0.000    0.000 internals.py:4177(_shape_compat)\n",
      "        1    0.000    0.000    0.000    0.000 parsers.py:941(_has_complex_date_col)\n",
      "        2    0.000    0.000    0.000    0.000 utils.py:61(set_vml_num_threads)\n",
      "        2    0.000    0.000    0.000    0.000 {method 'fill' of 'numpy.ndarray' objects}\n",
      "        1    0.000    0.000    0.000    0.000 common.py:1745(is_object_dtype)\n",
      "        5    0.000    0.000    0.000    0.000 {method 'item' of 'numpy.ndarray' objects}\n",
      "        1    0.000    0.000    0.000    0.000 common.py:204(_is_s3_url)\n",
      "        1    0.000    0.000    0.000    0.000 common.py:263(_validate_header_arg)\n",
      "       20    0.000    0.000    0.000    0.000 {pandas.lib.is_float}\n",
      "        1    0.000    0.000    0.000    0.000 base.py:383(is_)\n",
      "        1    0.000    0.000    0.000    0.000 arrayprint.py:734(__init__)\n",
      "        3    0.000    0.000    0.000    0.000 internals.py:2801(<genexpr>)\n",
      "        3    0.000    0.000    0.000    0.000 parsers.py:839(_is_index_col)\n",
      "        1    0.000    0.000    0.000    0.000 parsers.py:843(_validate_usecols_arg)\n",
      "        2    0.000    0.000    0.000    0.000 range.py:139(_validate_dtype)\n",
      "        1    0.000    0.000    0.000    0.000 parsers.py:2255(_make_date_converter)\n",
      "        1    0.000    0.000    0.000    0.000 generic.py:381(_info_axis)\n",
      "        2    0.000    0.000    0.000    0.000 {pandas.algos.ensure_object}\n",
      "        1    0.000    0.000    0.000    0.000 FEParam.py:71(f_HPF)\n",
      "        1    0.000    0.000    0.000    0.000 FEParam.py:74(f_LPF)\n",
      "        2    0.000    0.000    0.000    0.000 {all}\n",
      "        2    0.000    0.000    0.000    0.000 internals.py:264(shape)\n",
      "        1    0.000    0.000    0.000    0.000 FEParam.py:86(W_LPF_fine)\n",
      "        1    0.000    0.000    0.000    0.000 FEParam.py:77(W_HPF_fine)\n",
      "        2    0.000    0.000    0.000    0.000 {method 'values' of 'dict' objects}\n",
      "        2    0.000    0.000    0.000    0.000 {method '_get_file_id' of 'tables.hdf5extension.File' objects}\n",
      "        1    0.000    0.000    0.000    0.000 common.py:271(_stringify_path)\n",
      "        1    0.000    0.000    0.000    0.000 {sum}\n",
      "        4    0.000    0.000    0.000    0.000 weakref.py:68(_commit_removals)\n",
      "        1    0.000    0.000    0.000    0.000 FEParam.py:49(pmt_gain)\n",
      "        1    0.000    0.000    0.000    0.000 internals.py:2996(is_consolidated)\n",
      "        1    0.000    0.000    0.000    0.000 FEParam.py:52(sampling_time)\n",
      "        1    0.000    0.000    0.000    0.000 {_functools.reduce}\n",
      "        1    0.000    0.000    0.000    0.000 internals.py:3276(_consolidate_inplace)\n",
      "        2    0.000    0.000    0.000    0.000 internals.py:2623(ndim)\n",
      "        1    0.000    0.000    0.000    0.000 FEParam.py:89(W_LPF_daq)\n",
      "        1    0.000    0.000    0.000    0.000 FEParam.py:55(sampling_DAQ)\n",
      "        4    0.000    0.000    0.000    0.000 {method 'iterkeys' of 'dict' objects}\n",
      "        1    0.000    0.000    0.000    0.000 parsers.py:829(_create_index)\n",
      "        2    0.000    0.000    0.000    0.000 {pandas.lib.is_integer}\n",
      "        1    0.000    0.000    0.000    0.000 FEParam.py:80(W_HPF_daq)\n",
      "        2    0.000    0.000    0.000    0.000 file.py:2755(__enter__)\n",
      "        1    0.000    0.000    0.000    0.000 posixpath.py:251(expanduser)\n",
      "        2    0.000    0.000    0.000    0.000 {iter}\n",
      "        1    0.000    0.000    0.000    0.000 FEParam.py:68(decoupling_resitor)\n",
      "        1    0.000    0.000    0.000    0.000 {pandas.lib.is_bool}\n",
      "        1    0.000    0.000    0.000    0.000 FEParam.py:65(decoupling_capacitor)\n",
      "        1    0.000    0.000    0.000    0.000 {method 'disable' of '_lsprof.Profiler' objects}\n",
      "\n",
      "\n"
     ]
    }
   ],
   "source": [
    "cProfile.run(\"DIOMIRA(['DIOMIRA','-i','-d','INFO','-c','../../Config/DIOMIRA_NA_ZLIB_test2.csv'])\", sort='time')"
   ]
  },
  {
   "cell_type": "markdown",
   "metadata": {},
   "source": [
    "*Profiling shows that rebin_array is one of the main issues. Start cythonizing it"
   ]
  },
  {
   "cell_type": "code",
   "execution_count": 95,
   "metadata": {
    "collapsed": false
   },
   "outputs": [],
   "source": [
    "def FEE_param_table(fee_table):\n",
    "    \"\"\"\n",
    "    Stores the parameters of the EP FEE simulation \n",
    "    \"\"\"\n",
    "    \n",
    "    print(\"calling the cython version\")\n",
    "    \n",
    "    row = fee_table.row\n",
    "    row['offset'] = FP.offset\n",
    "    row['pmt_gain'] = FP.PMT_GAIN\n",
    "    row['V_gain'] = FP.V_GAIN\n",
    "    row['R'] = FP.R\n",
    "    row['C12'] = FP.C12\n",
    "    row['CO12'] = FP.C12 # to be rewritten by ISIDORA\n",
    "    row['time_step'] = FP.time_step\n",
    "    row['time_daq'] = FP.time_DAQ\n",
    "    row['freq_LPF'] = FP.freq_LPF\n",
    "    row['freq_HPF'] = 1./(2*pi*FP.R*FP.C)\n",
    "    row['LSB'] = FP.LSB\n",
    "    row['volts_to_adc'] = FP.voltsToAdc/volt\n",
    "    row['noise_fee_rms'] = FP.NOISE_FEE\n",
    "    row['noise_adc'] = FP.NOISE_ADC\n",
    "    \n",
    "    row.append()\n",
    "def DIOMIRA_cy(argv):\n",
    "    DEBUG_LEVEL, INFO, CFP = configure(argv[0],argv[1:])\n",
    "   \n",
    "    if INFO:\n",
    "        print(diomira)\n",
    "\n",
    "    #wait()\n",
    "    \n",
    "    print(\"\"\"\n",
    "        DIOMIRA:\n",
    "         1. Reads an MCRD file produced by art/centella, which stores MCRD \n",
    "         waveforms for PMTs (bins of 1 ns)\n",
    "        and the SiPMs (bins of 1 mus)\n",
    "            \n",
    "\n",
    "        2. Simulates the response of the energy plane in the PMTs MCRD, \n",
    "        and produces both RWF and TWF:\n",
    "        see: http://localhost:8931/notebooks/Nh5-Event-Model.ipynb#Reconstructed-Objects\n",
    "        \n",
    "            \n",
    "        3. Simulates the response of the tracking plane in the SiPMs MCRD and outputs\n",
    "            SiPM RWF (not yet implemented, for the time being simply copy the MCRD)\n",
    "\n",
    "        4. Add a table describing the FEE parameters used for simulation\n",
    "\n",
    "        5. Copies the tables on geometry, detector data and MC\n",
    "\n",
    "\n",
    "        \"\"\")\n",
    "    FP.print_FEE()\n",
    "    #wait()\n",
    "\n",
    "    PATH_IN =CFP['PATH_IN']\n",
    "    PATH_OUT =CFP['PATH_OUT']\n",
    "    FILE_IN =CFP['FILE_IN']\n",
    "    FILE_OUT =CFP['FILE_OUT']\n",
    "    FIRST_EVT =CFP['FIRST_EVT']\n",
    "    LAST_EVT =CFP['LAST_EVT']\n",
    "    RUN_ALL =CFP['RUN_ALL']\n",
    "    CLIB =CFP['CLIB']\n",
    "    CLEVEL =CFP['CLEVEL']\n",
    "    NEVENTS = LAST_EVT - FIRST_EVT\n",
    "\n",
    "    print('Debug level = {}'.format(DEBUG_LEVEL))\n",
    "\n",
    "    logger.info(\"input path ={}; output path = {}; file_in ={} file_out ={}\".format(\n",
    "        PATH_IN,PATH_OUT,FILE_IN, FILE_OUT))\n",
    "\n",
    "    logger.info(\"first event = {} last event = {} nof events requested = {} \".format(\n",
    "        FIRST_EVT,LAST_EVT,NEVENTS))\n",
    "\n",
    "    logger.info(\"Compression library = {} Compression level = {} \".format(\n",
    "        CLIB,CLEVEL))\n",
    "\n",
    "    # open the input file \n",
    "    with tables.open_file(\"{}/{}\".format(PATH_IN,FILE_IN), \"r+\") as h5in: \n",
    "        # access the PMT raw data in file \n",
    "\n",
    "        pmtrd_ = h5in.root.pmtrd\n",
    "        sipmrd_ = h5in.root.sipmrd\n",
    "\n",
    "        #pmtrd_.shape = (nof_events, nof_sensors, wf_length)\n",
    "        NPMT = pmtrd_.shape[1]\n",
    "        NSIPM = sipmrd_.shape[1]\n",
    "        PMTWL = pmtrd_.shape[2] \n",
    "        PMTWL_FEE = int((PMTWL+1)/FP.time_DAQ)\n",
    "        SIPMWL = sipmrd_.shape[2]\n",
    "        NEVENTS_DST = pmtrd_.shape[0]\n",
    "\n",
    "        logger.info(\"nof PMTs = {} nof  SiPMs = {} nof events in input DST = {} \".format(\n",
    "        NPMT,NSIPM,NEVENTS_DST))\n",
    "\n",
    "        logger.info(\"lof SiPM WF = {} lof PMT WF (MC) = {} lof PMT WF (FEE) = {}\".format(\n",
    "        PMTWL,SIPMWL,PMTWL_FEE))\n",
    "\n",
    "        #wait()\n",
    "\n",
    "        #access the geometry and the sensors metadata info\n",
    "\n",
    "        geom_t = h5in.root.Detector.DetectorGeometry\n",
    "        pmt_t = h5in.root.Sensors.DataPMT\n",
    "        sipm_t = h5in.root.Sensors.DataSiPM\n",
    "        mctrk_t = h5in.root.MC.MCTracks\n",
    "\n",
    "        \n",
    "        # open the output file \n",
    "        with tables.open_file(\"{}/{}\".format(PATH_OUT,FILE_OUT), \"w\",\n",
    "            filters=tables.Filters(complib=CLIB, complevel=CLEVEL)) as h5out:\n",
    " \n",
    "            # create a group to store MC data\n",
    "            mcgroup = h5out.create_group(h5out.root, \"MC\")\n",
    "            # copy the mctrk table\n",
    "            mctrk_t.copy(newparent=mcgroup)\n",
    "\n",
    "            # create a group  to store geom data\n",
    "            detgroup = h5out.create_group(h5out.root, \"Detector\")\n",
    "            # copy the geom table\n",
    "            geom_t.copy(newparent=detgroup)\n",
    "\n",
    "            # create a group  store sensor data\n",
    "            sgroup = h5out.create_group(h5out.root, \"Sensors\")\n",
    "            # copy the pmt table\n",
    "            pmt_t.copy(newparent=sgroup)\n",
    "            # copy the sipm table\n",
    "            sipm_t.copy(newparent=sgroup)\n",
    "\n",
    "            # create a table to store Energy plane FEE data and hang it from MC group\n",
    "            fee_table = h5out.create_table(mcgroup, \"FEE\", FEE,\n",
    "                          \"EP-FEE parameters\",\n",
    "                           tables.Filters(0))\n",
    "\n",
    "            # fill table\n",
    "            FEE_param_table(fee_table)\n",
    "\n",
    "            # create a group to store RawData\n",
    "            rgroup = h5out.create_group(h5out.root, \"RD\")\n",
    "            \n",
    "            # create an extensible array to store the RWF waveforms\n",
    "            pmtrwf = h5out.create_earray(h5out.root.RD, \"pmtrwf\", \n",
    "                                    atom=tables.Float32Atom(), \n",
    "                                    shape=(0, NPMT, PMTWL_FEE), \n",
    "                                    expectedrows=NEVENTS_DST)\n",
    "            \n",
    "            # create an extensible array to store the TWF waveforms\n",
    "            pmttwf = h5out.create_earray(h5out.root.RD, \"pmttwf\", \n",
    "                                    atom=tables.Float32Atom(), \n",
    "                                    shape=(0, NPMT, PMTWL_FEE), \n",
    "                                    expectedrows=NEVENTS_DST)\n",
    "            \n",
    "\n",
    "            sipmrwf = h5out.create_earray(h5out.root.RD, \"sipmrwf\", \n",
    "                                    atom=tables.Float32Atom(), \n",
    "                                    shape=(0, NSIPM, SIPMWL), \n",
    "                                    expectedrows=NEVENTS_DST)\n",
    "\n",
    "            \n",
    "            if NEVENTS > NEVENTS_DST and RUN_ALL == False:\n",
    "                print(\"\"\"\n",
    "                Refusing to run: you have requested\n",
    "                FIRST_EVT = {}\n",
    "                LAST_EVT  = {}\n",
    "                Thus you want to run over {} events\n",
    "                but the size of the DST is {} events.\n",
    "                Please change your choice or select RUN_ALL = TRUE\n",
    "                to run over the whole DST when this happens\n",
    "                \"\"\".format(FIRST_EVT,LAST_EVT,NEVENTS,NEVENTS_DST))\n",
    "                sys.exit(0)\n",
    "            elif  NEVENTS > NEVENTS_DST and RUN_ALL == True:\n",
    "                FIRST_EVT = 0\n",
    "                LAST_EVT = NEVENTS_DST\n",
    "                NEVENTS = NEVENTS_DST\n",
    "\n",
    "\n",
    "            for i in range(FIRST_EVT,LAST_EVT):\n",
    "                logger.info(\"-->event number ={}\".format(i))\n",
    "                \n",
    "                \n",
    "                logger.info(\"-->calling simulate_pmt_response_cy\")\n",
    "                #simulate PMT response and return an array with RWF\n",
    "                dataPMT = simulate_pmt_response_cy(i,pmtrd_)\n",
    "\n",
    "                #convert to float\n",
    "                dataPMT.astype(float) \n",
    "                #TWF\n",
    "                logger.info(\"-->calling rebin_signal_cy\")\n",
    "                truePMT = rebin_signal_cy(i,pmtrd_, int(FP.time_DAQ))\n",
    "                truePMT.astype(float)\n",
    "                \n",
    "                logger.info(\"truePMT shape ={}\".format(truePMT.shape))\n",
    "                logger.info(\"dataPMT shape ={}\".format(dataPMT.shape))\n",
    "                \n",
    "                #RWF for pmts\n",
    "                pmtrwf.append(dataPMT.reshape(1, NPMT, PMTWL_FEE))\n",
    "                \n",
    "                \n",
    "                #TWF for pmts\n",
    "                pmttwf.append(truePMT.reshape(1, NPMT, PMTWL_FEE))\n",
    "                \n",
    "                   \n",
    "                #simulate SiPM response and return an array with new WF\n",
    "                dataSiPM = simulate_sipm_response_cy(i,sipmrd_)\n",
    "                dataSiPM.astype(float)\n",
    "                \n",
    "                #append to SiPM EARRAY\n",
    "                sipmrwf.append(dataSiPM.reshape(1, NSIPM, SIPMWL))\n",
    "\n",
    "\n",
    "            pmtrwf.flush()\n",
    "            pmttwf.flush()\n",
    "            sipmrwf.flush()\n",
    "\n",
    "\n",
    "    print(\"Leaving Diomira. Safe travels!\")\n",
    "\n",
    "\n",
    "\n",
    "\n",
    "\n"
   ]
  },
  {
   "cell_type": "code",
   "execution_count": 85,
   "metadata": {
    "collapsed": false
   },
   "outputs": [
    {
     "data": {
      "text/plain": [
       "<function __main__.DIOMIRA_cy>"
      ]
     },
     "execution_count": 85,
     "metadata": {},
     "output_type": "execute_result"
    }
   ],
   "source": [
    "DIOMIRA_cy"
   ]
  },
  {
   "cell_type": "code",
   "execution_count": null,
   "metadata": {
    "collapsed": true
   },
   "outputs": [],
   "source": []
  },
  {
   "cell_type": "code",
   "execution_count": 99,
   "metadata": {
    "collapsed": false
   },
   "outputs": [],
   "source": [
    "%%cython\n",
    "\n",
    "from Util import *\n",
    "from LogConfig import *\n",
    "import FEParam as FP\n",
    "import SPE as SP\n",
    "import FEE2 as FE\n",
    "\n",
    "import numpy as np\n",
    "cimport numpy as np\n",
    "from cython cimport boundscheck, wraparound\n",
    "\n",
    "cpdef np.ndarray rebin_array_cy3(np.ndarray[int,ndim=1] a, int stride):\n",
    "    \"\"\"\n",
    "    rebins array a according to stride\n",
    "    \"\"\"\n",
    "    \n",
    "    logger.info(\"-->rebin_array_cy3\")\n",
    "    cdef int lenb = (len(a)+1)/int(stride)\n",
    "    b = np.zeros(lenb, dtype=np.int)\n",
    "    #cdef np.ndarray[int, ndim=1] b = np.empty(lenb, dtype=np.int32)\n",
    "    cdef int j=0\n",
    "    cdef int i,k\n",
    "    cdef int part_sum\n",
    "    with boundscheck(False), wraparound(False):\n",
    "        for i in range(lenb):\n",
    "            part_sum = 0\n",
    "            for k in range(j, j + stride): \n",
    "                part_sum += a[k] \n",
    "                b[i] = part_sum\n",
    "            j+= stride\n",
    "            \n",
    "    return b\n",
    "\n",
    "cpdef np.ndarray rebin_signal_cy3(int event_number,pmtrd_):\n",
    "    \"\"\"\n",
    "    rebins the MCRD signal to produce TWF (pes, bins 25 ns)\n",
    "    \"\"\"\n",
    "\n",
    "    cdef list rdata = []\n",
    "    \n",
    "    #cdef np.ndarray[int,ndim=1] pmt\n",
    "    #cdef np.ndarray[int,ndim=1] twf\n",
    "    cdef int j\n",
    "    \n",
    "    logger.info(\"-->rebin_signal_cy3\")\n",
    "    for j in range(pmtrd_.shape[1]):\n",
    "        logger.info(\"-->PMT number ={}\".format(j))\n",
    "                \n",
    "        pmt = pmtrd_[event_number, j] #waveform for event event_number, PMT j\n",
    "        twf = rebin_array_cy3(pmt, int(FP.time_DAQ))\n",
    "        \n",
    "        rdata.append(twf)\n",
    "    return np.array(rdata)\n",
    "\n",
    "\n",
    "\n",
    "def simulate_sipm_response_cy(event_number,sipmrd_):\n",
    "    \"\"\"\n",
    "    For the moment use a dummy rutne that simply copies the sipm EARRAY\n",
    "    \"\"\"\n",
    "    rdata = []\n",
    "\n",
    "    for j in range(sipmrd_.shape[1]):\n",
    "        rdata.append(sipmrd_[event_number, j])\n",
    "    return np.array(rdata)\n",
    "\n",
    "\n",
    "def simulate_pmt_response_cy(event_number,pmtrd_):\n",
    "    \"\"\"\n",
    "    Sensor Response\n",
    "    Given a signal in PE (photoelectrons in bins of 1 ns) and the response function of \n",
    "    for a single photoelectron (spe) and front-end electronics (fee)\n",
    "    this function produces the PMT raw data (adc counts bins 25 ns)\n",
    "\n",
    "    pmtrd_ dataset that holds the PMT PE data for each PMT\n",
    "    pmtrd25 dataset to be created with adc counts, bins 25 ns \n",
    "    after convoluting with electronics\n",
    "    \"\"\"\n",
    "    \n",
    "    logger.info(\"-->*cython::simulate_pmt_response, event ={}\".format(event_number))\n",
    "  \n",
    "    rdata = []\n",
    "\n",
    "    for j in range(pmtrd_.shape[1]):\n",
    "        logger.info(\"-->PMT number ={}\".format(j))\n",
    "                \n",
    "        pmt = pmtrd_[event_number, j] #waveform for event event_number, PMT j\n",
    "        \n",
    "        fee = FE.FEE(C=FP.C12[j],R= FP.R, f=FP.freq_LPF, RG=FP.V_GAIN) \n",
    "        spe = SP.SPE(pmt_gain=FP.PMT_GAIN,x_slope = 5*ns,x_flat = 1*ns)\n",
    "    \n",
    "        signal_PMT = spe.SpePulseFromVectorPE(pmt) #PMT response\n",
    "\n",
    "        #Front end response to PMT pulse (in volts)\n",
    "        signal_fee = fee.FEESignal(signal_PMT, noise_rms=FP.NOISE_FEE) \n",
    "\n",
    "        #Signal out of DAQ\n",
    "        #positive signal convention\n",
    "        #signal_daq = fee.daqSignal(signal_fee, noise_rms=0) - FP.offset\n",
    "        #negative signals convention!\n",
    "\n",
    "        signal_daq = FP.offset -fee.daqSignal(signal_fee, noise_rms=0) \n",
    "    \n",
    "        rdata.append(signal_daq)\n",
    "    return np.array(rdata)\n",
    "\n",
    "def rebin_pmt_array_cy(a,stride):\n",
    "    \"\"\"\n",
    "    rebins pmt array a according to stride\n",
    "    there is a rebin_array in util which uses\n",
    "    lenb = (len(a))/int(stride)\n",
    "    this version uses (lean(a)+1) to correct from the fact that the\n",
    "    MCRD is 599999 channels (should be 600000)\n",
    "    \"\"\"\n",
    "    \n",
    "    lenb = (len(a)+1)/int(stride)\n",
    "    b = np.zeros(lenb)\n",
    "    j=0\n",
    "    for i in range(lenb):\n",
    "        b[i] = np.sum(a[j:j+stride])\n",
    "        j+= stride\n",
    "    return b\n",
    "\n",
    "cdef rebin_pmt_array_cy2(np.ndarray[np.int32_t, ndim=1] a,int stride):\n",
    "    \"\"\"\n",
    "    rebins pmt array a according to stride\n",
    "    there is a rebin_array in util which uses\n",
    "    lenb = (len(a))/int(stride)\n",
    "    this version uses (lean(a)+1) to correct from the fact that the\n",
    "    MCRD is 599999 channels (should be 600000)\n",
    "    \"\"\"\n",
    "    \n",
    "    cdef int lenb, i, j,k\n",
    "    cdef int part_sum\n",
    "    \n",
    "    #logger.info(\"-->*rebin_pmt_array_cy2: after cdef*\")\n",
    "    \n",
    "      \n",
    "    lenb = (a.shape[0]+1)/stride\n",
    "    b = np.zeros(lenb, dtype=np.int32)\n",
    "    \n",
    "    #logger.info(\"--> lenb = {}\".format(lenb))\n",
    "    \n",
    "    #cdef int[:] b = np.zeros(lenb) \n",
    "    #cdef np.ndarray[np.int32_t, ndim=1] b = np.zeros(lenb) \n",
    "    \n",
    "    #logger.info(\"-->b = {}\".format(b[1000:1100]))\n",
    "    \n",
    "    #logger.info(\"-->*rebin_pmt_array_cy2: before loop*\")\n",
    "    j=0\n",
    "    with boundscheck(False), wraparound(False):\n",
    "        for i in range(lenb):\n",
    "            part_sum = 0\n",
    "            for k in range(j, j + stride): \n",
    "                part_sum += a[k] \n",
    "                b[i] = part_sum\n",
    "            j+= stride\n",
    "    \n",
    "    return b\n",
    "\n",
    "def rebin_signal_cy(event_number,pmtrd_, stride):\n",
    "    \"\"\"\n",
    "    rebins the MCRD signal to produce TWF (pes, bins 25 ns)\n",
    "    \"\"\"\n",
    "    \n",
    "    cdef list rdata = []\n",
    "    cdef int j\n",
    "    logger.info(\"-->*cython::rebin_signal, event ={}\".format(event_number))\n",
    "\n",
    "    for j in range(pmtrd_.shape[1]):\n",
    "        logger.info(\"-->PMT number ={}\".format(j))\n",
    "                \n",
    "        pmt = pmtrd_[event_number, j] #waveform for event event_number, PMT j\n",
    "        twf = rebin_pmt_array_cy2(pmt, stride)\n",
    "        \n",
    "        rdata.append(twf)\n",
    "    return np.array(rdata)\n",
    "\n",
    "  \n"
   ]
  },
  {
   "cell_type": "code",
   "execution_count": 87,
   "metadata": {
    "collapsed": false
   },
   "outputs": [
    {
     "data": {
      "text/plain": [
       "<function __main__.DIOMIRA_cy>"
      ]
     },
     "execution_count": 87,
     "metadata": {},
     "output_type": "execute_result"
    }
   ],
   "source": [
    "DIOMIRA_cy"
   ]
  },
  {
   "cell_type": "code",
   "execution_count": null,
   "metadata": {
    "collapsed": true
   },
   "outputs": [],
   "source": []
  },
  {
   "cell_type": "code",
   "execution_count": 100,
   "metadata": {
    "collapsed": false
   },
   "outputs": [
    {
     "name": "stdout",
     "output_type": "stream",
     "text": [
      "INFO:root:Configuration Parameters (CFP) dictionary  = {'FIRST_EVT': 0, 'LAST_EVT': 3, 'FILE_OUT': 'WF_Na_ZLIB_test3_RWF.h5', 'PATH_OUT': '/Users/jjgomezcadenas/Documents/Development/NEXT/data/Waveforms/25ns/', ' END ': 1, 'CLIB': 'zlib', 'RUN_ALL': 1, 'PATH_IN': '/Users/jjgomezcadenas/Documents/Development/NEXT/data/Waveforms/WF-NA-ZLIB/', 'CLEVEL': 1, 'FILE_IN': 'WF_Na_1Kevts_comp1_chunk32k.h5'}\n"
     ]
    },
    {
     "name": "stderr",
     "output_type": "stream",
     "text": [
      "Configuration Parameters (CFP) dictionary  = {'FIRST_EVT': 0, 'LAST_EVT': 3, 'FILE_OUT': 'WF_Na_ZLIB_test3_RWF.h5', 'PATH_OUT': '/Users/jjgomezcadenas/Documents/Development/NEXT/data/Waveforms/25ns/', ' END ': 1, 'CLIB': 'zlib', 'RUN_ALL': 1, 'PATH_IN': '/Users/jjgomezcadenas/Documents/Development/NEXT/data/Waveforms/WF-NA-ZLIB/', 'CLEVEL': 1, 'FILE_IN': 'WF_Na_1Kevts_comp1_chunk32k.h5'}\n"
     ]
    },
    {
     "name": "stdout",
     "output_type": "stream",
     "text": [
      "\n",
      "Leaving there and proceeding for three days toward the east, you reach Diomira, \n",
      "a city with sixty silver domes, bronze statues of all the gods, streets paved with lead, \n",
      "a crystal theater, a golden cock that crows every morning on a tower. \n",
      "All these beauties will already be familiar to the visitor, \n",
      "who has seen them also in other cities. \n",
      "But the special quality of this city for the man who arrives there on a September evening, \n",
      "when the days are growing shorter \n",
      "and the multicolored lamps are lighted all at once at the doors of the food stalls \n",
      "and from a terrace a woman's voice cries ooh!, is that he feels envy \n",
      "toward those who now believe they have once before lived an \n",
      "evening identical to this and who think they were happy, that time.\n",
      "\n",
      "        DIOMIRA:\n",
      "         1. Reads an MCRD file produced by art/centella, which stores MCRD \n",
      "         waveforms for PMTs (bins of 1 ns)\n",
      "        and the SiPMs (bins of 1 mus)\n",
      "            \n",
      "\n",
      "        2. Simulates the response of the energy plane in the PMTs MCRD, \n",
      "        and produces both RWF and TWF:\n",
      "        see: http://localhost:8931/notebooks/Nh5-Event-Model.ipynb#Reconstructed-Objects\n",
      "        \n",
      "            \n",
      "        3. Simulates the response of the tracking plane in the SiPMs MCRD and outputs\n",
      "            SiPM RWF (not yet implemented, for the time being simply copy the MCRD)\n",
      "\n",
      "        4. Add a table describing the FEE parameters used for simulation\n",
      "\n",
      "        5. Copies the tables on geometry, detector data and MC\n",
      "\n",
      "\n",
      "        \n",
      "\n",
      "  NEW FEE: DEFAULT PARAMETERS\n",
      "  PMT gain = 4.5e+06\n",
      "  sampling time: (fine) =    1.00 ns (DAQ) =   25.00 ns \n",
      "  decoupling capacitor =    6.20 nF\n",
      "  decoupling resistor = 2350.00 ohm\n",
      "  HPF frequency = 10923.47 Hz  W_HPF_fine = 1.1e-05 W_HPF_daq = 0.00027 \n",
      "  LPF frequency = 3000000.00 Hz  W_LPF_fine =   0.003 W_LPF_daq =   0.075 \n",
      "  noise =    0.70 mV\n",
      "  noise (adc) =    1.79\n",
      "  vots to adc factor =    2.56 \n",
      "  \n",
      "decoupling capacitors for energy plane = [ 6.02975448  6.22547194  6.0671337   6.22159457  6.29999787  6.09892384\n",
      "  6.18289435  6.21775591  6.19306671  6.30518792  6.20359891  6.31231192]\n",
      "Debug level = INFO\n",
      "INFO:root:input path =/Users/jjgomezcadenas/Documents/Development/NEXT/data/Waveforms/WF-NA-ZLIB/; output path = /Users/jjgomezcadenas/Documents/Development/NEXT/data/Waveforms/25ns/; file_in =WF_Na_1Kevts_comp1_chunk32k.h5 file_out =WF_Na_ZLIB_test3_RWF.h5\n"
     ]
    },
    {
     "name": "stderr",
     "output_type": "stream",
     "text": [
      "input path =/Users/jjgomezcadenas/Documents/Development/NEXT/data/Waveforms/WF-NA-ZLIB/; output path = /Users/jjgomezcadenas/Documents/Development/NEXT/data/Waveforms/25ns/; file_in =WF_Na_1Kevts_comp1_chunk32k.h5 file_out =WF_Na_ZLIB_test3_RWF.h5\n"
     ]
    },
    {
     "name": "stdout",
     "output_type": "stream",
     "text": [
      "INFO:root:first event = 0 last event = 3 nof events requested = 3 \n"
     ]
    },
    {
     "name": "stderr",
     "output_type": "stream",
     "text": [
      "first event = 0 last event = 3 nof events requested = 3 \n"
     ]
    },
    {
     "name": "stdout",
     "output_type": "stream",
     "text": [
      "INFO:root:Compression library = zlib Compression level = 1 \n"
     ]
    },
    {
     "name": "stderr",
     "output_type": "stream",
     "text": [
      "Compression library = zlib Compression level = 1 \n"
     ]
    },
    {
     "name": "stdout",
     "output_type": "stream",
     "text": [
      "INFO:root:nof PMTs = 12 nof  SiPMs = 1792 nof events in input DST = 1000 \n"
     ]
    },
    {
     "name": "stderr",
     "output_type": "stream",
     "text": [
      "nof PMTs = 12 nof  SiPMs = 1792 nof events in input DST = 1000 \n"
     ]
    },
    {
     "name": "stdout",
     "output_type": "stream",
     "text": [
      "INFO:root:lof SiPM WF = 599999 lof PMT WF (MC) = 600 lof PMT WF (FEE) = 24000\n"
     ]
    },
    {
     "name": "stderr",
     "output_type": "stream",
     "text": [
      "lof SiPM WF = 599999 lof PMT WF (MC) = 600 lof PMT WF (FEE) = 24000\n"
     ]
    },
    {
     "name": "stdout",
     "output_type": "stream",
     "text": [
      "calling the cython version\n",
      "INFO:root:-->event number =0\n"
     ]
    },
    {
     "name": "stderr",
     "output_type": "stream",
     "text": [
      "-->event number =0\n"
     ]
    },
    {
     "name": "stdout",
     "output_type": "stream",
     "text": [
      "INFO:root:-->calling simulate_pmt_response_cy\n"
     ]
    },
    {
     "name": "stderr",
     "output_type": "stream",
     "text": [
      "-->calling simulate_pmt_response_cy\n"
     ]
    },
    {
     "name": "stdout",
     "output_type": "stream",
     "text": [
      "INFO:root:-->*cython::simulate_pmt_response, event =0\n"
     ]
    },
    {
     "name": "stderr",
     "output_type": "stream",
     "text": [
      "-->*cython::simulate_pmt_response, event =0\n"
     ]
    },
    {
     "name": "stdout",
     "output_type": "stream",
     "text": [
      "INFO:root:-->PMT number =0\n"
     ]
    },
    {
     "name": "stderr",
     "output_type": "stream",
     "text": [
      "-->PMT number =0\n"
     ]
    },
    {
     "name": "stdout",
     "output_type": "stream",
     "text": [
      "INFO:root:-->PMT number =1\n"
     ]
    },
    {
     "name": "stderr",
     "output_type": "stream",
     "text": [
      "-->PMT number =1\n"
     ]
    },
    {
     "name": "stdout",
     "output_type": "stream",
     "text": [
      "INFO:root:-->PMT number =2\n"
     ]
    },
    {
     "name": "stderr",
     "output_type": "stream",
     "text": [
      "-->PMT number =2\n"
     ]
    },
    {
     "name": "stdout",
     "output_type": "stream",
     "text": [
      "INFO:root:-->PMT number =3\n"
     ]
    },
    {
     "name": "stderr",
     "output_type": "stream",
     "text": [
      "-->PMT number =3\n"
     ]
    },
    {
     "name": "stdout",
     "output_type": "stream",
     "text": [
      "INFO:root:-->PMT number =4\n"
     ]
    },
    {
     "name": "stderr",
     "output_type": "stream",
     "text": [
      "-->PMT number =4\n"
     ]
    },
    {
     "name": "stdout",
     "output_type": "stream",
     "text": [
      "INFO:root:-->PMT number =5\n"
     ]
    },
    {
     "name": "stderr",
     "output_type": "stream",
     "text": [
      "-->PMT number =5\n"
     ]
    },
    {
     "name": "stdout",
     "output_type": "stream",
     "text": [
      "INFO:root:-->PMT number =6\n"
     ]
    },
    {
     "name": "stderr",
     "output_type": "stream",
     "text": [
      "-->PMT number =6\n"
     ]
    },
    {
     "name": "stdout",
     "output_type": "stream",
     "text": [
      "INFO:root:-->PMT number =7\n"
     ]
    },
    {
     "name": "stderr",
     "output_type": "stream",
     "text": [
      "-->PMT number =7\n"
     ]
    },
    {
     "name": "stdout",
     "output_type": "stream",
     "text": [
      "INFO:root:-->PMT number =8\n"
     ]
    },
    {
     "name": "stderr",
     "output_type": "stream",
     "text": [
      "-->PMT number =8\n"
     ]
    },
    {
     "name": "stdout",
     "output_type": "stream",
     "text": [
      "INFO:root:-->PMT number =9\n"
     ]
    },
    {
     "name": "stderr",
     "output_type": "stream",
     "text": [
      "-->PMT number =9\n"
     ]
    },
    {
     "name": "stdout",
     "output_type": "stream",
     "text": [
      "INFO:root:-->PMT number =10\n"
     ]
    },
    {
     "name": "stderr",
     "output_type": "stream",
     "text": [
      "-->PMT number =10\n"
     ]
    },
    {
     "name": "stdout",
     "output_type": "stream",
     "text": [
      "INFO:root:-->PMT number =11\n"
     ]
    },
    {
     "name": "stderr",
     "output_type": "stream",
     "text": [
      "-->PMT number =11\n"
     ]
    },
    {
     "name": "stdout",
     "output_type": "stream",
     "text": [
      "INFO:root:-->calling rebin_signal_cy\n"
     ]
    },
    {
     "name": "stderr",
     "output_type": "stream",
     "text": [
      "-->calling rebin_signal_cy\n"
     ]
    },
    {
     "name": "stdout",
     "output_type": "stream",
     "text": [
      "INFO:root:-->*cython::rebin_signal, event =0\n"
     ]
    },
    {
     "name": "stderr",
     "output_type": "stream",
     "text": [
      "-->*cython::rebin_signal, event =0\n"
     ]
    },
    {
     "name": "stdout",
     "output_type": "stream",
     "text": [
      "INFO:root:-->PMT number =0\n"
     ]
    },
    {
     "name": "stderr",
     "output_type": "stream",
     "text": [
      "-->PMT number =0\n"
     ]
    },
    {
     "name": "stdout",
     "output_type": "stream",
     "text": [
      "INFO:root:-->PMT number =1\n"
     ]
    },
    {
     "name": "stderr",
     "output_type": "stream",
     "text": [
      "-->PMT number =1\n"
     ]
    },
    {
     "name": "stdout",
     "output_type": "stream",
     "text": [
      "INFO:root:-->PMT number =2\n"
     ]
    },
    {
     "name": "stderr",
     "output_type": "stream",
     "text": [
      "-->PMT number =2\n"
     ]
    },
    {
     "name": "stdout",
     "output_type": "stream",
     "text": [
      "INFO:root:-->PMT number =3\n"
     ]
    },
    {
     "name": "stderr",
     "output_type": "stream",
     "text": [
      "-->PMT number =3\n"
     ]
    },
    {
     "name": "stdout",
     "output_type": "stream",
     "text": [
      "INFO:root:-->PMT number =4\n"
     ]
    },
    {
     "name": "stderr",
     "output_type": "stream",
     "text": [
      "-->PMT number =4\n"
     ]
    },
    {
     "name": "stdout",
     "output_type": "stream",
     "text": [
      "INFO:root:-->PMT number =5\n"
     ]
    },
    {
     "name": "stderr",
     "output_type": "stream",
     "text": [
      "-->PMT number =5\n"
     ]
    },
    {
     "name": "stdout",
     "output_type": "stream",
     "text": [
      "INFO:root:-->PMT number =6\n"
     ]
    },
    {
     "name": "stderr",
     "output_type": "stream",
     "text": [
      "-->PMT number =6\n"
     ]
    },
    {
     "name": "stdout",
     "output_type": "stream",
     "text": [
      "INFO:root:-->PMT number =7\n"
     ]
    },
    {
     "name": "stderr",
     "output_type": "stream",
     "text": [
      "-->PMT number =7\n"
     ]
    },
    {
     "name": "stdout",
     "output_type": "stream",
     "text": [
      "INFO:root:-->PMT number =8\n"
     ]
    },
    {
     "name": "stderr",
     "output_type": "stream",
     "text": [
      "-->PMT number =8\n"
     ]
    },
    {
     "name": "stdout",
     "output_type": "stream",
     "text": [
      "INFO:root:-->PMT number =9\n"
     ]
    },
    {
     "name": "stderr",
     "output_type": "stream",
     "text": [
      "-->PMT number =9\n"
     ]
    },
    {
     "name": "stdout",
     "output_type": "stream",
     "text": [
      "INFO:root:-->PMT number =10\n"
     ]
    },
    {
     "name": "stderr",
     "output_type": "stream",
     "text": [
      "-->PMT number =10\n"
     ]
    },
    {
     "name": "stdout",
     "output_type": "stream",
     "text": [
      "INFO:root:-->PMT number =11\n"
     ]
    },
    {
     "name": "stderr",
     "output_type": "stream",
     "text": [
      "-->PMT number =11\n"
     ]
    },
    {
     "name": "stdout",
     "output_type": "stream",
     "text": [
      "INFO:root:truePMT shape =(12, 24000)\n"
     ]
    },
    {
     "name": "stderr",
     "output_type": "stream",
     "text": [
      "truePMT shape =(12, 24000)\n"
     ]
    },
    {
     "name": "stdout",
     "output_type": "stream",
     "text": [
      "INFO:root:dataPMT shape =(12, 24000)\n"
     ]
    },
    {
     "name": "stderr",
     "output_type": "stream",
     "text": [
      "dataPMT shape =(12, 24000)\n"
     ]
    },
    {
     "name": "stdout",
     "output_type": "stream",
     "text": [
      "INFO:root:-->event number =1\n"
     ]
    },
    {
     "name": "stderr",
     "output_type": "stream",
     "text": [
      "-->event number =1\n"
     ]
    },
    {
     "name": "stdout",
     "output_type": "stream",
     "text": [
      "INFO:root:-->calling simulate_pmt_response_cy\n"
     ]
    },
    {
     "name": "stderr",
     "output_type": "stream",
     "text": [
      "-->calling simulate_pmt_response_cy\n"
     ]
    },
    {
     "name": "stdout",
     "output_type": "stream",
     "text": [
      "INFO:root:-->*cython::simulate_pmt_response, event =1\n"
     ]
    },
    {
     "name": "stderr",
     "output_type": "stream",
     "text": [
      "-->*cython::simulate_pmt_response, event =1\n"
     ]
    },
    {
     "name": "stdout",
     "output_type": "stream",
     "text": [
      "INFO:root:-->PMT number =0\n"
     ]
    },
    {
     "name": "stderr",
     "output_type": "stream",
     "text": [
      "-->PMT number =0\n"
     ]
    },
    {
     "name": "stdout",
     "output_type": "stream",
     "text": [
      "INFO:root:-->PMT number =1\n"
     ]
    },
    {
     "name": "stderr",
     "output_type": "stream",
     "text": [
      "-->PMT number =1\n"
     ]
    },
    {
     "name": "stdout",
     "output_type": "stream",
     "text": [
      "INFO:root:-->PMT number =2\n"
     ]
    },
    {
     "name": "stderr",
     "output_type": "stream",
     "text": [
      "-->PMT number =2\n"
     ]
    },
    {
     "name": "stdout",
     "output_type": "stream",
     "text": [
      "INFO:root:-->PMT number =3\n"
     ]
    },
    {
     "name": "stderr",
     "output_type": "stream",
     "text": [
      "-->PMT number =3\n"
     ]
    },
    {
     "name": "stdout",
     "output_type": "stream",
     "text": [
      "INFO:root:-->PMT number =4\n"
     ]
    },
    {
     "name": "stderr",
     "output_type": "stream",
     "text": [
      "-->PMT number =4\n"
     ]
    },
    {
     "name": "stdout",
     "output_type": "stream",
     "text": [
      "INFO:root:-->PMT number =5\n"
     ]
    },
    {
     "name": "stderr",
     "output_type": "stream",
     "text": [
      "-->PMT number =5\n"
     ]
    },
    {
     "name": "stdout",
     "output_type": "stream",
     "text": [
      "INFO:root:-->PMT number =6\n"
     ]
    },
    {
     "name": "stderr",
     "output_type": "stream",
     "text": [
      "-->PMT number =6\n"
     ]
    },
    {
     "name": "stdout",
     "output_type": "stream",
     "text": [
      "INFO:root:-->PMT number =7\n"
     ]
    },
    {
     "name": "stderr",
     "output_type": "stream",
     "text": [
      "-->PMT number =7\n"
     ]
    },
    {
     "name": "stdout",
     "output_type": "stream",
     "text": [
      "INFO:root:-->PMT number =8\n"
     ]
    },
    {
     "name": "stderr",
     "output_type": "stream",
     "text": [
      "-->PMT number =8\n"
     ]
    },
    {
     "name": "stdout",
     "output_type": "stream",
     "text": [
      "INFO:root:-->PMT number =9\n"
     ]
    },
    {
     "name": "stderr",
     "output_type": "stream",
     "text": [
      "-->PMT number =9\n"
     ]
    },
    {
     "name": "stdout",
     "output_type": "stream",
     "text": [
      "INFO:root:-->PMT number =10\n"
     ]
    },
    {
     "name": "stderr",
     "output_type": "stream",
     "text": [
      "-->PMT number =10\n"
     ]
    },
    {
     "name": "stdout",
     "output_type": "stream",
     "text": [
      "INFO:root:-->PMT number =11\n"
     ]
    },
    {
     "name": "stderr",
     "output_type": "stream",
     "text": [
      "-->PMT number =11\n"
     ]
    },
    {
     "name": "stdout",
     "output_type": "stream",
     "text": [
      "INFO:root:-->calling rebin_signal_cy\n"
     ]
    },
    {
     "name": "stderr",
     "output_type": "stream",
     "text": [
      "-->calling rebin_signal_cy\n"
     ]
    },
    {
     "name": "stdout",
     "output_type": "stream",
     "text": [
      "INFO:root:-->*cython::rebin_signal, event =1\n"
     ]
    },
    {
     "name": "stderr",
     "output_type": "stream",
     "text": [
      "-->*cython::rebin_signal, event =1\n"
     ]
    },
    {
     "name": "stdout",
     "output_type": "stream",
     "text": [
      "INFO:root:-->PMT number =0\n"
     ]
    },
    {
     "name": "stderr",
     "output_type": "stream",
     "text": [
      "-->PMT number =0\n"
     ]
    },
    {
     "name": "stdout",
     "output_type": "stream",
     "text": [
      "INFO:root:-->PMT number =1\n"
     ]
    },
    {
     "name": "stderr",
     "output_type": "stream",
     "text": [
      "-->PMT number =1\n"
     ]
    },
    {
     "name": "stdout",
     "output_type": "stream",
     "text": [
      "INFO:root:-->PMT number =2\n"
     ]
    },
    {
     "name": "stderr",
     "output_type": "stream",
     "text": [
      "-->PMT number =2\n"
     ]
    },
    {
     "name": "stdout",
     "output_type": "stream",
     "text": [
      "INFO:root:-->PMT number =3\n"
     ]
    },
    {
     "name": "stderr",
     "output_type": "stream",
     "text": [
      "-->PMT number =3\n"
     ]
    },
    {
     "name": "stdout",
     "output_type": "stream",
     "text": [
      "INFO:root:-->PMT number =4\n"
     ]
    },
    {
     "name": "stderr",
     "output_type": "stream",
     "text": [
      "-->PMT number =4\n"
     ]
    },
    {
     "name": "stdout",
     "output_type": "stream",
     "text": [
      "INFO:root:-->PMT number =5\n"
     ]
    },
    {
     "name": "stderr",
     "output_type": "stream",
     "text": [
      "-->PMT number =5\n"
     ]
    },
    {
     "name": "stdout",
     "output_type": "stream",
     "text": [
      "INFO:root:-->PMT number =6\n"
     ]
    },
    {
     "name": "stderr",
     "output_type": "stream",
     "text": [
      "-->PMT number =6\n"
     ]
    },
    {
     "name": "stdout",
     "output_type": "stream",
     "text": [
      "INFO:root:-->PMT number =7\n"
     ]
    },
    {
     "name": "stderr",
     "output_type": "stream",
     "text": [
      "-->PMT number =7\n"
     ]
    },
    {
     "name": "stdout",
     "output_type": "stream",
     "text": [
      "INFO:root:-->PMT number =8\n"
     ]
    },
    {
     "name": "stderr",
     "output_type": "stream",
     "text": [
      "-->PMT number =8\n"
     ]
    },
    {
     "name": "stdout",
     "output_type": "stream",
     "text": [
      "INFO:root:-->PMT number =9\n"
     ]
    },
    {
     "name": "stderr",
     "output_type": "stream",
     "text": [
      "-->PMT number =9\n"
     ]
    },
    {
     "name": "stdout",
     "output_type": "stream",
     "text": [
      "INFO:root:-->PMT number =10\n"
     ]
    },
    {
     "name": "stderr",
     "output_type": "stream",
     "text": [
      "-->PMT number =10\n"
     ]
    },
    {
     "name": "stdout",
     "output_type": "stream",
     "text": [
      "INFO:root:-->PMT number =11\n"
     ]
    },
    {
     "name": "stderr",
     "output_type": "stream",
     "text": [
      "-->PMT number =11\n"
     ]
    },
    {
     "name": "stdout",
     "output_type": "stream",
     "text": [
      "INFO:root:truePMT shape =(12, 24000)\n"
     ]
    },
    {
     "name": "stderr",
     "output_type": "stream",
     "text": [
      "truePMT shape =(12, 24000)\n"
     ]
    },
    {
     "name": "stdout",
     "output_type": "stream",
     "text": [
      "INFO:root:dataPMT shape =(12, 24000)\n"
     ]
    },
    {
     "name": "stderr",
     "output_type": "stream",
     "text": [
      "dataPMT shape =(12, 24000)\n"
     ]
    },
    {
     "name": "stdout",
     "output_type": "stream",
     "text": [
      "INFO:root:-->event number =2\n"
     ]
    },
    {
     "name": "stderr",
     "output_type": "stream",
     "text": [
      "-->event number =2\n"
     ]
    },
    {
     "name": "stdout",
     "output_type": "stream",
     "text": [
      "INFO:root:-->calling simulate_pmt_response_cy\n"
     ]
    },
    {
     "name": "stderr",
     "output_type": "stream",
     "text": [
      "-->calling simulate_pmt_response_cy\n"
     ]
    },
    {
     "name": "stdout",
     "output_type": "stream",
     "text": [
      "INFO:root:-->*cython::simulate_pmt_response, event =2\n"
     ]
    },
    {
     "name": "stderr",
     "output_type": "stream",
     "text": [
      "-->*cython::simulate_pmt_response, event =2\n"
     ]
    },
    {
     "name": "stdout",
     "output_type": "stream",
     "text": [
      "INFO:root:-->PMT number =0\n"
     ]
    },
    {
     "name": "stderr",
     "output_type": "stream",
     "text": [
      "-->PMT number =0\n"
     ]
    },
    {
     "name": "stdout",
     "output_type": "stream",
     "text": [
      "INFO:root:-->PMT number =1\n"
     ]
    },
    {
     "name": "stderr",
     "output_type": "stream",
     "text": [
      "-->PMT number =1\n"
     ]
    },
    {
     "name": "stdout",
     "output_type": "stream",
     "text": [
      "INFO:root:-->PMT number =2\n"
     ]
    },
    {
     "name": "stderr",
     "output_type": "stream",
     "text": [
      "-->PMT number =2\n"
     ]
    },
    {
     "name": "stdout",
     "output_type": "stream",
     "text": [
      "INFO:root:-->PMT number =3\n"
     ]
    },
    {
     "name": "stderr",
     "output_type": "stream",
     "text": [
      "-->PMT number =3\n"
     ]
    },
    {
     "name": "stdout",
     "output_type": "stream",
     "text": [
      "INFO:root:-->PMT number =4\n"
     ]
    },
    {
     "name": "stderr",
     "output_type": "stream",
     "text": [
      "-->PMT number =4\n"
     ]
    },
    {
     "name": "stdout",
     "output_type": "stream",
     "text": [
      "INFO:root:-->PMT number =5\n"
     ]
    },
    {
     "name": "stderr",
     "output_type": "stream",
     "text": [
      "-->PMT number =5\n"
     ]
    },
    {
     "name": "stdout",
     "output_type": "stream",
     "text": [
      "INFO:root:-->PMT number =6\n"
     ]
    },
    {
     "name": "stderr",
     "output_type": "stream",
     "text": [
      "-->PMT number =6\n"
     ]
    },
    {
     "name": "stdout",
     "output_type": "stream",
     "text": [
      "INFO:root:-->PMT number =7\n"
     ]
    },
    {
     "name": "stderr",
     "output_type": "stream",
     "text": [
      "-->PMT number =7\n"
     ]
    },
    {
     "name": "stdout",
     "output_type": "stream",
     "text": [
      "INFO:root:-->PMT number =8\n"
     ]
    },
    {
     "name": "stderr",
     "output_type": "stream",
     "text": [
      "-->PMT number =8\n"
     ]
    },
    {
     "name": "stdout",
     "output_type": "stream",
     "text": [
      "INFO:root:-->PMT number =9\n"
     ]
    },
    {
     "name": "stderr",
     "output_type": "stream",
     "text": [
      "-->PMT number =9\n"
     ]
    },
    {
     "name": "stdout",
     "output_type": "stream",
     "text": [
      "INFO:root:-->PMT number =10\n"
     ]
    },
    {
     "name": "stderr",
     "output_type": "stream",
     "text": [
      "-->PMT number =10\n"
     ]
    },
    {
     "name": "stdout",
     "output_type": "stream",
     "text": [
      "INFO:root:-->PMT number =11\n"
     ]
    },
    {
     "name": "stderr",
     "output_type": "stream",
     "text": [
      "-->PMT number =11\n"
     ]
    },
    {
     "name": "stdout",
     "output_type": "stream",
     "text": [
      "INFO:root:-->calling rebin_signal_cy\n"
     ]
    },
    {
     "name": "stderr",
     "output_type": "stream",
     "text": [
      "-->calling rebin_signal_cy\n"
     ]
    },
    {
     "name": "stdout",
     "output_type": "stream",
     "text": [
      "INFO:root:-->*cython::rebin_signal, event =2\n"
     ]
    },
    {
     "name": "stderr",
     "output_type": "stream",
     "text": [
      "-->*cython::rebin_signal, event =2\n"
     ]
    },
    {
     "name": "stdout",
     "output_type": "stream",
     "text": [
      "INFO:root:-->PMT number =0\n"
     ]
    },
    {
     "name": "stderr",
     "output_type": "stream",
     "text": [
      "-->PMT number =0\n"
     ]
    },
    {
     "name": "stdout",
     "output_type": "stream",
     "text": [
      "INFO:root:-->PMT number =1\n"
     ]
    },
    {
     "name": "stderr",
     "output_type": "stream",
     "text": [
      "-->PMT number =1\n"
     ]
    },
    {
     "name": "stdout",
     "output_type": "stream",
     "text": [
      "INFO:root:-->PMT number =2\n"
     ]
    },
    {
     "name": "stderr",
     "output_type": "stream",
     "text": [
      "-->PMT number =2\n"
     ]
    },
    {
     "name": "stdout",
     "output_type": "stream",
     "text": [
      "INFO:root:-->PMT number =3\n"
     ]
    },
    {
     "name": "stderr",
     "output_type": "stream",
     "text": [
      "-->PMT number =3\n"
     ]
    },
    {
     "name": "stdout",
     "output_type": "stream",
     "text": [
      "INFO:root:-->PMT number =4\n"
     ]
    },
    {
     "name": "stderr",
     "output_type": "stream",
     "text": [
      "-->PMT number =4\n"
     ]
    },
    {
     "name": "stdout",
     "output_type": "stream",
     "text": [
      "INFO:root:-->PMT number =5\n"
     ]
    },
    {
     "name": "stderr",
     "output_type": "stream",
     "text": [
      "-->PMT number =5\n"
     ]
    },
    {
     "name": "stdout",
     "output_type": "stream",
     "text": [
      "INFO:root:-->PMT number =6\n"
     ]
    },
    {
     "name": "stderr",
     "output_type": "stream",
     "text": [
      "-->PMT number =6\n"
     ]
    },
    {
     "name": "stdout",
     "output_type": "stream",
     "text": [
      "INFO:root:-->PMT number =7\n"
     ]
    },
    {
     "name": "stderr",
     "output_type": "stream",
     "text": [
      "-->PMT number =7\n"
     ]
    },
    {
     "name": "stdout",
     "output_type": "stream",
     "text": [
      "INFO:root:-->PMT number =8\n"
     ]
    },
    {
     "name": "stderr",
     "output_type": "stream",
     "text": [
      "-->PMT number =8\n"
     ]
    },
    {
     "name": "stdout",
     "output_type": "stream",
     "text": [
      "INFO:root:-->PMT number =9\n"
     ]
    },
    {
     "name": "stderr",
     "output_type": "stream",
     "text": [
      "-->PMT number =9\n"
     ]
    },
    {
     "name": "stdout",
     "output_type": "stream",
     "text": [
      "INFO:root:-->PMT number =10\n"
     ]
    },
    {
     "name": "stderr",
     "output_type": "stream",
     "text": [
      "-->PMT number =10\n"
     ]
    },
    {
     "name": "stdout",
     "output_type": "stream",
     "text": [
      "INFO:root:-->PMT number =11\n"
     ]
    },
    {
     "name": "stderr",
     "output_type": "stream",
     "text": [
      "-->PMT number =11\n"
     ]
    },
    {
     "name": "stdout",
     "output_type": "stream",
     "text": [
      "INFO:root:truePMT shape =(12, 24000)\n"
     ]
    },
    {
     "name": "stderr",
     "output_type": "stream",
     "text": [
      "truePMT shape =(12, 24000)\n"
     ]
    },
    {
     "name": "stdout",
     "output_type": "stream",
     "text": [
      "INFO:root:dataPMT shape =(12, 24000)\n"
     ]
    },
    {
     "name": "stderr",
     "output_type": "stream",
     "text": [
      "dataPMT shape =(12, 24000)\n"
     ]
    },
    {
     "name": "stdout",
     "output_type": "stream",
     "text": [
      "Leaving Diomira. Safe travels!\n",
      "         285044 function calls (285015 primitive calls) in 4.430 seconds\n",
      "\n",
      "   Ordered by: internal time\n",
      "\n",
      "   ncalls  tottime  percall  cumtime  percall filename:lineno(function)\n",
      "        3    1.046    0.349    1.182    0.394 {_cython_magic_fda0d90f18fae9962a2b4688951b7ca3.rebin_signal_cy}\n",
      "      468    0.700    0.001    0.700    0.001 {numpy.core.multiarray.correlate}\n",
      "       36    0.695    0.019    0.695    0.019 {method 'normal' of 'mtrand.RandomState' objects}\n",
      "        7    0.313    0.045    0.313    0.045 {method '_fill_col' of 'tables.tableextension.Row' objects}\n",
      "        8    0.276    0.034    0.276    0.034 {method '_append_records' of 'tables.tableextension.Table' objects}\n",
      "       72    0.259    0.004    0.259    0.004 {scipy.signal.sigtools._linear_filter}\n",
      "     5448    0.245    0.000    0.245    0.000 {method '_g_read_slice' of 'tables.hdf5extension.Array' objects}\n",
      "        3    0.107    0.036    2.193    0.731 {_cython_magic_fda0d90f18fae9962a2b4688951b7ca3.simulate_pmt_response_cy}\n",
      "       36    0.106    0.003    1.064    0.030 FEE2.py:156(FEESignal)\n",
      "        9    0.105    0.012    0.105    0.012 {method '_append' of 'tables.hdf5extension.Array' objects}\n",
      "     5448    0.070    0.000    0.113    0.000 array.py:370(_interpret_indexing)\n",
      "       12    0.046    0.004    0.046    0.004 {method '_g_flush' of 'tables.hdf5extension.Leaf' objects}\n",
      "     5700    0.041    0.000    0.041    0.000 {numpy.core.multiarray.zeros}\n",
      "       36    0.030    0.001    0.568    0.016 shape_base.py:20(apply_along_axis)\n",
      "      108    0.021    0.000    0.851    0.008 signaltools.py:845(lfilter)\n",
      "    22345    0.021    0.000    0.021    0.000 {numpy.core.multiarray.empty}\n",
      "      513    0.018    0.000    0.018    0.000 {method 'astype' of 'numpy.ndarray' objects}\n",
      "       36    0.017    0.000    0.619    0.017 FEE2.py:176(daqSignal)\n",
      "     5448    0.014    0.000    0.393    0.000 array.py:627(__getitem__)\n",
      "        2    0.013    0.006    0.013    0.006 {method '_close_file' of 'tables.hdf5extension.File' objects}\n",
      "        3    0.013    0.004    0.207    0.069 {_cython_magic_fda0d90f18fae9962a2b4688951b7ca3.simulate_sipm_response_cy}\n",
      "     6333    0.011    0.000    0.011    0.000 {numpy.core.multiarray.array}\n",
      "    10900    0.010    0.000    0.013    0.000 leaf.py:390(_process_range)\n",
      "     5448    0.010    0.000    0.263    0.000 array.py:758(_read_slice)\n",
      "      432    0.008    0.000    0.023    0.000 polynomial.py:32(poly)\n",
      "    25535    0.008    0.000    0.008    0.000 {isinstance}\n",
      "     1310    0.006    0.000    0.006    0.000 {method 'reduce' of 'numpy.ufunc' objects}\n",
      "      792    0.006    0.000    0.017    0.000 encoder.py:212(iterencode)\n",
      "     5544    0.006    0.000    0.006    0.000 {method 'sub' of '_sre.SRE_Pattern' objects}\n",
      "54909/54901    0.005    0.000    0.005    0.000 {len}\n",
      "        1    0.005    0.005    4.429    4.429 <ipython-input-95-77283bf68e53>:25(DIOMIRA_cy)\n",
      "     1386    0.005    0.000    0.005    0.000 {method 'send' of 'zmq.backend.cython.socket.Socket' objects}\n",
      "     1980    0.005    0.000    0.009    0.000 shape_base.py:9(atleast_1d)\n",
      "      198    0.004    0.000    0.006    0.000 uuid.py:103(__init__)\n",
      "     5544    0.004    0.000    0.010    0.000 encoder.py:33(encode_basestring)\n",
      "    10896    0.004    0.000    0.004    0.000 utils.py:49(is_idx)\n",
      "      216    0.004    0.000    0.055    0.000 filter_design.py:1327(iirfilter)\n",
      "      216    0.004    0.000    0.005    0.000 filter_design.py:2863(buttap)\n",
      "       36    0.004    0.000    0.010    0.000 fir_filter_design.py:138(firwin)\n",
      "      792    0.004    0.000    0.026    0.000 __init__.py:193(dumps)\n",
      "      144    0.003    0.000    0.008    0.000 filter_design.py:1620(_zpklp2hp)\n",
      "      198    0.003    0.000    0.003    0.000 {zmq.backend.cython._poll.zmq_poll}\n",
      "       14    0.003    0.000    0.003    0.000 {method '_g_close' of 'tables.hdf5extension.Leaf' objects}\n",
      "      198    0.003    0.000    0.068    0.000 session.py:600(send)\n",
      "    10900    0.003    0.000    0.003    0.000 {method 'indices' of 'slice' objects}\n",
      "       99    0.003    0.000    0.005    0.000 __init__.py:237(__init__)\n",
      "      108    0.003    0.000    0.006    0.000 filter_design.py:1517(_zpkbilinear)\n",
      "     5523    0.003    0.000    0.003    0.000 node.py:342(_g_check_open)\n",
      "     3320    0.002    0.000    0.004    0.000 numeric.py:484(asanyarray)\n",
      "      198    0.002    0.000    0.007    0.000 socket.py:289(send_multipart)\n",
      "      198    0.002    0.000    0.081    0.000 iostream.py:151(flush)\n",
      "     8954    0.002    0.000    0.002    0.000 {method 'append' of 'list' objects}\n",
      "        2    0.002    0.001    0.002    0.001 {method '_g_new' of 'tables.hdf5extension.File' objects}\n",
      "      216    0.002    0.000    0.028    0.000 filter_design.py:594(zpk2tf)\n",
      "      468    0.002    0.000    0.704    0.002 numeric.py:918(convolve)\n",
      "      198    0.002    0.000    0.002    0.000 {posix.urandom}\n",
      "     2574    0.002    0.000    0.003    0.000 traitlets.py:518(__get__)\n",
      "      198    0.002    0.000    0.039    0.000 session.py:541(serialize)\n",
      "       62    0.002    0.000    0.003    0.000 {method '_g_setattr' of 'tables.hdf5extension.AttributeSet' objects}\n",
      "      792    0.002    0.000    0.029    0.000 jsonapi.py:31(dumps)\n",
      "      792    0.002    0.000    0.021    0.000 encoder.py:186(encode)\n",
      "        5    0.002    0.000    0.002    0.000 {method '_create_table' of 'tables.tableextension.Table' objects}\n",
      "      432    0.002    0.000    0.002    0.000 type_check.py:18(mintypecode)\n",
      "     1082    0.002    0.000    0.003    0.000 {hasattr}\n",
      "      212    0.002    0.000    0.004    0.000 iostream.py:207(write)\n",
      "     5448    0.001    0.000    0.001    0.000 leaf.py:211(<lambda>)\n",
      "      792    0.001    0.000    0.001    0.000 encoder.py:101(__init__)\n",
      "     2574    0.001    0.000    0.001    0.000 traitlets.py:499(get)\n",
      "      198    0.001    0.000    0.006    0.000 session.py:526(sign)\n",
      "      198    0.001    0.000    0.002    0.000 attrsettr.py:35(__getattr__)\n",
      "      198    0.001    0.000    0.016    0.000 session.py:507(msg)\n",
      "      792    0.001    0.000    0.001    0.000 {method 'join' of 'str' objects}\n",
      "      990    0.001    0.000    0.001    0.000 {method 'update' of '_hashlib.HASH' objects}\n",
      "      198    0.001    0.000    0.001    0.000 {built-in method now}\n",
      "      396    0.001    0.000    0.002    0.000 threading.py:187(release)\n",
      "      594    0.001    0.000    0.001    0.000 {method 'encode' of 'unicode' objects}\n",
      "      198    0.001    0.000    0.001    0.000 session.py:211(extract_header)\n",
      "      198    0.001    0.000    0.092    0.000 __init__.py:841(emit)\n",
      "      792    0.001    0.000    0.030    0.000 session.py:94(<lambda>)\n",
      "       43    0.001    0.000    0.001    0.000 {method '_g_get_objinfo' of 'tables.hdf5extension.Group' objects}\n",
      "      681    0.001    0.000    0.004    0.000 fromnumeric.py:2395(prod)\n",
      "      198    0.001    0.000    0.014    0.000 session.py:504(msg_header)\n",
      "      198    0.001    0.000    0.084    0.000 __init__.py:830(flush)\n",
      "      198    0.001    0.000    0.006    0.000 iostream.py:123(_flush_from_subprocesses)\n",
      "      208    0.001    0.000    0.001    0.000 {map}\n",
      "      396    0.001    0.000    0.002    0.000 threading.py:147(acquire)\n",
      "    10896    0.001    0.000    0.001    0.000 {operator.index}\n",
      "      736    0.001    0.000    0.001    0.000 {range}\n",
      "       99    0.001    0.000    0.002    0.000 __init__.py:1225(findCaller)\n",
      "      108    0.001    0.000    0.056    0.001 FEE2.py:55(__init__)\n",
      "      198    0.001    0.000    0.001    0.000 hmac.py:88(copy)\n",
      "      400    0.001    0.000    0.001    0.000 {numpy.core.multiarray.arange}\n",
      "      333    0.001    0.000    0.001    0.000 {method 'reshape' of 'numpy.ndarray' objects}\n",
      "      198    0.001    0.000    0.002    0.000 __init__.py:452(format)\n",
      "      540    0.001    0.000    0.001    0.000 {numpy.core.multiarray.copyto}\n",
      "      198    0.001    0.000    0.008    0.000 uuid.py:582(uuid4)\n",
      "      324    0.001    0.000    0.001    0.000 {numpy.core.multiarray.concatenate}\n",
      "        4    0.001    0.000    0.003    0.001 {method '_get_info' of 'tables.tableextension.Table' objects}\n",
      "       61    0.001    0.000    0.001    0.000 {method '_g_getattr' of 'tables.hdf5extension.AttributeSet' objects}\n",
      "        6    0.001    0.000    0.001    0.000 {method '_g_get_lchild_attr' of 'tables.hdf5extension.Group' objects}\n",
      "      435    0.001    0.000    0.001    0.000 {method 'compress' of 'numpy.ndarray' objects}\n",
      "      102    0.001    0.000    0.001    0.000 {method 'clear' of 'dict' objects}\n",
      "       36    0.001    0.000    0.057    0.002 FEE2.py:116(__init__)\n",
      "      432    0.001    0.000    0.001    0.000 function_base.py:1807(sort_complex)\n",
      "       72    0.001    0.000    0.001    0.000 function_base.py:3262(sinc)\n",
      "      198    0.001    0.000    0.095    0.000 __init__.py:738(handle)\n",
      "      212    0.001    0.000    0.001    0.000 {_codecs.utf_8_decode}\n",
      "       99    0.001    0.000    0.105    0.001 __init__.py:1149(info)\n",
      "      198    0.001    0.000    0.010    0.000 session.py:452(msg_id)\n",
      "        3    0.001    0.000    0.001    0.000 {method '_create_carray' of 'tables.hdf5extension.Array' objects}\n",
      "      198    0.001    0.000    0.001    0.000 uuid.py:199(__str__)\n",
      "      252    0.001    0.000    0.002    0.000 function_base.py:4534(append)\n",
      "       99    0.001    0.000    0.104    0.001 __init__.py:1259(_log)\n",
      "      212    0.001    0.000    0.002    0.000 {method 'decode' of 'str' objects}\n",
      "       99    0.001    0.000    0.096    0.001 __init__.py:1312(callHandlers)\n",
      "      540    0.001    0.000    0.002    0.000 numeric.py:148(ones)\n",
      "       72    0.001    0.000    0.001    0.000 function_base.py:9(linspace)\n",
      "       36    0.001    0.000    0.002    0.000 SPE.py:19(__init__)\n",
      "      468    0.001    0.000    0.001    0.000 numeric.py:846(_mode_from_name)\n",
      "      744    0.001    0.000    0.001    0.000 numeric.py:414(asarray)\n",
      "      121    0.001    0.000    0.002    0.000 atom.py:493(__init__)\n",
      "      198    0.001    0.000    0.001    0.000 iostream.py:96(_is_master_thread)\n",
      "      396    0.001    0.000    0.002    0.000 __init__.py:695(acquire)\n",
      "      396    0.001    0.000    0.002    0.000 __init__.py:702(release)\n",
      "      608    0.001    0.000    0.001    0.000 iostream.py:93(_is_master_process)\n",
      "       72    0.001    0.000    0.262    0.004 FEE2.py:80(FilterPulse)\n",
      "       72    0.001    0.000    0.001    0.000 filter_design.py:1567(_zpklp2lp)\n",
      "        6    0.001    0.000    0.001    0.000 {tables.utilsextension.which_class}\n",
      "      198    0.001    0.000    0.004    0.000 poll.py:77(poll)\n",
      "       36    0.001    0.000    0.600    0.017 signaltools.py:2634(decimate)\n",
      "      620    0.001    0.000    0.001    0.000 {getattr}\n",
      "      410    0.001    0.000    0.001    0.000 iostream.py:102(_check_mp_mode)\n",
      "        1    0.000    0.000    4.430    4.430 <string>:1(<module>)\n",
      "       36    0.000    0.000    0.001    0.000 windows.py:859(hamming)\n",
      "      198    0.000    0.000    0.001    0.000 iostream.py:238(_flush_buffer)\n",
      "       72    0.000    0.000    0.697    0.010 FEE2.py:187(FEENoise)\n",
      "       36    0.000    0.000    0.001    0.000 function_base.py:1518(diff)\n",
      "      255    0.000    0.000    0.003    0.000 fromnumeric.py:1892(any)\n",
      "      253    0.000    0.000    0.001    0.000 fromnumeric.py:1383(ravel)\n",
      "      198    0.000    0.000    0.000    0.000 iostream.py:247(_new_buffer)\n",
      "      198    0.000    0.000    0.000    0.000 {method 'isoformat' of 'datetime.datetime' objects}\n",
      "       36    0.000    0.000    0.001    0.000 windows.py:1610(get_window)\n",
      "      198    0.000    0.000    0.002    0.000 session.py:206(msg_header)\n",
      "      212    0.000    0.000    0.000    0.000 {method 'write' of '_io.StringIO' objects}\n",
      "      177    0.000    0.000    0.001    0.000 file.py:382(register_node)\n",
      "      432    0.000    0.000    0.001    0.000 fromnumeric.py:1619(compress)\n",
      "       62    0.000    0.000    0.005    0.000 attributeset.py:375(_g__setattr)\n",
      "      792    0.000    0.000    0.002    0.000 hmac.py:83(update)\n",
      "      121    0.000    0.000    0.001    0.000 atom.py:116(_normalize_shape)\n",
      "      594    0.000    0.000    0.000    0.000 {method 'copy' of '_hashlib.HASH' objects}\n",
      "      246    0.000    0.000    0.002    0.000 attributeset.py:61(issysattrname)\n",
      "      216    0.000    0.000    0.055    0.000 filter_design.py:1824(butter)\n",
      "       36    0.000    0.000    0.201    0.006 SPE.py:91(SpePulseFromVectorPE)\n",
      "        5    0.000    0.000    0.002    0.000 description.py:443(__init__)\n",
      "      192    0.000    0.000    0.000    0.000 weakref.py:88(__contains__)\n",
      "       99    0.000    0.000    0.005    0.000 __init__.py:1246(makeRecord)\n",
      "       36    0.000    0.000    0.262    0.007 FEE2.py:131(Filter)\n",
      "      297    0.000    0.000    0.000    0.000 threading.py:1143(currentThread)\n",
      "        9    0.000    0.000    0.000    0.000 table.py:3161(__init__)\n",
      "       71    0.000    0.000    0.002    0.000 attributeset.py:282(__getattr__)\n",
      "      198    0.000    0.000    0.001    0.000 hmac.py:119(hexdigest)\n",
      "        2    0.000    0.000    0.001    0.000 {method '_open_array' of 'tables.hdf5extension.Array' objects}\n",
      "      198    0.000    0.000    0.002    0.000 __init__.py:715(format)\n",
      "       99    0.000    0.000    0.000    0.000 __init__.py:148(getLevelName)\n",
      "     1356    0.000    0.000    0.000    0.000 {issubclass}\n",
      "       21    0.000    0.000    0.020    0.001 node.py:203(__init__)\n",
      "       99    0.000    0.000    0.096    0.001 __init__.py:1280(handle)\n",
      "      217    0.000    0.000    0.000    0.000 group.py:843(__setattr__)\n",
      "      792    0.000    0.000    0.000    0.000 threading.py:64(_note)\n",
      "        1    0.000    0.000    0.000    0.000 {method 'read' of 'pandas.parser.TextReader' objects}\n",
      "        1    0.000    0.000    0.000    0.000 parsers.py:1197(__init__)\n",
      "      471    0.000    0.000    0.000    0.000 description.py:677(_f_walk)\n",
      "       72    0.000    0.000    0.000    0.000 {numpy.core.multiarray.where}\n",
      "       99    0.000    0.000    0.000    0.000 __init__.py:1352(isEnabledFor)\n",
      "     1116    0.000    0.000    0.000    0.000 {method 'lower' of 'str' objects}\n",
      "      198    0.000    0.000    0.000    0.000 __init__.py:312(getMessage)\n",
      "      220    0.000    0.000    0.002    0.000 fromnumeric.py:1875(alltrue)\n",
      "      247    0.000    0.000    0.000    0.000 encoder.py:37(replace)\n",
      "      198    0.000    0.000    0.000    0.000 {locals}\n",
      "      198    0.000    0.000    0.001    0.000 jsonutil.py:75(date_default)\n",
      "       20    0.000    0.000    0.003    0.000 attributeset.py:200(__init__)\n",
      "      256    0.000    0.000    0.002    0.000 {method 'any' of 'numpy.ndarray' objects}\n",
      "      212    0.000    0.000    0.001    0.000 utf_8.py:15(decode)\n",
      "  159/155    0.000    0.000    0.010    0.000 file.py:408(get_node)\n",
      "      198    0.000    0.000    0.001    0.000 hmac.py:100(_current)\n",
      "      681    0.000    0.000    0.003    0.000 _methods.py:34(_prod)\n",
      "     1188    0.000    0.000    0.000    0.000 {thread.get_ident}\n",
      "      198    0.000    0.000    0.000    0.000 __init__.py:446(usesTime)\n",
      "      354    0.000    0.000    0.000    0.000 {method 'rfind' of 'str' objects}\n",
      "      297    0.000    0.000    0.000    0.000 __init__.py:599(filter)\n",
      "      198    0.000    0.000    0.000    0.000 {method 'digest' of '_hashlib.HASH' objects}\n",
      "       91    0.000    0.000    0.002    0.000 atom.py:409(from_kind)\n",
      "      175    0.000    0.000    0.001    0.000 file.py:395(cache_node)\n",
      "      121    0.000    0.000    0.000    0.000 atom.py:139(_normalize_default)\n",
      "        9    0.000    0.000    0.016    0.002 table.py:705(__init__)\n",
      "      198    0.000    0.000    0.000    0.000 {method 'acquire' of 'thread.lock' objects}\n",
      "       36    0.000    0.000    0.200    0.006 signaltools.py:392(convolve)\n",
      "      432    0.000    0.000    0.000    0.000 {method 'index' of 'str' objects}\n",
      "      626    0.000    0.000    0.000    0.000 {method 'sort' of 'list' objects}\n",
      "        5    0.000    0.000    0.000    0.000 {method '_close_append' of 'tables.tableextension.Table' objects}\n",
      "      324    0.000    0.000    0.000    0.000 filter_design.py:1503(_relative_degree)\n",
      "      252    0.000    0.000    0.001    0.000 type_check.py:107(real)\n",
      "       36    0.000    0.000    0.000    0.000 numeric.py:2064(isscalar)\n",
      "        2    0.000    0.000    0.004    0.002 file.py:748(__init__)\n",
      "       99    0.000    0.000    0.000    0.000 __init__.py:70(<lambda>)\n",
      "      212    0.000    0.000    0.000    0.000 {method 'pop' of 'tables.lrucacheextension.NodeCache' objects}\n",
      "       41    0.000    0.000    0.000    0.000 {method '__reduce_ex__' of 'object' objects}\n",
      "        5    0.000    0.000    0.000    0.000 {print}\n",
      "      198    0.000    0.000    0.000    0.000 {method 'hexdigest' of '_hashlib.HASH' objects}\n",
      "       13    0.000    0.000    0.010    0.001 group.py:697(_f_get_child)\n",
      "      220    0.000    0.000    0.001    0.000 {method 'all' of 'numpy.ndarray' objects}\n",
      "       36    0.000    0.000    0.600    0.017 FEE2.py:21(down_scale_signal_)\n",
      "      905    0.000    0.000    0.000    0.000 {posix.getpid}\n",
      "       99    0.000    0.000    0.000    0.000 posixpath.py:97(splitext)\n",
      "      216    0.000    0.000    0.000    0.000 fromnumeric.py:2659(size)\n",
      "      198    0.000    0.000    0.000    0.000 {method 'find' of 'str' objects}\n",
      "      256    0.000    0.000    0.002    0.000 _methods.py:37(_any)\n",
      "       72    0.000    0.000    0.000    0.000 {method 'tolist' of 'numpy.ndarray' objects}\n",
      "       99    0.000    0.000    0.000    0.000 posixpath.py:112(basename)\n",
      "      225    0.000    0.000    0.000    0.000 {max}\n",
      "       27    0.000    0.000    0.001    0.000 atom.py:565(_get_init_args)\n",
      "      255    0.000    0.000    0.000    0.000 {method 'ravel' of 'numpy.ndarray' objects}\n",
      "       99    0.000    0.000    0.000    0.000 {sys._getframe}\n",
      "        9    0.000    0.000    0.001    0.000 table.py:1142(_cache_description_data)\n",
      "        9    0.000    0.000    0.000    0.000 earray.py:175(_check_shape_append)\n",
      "       18    0.000    0.000    0.000    0.000 {method 'format' of 'str' objects}\n",
      "        9    0.000    0.000    0.112    0.012 earray.py:193(append)\n",
      "      216    0.000    0.000    0.000    0.000 {method 'copy' of 'numpy.ndarray' objects}\n",
      "        4    0.000    0.000    0.000    0.000 {tables.utilsextension.get_filters}\n",
      "        5    0.000    0.000    0.009    0.002 table.py:1027(_g_create)\n",
      "       27    0.000    0.000    0.000    0.000 inspect.py:744(getargs)\n",
      "      424    0.000    0.000    0.000    0.000 {method 'startswith' of 'str' objects}\n",
      "      551    0.000    0.000    0.000    0.000 {method 'get' of 'dict' objects}\n",
      "      198    0.000    0.000    0.000    0.000 {method 'close' of '_io.StringIO' objects}\n",
      "       39    0.000    0.000    0.000    0.000 fromnumeric.py:1743(sum)\n",
      "       12    0.000    0.000    0.001    0.000 group.py:502(_g_refnode)\n",
      "        9    0.000    0.000    0.001    0.000 table.py:875(_g_post_init_hook)\n",
      "      163    0.000    0.000    0.000    0.000 {method 'match' of '_sre.SRE_Pattern' objects}\n",
      "      398    0.000    0.000    0.000    0.000 {method 'extend' of 'list' objects}\n",
      "       36    0.000    0.000    0.001    0.000 fromnumeric.py:1843(product)\n",
      "       41    0.000    0.000    0.000    0.000 copy.py:306(_reconstruct)\n",
      "       21    0.000    0.000    0.001    0.000 node.py:355(_g_set_location)\n",
      "      102    0.000    0.000    0.002    0.000 atom.py:668(__init__)\n",
      "       36    0.000    0.000    0.500    0.014 signaltools.py:957(<lambda>)\n",
      "      108    0.000    0.000    0.000    0.000 {numpy.core.multiarray.result_type}\n",
      "       99    0.000    0.000    0.000    0.000 __init__.py:1338(getEffectiveLevel)\n",
      "      432    0.000    0.000    0.000    0.000 {method 'sort' of 'numpy.ndarray' objects}\n",
      "      311    0.000    0.000    0.000    0.000 {time.time}\n",
      "      200    0.000    0.000    0.000    0.000 {method 'upper' of 'str' objects}\n",
      "       27    0.000    0.000    0.001    0.000 description.py:108(from_atom)\n",
      "       45    0.000    0.000    0.000    0.000 atom.py:55(split_type)\n",
      "       99    0.000    0.000    0.000    0.000 genericpath.py:93(_splitext)\n",
      "        4    0.000    0.000    0.000    0.000 {method '_g_create' of 'tables.hdf5extension.Group' objects}\n",
      "      198    0.000    0.000    0.000    0.000 threading.py:974(ident)\n",
      "       36    0.000    0.000    0.001    0.000 shape_base.py:232(hstack)\n",
      "        3    0.000    0.000    0.000    0.000 arrayprint.py:543(fillFormat)\n",
      "        4    0.000    0.000    0.589    0.147 table.py:2904(_g_copy_rows_optim)\n",
      "  134/129    0.000    0.000    0.004    0.000 utils.py:240(newfget)\n",
      "      220    0.000    0.000    0.001    0.000 _methods.py:40(_all)\n",
      "        5    0.000    0.000    0.000    0.000 table.py:596(row)\n",
      "  173/169    0.000    0.000    0.011    0.000 file.py:1549(_get_node)\n",
      "       53    0.000    0.000    0.000    0.000 path.py:69(check_name_validity)\n",
      "       99    0.000    0.000    0.000    0.000 threading.py:958(name)\n",
      "       36    0.000    0.000    0.000    0.000 {method 'take' of 'numpy.ndarray' objects}\n",
      "       27    0.000    0.000    0.000    0.000 inspect.py:804(getargspec)\n",
      "        5    0.000    0.000    0.000    0.000 {method '_g_open' of 'tables.hdf5extension.Group' objects}\n",
      "       43    0.000    0.000    0.001    0.000 group.py:394(_g_check_has_child)\n",
      "    14/10    0.000    0.000    0.009    0.001 group.py:1174(_g_load_child)\n",
      "        7    0.000    0.000    0.000    0.000 leaf.py:320(_calc_chunkshape)\n",
      "      198    0.000    0.000    0.000    0.000 {method 'count' of 'list' objects}\n",
      "       41    0.000    0.000    0.001    0.000 copy.py:66(copy)\n",
      "      136    0.000    0.000    0.000    0.000 table.py:3222(_g_col)\n",
      "        9    0.000    0.000    0.000    0.000 {method '_g_new' of 'tables.hdf5extension.Node' objects}\n",
      "      198    0.000    0.000    0.000    0.000 {method 'getvalue' of '_io.StringIO' objects}\n",
      "       62    0.000    0.000    0.002    0.000 atom.py:354(from_dtype)\n",
      "      198    0.000    0.000    0.000    0.000 hmac.py:30(__init__)\n",
      "       45    0.000    0.000    0.001    0.000 atom.py:382(from_type)\n",
      "        2    0.000    0.000    0.000    0.000 frame.py:5244(extract_index)\n",
      "      123    0.000    0.000    0.001    0.000 attributeset.py:193(_g_getnode)\n",
      "      198    0.000    0.000    0.000    0.000 {method 'release' of 'thread.lock' objects}\n",
      "       23    0.000    0.000    0.000    0.000 weakref.py:105(__setitem__)\n",
      "       29    0.000    0.000    0.000    0.000 path.py:122(join_path)\n",
      "        9    0.000    0.000    0.000    0.000 table.py:3343(_g_close)\n",
      "       23    0.000    0.000    0.000    0.000 node.py:439(_g_del_location)\n",
      "        1    0.000    0.000    0.001    0.001 internals.py:4007(form_blocks)\n",
      "        1    0.000    0.000    0.001    0.001 FEParam.py:95(print_FEE)\n",
      "       25    0.000    0.000    0.001    0.000 node.py:482(_f_close)\n",
      "        5    0.000    0.000    0.000    0.000 description.py:599(_g_set_path_names)\n",
      "      309    0.000    0.000    0.000    0.000 weakref.py:76(__getitem__)\n",
      "        9    0.000    0.000    0.007    0.001 utils.py:121(convert_to_np_atom2)\n",
      "      247    0.000    0.000    0.000    0.000 {method 'group' of '_sre.SRE_Match' objects}\n",
      "      142    0.000    0.000    0.000    0.000 generic.py:7(_check)\n",
      "        4    0.000    0.000    0.005    0.001 table.py:1083(_g_open)\n",
      "        5    0.000    0.000    0.000    0.000 {method '_g_list_group' of 'tables.hdf5extension.Group' objects}\n",
      "       36    0.000    0.000    0.001    0.000 {method 'min' of 'numpy.ndarray' objects}\n",
      "       30    0.000    0.000    0.000    0.000 generic.py:2674(__setattr__)\n",
      "      3/2    0.000    0.000    0.000    0.000 base.py:124(__new__)\n",
      "       19    0.000    0.000    0.000    0.000 atom.py:609(__init__)\n",
      "        5    0.000    0.000    0.003    0.001 carray.py:133(__init__)\n",
      "       23    0.000    0.000    0.000    0.000 weakref.py:277(__new__)\n",
      "       41    0.000    0.000    0.000    0.000 atom.py:483(<lambda>)\n",
      "       10    0.000    0.000    0.000    0.000 common.py:1011(_possibly_cast_to_datetime)\n",
      "       20    0.000    0.000    0.003    0.000 node.py:166(_v_attrs)\n",
      "        9    0.000    0.000    0.007    0.001 utils.py:90(convert_to_np_atom)\n",
      "       17    0.000    0.000    0.000    0.000 file.py:1561(get_node)\n",
      "       10    0.000    0.000    0.000    0.000 internals.py:3312(iget)\n",
      "       36    0.000    0.000    0.000    0.000 {method 'put' of 'numpy.ndarray' objects}\n",
      "       12    0.000    0.000    0.000    0.000 arrayprint.py:594(__call__)\n",
      "       20    0.000    0.000    0.000    0.000 {method '_g_list_attr' of 'tables.hdf5extension.AttributeSet' objects}\n",
      "       68    0.000    0.000    0.000    0.000 table.py:3487(__init__)\n",
      "        8    0.000    0.000    0.005    0.001 file.py:499(_close_nodes)\n",
      "      200    0.000    0.000    0.000    0.000 {method 'copy' of 'dict' objects}\n",
      "        3    0.000    0.000    0.000    0.000 {method '_g_get_gchild_attr' of 'tables.hdf5extension.Group' objects}\n",
      "       27    0.000    0.000    0.000    0.000 description.py:196(__init__)\n",
      "        7    0.000    0.000    0.000    0.000 {posix.access}\n",
      "       45    0.000    0.000    0.000    0.000 dtypes.py:74(is_dtype)\n",
      "       14    0.000    0.000    0.018    0.001 leaf.py:231(__init__)\n",
      "        1    0.000    0.000    0.003    0.003 parsers.py:416(parser_f)\n",
      "       10    0.000    0.000    0.000    0.000 base.py:1957(get_value)\n",
      "       99    0.000    0.000    0.000    0.000 process.py:59(current_process)\n",
      "       10    0.000    0.000    0.000    0.000 common.py:1111(_possibly_infer_to_datetimelike)\n",
      "      124    0.000    0.000    0.000    0.000 {built-in method __new__ of type object at 0x107f24c18}\n",
      "       14    0.000    0.000    0.000    0.000 leaf.py:297(_g_post_init_hook)\n",
      "        4    0.000    0.000    0.597    0.149 leaf.py:428(_g_copy)\n",
      "       12    0.000    0.000    0.000    0.000 {pandas.lib.infer_dtype}\n",
      "       99    0.000    0.000    0.000    0.000 process.py:161(name)\n",
      "        9    0.000    0.000    0.002    0.000 group.py:240(_g_post_init_hook)\n",
      "        9    0.000    0.000    0.000    0.000 table.py:950(_calc_nrowsinbuf)\n",
      "       10    0.000    0.000    0.000    0.000 series.py:120(__init__)\n",
      "       18    0.000    0.000    0.000    0.000 table.py:1007(_get_type_col_names)\n",
      "        5    0.000    0.000    0.000    0.000 group.py:346(_g_add_children_names)\n",
      "       30    0.000    0.000    0.000    0.000 numeric.py:2576(seterr)\n",
      "        2    0.000    0.000    0.000    0.000 group.py:1132(__init__)\n",
      "        8    0.000    0.000    0.000    0.000 array.py:113(_getrowsize)\n",
      "       10    0.000    0.000    0.001    0.000 series.py:2787(_sanitize_array)\n",
      "       23    0.000    0.000    0.000    0.000 weakref.py:282(__init__)\n",
      "       18    0.000    0.000    0.010    0.001 group.py:825(__getattr__)\n",
      "       14    0.000    0.000    0.004    0.000 leaf.py:733(_f_close)\n",
      "        6    0.000    0.000    0.001    0.000 group.py:306(_g_get_child_leaf_class)\n",
      "        4    0.000    0.000    0.596    0.149 table.py:2942(_g_copy_with_stats)\n",
      "        2    0.000    0.000    0.005    0.003 file.py:530(close_subtree)\n",
      "        1    0.000    0.000    0.003    0.003 parsers.py:272(_read)\n",
      "       42    0.000    0.000    0.000    0.000 {pandas.lib.values_from_object}\n",
      "       16    0.000    0.000    0.000    0.000 group.py:426(__contains__)\n",
      "       12    0.000    0.000    0.000    0.000 internals.py:2482(make_block)\n",
      "        1    0.000    0.000    0.001    0.001 arrayprint.py:237(_array2string)\n",
      "        3    0.000    0.000    0.001    0.000 earray.py:155(_g_create)\n",
      "        1    0.000    0.000    0.007    0.007 Configure.py:59(configure)\n",
      "        6    0.000    0.000    0.001    0.000 arrayprint.py:340(array2string)\n",
      "        2    0.000    0.000    0.000    0.000 file.py:364(__init__)\n",
      "       20    0.000    0.000    0.000    0.000 base.py:1233(__contains__)\n",
      "      198    0.000    0.000    0.000    0.000 py3compat.py:12(no_code)\n",
      "        1    0.000    0.000    0.000    0.000 <ipython-input-95-77283bf68e53>:1(FEE_param_table)\n",
      "       36    0.000    0.000    0.000    0.000 _methods.py:28(_amin)\n",
      "       30    0.000    0.000    0.000    0.000 path.py:154(split_path)\n",
      "        2    0.000    0.000    0.000    0.000 file.py:837(__get_root_group)\n",
      "        2    0.000    0.000    0.018    0.009 file.py:2703(close)\n",
      "       10    0.000    0.000    0.000    0.000 internals.py:3283(get)\n",
      "        1    0.000    0.000    0.000    0.000 {pandas.lib.clean_index_list}\n",
      "       10    0.000    0.000    0.001    0.000 generic.py:1345(_get_item_cache)\n",
      "        7    0.000    0.000    0.002    0.000 group.py:207(__init__)\n",
      "        1    0.000    0.000    0.002    0.002 frame.py:307(_init_dict)\n",
      "        4    0.000    0.000    0.000    0.000 filters.py:161(_from_leaf)\n",
      "        9    0.000    0.000    0.000    0.000 table.py:633(_v_wdflts)\n",
      "        9    0.000    0.000    0.000    0.000 flavor.py:181(flavor_of)\n",
      "        2    0.000    0.000    0.004    0.002 file.py:222(open_file)\n",
      "       10    0.000    0.000    0.000    0.000 series.py:270(_set_axis)\n",
      "       30    0.000    0.000    0.000    0.000 common.py:1763(is_list_like)\n",
      "       36    0.000    0.000    0.000    0.000 {method 'max' of 'numpy.ndarray' objects}\n",
      "        1    0.000    0.000    0.001    0.001 Configure.py:10(cdf_to_dict)\n",
      "       25    0.000    0.000    0.000    0.000 weakref.py:199(pop)\n",
      "        5    0.000    0.000    0.000    0.000 description.py:579(_g_set_nested_names_descr)\n",
      "        1    0.000    0.000    0.000    0.000 parsers.py:1312(read)\n",
      "       25    0.000    0.000    0.000    0.000 node.py:849(_g_check_group)\n",
      "        2    0.000    0.000    0.000    0.000 internals.py:4168(_stack_arrays)\n",
      "       30    0.000    0.000    0.000    0.000 numeric.py:2676(geterr)\n",
      "       12    0.000    0.000    0.000    0.000 internals.py:191(mgr_locs)\n",
      "       12    0.000    0.000    0.000    0.000 internals.py:77(__init__)\n",
      "      139    0.000    0.000    0.000    0.000 atom.py:136(<genexpr>)\n",
      "        9    0.000    0.000    0.000    0.000 {method '_g_close_group' of 'tables.hdf5extension.Group' objects}\n",
      "        9    0.000    0.000    0.000    0.000 flavor.py:366(conv_to_numpy)\n",
      "       87    0.000    0.000    0.000    0.000 {method 'endswith' of 'str' objects}\n",
      "       10    0.000    0.000    0.000    0.000 internals.py:3778(__init__)\n",
      "      100    0.000    0.000    0.000    0.000 {method 'pop' of 'list' objects}\n",
      "       11    0.000    0.000    0.000    0.000 group.py:906(_g_close)\n",
      "        9    0.000    0.000    0.000    0.000 table.py:1016(_get_enum_map)\n",
      "        9    0.000    0.000    0.000    0.000 table.py:3003(flush)\n",
      "        7    0.000    0.000    0.000    0.000 leaf.py:50(calc_chunksize)\n",
      "        1    0.000    0.000    0.000    0.000 internals.py:2674(_rebuild_blknos_and_blklocs)\n",
      "       24    0.000    0.000    0.000    0.000 range.py:435(__len__)\n",
      "       10    0.000    0.000    0.001    0.000 frame.py:1973(__getitem__)\n",
      "        1    0.000    0.000    0.000    0.000 parsers.py:653(_get_options_with_defaults)\n",
      "      146    0.000    0.000    0.000    0.000 {method 'split' of 'str' objects}\n",
      "       10    0.000    0.000    0.000    0.000 numeric.py:133(_convert_scalar_indexer)\n",
      "      102    0.000    0.000    0.000    0.000 {method 'isupper' of 'str' objects}\n",
      "        3    0.000    0.000    0.000    0.000 common.py:1380(_asarray_tuplesafe)\n",
      "       36    0.000    0.000    0.000    0.000 _methods.py:25(_amax)\n",
      "        5    0.000    0.000    0.000    0.000 filters.py:245(_pack)\n",
      "       11    0.000    0.000    0.000    0.000 generic.py:94(__init__)\n",
      "        4    0.000    0.000    0.000    0.000 {posix.stat}\n",
      "        1    0.000    0.000    0.001    0.001 frame.py:5521(_homogenize)\n",
      "       10    0.000    0.000    0.000    0.000 series.py:580(__getitem__)\n",
      "        2    0.000    0.000    0.000    0.000 weakref.py:47(__init__)\n",
      "       14    0.000    0.000    0.000    0.000 {method '_g_new' of 'tables.hdf5extension.Leaf' objects}\n",
      "       10    0.000    0.000    0.000    0.000 {method 'get_value' of 'pandas.index.IndexEngine' objects}\n",
      "       39    0.000    0.000    0.000    0.000 _methods.py:31(_sum)\n",
      "        4    0.000    0.000    0.597    0.149 node.py:745(_f_copy)\n",
      "        3    0.000    0.000    0.001    0.000 carray.py:223(_g_create_common)\n",
      "       20    0.000    0.000    0.000    0.000 base.py:1915(get_loc)\n",
      "        6    0.000    0.000    0.000    0.000 weakref.py:162(iterkeys)\n",
      "       24    0.000    0.000    0.000    0.000 proxydict.py:42(__setitem__)\n",
      "       82    0.000    0.000    0.000    0.000 atom.py:585(<genexpr>)\n",
      "        5    0.000    0.000    0.000    0.000 leaf.py:360(_calc_nrowsinbuf)\n",
      "       24    0.000    0.000    0.000    0.000 arrayprint.py:628(_digits)\n",
      "      5/2    0.000    0.000    0.000    0.000 utils.py:140(check_file_access)\n",
      "       18    0.000    0.000    0.000    0.000 base.py:3381(_ensure_index)\n",
      "        9    0.000    0.000    0.002    0.000 table.py:3063(_f_close)\n",
      "      139    0.000    0.000    0.000    0.000 atom.py:502(<genexpr>)\n",
      "       10    0.000    0.000    0.000    0.000 base.py:972(_convert_scalar_indexer)\n",
      "        1    0.000    0.000    0.000    0.000 arrayprint.py:458(_formatArray)\n",
      "       21    0.000    0.000    0.000    0.000 file.py:2147(_check_writable)\n",
      "       48    0.000    0.000    0.000    0.000 file.py:2128(_check_open)\n",
      "        2    0.000    0.000    0.000    0.000 range.py:42(__new__)\n",
      "       23    0.000    0.000    0.000    0.000 common.py:1710(is_datetimetz)\n",
      "        6    0.000    0.000    0.000    0.000 filters.py:275(__init__)\n",
      "       47    0.000    0.000    0.000    0.000 leaf.py:147(<lambda>)\n",
      "       17    0.000    0.000    0.000    0.000 node.py:157(_g_getparent)\n",
      "       10    0.000    0.000    0.000    0.000 frame.py:2331(_box_item_values)\n",
      "       43    0.000    0.000    0.000    0.000 {method 'update' of 'dict' objects}\n",
      "        9    0.000    0.000    0.000    0.000 flavor.py:199(array_of_flavor)\n",
      "       41    0.000    0.000    0.000    0.000 copy_reg.py:92(__newobj__)\n",
      "       30    0.000    0.000    0.000    0.000 proxydict.py:25(__init__)\n",
      "       22    0.000    0.000    0.000    0.000 common.py:1736(is_categorical_dtype)\n",
      "        1    0.000    0.000    0.000    0.000 internals.py:2578(__init__)\n",
      "        3    0.000    0.000    0.002    0.001 file.py:1256(create_earray)\n",
      "        9    0.000    0.000    0.000    0.000 flavor.py:355(_is_numpy)\n",
      "       27    0.000    0.000    0.000    0.000 atom.py:321(prefix)\n",
      "        5    0.000    0.000    0.003    0.001 earray.py:137(__init__)\n",
      "       10    0.000    0.000    0.000    0.000 series.py:2804(_try_cast)\n",
      "        1    0.000    0.000    0.000    0.000 getopt.py:51(getopt)\n",
      "        9    0.000    0.000    0.000    0.000 flavor.py:111(array_of_flavor2)\n",
      "        2    0.000    0.000    0.000    0.000 numeric.py:607(require)\n",
      "        4    0.000    0.000    0.002    0.000 file.py:917(create_group)\n",
      "        2    0.000    0.000    0.000    0.000 common.py:1226(_default_index)\n",
      "       10    0.000    0.000    0.000    0.000 common.py:1717(is_extension_type)\n",
      "       14    0.000    0.000    0.000    0.000 {math.log10}\n",
      "       36    0.000    0.000    0.000    0.000 FEParam.py:59(spe_i_to_v)\n",
      "       99    0.000    0.000    0.000    0.000 posixpath.py:44(normcase)\n",
      "        1    0.000    0.000    0.000    0.000 parsers.py:883(__init__)\n",
      "       10    0.000    0.000    0.000    0.000 frame.py:2338(_box_col_values)\n",
      "        9    0.000    0.000    0.000    0.000 flavor.py:378(_conv_numpy_to_numpy)\n",
      "       10    0.000    0.000    0.000    0.000 base.py:1247(__getitem__)\n",
      "       68    0.000    0.000    0.000    0.000 table.py:3834(close)\n",
      "        2    0.000    0.000    0.000    0.000 urlparse.py:137(urlparse)\n",
      "        1    0.000    0.000    0.000    0.000 arrayprint.py:635(__init__)\n",
      "      122    0.000    0.000    0.000    0.000 {method 'pop' of 'dict' objects}\n",
      "        3    0.000    0.000    0.000    0.000 arrayprint.py:529(__init__)\n",
      "       20    0.000    0.000    0.000    0.000 {method 'get_loc' of 'pandas.index.IndexEngine' objects}\n",
      "       10    0.000    0.000    0.000    0.000 internals.py:3914(get_values)\n",
      "        9    0.000    0.000    0.000    0.000 group.py:271(__del__)\n",
      "        5    0.000    0.000    0.000    0.000 file.py:2024(__contains__)\n",
      "       45    0.000    0.000    0.000    0.000 {method 'groups' of '_sre.SRE_Match' objects}\n",
      "       21    0.000    0.000    0.000    0.000 file.py:2140(_iswritable)\n",
      "        1    0.000    0.000    0.000    0.000 parsers.py:603(__init__)\n",
      "        6    0.000    0.000    0.000    0.000 internals.py:1657(__init__)\n",
      "       10    0.000    0.000    0.000    0.000 series.py:236(from_array)\n",
      "       45    0.000    0.000    0.000    0.000 {divmod}\n",
      "        2    0.000    0.000    0.000    0.000 file.py:108(add)\n",
      "       36    0.000    0.000    0.000    0.000 FEParam.py:62(spe_i_to_adc)\n",
      "        1    0.000    0.000    0.000    0.000 internals.py:4136(_multi_blockify)\n",
      "        9    0.000    0.000    0.000    0.000 utils.py:393(__init__)\n",
      "       27    0.000    0.000    0.000    0.000 inspect.py:67(ismethod)\n",
      "       10    0.000    0.000    0.000    0.000 generic.py:1359(_set_as_cached)\n",
      "       10    0.000    0.000    0.000    0.000 series.py:302(name)\n",
      "       16    0.000    0.000    0.000    0.000 common.py:1731(is_categorical)\n",
      "        2    0.000    0.000    0.000    0.000 range.py:117(_simple_new)\n",
      "       23    0.000    0.000    0.000    0.000 file.py:447(drop_from_cache)\n",
      "        2    0.000    0.000    0.001    0.000 array.py:233(_g_open)\n",
      "        2    0.000    0.000    0.000    0.000 parsers.py:1016(_maybe_make_multi_index_columns)\n",
      "       16    0.000    0.000    0.000    0.000 file.py:2167(is_undo_enabled)\n",
      "       36    0.000    0.000    0.000    0.000 {method 'remove' of 'list' objects}\n",
      "        1    0.000    0.000    0.000    0.000 parsers.py:683(_clean_options)\n",
      "        1    0.000    0.000    0.000    0.000 {eval}\n",
      "        1    0.000    0.000    0.003    0.003 parsers.py:810(read)\n",
      "       10    0.000    0.000    0.000    0.000 internals.py:183(make_block_same_class)\n",
      "        1    0.000    0.000    0.000    0.000 {tables.utilsextension.read_f_attr}\n",
      "        1    0.000    0.000    0.002    0.002 frame.py:210(__init__)\n",
      "        4    0.000    0.000    0.000    0.000 leaf.py:174(filters)\n",
      "       12    0.000    0.000    0.046    0.004 leaf.py:721(flush)\n",
      "       11    0.000    0.000    0.000    0.000 frame.py:321(<genexpr>)\n",
      "       10    0.000    0.000    0.001    0.000 frame.py:1999(_getitem_column)\n",
      "       10    0.000    0.000    0.000    0.000 generic.py:2658(__getattr__)\n",
      "       12    0.000    0.000    0.000    0.000 path.py:179(isvisiblename)\n",
      "       53    0.000    0.000    0.000    0.000 {method '__contains__' of 'frozenset' objects}\n",
      "        1    0.000    0.000    0.000    0.000 internals.py:2799(_verify_integrity)\n",
      "       10    0.000    0.000    0.000    0.000 series.py:306(name)\n",
      "       12    0.000    0.000    0.000    0.000 file.py:878(_get_or_create_path)\n",
      "        4    0.000    0.000    0.597    0.149 table.py:2971(copy)\n",
      "        1    0.000    0.000    0.000    0.000 parsers.py:860(_validate_parse_dates_arg)\n",
      "        7    0.000    0.000    0.000    0.000 leaf.py:30(csformula)\n",
      "        5    0.000    0.000    0.000    0.000 {method '_flush_buffered_rows' of 'tables.tableextension.Row' objects}\n",
      "        4    0.000    0.000    0.000    0.000 table.py:115(_index_pathname_of)\n",
      "        4    0.000    0.000    0.000    0.000 dtypes.py:122(construct_from_string)\n",
      "       20    0.000    0.000    0.000    0.000 leaf.py:358(<genexpr>)\n",
      "       10    0.000    0.000    0.000    0.000 internals.py:3884(dtype)\n",
      "       20    0.000    0.000    0.000    0.000 common.py:1846(_apply_if_callable)\n",
      "       15    0.000    0.000    0.000    0.000 numeric.py:2967(__enter__)\n",
      "       16    0.000    0.000    0.000    0.000 {method 'view' of 'numpy.ndarray' objects}\n",
      "        6    0.000    0.000    0.000    0.000 base.py:440(values)\n",
      "       21    0.000    0.000    0.000    0.000 table.py:616(<lambda>)\n",
      "        1    0.000    0.000    0.001    0.001 internals.py:3996(create_block_manager_from_arrays)\n",
      "        3    0.000    0.000    0.000    0.000 group.py:288(_g_get_child_group_class)\n",
      "       61    0.000    0.000    0.000    0.000 {method 'rstrip' of 'str' objects}\n",
      "       10    0.000    0.000    0.000    0.000 common.py:986(_possibly_castable)\n",
      "       15    0.000    0.000    0.000    0.000 numeric.py:2963(__init__)\n",
      "       10    0.000    0.000    0.000    0.000 internals.py:4171(_asarray_compat)\n",
      "       30    0.000    0.000    0.000    0.000 {numpy.core.umath.seterrobj}\n",
      "        1    0.000    0.000    0.000    0.000 common.py:290(get_filepath_or_buffer)\n",
      "       10    0.000    0.000    0.000    0.000 common.py:1788(is_hashable)\n",
      "        1    0.000    0.000    0.000    0.000 common.py:186(_is_url)\n",
      "        2    0.000    0.000    0.000    0.000 base.py:1143(_engine)\n",
      "        6    0.000    0.000    0.001    0.000 numeric.py:1835(array_str)\n",
      "        1    0.000    0.000    0.001    0.001 frame.py:5224(_arrays_to_mgr)\n",
      "        2    0.000    0.000    0.000    0.000 base.py:309(_simple_new)\n",
      "       10    0.000    0.000    0.000    0.000 internals.py:3911(internal_values)\n",
      "       27    0.000    0.000    0.000    0.000 inspect.py:142(isfunction)\n",
      "        3    0.000    0.000    0.000    0.000 internals.py:2619(shape)\n",
      "        2    0.000    0.000    0.000    0.000 file.py:559(shutdown)\n",
      "       15    0.000    0.000    0.000    0.000 leaf.py:188(_getmaindim)\n",
      "       46    0.000    0.000    0.000    0.000 table.py:895(<genexpr>)\n",
      "       20    0.000    0.000    0.000    0.000 atom.py:604(<lambda>)\n",
      "        4    0.000    0.000    0.000    0.000 attributeset.py:591(_g_copy)\n",
      "       23    0.000    0.000    0.000    0.000 common.py:1575(is_datetime64tz_dtype)\n",
      "        1    0.000    0.000    0.000    0.000 parsers.py:797(_make_engine)\n",
      "       27    0.000    0.000    0.000    0.000 inspect.py:209(iscode)\n",
      "        2    0.000    0.000    0.000    0.000 genericpath.py:34(isfile)\n",
      "       15    0.000    0.000    0.000    0.000 numeric.py:2972(__exit__)\n",
      "        1    0.000    0.000    0.000    0.000 common.py:272(array_equivalent)\n",
      "       30    0.000    0.000    0.000    0.000 internals.py:3824(_block)\n",
      "       12    0.000    0.000    0.000    0.000 arrayprint.py:450(_extendLine)\n",
      "        4    0.000    0.000    0.000    0.000 numeric.py:676(<genexpr>)\n",
      "       12    0.000    0.000    0.000    0.000 {method 'insert' of 'list' objects}\n",
      "        3    0.000    0.000    0.000    0.000 getopt.py:202(short_has_arg)\n",
      "        9    0.000    0.000    0.000    0.000 table.py:1001(_get_container)\n",
      "        1    0.000    0.000    0.000    0.000 base.py:1507(equals)\n",
      "        2    0.000    0.000    0.005    0.003 group.py:898(_g_close_descendents)\n",
      "        4    0.000    0.000    0.000    0.000 _weakrefset.py:26(__exit__)\n",
      "        5    0.000    0.000    0.000    0.000 utils.py:40(correct_byteorder)\n",
      "       10    0.000    0.000    0.000    0.000 common.py:94(_isnull_new)\n",
      "       10    0.000    0.000    0.000    0.000 series.py:313(dtype)\n",
      "       20    0.000    0.000    0.000    0.000 {method '_g_new' of 'tables.hdf5extension.AttributeSet' objects}\n",
      "        1    0.000    0.000    0.000    0.000 __init__.py:1131(setLevel)\n",
      "        4    0.000    0.000    0.000    0.000 node.py:873(_g_maybe_remove)\n",
      "       23    0.000    0.000    0.000    0.000 node.py:293(__del__)\n",
      "        2    0.000    0.000    0.000    0.000 internals.py:276(ftype)\n",
      "       12    0.000    0.000    0.000    0.000 node.py:883(_g_check_name)\n",
      "       18    0.000    0.000    0.000    0.000 {method 'count' of 'str' objects}\n",
      "        5    0.000    0.000    0.000    0.000 description.py:608(get_cols_in_order)\n",
      "        2    0.000    0.000    0.000    0.000 file.py:120(get_handlers_by_name)\n",
      "       10    0.000    0.000    0.000    0.000 internals.py:301(iget)\n",
      "        3    0.000    0.000    0.000    0.000 group.py:180(_g_getfilters)\n",
      "        1    0.000    0.000    0.004    0.004 file.py:956(create_table)\n",
      "       10    0.000    0.000    0.000    0.000 series.py:366(_values)\n",
      "        2    0.000    0.000    0.000    0.000 base.py:1146(<lambda>)\n",
      "       10    0.000    0.000    0.000    0.000 base.py:2795(_maybe_cast_indexer)\n",
      "       20    0.000    0.000    0.000    0.000 common.py:1705(is_sparse)\n",
      "        1    0.000    0.000    0.000    0.000 {pandas.lib.list_to_object_array}\n",
      "       21    0.000    0.000    0.000    0.000 internals.py:2695(_get_items)\n",
      "        3    0.000    0.000    0.000    0.000 getopt.py:187(do_shorts)\n",
      "       10    0.000    0.000    0.000    0.000 internals.py:144(to_dense)\n",
      "       60    0.000    0.000    0.000    0.000 {numpy.core.umath.geterrobj}\n",
      "        2    0.000    0.000    0.000    0.000 <string>:8(__new__)\n",
      "       10    0.000    0.000    0.000    0.000 common.py:73(isnull)\n",
      "        8    0.000    0.000    0.000    0.000 {method 'index' of 'list' objects}\n",
      "        2    0.000    0.000    0.000    0.000 UserDict.py:4(__init__)\n",
      "        4    0.000    0.000    0.000    0.000 node.py:180(_g_gettitle)\n",
      "       11    0.000    0.000    0.000    0.000 atom.py:480(<lambda>)\n",
      "        1    0.000    0.000    0.000    0.000 {pandas.lib.array_equivalent_object}\n",
      "       10    0.000    0.000    0.000    0.000 {pandas.lib.checknull}\n",
      "       14    0.000    0.000    0.000    0.000 node.py:463(_g_post_init_hook)\n",
      "        2    0.000    0.000    0.000    0.000 stat.py:49(S_ISREG)\n",
      "       41    0.000    0.000    0.000    0.000 description.py:612(join_paths)\n",
      "        2    0.000    0.000    0.018    0.009 file.py:2760(__exit__)\n",
      "        1    0.000    0.000    0.000    0.000 common.py:245(_expand_user)\n",
      "        7    0.000    0.000    0.000    0.000 __init__.py:157(iteritems)\n",
      "        2    0.000    0.000    0.000    0.000 file.py:112(remove)\n",
      "        2    0.000    0.000    0.005    0.003 group.py:917(_f_close)\n",
      "        4    0.000    0.000    0.000    0.000 leaf.py:408(_process_range_read)\n",
      "        2    0.000    0.000    0.000    0.000 common.py:1696(is_bool_dtype)\n",
      "        8    0.000    0.000    0.000    0.000 {method 'remove' of 'set' objects}\n",
      "        2    0.000    0.000    0.000    0.000 base.py:1186(__iter__)\n",
      "        1    0.000    0.000    0.000    0.000 internals.py:3004(_consolidate_check)\n",
      "       20    0.000    0.000    0.000    0.000 {pandas.lib.is_float}\n",
      "        2    0.000    0.000    0.000    0.000 urlparse.py:168(urlsplit)\n",
      "        4    0.000    0.000    0.589    0.147 table.py:2876(_g_copy_rows)\n",
      "       32    0.000    0.000    0.000    0.000 {pandas.lib.isscalar}\n",
      "       12    0.000    0.000    0.000    0.000 carray.py:192(<genexpr>)\n",
      "        4    0.000    0.000    0.597    0.149 leaf.py:605(copy)\n",
      "        1    0.000    0.000    0.000    0.000 {sorted}\n",
      "       20    0.000    0.000    0.000    0.000 attributeset.py:651(_g_close)\n",
      "        9    0.000    0.000    0.000    0.000 file.py:177(_checkfilters)\n",
      "        4    0.000    0.000    0.000    0.000 base.py:403(_reset_identity)\n",
      "       13    0.000    0.000    0.000    0.000 {min}\n",
      "        4    0.000    0.000    0.000    0.000 _weakrefset.py:20(__enter__)\n",
      "       10    0.000    0.000    0.000    0.000 series.py:292(_set_subtyp)\n",
      "        8    0.000    0.000    0.000    0.000 {method 'add' of 'set' objects}\n",
      "       20    0.000    0.000    0.000    0.000 {method 'iteritems' of 'dict' objects}\n",
      "        4    0.000    0.000    0.000    0.000 attributeset.py:265(_f_list)\n",
      "       16    0.000    0.000    0.000    0.000 internals.py:160(mgr_locs)\n",
      "        1    0.000    0.000    0.000    0.000 parsers.py:1280(_set_noconvert_columns)\n",
      "       10    0.000    0.000    0.000    0.000 internals.py:129(internal_values)\n",
      "        1    0.000    0.000    0.000    0.000 parsers.py:1182(_do_date_conversions)\n",
      "        1    0.000    0.000    0.000    0.000 generic.py:813(keys)\n",
      "        7    0.000    0.000    0.000    0.000 leaf.py:40(limit_es)\n",
      "        6    0.000    0.000    0.000    0.000 base.py:409(__len__)\n",
      "        1    0.000    0.000    0.000    0.000 arrayprint.py:696(__init__)\n",
      "        1    0.000    0.000    0.000    0.000 common.py:204(_is_s3_url)\n",
      "        1    0.000    0.000    0.000    0.000 {method 'append' of 'tables.tableextension.Row' objects}\n",
      "       12    0.000    0.000    0.000    0.000 internals.py:272(dtype)\n",
      "        4    0.000    0.000    0.000    0.000 table.py:109(_index_name_of)\n",
      "        1    0.000    0.000    0.000    0.000 {tables.utilsextension.which_lib_version}\n",
      "        9    0.000    0.000    0.000    0.000 internals.py:2621(<genexpr>)\n",
      "        4    0.000    0.000    0.000    0.000 _weakrefset.py:16(__init__)\n",
      "        3    0.000    0.000    0.000    0.000 common.py:1511(_get_dtype_type)\n",
      "        8    0.000    0.000    0.000    0.000 table.py:870(<genexpr>)\n",
      "        2    0.000    0.000    0.000    0.000 genericpath.py:23(exists)\n",
      "        1    0.000    0.000    0.000    0.000 parsers.py:1024(_make_index)\n",
      "        1    0.000    0.000    0.000    0.000 base.py:938(is_unique)\n",
      "        1    0.000    0.000    0.000    0.000 parsers.py:2293(_process_date_conversion)\n",
      "        4    0.000    0.000    0.000    0.000 UserDict.py:34(__len__)\n",
      "        1    0.000    0.000    0.000    0.000 arrayprint.py:685(__init__)\n",
      "       11    0.000    0.000    0.000    0.000 parsers.py:1384(<genexpr>)\n",
      "        1    0.000    0.000    0.000    0.000 __init__.py:177(_checkLevel)\n",
      "        1    0.000    0.000    0.000    0.000 arrayprint.py:713(__init__)\n",
      "        2    0.000    0.000    0.000    0.000 base.py:445(get_values)\n",
      "        4    0.000    0.000    0.000    0.000 {method 'iterkeys' of 'dict' objects}\n",
      "        1    0.000    0.000    0.000    0.000 internals.py:4122(_simple_blockify)\n",
      "        1    0.000    0.000    0.000    0.000 parsers.py:2376(_clean_na_values)\n",
      "        5    0.000    0.000    0.000    0.000 {method '_open_append' of 'tables.tableextension.Table' objects}\n",
      "        5    0.000    0.000    0.000    0.000 internals.py:4140(<lambda>)\n",
      "       10    0.000    0.000    0.000    0.000 numeric.py:126(is_all_dates)\n",
      "        2    0.000    0.000    0.000    0.000 internals.py:4177(_shape_compat)\n",
      "        2    0.000    0.000    0.000    0.000 {method 'values' of 'dict' objects}\n",
      "        2    0.000    0.000    0.000    0.000 utils.py:61(set_vml_num_threads)\n",
      "        2    0.000    0.000    0.000    0.000 {method 'fill' of 'numpy.ndarray' objects}\n",
      "        4    0.000    0.000    0.000    0.000 range.py:58(_ensure_int)\n",
      "        1    0.000    0.000    0.000    0.000 range.py:150(_data)\n",
      "        1    0.000    0.000    0.000    0.000 common.py:1745(is_object_dtype)\n",
      "        5    0.000    0.000    0.000    0.000 {method 'item' of 'numpy.ndarray' objects}\n",
      "        4    0.000    0.000    0.000    0.000 weakref.py:68(_commit_removals)\n",
      "        1    0.000    0.000    0.000    0.000 common.py:263(_validate_header_arg)\n",
      "        1    0.000    0.000    0.000    0.000 base.py:383(is_)\n",
      "        4    0.000    0.000    0.000    0.000 table.py:627(_v_iobuf)\n",
      "        1    0.000    0.000    0.000    0.000 {_functools.reduce}\n",
      "        1    0.000    0.000    0.000    0.000 table.py:2240(_save_buffered_rows)\n",
      "        3    0.000    0.000    0.000    0.000 internals.py:2801(<genexpr>)\n",
      "        2    0.000    0.000    0.000    0.000 internals.py:2623(ndim)\n",
      "        1    0.000    0.000    0.000    0.000 parsers.py:843(_validate_usecols_arg)\n",
      "        2    0.000    0.000    0.000    0.000 range.py:139(_validate_dtype)\n",
      "        1    0.000    0.000    0.000    0.000 parsers.py:2255(_make_date_converter)\n",
      "       30    0.000    0.000    0.000    0.000 {hash}\n",
      "        1    0.000    0.000    0.000    0.000 generic.py:381(_info_axis)\n",
      "        2    0.000    0.000    0.000    0.000 {pandas.algos.ensure_object}\n",
      "        9    0.000    0.000    0.000    0.000 {method 'itervalues' of 'dict' objects}\n",
      "        2    0.000    0.000    0.000    0.000 stat.py:24(S_IFMT)\n",
      "        1    0.000    0.000    0.000    0.000 FEParam.py:55(sampling_DAQ)\n",
      "        1    0.000    0.000    0.000    0.000 FEParam.py:71(f_HPF)\n",
      "        1    0.000    0.000    0.000    0.000 FEParam.py:74(f_LPF)\n",
      "       41    0.000    0.000    0.000    0.000 {id}\n",
      "       20    0.000    0.000    0.000    0.000 {callable}\n",
      "        1    0.000    0.000    0.000    0.000 {method 'items' of 'dict' objects}\n",
      "        2    0.000    0.000    0.000    0.000 internals.py:264(shape)\n",
      "        1    0.000    0.000    0.000    0.000 FEParam.py:77(W_HPF_fine)\n",
      "        1    0.000    0.000    0.000    0.000 parsers.py:941(_has_complex_date_col)\n",
      "        8    0.000    0.000    0.000    0.000 table.py:612(<lambda>)\n",
      "        2    0.000    0.000    0.000    0.000 file.py:2755(__enter__)\n",
      "        2    0.000    0.000    0.000    0.000 {method '_get_file_id' of 'tables.hdf5extension.File' objects}\n",
      "       10    0.000    0.000    0.000    0.000 series.py:371(get_values)\n",
      "        2    0.000    0.000    0.000    0.000 {iter}\n",
      "        1    0.000    0.000    0.000    0.000 common.py:271(_stringify_path)\n",
      "        1    0.000    0.000    0.000    0.000 {sum}\n",
      "        1    0.000    0.000    0.000    0.000 FEParam.py:68(decoupling_resitor)\n",
      "        1    0.000    0.000    0.000    0.000 FEParam.py:49(pmt_gain)\n",
      "        1    0.000    0.000    0.000    0.000 internals.py:2996(is_consolidated)\n",
      "        1    0.000    0.000    0.000    0.000 FEParam.py:52(sampling_time)\n",
      "        1    0.000    0.000    0.000    0.000 internals.py:3276(_consolidate_inplace)\n",
      "        3    0.000    0.000    0.000    0.000 parsers.py:839(_is_index_col)\n",
      "        1    0.000    0.000    0.000    0.000 FEParam.py:65(decoupling_capacitor)\n",
      "        1    0.000    0.000    0.000    0.000 FEParam.py:89(W_LPF_daq)\n",
      "        3    0.000    0.000    0.000    0.000 arrayprint.py:657(__init__)\n",
      "        1    0.000    0.000    0.000    0.000 parsers.py:829(_create_index)\n",
      "        2    0.000    0.000    0.000    0.000 {pandas.lib.is_integer}\n",
      "        2    0.000    0.000    0.000    0.000 {all}\n",
      "        1    0.000    0.000    0.000    0.000 FEParam.py:86(W_LPF_fine)\n",
      "        1    0.000    0.000    0.000    0.000 FEParam.py:80(W_HPF_daq)\n",
      "        1    0.000    0.000    0.000    0.000 posixpath.py:251(expanduser)\n",
      "        1    0.000    0.000    0.000    0.000 arrayprint.py:734(__init__)\n",
      "        1    0.000    0.000    0.000    0.000 {pandas.lib.is_bool}\n",
      "        1    0.000    0.000    0.000    0.000 {method 'disable' of '_lsprof.Profiler' objects}\n",
      "\n",
      "\n"
     ]
    }
   ],
   "source": [
    "cProfile.run(\"DIOMIRA_cy(['DIOMIRA','-i','-d','INFO','-c','../../Config/DIOMIRA_NA_ZLIB_test2.csv'])\", sort='time')"
   ]
  },
  {
   "cell_type": "code",
   "execution_count": null,
   "metadata": {
    "collapsed": true
   },
   "outputs": [],
   "source": []
  },
  {
   "cell_type": "code",
   "execution_count": null,
   "metadata": {
    "collapsed": true
   },
   "outputs": [],
   "source": [
    "%%cython\n",
    "import numpy as np\n",
    "cimport numpy as np\n",
    "from cython cimport boundscheck, wraparound\n",
    "def rebin_pmt_array(np.ndarray[np.float64_t, ndim=1] a,int stride):\n",
    "    \"\"\"\n",
    "    rebins pmt array a according to stride\n",
    "    there is a rebin_array in util which uses\n",
    "    lenb = (len(a))/int(stride)\n",
    "    this version uses (lean(a)+1) to correct from the fact that the\n",
    "    MCRD is 599999 channels (should be 600000)\n",
    "    \"\"\"\n",
    "    \n",
    "    print(\"*cyhon version*\")\n",
    "    cdef:\n",
    "        int lenb, i, j,k\n",
    "        double part_sum\n",
    "      \n",
    "    lenb = (a.shape[0]+1)/stride\n",
    "    cdef np.ndarray[np.float64_t, ndim=1] b = np.zeros(lenb) \n",
    "    \n",
    "    j=0\n",
    "    with boundscheck(False), wraparound(False):\n",
    "        for i in range(lenb):\n",
    "            part_sum = 0.\n",
    "            for k in range(j, j + stride): \n",
    "                part_sum += a[k] \n",
    "                b[i] = part_sum\n",
    "            j+= stride\n",
    "    \n",
    "    return b"
   ]
  },
  {
   "cell_type": "code",
   "execution_count": null,
   "metadata": {
    "collapsed": false
   },
   "outputs": [],
   "source": [
    "rebin_pmt_array"
   ]
  },
  {
   "cell_type": "code",
   "execution_count": null,
   "metadata": {
    "collapsed": false
   },
   "outputs": [],
   "source": [
    "cProfile.run(\"DIOMIRA(['DIOMIRA','-i','-d','INFO','-c','../../Config/DIOMIRA_NA_ZLIB_test2.csv'])\", sort='time')"
   ]
  },
  {
   "cell_type": "code",
   "execution_count": null,
   "metadata": {
    "collapsed": true
   },
   "outputs": [],
   "source": []
  },
  {
   "cell_type": "code",
   "execution_count": null,
   "metadata": {
    "collapsed": true
   },
   "outputs": [],
   "source": [
    "h5f =tables.open_file('/Users/jjgomezcadenas/Documents/Development/NEXT/data/Waveforms/25ns/WF_Na_ZLIB_test100_RWF.h5')"
   ]
  },
  {
   "cell_type": "code",
   "execution_count": null,
   "metadata": {
    "collapsed": true
   },
   "outputs": [],
   "source": [
    "pmtrwf = h5f.root.RD.pmtrwf"
   ]
  },
  {
   "cell_type": "markdown",
   "metadata": {},
   "source": [
    "### Python version"
   ]
  },
  {
   "cell_type": "code",
   "execution_count": null,
   "metadata": {
    "collapsed": true
   },
   "outputs": [],
   "source": [
    "\n",
    "def rebin_pmt_array(a,stride):\n",
    "    \"\"\"\n",
    "    rebins pmt array a according to stride\n",
    "    there is a rebin_array in util which uses\n",
    "    lenb = (len(a))/int(stride)\n",
    "    this version uses (lean(a)+1) to correct from the fact that the\n",
    "    MCRD is 599999 channels (should be 600000)\n",
    "    \"\"\"\n",
    "    #t1 = time()\n",
    "    #print(\"rebin_pmt_array\")\n",
    "    lenb = (len(a)+1)/int(stride)\n",
    "    b = np.zeros(lenb)\n",
    "    j=0\n",
    "    for i in range(lenb):\n",
    "        b[i] = np.sum(a[j:j+stride])\n",
    "        j+= stride\n",
    "    #t2 = time()\n",
    "    #print('time = {}'.format(t2-t1))\n",
    "    return b\n",
    "\n",
    "def rebin_signal(event_number,pmtrd_, stride):\n",
    "    \"\"\"\n",
    "    rebins the MCRD signal to produce TWF (pes, bins 25 ns)\n",
    "    \"\"\"\n",
    "    t1 = time()\n",
    "    rdata = []\n",
    "\n",
    "    for j in range(pmtrd_.shape[1]):\n",
    "        pmt = pmtrd_[event_number, j] #waveform for event event_number, PMT j\n",
    "        #print(\"pmt = {}: Call rebin_pmt_array\".format(j))\n",
    "        t2 = time()\n",
    "        twf = rebin_pmt_array(pmt, stride)\n",
    "        #print('time = {}'.format(t2-t1))\n",
    "        \n",
    "        rdata.append(twf)\n",
    "    return np.array(rdata)\n",
    "\n",
    "def rebin_signals(pmtrd, stride=40, list_of_events=[0]):\n",
    "    \"\"\"\n",
    "    rebin the signals in a list of events\n",
    "    \"\"\"\n",
    "    t1 = time()\n",
    "    for event in list_of_events:\n",
    "        print(\"event = {}. Call rebin signal\".format(event))\n",
    "        rebin_signal(event,pmtrd, stride)\n",
    "        t2 = time()\n",
    "        print('time = {}'.format(t2-t1))\n",
    "        \n",
    "        "
   ]
  },
  {
   "cell_type": "code",
   "execution_count": null,
   "metadata": {
    "collapsed": false
   },
   "outputs": [],
   "source": [
    "rebin_signals"
   ]
  },
  {
   "cell_type": "code",
   "execution_count": null,
   "metadata": {
    "collapsed": false
   },
   "outputs": [],
   "source": [
    "%time rebin_signals(pmtrwf, stride=40, list_of_events=range(100))"
   ]
  },
  {
   "cell_type": "markdown",
   "metadata": {},
   "source": [
    "### Cython version (just compile python)"
   ]
  },
  {
   "cell_type": "code",
   "execution_count": null,
   "metadata": {
    "collapsed": false
   },
   "outputs": [],
   "source": [
    "%%cython\n",
    "import pandas as pd\n",
    "import numpy as np\n",
    "import FEParam as FP\n",
    "import tables\n",
    "\n",
    "def rebin_pmt_array(a,stride):\n",
    "    \"\"\"\n",
    "    rebins pmt array a according to stride\n",
    "    there is a rebin_array in util which uses\n",
    "    lenb = (len(a))/int(stride)\n",
    "    this version uses (lean(a)+1) to correct from the fact that the\n",
    "    MCRD is 599999 channels (should be 600000)\n",
    "    \"\"\"\n",
    "    \n",
    "    lenb = (len(a)+1)/int(stride)\n",
    "    b = np.zeros(lenb)\n",
    "    j=0\n",
    "    for i in range(lenb):\n",
    "        b[i] = np.sum(a[j:j+stride])\n",
    "        j+= stride\n",
    "    return b\n",
    "\n",
    "def rebin_signal(event_number,pmtrd_, stride):\n",
    "    \"\"\"\n",
    "    rebins the MCRD signal to produce TWF (pes, bins 25 ns)\n",
    "    \"\"\"\n",
    "    \n",
    "    rdata = []\n",
    "\n",
    "    for j in range(pmtrd_.shape[1]):\n",
    "        pmt = pmtrd_[event_number, j] #waveform for event event_number, PMT j\n",
    "        twf = rebin_pmt_array(pmt, stride)\n",
    "        \n",
    "        rdata.append(twf)\n",
    "    return np.array(rdata)\n",
    "\n",
    "def rebin_signals(pmtrd, stride=40, list_of_events=[0]):\n",
    "    \"\"\"\n",
    "    rebin the signals in a list of events\n",
    "    \"\"\"\n",
    "    for event in list_of_events:\n",
    "        rebin_signal(event,pmtrd, stride)"
   ]
  },
  {
   "cell_type": "code",
   "execution_count": null,
   "metadata": {
    "collapsed": false
   },
   "outputs": [],
   "source": [
    "rebin_signals"
   ]
  },
  {
   "cell_type": "code",
   "execution_count": null,
   "metadata": {
    "collapsed": true
   },
   "outputs": [],
   "source": [
    "def rebin_signal(event_number,pmtrd_, stride):\n",
    "    \"\"\"\n",
    "    rebins the MCRD signal to produce TWF (pes, bins 25 ns)\n",
    "    \"\"\"\n",
    "    t1 = time()\n",
    "    rdata = []\n",
    "\n",
    "    for j in range(pmtrd_.shape[1]):\n",
    "        pmt = pmtrd_[event_number, j] #waveform for event event_number, PMT j\n",
    "        #print(\"pmt = {}: Call rebin_pmt_array\".format(j))\n",
    "        t2 = time()\n",
    "        twf = rebin_pmt_array(pmt, stride)\n",
    "        #print('time = {}'.format(t2-t1))\n",
    "        \n",
    "        rdata.append(twf)\n",
    "    return np.array(rdata)\n",
    "\n",
    "def rebin_signals(pmtrd, stride=40, list_of_events=[0]):\n",
    "    \"\"\"\n",
    "    rebin the signals in a list of events\n",
    "    \"\"\"\n",
    "    t1 = time()\n",
    "    for event in list_of_events:\n",
    "        print(\"event = {}. Call rebin signal\".format(event))\n",
    "        rebin_signal(event,pmtrd, stride)\n",
    "        t2 = time()\n",
    "        print('time = {}'.format(t2-t1))\n",
    "        \n",
    "        "
   ]
  },
  {
   "cell_type": "code",
   "execution_count": null,
   "metadata": {
    "collapsed": false
   },
   "outputs": [],
   "source": [
    "rebin_signals"
   ]
  },
  {
   "cell_type": "code",
   "execution_count": null,
   "metadata": {
    "collapsed": false
   },
   "outputs": [],
   "source": [
    "rebin_signal"
   ]
  },
  {
   "cell_type": "code",
   "execution_count": null,
   "metadata": {
    "collapsed": false
   },
   "outputs": [],
   "source": [
    "rebin_pmt_array"
   ]
  },
  {
   "cell_type": "code",
   "execution_count": null,
   "metadata": {
    "collapsed": false
   },
   "outputs": [],
   "source": [
    "3000.*25./1000."
   ]
  },
  {
   "cell_type": "code",
   "execution_count": null,
   "metadata": {
    "collapsed": false
   },
   "outputs": [],
   "source": [
    "%time rebin_signals(pmtrwf, stride=40, list_of_events=range(100))"
   ]
  },
  {
   "cell_type": "markdown",
   "metadata": {},
   "source": [
    "### Cython version (supposedly optimized)"
   ]
  },
  {
   "cell_type": "code",
   "execution_count": null,
   "metadata": {
    "collapsed": true
   },
   "outputs": [],
   "source": [
    "%%cython\n",
    "import pandas as pd\n",
    "import numpy as np\n",
    "import FEParam as FP\n",
    "import tables\n",
    "from time import time\n",
    "\n",
    "def rebin_pmt_array(float [:] a,int stride):\n",
    "    \"\"\"\n",
    "    rebins pmt array a according to stride\n",
    "    there is a rebin_array in util which uses\n",
    "    lenb = (len(a))/int(stride)\n",
    "    this version uses (lean(a)+1) to correct from the fact that the\n",
    "    MCRD is 599999 channels (should be 600000)\n",
    "    \"\"\"\n",
    "    cdef int lenb\n",
    "    lenb = (len(a)+1)/stride\n",
    "    b = np.zeros(lenb, dtype = np.float)\n",
    "    cdef int j=0\n",
    "    cdef int i\n",
    "    for i in range(lenb):\n",
    "        b[i] = np.sum(a[j:j+stride])\n",
    "        j+= stride\n",
    "    return b\n",
    "\n",
    "# def rebin_signal(int event_number, pmtrd_, int stride):\n",
    "#     \"\"\"\n",
    "#     rebins the MCRD signal to produce TWF (pes, bins 25 ns)\n",
    "#     \"\"\"\n",
    "    \n",
    "#     #rdata = np.zeros(pmtrd_.shape[1], dtype = np.object)\n",
    "#     rdata = []\n",
    "#     cdef int j\n",
    "#     for j in range(pmtrd_.shape[1]):\n",
    "#         pmt = pmtrd_[event_number, j] #waveform for event event_number, PMT j\n",
    "#         twf = rebin_pmt_array(pmt, stride)\n",
    "        \n",
    "#         rdata.append(twf)\n",
    "#     return np.array(rdata)\n",
    "\n",
    "# def rebin_signals(pmtrd, int stride, list_of_events):\n",
    "#     \"\"\"\n",
    "#     rebin the signals in a list of events\n",
    "#     \"\"\"\n",
    "#     cdef int event\n",
    "#     for event in list_of_events:\n",
    "#         rebin_signal(event,pmtrd, stride)"
   ]
  },
  {
   "cell_type": "code",
   "execution_count": null,
   "metadata": {
    "collapsed": false
   },
   "outputs": [],
   "source": [
    "rebin_pmt_array"
   ]
  },
  {
   "cell_type": "code",
   "execution_count": null,
   "metadata": {
    "collapsed": true
   },
   "outputs": [],
   "source": []
  },
  {
   "cell_type": "code",
   "execution_count": null,
   "metadata": {
    "collapsed": false
   },
   "outputs": [],
   "source": [
    "%timeit rebin_signals(pmtrwf, stride=40, list_of_events=range(100))"
   ]
  },
  {
   "cell_type": "markdown",
   "metadata": {},
   "source": [
    "### Cython does not improve over python code in this case!"
   ]
  },
  {
   "cell_type": "code",
   "execution_count": null,
   "metadata": {
    "collapsed": true
   },
   "outputs": [],
   "source": [
    "h5f.close()"
   ]
  }
 ],
 "metadata": {
  "anaconda-cloud": {},
  "kernelspec": {
   "display_name": "Python [Root]",
   "language": "python",
   "name": "Python [Root]"
  },
  "language_info": {
   "codemirror_mode": {
    "name": "ipython",
    "version": 2
   },
   "file_extension": ".py",
   "mimetype": "text/x-python",
   "name": "python",
   "nbconvert_exporter": "python",
   "pygments_lexer": "ipython2",
   "version": "2.7.12"
  }
 },
 "nbformat": 4,
 "nbformat_minor": 0
}
