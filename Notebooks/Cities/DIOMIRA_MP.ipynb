{
 "cells": [
  {
   "cell_type": "markdown",
   "metadata": {},
   "source": [
    "# DIOMIRA Marco Polo (MP)"
   ]
  },
  {
   "cell_type": "markdown",
   "metadata": {},
   "source": [
    "##  Tests and control plots for DIOMIRA"
   ]
  },
  {
   "cell_type": "markdown",
   "metadata": {},
   "source": [
    "Marco Polo travels visiting cities and bringing news of these to the Kublai Khan. In IC, each city produces some new data. For example, DIOMIRA produces TWF and RWF, which are the \"goods\" of the cities. Each city needs a visit of Marco Polo (e.g, a unit test and analysis for the new data produced). "
   ]
  },
  {
   "cell_type": "code",
   "execution_count": 1,
   "metadata": {
    "collapsed": false
   },
   "outputs": [
    {
     "name": "stdout",
     "output_type": "stream",
     "text": [
      "Populating the interactive namespace from numpy and matplotlib\n"
     ]
    }
   ],
   "source": [
    "from __future__ import print_function\n",
    "from IPython.display import Image\n",
    "%pylab inline"
   ]
  },
  {
   "cell_type": "code",
   "execution_count": 2,
   "metadata": {
    "collapsed": false
   },
   "outputs": [
    {
     "data": {
      "image/jpeg": "[encoded data removed]",
      "text/plain": [
       "<IPython.core.display.Image object>"
      ]
     },
     "execution_count": 2,
     "metadata": {},
     "output_type": "execute_result"
    }
   ],
   "source": [
    "Image(filename='../Images/Polo.jpg') "
   ]
  },
  {
   "cell_type": "code",
   "execution_count": 4,
   "metadata": {
    "collapsed": true
   },
   "outputs": [],
   "source": [
    "import logging\n",
    "import sys\n",
    "logger = logging.getLogger()\n",
    "logger.handlers[0].stream = sys.stdout\n",
    "logger.setLevel(logging.DEBUG)"
   ]
  },
  {
   "cell_type": "code",
   "execution_count": 5,
   "metadata": {
    "collapsed": true
   },
   "outputs": [],
   "source": [
    "import matplotlib.pyplot as plt\n",
    "import pandas as pd\n",
    "import tables \n",
    "import numpy as np"
   ]
  },
  {
   "cell_type": "markdown",
   "metadata": {},
   "source": [
    "#### Access file"
   ]
  },
  {
   "cell_type": "code",
   "execution_count": 6,
   "metadata": {
    "collapsed": true
   },
   "outputs": [],
   "source": [
    "h5f = tables.open_file('/Users/jjgomezcadenas/Documents/Development/NEXT/data/Waveforms/25ns/WF_Na_1k.h5', \"r+\") "
   ]
  },
  {
   "cell_type": "code",
   "execution_count": 7,
   "metadata": {
    "collapsed": false
   },
   "outputs": [
    {
     "data": {
      "text/plain": [
       "File(filename=/Users/jjgomezcadenas/Documents/Development/NEXT/data/Waveforms/25ns/WF_Na_1k.h5, title='', mode='r+', root_uep='/', filters=Filters(complevel=9, complib='blosc', shuffle=True, fletcher32=False, least_significant_digit=None))\n",
       "/ (RootGroup) ''\n",
       "/Detector (Group) ''\n",
       "/Detector/DetectorGeometry (Table(1,)) ''\n",
       "  description := {\n",
       "  \"x_det\": Float64Col(shape=(2,), dflt=0.0, pos=0),\n",
       "  \"y_det\": Float64Col(shape=(2,), dflt=0.0, pos=1),\n",
       "  \"z_det\": Float64Col(shape=(2,), dflt=0.0, pos=2),\n",
       "  \"r_det\": Float64Col(shape=(), dflt=0.0, pos=3)}\n",
       "  byteorder := 'little'\n",
       "  chunkshape := (1170,)\n",
       "/MC (Group) ''\n",
       "/MC/FEE (Table(1,)) 'EP-FEE parameters'\n",
       "  description := {\n",
       "  \"offset\": Int16Col(shape=(), dflt=0, pos=0),\n",
       "  \"pmt_gain\": Float32Col(shape=(), dflt=0.0, pos=1),\n",
       "  \"V_gain\": Float32Col(shape=(), dflt=0.0, pos=2),\n",
       "  \"R\": Float32Col(shape=(), dflt=0.0, pos=3),\n",
       "  \"C12\": Float32Col(shape=(12,), dflt=0.0, pos=4),\n",
       "  \"CO12\": Float32Col(shape=(12,), dflt=0.0, pos=5),\n",
       "  \"time_step\": Float32Col(shape=(), dflt=0.0, pos=6),\n",
       "  \"time_daq\": Float32Col(shape=(), dflt=0.0, pos=7),\n",
       "  \"freq_LPF\": Float32Col(shape=(), dflt=0.0, pos=8),\n",
       "  \"freq_HPF\": Float32Col(shape=(), dflt=0.0, pos=9),\n",
       "  \"LSB\": Float32Col(shape=(), dflt=0.0, pos=10),\n",
       "  \"volts_to_adc\": Float32Col(shape=(), dflt=0.0, pos=11),\n",
       "  \"noise_fee_rms\": Float32Col(shape=(), dflt=0.0, pos=12),\n",
       "  \"noise_adc\": Float32Col(shape=(), dflt=0.0, pos=13)}\n",
       "  byteorder := 'little'\n",
       "  chunkshape := (461,)\n",
       "/MC/MCTracks (Table(26606,)) ''\n",
       "  description := {\n",
       "  \"event_indx\": Int32Col(shape=(), dflt=0, pos=0),\n",
       "  \"mctrk_indx\": Int32Col(shape=(), dflt=0, pos=1),\n",
       "  \"particle_name\": StringCol(itemsize=10, shape=(), dflt='', pos=2),\n",
       "  \"pdg_code\": Int32Col(shape=(), dflt=0, pos=3),\n",
       "  \"initial_vertex\": Float64Col(shape=(3,), dflt=0.0, pos=4),\n",
       "  \"final_vertex\": Float64Col(shape=(3,), dflt=0.0, pos=5),\n",
       "  \"momentum\": Float64Col(shape=(3,), dflt=0.0, pos=6),\n",
       "  \"energy\": Float64Col(shape=(), dflt=0.0, pos=7),\n",
       "  \"nof_hits\": Int32Col(shape=(), dflt=0, pos=8),\n",
       "  \"hit_indx\": Int32Col(shape=(), dflt=0, pos=9),\n",
       "  \"hit_position\": Float64Col(shape=(3,), dflt=0.0, pos=10),\n",
       "  \"hit_time\": Float64Col(shape=(), dflt=0.0, pos=11),\n",
       "  \"hit_energy\": Float64Col(shape=(), dflt=0.0, pos=12)}\n",
       "  byteorder := 'little'\n",
       "  chunkshape := (1,)\n",
       "/RD (Group) ''\n",
       "/RD/epmt (EArray(1000, 12), shuffle, blosc(9)) ''\n",
       "  atom := Int32Atom(shape=(), dflt=0)\n",
       "  maindim := 0\n",
       "  flavor := 'numpy'\n",
       "  byteorder := 'little'\n",
       "  chunkshape := (1365, 12)\n",
       "/RD/esipm (EArray(1000, 1792), shuffle, blosc(9)) ''\n",
       "  atom := Int32Atom(shape=(), dflt=0)\n",
       "  maindim := 0\n",
       "  flavor := 'numpy'\n",
       "  byteorder := 'little'\n",
       "  chunkshape := (9, 1792)\n",
       "/RD/pmtrwf (EArray(1000, 12, 24000), shuffle, blosc(9)) ''\n",
       "  atom := Int32Atom(shape=(), dflt=0)\n",
       "  maindim := 0\n",
       "  flavor := 'numpy'\n",
       "  byteorder := 'little'\n",
       "  chunkshape := (1, 5, 24000)\n",
       "/RD/pmttwf (EArray(1000, 12, 24000), shuffle, blosc(9)) ''\n",
       "  atom := Int32Atom(shape=(), dflt=0)\n",
       "  maindim := 0\n",
       "  flavor := 'numpy'\n",
       "  byteorder := 'little'\n",
       "  chunkshape := (1, 5, 24000)\n",
       "/RD/sipmrwf (EArray(1000, 1792, 600), shuffle, blosc(9)) ''\n",
       "  atom := Int32Atom(shape=(), dflt=0)\n",
       "  maindim := 0\n",
       "  flavor := 'numpy'\n",
       "  byteorder := 'little'\n",
       "  chunkshape := (1, 218, 600)\n",
       "/Sensors (Group) ''\n",
       "/Sensors/DataPMT (Table(12,)) ''\n",
       "  description := {\n",
       "  \"channel\": Int32Col(shape=(), dflt=0, pos=0),\n",
       "  \"active\": Int32Col(shape=(), dflt=0, pos=1),\n",
       "  \"position\": Float64Col(shape=(3,), dflt=0.0, pos=2),\n",
       "  \"gain\": Float64Col(shape=(), dflt=0.0, pos=3),\n",
       "  \"adc_to_pes\": Float64Col(shape=(), dflt=0.0, pos=4)}\n",
       "  byteorder := 'little'\n",
       "  chunkshape := (1365,)\n",
       "/Sensors/DataSiPM (Table(1792,)) ''\n",
       "  description := {\n",
       "  \"channel\": Int32Col(shape=(), dflt=0, pos=0),\n",
       "  \"active\": Int32Col(shape=(), dflt=0, pos=1),\n",
       "  \"position\": Float64Col(shape=(3,), dflt=0.0, pos=2),\n",
       "  \"gain\": Float64Col(shape=(), dflt=0.0, pos=3),\n",
       "  \"adc_to_pes\": Float64Col(shape=(), dflt=0.0, pos=4)}\n",
       "  byteorder := 'little'\n",
       "  chunkshape := (1365,)"
      ]
     },
     "execution_count": 7,
     "metadata": {},
     "output_type": "execute_result"
    }
   ],
   "source": [
    "h5f"
   ]
  },
  {
   "cell_type": "markdown",
   "metadata": {},
   "source": [
    "#### Monte Carlo tracks"
   ]
  },
  {
   "cell_type": "code",
   "execution_count": 9,
   "metadata": {
    "collapsed": false
   },
   "outputs": [],
   "source": [
    "mctrk_t = h5f.root.MC.MCTracks"
   ]
  },
  {
   "cell_type": "code",
   "execution_count": 10,
   "metadata": {
    "collapsed": false
   },
   "outputs": [
    {
     "data": {
      "text/plain": [
       "/MC/MCTracks (Table(26606,)) ''\n",
       "  description := {\n",
       "  \"event_indx\": Int32Col(shape=(), dflt=0, pos=0),\n",
       "  \"mctrk_indx\": Int32Col(shape=(), dflt=0, pos=1),\n",
       "  \"particle_name\": StringCol(itemsize=10, shape=(), dflt='', pos=2),\n",
       "  \"pdg_code\": Int32Col(shape=(), dflt=0, pos=3),\n",
       "  \"initial_vertex\": Float64Col(shape=(3,), dflt=0.0, pos=4),\n",
       "  \"final_vertex\": Float64Col(shape=(3,), dflt=0.0, pos=5),\n",
       "  \"momentum\": Float64Col(shape=(3,), dflt=0.0, pos=6),\n",
       "  \"energy\": Float64Col(shape=(), dflt=0.0, pos=7),\n",
       "  \"nof_hits\": Int32Col(shape=(), dflt=0, pos=8),\n",
       "  \"hit_indx\": Int32Col(shape=(), dflt=0, pos=9),\n",
       "  \"hit_position\": Float64Col(shape=(3,), dflt=0.0, pos=10),\n",
       "  \"hit_time\": Float64Col(shape=(), dflt=0.0, pos=11),\n",
       "  \"hit_energy\": Float64Col(shape=(), dflt=0.0, pos=12)}\n",
       "  byteorder := 'little'\n",
       "  chunkshape := (1,)"
      ]
     },
     "execution_count": 10,
     "metadata": {},
     "output_type": "execute_result"
    }
   ],
   "source": [
    "mctrk_t"
   ]
  },
  {
   "cell_type": "code",
   "execution_count": null,
   "metadata": {
    "collapsed": true
   },
   "outputs": [],
   "source": []
  },
  {
   "cell_type": "code",
   "execution_count": null,
   "metadata": {
    "collapsed": true
   },
   "outputs": [],
   "source": []
  },
  {
   "cell_type": "markdown",
   "metadata": {},
   "source": [
    "### Utility functions"
   ]
  },
  {
   "cell_type": "code",
   "execution_count": 3,
   "metadata": {
    "collapsed": true
   },
   "outputs": [],
   "source": [
    "def energyTracks(mctracks):\n",
    "    \"\"\"\n",
    "    Sum of energy of all tracks of each event\n",
    "    \"\"\"\n",
    "    track_energy = {}\n",
    "    for row in mctracks.iterrows():\n",
    "        evt = row['event_indx']\n",
    "        mctrk = row['mctrk_indx']\n",
    "        if evt not in track_energy:\n",
    "            track_energy[evt] = {}\n",
    "            track_energy[evt][mctrk] = row['energy']\n",
    "        else:\n",
    "            if mctrk not in track_energy[evt]:\n",
    "                track_energy[evt][mctrk] = row['energy']\n",
    "    return map(lambda trks: sum(trks.values()),track_energy.values())"
   ]
  },
  {
   "cell_type": "code",
   "execution_count": null,
   "metadata": {
    "collapsed": true
   },
   "outputs": [],
   "source": [
    "def energy_tracks(mctracks):\n",
    "    \"\"\"\n",
    "    Sum of energy of all tracks of each event\n",
    "    \"\"\"\n",
    "    EVT=\n",
    "    for row in mctracks.iterrows():\n",
    "        evt = row['event_indx']\n",
    "        mctrk_indx = row['mctrk_indx']\n",
    "        if evt not in track_energy:\n",
    "            track_energy[evt] = {}\n",
    "            track_energy[evt][mctrk] = row['energy']\n",
    "        else:\n",
    "            if mctrk not in track_energy[evt]:\n",
    "                track_energy[evt][mctrk] = row['energy']\n",
    "    return map(lambda trks: sum(trks.values()),track_energy.values())"
   ]
  }
 ],
 "metadata": {
  "kernelspec": {
   "display_name": "Python 2",
   "language": "python",
   "name": "python2"
  },
  "language_info": {
   "codemirror_mode": {
    "name": "ipython",
    "version": 2
   },
   "file_extension": ".py",
   "mimetype": "text/x-python",
   "name": "python",
   "nbconvert_exporter": "python",
   "pygments_lexer": "ipython2",
   "version": "2.7.11"
  }
 },
 "nbformat": 4,
 "nbformat_minor": 0
}
