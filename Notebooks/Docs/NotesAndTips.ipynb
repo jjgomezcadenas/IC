{
 "cells": [
  {
   "cell_type": "markdown",
   "metadata": {},
   "source": [
    "# NOTES and TIPS"
   ]
  },
  {
   "cell_type": "markdown",
   "metadata": {},
   "source": [
    "## A notebook to keep notes, tips, links, references, tricks and such"
   ]
  },
  {
   "cell_type": "markdown",
   "metadata": {},
   "source": [
    "### Alted study on EArrays vs Tables"
   ]
  },
  {
   "cell_type": "markdown",
   "metadata": {},
   "source": [
    "https://github.com/PyTables/PyTables/blob/develop/examples/Single_Table-vs-EArray_Table.ipynb"
   ]
  },
  {
   "cell_type": "markdown",
   "metadata": {},
   "source": [
    "### Pytables"
   ]
  },
  {
   "cell_type": "markdown",
   "metadata": {},
   "source": [
    "#### Tutorial"
   ]
  },
  {
   "cell_type": "markdown",
   "metadata": {},
   "source": [
    "http://www.pytables.org/usersguide/tutorials.html#creating-a-pytables-file-from-scratch"
   ]
  },
  {
   "cell_type": "markdown",
   "metadata": {},
   "source": [
    "### Pandas"
   ]
  },
  {
   "cell_type": "markdown",
   "metadata": {},
   "source": [
    "#### HDF5 interface"
   ]
  },
  {
   "cell_type": "markdown",
   "metadata": {},
   "source": [
    "http://pandas.pydata.org/pandas-docs/version/0.17.0/generated/pandas.read_hdf.html"
   ]
  },
  {
   "cell_type": "markdown",
   "metadata": {},
   "source": [
    "#### Cookbook"
   ]
  },
  {
   "cell_type": "markdown",
   "metadata": {},
   "source": [
    "http://pandas.pydata.org/pandas-docs/stable/cookbook.html"
   ]
  },
  {
   "cell_type": "markdown",
   "metadata": {},
   "source": [
    "### Matplotlib"
   ]
  },
  {
   "cell_type": "markdown",
   "metadata": {
    "collapsed": true
   },
   "source": [
    "#### Backend"
   ]
  },
  {
   "cell_type": "markdown",
   "metadata": {},
   "source": [
    "http://matplotlib.org/faq/usage_faq.html#what-is-a-backend"
   ]
  },
  {
   "cell_type": "markdown",
   "metadata": {},
   "source": [
    "### GIT"
   ]
  },
  {
   "cell_type": "markdown",
   "metadata": {},
   "source": [
    "#### Branch Management"
   ]
  },
  {
   "cell_type": "markdown",
   "metadata": {},
   "source": [
    "https://git-scm.com/book/en/v2/Git-Branching-Branch-Management"
   ]
  },
  {
   "cell_type": "code",
   "execution_count": 1,
   "metadata": {
    "collapsed": false
   },
   "outputs": [
    {
     "name": "stdout",
     "output_type": "stream",
     "text": [
      "  DIOMIRA-CYTHON\u001b[m\r\n",
      "  DIOMIRA-TWF\u001b[m\r\n",
      "* \u001b[32mmaster\u001b[m\r\n"
     ]
    }
   ],
   "source": [
    "!git branch"
   ]
  },
  {
   "cell_type": "code",
   "execution_count": 2,
   "metadata": {
    "collapsed": false
   },
   "outputs": [
    {
     "name": "stdout",
     "output_type": "stream",
     "text": [
      "  DIOMIRA-CYTHON\u001b[m afb59e8 tests done\r\n",
      "  DIOMIRA-TWF   \u001b[m c461332 Changes ported to DIOMIRA.py\r\n",
      "* \u001b[32mmaster        \u001b[m e6cdb11 Merge branch 'DIOMIRA-CYTHON'\r\n"
     ]
    }
   ],
   "source": [
    "!git branch -v"
   ]
  },
  {
   "cell_type": "code",
   "execution_count": 3,
   "metadata": {
    "collapsed": false
   },
   "outputs": [
    {
     "name": "stdout",
     "output_type": "stream",
     "text": [
      "  DIOMIRA-CYTHON\u001b[m\r\n",
      "  DIOMIRA-TWF\u001b[m\r\n",
      "* \u001b[32mmaster\u001b[m\r\n"
     ]
    }
   ],
   "source": [
    "!git branch --merged"
   ]
  },
  {
   "cell_type": "code",
   "execution_count": 4,
   "metadata": {
    "collapsed": false
   },
   "outputs": [],
   "source": [
    "!git branch --no-merged"
   ]
  },
  {
   "cell_type": "markdown",
   "metadata": {},
   "source": [
    "All branches are merged with main. They can be deleted"
   ]
  },
  {
   "cell_type": "code",
   "execution_count": 5,
   "metadata": {
    "collapsed": false
   },
   "outputs": [
    {
     "name": "stdout",
     "output_type": "stream",
     "text": [
      "Deleted branch DIOMIRA-CYTHON (was afb59e8).\r\n"
     ]
    }
   ],
   "source": [
    "! git branch -d DIOMIRA-CYTHON"
   ]
  },
  {
   "cell_type": "code",
   "execution_count": 6,
   "metadata": {
    "collapsed": false
   },
   "outputs": [
    {
     "name": "stdout",
     "output_type": "stream",
     "text": [
      "Deleted branch DIOMIRA-TWF (was c461332).\r\n"
     ]
    }
   ],
   "source": [
    "! git branch -D DIOMIRA-TWF"
   ]
  },
  {
   "cell_type": "code",
   "execution_count": null,
   "metadata": {
    "collapsed": true
   },
   "outputs": [],
   "source": []
  },
  {
   "cell_type": "code",
   "execution_count": 7,
   "metadata": {
    "collapsed": false
   },
   "outputs": [
    {
     "name": "stdout",
     "output_type": "stream",
     "text": [
      "* \u001b[32mmaster\u001b[m\r\n"
     ]
    }
   ],
   "source": [
    "!git branch"
   ]
  },
  {
   "cell_type": "code",
   "execution_count": null,
   "metadata": {
    "collapsed": true
   },
   "outputs": [],
   "source": []
  },
  {
   "cell_type": "markdown",
   "metadata": {},
   "source": [
    "## Logging"
   ]
  },
  {
   "cell_type": "code",
   "execution_count": 30,
   "metadata": {
    "collapsed": false
   },
   "outputs": [],
   "source": [
    "import logging\n",
    "import sys\n",
    "\n",
    "logging.basicConfig(level=logging.DEBUG)\n",
    "logger = logging.getLogger()\n",
    "logger.handlers[0].stream = sys.stdout"
   ]
  },
  {
   "cell_type": "code",
   "execution_count": 31,
   "metadata": {
    "collapsed": false
   },
   "outputs": [
    {
     "name": "stdout",
     "output_type": "stream",
     "text": [
      "WARNING:root:A warning\n"
     ]
    }
   ],
   "source": [
    "logger.warning(\"A warning\")"
   ]
  },
  {
   "cell_type": "code",
   "execution_count": 32,
   "metadata": {
    "collapsed": false
   },
   "outputs": [
    {
     "name": "stdout",
     "output_type": "stream",
     "text": [
      "DEBUG:root:A debug printout\n"
     ]
    }
   ],
   "source": [
    "logger.debug(\"A debug printout\")"
   ]
  },
  {
   "cell_type": "code",
   "execution_count": 38,
   "metadata": {
    "collapsed": false
   },
   "outputs": [],
   "source": [
    "logger.setLevel(logging.WARNING)"
   ]
  },
  {
   "cell_type": "code",
   "execution_count": 39,
   "metadata": {
    "collapsed": false
   },
   "outputs": [
    {
     "data": {
      "text/plain": [
       "30"
      ]
     },
     "execution_count": 39,
     "metadata": {},
     "output_type": "execute_result"
    }
   ],
   "source": [
    "logger.level"
   ]
  },
  {
   "cell_type": "code",
   "execution_count": 40,
   "metadata": {
    "collapsed": false
   },
   "outputs": [
    {
     "name": "stdout",
     "output_type": "stream",
     "text": [
      "WARNING:root:A warning\n"
     ]
    }
   ],
   "source": [
    "logger.warning(\"A warning\")"
   ]
  },
  {
   "cell_type": "code",
   "execution_count": 41,
   "metadata": {
    "collapsed": false
   },
   "outputs": [],
   "source": [
    "logger.debug(\"A debug printout\")"
   ]
  },
  {
   "cell_type": "markdown",
   "metadata": {},
   "source": [
    "Now debug level does not print anything"
   ]
  },
  {
   "cell_type": "markdown",
   "metadata": {
    "collapsed": true
   },
   "source": [
    "## Access to LSC"
   ]
  },
  {
   "cell_type": "raw",
   "metadata": {},
   "source": [
    "scp -P 6027 icuser@193.146.122.114:/home/dateuser/pyRaul/hdf5_waves/pulseVar_r2033. .\n",
    "\n",
    "\n",
    "stor1next:\n",
    "\n",
    " ssh -v -o PreferredAuthentications=password -o PubkeyAuthentication=no icuser@193.146.122.114 -p 6027\n",
    "\n",
    "stor2next:\n",
    " ssh -v -o PreferredAuthentications=password -o PubkeyAuthentication=no icuser@193.146.122.114 -p 6028\n",
    "\n",
    "Toda la información de acceso a los servers está en:\n",
    "\n",
    "https://nextbb.teamwork.com/?useTKO=1#notebooks/112055\n",
    "hostname: stor1next y stor2next\n",
    "\n",
    "username: icuser\n",
    "\n",
    "password: icuser.123"
   ]
  },
  {
   "cell_type": "markdown",
   "metadata": {},
   "source": [
    "### Date to h5"
   ]
  },
  {
   "cell_type": "raw",
   "metadata": {},
   "source": [
    "Desde icuser se pueden producir los ficheros con el script que está en /home/icuser/waveforms/hdf5.sh\n",
    "\n",
    "La manera de usarlo es la siguiente:\n",
    "\n",
    "./hdf5.sh runnumber [number_of_files]\n",
    "\n",
    "Por ejemplo, el run 2248 tiene dos ficheros, el uno por cada gdc. Si ejecutamos:\n",
    "\n",
    "cd waveforms\n",
    "./hdf5.sh 2248\n",
    "\n",
    "Se producirán los ficheros:\n",
    "\n",
    "/home/icuser/waveforms/hdf5/run_2248.gdc1next.000.next1el_2248.root.h5\n",
    "/home/icuser/waveforms/hdf5/run_2248.gdc1next.000.next1el_2248.root.h5\n",
    "\n",
    "Por defecto convertirá a hdf5 todos los ficheros de run especificado. Si queremos limitarlo, podemos usar el segundo parámetro, por ejemplo:\n",
    "\n",
    "./hdf5.sh 2248 1\n",
    "\n",
    "Solo producirá un fichero:\n",
    "\n",
    "/home/icuser/waveforms/hdf5/run_2248.gdc1next.000.next1el_2248.root.h5"
   ]
  }
 ],
 "metadata": {
  "kernelspec": {
   "display_name": "Python 2",
   "language": "python",
   "name": "python2"
  },
  "language_info": {
   "codemirror_mode": {
    "name": "ipython",
    "version": 2
   },
   "file_extension": ".py",
   "mimetype": "text/x-python",
   "name": "python",
   "nbconvert_exporter": "python",
   "pygments_lexer": "ipython2",
   "version": "2.7.11"
  }
 },
 "nbformat": 4,
 "nbformat_minor": 0
}
