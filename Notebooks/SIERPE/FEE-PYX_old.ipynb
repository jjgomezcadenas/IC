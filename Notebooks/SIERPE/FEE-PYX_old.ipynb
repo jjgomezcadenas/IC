{
 "cells": [
  {
   "cell_type": "markdown",
   "metadata": {},
   "source": [
    "# FEE-PYX"
   ]
  },
  {
   "cell_type": "markdown",
   "metadata": {},
   "source": [
    "## Optimization of FEE class"
   ]
  },
  {
   "cell_type": "code",
   "execution_count": 1,
   "metadata": {
    "collapsed": true
   },
   "outputs": [],
   "source": [
    "from __future__ import print_function\n",
    "%matplotlib inline\n",
    "%load_ext autoreload\n",
    "%autoreload 2\n",
    "%load_ext Cython\n",
    "%matplotlib inline\n",
    "%load_ext line_profiler"
   ]
  },
  {
   "cell_type": "code",
   "execution_count": 2,
   "metadata": {
    "collapsed": true
   },
   "outputs": [],
   "source": [
    "import pandas as pd\n",
    "import numpy as np\n",
    "from time import time\n",
    "import matplotlib.pyplot as plt"
   ]
  },
  {
   "cell_type": "code",
   "execution_count": 3,
   "metadata": {
    "collapsed": true
   },
   "outputs": [],
   "source": [
    "import tables"
   ]
  },
  {
   "cell_type": "code",
   "execution_count": 4,
   "metadata": {
    "collapsed": true
   },
   "outputs": [],
   "source": [
    "from LogConfig import *"
   ]
  },
  {
   "cell_type": "code",
   "execution_count": 5,
   "metadata": {
    "collapsed": true
   },
   "outputs": [],
   "source": [
    "import cProfile"
   ]
  },
  {
   "cell_type": "code",
   "execution_count": 6,
   "metadata": {
    "collapsed": true
   },
   "outputs": [],
   "source": [
    "import mplFunctions as mpl"
   ]
  },
  {
   "cell_type": "code",
   "execution_count": 8,
   "metadata": {
    "collapsed": true
   },
   "outputs": [],
   "source": [
    "from Util import *\n",
    "from scipy import signal as SGN"
   ]
  },
  {
   "cell_type": "code",
   "execution_count": 24,
   "metadata": {
    "collapsed": true
   },
   "outputs": [],
   "source": [
    "###########################################################\n",
    "class FEParam:\n",
    "    \"\"\"\n",
    "    Defines the paramaters of the FE electronics for the EP\n",
    "    \"\"\"\n",
    "    \n",
    "    def __init__(self,pmt_gain=4.5e6,V_GAIN=250*ohm,R = 2350*ohm, \n",
    "                 C =np.array([ 6.02975448,  6.22547194,  6.0671337 ,  6.22159457,  6.29999787,\n",
    "                 6.09892384,  6.18289435,  6.21775591,  6.19306671,  6.30518792,\n",
    "                 6.20359891,  6.31231192])*nF, \n",
    "                 offset = 2500,ceiling = 4096, \n",
    "                 NBITS=12, NOISE_FEE_rms = 0.3*mV, freq_LPF=3E6*hertz,\n",
    "                 time_DAQ=25*ns):\n",
    "        \n",
    "        self.pmt_gain = pmt_gain\n",
    "        self.V_GAIN= V_GAIN\n",
    "        self.R = R\n",
    "        self.C = C\n",
    "        self.C0 = self.C[0]\n",
    "        self.offset = offset\n",
    "        self.ceiling = ceiling\n",
    "        self.NBITS = NBITS\n",
    "        self.LSB = 2*volt/2**NBITS\n",
    "        self.voltsToAdc = self.LSB/1.25\n",
    "        self.NOISE_FEE = NOISE_FEE_rms\n",
    "        self.NOISE_ADC = self.NOISE_FEE/self.voltsToAdc\n",
    "        self.freq_LPF = freq_LPF\n",
    "        self.time_DAQ = time_DAQ\n",
    "        self.freq_HPF=(1/(2*pi*self.R*self.C0))\n",
    "    \n",
    "    def __repr__(self):\n",
    "        return self.__str__()\n",
    "        \n",
    "    def __str__(self):\n",
    "        \n",
    "\t\ts= \"\"\"\n",
    "\t\tFEParam:\n",
    "        pmt gain = {}\n",
    "        V_gain = {} ohm\n",
    "        RC HPF: R = {} ohm C[0] = {} nF\n",
    "        NBITS={}, voltsToAdc = {} NOISE_FEE_rms = {} mV, NOISE_ADC = {}\n",
    "        freq_LPF={} hertz, freq_HPF={} hertz time_DAQ={} ns\n",
    "\t\t\"\"\".format(self.pmt_gain,\n",
    "        self.V_GAIN/ohm,\n",
    "        self.R/ohm,\n",
    "        self.C[0]/nF,\n",
    "        self.NBITS, \n",
    "        self.voltsToAdc/volt,\n",
    "        self.NOISE_FEE,\n",
    "        self.NOISE_ADC,\n",
    "        self.freq_LPF/hertz,self.freq_HPF/hertz,\n",
    "        self.time_DAQ/ns)\n",
    "\t\treturn s"
   ]
  },
  {
   "cell_type": "code",
   "execution_count": 25,
   "metadata": {
    "collapsed": false
   },
   "outputs": [],
   "source": [
    "fep = FEParam()"
   ]
  },
  {
   "cell_type": "code",
   "execution_count": 26,
   "metadata": {
    "collapsed": false
   },
   "outputs": [
    {
     "data": {
      "text/plain": [
       "\n",
       "\t\tFEParam:\n",
       "        pmt gain = 4500000.0\n",
       "        V_gain = 250.0 ohm\n",
       "        RC HPF: R = 2350.0 ohm C[0] = 6.02975448 nF\n",
       "        NBITS=12, voltsToAdc = 0.000390625 NOISE_FEE_rms = 3e-10 mV, NOISE_ADC = 0.768\n",
       "        freq_LPF=3000000.0 hertz, freq_HPF=11231.8848012 hertz time_DAQ=25.0 ns\n",
       "\t\t"
      ]
     },
     "execution_count": 26,
     "metadata": {},
     "output_type": "execute_result"
    }
   ],
   "source": [
    "fep"
   ]
  },
  {
   "cell_type": "code",
   "execution_count": null,
   "metadata": {
    "collapsed": true
   },
   "outputs": [],
   "source": []
  },
  {
   "cell_type": "code",
   "execution_count": null,
   "metadata": {
    "collapsed": true
   },
   "outputs": [],
   "source": []
  },
  {
   "cell_type": "code",
   "execution_count": 72,
   "metadata": {
    "collapsed": false
   },
   "outputs": [],
   "source": [
    "import FEParam as FP\n",
    "from Util import *\n",
    "from scipy import signal as SGN\n",
    "import numpy as np\n",
    "\n",
    "###########################################################\n",
    "class FEParam:\n",
    "    \"\"\"\n",
    "    Defines the paramaters of the FE electronics for the EP\n",
    "    \"\"\"\n",
    "    \n",
    "    def __init__(self,pmt_gain=4.5e6,V_GAIN=250*ohm,R = 2350*ohm, C = 6.2*nF, offset = 2500,\n",
    "                 ceiling = 4096, NBITS=12, NOISE_FEE_rms = 0.7*mV, freq_LPF=3E6*hertz,\n",
    "                 time_DAQ=25*ns):\n",
    "        \n",
    "        self.pmt_gain = pmt_gain\n",
    "        self.V_GAIN= V_GAIN\n",
    "        self.R = R\n",
    "        self.C = C\n",
    "        self.offset = offset\n",
    "        self.ceiling = ceiling\n",
    "        self.NBITS = NBITS\n",
    "        self.LSB = 2*volt/2**NBITS\n",
    "        self.voltsToAdc = self.LSB/1.25\n",
    "        self.NOISE_FEE = NOISE_FEE_rms\n",
    "        self.NOISE_ADC = self.NOISE_FEE/self.voltsToAdc\n",
    "        self.freq_LPF = freq_LPF\n",
    "        self.time_DAQ = time_DAQ\n",
    "        \n",
    "\n",
    "\n",
    "# spe is parameterized as an isosceles trapezoid of diagonal \n",
    "#   xxxxx-xxxxx      \n",
    "#           --- \n",
    "#         -     -\n",
    "#       -         -\n",
    "#     -             -\n",
    "#   -                 -\n",
    "#   1 2 3 4 515 4 3 2 1\n",
    "# x_slope = 5 ns, x_flat = 1 ns\n",
    "\n",
    "###########################################################\n",
    "class SPE:\n",
    "    \"\"\"\n",
    "    defines a single photoelectron\n",
    "    spe is parameterized as an isosceles trapezoid of diagonal \n",
    "    \"\"\"\n",
    "\n",
    "    def __init__(self,feparam,x_slope = 5*ns,x_flat = 1*ns):\n",
    "        \"\"\"\n",
    "        Defines a spe \n",
    "        \"\"\"\n",
    "        \n",
    "        self.x_slope=x_slope\n",
    "        self.x_flat=x_flat\n",
    "    \n",
    "        self.spe_base = self.x_slope + self.x_flat\n",
    "        self.spe_length = 2*self.x_slope + self.x_flat\n",
    "\n",
    "        self.A=feparam.pmt_gain*eplus/self.spe_base  #current  \n",
    "        self.V = self.A*feparam.V_GAIN\n",
    "    \n",
    "        self.t = np.arange(0,self.spe_length,1*ns, dtype=np.float32)\n",
    "        nns = int(self.x_slope)\n",
    "        nnf = int(self.x_flat)\n",
    "        rise = np.linspace(0,self.A, num=nns, dtype=np.float32)\n",
    "        fall = np.linspace(self.A,0, num=nns, dtype=np.float32)\n",
    "        flat = self.A*np.ones(nnf, dtype=np.float32)\n",
    "        self.spe=np.concatenate((rise,flat,fall))\n",
    "    \n",
    "\n",
    "def Spe(spe):\n",
    "    \"\"\"\n",
    "    Returns a SPE\n",
    "    \"\"\"\n",
    "    return spe.t,spe.spe\n",
    "\n",
    "def SpePulse(spe, t0=0*ns, tmax=1e+6*ns):\n",
    "    \"\"\"\n",
    "    Returns a SPE pulse at time t0\n",
    "    with baseline extending in steps of time_step from 0 to tmax determined by DELTA_L\n",
    "    \"\"\"\n",
    "    n = int(t0)\n",
    "    nmax = int(tmax)\n",
    "    if n >= nmax:\n",
    "        print(\"error in SpePulse n = {} nmax = {} \".format(n,nmax))\n",
    "        sys.exit()\n",
    "\n",
    "    \n",
    "    DELTA=np.zeros(nmax, dtype=np.float32)   #Dirac delta of size DELTA_L\n",
    "    DELTA[n]=1\n",
    "    spe_pulse_t =np.arange(0,len(DELTA) + len(spe.spe) -1,1, dtype=float32)\n",
    "    spe_pulse = SGN.convolve(DELTA, spe)\n",
    "    \n",
    "    return spe_pulse_t,spe_pulse\n",
    "\n",
    "def SpePulseTrain(spe,tlow,tup,tmax=1e+6*ns):\n",
    "    \"\"\"\n",
    "    Returns a train of SPE pulses between tlow and tup separated by tstep\n",
    "    \"\"\"\n",
    "    nmin = int(tlow)\n",
    "    nmax = int(tup)\n",
    "    NMAX = int(tmax)\n",
    "    step = FP.time_step/ns\n",
    "\n",
    "    if nmax >= NMAX:\n",
    "        print(\"error in SpePulse train nmax = {} NMAX = {}  \".format(nmax, NMAX))\n",
    "        sys.exit()\n",
    "      \n",
    "\n",
    "    DELTA=np.zeros(NMAX, dtype=np.float32)\n",
    "    DELTA[nmin:nmax+1] = 1\n",
    "    spe_pulse_t =np.arange(0,len(DELTA) + len(spe.spe) -1,1, dtype=np.float32)\n",
    "    spe_pulse = SGN.convolve(DELTA, spe.spe)\n",
    "      \n",
    "    return spe_pulse_t,spe_pulse\n",
    "\n",
    "def SpePulseFromVectorPE(spe,cnt):\n",
    "    \"\"\"\n",
    "    Returns a train of SPE pulses corresponding to vector cnt\n",
    "    \"\"\"\n",
    "    \n",
    "    spe_pulse = SGN.convolve(cnt[0:-len(spe.spe)+1], spe.spe)\n",
    "      \n",
    "    return spe_pulse\n",
    "\n",
    "\n",
    "\n",
    "def test_spe():\n",
    "  \n",
    "    signal_start=2000*ns\n",
    "    signal_length=200*microsecond\n",
    "    daq_window = 1*millisecond\n",
    "  \n",
    "    feparam = FEParam(pmt_gain=4.5e6,V_GAIN=250*ohm,R = 2350*ohm, C = 6.2*nF, offset = 2500,\n",
    "                    ceiling = 4096, NBITS=12, NOISE_FEE_rms = 0.7*mV, freq_LPF=3E6*hertz, time_DAQ=25*ns)\n",
    "    \n",
    "    spe = SPE(feparam,x_slope = 5*ns,x_flat = 1*ns)\n",
    "\n",
    "    signal_end = signal_start + signal_length\n",
    "  \n",
    "    signal_t, signal_PE = SpePulseTrain(spe,signal_start,signal_end,daq_window)\n",
    "\n",
    "    mpl.plot_signal(signal_t/ns,signal_PE/muA, \n",
    "                  title = 'Input Signal: PE Train', \n",
    "                  signal_start=0*ns, signal_end=len(signal_t)/ns, \n",
    "                  units='muA')\n",
    "\n",
    "    plt.show()\n",
    "\n",
    "def test_pulse_train():\n",
    "  \n",
    "    signal_start=2000*ns\n",
    "    signal_length=200*microsecond\n",
    "    daq_window = 1*millisecond\n",
    "  \n",
    "    feparam = FEParam(pmt_gain=4.5e6,V_GAIN=250*ohm,R = 2350*ohm, C = 6.2*nF, offset = 2500,\n",
    "                    ceiling = 4096, NBITS=12, NOISE_FEE_rms = 0.7*mV, freq_LPF=3E6*hertz, time_DAQ=25*ns)\n",
    "    \n",
    "    spe = SPE(feparam,x_slope = 5*ns,x_flat = 1*ns)\n",
    "\n",
    "    signal_end = signal_start + signal_length\n",
    "  \n",
    "    signal_t, signal_PE = SpePulseTrain(spe,signal_start,signal_end,daq_window)\n",
    "\n",
    "    return signal_t, signal_PE\n",
    "\n"
   ]
  },
  {
   "cell_type": "code",
   "execution_count": 70,
   "metadata": {
    "collapsed": false
   },
   "outputs": [
    {
     "data": {
      "image/png": "[encoded data removed]",
      "text/plain": [
       "<matplotlib.figure.Figure at 0x11a000d10>"
      ]
     },
     "metadata": {},
     "output_type": "display_data"
    }
   ],
   "source": [
    "test_spe()"
   ]
  },
  {
   "cell_type": "code",
   "execution_count": 75,
   "metadata": {
    "collapsed": false
   },
   "outputs": [],
   "source": [
    "%lprun -f test_pulse_train test_pulse_train()"
   ]
  },
  {
   "cell_type": "raw",
   "metadata": {},
   "source": [
    "Timer unit: 1e-06 s\n",
    "\n",
    "Total time: 0.008834 s\n",
    "File: <ipython-input-72-770e4b4cf38b>\n",
    "Function: test_pulse_train at line 151\n",
    "\n",
    "Line #      Hits         Time  Per Hit   % Time  Line Contents\n",
    "==============================================================\n",
    "   151                                           def test_pulse_train():\n",
    "   152                                             \n",
    "   153         1            3      3.0      0.0      signal_start=2000*ns\n",
    "   154         1            1      1.0      0.0      signal_length=200*microsecond\n",
    "   155         1            1      1.0      0.0      daq_window = 1*millisecond\n",
    "   156                                             \n",
    "   157         1            2      2.0      0.0      feparam = FEParam(pmt_gain=4.5e6,V_GAIN=250*ohm,R = 2350*ohm, C = 6.2*nF, offset = 2500,\n",
    "   158         1           17     17.0      0.2                      ceiling = 4096, NBITS=12, NOISE_FEE_rms = 0.7*mV, freq_LPF=3E6*hertz, time_DAQ=25*ns)\n",
    "   159                                               \n",
    "   160         1          152    152.0      1.7      spe = SPE(feparam,x_slope = 5*ns,x_flat = 1*ns)\n",
    "   161                                           \n",
    "   162         1            2      2.0      0.0      signal_end = signal_start + signal_length\n",
    "   163                                             \n",
    "   164         1         8654   8654.0     98.0      signal_t, signal_PE = SpePulseTrain(spe,signal_start,signal_end,daq_window)\n",
    "   165                                           \n",
    "   166         1            2      2.0      0.0      return signal_t, signal_PE"
   ]
  },
  {
   "cell_type": "raw",
   "metadata": {},
   "source": [
    "Timer unit: 1e-06 s\n",
    "\n",
    "Total time: 0.007657 s\n",
    "File: <ipython-input-72-770e4b4cf38b>\n",
    "Function: SpePulseTrain at line 97\n",
    "\n",
    "Line #      Hits         Time  Per Hit   % Time  Line Contents\n",
    "==============================================================\n",
    "    97                                           def SpePulseTrain(spe,tlow,tup,tmax=1e+6*ns):\n",
    "    98                                               \"\"\"\n",
    "    99                                               Returns a train of SPE pulses between tlow and tup separated by tstep\n",
    "   100                                               \"\"\"\n",
    "   101         1            1      1.0      0.0      nmin = int(tlow)\n",
    "   102         1            1      1.0      0.0      nmax = int(tup)\n",
    "   103         1            0      0.0      0.0      NMAX = int(tmax)\n",
    "   104         1            1      1.0      0.0      step = FP.time_step/ns\n",
    "   105                                           \n",
    "   106         1            0      0.0      0.0      if nmax >= NMAX:\n",
    "   107                                                   print(\"error in SpePulse train nmax = {} NMAX = {}  \".format(nmax, NMAX))\n",
    "   108                                                   sys.exit()\n",
    "   109                                                 \n",
    "   110                                           \n",
    "   111         1          916    916.0     12.0      DELTA=np.zeros(NMAX, dtype=np.float32)\n",
    "   112         1           96     96.0      1.3      DELTA[nmin:nmax+1] = 1\n",
    "   113         1         1635   1635.0     21.4      spe_pulse_t =np.arange(0,len(DELTA) + len(spe.spe) -1,1, dtype=np.float32)\n",
    "   114         1         5003   5003.0     65.3      spe_pulse = SGN.convolve(DELTA, spe.spe)\n",
    "   115                                                 \n",
    "   116         1            4      4.0      0.1      return spe_pulse_t,spe_pulse"
   ]
  },
  {
   "cell_type": "code",
   "execution_count": 17,
   "metadata": {
    "collapsed": true
   },
   "outputs": [],
   "source": [
    "def simulate_pmt_response(event_number,pmtrd_):\n",
    "    \"\"\"\n",
    "    Sensor Response\n",
    "    Given a signal in PE (photoelectrons in bins of 1 ns) and the response function of \n",
    "    for a single photoelectron (spe) and front-end electronics (fee)\n",
    "    this function produces the PMT raw data (adc counts bins 25 ns)\n",
    "\n",
    "    pmtrd_ dataset that holds the PMT PE data for each PMT\n",
    "    pmtrd25 dataset to be created with adc counts, bins 25 ns \n",
    "    after convoluting with electronics\n",
    "    \"\"\"\n",
    "  \n",
    "    rdata = []\n",
    "\n",
    "    for j in range(pmtrd_.shape[1]):\n",
    "        logger.debug(\"-->PMT number ={}\".format(j))\n",
    "                \n",
    "        pmt = pmtrd_[event_number, j] #waveform for event event_number, PMT j\n",
    "        print(pmt.dtype)\n",
    "        \n",
    "        fee = FE.FEE(C=FP.C12[j],R= FP.R, f=FP.freq_LPF, RG=FP.V_GAIN) \n",
    "        spe = SP.SPE(pmt_gain=FP.PMT_GAIN,x_slope = 5*ns,x_flat = 1*ns)\n",
    "    \n",
    "        signal_PMT = spe.SpePulseFromVectorPE(pmt) #PMT response\n",
    "\n",
    "        #Front end response to PMT pulse (in volts)\n",
    "        signal_fee = fee.FEESignal(signal_PMT, noise_rms=FP.NOISE_FEE) \n",
    "        print(signal_fee.dtype)\n",
    "\n",
    "        #Signal out of DAQ\n",
    "        #positive signal convention\n",
    "        #signal_daq = fee.daqSignal(signal_fee, noise_rms=0) - FP.offset\n",
    "        #negative signals convention!\n",
    "\n",
    "        signal_daq = FP.offset -fee.daqSignal(signal_fee, noise_rms=0) \n",
    "    \n",
    "        rdata.append(signal_daq)\n",
    "    return np.array(rdata)\n",
    "\n",
    "\n"
   ]
  },
  {
   "cell_type": "code",
   "execution_count": 53,
   "metadata": {
    "collapsed": false
   },
   "outputs": [],
   "source": [
    "%%cython\n",
    "import numpy as np\n",
    "cimport numpy as np\n",
    "import FEParam as FP\n",
    "import SPE as SP\n",
    "from scipy import signal as SGN\n",
    "from Util import *\n",
    "\n",
    "###########################################################\n",
    "class SPE:\n",
    "\n",
    "    def __init__(self,float pmt_gain=4.5e6, float x_slope = 5, float x_flat = 1):\n",
    "        \"\"\"\n",
    "        Defines a spe \n",
    "        \"\"\"\n",
    "        self.pmt_gain=pmt_gain\n",
    "        self.x_slope=x_slope\n",
    "        self.x_flat=x_flat\n",
    "    \n",
    "        self.spe_base = self.x_slope + self.x_flat\n",
    "        self.spe_length = 2*self.x_slope + self.x_flat\n",
    "\n",
    "        self.A=self.pmt_gain*eplus/self.spe_base  #current  \n",
    "        self.V = self.A*FP.spe_i_to_v()\n",
    "        self.nADC = int(self.A*FP.spe_i_to_adc())\n",
    "\n",
    "        self.t = np.arange(0,self.spe_length,FP.time_step)\n",
    "    \n",
    "        cdef int nns,nnf\n",
    "        nns = int(self.x_slope/FP.time_step)\n",
    "        nnf = int(self.x_flat/FP.time_step)\n",
    "        rise = np.linspace(0,self.A, num=nns)\n",
    "        fall = np.linspace(self.A,0, num=nns)\n",
    "        flat = self.A*np.ones(nnf)\n",
    "        self.spe=np.concatenate((rise,flat,fall))\n",
    "         \n",
    "    def Spe(self):\n",
    "        \"\"\"\n",
    "        Returns a SPE\n",
    "        \"\"\"\n",
    "        return self.t,self.spe\n",
    "\n",
    "    def SpePulse(self,float t0, float tmax=1e+6):\n",
    "        \"\"\"\n",
    "        Returns a SPE pulse at time t0\n",
    "        with baseline extending in steps of time_step from 0 to tmax determined by DELTA_L\n",
    "        \"\"\"\n",
    "        cdef int n, nmax\n",
    "        n = int(t0/FP.time_step)\n",
    "        nmax = int(tmax/FP.time_step)\n",
    "        if n >= nmax:\n",
    "            print(\"error in SpePulse n = {} nmax = {} \".format(n, nmax))\n",
    "            sys.exit()\n",
    "\n",
    "    \n",
    "        DELTA=np.zeros(nmax)   #Dirac delta of size DELTA_L\n",
    "        DELTA[n]=1\n",
    "        step = FP.time_step/ns\n",
    "        spe_pulse_t =np.arange(0,len(DELTA) + len(self.spe) -1,step)\n",
    "        spe_pulse = SGN.convolve(DELTA, self.spe)\n",
    "    \n",
    "        return spe_pulse_t,spe_pulse\n",
    "\n",
    "    def SpePulseTrain(self,tlow,tup,tmax=1e+6*ns):\n",
    "        \"\"\"\n",
    "        Returns a train of SPE pulses between tlow and tup separated by tstep\n",
    "        \"\"\"\n",
    "        nmin = int(tlow/FP.time_step)\n",
    "        nmax = int(tup/FP.time_step)\n",
    "        NMAX = int(tmax/FP.time_step)\n",
    "        step = FP.time_step/ns\n",
    "\n",
    "        if nmax >= NMAX:\n",
    "            print(\"error in SpePulse train nmax = {} NMAX = {} \".formar(nmax, NMAX))\n",
    "            sys.exit()\n",
    "\n",
    "        DELTA=np.zeros(NMAX)\n",
    "        DELTA[nmin:nmax+1] = 1\n",
    "        spe_pulse_t =np.arange(0,len(DELTA) + len(self.spe) -1,step)\n",
    "        spe_pulse = SGN.convolve(DELTA, self.spe)\n",
    "      \n",
    "        return spe_pulse_t,spe_pulse\n",
    "\n",
    "    def SpePulseFromVectorPE(self,cnt):\n",
    "        \"\"\"\n",
    "        Returns a train of SPE pulses corresponding to vector cnt\n",
    "        \"\"\"\n",
    "    \n",
    "        spe_pulse = SGN.convolve(cnt[0:-len(self.spe)+1], self.spe)\n",
    "      \n",
    "        return spe_pulse\n",
    "\n",
    " \n",
    "def down_scale_signal_(double [:] signal, int scale):\n",
    "    \"\"\"\n",
    "    downscales the signal vector. Re-scale the energy\n",
    "    \"\"\"\n",
    "    signal_d=SGN.decimate(signal,scale,ftype='fir')\n",
    "\n",
    "    return signal_d\n",
    "\n",
    "##########################################################\n",
    "cdef class Filter:\n",
    "    \n",
    "    cdef int ftype\n",
    "    cdef float fc, fs \n",
    "\n",
    "    def __init__(self,ftype,fc, fs):\n",
    "        \"\"\"\n",
    "        Defines a Butterworth HPF (high pass frequency) or LPF (low pass frequencey) filter \n",
    "        the default sampling frequencey is 1 GHz (inverse of 1 ns time)\n",
    "        type may be equal to hig or low\n",
    "        \"\"\"\n",
    "        self.fc = fc\n",
    "        self.fs = fs\n",
    "        self.W = 2*self.fc/self.fs\n",
    "        if ftype == 1:\n",
    "            self.b, self.a = SGN.butter(1, self.W, btype='high', analog=False, output='ba')\n",
    "            self.ba, self.aa = SGN.butter(1, 2*self.fc, btype='high', analog=True, output='ba')\n",
    "        else:\n",
    "            self.b, self.a = SGN.butter(1, self.W, btype='low', analog=False, output='ba')\n",
    "            self.ba, self.aa = SGN.butter(1, 2*self.fc, btype='low', analog=True, output='ba')\n",
    "\n",
    "    def FilterCoef(self):\n",
    "        \"\"\"\n",
    "        Returns the filter coefficients\n",
    "        \"\"\"\n",
    "        return self.b,self.a\n",
    "\n",
    "    def FilterAnalogCoef(self):\n",
    "        \"\"\"\n",
    "        Returns the filter coefficients\n",
    "        \"\"\"\n",
    "        return self.ba,self.aa\n",
    "\n",
    "    \n",
    "    def FilterPulse(self,double [:] pulse):\n",
    "        \"\"\"\n",
    "        Filters a pulse\n",
    "        \"\"\"\n",
    "        return SGN.lfilter(self.b,self.a, pulse)\n",
    "\n",
    "    def FilterResponse(self):\n",
    "        \"\"\"\n",
    "        Gives the response of the filter y frequency-amplitude\n",
    "        \"\"\"\n",
    "\n",
    "        self.w, self.h = SGN.freqs(self.ba, self.aa)\n",
    "        return self.w, self.h\n",
    "\n",
    "\n",
    "\n",
    "###########################################################\n",
    "\n",
    "cdef class FEE:\n",
    "    \"\"\"\n",
    "    Emulates the effect of the PMT + FEE:\n",
    "    1) PMT gain G\n",
    "    2) A HPF, due to the FEE decoupling capacitor C and the associated series resitor R\n",
    "    3) A LPF that shapes the signal, with a frequencey f and a noise\n",
    "    4) A resitor gain RG to transform current in voltage\n",
    "    \"\"\"\n",
    "\n",
    "    cdef float PMTG, C, R, f, fn, RG\n",
    "    def __init__(self, PMTG, C, R, f, fn, RG):\n",
    "        \n",
    "        self.PMTG = PMTG\n",
    "        self.C = C\n",
    "        self.R = R\n",
    "        self.f_LPF = f\n",
    "        self.fn_LPF = fn\n",
    "        self.RG = RG\n",
    "        self.f_HPF=(1./(2*np.pi*R*C))\n",
    "        self.hpf = Filter(ftype=1,fc=self.f_HPF,fs=FP.f_sample)\n",
    "        self.lpf = Filter(ftype=0,fc=self.f_LPF,fs=FP.f_sample)\n",
    "        self.hpfr = Filter(ftype=1,fc=self.f_HPF,fs=FP.f_sample_DAQ)\n",
    "\n",
    "\n",
    "    def Filter(self,double [:] signal):\n",
    "        \"\"\"\n",
    "        for an input signal in pes, returns the effect of the electronics\n",
    "        \"\"\"\n",
    "\n",
    "        signal_hp = self.hpf.FilterPulse(signal)\n",
    "        signal_hp_lp = self.lpf.FilterPulse(signal_hp)\n",
    "        return signal_hp, signal_hp_lp\n",
    "    \n",
    "    def FilterInverse(self, double [:] signal):\n",
    "        \"\"\"\n",
    "        Returns the inverse of the HPF filter in bins of 1ns\n",
    "        \"\"\"\n",
    "        b_HPr,a_HPr = self.hpf.FilterCoef()\n",
    "        h_t_inv = SGN.lfilter(a_HPr,b_HPr, signal)\n",
    "        return h_t_inv\n",
    "\n",
    "    def FilterInverseDAQ(self, double[:] signal):\n",
    "        \"\"\"\n",
    "        Returns the inverse of the HPF filter in bins of time_DAQ (25 ns)\n",
    "        \"\"\"\n",
    "        b_HPr,a_HPr = self.hpfr.FilterCoef()\n",
    "        h_t_inv = SGN.lfilter(a_HPr,b_HPr, signal)\n",
    "        return h_t_inv\n",
    "\n",
    "    def FEESignal(self,double [:] signal_current, float noise_rms=0.3):\n",
    "        \"\"\"\n",
    "        filters the input signal according to the filters and transforms it in volts\n",
    "        \"\"\"\n",
    "        signal_hp, signal_hp_lp = self.Filter(signal_current)\n",
    "        noise = self.FEENoise(len(signal_current), noise_rms)\n",
    "        return signal_hp_lp*self.RG + noise\n",
    "    \n",
    "#     def DAQSignal(self,signal_t, signal_fee, noise_rms=0.3):\n",
    "#         \"\"\"\n",
    "#         downscale the signal after the FEE\n",
    "#         \"\"\"\n",
    "\n",
    "#         signal_t_d, signal_d = DownScaleSignal(signal_t, signal_fee, int(FP.time_DAQ))\n",
    "#         signal_daq = signal_d/FP.voltsToAdc\n",
    "#         noise = self.FEENoise(len(signal_daq), noise_rms/FP.voltsToAdc)\n",
    "#         return signal_t_d, signal_daq + noise\n",
    "\n",
    "    def daqSignal(self, double [:] signal_fee, float noise_rms=FP.NOISE_FEE_rms):\n",
    "        \"\"\"\n",
    "        downscale the signal after the FEE\n",
    "        \"\"\"\n",
    "        signal_d = down_scale_signal_(signal_fee, int(FP.time_DAQ))\n",
    "        signal_daq = signal_d/FP.voltsToAdc\n",
    "        noise = self.FEENoise(len(signal_daq), noise_rms/FP.voltsToAdc)\n",
    "        return signal_daq + noise\n",
    "\n",
    "    def FEENoise(self, int signal_length, float noise_rms=FP.NOISE_FEE_rms):\n",
    "        \"\"\"\n",
    "        filters the input signal according to the filters and transforms it in volts\n",
    "        \"\"\"\n",
    "        if noise_rms > 0:\n",
    "            noise = np.random.normal(0, noise_rms, signal_length)\n",
    "            return noise\n",
    "        else:\n",
    "            return np.zeros(signal_length)\n",
    "\n",
    "    def VSignal(self,double [:] signal_current):\n",
    "        \"\"\"\n",
    "        Takes a current input signal and transforms it to volts\n",
    "         \"\"\"\n",
    "        cdef int i;\n",
    "        for i in range(len(signal_current)):\n",
    "            signal_current[i] = signal_current[i]*self.RG\n",
    "            \n",
    "        return signal_current\n",
    "        \n",
    "    def InverseSignal(self, double [:] signal_t):\n",
    "        \"\"\"\n",
    "        Computes the inverse signal for deconvolution \n",
    "        \"\"\"\n",
    "        pulse = np.zeros(len(signal_t))\n",
    "        pulse[0]=1\n",
    "        signal_fee_inv = self.FilterInverse(pulse)\n",
    "        return signal_fee_inv\n",
    "\n",
    "    def InverseSignalDAQ(self, double[:] signal_t):\n",
    "        \"\"\"\n",
    "        Computes the inverse signal in bins of DAQ\n",
    "        \"\"\"\n",
    "        pulse = np.zeros(len(signal_t))\n",
    "        pulse[0]=1\n",
    "        signal_daq_inv = self.FilterInverseDAQ(pulse)\n",
    "        return signal_daq_inv\n",
    "\n",
    "\n",
    "\n",
    "cpdef simulate_pmt_response_cy(int event_number,np.ndarray[np.float32_t, ndim=1] C12, \n",
    "                             float R, float freq_LPF, float V_GAIN, pmtrd_):\n",
    "    \"\"\"\n",
    "    Sensor Response\n",
    "    Given a signal in PE (photoelectrons in bins of 1 ns) and the response function of \n",
    "    for a single photoelectron (spe) and front-end electronics (fee)\n",
    "    this function produces the PMT raw data (adc counts bins 25 ns)\n",
    "\n",
    "    pmtrd_ dataset that holds the PMT PE data for each PMT\n",
    "    pmtrd25 dataset to be created with adc counts, bins 25 ns \n",
    "    after convoluting with electronics\n",
    "    \"\"\"\n",
    "  \n",
    "    cdef list rdata = []\n",
    "    cdef int j\n",
    "    \n",
    "    cdef np.ndarray[np.float32_t, ndim=1] pmt=np.empty(pmtrd_.shape[2], dtype=np.float32)\n",
    "    for j in range(pmtrd_.shape[1]):\n",
    "       \n",
    "        pmt = pmtrd_[event_number, j] #waveform for event event_number, PMT j\n",
    "        \n",
    "        fee = FEE(C=FP.C12[j],R= FP.R, f=FP.freq_LPF, RG=FP.V_GAIN) \n",
    "        spe = SP.SPE(pmt_gain=FP.PMT_GAIN,x_slope = 5,x_flat = 1)\n",
    "        \n",
    "        signal_PMT = spe.SpePulseFromVectorPE(pmt) #PMT response\n",
    "\n",
    "        #Front end response to PMT pulse (in volts)\n",
    "       \n",
    "        signal_fee = fee.FEESignal(signal_PMT, noise_rms=FP.NOISE_FEE) \n",
    "\n",
    "        #Signal out of DAQ\n",
    "        #positive signal convention\n",
    "        #signal_daq = fee.daqSignal(signal_fee, noise_rms=0) - FP.offset\n",
    "        #negative signals convention!\n",
    "\n",
    "        signal_daq = FP.offset -fee.daqSignal(signal_fee, noise_rms=0) \n",
    "    \n",
    "        rdata.append(signal_daq)\n",
    "    return np.array(rdata)\n",
    "\n",
    "\n",
    "\n"
   ]
  },
  {
   "cell_type": "code",
   "execution_count": 9,
   "metadata": {
    "collapsed": false
   },
   "outputs": [],
   "source": [
    "h5f =tables.open_file('/Users/jjgomezcadenas/Documents/Development/NEXT/data/test/nexus_NEW_NEXT_v0_08_00_Kr_ACTIVE_5bar_1000kev_0.next_10000.root.h5')"
   ]
  },
  {
   "cell_type": "code",
   "execution_count": 15,
   "metadata": {
    "collapsed": false
   },
   "outputs": [
    {
     "data": {
      "text/plain": [
       "File(filename=/Users/jjgomezcadenas/Documents/Development/NEXT/data/test/nexus_NEW_NEXT_v0_08_00_Kr_ACTIVE_5bar_1000kev_0.next_10000.root.h5, title='', mode='r', root_uep='/', filters=Filters(complevel=0, shuffle=False, fletcher32=False, least_significant_digit=None))\n",
       "/ (RootGroup) ''\n",
       "/pmtrd (EArray(1000, 12, 1200000), zlib(1)) ''\n",
       "  atom := Float32Atom(shape=(), dflt=0.0)\n",
       "  maindim := 0\n",
       "  flavor := 'numpy'\n",
       "  byteorder := 'little'\n",
       "  chunkshape := (1, 1, 32768)\n",
       "/sipmrd (EArray(1000, 1789, 1200), zlib(1)) ''\n",
       "  atom := Float32Atom(shape=(), dflt=0.0)\n",
       "  maindim := 0\n",
       "  flavor := 'numpy'\n",
       "  byteorder := 'little'\n",
       "  chunkshape := (1, 50, 1200)\n",
       "/Detector (Group) ''\n",
       "/Detector/DetectorGeometry (Table(1,)) ''\n",
       "  description := {\n",
       "  \"x_det\": Float32Col(shape=(2,), dflt=0.0, pos=0),\n",
       "  \"y_det\": Float32Col(shape=(2,), dflt=0.0, pos=1),\n",
       "  \"z_det\": Float32Col(shape=(2,), dflt=0.0, pos=2),\n",
       "  \"r_det\": Float32Col(shape=(), dflt=0.0, pos=3)}\n",
       "  byteorder := 'little'\n",
       "  chunkshape := (2340,)\n",
       "/MC (Group) ''\n",
       "/MC/MCTracks (Table(8159,), zlib(1)) ''\n",
       "  description := {\n",
       "  \"event_indx\": Int32Col(shape=(), dflt=0, pos=0),\n",
       "  \"mctrk_indx\": Int32Col(shape=(), dflt=0, pos=1),\n",
       "  \"particle_name\": StringCol(itemsize=10, shape=(), dflt='', pos=2),\n",
       "  \"pdg_code\": Int32Col(shape=(), dflt=0, pos=3),\n",
       "  \"initial_vertex\": Float32Col(shape=(3,), dflt=0.0, pos=4),\n",
       "  \"final_vertex\": Float32Col(shape=(3,), dflt=0.0, pos=5),\n",
       "  \"momentum\": Float32Col(shape=(3,), dflt=0.0, pos=6),\n",
       "  \"energy\": Float32Col(shape=(), dflt=0.0, pos=7),\n",
       "  \"nof_hits\": Int32Col(shape=(), dflt=0, pos=8),\n",
       "  \"hit_indx\": Int32Col(shape=(), dflt=0, pos=9),\n",
       "  \"hit_position\": Float32Col(shape=(3,), dflt=0.0, pos=10),\n",
       "  \"hit_time\": Float32Col(shape=(), dflt=0.0, pos=11),\n",
       "  \"hit_energy\": Float32Col(shape=(), dflt=0.0, pos=12)}\n",
       "  byteorder := 'little'\n",
       "  chunkshape := (1,)\n",
       "/Sensors (Group) ''\n",
       "/Sensors/DataPMT (Table(12,)) ''\n",
       "  description := {\n",
       "  \"channel\": Int32Col(shape=(), dflt=0, pos=0),\n",
       "  \"active\": Int32Col(shape=(), dflt=0, pos=1),\n",
       "  \"position\": Float32Col(shape=(3,), dflt=0.0, pos=2),\n",
       "  \"gain\": Float64Col(shape=(), dflt=0.0, pos=3),\n",
       "  \"adc_to_pes\": Float32Col(shape=(), dflt=0.0, pos=4)}\n",
       "  byteorder := 'little'\n",
       "  chunkshape := (2048,)\n",
       "/Sensors/DataSiPM (Table(1789,)) ''\n",
       "  description := {\n",
       "  \"channel\": Int32Col(shape=(), dflt=0, pos=0),\n",
       "  \"active\": Int32Col(shape=(), dflt=0, pos=1),\n",
       "  \"position\": Float32Col(shape=(3,), dflt=0.0, pos=2),\n",
       "  \"gain\": Float64Col(shape=(), dflt=0.0, pos=3),\n",
       "  \"adc_to_pes\": Float32Col(shape=(), dflt=0.0, pos=4)}\n",
       "  byteorder := 'little'\n",
       "  chunkshape := (2048,)"
      ]
     },
     "execution_count": 15,
     "metadata": {},
     "output_type": "execute_result"
    }
   ],
   "source": [
    "h5f"
   ]
  },
  {
   "cell_type": "code",
   "execution_count": null,
   "metadata": {
    "collapsed": true
   },
   "outputs": [],
   "source": []
  },
  {
   "cell_type": "code",
   "execution_count": 10,
   "metadata": {
    "collapsed": true
   },
   "outputs": [],
   "source": [
    "pmtrd = h5f.root.pmtrd"
   ]
  },
  {
   "cell_type": "code",
   "execution_count": 11,
   "metadata": {
    "collapsed": true
   },
   "outputs": [],
   "source": [
    "pmt = pmtrd[0,0]"
   ]
  },
  {
   "cell_type": "code",
   "execution_count": 12,
   "metadata": {
    "collapsed": false
   },
   "outputs": [
    {
     "data": {
      "text/plain": [
       "dtype('float32')"
      ]
     },
     "execution_count": 12,
     "metadata": {},
     "output_type": "execute_result"
    }
   ],
   "source": [
    "pmt.dtype"
   ]
  },
  {
   "cell_type": "code",
   "execution_count": 35,
   "metadata": {
    "collapsed": false
   },
   "outputs": [
    {
     "data": {
      "text/plain": [
       "(1000, 12, 1200000)"
      ]
     },
     "execution_count": 35,
     "metadata": {},
     "output_type": "execute_result"
    }
   ],
   "source": [
    "pmtrd.shape"
   ]
  },
  {
   "cell_type": "code",
   "execution_count": 36,
   "metadata": {
    "collapsed": false
   },
   "outputs": [
    {
     "data": {
      "text/plain": [
       "4.0"
      ]
     },
     "execution_count": 36,
     "metadata": {},
     "output_type": "execute_result"
    }
   ],
   "source": [
    "np.amax(pmt)"
   ]
  },
  {
   "cell_type": "code",
   "execution_count": null,
   "metadata": {
    "collapsed": true
   },
   "outputs": [],
   "source": []
  },
  {
   "cell_type": "code",
   "execution_count": 33,
   "metadata": {
    "collapsed": true
   },
   "outputs": [],
   "source": [
    "ar = simulate_pmt_response_cy(0,pmtrd)"
   ]
  },
  {
   "cell_type": "code",
   "execution_count": null,
   "metadata": {
    "collapsed": true
   },
   "outputs": [],
   "source": []
  },
  {
   "cell_type": "code",
   "execution_count": null,
   "metadata": {
    "collapsed": false
   },
   "outputs": [],
   "source": [
    "%lprun -f simulate_pmt_response simulate_pmt_response(0,pmtrd)"
   ]
  },
  {
   "cell_type": "raw",
   "metadata": {},
   "source": [
    "Timer unit: 1e-06 s\n",
    "\n",
    "Total time: 1.80098 s\n",
    "File: <ipython-input-17-03d81ab79e6e>\n",
    "Function: simulate_pmt_response at line 1\n",
    "\n",
    "Line #      Hits         Time  Per Hit   % Time  Line Contents\n",
    "==============================================================\n",
    "     1                                           def simulate_pmt_response(event_number,pmtrd_):\n",
    "     2                                               \"\"\"\n",
    "     3                                               Sensor Response\n",
    "     4                                               Given a signal in PE (photoelectrons in bins of 1 ns) and the response function of \n",
    "     5                                               for a single photoelectron (spe) and front-end electronics (fee)\n",
    "     6                                               this function produces the PMT raw data (adc counts bins 25 ns)\n",
    "     7                                           \n",
    "     8                                               pmtrd_ dataset that holds the PMT PE data for each PMT\n",
    "     9                                               pmtrd25 dataset to be created with adc counts, bins 25 ns \n",
    "    10                                               after convoluting with electronics\n",
    "    11                                               \"\"\"\n",
    "    12                                             \n",
    "    13         1            1      1.0      0.0      rdata = []\n",
    "    14                                           \n",
    "    15        13           20      1.5      0.0      for j in range(pmtrd_.shape[1]):\n",
    "    16        12          157     13.1      0.0          logger.debug(\"-->PMT number ={}\".format(j))\n",
    "    17                                                           \n",
    "    18        12       310624  25885.3     17.2          pmt = pmtrd_[event_number, j] #waveform for event event_number, PMT j\n",
    "    19                                                   \n",
    "    20        12        22561   1880.1      1.3          fee = FEE(C=FP.C12[j],R= FP.R, f=FP.freq_LPF, RG=FP.V_GAIN) \n",
    "    21        12          869     72.4      0.0          spe = SP.SPE(pmt_gain=FP.PMT_GAIN,x_slope = 5*ns,x_flat = 1*ns)\n",
    "    22                                               \n",
    "    23        12       141411  11784.2      7.9          signal_PMT = spe.SpePulseFromVectorPE(pmt) #PMT response\n",
    "    24                                           \n",
    "    25                                                   #Front end response to PMT pulse (in volts)\n",
    "    26        12       786090  65507.5     43.6          signal_fee = fee.FEESignal(signal_PMT, noise_rms=FP.NOISE_FEE) \n",
    "    27                                           \n",
    "    28                                                   #Signal out of DAQ\n",
    "    29                                                   #positive signal convention\n",
    "    30                                                   #signal_daq = fee.daqSignal(signal_fee, noise_rms=0) - FP.offset\n",
    "    31                                                   #negative signals convention!\n",
    "    32                                           \n",
    "    33        12       538482  44873.5     29.9          signal_daq = FP.offset -fee.daqSignal(signal_fee, noise_rms=0) \n",
    "    34                                               \n",
    "    35        12           48      4.0      0.0          rdata.append(signal_daq)\n",
    "    36         1          715    715.0      0.0      return np.array(rdata)"
   ]
  },
  {
   "cell_type": "code",
   "execution_count": null,
   "metadata": {
    "collapsed": false
   },
   "outputs": [],
   "source": [
    "%prun -l ipython-input-5-4f40c51d5c72 simulate_pmt_response(0,pmtrd)"
   ]
  },
  {
   "cell_type": "markdown",
   "metadata": {},
   "source": [
    " 15269 function calls in 1.845 seconds\n",
    "\n",
    "   Ordered by: internal time\n",
    "   List reduced from 109 to 8 due to restriction <u'ipython-input-5-4f40c51d5c72'>\n",
    "\n",
    "   ncalls  tottime  percall  cumtime  percall filename:lineno(function)\n",
    "       12    0.087    0.007    0.763    0.064 <ipython-input-5-4f40c51d5c72>:157(FEESignal)\n",
    "       12    0.011    0.001    0.534    0.045 <ipython-input-5-4f40c51d5c72>:177(daqSignal)\n",
    "       36    0.000    0.000    0.019    0.001 <ipython-input-5-4f40c51d5c72>:56(__init__)\n",
    "       12    0.000    0.000    0.020    0.002 <ipython-input-5-4f40c51d5c72>:117(__init__)\n",
    "       24    0.000    0.000    0.180    0.008 <ipython-input-5-4f40c51d5c72>:81(FilterPulse)\n",
    "       24    0.000    0.000    0.495    0.021 <ipython-input-5-4f40c51d5c72>:188(FEENoise)\n",
    "       12    0.000    0.000    0.181    0.015 <ipython-input-5-4f40c51d5c72>:132(Filter)\n",
    "       12    0.000    0.000    0.523    0.044 <ipython-input-5-4f40c51d5c72>:22(down_scale_signal_)"
   ]
  },
  {
   "cell_type": "code",
   "execution_count": null,
   "metadata": {
    "collapsed": false
   },
   "outputs": [],
   "source": [
    "simulate_pmt_response(0,pmtrd)"
   ]
  },
  {
   "cell_type": "code",
   "execution_count": 56,
   "metadata": {
    "collapsed": false
   },
   "outputs": [
    {
     "ename": "ValueError",
     "evalue": "Buffer dtype mismatch, expected 'float32_t' but got 'double'",
     "output_type": "error",
     "traceback": [
      "\u001b[0;31m---------------------------------------------------------------------------\u001b[0m",
      "\u001b[0;31mValueError\u001b[0m                                Traceback (most recent call last)",
      "\u001b[0;32m<ipython-input-56-32277d595796>\u001b[0m in \u001b[0;36m<module>\u001b[0;34m()\u001b[0m\n\u001b[0;32m----> 1\u001b[0;31m \u001b[0mget_ipython\u001b[0m\u001b[0;34m(\u001b[0m\u001b[0;34m)\u001b[0m\u001b[0;34m.\u001b[0m\u001b[0mmagic\u001b[0m\u001b[0;34m(\u001b[0m\u001b[0;34mu'timeit simulate_pmt_response_cy(0,FP.C12,FP.R, FP.freq_LPF, FP.V_GAIN, pmtrd)'\u001b[0m\u001b[0;34m)\u001b[0m\u001b[0;34m\u001b[0m\u001b[0m\n\u001b[0m",
      "\u001b[0;32m/Users/jjgomezcadenas/anaconda2/lib/python2.7/site-packages/IPython/core/interactiveshell.pyc\u001b[0m in \u001b[0;36mmagic\u001b[0;34m(self, arg_s)\u001b[0m\n\u001b[1;32m   2161\u001b[0m         \u001b[0mmagic_name\u001b[0m\u001b[0;34m,\u001b[0m \u001b[0m_\u001b[0m\u001b[0;34m,\u001b[0m \u001b[0mmagic_arg_s\u001b[0m \u001b[0;34m=\u001b[0m \u001b[0marg_s\u001b[0m\u001b[0;34m.\u001b[0m\u001b[0mpartition\u001b[0m\u001b[0;34m(\u001b[0m\u001b[0;34m' '\u001b[0m\u001b[0;34m)\u001b[0m\u001b[0;34m\u001b[0m\u001b[0m\n\u001b[1;32m   2162\u001b[0m         \u001b[0mmagic_name\u001b[0m \u001b[0;34m=\u001b[0m \u001b[0mmagic_name\u001b[0m\u001b[0;34m.\u001b[0m\u001b[0mlstrip\u001b[0m\u001b[0;34m(\u001b[0m\u001b[0mprefilter\u001b[0m\u001b[0;34m.\u001b[0m\u001b[0mESC_MAGIC\u001b[0m\u001b[0;34m)\u001b[0m\u001b[0;34m\u001b[0m\u001b[0m\n\u001b[0;32m-> 2163\u001b[0;31m         \u001b[0;32mreturn\u001b[0m \u001b[0mself\u001b[0m\u001b[0;34m.\u001b[0m\u001b[0mrun_line_magic\u001b[0m\u001b[0;34m(\u001b[0m\u001b[0mmagic_name\u001b[0m\u001b[0;34m,\u001b[0m \u001b[0mmagic_arg_s\u001b[0m\u001b[0;34m)\u001b[0m\u001b[0;34m\u001b[0m\u001b[0m\n\u001b[0m\u001b[1;32m   2164\u001b[0m \u001b[0;34m\u001b[0m\u001b[0m\n\u001b[1;32m   2165\u001b[0m     \u001b[0;31m#-------------------------------------------------------------------------\u001b[0m\u001b[0;34m\u001b[0m\u001b[0;34m\u001b[0m\u001b[0m\n",
      "\u001b[0;32m/Users/jjgomezcadenas/anaconda2/lib/python2.7/site-packages/IPython/core/interactiveshell.pyc\u001b[0m in \u001b[0;36mrun_line_magic\u001b[0;34m(self, magic_name, line)\u001b[0m\n\u001b[1;32m   2082\u001b[0m                 \u001b[0mkwargs\u001b[0m\u001b[0;34m[\u001b[0m\u001b[0;34m'local_ns'\u001b[0m\u001b[0;34m]\u001b[0m \u001b[0;34m=\u001b[0m \u001b[0msys\u001b[0m\u001b[0;34m.\u001b[0m\u001b[0m_getframe\u001b[0m\u001b[0;34m(\u001b[0m\u001b[0mstack_depth\u001b[0m\u001b[0;34m)\u001b[0m\u001b[0;34m.\u001b[0m\u001b[0mf_locals\u001b[0m\u001b[0;34m\u001b[0m\u001b[0m\n\u001b[1;32m   2083\u001b[0m             \u001b[0;32mwith\u001b[0m \u001b[0mself\u001b[0m\u001b[0;34m.\u001b[0m\u001b[0mbuiltin_trap\u001b[0m\u001b[0;34m:\u001b[0m\u001b[0;34m\u001b[0m\u001b[0m\n\u001b[0;32m-> 2084\u001b[0;31m                 \u001b[0mresult\u001b[0m \u001b[0;34m=\u001b[0m \u001b[0mfn\u001b[0m\u001b[0;34m(\u001b[0m\u001b[0;34m*\u001b[0m\u001b[0margs\u001b[0m\u001b[0;34m,\u001b[0m\u001b[0;34m**\u001b[0m\u001b[0mkwargs\u001b[0m\u001b[0;34m)\u001b[0m\u001b[0;34m\u001b[0m\u001b[0m\n\u001b[0m\u001b[1;32m   2085\u001b[0m             \u001b[0;32mreturn\u001b[0m \u001b[0mresult\u001b[0m\u001b[0;34m\u001b[0m\u001b[0m\n\u001b[1;32m   2086\u001b[0m \u001b[0;34m\u001b[0m\u001b[0m\n",
      "\u001b[0;32m<decorator-gen-59>\u001b[0m in \u001b[0;36mtimeit\u001b[0;34m(self, line, cell)\u001b[0m\n",
      "\u001b[0;32m/Users/jjgomezcadenas/anaconda2/lib/python2.7/site-packages/IPython/core/magic.pyc\u001b[0m in \u001b[0;36m<lambda>\u001b[0;34m(f, *a, **k)\u001b[0m\n\u001b[1;32m    191\u001b[0m     \u001b[0;31m# but it's overkill for just that one bit of state.\u001b[0m\u001b[0;34m\u001b[0m\u001b[0;34m\u001b[0m\u001b[0m\n\u001b[1;32m    192\u001b[0m     \u001b[0;32mdef\u001b[0m \u001b[0mmagic_deco\u001b[0m\u001b[0;34m(\u001b[0m\u001b[0marg\u001b[0m\u001b[0;34m)\u001b[0m\u001b[0;34m:\u001b[0m\u001b[0;34m\u001b[0m\u001b[0m\n\u001b[0;32m--> 193\u001b[0;31m         \u001b[0mcall\u001b[0m \u001b[0;34m=\u001b[0m \u001b[0;32mlambda\u001b[0m \u001b[0mf\u001b[0m\u001b[0;34m,\u001b[0m \u001b[0;34m*\u001b[0m\u001b[0ma\u001b[0m\u001b[0;34m,\u001b[0m \u001b[0;34m**\u001b[0m\u001b[0mk\u001b[0m\u001b[0;34m:\u001b[0m \u001b[0mf\u001b[0m\u001b[0;34m(\u001b[0m\u001b[0;34m*\u001b[0m\u001b[0ma\u001b[0m\u001b[0;34m,\u001b[0m \u001b[0;34m**\u001b[0m\u001b[0mk\u001b[0m\u001b[0;34m)\u001b[0m\u001b[0;34m\u001b[0m\u001b[0m\n\u001b[0m\u001b[1;32m    194\u001b[0m \u001b[0;34m\u001b[0m\u001b[0m\n\u001b[1;32m    195\u001b[0m         \u001b[0;32mif\u001b[0m \u001b[0mcallable\u001b[0m\u001b[0;34m(\u001b[0m\u001b[0marg\u001b[0m\u001b[0;34m)\u001b[0m\u001b[0;34m:\u001b[0m\u001b[0;34m\u001b[0m\u001b[0m\n",
      "\u001b[0;32m/Users/jjgomezcadenas/anaconda2/lib/python2.7/site-packages/IPython/core/magics/execution.pyc\u001b[0m in \u001b[0;36mtimeit\u001b[0;34m(self, line, cell)\u001b[0m\n\u001b[1;32m   1039\u001b[0m             \u001b[0mnumber\u001b[0m \u001b[0;34m=\u001b[0m \u001b[0;36m1\u001b[0m\u001b[0;34m\u001b[0m\u001b[0m\n\u001b[1;32m   1040\u001b[0m             \u001b[0;32mfor\u001b[0m \u001b[0m_\u001b[0m \u001b[0;32min\u001b[0m \u001b[0mrange\u001b[0m\u001b[0;34m(\u001b[0m\u001b[0;36m1\u001b[0m\u001b[0;34m,\u001b[0m \u001b[0;36m10\u001b[0m\u001b[0;34m)\u001b[0m\u001b[0;34m:\u001b[0m\u001b[0;34m\u001b[0m\u001b[0m\n\u001b[0;32m-> 1041\u001b[0;31m                 \u001b[0mtime_number\u001b[0m \u001b[0;34m=\u001b[0m \u001b[0mtimer\u001b[0m\u001b[0;34m.\u001b[0m\u001b[0mtimeit\u001b[0m\u001b[0;34m(\u001b[0m\u001b[0mnumber\u001b[0m\u001b[0;34m)\u001b[0m\u001b[0;34m\u001b[0m\u001b[0m\n\u001b[0m\u001b[1;32m   1042\u001b[0m                 \u001b[0mworst_tuning\u001b[0m \u001b[0;34m=\u001b[0m \u001b[0mmax\u001b[0m\u001b[0;34m(\u001b[0m\u001b[0mworst_tuning\u001b[0m\u001b[0;34m,\u001b[0m \u001b[0mtime_number\u001b[0m \u001b[0;34m/\u001b[0m \u001b[0mnumber\u001b[0m\u001b[0;34m)\u001b[0m\u001b[0;34m\u001b[0m\u001b[0m\n\u001b[1;32m   1043\u001b[0m                 \u001b[0;32mif\u001b[0m \u001b[0mtime_number\u001b[0m \u001b[0;34m>=\u001b[0m \u001b[0;36m0.2\u001b[0m\u001b[0;34m:\u001b[0m\u001b[0;34m\u001b[0m\u001b[0m\n",
      "\u001b[0;32m/Users/jjgomezcadenas/anaconda2/lib/python2.7/site-packages/IPython/core/magics/execution.pyc\u001b[0m in \u001b[0;36mtimeit\u001b[0;34m(self, number)\u001b[0m\n\u001b[1;32m    135\u001b[0m         \u001b[0mgc\u001b[0m\u001b[0;34m.\u001b[0m\u001b[0mdisable\u001b[0m\u001b[0;34m(\u001b[0m\u001b[0;34m)\u001b[0m\u001b[0;34m\u001b[0m\u001b[0m\n\u001b[1;32m    136\u001b[0m         \u001b[0;32mtry\u001b[0m\u001b[0;34m:\u001b[0m\u001b[0;34m\u001b[0m\u001b[0m\n\u001b[0;32m--> 137\u001b[0;31m             \u001b[0mtiming\u001b[0m \u001b[0;34m=\u001b[0m \u001b[0mself\u001b[0m\u001b[0;34m.\u001b[0m\u001b[0minner\u001b[0m\u001b[0;34m(\u001b[0m\u001b[0mit\u001b[0m\u001b[0;34m,\u001b[0m \u001b[0mself\u001b[0m\u001b[0;34m.\u001b[0m\u001b[0mtimer\u001b[0m\u001b[0;34m)\u001b[0m\u001b[0;34m\u001b[0m\u001b[0m\n\u001b[0m\u001b[1;32m    138\u001b[0m         \u001b[0;32mfinally\u001b[0m\u001b[0;34m:\u001b[0m\u001b[0;34m\u001b[0m\u001b[0m\n\u001b[1;32m    139\u001b[0m             \u001b[0;32mif\u001b[0m \u001b[0mgcold\u001b[0m\u001b[0;34m:\u001b[0m\u001b[0;34m\u001b[0m\u001b[0m\n",
      "\u001b[0;32m<magic-timeit>\u001b[0m in \u001b[0;36minner\u001b[0;34m(_it, _timer)\u001b[0m\n",
      "\u001b[0;32m_cython_magic_c2652d1657579abfd470979406996e56.pyx\u001b[0m in \u001b[0;36m_cython_magic_c2652d1657579abfd470979406996e56.simulate_pmt_response_cy (/Users/jjgomezcadenas/.ipython/cython/_cython_magic_c2652d1657579abfd470979406996e56.c:8130)\u001b[0;34m()\u001b[0m\n",
      "\u001b[0;31mValueError\u001b[0m: Buffer dtype mismatch, expected 'float32_t' but got 'double'"
     ]
    }
   ],
   "source": [
    "%timeit simulate_pmt_response_cy(0,FP.C12,FP.R, FP.freq_LPF, FP.V_GAIN, pmtrd)"
   ]
  },
  {
   "cell_type": "code",
   "execution_count": null,
   "metadata": {
    "collapsed": true
   },
   "outputs": [],
   "source": []
  }
 ],
 "metadata": {
  "anaconda-cloud": {},
  "kernelspec": {
   "display_name": "Python [Root]",
   "language": "python",
   "name": "Python [Root]"
  },
  "language_info": {
   "codemirror_mode": {
    "name": "ipython",
    "version": 2
   },
   "file_extension": ".py",
   "mimetype": "text/x-python",
   "name": "python",
   "nbconvert_exporter": "python",
   "pygments_lexer": "ipython2",
   "version": "2.7.12"
  }
 },
 "nbformat": 4,
 "nbformat_minor": 0
}
